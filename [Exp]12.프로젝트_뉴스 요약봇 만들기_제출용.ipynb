{
 "cells": [
  {
   "cell_type": "markdown",
   "id": "28f8b3dd",
   "metadata": {},
   "source": [
    "## 12-13. 프로젝트: 뉴스기사 요약해보기\n",
    "새로운 데이터셋에 대해서 추상적 요약과 추출적 요약을 모두 해보는 시간을 가져봐요.\n",
    "\n",
    "먼저 주요 라이브러리 버전을 확인해 보죠."
   ]
  },
  {
   "cell_type": "code",
   "execution_count": 1,
   "id": "4b95ba4d",
   "metadata": {},
   "outputs": [
    {
     "name": "stderr",
     "output_type": "stream",
     "text": [
      "[nltk_data] Downloading package stopwords to /aiffel/nltk_data...\n",
      "[nltk_data]   Package stopwords is already up-to-date!\n"
     ]
    },
    {
     "name": "stdout",
     "output_type": "stream",
     "text": [
      "=3\n",
      "3.6.5\n",
      "2.6.0\n",
      "1.2.0\n"
     ]
    }
   ],
   "source": [
    "import nltk\n",
    "nltk.download('stopwords')\n",
    "\n",
    "from importlib.metadata import version\n",
    "import tensorflow\n",
    "import summa\n",
    "import pandas as pd\n",
    "import numpy as np\n",
    "import os,sys,copy,time\n",
    "import re\n",
    "import matplotlib.pyplot as plt\n",
    "from nltk.corpus import stopwords\n",
    "from bs4 import BeautifulSoup \n",
    "from tensorflow.keras.preprocessing.text import Tokenizer \n",
    "from tensorflow.keras.preprocessing.sequence import pad_sequences\n",
    "import urllib.request\n",
    "import warnings\n",
    "warnings.filterwarnings(\"ignore\", category=UserWarning, module='bs4')\n",
    "\n",
    "print('=3')\n",
    "print(nltk.__version__)\n",
    "print(tensorflow.__version__)\n",
    "print(version('summa'))"
   ]
  },
  {
   "cell_type": "markdown",
   "id": "2930a274",
   "metadata": {},
   "source": [
    "### Step 1. 데이터 수집하기\n",
    "데이터는 아래 링크에 있는 뉴스 기사 데이터(news_summary_more.csv)를 사용하세요.\n",
    "\n",
    "sunnysai12345/News_Summary: https://github.com/sunnysai12345/News_Summary\n",
    "아래의 코드로 데이터를 다운로드할 수 있어요."
   ]
  },
  {
   "cell_type": "code",
   "execution_count": 2,
   "id": "2ba6397a",
   "metadata": {},
   "outputs": [],
   "source": [
    "urllib.request.urlretrieve(\"https://raw.githubusercontent.com/sunnysai12345/News_Summary/master/news_summary_more.csv\", filename=\"news_summary_more.csv\")\n",
    "data = pd.read_csv('news_summary_more.csv', encoding='iso-8859-1')"
   ]
  },
  {
   "cell_type": "code",
   "execution_count": 3,
   "id": "bc378679",
   "metadata": {},
   "outputs": [
    {
     "data": {
      "text/html": [
       "<div>\n",
       "<style scoped>\n",
       "    .dataframe tbody tr th:only-of-type {\n",
       "        vertical-align: middle;\n",
       "    }\n",
       "\n",
       "    .dataframe tbody tr th {\n",
       "        vertical-align: top;\n",
       "    }\n",
       "\n",
       "    .dataframe thead th {\n",
       "        text-align: right;\n",
       "    }\n",
       "</style>\n",
       "<table border=\"1\" class=\"dataframe\">\n",
       "  <thead>\n",
       "    <tr style=\"text-align: right;\">\n",
       "      <th></th>\n",
       "      <th>headlines</th>\n",
       "      <th>text</th>\n",
       "    </tr>\n",
       "  </thead>\n",
       "  <tbody>\n",
       "    <tr>\n",
       "      <th>27012</th>\n",
       "      <td>DonÃ¢ÂÂt end marriages over small issues: Go...</td>\n",
       "      <td>Goa Governor Mridula Sinha on Saturday adminis...</td>\n",
       "    </tr>\n",
       "    <tr>\n",
       "      <th>12774</th>\n",
       "      <td>Not ashamed that I worked as a welder: Pak's M...</td>\n",
       "      <td>Pakistan pacer Mohammad Abbas, who won the Man...</td>\n",
       "    </tr>\n",
       "    <tr>\n",
       "      <th>39608</th>\n",
       "      <td>Antarctica also witnesses earthquakes, confirm...</td>\n",
       "      <td>Long thought to be silent because of ice cover...</td>\n",
       "    </tr>\n",
       "    <tr>\n",
       "      <th>94994</th>\n",
       "      <td>Pepsi faces flak for new ad featuring Kendall ...</td>\n",
       "      <td>Pepsi has been criticised for 'trivialising' p...</td>\n",
       "    </tr>\n",
       "    <tr>\n",
       "      <th>59927</th>\n",
       "      <td>Govt announces reward for photos of illegally ...</td>\n",
       "      <td>Transport Minister Nitin Gadkari has asked cit...</td>\n",
       "    </tr>\n",
       "    <tr>\n",
       "      <th>23516</th>\n",
       "      <td>CBI court sentences 4 Vyapam scam accused to 4...</td>\n",
       "      <td>CBI court on Tuesday sentenced each of the fou...</td>\n",
       "    </tr>\n",
       "    <tr>\n",
       "      <th>28691</th>\n",
       "      <td>Child rape inexcusable, no mercy can be shown ...</td>\n",
       "      <td>While upholding the life sentence awarded to a...</td>\n",
       "    </tr>\n",
       "    <tr>\n",
       "      <th>65060</th>\n",
       "      <td>Jharkhand girl who starved to death had Aadhaa...</td>\n",
       "      <td>The family of the 11-year-old girl in Jharkhan...</td>\n",
       "    </tr>\n",
       "    <tr>\n",
       "      <th>28779</th>\n",
       "      <td>PNB sets up loan recovery cells in all its 6,9...</td>\n",
       "      <td>State-run Punjab National Bank (PNB) has repor...</td>\n",
       "    </tr>\n",
       "    <tr>\n",
       "      <th>25874</th>\n",
       "      <td>Elon Musk's submarine was a PR stunt: Thai cav...</td>\n",
       "      <td>One of the divers who helped rescue 12 kids st...</td>\n",
       "    </tr>\n",
       "  </tbody>\n",
       "</table>\n",
       "</div>"
      ],
      "text/plain": [
       "                                               headlines  \\\n",
       "27012  DonÃ¢ÂÂt end marriages over small issues: Go...   \n",
       "12774  Not ashamed that I worked as a welder: Pak's M...   \n",
       "39608  Antarctica also witnesses earthquakes, confirm...   \n",
       "94994  Pepsi faces flak for new ad featuring Kendall ...   \n",
       "59927  Govt announces reward for photos of illegally ...   \n",
       "23516  CBI court sentences 4 Vyapam scam accused to 4...   \n",
       "28691  Child rape inexcusable, no mercy can be shown ...   \n",
       "65060  Jharkhand girl who starved to death had Aadhaa...   \n",
       "28779  PNB sets up loan recovery cells in all its 6,9...   \n",
       "25874  Elon Musk's submarine was a PR stunt: Thai cav...   \n",
       "\n",
       "                                                    text  \n",
       "27012  Goa Governor Mridula Sinha on Saturday adminis...  \n",
       "12774  Pakistan pacer Mohammad Abbas, who won the Man...  \n",
       "39608  Long thought to be silent because of ice cover...  \n",
       "94994  Pepsi has been criticised for 'trivialising' p...  \n",
       "59927  Transport Minister Nitin Gadkari has asked cit...  \n",
       "23516  CBI court on Tuesday sentenced each of the fou...  \n",
       "28691  While upholding the life sentence awarded to a...  \n",
       "65060  The family of the 11-year-old girl in Jharkhan...  \n",
       "28779  State-run Punjab National Bank (PNB) has repor...  \n",
       "25874  One of the divers who helped rescue 12 kids st...  "
      ]
     },
     "execution_count": 3,
     "metadata": {},
     "output_type": "execute_result"
    }
   ],
   "source": [
    "data.sample(10)"
   ]
  },
  {
   "cell_type": "markdown",
   "id": "bf5f2a53",
   "metadata": {},
   "source": [
    "이 데이터는 기사의 본문에 해당되는 text와 headlines 두 가지 열로 구성되어져 있습니다.\n",
    "\n",
    "추상적 요약을 하는 경우에는 text를 본문, headlines를 이미 요약된 데이터로 삼아서 모델을 학습할 수 있어요. 추출적 요약을 하는 경우에는 오직 text열만을 사용하세요."
   ]
  },
  {
   "cell_type": "code",
   "execution_count": 4,
   "id": "2ff0e9b0",
   "metadata": {},
   "outputs": [
    {
     "name": "stdout",
     "output_type": "stream",
     "text": [
      "(98401, 2) Index(['headlines', 'text'], dtype='object')\n"
     ]
    },
    {
     "data": {
      "text/html": [
       "<div>\n",
       "<style scoped>\n",
       "    .dataframe tbody tr th:only-of-type {\n",
       "        vertical-align: middle;\n",
       "    }\n",
       "\n",
       "    .dataframe tbody tr th {\n",
       "        vertical-align: top;\n",
       "    }\n",
       "\n",
       "    .dataframe thead th {\n",
       "        text-align: right;\n",
       "    }\n",
       "</style>\n",
       "<table border=\"1\" class=\"dataframe\">\n",
       "  <thead>\n",
       "    <tr style=\"text-align: right;\">\n",
       "      <th></th>\n",
       "      <th>headlines</th>\n",
       "      <th>text</th>\n",
       "    </tr>\n",
       "  </thead>\n",
       "  <tbody>\n",
       "    <tr>\n",
       "      <th>96958</th>\n",
       "      <td>Up to 137% tax for not declaring black money t...</td>\n",
       "      <td>The I-T department on Friday urged black money...</td>\n",
       "    </tr>\n",
       "    <tr>\n",
       "      <th>30002</th>\n",
       "      <td>If talent was appreciated, I'd have been a sta...</td>\n",
       "      <td>Actor Annu Kapoor has said if content and tale...</td>\n",
       "    </tr>\n",
       "    <tr>\n",
       "      <th>96841</th>\n",
       "      <td>F1 driver asked to diet to compensate for over...</td>\n",
       "      <td>Force India's Mexican driver Sergio PÃÂ©rez h...</td>\n",
       "    </tr>\n",
       "    <tr>\n",
       "      <th>34255</th>\n",
       "      <td>BJP MP's son arrested for consuming liquor in ...</td>\n",
       "      <td>The 18-year-old son of a BJP MP has been arres...</td>\n",
       "    </tr>\n",
       "    <tr>\n",
       "      <th>90695</th>\n",
       "      <td>Ambulance service for cows launched in Uttar P...</td>\n",
       "      <td>The Uttar Pradesh government recently launched...</td>\n",
       "    </tr>\n",
       "    <tr>\n",
       "      <th>2318</th>\n",
       "      <td>9 kids in Raj fall sick after being given expi...</td>\n",
       "      <td>As many as nine children fell ill after they w...</td>\n",
       "    </tr>\n",
       "    <tr>\n",
       "      <th>4732</th>\n",
       "      <td>Gold jewellery worth Ã¢ÂÂ¹31L found in Air In...</td>\n",
       "      <td>Gold jewellery worth over Ã¢ÂÂ¹31 lakh was se...</td>\n",
       "    </tr>\n",
       "    <tr>\n",
       "      <th>40598</th>\n",
       "      <td>India ranks 9th globally in cryptojacking acti...</td>\n",
       "      <td>India is the ninth most affected country in th...</td>\n",
       "    </tr>\n",
       "    <tr>\n",
       "      <th>51119</th>\n",
       "      <td>Team of chefs to ensure PM Modi gets Indian fo...</td>\n",
       "      <td>A team of 32 chefs and managers from the Taj G...</td>\n",
       "    </tr>\n",
       "    <tr>\n",
       "      <th>22424</th>\n",
       "      <td>Trump hosts Indra Nooyi, Mastercard's Ajay Ban...</td>\n",
       "      <td>US President Donald Trump on Tuesday hosted co...</td>\n",
       "    </tr>\n",
       "    <tr>\n",
       "      <th>93684</th>\n",
       "      <td>UP govt ends SC, ST, OBC quota in private medi...</td>\n",
       "      <td>The BJP government in Uttar Pradesh on Thursda...</td>\n",
       "    </tr>\n",
       "    <tr>\n",
       "      <th>12218</th>\n",
       "      <td>Ethiopia elects its first female President</td>\n",
       "      <td>The Ethiopian parliament on Thursday elected 6...</td>\n",
       "    </tr>\n",
       "    <tr>\n",
       "      <th>9465</th>\n",
       "      <td>Device that can be kept in eyes to monitor sug...</td>\n",
       "      <td>Dutch startup NovioSense has developed a gluco...</td>\n",
       "    </tr>\n",
       "    <tr>\n",
       "      <th>95279</th>\n",
       "      <td>B'luru police launch selfie contest to promote...</td>\n",
       "      <td>Bengaluru Traffic Police-East on Friday launch...</td>\n",
       "    </tr>\n",
       "    <tr>\n",
       "      <th>5299</th>\n",
       "      <td>I walked away, didn't want to know: Smith on b...</td>\n",
       "      <td>Banned Australian cricketer Steve Smith has re...</td>\n",
       "    </tr>\n",
       "  </tbody>\n",
       "</table>\n",
       "</div>"
      ],
      "text/plain": [
       "                                               headlines  \\\n",
       "96958  Up to 137% tax for not declaring black money t...   \n",
       "30002  If talent was appreciated, I'd have been a sta...   \n",
       "96841  F1 driver asked to diet to compensate for over...   \n",
       "34255  BJP MP's son arrested for consuming liquor in ...   \n",
       "90695  Ambulance service for cows launched in Uttar P...   \n",
       "2318   9 kids in Raj fall sick after being given expi...   \n",
       "4732   Gold jewellery worth Ã¢ÂÂ¹31L found in Air In...   \n",
       "40598  India ranks 9th globally in cryptojacking acti...   \n",
       "51119  Team of chefs to ensure PM Modi gets Indian fo...   \n",
       "22424  Trump hosts Indra Nooyi, Mastercard's Ajay Ban...   \n",
       "93684  UP govt ends SC, ST, OBC quota in private medi...   \n",
       "12218         Ethiopia elects its first female President   \n",
       "9465   Device that can be kept in eyes to monitor sug...   \n",
       "95279  B'luru police launch selfie contest to promote...   \n",
       "5299   I walked away, didn't want to know: Smith on b...   \n",
       "\n",
       "                                                    text  \n",
       "96958  The I-T department on Friday urged black money...  \n",
       "30002  Actor Annu Kapoor has said if content and tale...  \n",
       "96841  Force India's Mexican driver Sergio PÃÂ©rez h...  \n",
       "34255  The 18-year-old son of a BJP MP has been arres...  \n",
       "90695  The Uttar Pradesh government recently launched...  \n",
       "2318   As many as nine children fell ill after they w...  \n",
       "4732   Gold jewellery worth over Ã¢ÂÂ¹31 lakh was se...  \n",
       "40598  India is the ninth most affected country in th...  \n",
       "51119  A team of 32 chefs and managers from the Taj G...  \n",
       "22424  US President Donald Trump on Tuesday hosted co...  \n",
       "93684  The BJP government in Uttar Pradesh on Thursda...  \n",
       "12218  The Ethiopian parliament on Thursday elected 6...  \n",
       "9465   Dutch startup NovioSense has developed a gluco...  \n",
       "95279  Bengaluru Traffic Police-East on Friday launch...  \n",
       "5299   Banned Australian cricketer Steve Smith has re...  "
      ]
     },
     "execution_count": 4,
     "metadata": {},
     "output_type": "execute_result"
    }
   ],
   "source": [
    "print(data.shape,data.columns)\n",
    "\n",
    "#랜덤한 15개 샘플 출력\n",
    "data.sample(15)"
   ]
  },
  {
   "cell_type": "markdown",
   "id": "7713de4f",
   "metadata": {},
   "source": [
    "### Step 2. 데이터 전처리하기 (추상적 요약)\n",
    "실습에서 사용된 전처리를 참고하여 각자 필요하다고 생각하는 전처리를 추가 사용하여 텍스트를 정규화 또는 정제해 보세요. 만약, 불용어 제거를 선택한다면 상대적으로 길이가 짧은 요약 데이터에 대해서도 불용어를 제거하는 것이 좋을지 고민해 보세요."
   ]
  },
  {
   "cell_type": "markdown",
   "id": "accc4b27",
   "metadata": {},
   "source": [
    "중복 샘플과 NULL 값이 존재하는 샘플 제거\n"
   ]
  },
  {
   "cell_type": "code",
   "execution_count": 5,
   "id": "bbb45ef7",
   "metadata": {},
   "outputs": [
    {
     "name": "stdout",
     "output_type": "stream",
     "text": [
      "text 열에서 중복을 배제한 유일한 샘플의 수 : 98360\n",
      "headlines 열에서 중복을 배제한 유일한 샘플의 수 : 98280\n"
     ]
    }
   ],
   "source": [
    "print('text 열에서 중복을 배제한 유일한 샘플의 수 :', data['text'].nunique())\n",
    "print('headlines 열에서 중복을 배제한 유일한 샘플의 수 :', data['headlines'].nunique())"
   ]
  },
  {
   "cell_type": "code",
   "execution_count": 6,
   "id": "cdfab1f7",
   "metadata": {},
   "outputs": [
    {
     "name": "stdout",
     "output_type": "stream",
     "text": [
      "전체 샘플수 : 98360\n"
     ]
    }
   ],
   "source": [
    "# text 중복값제거\n",
    "data.drop_duplicates(subset = ['text'], inplace=True)\n",
    "print('전체 샘플수 :', (len(data)))"
   ]
  },
  {
   "cell_type": "code",
   "execution_count": 7,
   "id": "00ae36e1",
   "metadata": {},
   "outputs": [
    {
     "name": "stdout",
     "output_type": "stream",
     "text": [
      "headlines    0\n",
      "text         0\n",
      "dtype: int64\n"
     ]
    }
   ],
   "source": [
    "print(data.isnull().sum())"
   ]
  },
  {
   "cell_type": "markdown",
   "id": "27daac9e",
   "metadata": {},
   "source": [
    "텍스트 정규화와 불용어 제거"
   ]
  },
  {
   "cell_type": "code",
   "execution_count": 8,
   "id": "1cf710b9",
   "metadata": {},
   "outputs": [
    {
     "name": "stdout",
     "output_type": "stream",
     "text": [
      "정규화 사전의 수:  120\n"
     ]
    }
   ],
   "source": [
    "contractions = {\"ain't\": \"is not\", \"aren't\": \"are not\",\"can't\": \"cannot\", \"'cause\": \"because\", \"could've\": \"could have\", \"couldn't\": \"could not\",\n",
    "                           \"didn't\": \"did not\",  \"doesn't\": \"does not\", \"don't\": \"do not\", \"hadn't\": \"had not\", \"hasn't\": \"has not\", \"haven't\": \"have not\",\n",
    "                           \"he'd\": \"he would\",\"he'll\": \"he will\", \"he's\": \"he is\", \"how'd\": \"how did\", \"how'd'y\": \"how do you\", \"how'll\": \"how will\", \"how's\": \"how is\",\n",
    "                           \"I'd\": \"I would\", \"I'd've\": \"I would have\", \"I'll\": \"I will\", \"I'll've\": \"I will have\",\"I'm\": \"I am\", \"I've\": \"I have\", \"i'd\": \"i would\",\n",
    "                           \"i'd've\": \"i would have\", \"i'll\": \"i will\",  \"i'll've\": \"i will have\",\"i'm\": \"i am\", \"i've\": \"i have\", \"isn't\": \"is not\", \"it'd\": \"it would\",\n",
    "                           \"it'd've\": \"it would have\", \"it'll\": \"it will\", \"it'll've\": \"it will have\",\"it's\": \"it is\", \"let's\": \"let us\", \"ma'am\": \"madam\",\n",
    "                           \"mayn't\": \"may not\", \"might've\": \"might have\",\"mightn't\": \"might not\",\"mightn't've\": \"might not have\", \"must've\": \"must have\",\n",
    "                           \"mustn't\": \"must not\", \"mustn't've\": \"must not have\", \"needn't\": \"need not\", \"needn't've\": \"need not have\",\"o'clock\": \"of the clock\",\n",
    "                           \"oughtn't\": \"ought not\", \"oughtn't've\": \"ought not have\", \"shan't\": \"shall not\", \"sha'n't\": \"shall not\", \"shan't've\": \"shall not have\",\n",
    "                           \"she'd\": \"she would\", \"she'd've\": \"she would have\", \"she'll\": \"she will\", \"she'll've\": \"she will have\", \"she's\": \"she is\",\n",
    "                           \"should've\": \"should have\", \"shouldn't\": \"should not\", \"shouldn't've\": \"should not have\", \"so've\": \"so have\",\"so's\": \"so as\",\n",
    "                           \"this's\": \"this is\",\"that'd\": \"that would\", \"that'd've\": \"that would have\", \"that's\": \"that is\", \"there'd\": \"there would\",\n",
    "                           \"there'd've\": \"there would have\", \"there's\": \"there is\", \"here's\": \"here is\",\"they'd\": \"they would\", \"they'd've\": \"they would have\",\n",
    "                           \"they'll\": \"they will\", \"they'll've\": \"they will have\", \"they're\": \"they are\", \"they've\": \"they have\", \"to've\": \"to have\",\n",
    "                           \"wasn't\": \"was not\", \"we'd\": \"we would\", \"we'd've\": \"we would have\", \"we'll\": \"we will\", \"we'll've\": \"we will have\", \"we're\": \"we are\",\n",
    "                           \"we've\": \"we have\", \"weren't\": \"were not\", \"what'll\": \"what will\", \"what'll've\": \"what will have\", \"what're\": \"what are\",\n",
    "                           \"what's\": \"what is\", \"what've\": \"what have\", \"when's\": \"when is\", \"when've\": \"when have\", \"where'd\": \"where did\", \"where's\": \"where is\",\n",
    "                           \"where've\": \"where have\", \"who'll\": \"who will\", \"who'll've\": \"who will have\", \"who's\": \"who is\", \"who've\": \"who have\",\n",
    "                           \"why's\": \"why is\", \"why've\": \"why have\", \"will've\": \"will have\", \"won't\": \"will not\", \"won't've\": \"will not have\",\n",
    "                           \"would've\": \"would have\", \"wouldn't\": \"would not\", \"wouldn't've\": \"would not have\", \"y'all\": \"you all\",\n",
    "                           \"y'all'd\": \"you all would\",\"y'all'd've\": \"you all would have\",\"y'all're\": \"you all are\",\"y'all've\": \"you all have\",\n",
    "                           \"you'd\": \"you would\", \"you'd've\": \"you would have\", \"you'll\": \"you will\", \"you'll've\": \"you will have\",\n",
    "                           \"you're\": \"you are\", \"you've\": \"you have\"}\n",
    "\n",
    "print(\"정규화 사전의 수: \", len(contractions))"
   ]
  },
  {
   "cell_type": "code",
   "execution_count": 9,
   "id": "97249709",
   "metadata": {},
   "outputs": [
    {
     "name": "stdout",
     "output_type": "stream",
     "text": [
      "불용어 개수 : 179\n",
      "['i', 'me', 'my', 'myself', 'we', 'our', 'ours', 'ourselves', 'you', \"you're\", \"you've\", \"you'll\", \"you'd\", 'your', 'yours', 'yourself', 'yourselves', 'he', 'him', 'his', 'himself', 'she', \"she's\", 'her', 'hers', 'herself', 'it', \"it's\", 'its', 'itself', 'they', 'them', 'their', 'theirs', 'themselves', 'what', 'which', 'who', 'whom', 'this', 'that', \"that'll\", 'these', 'those', 'am', 'is', 'are', 'was', 'were', 'be', 'been', 'being', 'have', 'has', 'had', 'having', 'do', 'does', 'did', 'doing', 'a', 'an', 'the', 'and', 'but', 'if', 'or', 'because', 'as', 'until', 'while', 'of', 'at', 'by', 'for', 'with', 'about', 'against', 'between', 'into', 'through', 'during', 'before', 'after', 'above', 'below', 'to', 'from', 'up', 'down', 'in', 'out', 'on', 'off', 'over', 'under', 'again', 'further', 'then', 'once', 'here', 'there', 'when', 'where', 'why', 'how', 'all', 'any', 'both', 'each', 'few', 'more', 'most', 'other', 'some', 'such', 'no', 'nor', 'not', 'only', 'own', 'same', 'so', 'than', 'too', 'very', 's', 't', 'can', 'will', 'just', 'don', \"don't\", 'should', \"should've\", 'now', 'd', 'll', 'm', 'o', 're', 've', 'y', 'ain', 'aren', \"aren't\", 'couldn', \"couldn't\", 'didn', \"didn't\", 'doesn', \"doesn't\", 'hadn', \"hadn't\", 'hasn', \"hasn't\", 'haven', \"haven't\", 'isn', \"isn't\", 'ma', 'mightn', \"mightn't\", 'mustn', \"mustn't\", 'needn', \"needn't\", 'shan', \"shan't\", 'shouldn', \"shouldn't\", 'wasn', \"wasn't\", 'weren', \"weren't\", 'won', \"won't\", 'wouldn', \"wouldn't\"]\n"
     ]
    }
   ],
   "source": [
    "print('불용어 개수 :', len(stopwords.words('english') ))\n",
    "print(stopwords.words('english'))"
   ]
  },
  {
   "cell_type": "markdown",
   "id": "f51bfc7c",
   "metadata": {},
   "source": [
    "데이터 전처리 함수생성: 정규화,불용어,데이터 정제처리등"
   ]
  },
  {
   "cell_type": "code",
   "execution_count": 10,
   "id": "3db4a334",
   "metadata": {},
   "outputs": [],
   "source": [
    "# 데이터 전처리 함수\n",
    "def preprocess_sentence(sentence, remove_stopwords=True):\n",
    "    sentence = sentence.lower() # 텍스트 소문자화\n",
    "    sentence = BeautifulSoup(sentence, \"lxml\").text # <br />, <a href = ...> 등의 html 태그 제거\n",
    "    sentence = re.sub(r'\\([^)]*\\)', '', sentence) # 괄호로 닫힌 문자열 (...) 제거 Ex) my husband (and myself!) for => my husband for\n",
    "    sentence = re.sub('\"','', sentence) # 쌍따옴표 \" 제거\n",
    "    sentence = ' '.join([contractions[t] if t in contractions else t for t in sentence.split(\" \")]) # 약어 정규화\n",
    "    sentence = re.sub(r\"'s\\b\",\"\", sentence) # 소유격 제거. Ex) roland's -> roland\n",
    "    sentence = re.sub(\"[^a-zA-Z]\", \" \", sentence) # 영어 외 문자(숫자, 특수문자 등) 공백으로 변환\n",
    "    sentence = re.sub('[m]{2,}', 'mm', sentence) # m이 3개 이상이면 2개로 변경. Ex) ummmmmmm yeah -> umm yeah\n",
    "    \n",
    "    # 불용어 제거 (Text)\n",
    "    if remove_stopwords:\n",
    "        tokens = ' '.join(word for word in sentence.split() if not word in stopwords.words('english') if len(word) > 1)\n",
    "    # 불용어 미제거 (Summary)\n",
    "    else:\n",
    "        tokens = ' '.join(word for word in sentence.split() if len(word) > 1)\n",
    "    return tokens"
   ]
  },
  {
   "cell_type": "markdown",
   "id": "cd16a3c3",
   "metadata": {},
   "source": [
    "전체 text 데이터에 대한 전처리"
   ]
  },
  {
   "cell_type": "code",
   "execution_count": 11,
   "id": "0e4edf9f",
   "metadata": {},
   "outputs": [
    {
     "name": "stdout",
     "output_type": "stream",
     "text": [
      "Text 전처리 후 결과:  ['saurav kant alumnus upgrad iiit pg program machine learning artificial intelligence sr systems engineer infosys almost years work experience program upgrad degree career support helped transition data scientist tech mahindra salary hike upgrad online power learning powered lakh careers', 'kunal shah credit card bill payment platform cred gave users chance win free food swiggy one year pranav kaushik delhi techie bagged reward spending cred coins users get one cred coin per rupee bill paid used avail rewards brands like ixigo bookmyshow ubereats cult fit', 'new zealand defeated india wickets fourth odi hamilton thursday win first match five match odi series india lost international match rohit sharma captaincy consecutive victories dating back march match witnessed india getting seventh lowest total odi cricket history', 'aegon life iterm insurance plan customers enjoy tax benefits premiums paid save taxes plan provides life cover age years also customers options insure critical illnesses disability accidental death benefit rider life cover age years', 'speaking sexual harassment allegations rajkumar hirani sonam kapoor said known hirani many years true metoo movement get derailed metoo movement always believe woman case need reserve judgment added hirani accused assistant worked sanju']\n"
     ]
    }
   ],
   "source": [
    "clean_text = []\n",
    "for s in data['text']:\n",
    "    clean_text.append(preprocess_sentence(s))\n",
    "\n",
    "print(\"Text 전처리 후 결과: \", clean_text[:5])"
   ]
  },
  {
   "cell_type": "markdown",
   "id": "bc3d4394",
   "metadata": {},
   "source": [
    "전체 headlines 데이터에 대한 전처리: headlines의 길이가 짧아보이지 않아서, 불용어처리 True"
   ]
  },
  {
   "cell_type": "code",
   "execution_count": 12,
   "id": "1fe5a611",
   "metadata": {},
   "outputs": [
    {
     "name": "stdout",
     "output_type": "stream",
     "text": [
      "headlines 전처리 후 결과:  ['upgrad learner switches career ml al salary hike', 'delhi techie wins free food swiggy one year cred', 'new zealand end rohit sharma led india match winning streak', 'aegon life iterm insurance plan helps customers save tax', 'known hirani yrs metoo claims true sonam']\n"
     ]
    }
   ],
   "source": [
    "clean_headlines = []\n",
    "for s in data['headlines']:\n",
    "    clean_headlines.append(preprocess_sentence(s, True))\n",
    "\n",
    "print(\"headlines 전처리 후 결과: \", clean_headlines[:5])"
   ]
  },
  {
   "cell_type": "code",
   "execution_count": 13,
   "id": "cf5c9a74",
   "metadata": {},
   "outputs": [],
   "source": [
    "data['text'] = clean_text\n",
    "data['headlines'] = clean_headlines \n",
    "\n",
    "# 빈 값을 Null 값으로 변환\n",
    "data.replace('', np.nan, inplace=True)\n"
   ]
  },
  {
   "cell_type": "code",
   "execution_count": 14,
   "id": "44bafd16",
   "metadata": {},
   "outputs": [
    {
     "data": {
      "text/plain": [
       "headlines    0\n",
       "text         0\n",
       "dtype: int64"
      ]
     },
     "execution_count": 14,
     "metadata": {},
     "output_type": "execute_result"
    }
   ],
   "source": [
    "data.isnull().sum()"
   ]
  },
  {
   "cell_type": "code",
   "execution_count": 15,
   "id": "1d5ec9f7",
   "metadata": {},
   "outputs": [
    {
     "name": "stdout",
     "output_type": "stream",
     "text": [
      "전체 샘플수 : 98360\n"
     ]
    }
   ],
   "source": [
    "data.dropna(axis=0, inplace=True)\n",
    "print('전체 샘플수 :', (len(data)))"
   ]
  },
  {
   "cell_type": "markdown",
   "id": "338e3331",
   "metadata": {},
   "source": [
    "샘플의 최대 길이 정하기"
   ]
  },
  {
   "cell_type": "code",
   "execution_count": 16,
   "id": "1876c77e",
   "metadata": {},
   "outputs": [
    {
     "name": "stdout",
     "output_type": "stream",
     "text": [
      "텍스트의 최소 길이 : 1\n",
      "텍스트의 최대 길이 : 60\n",
      "텍스트의 평균 길이 : 35.09968483123221\n",
      "요약의 최소 길이 : 1\n",
      "요약의 최대 길이 : 13\n",
      "요약의 평균 길이 : 7.136183407889386\n"
     ]
    },
    {
     "data": {
      "image/png": "[encoded data removed]",
      "text/plain": [
       "<Figure size 432x288 with 2 Axes>"
      ]
     },
     "metadata": {
      "needs_background": "light"
     },
     "output_type": "display_data"
    },
    {
     "data": {
      "image/png": "[encoded data removed]",
      "text/plain": [
       "<Figure size 432x288 with 1 Axes>"
      ]
     },
     "metadata": {
      "needs_background": "light"
     },
     "output_type": "display_data"
    },
    {
     "data": {
      "image/png": "[encoded data removed]",
      "text/plain": [
       "<Figure size 432x288 with 1 Axes>"
      ]
     },
     "metadata": {
      "needs_background": "light"
     },
     "output_type": "display_data"
    }
   ],
   "source": [
    "# 길이 분포 출력\n",
    "import matplotlib.pyplot as plt\n",
    "\n",
    "text_len = [len(s.split()) for s in data['text']]\n",
    "headlines_len = [len(s.split()) for s in data['headlines']]\n",
    "\n",
    "print('텍스트의 최소 길이 : {}'.format(np.min(text_len)))\n",
    "print('텍스트의 최대 길이 : {}'.format(np.max(text_len)))\n",
    "print('텍스트의 평균 길이 : {}'.format(np.mean(text_len)))\n",
    "print('요약의 최소 길이 : {}'.format(np.min(headlines_len)))\n",
    "print('요약의 최대 길이 : {}'.format(np.max(headlines_len)))\n",
    "print('요약의 평균 길이 : {}'.format(np.mean(headlines_len)))\n",
    "\n",
    "plt.subplot(1,2,1)\n",
    "plt.boxplot(text_len)\n",
    "plt.title('Text')\n",
    "plt.subplot(1,2,2)\n",
    "plt.boxplot(headlines_len)\n",
    "plt.title('headlines')\n",
    "plt.tight_layout()\n",
    "plt.show()\n",
    "\n",
    "plt.title('text')\n",
    "plt.hist(text_len, bins = 40)\n",
    "plt.xlabel('length of samples')\n",
    "plt.ylabel('number of samples')\n",
    "plt.show()\n",
    "\n",
    "plt.title('headlines')\n",
    "plt.hist(headlines_len, bins = 40)\n",
    "plt.xlabel('length of samples')\n",
    "plt.ylabel('number of samples')\n",
    "plt.show()"
   ]
  },
  {
   "cell_type": "code",
   "execution_count": 17,
   "id": "cb3fa591",
   "metadata": {},
   "outputs": [],
   "source": [
    "text_max_len = 40\n",
    "headlines_max_len = 8\n"
   ]
  },
  {
   "cell_type": "code",
   "execution_count": 18,
   "id": "57348bb8",
   "metadata": {},
   "outputs": [],
   "source": [
    "def below_threshold_len(max_len, nested_list):\n",
    "  cnt = 0\n",
    "  for s in nested_list:\n",
    "    if(len(s.split()) <= max_len):\n",
    "        cnt = cnt + 1\n",
    "  print('전체 샘플 중 길이가 %s 이하인 샘플의 비율: %s'%(max_len, (cnt / len(nested_list))))\n"
   ]
  },
  {
   "cell_type": "code",
   "execution_count": 19,
   "id": "82224ec0",
   "metadata": {},
   "outputs": [
    {
     "name": "stdout",
     "output_type": "stream",
     "text": [
      "전체 샘플 중 길이가 40 이하인 샘플의 비율: 0.9238714924766165\n",
      "전체 샘플 중 길이가 8 이하인 샘플의 비율: 0.8925782838552258\n"
     ]
    }
   ],
   "source": [
    "below_threshold_len(text_max_len, data['text'])\n",
    "below_threshold_len(headlines_max_len,  data['headlines'])"
   ]
  },
  {
   "cell_type": "code",
   "execution_count": 20,
   "id": "cae7cb78",
   "metadata": {},
   "outputs": [
    {
     "name": "stdout",
     "output_type": "stream",
     "text": [
      "전체 샘플수 : 81914\n"
     ]
    }
   ],
   "source": [
    "data = data[data['text'].apply(lambda x: len(x.split()) <= text_max_len)]\n",
    "data = data[data['headlines'].apply(lambda x: len(x.split()) <= headlines_max_len)]\n",
    "print('전체 샘플수 :', (len(data)))"
   ]
  },
  {
   "cell_type": "markdown",
   "id": "34f18814",
   "metadata": {},
   "source": [
    "시작 토큰과 종료 토큰 추가하기"
   ]
  },
  {
   "cell_type": "code",
   "execution_count": 21,
   "id": "12d52e99",
   "metadata": {},
   "outputs": [
    {
     "data": {
      "text/html": [
       "<div>\n",
       "<style scoped>\n",
       "    .dataframe tbody tr th:only-of-type {\n",
       "        vertical-align: middle;\n",
       "    }\n",
       "\n",
       "    .dataframe tbody tr th {\n",
       "        vertical-align: top;\n",
       "    }\n",
       "\n",
       "    .dataframe thead th {\n",
       "        text-align: right;\n",
       "    }\n",
       "</style>\n",
       "<table border=\"1\" class=\"dataframe\">\n",
       "  <thead>\n",
       "    <tr style=\"text-align: right;\">\n",
       "      <th></th>\n",
       "      <th>headlines</th>\n",
       "      <th>text</th>\n",
       "      <th>decoder_input</th>\n",
       "      <th>decoder_target</th>\n",
       "    </tr>\n",
       "  </thead>\n",
       "  <tbody>\n",
       "    <tr>\n",
       "      <th>0</th>\n",
       "      <td>upgrad learner switches career ml al salary hike</td>\n",
       "      <td>saurav kant alumnus upgrad iiit pg program mac...</td>\n",
       "      <td>sostoken upgrad learner switches career ml al ...</td>\n",
       "      <td>upgrad learner switches career ml al salary hi...</td>\n",
       "    </tr>\n",
       "    <tr>\n",
       "      <th>4</th>\n",
       "      <td>known hirani yrs metoo claims true sonam</td>\n",
       "      <td>speaking sexual harassment allegations rajkuma...</td>\n",
       "      <td>sostoken known hirani yrs metoo claims true sonam</td>\n",
       "      <td>known hirani yrs metoo claims true sonam eostoken</td>\n",
       "    </tr>\n",
       "    <tr>\n",
       "      <th>6</th>\n",
       "      <td>india get lowest odi total new zealand</td>\n",
       "      <td>india recorded lowest odi total new zealand ge...</td>\n",
       "      <td>sostoken india get lowest odi total new zealand</td>\n",
       "      <td>india get lowest odi total new zealand eostoken</td>\n",
       "    </tr>\n",
       "    <tr>\n",
       "      <th>7</th>\n",
       "      <td>govt directs alok verma join work day retirement</td>\n",
       "      <td>weeks ex cbi director alok verma told departme...</td>\n",
       "      <td>sostoken govt directs alok verma join work day...</td>\n",
       "      <td>govt directs alok verma join work day retireme...</td>\n",
       "    </tr>\n",
       "    <tr>\n",
       "      <th>9</th>\n",
       "      <td>cong wins ramgarh bypoll rajasthan takes total...</td>\n",
       "      <td>congress candidate shafia zubair ramgarh assem...</td>\n",
       "      <td>sostoken cong wins ramgarh bypoll rajasthan ta...</td>\n",
       "      <td>cong wins ramgarh bypoll rajasthan takes total...</td>\n",
       "    </tr>\n",
       "  </tbody>\n",
       "</table>\n",
       "</div>"
      ],
      "text/plain": [
       "                                           headlines  \\\n",
       "0   upgrad learner switches career ml al salary hike   \n",
       "4           known hirani yrs metoo claims true sonam   \n",
       "6             india get lowest odi total new zealand   \n",
       "7   govt directs alok verma join work day retirement   \n",
       "9  cong wins ramgarh bypoll rajasthan takes total...   \n",
       "\n",
       "                                                text  \\\n",
       "0  saurav kant alumnus upgrad iiit pg program mac...   \n",
       "4  speaking sexual harassment allegations rajkuma...   \n",
       "6  india recorded lowest odi total new zealand ge...   \n",
       "7  weeks ex cbi director alok verma told departme...   \n",
       "9  congress candidate shafia zubair ramgarh assem...   \n",
       "\n",
       "                                       decoder_input  \\\n",
       "0  sostoken upgrad learner switches career ml al ...   \n",
       "4  sostoken known hirani yrs metoo claims true sonam   \n",
       "6    sostoken india get lowest odi total new zealand   \n",
       "7  sostoken govt directs alok verma join work day...   \n",
       "9  sostoken cong wins ramgarh bypoll rajasthan ta...   \n",
       "\n",
       "                                      decoder_target  \n",
       "0  upgrad learner switches career ml al salary hi...  \n",
       "4  known hirani yrs metoo claims true sonam eostoken  \n",
       "6    india get lowest odi total new zealand eostoken  \n",
       "7  govt directs alok verma join work day retireme...  \n",
       "9  cong wins ramgarh bypoll rajasthan takes total...  "
      ]
     },
     "execution_count": 21,
     "metadata": {},
     "output_type": "execute_result"
    }
   ],
   "source": [
    "# 요약 데이터에는 시작 토큰과 종료 토큰을 추가한다.\n",
    "data['decoder_input'] = data['headlines'].apply(lambda x : 'sostoken '+ x)\n",
    "data['decoder_target'] = data['headlines'].apply(lambda x : x + ' eostoken')\n",
    "data.head()"
   ]
  },
  {
   "cell_type": "code",
   "execution_count": 22,
   "id": "fcbb1805",
   "metadata": {},
   "outputs": [],
   "source": [
    "encoder_input = np.array(data['text']) # 인코더의 입력\n",
    "decoder_input = np.array(data['decoder_input']) # 디코더의 입력\n",
    "decoder_target = np.array(data['decoder_target']) # 디코더의 레이블\n"
   ]
  },
  {
   "cell_type": "markdown",
   "id": "51856a62",
   "metadata": {},
   "source": [
    "#### 훈련 데이터와 테스트 데이터를 분리 : 8:2의 비율"
   ]
  },
  {
   "cell_type": "code",
   "execution_count": 23,
   "id": "beef397c",
   "metadata": {},
   "outputs": [
    {
     "name": "stdout",
     "output_type": "stream",
     "text": [
      "[38087 21413 36768 ... 38220 40801 33770]\n"
     ]
    }
   ],
   "source": [
    "indices = np.arange(encoder_input.shape[0])\n",
    "np.random.shuffle(indices)\n",
    "print(indices)"
   ]
  },
  {
   "cell_type": "code",
   "execution_count": 24,
   "id": "6bcb9156",
   "metadata": {},
   "outputs": [],
   "source": [
    "encoder_input = encoder_input[indices]\n",
    "decoder_input = decoder_input[indices]\n",
    "decoder_target = decoder_target[indices]\n"
   ]
  },
  {
   "cell_type": "code",
   "execution_count": 25,
   "id": "cf459e03",
   "metadata": {},
   "outputs": [
    {
     "name": "stdout",
     "output_type": "stream",
     "text": [
      "테스트 데이터의 수 : 16382\n"
     ]
    }
   ],
   "source": [
    "n_of_val = int(len(encoder_input)*0.2)\n",
    "print('테스트 데이터의 수 :', n_of_val)"
   ]
  },
  {
   "cell_type": "code",
   "execution_count": 26,
   "id": "0bf2a8e2",
   "metadata": {},
   "outputs": [
    {
     "name": "stdout",
     "output_type": "stream",
     "text": [
      "훈련 데이터의 개수 : 65532\n",
      "훈련 레이블의 개수 : 65532\n",
      "테스트 데이터의 개수 : 16382\n",
      "테스트 레이블의 개수 : 16382\n"
     ]
    }
   ],
   "source": [
    "encoder_input_train = encoder_input[:-n_of_val]\n",
    "decoder_input_train = decoder_input[:-n_of_val]\n",
    "decoder_target_train = decoder_target[:-n_of_val]\n",
    "\n",
    "encoder_input_test = encoder_input[-n_of_val:]\n",
    "decoder_input_test = decoder_input[-n_of_val:]\n",
    "decoder_target_test = decoder_target[-n_of_val:]\n",
    "\n",
    "print('훈련 데이터의 개수 :', len(encoder_input_train))\n",
    "print('훈련 레이블의 개수 :', len(decoder_input_train))\n",
    "print('테스트 데이터의 개수 :', len(encoder_input_test))\n",
    "print('테스트 레이블의 개수 :', len(decoder_input_test))"
   ]
  },
  {
   "cell_type": "markdown",
   "id": "61e4bf11",
   "metadata": {},
   "source": [
    "#### encoder_input_train  토큰화"
   ]
  },
  {
   "cell_type": "code",
   "execution_count": 27,
   "id": "14e47ad8",
   "metadata": {},
   "outputs": [],
   "source": [
    "src_tokenizer = Tokenizer() # 토크나이저 \n",
    "src_tokenizer.fit_on_texts(encoder_input_train) # 입력된 데이터로부터 단어 집합 생성\n"
   ]
  },
  {
   "cell_type": "markdown",
   "id": "e7846306",
   "metadata": {},
   "source": [
    "토큰화시킨 encoder_input_train data의 단어들의 빈도수 파악"
   ]
  },
  {
   "cell_type": "code",
   "execution_count": 28,
   "id": "28de4157",
   "metadata": {},
   "outputs": [
    {
     "name": "stdout",
     "output_type": "stream",
     "text": [
      "단어 집합(vocabulary)의 크기 : 63227\n",
      "등장 빈도가 6번 이하인 희귀 단어의 수: 43201\n",
      "단어 집합에서 희귀 단어를 제외시킬 경우의 단어 집합의 크기 20026\n",
      "단어 집합에서 희귀 단어의 비율: 68.32682240182201\n",
      "전체 등장 빈도에서 희귀 단어 등장 빈도 비율: 3.9051952397901983\n"
     ]
    }
   ],
   "source": [
    "threshold = 7\n",
    "total_cnt = len(src_tokenizer.word_index) # 단어의 수\n",
    "rare_cnt = 0 # 등장 빈도수가 threshold보다 작은 단어의 개수를 카운트\n",
    "total_freq = 0 # 훈련 데이터의 전체 단어 빈도수 총 합\n",
    "rare_freq = 0 # 등장 빈도수가 threshold보다 작은 단어의 등장 빈도수의 총 합\n",
    "\n",
    "# 단어와 빈도수의 쌍(pair)을 key와 value로 받는다.\n",
    "for key, value in src_tokenizer.word_counts.items():\n",
    "    total_freq = total_freq + value\n",
    "\n",
    "    # 단어의 등장 빈도수가 threshold보다 작으면\n",
    "    if(value < threshold):\n",
    "        rare_cnt = rare_cnt + 1\n",
    "        rare_freq = rare_freq + value\n",
    "\n",
    "print('단어 집합(vocabulary)의 크기 :', total_cnt)\n",
    "print('등장 빈도가 %s번 이하인 희귀 단어의 수: %s'%(threshold - 1, rare_cnt))\n",
    "print('단어 집합에서 희귀 단어를 제외시킬 경우의 단어 집합의 크기 %s'%(total_cnt - rare_cnt))\n",
    "print(\"단어 집합에서 희귀 단어의 비율:\", (rare_cnt / total_cnt)*100)\n",
    "print(\"전체 등장 빈도에서 희귀 단어 등장 빈도 비율:\", (rare_freq / total_freq)*100)"
   ]
  },
  {
   "cell_type": "markdown",
   "id": "b46a3bd5",
   "metadata": {},
   "source": [
    "##### Token화시킨 encoder_input_train data 통계특징\n",
    "\n",
    "등장 빈도가 threshold 값인 7회 미만, 즉 6회 이하인 희귀단어들은 단어 집합에서 무려 68.3% 를 차지, \n",
    "\n",
    "실제로 encoder_input_train data에서 빈도로 차지하는 비중은 상대적으로 적은 수치인 3.89 %임,\n",
    "\n",
    "그래서 등장 빈도가 6회 이하인 단어들은 정수 인코딩 과정에서 빼고, 훈련 데이터에서 제거.\n",
    "\n",
    "이를 제외한 단어 집합의 크기를 19000 여개, 작업효율상 좀 더 적은 값으로 어림잡아 단어 집합의 크기를 10000 으로 제한함\n",
    "\n",
    "src_vocab = 10000"
   ]
  },
  {
   "cell_type": "code",
   "execution_count": 29,
   "id": "f9853ff9",
   "metadata": {},
   "outputs": [],
   "source": [
    "# Tokenizer 활용해서, 단어 집합 15000개로 재생성\n",
    "src_vocab =  10000\n",
    "src_tokenizer = Tokenizer(num_words=src_vocab) \n",
    "src_tokenizer.fit_on_texts(encoder_input_train)\n"
   ]
  },
  {
   "cell_type": "markdown",
   "id": "e6fa7631",
   "metadata": {},
   "source": [
    "text 시퀀스를 정수 시퀀스로 변환"
   ]
  },
  {
   "cell_type": "code",
   "execution_count": 30,
   "id": "7ff0e82c",
   "metadata": {},
   "outputs": [
    {
     "name": "stdout",
     "output_type": "stream",
     "text": [
      "[[773, 3201, 1420, 9535, 188, 14, 137, 66, 57, 1927, 520, 8560, 165, 205, 1036, 453, 114, 165, 143, 1218, 2, 65, 155, 276, 5606, 1803, 8561, 1639], [474, 597, 61, 4235, 7635, 76, 171, 472, 3520, 6559, 9309, 342, 6767, 4039, 474, 451, 619, 605, 244, 191, 1548, 417, 4039, 694, 35, 4123, 1, 76, 210, 171, 4123, 474, 171], [599, 2868, 1270, 198, 2625, 1432, 801, 233, 1526, 3521, 1270, 4947, 63, 977, 195, 106, 8, 190, 371, 128, 77, 229, 1270, 1282]]\n"
     ]
    }
   ],
   "source": [
    "# text 시퀀스를 정수 시퀀스로 변환\n",
    "encoder_input_train = src_tokenizer.texts_to_sequences(encoder_input_train) \n",
    "encoder_input_test = src_tokenizer.texts_to_sequences(encoder_input_test)\n",
    "\n",
    "print(encoder_input_train[:3])"
   ]
  },
  {
   "cell_type": "markdown",
   "id": "054dc8cc",
   "metadata": {},
   "source": [
    "#### decoder_input_train 토큰화"
   ]
  },
  {
   "cell_type": "code",
   "execution_count": 31,
   "id": "366789b0",
   "metadata": {},
   "outputs": [],
   "source": [
    "# headlines 시퀀스를 정수 시퀀스로 변환\n",
    "tar_tokenizer = Tokenizer()\n",
    "tar_tokenizer.fit_on_texts(decoder_input_train)\n"
   ]
  },
  {
   "cell_type": "markdown",
   "id": "38cbda85",
   "metadata": {},
   "source": [
    "토큰화시킨 decoder_input_train data의 단어들의 빈도수 파악"
   ]
  },
  {
   "cell_type": "code",
   "execution_count": 32,
   "id": "2dbd87f4",
   "metadata": {},
   "outputs": [
    {
     "name": "stdout",
     "output_type": "stream",
     "text": [
      "단어 집합(vocabulary)의 크기 : 27521\n",
      "등장 빈도가 5번 이하인 희귀 단어의 수: 18207\n",
      "단어 집합에서 희귀 단어를 제외시킬 경우의 단어 집합의 크기 9314\n",
      "단어 집합에서 희귀 단어의 비율: 66.15675302496275\n",
      "전체 등장 빈도에서 희귀 단어 등장 빈도 비율: 6.758120026229304\n"
     ]
    }
   ],
   "source": [
    "threshold = 6\n",
    "total_cnt = len(tar_tokenizer.word_index) # 단어의 수\n",
    "rare_cnt = 0 # 등장 빈도수가 threshold보다 작은 단어의 개수를 카운트\n",
    "total_freq = 0 # 훈련 데이터의 전체 단어 빈도수 총 합\n",
    "rare_freq = 0 # 등장 빈도수가 threshold보다 작은 단어의 등장 빈도수의 총 합\n",
    "\n",
    "# 단어와 빈도수의 쌍(pair)을 key와 value로 받는다.\n",
    "for key, value in tar_tokenizer.word_counts.items():\n",
    "    total_freq = total_freq + value\n",
    "\n",
    "    # 단어의 등장 빈도수가 threshold보다 작으면\n",
    "    if(value < threshold):\n",
    "        rare_cnt = rare_cnt + 1\n",
    "        rare_freq = rare_freq + value\n",
    "\n",
    "print('단어 집합(vocabulary)의 크기 :', total_cnt)\n",
    "print('등장 빈도가 %s번 이하인 희귀 단어의 수: %s'%(threshold - 1, rare_cnt))\n",
    "print('단어 집합에서 희귀 단어를 제외시킬 경우의 단어 집합의 크기 %s'%(total_cnt - rare_cnt))\n",
    "print(\"단어 집합에서 희귀 단어의 비율:\", (rare_cnt / total_cnt)*100)\n",
    "print(\"전체 등장 빈도에서 희귀 단어 등장 빈도 비율:\", (rare_freq / total_freq)*100)"
   ]
  },
  {
   "cell_type": "markdown",
   "id": "e188702f",
   "metadata": {},
   "source": [
    "##### Token화시킨 decoder_input_train data 통계특징\n",
    "\n",
    "등장 빈도가 5회 이하인 희귀단어들은 단어 집합에서 약 66%를 차지,\n",
    "\n",
    "실제로 decoder_input_train data에서 등장 빈도로 차지하는 비중은 상대적으로 매우 적은 6.76%\n",
    "\n",
    "희귀단어 모두 제거시 단어집합수 9000여개인데, 작업효율상 2,500을 단어 집합의 크기로 제한\n",
    "\n",
    "tar_vocab = 2500"
   ]
  },
  {
   "cell_type": "code",
   "execution_count": 33,
   "id": "e2fe1f75",
   "metadata": {},
   "outputs": [
    {
     "name": "stdout",
     "output_type": "stream",
     "text": [
      "input\n",
      "input  [[1, 145, 934, 7, 526], [1, 186, 816, 1341], [1, 355, 2169, 2264, 1035, 356, 1073], [1, 708, 1182, 176, 373, 1912, 57], [1, 27, 158, 1183, 2428]]\n",
      "target\n",
      "decoder  [[145, 934, 7, 526, 2], [186, 816, 1341, 2], [355, 2169, 2264, 1035, 356, 1073, 2], [708, 1182, 176, 373, 1912, 57, 2], [27, 158, 1183, 2428, 2]]\n"
     ]
    }
   ],
   "source": [
    "tar_vocab = 2500\n",
    "tar_tokenizer = Tokenizer(num_words=tar_vocab) \n",
    "tar_tokenizer.fit_on_texts(decoder_input_train)  # decoder_input_train 토큰화\n",
    "tar_tokenizer.fit_on_texts(decoder_target_train) # decoder_target_train 토큰화\n",
    "\n",
    "# 텍스트 시퀀스를 정수 시퀀스로 변환: \n",
    "decoder_input_train = tar_tokenizer.texts_to_sequences(decoder_input_train) \n",
    "decoder_target_train = tar_tokenizer.texts_to_sequences(decoder_target_train)\n",
    "decoder_input_test = tar_tokenizer.texts_to_sequences(decoder_input_test)\n",
    "decoder_target_test = tar_tokenizer.texts_to_sequences(decoder_target_test)\n",
    "\n",
    "# 확인\n",
    "print('input')\n",
    "print('input ',decoder_input_train[:5])\n",
    "print('target')\n",
    "print('decoder ',decoder_target_train[:5])"
   ]
  },
  {
   "cell_type": "markdown",
   "id": "a34bbf80",
   "metadata": {},
   "source": [
    "전체 데이터에서 빈도수가 낮은 단어가 삭제되면서, 발생될수 있는 empty 샘플 제거"
   ]
  },
  {
   "cell_type": "code",
   "execution_count": 34,
   "id": "a48a0cb8",
   "metadata": {},
   "outputs": [
    {
     "name": "stdout",
     "output_type": "stream",
     "text": [
      "삭제할 훈련 데이터의 개수 : 95\n",
      "삭제할 테스트 데이터의 개수 : 39\n",
      "훈련 데이터의 개수 : 65437\n",
      "훈련 레이블의 개수 : 65437\n",
      "테스트 데이터의 개수 : 16343\n",
      "테스트 레이블의 개수 : 16343\n"
     ]
    }
   ],
   "source": [
    "drop_train = [index for index, sentence in enumerate(decoder_input_train) if len(sentence) == 1]\n",
    "drop_test = [index for index, sentence in enumerate(decoder_input_test) if len(sentence) == 1]\n",
    "\n",
    "print('삭제할 훈련 데이터의 개수 :', len(drop_train))\n",
    "print('삭제할 테스트 데이터의 개수 :', len(drop_test))\n",
    "\n",
    "encoder_input_train = [sentence for index, sentence in enumerate(encoder_input_train) if index not in drop_train]\n",
    "decoder_input_train = [sentence for index, sentence in enumerate(decoder_input_train) if index not in drop_train]\n",
    "decoder_target_train = [sentence for index, sentence in enumerate(decoder_target_train) if index not in drop_train]\n",
    "\n",
    "encoder_input_test = [sentence for index, sentence in enumerate(encoder_input_test) if index not in drop_test]\n",
    "decoder_input_test = [sentence for index, sentence in enumerate(decoder_input_test) if index not in drop_test]\n",
    "decoder_target_test = [sentence for index, sentence in enumerate(decoder_target_test) if index not in drop_test]\n",
    "\n",
    "print('훈련 데이터의 개수 :', len(encoder_input_train))\n",
    "print('훈련 레이블의 개수 :', len(decoder_input_train))\n",
    "print('테스트 데이터의 개수 :', len(encoder_input_test))\n",
    "print('테스트 레이블의 개수 :', len(decoder_input_test))"
   ]
  },
  {
   "cell_type": "markdown",
   "id": "84c6392d",
   "metadata": {},
   "source": [
    "#### 패딩하기\n",
    "같은 길이로 맞춰주는 패딩 작업"
   ]
  },
  {
   "cell_type": "code",
   "execution_count": 35,
   "id": "1220ce84",
   "metadata": {},
   "outputs": [],
   "source": [
    "encoder_input_train = pad_sequences(encoder_input_train, maxlen=text_max_len, padding='post')\n",
    "encoder_input_test = pad_sequences(encoder_input_test, maxlen=text_max_len, padding='post')\n",
    "decoder_input_train = pad_sequences(decoder_input_train, maxlen=headlines_max_len, padding='post')\n",
    "decoder_target_train = pad_sequences(decoder_target_train, maxlen=headlines_max_len, padding='post')\n",
    "decoder_input_test = pad_sequences(decoder_input_test, maxlen=headlines_max_len, padding='post')\n",
    "decoder_target_test = pad_sequences(decoder_target_test, maxlen=headlines_max_len, padding='post')\n"
   ]
  },
  {
   "cell_type": "markdown",
   "id": "19d5e6a9",
   "metadata": {},
   "source": [
    "데이터 전처리 완료"
   ]
  },
  {
   "cell_type": "markdown",
   "id": "2dc06d7b",
   "metadata": {},
   "source": [
    "### Step 3. 어텐션 메커니즘 사용하기 (추상적 요약)\n",
    "일반적인 seq2seq보다는 어텐션 메커니즘을 사용한 seq2seq를 사용하는 것이 더 나은 성능을 얻을 수 있어요. 실습 내용을 참고하여 어텐션 메커니즘을 사용한 seq2seq를 설계해 보세요."
   ]
  },
  {
   "cell_type": "markdown",
   "id": "99df8cf0",
   "metadata": {},
   "source": [
    "#### 인코더 설계\n",
    "Attention이있는 인코더는 일반 seq2seq와는 다르게, 인코더 LSTM layer의 인자에 return_sequence=True 설정해야함(timestep별 state가 모두 필요하므로) "
   ]
  },
  {
   "cell_type": "code",
   "execution_count": 36,
   "id": "1c7f2e99",
   "metadata": {},
   "outputs": [],
   "source": [
    "from tensorflow.keras.layers import Input, LSTM, Embedding, Dense, Concatenate, TimeDistributed, BatchNormalization\n",
    "from tensorflow.keras.models import Model\n",
    "from tensorflow.keras.callbacks import EarlyStopping, ModelCheckpoint\n",
    "\n",
    "\n",
    "# 인코더 설계 시작\n",
    "embedding_dim = 256#128  # 256  #128\n",
    "hidden_size = 256\n",
    "\n",
    "# 인코더\n",
    "encoder_inputs = Input(shape=(text_max_len,))\n",
    "\n",
    "# 인코더의 임베딩 층\n",
    "enc_emb = Embedding(src_vocab, embedding_dim)(encoder_inputs)\n",
    "enc_emb = BatchNormalization()(enc_emb) #my\n",
    "\n",
    "\n",
    "# 인코더의 LSTM 1\n",
    "# encoder_lstm1 = LSTM(hidden_size, return_sequences=True, return_state=True ,dropout = 0.4, recurrent_dropout = 0.4)\n",
    "encoder_lstm1 = LSTM(hidden_size, return_sequences=True, return_state=True ,dropout = 0.4)\n",
    "encoder_output1, state_h1, state_c1 = encoder_lstm1(enc_emb)\n",
    "encoder_output1 = BatchNormalization()(encoder_output1) #my\n",
    "\n",
    "# 인코더의 LSTM 2\n",
    "# encoder_lstm2 = LSTM(hidden_size, return_sequences=True, return_state=True, dropout=0.4, recurrent_dropout=0.4)\n",
    "encoder_lstm2 = LSTM(hidden_size, return_sequences=True, return_state=True, dropout=0.4)\n",
    "encoder_output2, state_h2, state_c2 = encoder_lstm2(encoder_output1)\n",
    "encoder_output2 = BatchNormalization()(encoder_output2) #my\n",
    "\n",
    "# 인코더의 LSTM 3\n",
    "# encoder_lstm3 = LSTM(hidden_size, return_state=True, return_sequences=True, dropout=0.4, recurrent_dropout=0.4)\n",
    "encoder_lstm3 = LSTM(hidden_size, return_state=True, return_sequences=True, dropout=0.4)\n",
    "encoder_outputs, state_h, state_c= encoder_lstm3(encoder_output2)\n",
    "encoder_outputs = BatchNormalization()(encoder_output2) #my"
   ]
  },
  {
   "cell_type": "markdown",
   "id": "810d1b3f",
   "metadata": {},
   "source": [
    "#### 디코더 설계\n",
    "디코더는 당연히 일반seq2seq와 동일하게 return_sequences= True 설정(이전 timestep output이 다음 timestep의 input이 되므로)"
   ]
  },
  {
   "cell_type": "code",
   "execution_count": 37,
   "id": "97c00a9c",
   "metadata": {},
   "outputs": [],
   "source": [
    "# 디코더 설계\n",
    "decoder_inputs = Input(shape=(None,))\n",
    "\n",
    "# 디코더의 임베딩 층\n",
    "dec_emb_layer = Embedding(tar_vocab, embedding_dim)\n",
    "dec_emb = dec_emb_layer(decoder_inputs)\n",
    "dec_emb = BatchNormalization()(dec_emb) #my\n",
    "\n",
    "# 디코더의 LSTM\n",
    "# decoder_lstm = LSTM(hidden_size, return_sequences=True, return_state=True, dropout=0.4, recurrent_dropout=0.2)\n",
    "decoder_lstm = LSTM(hidden_size, return_sequences=True, return_state=True, dropout=0.4)\n",
    "decoder_outputs, _, _ = decoder_lstm(dec_emb, initial_state=[state_h, state_c])\n",
    "decoder_outputs = BatchNormalization()(decoder_outputs) #my\n",
    "\n",
    "# 디코더의 출력층\n",
    "decoder_softmax_layer = Dense(tar_vocab, activation='softmax')\n",
    "decoder_softmax_outputs = decoder_softmax_layer(decoder_outputs) "
   ]
  },
  {
   "cell_type": "markdown",
   "id": "928b13a9",
   "metadata": {},
   "source": [
    "#### seq2seq 기초 모델 생성"
   ]
  },
  {
   "cell_type": "code",
   "execution_count": 38,
   "id": "5cdec0d7",
   "metadata": {},
   "outputs": [
    {
     "ename": "NameError",
     "evalue": "name 'model' is not defined",
     "output_type": "error",
     "traceback": [
      "\u001b[0;31m---------------------------------------------------------------------------\u001b[0m",
      "\u001b[0;31mNameError\u001b[0m                                 Traceback (most recent call last)",
      "\u001b[0;32m/tmp/ipykernel_10075/3682394117.py\u001b[0m in \u001b[0;36m<module>\u001b[0;34m\u001b[0m\n\u001b[0;32m----> 1\u001b[0;31m \u001b[0;32mdel\u001b[0m \u001b[0mmodel\u001b[0m\u001b[0;34m\u001b[0m\u001b[0;34m\u001b[0m\u001b[0m\n\u001b[0m",
      "\u001b[0;31mNameError\u001b[0m: name 'model' is not defined"
     ]
    }
   ],
   "source": [
    "#del model"
   ]
  },
  {
   "cell_type": "code",
   "execution_count": 39,
   "id": "f675681f",
   "metadata": {},
   "outputs": [
    {
     "name": "stdout",
     "output_type": "stream",
     "text": [
      "Model: \"model\"\n",
      "__________________________________________________________________________________________________\n",
      "Layer (type)                    Output Shape         Param #     Connected to                     \n",
      "==================================================================================================\n",
      "input_1 (InputLayer)            [(None, 40)]         0                                            \n",
      "__________________________________________________________________________________________________\n",
      "embedding (Embedding)           (None, 40, 256)      2560000     input_1[0][0]                    \n",
      "__________________________________________________________________________________________________\n",
      "batch_normalization (BatchNorma (None, 40, 256)      1024        embedding[0][0]                  \n",
      "__________________________________________________________________________________________________\n",
      "lstm (LSTM)                     [(None, 40, 256), (N 525312      batch_normalization[0][0]        \n",
      "__________________________________________________________________________________________________\n",
      "batch_normalization_1 (BatchNor (None, 40, 256)      1024        lstm[0][0]                       \n",
      "__________________________________________________________________________________________________\n",
      "input_2 (InputLayer)            [(None, None)]       0                                            \n",
      "__________________________________________________________________________________________________\n",
      "lstm_1 (LSTM)                   [(None, 40, 256), (N 525312      batch_normalization_1[0][0]      \n",
      "__________________________________________________________________________________________________\n",
      "embedding_1 (Embedding)         (None, None, 256)    640000      input_2[0][0]                    \n",
      "__________________________________________________________________________________________________\n",
      "batch_normalization_2 (BatchNor (None, 40, 256)      1024        lstm_1[0][0]                     \n",
      "__________________________________________________________________________________________________\n",
      "batch_normalization_4 (BatchNor (None, None, 256)    1024        embedding_1[0][0]                \n",
      "__________________________________________________________________________________________________\n",
      "lstm_2 (LSTM)                   [(None, 40, 256), (N 525312      batch_normalization_2[0][0]      \n",
      "__________________________________________________________________________________________________\n",
      "lstm_3 (LSTM)                   [(None, None, 256),  525312      batch_normalization_4[0][0]      \n",
      "                                                                 lstm_2[0][1]                     \n",
      "                                                                 lstm_2[0][2]                     \n",
      "__________________________________________________________________________________________________\n",
      "batch_normalization_5 (BatchNor (None, None, 256)    1024        lstm_3[0][0]                     \n",
      "__________________________________________________________________________________________________\n",
      "dense (Dense)                   (None, None, 2500)   642500      batch_normalization_5[0][0]      \n",
      "==================================================================================================\n",
      "Total params: 5,948,868\n",
      "Trainable params: 5,946,308\n",
      "Non-trainable params: 2,560\n",
      "__________________________________________________________________________________________________\n"
     ]
    }
   ],
   "source": [
    "# 모델 생성\n",
    "model = Model([encoder_inputs, decoder_inputs], decoder_softmax_outputs)\n",
    "model.summary()"
   ]
  },
  {
   "cell_type": "markdown",
   "id": "be0d6f34",
   "metadata": {},
   "source": [
    "#### 어텐션 메커니즘\n",
    "\n",
    "TensorFlow에 이미 구현된 어텐션 함수를 가져와서 디코더의 출력층에 결합해서 사용.\n",
    "(Bahdanau 스타일)"
   ]
  },
  {
   "cell_type": "code",
   "execution_count": 40,
   "id": "c3d20b89",
   "metadata": {},
   "outputs": [
    {
     "name": "stdout",
     "output_type": "stream",
     "text": [
      "Model: \"model_1\"\n",
      "__________________________________________________________________________________________________\n",
      "Layer (type)                    Output Shape         Param #     Connected to                     \n",
      "==================================================================================================\n",
      "input_1 (InputLayer)            [(None, 40)]         0                                            \n",
      "__________________________________________________________________________________________________\n",
      "embedding (Embedding)           (None, 40, 256)      2560000     input_1[0][0]                    \n",
      "__________________________________________________________________________________________________\n",
      "batch_normalization (BatchNorma (None, 40, 256)      1024        embedding[0][0]                  \n",
      "__________________________________________________________________________________________________\n",
      "lstm (LSTM)                     [(None, 40, 256), (N 525312      batch_normalization[0][0]        \n",
      "__________________________________________________________________________________________________\n",
      "batch_normalization_1 (BatchNor (None, 40, 256)      1024        lstm[0][0]                       \n",
      "__________________________________________________________________________________________________\n",
      "input_2 (InputLayer)            [(None, None)]       0                                            \n",
      "__________________________________________________________________________________________________\n",
      "lstm_1 (LSTM)                   [(None, 40, 256), (N 525312      batch_normalization_1[0][0]      \n",
      "__________________________________________________________________________________________________\n",
      "embedding_1 (Embedding)         (None, None, 256)    640000      input_2[0][0]                    \n",
      "__________________________________________________________________________________________________\n",
      "batch_normalization_2 (BatchNor (None, 40, 256)      1024        lstm_1[0][0]                     \n",
      "__________________________________________________________________________________________________\n",
      "batch_normalization_4 (BatchNor (None, None, 256)    1024        embedding_1[0][0]                \n",
      "__________________________________________________________________________________________________\n",
      "lstm_2 (LSTM)                   [(None, 40, 256), (N 525312      batch_normalization_2[0][0]      \n",
      "__________________________________________________________________________________________________\n",
      "lstm_3 (LSTM)                   [(None, None, 256),  525312      batch_normalization_4[0][0]      \n",
      "                                                                 lstm_2[0][1]                     \n",
      "                                                                 lstm_2[0][2]                     \n",
      "__________________________________________________________________________________________________\n",
      "batch_normalization_5 (BatchNor (None, None, 256)    1024        lstm_3[0][0]                     \n",
      "__________________________________________________________________________________________________\n",
      "batch_normalization_3 (BatchNor (None, 40, 256)      1024        batch_normalization_2[0][0]      \n",
      "__________________________________________________________________________________________________\n",
      "attention_layer (AdditiveAttent (None, None, 256)    256         batch_normalization_5[0][0]      \n",
      "                                                                 batch_normalization_3[0][0]      \n",
      "__________________________________________________________________________________________________\n",
      "concat_layer (Concatenate)      (None, None, 512)    0           batch_normalization_5[0][0]      \n",
      "                                                                 attention_layer[0][0]            \n",
      "__________________________________________________________________________________________________\n",
      "dense_1 (Dense)                 (None, None, 2500)   1282500     concat_layer[0][0]               \n",
      "==================================================================================================\n",
      "Total params: 6,590,148\n",
      "Trainable params: 6,587,076\n",
      "Non-trainable params: 3,072\n",
      "__________________________________________________________________________________________________\n"
     ]
    }
   ],
   "source": [
    "from tensorflow.keras.layers import AdditiveAttention\n",
    "\n",
    "# 어텐션 층(어텐션 함수)\n",
    "attn_layer = AdditiveAttention(name='attention_layer')\n",
    "\n",
    "# 인코더와 디코더의 모든time step의 hidden state를어텐션층에전달하고 결과를리턴\n",
    "attn_out = attn_layer([decoder_outputs, encoder_outputs])\n",
    "\n",
    "# 어텐션의 결과와 디코더의 hidden state들을 연결\n",
    "decoder_concat_input = Concatenate(axis=-1, name='concat_layer')([decoder_outputs, attn_out])\n",
    "\n",
    "# 디코더의 출력층\n",
    "decoder_softmax_layer = Dense(tar_vocab, activation='softmax')\n",
    "decoder_softmax_outputs = decoder_softmax_layer(decoder_concat_input)\n",
    "\n",
    "# 모델 정의\n",
    "model = Model([encoder_inputs, decoder_inputs], decoder_softmax_outputs)\n",
    "model.summary()"
   ]
  },
  {
   "cell_type": "markdown",
   "id": "396d1ad4",
   "metadata": {},
   "source": [
    "#### Attention 모델 학습"
   ]
  },
  {
   "cell_type": "code",
   "execution_count": 41,
   "id": "de127d5d",
   "metadata": {},
   "outputs": [
    {
     "name": "stdout",
     "output_type": "stream",
     "text": [
      "Epoch 1/50\n",
      "256/256 [==============================] - 28s 76ms/step - loss: 3.7430 - val_loss: 6.9720\n",
      "Epoch 2/50\n",
      "256/256 [==============================] - 18s 71ms/step - loss: 2.7675 - val_loss: 3.0886\n",
      "Epoch 3/50\n",
      "256/256 [==============================] - 18s 70ms/step - loss: 2.3704 - val_loss: 2.6430\n",
      "Epoch 4/50\n",
      "256/256 [==============================] - 18s 70ms/step - loss: 2.1142 - val_loss: 2.5951\n",
      "Epoch 5/50\n",
      "256/256 [==============================] - 18s 70ms/step - loss: 1.9247 - val_loss: 2.5734\n",
      "Epoch 6/50\n",
      "256/256 [==============================] - 18s 70ms/step - loss: 1.7768 - val_loss: 2.6130\n",
      "Epoch 7/50\n",
      "256/256 [==============================] - 18s 70ms/step - loss: 1.6552 - val_loss: 2.6745\n",
      "Epoch 00007: early stopping\n"
     ]
    }
   ],
   "source": [
    "model.compile(optimizer='rmsprop', loss='sparse_categorical_crossentropy')\n",
    "es = EarlyStopping(monitor='val_loss', patience=2, verbose=1)\n",
    "history = model.fit(x=[encoder_input_train, decoder_input_train], y=decoder_target_train, \\\n",
    "          validation_data=([encoder_input_test, decoder_input_test], decoder_target_test), \\\n",
    "          batch_size=256, callbacks=[es], epochs=50)"
   ]
  },
  {
   "cell_type": "markdown",
   "id": "5ef4639d",
   "metadata": {},
   "source": [
    "plotting"
   ]
  },
  {
   "cell_type": "code",
   "execution_count": 42,
   "id": "c984c979",
   "metadata": {},
   "outputs": [
    {
     "data": {
      "image/png": "[encoded data removed]",
      "text/plain": [
       "<Figure size 432x288 with 1 Axes>"
      ]
     },
     "metadata": {
      "needs_background": "light"
     },
     "output_type": "display_data"
    }
   ],
   "source": [
    "plt.plot(history.history['loss'], label='train')\n",
    "plt.plot(history.history['val_loss'], label='test')\n",
    "plt.legend()\n",
    "plt.show()"
   ]
  },
  {
   "cell_type": "markdown",
   "id": "c257fbc4",
   "metadata": {},
   "source": [
    "### 인퍼런스 모델:  모델 성능 테스트\n",
    "테스트 단계에서는 정수 인덱스 행렬로 존재하던 텍스트 데이터를 실제 데이터로 복원해야 하므로, 필요한 3개의 사전 미리 준비."
   ]
  },
  {
   "cell_type": "code",
   "execution_count": 43,
   "id": "2463b5ef",
   "metadata": {},
   "outputs": [],
   "source": [
    "src_index_to_word = src_tokenizer.index_word # 원문 단어 집합에서 정수 -> 단어를 얻음\n",
    "tar_word_to_index = tar_tokenizer.word_index # 요약 단어 집합에서 단어 -> 정수를 얻음\n",
    "tar_index_to_word = tar_tokenizer.index_word # 요약 단어 집합에서 정수 -> 단어를 얻음\n"
   ]
  },
  {
   "cell_type": "markdown",
   "id": "e43b620e",
   "metadata": {},
   "source": [
    "테스트용 인코더 설계"
   ]
  },
  {
   "cell_type": "code",
   "execution_count": 44,
   "id": "bda9cd13",
   "metadata": {},
   "outputs": [],
   "source": [
    "# 인코더 설계\n",
    "encoder_model = Model(inputs=encoder_inputs, outputs=[encoder_outputs, state_h, state_c])\n",
    "\n",
    "# 이전 시점의 상태들을 저장하는 텐서\n",
    "decoder_state_input_h = Input(shape=(hidden_size,))\n",
    "decoder_state_input_c = Input(shape=(hidden_size,))\n",
    "\n",
    "dec_emb2 = dec_emb_layer(decoder_inputs)\n",
    "\n",
    "# 문장의 다음 단어를 예측하기 위해서 초기 상태(initial_state)를 이전 시점의 상태로 사용. 이는 뒤의 함수 decode_sequence()에 구현\n",
    "# 훈련 과정에서와 달리 LSTM의 리턴하는 은닉 상태와 셀 상태인 state_h와 state_c를 버리지 않음.\n",
    "decoder_outputs2, state_h2, state_c2 = decoder_lstm(dec_emb2, initial_state=[decoder_state_input_h, decoder_state_input_c])\n"
   ]
  },
  {
   "cell_type": "markdown",
   "id": "a259ab2c",
   "metadata": {},
   "source": [
    "Attention 레이어 생성,테스트용 디코더 설계 및 최종 모델 생성"
   ]
  },
  {
   "cell_type": "code",
   "execution_count": 45,
   "id": "c4613e49",
   "metadata": {},
   "outputs": [],
   "source": [
    "# 어텐션 함수\n",
    "decoder_hidden_state_input = Input(shape=(text_max_len, hidden_size))\n",
    "attn_out_inf = attn_layer([decoder_outputs2, decoder_hidden_state_input])\n",
    "decoder_inf_concat = Concatenate(axis=-1, name='concat')([decoder_outputs2, attn_out_inf])\n",
    "\n",
    "# 디코더의 softmax 출력층\n",
    "decoder_outputs2 = decoder_softmax_layer(decoder_inf_concat) \n",
    "\n",
    "# 최종 디코더 모델\n",
    "decoder_model = Model(\n",
    "    [decoder_inputs] + [decoder_hidden_state_input,decoder_state_input_h, decoder_state_input_c],\n",
    "    [decoder_outputs2] + [state_h2, state_c2])\n"
   ]
  },
  {
   "cell_type": "markdown",
   "id": "8f6fb6aa",
   "metadata": {},
   "source": [
    "#### 인퍼런스 단계에서 단어 시퀀스를 완성하는 decode_sequence 함수정의"
   ]
  },
  {
   "cell_type": "code",
   "execution_count": 46,
   "id": "de746bec",
   "metadata": {},
   "outputs": [],
   "source": [
    "def decode_sequence(input_seq):\n",
    "    # 입력으로부터 인코더의 상태를 얻음\n",
    "    e_out, e_h, e_c = encoder_model.predict(input_seq)\n",
    "\n",
    "     # <SOS>에 해당하는 토큰 생성\n",
    "    target_seq = np.zeros((1,1))\n",
    "    target_seq[0, 0] = tar_word_to_index['sostoken']\n",
    "\n",
    "    stop_condition = False\n",
    "    decoded_sentence = ''\n",
    "    while not stop_condition: # stop_condition이 True가 될 때까지 루프 반복\n",
    "\n",
    "        output_tokens, h, c = decoder_model.predict([target_seq] + [e_out, e_h, e_c])\n",
    "        sampled_token_index = np.argmax(output_tokens[0, -1, :])\n",
    "        sampled_token = tar_index_to_word[sampled_token_index]\n",
    "\n",
    "        if (sampled_token!='eostoken'):\n",
    "            decoded_sentence += ' '+sampled_token\n",
    "\n",
    "        #  <eos>에 도달하거나 최대 길이를 넘으면 중단.\n",
    "        if (sampled_token == 'eostoken'  or len(decoded_sentence.split()) >= (headlines_max_len-1)):\n",
    "            stop_condition = True\n",
    "\n",
    "        # 길이가 1인 타겟 시퀀스를 업데이트\n",
    "        target_seq = np.zeros((1,1))\n",
    "        target_seq[0, 0] = sampled_token_index\n",
    "\n",
    "        # 상태를 업데이트 합니다.\n",
    "        e_h, e_c = h, c\n",
    "\n",
    "    return decoded_sentence\n"
   ]
  },
  {
   "cell_type": "markdown",
   "id": "38af349c",
   "metadata": {},
   "source": [
    "### Step 4. 실제 결과와 요약문 비교하기 (추상적 요약)\n",
    "원래의 요약문(headlines 열)과 학습을 통해 얻은 추상적 요약의 결과를 비교해 보세요."
   ]
  },
  {
   "cell_type": "code",
   "execution_count": 47,
   "id": "29785a23",
   "metadata": {},
   "outputs": [],
   "source": [
    "# 원문의 정수 시퀀스를 텍스트 시퀀스로 변환\n",
    "def seq2text(input_seq):\n",
    "    temp=''\n",
    "    for i in input_seq:\n",
    "        if (i!=0):\n",
    "            temp = temp + src_index_to_word[i]+' '\n",
    "    return temp\n",
    "\n",
    "# 요약문의 정수 시퀀스를 텍스트 시퀀스로 변환\n",
    "def seq2headlines(input_seq):\n",
    "    temp=''\n",
    "    for i in input_seq:\n",
    "        if ((i!=0 and i!=tar_word_to_index['sostoken']) and i!=tar_word_to_index['eostoken']):\n",
    "            temp = temp + tar_index_to_word[i] + ' '\n",
    "    return temp\n"
   ]
  },
  {
   "cell_type": "markdown",
   "id": "cced7c20",
   "metadata": {},
   "source": [
    "#### 추상적 요약의 결과를 비교"
   ]
  },
  {
   "cell_type": "code",
   "execution_count": 48,
   "id": "0e1196c0",
   "metadata": {},
   "outputs": [
    {
     "name": "stdout",
     "output_type": "stream",
     "text": [
      "원문 : indian sprinter chand silver medal asian games running seconds awarded crore odisha government award announced state chief minister naveen patnaik notably became first indian sprinter bag medal event asian games since \n",
      "실제 요약 : silver running get crore \n",
      "예측 요약 :  wins wins wins wins wins wins wins\n",
      "\n",
      "\n",
      "원문 : japanese conglomerate softbank talks invest million us based dog sitting app according reports comes months startup slammed allegedly losing customers pets care founded gives demand access dog hired users dog walking dog sitting \n",
      "실제 요약 : softbank may invest mn dog app \n",
      "예측 요약 :  invest invest dog dog dog dog dog\n",
      "\n",
      "\n",
      "원문 : actor oscar isaac revealed late actress slap times filming scene film star wars last added every time would hit like different spot face died suffering heart attack played princess star wars franchise \n",
      "실제 요약 : times star scene oscar \n",
      "예측 요약 :  actress late times times times times actress\n",
      "\n",
      "\n",
      "원문 : gitanjali gems owner mehul choksi letter employees said done anything wrong face said ultimately truth shall justice deserve far shall take time prove future seems choksi added \n",
      "실제 요약 : face done nothing wrong choksi \n",
      "예측 요약 :  done done choksi choksi done choksi done\n",
      "\n",
      "\n",
      "원문 : apple app store generated nearly revenue google play store third quarter according market analyst sensor tower approximately billion mobile app revenue generated came apple app store meanwhile google play earned billion previous quarter billion \n",
      "실제 요약 : app store made revenue play store report \n",
      "예측 요약 :  apple apple apple apple apple apple apple\n",
      "\n",
      "\n",
      "원문 : union minister ram paswan friday said hotels restaurants decide amount service charge left customer government framed new guidelines service charge make totally voluntary added paswan said guidelines sent states necessary action \n",
      "실제 요약 : service charge must left \n",
      "예측 요약 :  union union union union union union union\n",
      "\n",
      "\n",
      "원문 : virat kohli admitted team management got combination wrong lord test india lost innings runs india playing xi included two spinners failed pick single wicket first time last five tests lose way went things added \n",
      "실제 요약 : got wrong lose kohli lord test \n",
      "예측 요약 :  kohli kohli kohli kohli kohli kohli kohli\n",
      "\n",
      "\n",
      "원문 : delhi cm aap convenor arvind kejriwal said sunday charges levelled kapil mishra baseless unless would jail would centre would ensured jail even truth charges levelled said \n",
      "실제 요약 : kejriwal kapil allegations \n",
      "예측 요약 :  kejriwal kejriwal kejriwal kejriwal kejriwal kejriwal kejriwal\n",
      "\n",
      "\n",
      "원문 : kapoor speaking reports nephew ranbir kapoor marriage said ranbir time success money get married soon added enough time ranbir marry said relationship status anybody concern business \n",
      "실제 요약 : ranbir great marry soon \n",
      "예측 요약 :  ranbir ranbir ranbir ranbir ranbir ranbir ranbir\n",
      "\n",
      "\n",
      "원문 : pacific nation demanded apology china envoy crazy behaviour pacific islands forum row erupted president baron rejected chinese envoy du demand speak event pm earlier refused grant entry chinese delegation diplomatic passports \n",
      "실제 요약 : demands china apology envoy \n",
      "예측 요약 :  envoy envoy envoy envoy envoy envoy envoy\n",
      "\n",
      "\n",
      "원문 : female teacher private school allegedly broke arm upper student andhra pradesh visakhapatnam district according reports teacher fractured girl arm beating girl family staged protests school demanded action teacher \n",
      "실제 요약 : teacher breaks kid arm \n",
      "예측 요약 :  teacher teacher teacher teacher teacher teacher teacher\n",
      "\n",
      "\n",
      "원문 : video elderly woman working hindi front collector office madhya pradesh going viral video woman seen documents people speed video likes micro blogging site twitter \n",
      "실제 요약 : video old woman working mp goes viral \n",
      "예측 요약 :  video video video video video video video\n",
      "\n",
      "\n",
      "원문 : actress rose talking hollywood producer harvey weinstein accused raping said sure would prefer dead added people finds worse lawyers said people around supported attempt abuse women \n",
      "실제 요약 : weinstein would dead \n",
      "예측 요약 :  weinstein weinstein weinstein weinstein weinstein weinstein weinstein\n",
      "\n",
      "\n",
      "원문 : group international volunteers fighting kurdish forces islamic state northern syria formed first lgbt military unit battle terror group formation liberation army announced monday notably members lgbt community suffered hands militant group \n",
      "실제 요약 : first unit created fight isis syria \n",
      "예측 요약 :  syria syria syria syria syria syria syria\n",
      "\n",
      "\n",
      "원문 : pictures actor ranbir kapoor pakistani actress mahira khan smoking together new york usa surfaced online rumoured two dating ever since appeared together event march ranbir earlier said dating katrina kaif mahira single mother \n",
      "실제 요약 : pic rumoured couple ranbir us online \n",
      "예측 요약 :  ranbir ranbir ranbir ranbir ranbir ranbir ranbir\n",
      "\n",
      "\n",
      "원문 : janhvi kapoor ishaan khatter starrer dhadak crore worldwide earning crore india film released july collected crore first week country per bollywood trade analyst adarsh producer karan johar tweeted crore worldwide gross rare feat film \n",
      "실제 요약 : janhvi starrer crore \n",
      "예측 요약 :  cr cr cr cr cr cr cr\n",
      "\n",
      "\n",
      "원문 : actor govinda said films targeted last nine years reached cinema houses people providing place act know mistake made continue working added govinda said please provide platform work \n",
      "실제 요약 : films yrs provide platform work \n",
      "예측 요약 :  films films films films films films films\n",
      "\n",
      "\n",
      "원문 : addition lakh compensation announced cm yogi adityanath railways minister piyush goyal announced lakh ex gratia kin killed several coaches delhi bound new express derailed near goyal also ordered inquiry train derailment left seven people dead injured \n",
      "실제 요약 : lakh ex kin victims train \n",
      "예측 요약 :  lakh lakh lakh lakh lakh lakh lakh\n",
      "\n",
      "\n",
      "원문 : gurugram police saturday midnight rescued twenty people trapped mall lift nearly minutes police said two six women fell unconscious lift due lack oxygen trapped people reportedly contacted control room police called staff could fix technical glitch \n",
      "실제 요약 : stuck gurugram lift mins rescued \n",
      "예측 요약 :  rescued rescued rescued rescued rescued rescued rescued\n",
      "\n",
      "\n",
      "원문 : slamming article published goa church magazine compared goa india nazi germany bjp claimed nazi germany almost catholic church support however germany population catholic hitler took chancellor per germany census \n",
      "실제 요약 : germany almost bjp goa church \n",
      "예측 요약 :  germany germany germany germany germany germany germany\n",
      "\n",
      "\n",
      "원문 : national green tribunal friday asked delhi government clarify two wheelers women drivers exempted odd even scheme stating two wheelers contribute air pollution called scheme ngt said stay imposition plan government scheme reduced pollution \n",
      "실제 요약 : women even ngt asks delhi govt \n",
      "예측 요약 :  ngt ngt ngt ngt ngt ngt ngt\n",
      "\n",
      "\n",
      "원문 : indian batsman rohit sharma wife asked indian spinner yuzvendra chahal keep rohit th october chahal earlier tagged comment read see see everywhere chahal spin partner indian team kuldeep yadav also replied chahal comment \n",
      "실제 요약 : rohit wife asks keep \n",
      "예측 요약 :  rohit rohit rohit rohit rohit rohit rohit\n",
      "\n",
      "\n",
      "원문 : shadow group released number windows earlier year threatened leak hacking tools coming months group leak used global wannacry ransomware attack last week hit countries group claims stolen us spy agency nsa \n",
      "실제 요약 : group threatens \n",
      "예측 요약 :  leak leak leak cyber cyber cyber cyber\n",
      "\n",
      "\n",
      "원문 : actor turned politician pawan kalyan announced party contest seats andhra pradesh assembly polls held added contest assembly elections party founded contesting elections without understanding root level conditions lead good results \n",
      "실제 요약 : led party contest andhra assembly seats \n",
      "예측 요약 :  contest contest contest contest contest contest contest\n",
      "\n",
      "\n",
      "원문 : bollywood brendon de arrested set one kangana ranaut upcoming movies maharashtra district charges raping year old boy year old sexual relations minor met dating app police said boy sexually involved men met via app \n",
      "실제 요약 : arrested kangana film set raping minor boy \n",
      "예측 요약 :  maharashtra maharashtra maharashtra maharashtra maharashtra maharashtra maharashtra\n",
      "\n",
      "\n",
      "원문 : india suffered run defeat england fifth test oval tuesday losing five match series first time since defeat australia india lost four matches five match test series india lost six last eight away test matches \n",
      "실제 요약 : india lose matches test series st time years \n",
      "예측 요약 :  defeat defeat defeat defeat defeat defeat defeat\n",
      "\n",
      "\n",
      "원문 : judges uk longer required give permission end life support patients conscious state uk supreme court ruled easier withdraw food liquid let patients die doctors families agreement \n",
      "실제 요약 : uk patients taken life support without court \n",
      "예측 요약 :  uk uk uk uk uk uk uk\n",
      "\n",
      "\n",
      "원문 : france saturday honoured police officer hostage attack supermarket later succumbed injuries flags flown half police stations across country calling national hero president emmanuel macron said died service nation would already given much \n",
      "실제 요약 : france hero cop \n",
      "예측 요약 :  france france france france france france france\n",
      "\n",
      "\n",
      "원문 : rajasthan government requested airports authority india build separate terminal form jaipur international airport vip movement official said need separate entry exit ensure security currently state aircraft carrying operated state \n",
      "실제 요약 : rajasthan govt wants separate airport \n",
      "예측 요약 :  govt govt govt govt govt govt govt\n",
      "\n",
      "\n",
      "원문 : supreme court wednesday refused bjp plea seeking intervention west bengal panchayat polls bjp claimed ruling tmc pressurised state election commission withdraw order extending deadline filing nominations pointing calcutta high court ordered stay withdrawal order sc directed bjp approach hc \n",
      "실제 요약 : sc refuses bjp plea wb polls \n",
      "예측 요약 :  sc sc sc sc sc sc sc\n",
      "\n",
      "\n",
      "원문 : india rio olympics silver medalist shuttler pv sindhu set indian contingent flag opening ceremony commonwealth games australia reportedly saina nehwal mary kom honour chosen following better olympic result sindhu bronze edition \n",
      "실제 요약 : sindhu india flag games \n",
      "예측 요약 :  sindhu sindhu sindhu sindhu sindhu sindhu sindhu\n",
      "\n",
      "\n",
      "원문 : candidates appearing exam conducted primary school teachers delhi civic schools prohibited wearing jewellery full dresses carrying watches exam delhi services selection board prescribed strict dress code required followed candidates appearing exam \n",
      "실제 요약 : govt school teacher exam candidates told wear \n",
      "예측 요약 :  delhi delhi delhi delhi delhi delhi delhi\n",
      "\n",
      "\n",
      "원문 : company created claimed world first coffee called clear coffee order avoid teeth product made coffee water claims free artificial company founded two brothers adam david \n",
      "실제 요약 : company creates clear \n",
      "예측 요약 :  claims claims claims claims claims claims claims\n",
      "\n",
      "\n",
      "원문 : protest centre alleged inaction following drought tamil nadu farmers state resorted streets delhi stuffed one farmers said crop failed resort eating feed earlier farmers protested wearing \n",
      "실제 요약 : tamil nadu farmers protest delhi \n",
      "예측 요약 :  farmers farmers farmers farmers farmers farmers farmers\n",
      "\n",
      "\n",
      "원문 : supreme court directed unitech pay litigation cost homebuyers delay delivery flats gurugram housing project court directed unitech pay amount within four weeks buyers notably homebuyers already paid principal amount interest unitech sc previous order \n",
      "실제 요약 : sc orders pay \n",
      "예측 요약 :  pay pay pay pay pay pay pay\n",
      "\n",
      "\n",
      "원문 : world health organisation report stated india recorded substantial decline cases compared report attributed reduction largely substantial decline disease highly odisha success factors reduction disease include political commitment report noted \n",
      "실제 요약 : cases india report \n",
      "예측 요약 :  world world world world world world world\n",
      "\n",
      "\n",
      "원문 : sri lanka tuesday imposed day nation wide state emergency due clashes buddhist muslim communities district move aimed preventing spread violence parts country government spokesperson said government warned take action violence social media \n",
      "실제 요약 : sri lanka imposes state emergency violence \n",
      "예측 요약 :  sri sri sri sri sri sri sri\n",
      "\n",
      "\n",
      "원문 : playing role late actress sridevi rama rao upcoming biopic per reports sridevi acted films including justice reports added approached role date clash might problem busy projects \n",
      "실제 요약 : play sridevi biopic reports \n",
      "예측 요약 :  sridevi sridevi sridevi sridevi sridevi sridevi sridevi\n",
      "\n",
      "\n",
      "원문 : mma fighter conor mcgregor smashed ufc rival bus metal voluntarily walking police station two people reportedly injured attack including ufc fighter hit shattered glass mcgregor plane grounded new york charged three counts assault one criminal \n",
      "실제 요약 : mcgregor rival bus turns \n",
      "예측 요약 :  mcgregor mcgregor mcgregor bus bus bus bus\n",
      "\n",
      "\n",
      "원문 : day one second test india england lord abandoned without even ball bowled due rain former indian cricketer sachin tendulkar supposed ring lord bell start play india trailing series suffering run defeat \n",
      "실제 요약 : day one lord test without ball \n",
      "예측 요약 :  india india india india india india india\n",
      "\n",
      "\n",
      "원문 : activist nobel peace laureate malala took social media share picture actress priyanka chopra united nations event cannot believe met priyanka chopra wrote malala responding priyanka tweeted words enough cannot believe met young girl much heart achievements proud \n",
      "실제 요약 : cannot believe met priyanka chopra \n",
      "예측 요약 :  priyanka priyanka priyanka priyanka priyanka priyanka priyanka\n",
      "\n",
      "\n",
      "원문 : actor ranveer singh attended influential young indians award ceremony held new delhi wearing deep blue ensemble included skirt actor rajkummar rao rapper also attended event celebrities feature influential young indians list year \n",
      "실제 요약 : ranveer singh award show wearing \n",
      "예측 요약 :  ranveer ranveer ranveer ranveer ranveer ranveer ranveer\n",
      "\n",
      "\n",
      "원문 : dj khushi performed priyanka chopra nick jonas engagement party said nick jonas indian american added sport letting lady lead way throughout celebrations revealed played songs bollywood songs like \n",
      "실제 요약 : nick indian american engagement party \n",
      "예측 요약 :  nick nick nick nick nick nick nick\n",
      "\n",
      "\n",
      "원문 : fir filed jawans killing two civilians jammu kashmir deputy cm singh said nobody permitted forces army claimed fired civilians injured seven jawans filed counter fir incident locals alleged jawans initiated attack \n",
      "실제 요약 : let forces lose cm fir army \n",
      "예측 요약 :  fir fir fir fir fir fir fir\n",
      "\n",
      "\n",
      "원문 : aiadmk leader suggested late cm jayalalithaa name recommended nobel prize light scheme preventing female tamil nadu jayalalithaa baby scheme even nobel peace prize winner mother added scheme allowed women hand government \n",
      "실제 요약 : jayalalithaa nobel prize aiadmk leader \n",
      "예측 요약 :  jayalalithaa jayalalithaa jayalalithaa jayalalithaa jayalalithaa jayalalithaa jayalalithaa\n",
      "\n",
      "\n",
      "원문 : saudi ministry culture pulled novel award winning author thursday opened investigation matter denounced pornographic fiction novel thursday visitors al young woman journey self discovery thursday get women share \n",
      "실제 요약 : saudi recalls book call \n",
      "예측 요약 :  award award award award award award award\n",
      "\n",
      "\n",
      "원문 : least militants affiliated islamic state taliban militant groups joined peace process afghanistan eastern province militants handed rocket along different types weapons security forces around militants joined peace process till date due efforts intelligence officials said \n",
      "실제 요약 : isis taliban militants join peace process afghanistan \n",
      "예측 요약 :  isis isis militants militants militants isis isis\n",
      "\n",
      "\n",
      "원문 : saudi arabia crown prince mohammed bin salman wants war yemen leaked emails revealed crown prince statement part conversation us officials details revealed emails saudi led coalition involved yemen civil war since backing government houthi rebels \n",
      "실제 요약 : saudi prince wants yemen war reports \n",
      "예측 요약 :  saudi saudi saudi saudi saudi saudi saudi\n",
      "\n",
      "\n",
      "원문 : gupta talking daughter gupta trial separation husband madhu said still taken step trying figure way early talk whatever happen happen time comes discuss added \n",
      "실제 요약 : trying way trial \n",
      "예측 요약 :  still still still still still still still\n",
      "\n",
      "\n",
      "원문 : government asked pnb cbi enforcement directorate share details billion scam institute chartered india high level group constituted accounting body studying issues involved fraud member panel met least three times awaiting information president naveen nd gupta said \n",
      "실제 요약 : govt asks pnb share scam details \n",
      "예측 요약 :  pnb pnb pnb pnb pnb pnb pnb\n",
      "\n",
      "\n"
     ]
    }
   ],
   "source": [
    "for i in range(0, 50):\n",
    "    print(\"원문 :\", seq2text(encoder_input_test[i]))\n",
    "    print(\"실제 요약 :\", seq2headlines(decoder_input_test[i]))\n",
    "    print(\"예측 요약 :\", decode_sequence(encoder_input_test[i].reshape(1, text_max_len)))\n",
    "    print(\"\\n\")"
   ]
  },
  {
   "cell_type": "markdown",
   "id": "fd6cb4bd",
   "metadata": {},
   "source": [
    "#### 추상적 요약에 대한 의견\n",
    "\n",
    "예측요약은 대부분 실제 요약내에 있는 단어에 포함되어있고,포함도지 않은 소수는 원문내에 있어, 핵심 단어수준에서는 개략 맞는 것 같으나,예측문장은 대부분 동일 단어들이 반복되고 있어서, 하나의 문장을 이루지 못하고 있슴,\n",
    "\n",
    "좀더 모델성능향상을 위한 모델구조개선과 하이퍼파라메터등을 개선 적용해서,EPOCH를 충분히 늘려서, 적용하면 좀 더 나아질것 같으나, \n",
    "궁극적으로 트랜스포머에대한 기대감이 커짐"
   ]
  },
  {
   "cell_type": "markdown",
   "id": "e843fc2b",
   "metadata": {},
   "source": [
    "### Step 5. Summa을 이용해서 추출적 요약해보기\n",
    "\n",
    "추상적 요약은 추출적 요약과는 달리 문장의 표현력을 다양하게 가져갈 수 있지만, 추출적 요약에 비해서 난이도가 높아요. 반대로 말하면 추출적 요약은 추상적 요약에 비해 난이도가 낮고 기존 문장에서 문장을 꺼내오는 것이므로 잘못된 요약이 나올 가능성이 낮아요.\n",
    "\n",
    "Summa의 summarize를 사용하여 추출적 요약을 해보세요."
   ]
  },
  {
   "cell_type": "code",
   "execution_count": 49,
   "id": "acaf958d",
   "metadata": {},
   "outputs": [],
   "source": [
    "from summa.summarizer import summarize"
   ]
  },
  {
   "cell_type": "code",
   "execution_count": 50,
   "id": "00d8cf06",
   "metadata": {},
   "outputs": [],
   "source": [
    "import pandas as pd\n",
    "data_summa = pd.read_csv('news_summary_more.csv', encoding='iso-8859-1')"
   ]
  },
  {
   "cell_type": "markdown",
   "id": "36625b00",
   "metadata": {},
   "source": [
    "#### 앞의 추상적요약에서 다루었던 news_summary_more.csv 기사 텍스트의 앞쪽 100문장(글자수 36,030자) 대상 추출적 요약실행"
   ]
  },
  {
   "cell_type": "code",
   "execution_count": 51,
   "id": "6b5a493f",
   "metadata": {},
   "outputs": [
    {
     "name": "stdout",
     "output_type": "stream",
     "text": [
      "36030 Saurav Kant, an alumnus of upGrad and IIIT-B's PG Program in Machine learning and Artificial Intelligence, was a Sr Systems Engineer at Infosys with almost 5 years of work experience. The program and upGrad's 360-degree career support helped him transition to a Data Scientist at Tech Mahindra with 90% salary hike. upGrad's Online Power Learning has powered 3 lakh+ careers.,Kunal Shah's credit card bill payment platform, CRED, gave users a chance to win free food from Swiggy for one year. Pranav Kaushik, a Delhi techie, bagged this reward after spending 2000 CRED coins. Users get one CRED coin per rupee of bill paid, which can be used to avail rewards from brands like Ixigo, BookMyShow, UberEats, Cult.Fit and more.,New Zealand defeated India by 8 wickets in the fourth ODI at Hamilton on Thursday to win their first match of the five-match ODI series. India lost an international match under Rohit Sharma's captaincy after 12 consecutive victories dating back to March 2018. The match witnessed India getting all out for 92, their seventh lowest total in ODI cricket history.,With Aegon Life iTerm Insurance plan, customers can enjoy tax benefits on your premiums paid and save up to Ã¢ÂÂ¹46,800^ on taxes. The plan provides life cover up to the age of 100 years. Also, customers have options to insure against Critical Illnesses, Disability and Accidental Death Benefit Rider with a life cover up to the age of 80 years.,Speaking about the sexual harassment allegations against Rajkumar Hirani, Sonam Kapoor said, \"I've known Hirani for many years...What if it's not true, the [#MeToo] movement will get derailed.\" \"In the #MeToo movement, I always believe a woman. But in this case, we need to reserve our judgment,\" she added. Hirani has been accused by an assistant who worked in 'Sanju'.,Pakistani singer Rahat Fateh Ali Khan has denied receiving any notice from the Enforcement Directorate over allegedly smuggling foreign currency out of India. \"It would have been better if the authorities would have served the notice first if any and then publicised this,\" reads a press release issued on behalf of Rahat. The statement further called the allegation \"bizarre\".,India recorded their lowest ODI total in New Zealand after getting all out for 92 runs in 30.5 overs in the fourth ODI at Hamilton on Thursday. Seven of India's batsmen were dismissed for single-digit scores, while their number ten batsman Yuzvendra Chahal top-scored with 18*(37). India's previous lowest ODI total in New Zealand was 108.,Weeks after ex-CBI Director Alok Verma told the Department of Personnel and Training to consider him retired, the Home Ministry asked him to join work on the last day of his fixed tenure as Director on Thursday. The ministry directed him to immediately join as DG, Fire Services, the post he was transferred to after his removal as CBI chief.,Andhra Pradesh CM N Chandrababu Naidu has said, \"When I met then US President Bill Clinton, I addressed him as Mr Clinton, not as 'sir'. (PM Narendra) Modi is my junior in politics...I addressed him as sir 10 times.\" \"I did this...to satisfy his ego in the hope that he will do justice to the state,\" he added.,Congress candidate Shafia Zubair won the Ramgarh Assembly seat in Rajasthan, by defeating BJP's Sukhwant Singh with a margin of 12,228 votes in the bypoll. With this victory, Congress has taken its total to 100 seats in the 200-member assembly. The election to the Ramgarh seat was delayed due to the death of sitting MLA and BSP candidate Laxman Singh.,Two minor cousins in Uttar Pradesh's Gorakhpur were allegedly repeatedly burnt with tongs and forced to eat human excreta by their family for being friends with two boys from the same school. The cousins revealed their ordeal to the police and Child Welfare Committee after being brought back to Gorakhpur from Nepal, where they had fled to escape the torture.,Isha Ghosh, an 81-year-old member of Bharat Scouts and Guides (BSG), has been imparting physical and mental training to schoolchildren in Jharkhand for several decades. Chaibasa-based Ghosh reportedly walks seven kilometres daily and spends eight hours conducting physical training, apart from climbing and yoga sessions. She says, \"One should do something for society till one's last breath.\",Urging saints and seers at the Kumbh Mela to quit smoking, Yoga guru Ramdev said, \"We follow Ram and Krishna who never smoked in their life then why should we?\" Making them take a pledge to quit tobacco, he collected chillum (clay pipe) from several sadhus. He said he will deposit the chillums for display at a museum he'll build.,Former stripper and regional sales director of a pharmaceutical company, Sunrise Lee, gave a doctor a lap dance in a nightclub to persuade him to prescribe an addictive fentanyl spray in 2012, the company's sales representative told a US court. She said she saw Lee \"sitting on [doctor's] lap, kind of bouncing around.\" Lee has been accused of bribing doctors.,Reliance Industries' Chairman Mukesh Ambani's daughter Isha Ambani, who got married last month, said she only cried at her 'bidaai' because she felt peer pressure as everyone was crying, especially her parents. \"I was emotional too but everyone around me would cry all the time,\" she added. \"It was a very emotional affair for everyone in my family,\" said Isha.,Louis Vuitton owner LVMH, which makes high-end beverages like MoÃÂ«t & Chandon champagne and Hennessy cognac, said it's stockpiling four months' worth of wine and spirits in UK in preparation for Brexit. \"We're ready for worst case scenario if there are difficulties with deliveries,\" the French luxury giant said. The UK is scheduled to leave the EU on March 29.,Filmmaker Karan Johar and actress Tabu turned showstoppers for Gaurav Gupta on the opening night of LakmÃÂ© Fashion Week Summer/ Resort 2019. While Johar wore a red sequinned jacket with black pants, Tabu walked the ramp in a grey embellished gown. The fashion show, which began on January 29, will continue till February 3.,In a jibe at Congress President Rahul Gandhi, PM Narendra Modi on Wednesday said those on \"bail will have to go to jail.\" PM Modi added, \"He is out on bail and his associates too are facing charges...I know they will be convicted one day.\" The PM claimed he'd waged a war on corruption because he's from a common household. ,Days after he threatened to step down from his post if Congress MLAs continue \"crossing the line,\" Karnataka Chief Minister HD Kumaraswamy accused them of taking potshots and asked, \"How many more days can I tolerate such stuff?\" Kumaraswamy, who made the statements after a Congress MLA demanded that Siddaramaiah be made CM again, said, \"Power is ephemeral.\",Union Minister Dharmendra Pradhan on Wednesday claimed the illegal mining mafia in Odisha operates under the control of CM Naveen Patnaik and state Congress chief Niranjan Patnaik. He added, \"The time has come for the people of Odisha to put a full stop to their activities...The time has come for us to ask for an explanation from this corrupt government.\",Claiming there is a dearth of ideas among opposition parties, Prime Minister Narendra Modi on Wednesday said, \"The opposition talks only about Modi the whole day, I suspect they even dream about me.\" PM Modi, who was addressing the New India Youth Conclave inÃ¢ÂÂ Surat, added that the opposition parties have only one agenda which is \"Modi\". ,The Indian Space Research Organisation on Wednesday unveiled Human Space Flight Centre in Bengaluru for its Ã¢ÂÂ¹10,000-crore manned space mission 'Gaganyaan' scheduled for 2021. ISRO said the centre will be responsible for development of engineering systems for crew survival in space and crew selection and training. It'll also pursue activities for sustained human space flight missions, ISRO added.,At least 12 people have been killed and 170 others have been injured in Saudi Arabia this week due to flooding from heavy rain. The emergency services rescued 271 people from the flooded areas, more than half of them in Tabuk. Heavy rains hit mainly western and northwestern parts of Saudi Arabia, near its border with Jordan.,Reliance Industries' Chairman Mukesh Ambani's daughter Isha Ambani has featured on the cover of the February edition of Vogue India. She's dressed in a white shirt dress and black ruffled skirt by Australian designer Toni Maticevski, while accessorising her look with a Misho ring. In the cover story on her, Isha has spoken about her work and life after marriage.\n",
      " ,Indian Oil Corporation on Wednesday said it's looking for an annual deal to buy US crude as it seeks to broaden oil purchasing options. This comes amid uncertainties over Iran imports. The US had in November granted a six-month waiver to India from sanctions against Iran and restricted the country's monthly intake of Iranian oil to 3,00,000 barrels per day.\n",
      "\n",
      ",Former Windies fast bowler Curtly Ambrose dismissed seven Australian batsmen within a span of 32 balls giving away just one run, in a Test match on January 30, 1993. Ambrose's spell helped his team bowl out Australia for 119 in the first innings, after being 85 for 2 at one point. Ambrose ended with first-innings figures of 18-9-25-7.,A London zoo is offering people to name a cockroach after their exes on Valentine's Day for ÃÂ£1.50 (nearly Ã¢ÂÂ¹140). \"For those that don't quite require revenge, there's another way to make you feel better about getting back at your ex,\" the zoo said in a statement. The names will appear on zoo's 'roach board' on February 14. ,Stand-in captain Rohit Sharma has become the 14th Indian cricketer to play 200 ODIs, achieving the feat after taking the field against New Zealand in fourth ODI at Hamilton on Thursday. The 31-year-old had made his ODI debut on June 23, 2007, against Ireland in Belfast. Rohit scored 7,799 runs in his first 199 ODIs at an average of 48.14.,Batsman Shubman Gill has become the 227th cricketer to represent India in ODI cricket, achieving the feat against New Zealand in the fourth ODI at Hamilton on Thursday. The 19-year-old received his maiden ODI cap from former captain MS Dhoni. Notably, Shubman was named Player of the Under-19 World Cup in New Zealand last year.,Investigators searching for a lost plane carrying Argentine forward Emiliano Sala found two seat cushions on French coast that \"likely\" belonged to the aircraft. The investigators said they'll now launch an underwater seabed search for aircraft wreckage. The Cardiff City footballer was travelling from France's Nantes to Wales' Cardiff when his plane disappeared over English Channel on January 21.,Italian third division football side Lucchese's head coach Giancarlo Favarin has been banned for five months for headbutting Alessandria's assistant coach Gaetano Mancino during a brawl following the teams' 2-2 draw on Sunday. Mancino was caught off-balance and knocked to the ground after the headbutt. Earlier in the match, Favarin had told his own player to break an opponent's legs.,Cyclists taking part in National Track Cycling Championship in Jaipur opted to sleep on the floor inside the stadium instead of hotels over expensive cycles. The organisers had booked hotels but they didn't have the provision for cyclists to keep their bikes inside. A national gold medallist said their cycles cost between Ã¢ÂÂ¹5-9 lakh and once damaged, they become non-repairable. ,Silvia Grecco, a 56-year-old Brazilian mother narrates her local football team Palmeiras' matches live to her 12-year-old blind and autistic son Nickollas from the stands. \"I describe details: this player is wearing short sleeves...colour of...football boots, hair colour...Everything I see and feel, I tell him, even when I need to curse the referee!\" Grecco said after a recent match.,A TechCrunch report has claimed that IndiaÃ¢ÂÂs largest bank SBI secured a passwordless server \"overnight\" on being alerted it allowed anyone to access phone numbers, bank balances, and transactions of millions of its customers. The Mumbai-based server was containing two months of data from SBI Quick, an SMS and call-based system used to request basic information about accounts, TechCrunch revealed.,Rahul Gandhi has replied to Goa CM Manohar Parrikar's letter, which accused the Congress President of using his \"visit to an ailing man for political gains\". \"He's under immense pressure from the PM after our meeting and needs to demonstrate his loyalty by attacking me,\" Gandhi wrote in his letter. Parrikar had clarified he didn't discuss Rafale deal with Rahul.,Twenty-seven-year-old Mohammed Mahuwala was arrested in Indore on Wednesday for allegedly cheating e-commerce giant Amazon of nearly Ã¢ÂÂ¹30 lakh. Mahuwala was a member of a gang who ordered costly gadgets from Amazon. \"[They] used to get refund of the amount paid...by saying the parcel...was empty. In reality, these devices were taken out from parcel and sold...to local shopkeepers,\" said police.,AgustaWestland chopper scam co-accused Rajiv Saxena was extradited to India from UAE on Wednesday. He had been evading the Enforcement Directorate's summons claiming he was suffering from leukaemia but had moved an anti-money laundering court for anticipatory bail in December, stating he had never been summoned at his Dubai address. Saxena's lawyers alleged he had been \"illegally extradited\". ,Afghan President Ashraf Ghani has said the \"keys to war\" are in Pakistan's Islamabad, Quetta and Rawalpindi, accusing the country of providing safe havens to militants, including those belonging to the Taliban. Ghani added the \"key to peace was in Afghanistan\". His comments came amid the talks between the US and the Taliban to end the 17-year war in Afghanistan.,A Singapore-based insurance agent has been jailed for two years and five months for threatening to harm his clients unless they paid him in bitcoins. The 36-year-old set up an email account, and signed the messages as 'Lord Voldemort', a fictional character from the Harry Potter series. Ye Lin Myint targeted about 33 people, including those who cancelled insurance policies.,Gabrielle Reilly, a 22-year-old US woman, created earrings for her Apple AirPods and put it up for sale online for $20 (about Ã¢ÂÂ¹1,500). \"I absolutely refuse to lose them (AirPods)...So I made earrings,\" she explained. The earrings, which took her over an hour to make, debuted in a video on Twitter that has since garnered over three million views.,Ex-ICICI Bank CEO Chanda Kochhar said she's \"utterly disappointed, hurt and shocked\" by the bank's decision to terminate her. Kochhar said she served ICICI for 34 years with utmost honesty and integrity and that ultimately truth will prevail. Adding that she hasn't been given a copy of the independent probe report, Kochhar said none of ICICI's credit decisions are unilateral,Swedish multinational fast-fashion brand Hennes & Mauritz AB (H&M) has hired Christopher Wylie, the whistleblower who exposed Facebook's Cambridge Analytica data scandal. WylieÃ¢ÂÂs focus will be to help get better insights on customers, products and markets and support work on sustainable and ethical artificial intelligence, H&M spokesperson said. Wylie is a former employee of Cambridge Analytica.,Micro-blogging platform Twitter is testing a new feature on Android to put news on the top of a user's timeline. \"With this update, weÃ¢ÂÂre making it easier for people to see news and stories their followers have been discussing,\" Product Manager Walter Gurzynski said. The feature comes alongside a prompt saying, \"Catch up on what's happened while you were away.\",Samsung has started mass producing its one terabyte 'embedded Universal Flash Storage (eUFS) 2.1' technology for \"use in next-generation mobile applications\", which it claims is the industry's first such eUFS. The company added the new eUFS will let smartphones store 260 10-minute videos shot in 4K UHD format. It'll be sized the same as the previous 512GB version, Samsung said.,Prime Minister Narendra Modi on Wednesday said the people with 'negative mindset' are questioning him and his government for floating pro-poor schemes. He added negative mindset people are raising doubts about schemes such as building toilets and providing free gas connections to the poor. He further said that negative mentality laced with a vested interest still exists in the country.,Union Minister Anantkumar Hegde took a dig at Congress President Rahul Gandhi by calling him a \"hybrid specimen\" who has no clue about religion. \"A father who's...Muslim, a mother who's...Christian and the son is supposed to be...Brahmin. How is that even possible?\" he said. He added such \"hybrid specimen\" cannot be found in any laboratory in the world.,Several parts of the US are set to experience record low temperatures as the polar vortex hit the Upper Midwest, with more than 200 million people expected to experience below-freezing temperatures this week. Temperatures throughout the Upper Midwest are expected to be at least 20-40Ã¢ÂÂ below zero. Government offices and schools have been closed in several areas.,The police on Wednesday registered cases against 13 persons, including a woman leader of Hindu Mahasabha, in Aligarh for firing at an effigy of Mahatma Gandhi with an air pistol. \"The incident took place in a house in Naurangabad locality of the city,\" Senior Superintendent of Police said. The video of the event went viral on social media, he added.,Railway police has rescued a woman travelling on a train in Chennai who got her leg stuck inside the commode of a toilet. After being caught inside the commode hole, she struggled to remove her leg and following failed attempts, she shouted for help, reports said. Railway police used a cutter to pry open the commode and freed her leg.,The US on Tuesday began returning asylum seekers to Mexico, sending back a migrant from a Central American nation and called the move a \"response to the illegal migration crisis\" faced by it. Under its Migrant Protection Protocols policy, the US will return certain migrants who cross into the country illegally back to Mexico while their asylum requests are processed.,Former Finance Minister Yashwant Sinha on Tuesday demanded a probe into the alleged diversion of loans worth Ã¢ÂÂ¹31,000 crore by Dewan Housing Finance (DHFL). All agencies including regulators of the government have failed to track nefarious deals, he said. This comes after a media report on Tuesday accused DHFL's controlling shareholders of diverting funds to shell companies to buy assets.,US-based Boeing on Wednesday reported annual sales worth $101.12 billion in 2018, the first time the planemaker's sales crossed the $100-billion mark in its 102-year history. The company said it expects to deliver between 895 and 905 commercial aircraft in 2019. Boeing retained its position as the world's largest planemaker for the seventh straight year, delivering 806 aircraft in 2018. ,text,OnePlus has emerged as India's best-selling premium smartphone brand of 2018, as per a report by Counterpoint. It captured 36% of the market share in the premium segment, in Q4 2018. Further, its OnePlus 6 emerged as the highest selling premium smartphone of 2018 followed by OnePlus 6T.,Filmmaker Pooja Bhatt, while talking about the presentation of women in her films, said, \"I can never look at a female body, even if it's naked, in a vulgar manner.\" \"Our audience can say...the women in my films are bold or sensual, but never ever vulgar,\" she added. Pooja further said her censor board is her \"own heart and mind\".,Actress Mishti, who has featured in 'Manikarnika: The Queen of Jhansi', has said the film's co-director Kangana Ranaut made false promises to the cast. \"Kangana had said, 'I want dates because all characters look jumbled up...I'm trying my best to give everybody a prominent space on screen.' After watching the movie, there is no scope for other characters,\" Mishti added. ,The high-powered committee led by PM Narendra Modi to select the next CBI Director will meet again on February 1, Congress leader Mallikarjun Kharge has said. The panel consisting of Kharge and Chief Justice of India Ranjan Gogoi met on January 24, but the meeting ended \"inconclusively\" after Kharge cited lack of details in the list of 80 IPS officers. ,Nevada State Athletic Commission has banned MMA fighters Conor McGregor and Khabib Nurmagomedov for six months and nine months respectively over their roles in the mass brawl that occurred after their fight at UFC 229 last October. McGregor and Khabib have been fined $50,000 (Ã¢ÂÂ¹35 lakh) and $500,000 (Ã¢ÂÂ¹3.5 crore) respectively. The brawl occurred after Nurmagomedov confronted McGregor's teammate.,Pakistan captain Sarfaraz Ahmed, who has been banned for four matches over racist remarks, took an apparent dig at his critics by sharing a video of a child reciting 'log hai na' poem on Twitter. \"Pyaar karna hai to khud se kar...dushmani karne ke liye log hai na,\" the poem read. \"This is how the world is,\" Sarfaraz wrote.,Banned cricketer Sreesanth has told Supreme Court he initially confessed to Delhi Police about his alleged involvement in 2013 IPL spot-fixing scandal to escape continuous police torture. Sreesanth further said the bookie tried dragging him into spot-fixing but he didn't fall for it. Citing Sreesanth not informing BCCI about fixing approach, the apex court said Sreesanth's conduct \"wasn't good\".,The Finance Ministry on Wednesday said the government will present an Interim Budget on February 1. The clarification came amid speculations that a full Budget may be presented during the session. The government recently assigned Piyush Goyal temporary additional charge of the Finance and Corporate Affairs ministries in the absence of Arun Jaitley, who is in the US for treatment.,US President Donald Trump on Wednesday called his country's top intelligence chiefs \"naive\" and \"wrong\" on Iran and added that they should perhaps \"go back to school\". Trump claimed Iran is testing rockets, calling the country \"a source of potential danger and conflict\". Top US intelligence officials on Tuesday said that Iran isn't currently taking steps towards building nuclear weapons.,A senior priest at the Vatican who handled cases of sexual abuse has quit after being accused of sexual abuse by a former nun. The accused priest claimed he is innocent and said he would consider taking legal action. The Vatican said in a statement that a Church investigation of the case was underway.,A 22-year-old writer turned down a job offer, claiming she was bullied to the point of tears during her two-hour interview by a UK company's CEO. Olivia Bland added the \"brutal\" interview brought back painful memories of her abusive relationship. \"I am so sorry that anyone has been hurt, it is never my intent,\" Web Applications CEO Craig Dean replied. ,Noida Police has arrested Sector 20 station in-charge Manoj Pant and three journalists for allegedly extorting money from a call centre owner for removing his name from an FIR. The four were caught while taking bribe money of Ã¢ÂÂ¹8 lakh, police said. Pant was the lead investigator in the Paytm extortion case involving Founder Vijay Shekhar Sharma's secretary Sonia Dhawan.,Airtel on Wednesday said that Qatar's sovereign wealth fund Qatar Investment Authority will invest $200 million through a primary equity issuance in Airtel Africa. India's second-largest telecom operator's Africa unit recently raised $1.25 billion from six investors. Airtel Africa, the holding company for Airtel's operations in 14 African countries, is preparing for an initial public offering.,Actor Shreyas Talpade said that 'Golmaal' filmmaker Rohit Shetty is still working on the script for the fifth instalment of the 'Golmaal' film franchise. \"He was telling us the other day that he...cracked some story. Once he's done with the...scripting, he'll take a call,Ã¢ÂÂ the actor added. The series features Shreyas along with Ajay Devgn, Arshad Warsi and Tusshar Kapoor.,A 72-year-old man named Terry Sanderson has sued 'Avengers' actress Gwyneth Paltrow for allegedly crashing into him while skiing, and is seeking $3.1 million (over Ã¢ÂÂ¹22 crore) in damages. The lawsuit states the actress got up and skied away after knocking the man down, leaving him with broken ribs. The incident reportedly took place in 2016 in Utah, US. ,Yami Gautam was felicitated by Border Security Force (BSF) in Amritsar for her performance in 'Uri: The Surgical Strike'. \"BSF is the first line of defence of our country and it gives me...pride to have met them,\" Yami said. The film, which also stars Vicky Kaushal, is based on the Indian Army's surgical strike operation which took place in 2016.,Social media giant Facebook has hired privacy critic Nate Cardozo, formerly the top legal counsel for US privacy watchdog EFF, as a privacy policy manager for WhatsApp. Cardozo had called Facebook a \"faceless corporation\" whose business model depends on user's confusion and indifference about privacy, in October 2015. Facebook has also hired attorney Robyn Greene as its privacy policy manager.,Apple CEO Tim Cook said the company plans to lower some iPhones' prices in markets with currencies that weakened against the US dollar in the past year. \"WeÃ¢ÂÂve decided to go back to (iPhone prices) more commensurate with...local prices...a year ago,\" Cook added. The price cuts, in hopes of increasing sales, are reportedly occurring for second time in 12 years.,Scientists in Australia's Flinders University are testing a wetsuit prototype that could protect its wearer after a shark attack. The suit, made of synthetic material similar to the material used in bulletproof vests, could help reduce blood loss after a shark attack. \"The majority of fatalities from shark bites is due to blood loss...shock from blood loss,\" a scientist said.,BJP National Secretary Rahul Sinha on Wednesday asked the party workers in West Bengal to come armed with sticks to PM Narendra Modi's rally in the state on February 2. His statement came a day after clashes broke out following BJP chief Amit Shah's WB rally. Sinha added the TMC is indulged in violence as they're afraid of BJP's strength.,BJP President Amit Shah on Wednesday took a dig at the Opposition parties saying that the 'mahagathbandhan' for the Opposition is 4B - \"Bua-Bhatija-Bhai-Behen\". He added that 4B for the BJP meant \"Badhta Bharat, Banta Bharat\". He said Opposition's government cannot take the country ahead and \"only Modiji can provide a 'mazboot' (strong) government\".,German automaker Volkswagen Group has retained the car industry's top spot in global sales, beating its Japanese rival Toyota. Volkswagen's sales, including its MAN and Scania heavy trucks and buses, rose 0.9% to 10.83 million in 2018, the company had said. Toyota came second with around 10.6 million deliveries, including its affiliated brands Daihatsu and Hino, in 2018.,Ousted Nissan Chairman Carlos Ghosn has said his arrest over alleged financial misconduct was led by \"plot and treason\" by the Japanese carmaker's executives who opposed its deeper integration with Renault and Mitsubishi. Ghosn added he had discussed the integration plans with Nissan's CEO in September, a month before his arrest. He further said he wouldn't flee if granted bail.,The government has cut down customs duty on import of parts and components for electric vehicles to 10-15%, down from the previous 15-30%. The Central Board of Indirect Taxes and Customs said disassembled parts will attract 10% duty, whereas 15% will be levied on pre-assembled packs. However, fully built electric vehicles will continue to attract 25% import duty.,Government officials on Wednesday said that a swine flu outbreak has killed 76 people this year in Rajasthan. Colder weather has worsened the seasonal outbreak of the H1N1 virus in the country, officials added. Rajasthan recorded more than a third of all swine flu deaths in India with Jodhpur being the worst affected area in the state, officials said.,North Korea is \"unlikely to completely give up its nuclear weapons and production capabilities\", Director of US' National Intelligence, Daniel Coats, said. \"North Korean leaders view nuclear arms as critical to regime survival,\" he added. His statements come despite North Korea's agreement with the US at the Singapore summit last year to denuclearise the Korean Peninsula. ,Jet Airways on Wednesday denied it was directed by GE Capital Aviation Services to ground its aircraft due to non-payment of dues. The airline said it's in the process of delivering three aircraft to lessors due to the expiry of lease terms. Further, three aircraft have been temporarily grounded to carry out an engine normalisation exercise, it added.,Retired Justice Srikrishna's enquiry panel has found that ex-CEO Chanda Kochhar violated ICICI Bank's code of conduct. The bank said it'll treat Kochhar's exit as termination and will take back all bonuses paid to her from April 2009 until March 2018. The CBI recently filed a case against Kochhar, her husband, and Videocon MD in the ICICI-Videocon loan case.,Ex-India cricketer Jacob Martin has been shifted to general ward from the ICU after being on a ventilator for nearly a month following a road accident, wherein he severely injured his lungs. Martin's wife Khyati mentioned there are chances that Jacob will be in hospital for two more months. BCCI, CSK and various cricketers provided financial assistance for Martin's treatment.,Sri Lanka all-rounder Thisara Perera has written to Sri Lanka Cricket CEO Ashley de Silva, asking the board to intervene after ODI captain Lasith Malinga's wife Tanya targeted him on Facebook. Tanya accused Perera of meeting country's Sports Minister to secure his place in the team. \"We've become laughing stock of whole country...because of one person's personal vendetta,\" Perera wrote.,Goa CM and ex-Defence Minister Manohar Parrikar has written a letter to Congress President Rahul Gandhi over his claim that Parrikar told him he has nothing to do with new Rafale deal. Parrikar wrote, \"Kindly do not use your visit to an ailing person to feed political opportunism.\" In their five-minute meeting, they didn't discuss anything about Rafale, he added.,Prime Minister Narendra Modi stopped his speech at the inauguration of the new terminal building at Surat airport after observing that a cameraman had fainted. PM Modi then asked his officers to urgently arrange for an ambulance for the cameraman. \"It's good that PM was paying attention to his surroundings during his speech,\" the cameraman later said from a hospital. ,A couple got divorced minutes after their wedding ceremony got over in Gujarat's Gondal as a disagreement broke out and relatives from both sides started throwing dishes at each other during lunch. The advocates representing both sides arrived at the marriage hall and got the couple divorced within minutes. The couple even reportedly returned the gifts exchanged during the ceremony.,Gujarat Education Minister Bhupendrasinh Chudasma has written a congratulatory message to a yoga ashram run by rape-convict Asaram's organisation for observing February 14 as \"Matru-Pitru Pujan Divas\" (Mother-Father worship day). After the Congress termed the letter as \"unfortunate\", saying it \"shows the nexus between BJP and godman\", Chudasma clarified, \"All I have done is sent best wishes.\" ,Venezuelan President NicolÃÂ¡s Maduro has claimed that his American counterpart Donald Trump ordered the Colombian government and the Colombian mafia to kill him. \"If something happens to me, Trump and Colombian President IvÃÂ¡n MÃÂ¡rquez will bear responsibility,\" he added. The US has blamed Maduro for the economic crisis in Venezuela and recognised opposition leader Juan GuaidÃÂ³ as interim President.,Eight Asian billionaires aged 90 or above on the Bloomberg Billionaires Index of world's 500 richest people have a combined net worth of $125 billion. The richest among them is Hong Kong's Li Ka Shing with a net worth of $30.5 billion. India's 90-year-old Pallonji Mistry, who controls 18.3% of Tata Sons through Shapoorji Pallonji Group, is worth $20.1 billion.,Tamil Nadu food safety officials on Wednesday raided and seized 1,000 kgs of banned plastic items from Hotel Saravana Bhavan in Chennai's Vadapalani. Officials began a surprise check in the branch at 8 am. The state government had banned single-use plastics from January 1 and said the banned items should be handed over at the offices of the city corporation.,Actress Shamita Shetty was verbally abused and her driver was slapped in an incident of road rage in Mumbai on Tuesday, as per reports. The incident reportedly took place after a motorist who was accompanied by two friends, rammed his vehicle into Shamita's car. The men allegedly manhandled and threatened Shamita's driver when he stepped out to inspect the damage. ,Actress Vaani Kapoor said that trolling has become a norm on social media, adding, \"There's no one who hasn't got trolled on social media.\" \"Everybody is out there to pull the other person down but it'll only bother [you] if you let it bother you,\" Vaani added. She further said, social media offers a platform \"where people enjoy belittling everybody\". ,Actress Sushmita Sen took to Instagram to share a joke on the subject of marriage. \"Whoever invented marriage was creepy as hell. Like I love you so much IÃ¢ÂÂm gonna get the government involved so you canÃ¢ÂÂt leave,\" Sushmita's post read. \"This is an insult to [the] beauty of marriage,\" an Instagram user commented on her post.,Television actor Karanvir Bohra, who flew to Russia on Tuesday to attend a film festival, has been detained in Moscow due to passport damage. \"They [are] contemplating to deport me back to India,\" the actor wrote on Twitter. The Indian embassy in Russia's capital responded to his tweet and said that they were looking into the issue. ,While speaking about winning awards for his films, Shah Rukh Khan said, \"If I don't get an award, that award is at a loss.\" \"Sometimes, the prestige of an award increases when I receive it,\" the actor jokingly added. Shah Rukh further said that he was \"extremely ambitious\" but in a \"fair manner\". ,Actress Patralekhaa will make her debut in the Kannada film industry with the action-comedy film 'Where is my Kannadaka?' \"I can definitely say that itÃ¢ÂÂs a kind of role that I havenÃ¢ÂÂt portrayed on screen so far and that makes it special for me,\" the actress said in a statement. Shooting for the film will reportedly begin in April.,Gmail on Tuesday faced a global outage, which also affected India, wherein certain users complained they faced a '404 error' message while trying to sign-in to their accounts. The error message read: \"The requested URL was not found on this server. That's all we know.\" Google responded saying \"problem with Gmail should be resolved (now). We apologise for the inconvenience\".,Shiv Sena chief Uddhav Thackeray has asked the BJP to decide about the alliance with the Sena within 15 days and said the BJP should make a concrete proposal on the alliance. Thackeray added that only if the BJP agrees to Sena's terms and conditions, the party will agree for an alliance. Sena is free to fight independently, he said. ,BJP President Amit Shah on Wednesday took a dig at the Opposition's proposed grand alliance saying if the \"mahagathbandhan comes to power, each opposition leader will be a Prime Minister every day of the week\". He added, \"[The] country will go on...holiday on Sunday\". He said the Opposition is thinking about leading the country but does not have a leader.,Prime Minister Narendra Modi on Wednesday said his government's demonetisation decision made houses affordable for the aspiring youth. He added decisions like demonetisation and RERA have put a check on black money that used to be \"parked in the real estate sector\". He said 'UDAN' (Ude Desh ka Aam Nagrik) scheme has boosted the development of the country's aviation sector.\n"
     ]
    }
   ],
   "source": [
    "text = \",\".join(data_summa['text'].tolist()[:100])\n",
    "print(len(text), text)"
   ]
  },
  {
   "cell_type": "code",
   "execution_count": 52,
   "id": "1b87fe09",
   "metadata": {},
   "outputs": [
    {
     "name": "stdout",
     "output_type": "stream",
     "text": [
      "Summary:\n",
      "He added, \"The time has come for the people of Odisha to put a full stop to their activities...The time has come for us to ask for an explanation from this corrupt government.\",Claiming there is a dearth of ideas among opposition parties, Prime Minister Narendra Modi on Wednesday said, \"The opposition talks only about Modi the whole day, I suspect they even dream about me.\" PM Modi, who was addressing the New India Youth Conclave inÃ¢ÂÂ Surat, added that the opposition parties have only one agenda which is \"Modi\".\n"
     ]
    }
   ],
   "source": [
    "print('Summary:')\n",
    "print(summarize(text, ratio=0.01))"
   ]
  },
  {
   "cell_type": "code",
   "execution_count": 53,
   "id": "1384eeba",
   "metadata": {},
   "outputs": [
    {
     "name": "stdout",
     "output_type": "stream",
     "text": [
      "Summary:\n",
      "['He added, \"The time has come for the people of Odisha to put a full stop to their activities...The time has come for us to ask for an explanation from this corrupt government.\",Claiming there is a dearth of ideas among opposition parties, Prime Minister Narendra Modi on Wednesday said, \"The opposition talks only about Modi the whole day, I suspect they even dream about me.\" PM Modi, who was addressing the New India Youth Conclave inÃ¢Â\\x80Â\\x8b Surat, added that the opposition parties have only one agenda which is \"Modi\".']\n"
     ]
    }
   ],
   "source": [
    "print('Summary:')\n",
    "print(summarize(text, ratio=0.01, split=True))"
   ]
  },
  {
   "cell_type": "code",
   "execution_count": 54,
   "id": "51ce1e0b",
   "metadata": {},
   "outputs": [
    {
     "name": "stdout",
     "output_type": "stream",
     "text": [
      "Summary:\n",
      "He added, \"The time has come for the people of Odisha to put a full stop to their activities...The time has come for us to ask for an explanation from this corrupt government.\",Claiming there is a dearth of ideas among opposition parties, Prime Minister Narendra Modi on Wednesday said, \"The opposition talks only about Modi the whole day, I suspect they even dream about me.\" PM Modi, who was addressing the New India Youth Conclave inÃ¢ÂÂ Surat, added that the opposition parties have only one agenda which is \"Modi\".\n"
     ]
    }
   ],
   "source": [
    "print('Summary:')\n",
    "print(summarize(text, words=50))"
   ]
  },
  {
   "cell_type": "markdown",
   "id": "9af6d854",
   "metadata": {},
   "source": [
    "##### 추출적 요약에 관한 의견\n",
    "\n",
    "\n",
    "추출적요약이 요약비율을 너무 압축시키지 않으면,예를 들어, 10% 정도로 하면, 문장별로는 그럴듯한 것도 있으나, 아닌것도 섞여있슴,\n",
    "\n",
    "[추상적요약]이 학습이 충분히 된다면, 더 훌륭할것 같은데, 학습이 잘않되는 경우, [추출적요약]이 좀 더 나은 것 같음"
   ]
  },
  {
   "cell_type": "markdown",
   "id": "1c19abe2",
   "metadata": {},
   "source": [
    "## Step 6. 추상적요약 vs. 추출적예약 비교 검토"
   ]
  },
  {
   "cell_type": "markdown",
   "id": "1e70ff94",
   "metadata": {},
   "source": [
    "#### 1. 문법완성도 측면\n",
    "###### (1) 추상적 요약 : 문법완성도 측면에서 많이 부족함( target data 인 실제요약도 문법적으로 않맞다보니,  predict인 예측요약도 문법은 없고,단어만 나열됨, 이는 원문이  문법이 형성되지 않고 빈도위주의 단어로 구성되어 있는 것도 원인이라고 보임)\n",
    "\n",
    "###### (2) 추출적요약: 문법완성도 측면에서 양호함(원문이 문법적으로 되어있는 텍스트라서, 거기서 추출되는 형식도 문법적요소가 학습된 것으로 보임)\n",
    "\n",
    "\n",
    "#### 2. 핵심단어 포함측면\n",
    "###### (1) 추상적요약 : 실제예측내에 있는 핵심단어는 거의 다 예측요약에 양호하게 포함되어 있슴   \n",
    "###### (2) 추출적요약:  원문에 있는 핵심단어들을  추출요약에 대체로 잘 포함하고 있슴\n",
    "\n",
    "\n",
    "#### 3. 종합: \n",
    "###### [추상적요약]이 모델구조개선이나, pretrained된 큰규모의 word2vector등을 베이스로 학습이 된다면, 아주 훌륭할것 같은데, 그렇지 않은 환경이거나, 학습이 잘않되는 경우, [추출적요약]이 나을 것 같음\n"
   ]
  },
  {
   "cell_type": "code",
   "execution_count": null,
   "id": "460b9f98",
   "metadata": {},
   "outputs": [],
   "source": []
  },
  {
   "cell_type": "markdown",
   "id": "a543b1fa",
   "metadata": {},
   "source": [
    "## 회고"
   ]
  },
  {
   "cell_type": "markdown",
   "id": "655709c7",
   "metadata": {},
   "source": [
    "본 프로젝트는 뉴스기사데이터를 대상으로 기사내용을 추상적요약법과 추출적요약법의 두가지 방법으로 요약을 해보고,\n",
    "요약내용의 품질과 요약방법의 성능을 평가해보는 프로젝트입니다.\n",
    "\n",
    "##### Step 1. 데이터 수집\n",
    "먼저, 뉴스기사 text 원문과 headline으로 구성된 98,401개 뉴스기사 문장을 로드했습니다\n",
    "\n",
    "##### Step 2. 데이터 전처리하기 (추상적 요약)\n",
    "먼저, 먼저 개략적으로 데이터를 살펴보며, 전처리를 위한 분석을 하고서, 중복 샘플을 제거하여, 총98,401개에서 총98,360개로 축소하였습니다.\n",
    "결측치는 존재하지 않았습니다.\n",
    "\n",
    "다음은 데이타 정제, 정규화,불용어처리를 위해서, 일괄 처리해줄 함수로 preprocess_sentence(sentence, remove_stopwords=True)를 만들었습니다.\n",
    "함수안에는 기사 내용에 있는 영어를 제외한 숫자및 특수문자제거, 모든 영문자 소문자로 통일, HTML문제 제거 등 데이터 정제및\n",
    "데이터 정규화, 불용어처리를 위한 코드를 넣어서, 데이터 전처리를 일괄로 깔끔하게 처리하였습니다.\n",
    "이때, 문장길이가 상대적으로 짧긴하지만 headlines의 평균문장 길이가 원문 문장길이 평균의 5배차이라 큰 차이가 아니것으로 보고서,\n",
    "함께 불용어처리를 하였습니다. \n",
    "\n",
    "text의 평균길이가 35개, headlines의 평균길이가 7개라서, 단어빈도분포를 따져보고, text_max_len = 40\n",
    "headlines_max_len = 8 로 결정하였습니다.\n",
    "\n",
    "이렇게 했을때, \n",
    "전체 샘플 중 길이가 40 이하인 샘플의 비율 92.38%, \n",
    "전체 샘플 중 길이가 8 이하인 샘플의 비율: 89.25%,    \n",
    "남은 샘플수는 81914개로, 중복치제거후 기존 총98,360개의 83.2%가 실제 사용샘플수로 남았습니다.  \n",
    "    \n",
    "headlies 데이터에는 시작 토큰 'sostoken ' 과 종료 토큰' eostoken'을 추가했습니다.\n",
    "\n",
    "그리고, 훈련 데이터와 테스트 데이터를  8:2의 비율로 분리하였습니다.\n",
    "분리하기전에 데이터를 shuffle하여, target data의 분포도 치우치지 않게 하였습니다.    \n",
    "분리한 결과 훈련 데이터의 개수 65532,훈련 레이블의 개수 65532, 테스트 데이터의 개수 16382, 테스트 레이블의 개수 16382개였습니다.\n",
    "\n",
    "Tokenizing은 분리된 인코더용 훈련 데이터를 Tokenizer()로 토큰화하고서,희귀단어를 제외시킨후 작업효율을 감안하여,단어집합의 크기(src_vocab)는\n",
    "10000개로 설정하고서,Tokenizer()를 재생성하였고, text 시퀀스(인코더용train data, 인코더용 test data)를 정수 시퀀스로 변환하였습니다.\n",
    "\n",
    "마찬가지 요령으로 디코더용(headlines 시퀀스)데이터도 정수 시퀀스로 변환하였습니다. \n",
    "이때 단어집합크기(tar_vocab)는 2500개로 설정하였습니다.\n",
    "    \n",
    "Padding은 max길이로 문장을 통일시키기위해서, pad_sequences()로 'post'방식으로 패딩을 완료하였습니다\n",
    "encoder_input_train = pad_sequences(encoder_input_train, maxlen=text_max_len, padding='post')\n",
    "encoder_input_test = pad_sequences(encoder_input_test, maxlen=text_max_len, padding='post')\n",
    "\n",
    "decoder_input_train = pad_sequences(decoder_input_train, maxlen=headlines_max_len, padding='post')\n",
    "decoder_target_train = pad_sequences(decoder_target_train, maxlen=headlines_max_len, padding='post')\n",
    "decoder_input_test = pad_sequences(decoder_input_test, maxlen=headlines_max_len, padding='post')\n",
    "decoder_target_test = pad_sequences(decoder_target_test, maxlen=headlines_max_len, padding='post')\n",
    "\n",
    "이로써 데이터 전처리가 완료되었습니다.\n",
    "\n",
    "\n",
    "#### Step 3. 어텐션 메커니즘 사용하기 (추상적 요약)\n",
    "인코더 설계단계에서 Attention이있는 인코더는 일반 seq2seq와는 다르게, 인코더 LSTM layer의 인자에 return_sequence=True 설정해야하는데,\n",
    "이는 timestep별 state가 모두 필요하기 때문입니다.\n",
    "embedding_dim 256,hidden_size 256으로 하였고,인코더 인풋층 다음에 임베딩층, 3개층의 LSTM레이어, \n",
    "그리고, 매층뒤에 Bachnormalization층을 설치해서,정규화를 통해 학습이 좀 더 매끄럽게 되도록 했습니다.\n",
    "그리고, 각 LSTM층에는 dropout인자를 사용하여, 오버피팅을 방지했습니다.\n",
    "\n",
    "디코더 설계단계에서는 당연히 일반seq2seq와 동일하게 return_sequences= True 설정하였는데,\n",
    "이는 seq2seq의 특징인 이전 timestep output을  다음 timestep의 input으로 쓰도록 하기위해서입니다.\n",
    "디코더 인풋층, 임베딩층, LSTM층 1개(dropout사용,return_sequences=True, return_state=True), \n",
    "소프트맥스층순으로 하고,매층뒤에 Bachnormalization층을 설치했습니다.\n",
    "\n",
    "이것으로 Attention 모델을 만들기위한 기반 seq2seq 인코더 디코더는 마련하였습니다.\n",
    "\n",
    "다음으로 keras의 AdditiveAttention layer를 가져와서, 위의 모델에 어텐션을 조합하여, 어텐션 모델로 만들었습니다.\n",
    "AdditiveAttention layer는 이미 구현된 레이어로서, attention score를 구하는 방식이 Bahdanau 스타일입니다.\n",
    "Bahdanau 스타일은 스코어를 구할때, trainable 가중치와 하이퍼볼릭탄젠트함수를 사용하여 계산하는 방식입니다.\n",
    "\n",
    "어텐션레이어는 인코더의 모든 타임스텝의 states들과 해당 타임스텝시점의 디코더 아웃풋을 인풋으로 받아서,\n",
    "어텐션 스코어를 산출합니다.\n",
    "\n",
    "어텐션 레이어를 거친후, concat layer를 거쳐서, 소프트맥스가 있는 Dense 층을 통해, 그 타임스텝시점의 prdeict예측치를\n",
    "반환하며, 이 예측치는 다음 타임스텝의 인풋으로 들어갑니다,  이 과정은 디코더의 모든 타임스텝동안 반복됩니다.\n",
    "\n",
    "이러한 과정을 실행하는 어텐션모델이 완성되었습니다.\n",
    "\n",
    "학습을 하기위해서, 데이터는 train data를 학습데이터로, test data를 valid data로 하고,\n",
    "batch size 256개, epoch 50회, earlystop callback을 사용하여, 학습을 진행했는데, Epoch 7회에 early stop 되었습니다.\n",
    "첫번째 Epoch의 val_loss 가 6.97이었는데, 계속 감소하다가, 조기종료된 Epoch 7회 val_loss는 2.6745 였습니다.\n",
    "\n",
    "history.history['val_loss']로 시각화해보니, val_loss가 우하향 잘하며 loss가 감소해 내려가다가, epoch 7 에서부터,\n",
    "과대적합이 시작되면서,조기종료되었습니다.\n",
    "\n",
    "이렇게 학습이 종료되고, 학습된 모델로 어텐션모델 기사요약기로 성능평가를 해봐야하는데,\n",
    "seq2seq 모델및 어텐션모델은 학습과정과 평가 테스트과정에서, 다르게 실행되는부분이 있는데,\n",
    "무엇인가 하면,평가 테스트과정에서는, inference 부분(predict부분)에서, 디코더 LSTM 의 매 time step마다,\n",
    "이전 timestep의 예측치를 받아서, 당 시점 timestep의 인풋으로 넣어주는 반복적인 과정을 별도의 코드로 처리해주어야 하기 때문입니다.\n",
    "이것을 처리하는 함수는 decode_sequence 함수로 정의하여 사용하였습니다.\n",
    "\n",
    "#### Step 4. 실제 결과와 요약문 비교하기 (추상적 요약)\n",
    "\n",
    "별도의 test data가 마련하지 않아서,valid data로 사용하였지만, 약식 성능테스트이기 때문에,\n",
    "encoder_input_test data로 기사요약기 성능을 테스트해보았습니다.\n",
    "\n",
    "첫 기사부터 50개의 기사를 요약시켜보았습니다.\n",
    "\n",
    "예측요약은 대부분 실제 요약내에 있는 단어에 포함되어있고,포함되지 않은 소수의 기사도 단어가 원문내에 있어, \n",
    "핵심 단어수준에서는 잘맞는 것 같으나,예측문장은 대부분 동일 단어들이 반복되고 있어서, 하나의 문장을 이루지 못하고 있어서,\n",
    "문법적으로는 품질이 많이 떨어졌습니다, \n",
    "그런데, 그 원인으로, 원문장 자체가 불용어에 포함되어 삭제된 것이 많아서, 원문도 문법적으로 어색한 상태라서,\n",
    "심층연구가 아닌 경우, 작은 Epoch등으로 인해, 문법을 익힐 기회가 적어서, 문법학습 부진에도 영향을 미치지 않았나\n",
    "생각해 봅니다.\n",
    "\n",
    "좀더 모델성능향상을 위한 모델구조개선과 하이퍼파라메터등을 개선 적용해서,EPOCH를 충분히 늘려서, 적용하면 좀 더 나아질것 같으나, \n",
    "궁극적으로 트랜스포머에대한 기대감이 커지고 있습니다.\n",
    "\n",
    "#### Step 5. Summa을 이용해서 추출적 요약해보기\n",
    "앞의 추상적요약에서 다루었던 news_summary_more.csv 기사 텍스트의 앞쪽 100문장(글자수 36,030자) 대상 추출적 요약실행해 보았습니다.\n",
    "전체 기사를 list화 한후 전체를 str 통문장으로 만든후 summa의 summarize로 요약해보았습니다. \n",
    "\n",
    "추출적요약을 요약비율을 여러가지로 변경해가면 살펴보았는데, 요약비율을 너무 압축시키지 않는다면,\n",
    "예를 들어, 10% 정도 이상으로 하면, 문장별로는 그럴듯한 것이 제법 있었고, 문법적으로도 괜찮은 부분이 더 많은 것 같았습니다.\n",
    "\n",
    "\n",
    "#### Step 6. 추상적요약 vs. 추출적예약 비교 검토\n",
    "1. 문법완성도 측면\n",
    "(1) 추상적 요약 : 문법완성도 측면에서 많이 부족함( target data 인 실제요약도 문법적으로 않맞다보니, predict인 예측요약도 문법은 없고,단어만 나열됨, 이는 원문이 문법이 형성되지 않고 빈도위주의 단어로 구성되어 있는 것도 원인이라고 보임)¶\n",
    "(2) 추출적요약: 문법완성도 측면에서 양호함(원문이 문법적으로 되어있는 텍스트라서, 거기서 추출되는 형식도 문법적요소가 학습된 것으로 보임)\n",
    "2. 핵심단어 포함측면\n",
    "(1) 추상적요약 : 실제예측내에 있는 핵심단어는 거의 다 예측요약에 양호하게 포함되어 있슴\n",
    "(2) 추출적요약: 원문에 있는 핵심단어들을 추출요약에 대체로 잘 포함하고 있슴\n",
    "3. 종합:\n",
    "[추상적요약]이 모델구조개선이나, pretrained된 큰규모의 word2vector등을 베이스로 학습이 된다면, 아주 훌륭할것 같은데, 그렇지 않은 환경이거나, 학습이 잘않되는 경우, [추출적요약]이 나을 것 같음\n",
    "회고\n",
    "\n",
    "Decoder의 해당 timestep에서, Encoder의 모든 timestep의 결과를 참조하여, 무엇이 정답을 예측하는데,\n",
    "더 영향을 미치는지 집중(Attention)하게 하는, Attention 아이디어는 seq2seq 모델을 크게 발전시킬수 있는 획기적인 아이디어인 것\n",
    "이 맞는 것 같습니다.\n",
    "\n",
    "그 획기적인 발전과정의 초입부분의 프로젝트를 수행하면서, 좀 더 깊은 어텐션에의 이해및 궁극적으로 트랜스포머모델등\n",
    "앞으로의 발전과정을 좀더 깊이 공부해 볼수 있는 계기와 기대감을 갖게 되었던 것 같습니다.\n",
    "감사합니다.\n",
    "\n"
   ]
  },
  {
   "cell_type": "code",
   "execution_count": null,
   "id": "ca1fd5f6",
   "metadata": {},
   "outputs": [],
   "source": []
  }
 ],
 "metadata": {
  "kernelspec": {
   "display_name": "Python 3 (ipykernel)",
   "language": "python",
   "name": "python3"
  },
  "language_info": {
   "codemirror_mode": {
    "name": "ipython",
    "version": 3
   },
   "file_extension": ".py",
   "mimetype": "text/x-python",
   "name": "python",
   "nbconvert_exporter": "python",
   "pygments_lexer": "ipython3",
   "version": "3.9.7"
  }
 },
 "nbformat": 4,
 "nbformat_minor": 5
}
