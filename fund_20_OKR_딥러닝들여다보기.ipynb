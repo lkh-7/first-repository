{
 "cells": [
  {
   "cell_type": "markdown",
   "id": "729feb9f",
   "metadata": {},
   "source": [
    "### OKR\n",
    "\n",
    "####[주의] OKR 문제의 답은 ===> 표시하고서 기재했슴\n",
    "\n",
    "##### 20-2 의 첫번째 코드블럭에 나오는 \n",
    "  손글씨 이미지 분류기 예시코드의 딥러닝 모델 첫 레이어는 \n",
    "  다음과 같이 코딩되어 있다.\n",
    "  model.add(keras.layers.Dense(50, activation='sigmoid', input_shape=(784,)))    \n",
    "\n",
    "  input_shape 의 형태가 왜 다른지, 그것이 무슨 의미인지 서로에게 설명해보자.\"\n",
    "    \n",
    "    ===> 이미지분류기는 cnn을 활용하여, 3차원의 데이터가 가능하나,\n",
    "       MLP는 1차원으로 변환해서 입력해야함    \n",
    "    \n",
    "    \n",
    "        \n",
    "    \n",
    "\"- 아래 링크의 설명들을 읽어본 후 바이어스의 역할에 대해 설명해보자.\n",
    "https://stackoverflow.com/questions/2480650/what-is-the-role-of-the-bias-in-neural-networks\"\n",
    "    \n",
    "    ===> 바이어스는 활성화함수의 좌,우 이동을 가능케해서, 다양한 표현을 가능케 함\n",
    "    \n",
    "\"- 두번째 코드블럭의 a1.shape 를 출력해보면 (5, 50) 이라고 나온다.\n",
    "   어떻게 784차원의 이미지 5개가 50차원의 이미지 5개로 계산된걸까? \n",
    "    https://alexlenail.me/NN-SVG/index.html \n",
    "   위 페이지에 들어가 모델 아키텍쳐를 직접 그려보고\n",
    "   행렬 곱셈이 어떻게 일어났는지 잼보드에 써서 서로에게 설명해보자.\"\n",
    "    \n",
    "    \n",
    "    W1.shape: (784, 50)\n",
    "    X.shape: (5, 784)\n",
    "    b1.shape: (50,)\n",
    "    a1.shape: (5, 50) \n",
    "    \n",
    "    ===>  X     *  W      ==>        + B     ==>  a1\n",
    "    ===> (5,784)*(784,50) ==> (5,50) + (50,) ==> (5,50)\n",
    "    "
   ]
  },
  {
   "cell_type": "markdown",
   "id": "be876a0a",
   "metadata": {},
   "source": [
    "##### Fund. 20-3 활성화 함수와 손실함수\n",
    "\n",
    "- 시그모이드, 하이퍼볼릭탄젠트 함수는 왜 기울기에 취약할까? 서로에게 설명해보자.\n",
    "\n",
    "    ==> 시그모이드 1차미분함수 = sigmois(x)*(1-sigmoid(x)),최대값 0.25\n",
    "    ==> 탄 1차미분함수 = (1-tanh(x))*(1 + tanh(x)), 최대값 = 1\n",
    "    ==> 미분시 시그모이드,탄 모두 미분값이  0 ~ 1 사이인데, 시그모이드는 0 ~ 0.25사이임\n",
    "    ==> 역전파미분시 층이 깊을 수록, 소수점값이 곱해지며 값이 점점 작아져서,        기울기소실이 일어날수 밖에 없다.(둘중에서 탕이 조금 더 낫다)\n",
    "    \n",
    "    \n",
    "\n",
    "\"- 마지막 코드블럭의 cross_entropy_error 함수에서 t.size == y.size 일 때, \n",
    "   왜 t에 argmax() 함수를 사용하는 걸까?\n",
    "   t = t.argmax(axis=1) 값을 직접 출력해 확인해보고 서로에게 설명해보자.\"\n",
    "\n",
    "    ===> argmax(x)일 경우, x 요소중에서, 최대값(max value)이 위치한 곳의 \n",
    "          인덱스를 리턴함\n",
    "    ===> t는 label값으로서 one-hot-encoding된 상태라서, argmax()를 취하면,\n",
    "         최대값의 인덱스를 return하므로, 정답을 return하는 것과 같다.\n",
    "    "
   ]
  },
  {
   "cell_type": "markdown",
   "id": "341a5d35",
   "metadata": {},
   "source": [
    "##### Fund. 20-4, 20-5 계산 그래프로 푸는 오차역전파법\n",
    "\"- 20-4 두번째 코드블럭의 dW2 = np.dot(z1.T, dy) 에서\n",
    "   W2의 기울기를 구하기 위해 왜 z1.T와 dy를 행렬곱 해줄까? 서로에게 설명해보자.\"\n",
    "    \n",
    "    ===> # y는 w2(가중치)와 z1(이전활성화함수값)의 행렬곱 + 바이어스2\n",
    "         y = w2*z1 + b2   \n",
    "    ===> # 오차역전파시, loss함수는 y함수의 합성함수이므로,연쇄법칙가능\n",
    "         round_dloss/round_dw2 = (round_dloss/round_dy) * (round_dy/round_dw2)\n",
    "         round_dloss/round_dy = (w2*z1 + b2)의 미분함수값 = w2\n",
    "            round_dloss/round_dw2 = (w2) * dy \n",
    "    \n",
    "    \n",
    "\"- 20-5 마지막 코드블럭의 21번~24번 라인 코드를 보자.\n",
    "   dy = (y_hat - t) / X.shape[0]\n",
    "   dz1, dW2, db2 = affine_layer_backward(dy, cache2)   \n",
    "   da1 = sigmoid_grad(a1) * dz1\n",
    "   dX, dW1, db1 = affine_layer_backward(da1, cache1)\n",
    "   sigmoid_grad(a1) 에 dz1을 왜 곱해주는걸까? da1 값이 의미하는 건 무엇인가?\n",
    "   서로에게 설명해보자.\"\n",
    "\n",
    "   ===> 계산그래프를 떠올리며 설명하면, 맨 우측에서, 손실함수의 도함수를 받아서, \n",
    "         w2,b2가중치를 미분하면서, 구한 dz1은 활성화함수의 결과함수값의 도함수로서,\n",
    "        활성화함수미분시에 sigmoid_grad(a1)(활성화함수미분값)에 곱해줘야하며, 이때\n",
    "        전달되는 da1은 입력 X와 W1가중치의 행렬곱과 B1을 더한 결과값의 도함수인 것으로 보임\n",
    "        \n",
    "        "
   ]
  },
  {
   "cell_type": "markdown",
   "id": "67c2feaf",
   "metadata": {},
   "source": [
    "##### Fund. 20-8 에폭과 이터레이션, SGD 복습\n",
    "\n",
    "- 두번째 코드블럭에서 iters_num=40000, batch_size = 200 일 때, 몇 에폭을 돌게 될까?\n",
    "  \n",
    "    ===>train size = 60000개, batch size 200 이면 1epoch돌려면 60000/200 = 300 iter돌아야함\n",
    "    ===> 그런데, iters_num이 40000 iter이므로 총 epoch는 40000/300 ==> 133 epoch임\n",
    "\n",
    "- 1 에폭은 전체 데이터를 모두 학습했을 때를 의미한다.\n",
    "   어떻게 np.random.choice(train_size, batch_size) 로\n",
    "   마스킹한 데이터를 이터레이션 했을 때 전체 데이터를 보았다고 할 수 있을까?\"\n",
    "\n",
    "   ===> 전체 데이터 60000개를 1iter당 200개로, 순차적으로 300iter를 돌리면, 200*300으로해서, \n",
    "        전체 데이터 60000개를 모두 처리할수 있슴\n",
    "        \n",
    "   ===> 옵티마이저를 SGD로 할경우로 보면, batch 는 random choice로 뽑는 것으로서,여론조사시 약1000명만으로 전체 모집단을 추정하듯이, batch를 random하게 뽑아서,학습시키는 것은 random하기때문에, 모집단을 대표한다는 가정이 깔려있는 것으로서, 전체 데이터수(모집단)의 크기에따라, batch size, batch 갯수도 달라진다.     "
   ]
  },
  {
   "cell_type": "code",
   "execution_count": null,
   "id": "cc1d93f3",
   "metadata": {},
   "outputs": [],
   "source": []
  },
  {
   "cell_type": "code",
   "execution_count": null,
   "id": "ce7cc796",
   "metadata": {},
   "outputs": [],
   "source": []
  },
  {
   "cell_type": "code",
   "execution_count": null,
   "id": "8e1b7d1f",
   "metadata": {},
   "outputs": [],
   "source": []
  },
  {
   "cell_type": "code",
   "execution_count": null,
   "id": "17c594eb",
   "metadata": {},
   "outputs": [],
   "source": []
  },
  {
   "cell_type": "code",
   "execution_count": null,
   "id": "451895ed",
   "metadata": {},
   "outputs": [],
   "source": []
  },
  {
   "cell_type": "code",
   "execution_count": null,
   "id": "607ed10c",
   "metadata": {},
   "outputs": [],
   "source": []
  },
  {
   "cell_type": "code",
   "execution_count": null,
   "id": "4694dffc",
   "metadata": {},
   "outputs": [],
   "source": []
  },
  {
   "cell_type": "code",
   "execution_count": null,
   "id": "9d14d74b",
   "metadata": {},
   "outputs": [],
   "source": []
  },
  {
   "cell_type": "code",
   "execution_count": null,
   "id": "707aea24",
   "metadata": {},
   "outputs": [],
   "source": []
  }
 ],
 "metadata": {
  "kernelspec": {
   "display_name": "Python 3 (ipykernel)",
   "language": "python",
   "name": "python3"
  },
  "language_info": {
   "codemirror_mode": {
    "name": "ipython",
    "version": 3
   },
   "file_extension": ".py",
   "mimetype": "text/x-python",
   "name": "python",
   "nbconvert_exporter": "python",
   "pygments_lexer": "ipython3",
   "version": "3.9.7"
  }
 },
 "nbformat": 4,
 "nbformat_minor": 5
}
