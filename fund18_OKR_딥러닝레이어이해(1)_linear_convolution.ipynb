{
 "cells": [
  {
   "cell_type": "markdown",
   "id": "94668d0c",
   "metadata": {},
   "source": [
    "\n",
    "해상도가 1280 x 1024(60fps)이고 러닝타임(T)이 30분인 흑백 영화 데이터는 어떻게 표현할 수 있을까요? 계산해서 댓글로 공유해봅시다\n",
    "\n",
    "레이어의 종류와 선형변환 그리고 바이어스의 관계를 나의 언어로 표현해볼까요?\n",
    "\n",
    "Convolution 레이어의 파라미터 계산법에 관해서 설명해볼까요?(필터계산에 주의하세요!)\n",
    "\n",
    "Pooling의 종류는 어떤 것들이 있고, 효과는 어떠할까요?\n",
    "\n",
    "Deconvolution의 종류는 어떤것들이 있고, 효과는 어떠할까요?"
   ]
  },
  {
   "cell_type": "code",
   "execution_count": null,
   "id": "c20ec85f",
   "metadata": {},
   "outputs": [],
   "source": []
  },
  {
   "cell_type": "markdown",
   "id": "82a47d85",
   "metadata": {},
   "source": [
    "해상도가 1280 x 1024(60fps)이고 러닝타임(T)이 30분인 흑백 영화 데이터는 어떻게 표현할 수 있을까요? 계산해서 댓글로 공유해봅시다\n",
    "\n",
    "(30*60*60,1280,1024,1)  ==>(T,W,H,C) (108000,1280,1024,1) ==> (T,C,H,W) (108000,1,1024,1280)\n"
   ]
  },
  {
   "cell_type": "markdown",
   "id": "6c72dd84",
   "metadata": {},
   "source": [
    "레이어의 종류와 선형변환 그리고 바이어스의 관계를 나의 언어로 표현해볼까요?\n",
    "\n",
    "레이어는 FCN, MLP, Dense Layer등 여러이름으로 불리지만, 같은 의미임\n",
    "레이어내에서는 가중치,편향들과 입력데이터의 행열연산을 통한 선형변환을 하여, 다양한 표현을 만들어내는 인공신경망의 기본 단위 구조물로 보면될듯,그래서, linear layer로 명명해도 될듯\n",
    "이의 종류는, linear layer,convolution layer, rnn layer 등으로 크게 대분될듯함 \n",
    "  "
   ]
  },
  {
   "cell_type": "markdown",
   "id": "a9b1a683",
   "metadata": {},
   "source": [
    "Convolution 레이어의 파라미터 계산법에 관해서 설명해볼까요?(필터계산에 주의하세요!)\n",
    "\n",
    "parameter수 = channel수*출력수*커널필터행수*커널필터열수"
   ]
  },
  {
   "cell_type": "code",
   "execution_count": null,
   "id": "03799f09",
   "metadata": {},
   "outputs": [],
   "source": []
  },
  {
   "cell_type": "code",
   "execution_count": null,
   "id": "c4d7584b",
   "metadata": {},
   "outputs": [],
   "source": [
    "Pooling의 종류는 어떤 것들이 있고, 효과는 어떠할까요?\n",
    "\n",
    "* Pooling의 종류\n",
    "maxpooling: receptive field 에서 가장 크기가 큰 것 선택\n",
    "averagepooling: 평균값\n",
    "stochasticpooling: random 으로 선택\n",
    "등등\n",
    "\n",
    "*Pooling의 효과\n",
    "\n",
    "1. parameter를 줄이기 때문에, 해당 network의 표현력이 줄어들어 Overfitting을 억제\n",
    "\n",
    "2. Parameter를 줄이므로, 그만큼 비례하여 computation이 줄어들어 hardware resource(energy)를 절약하고 speedup\n",
    "\n",
    " \n",
    "*Pooling의 특징\n",
    "\n",
    "1. training을 통해 train되어야 할 parameter가 없다.\n",
    "\n",
    "2. Pooling의 결과는 channel 수에는 영향이 없으므로 channel 수는 유지된다. (independent)\n",
    "\n",
    "3. input feature map에 변화(shift)가 있어도 pooling의 결과는 변화가 적다. (robustness)    \n",
    "    \n",
    "    \n",
    "    "
   ]
  },
  {
   "cell_type": "code",
   "execution_count": null,
   "id": "6d446d2a",
   "metadata": {},
   "outputs": [],
   "source": []
  },
  {
   "cell_type": "code",
   "execution_count": 2,
   "id": "94ebc426",
   "metadata": {},
   "outputs": [
    {
     "ename": "SyntaxError",
     "evalue": "invalid syntax (1789504563.py, line 3)",
     "output_type": "error",
     "traceback": [
      "\u001b[0;36m  File \u001b[0;32m\"/tmp/ipykernel_70/1789504563.py\"\u001b[0;36m, line \u001b[0;32m3\u001b[0m\n\u001b[0;31m    1.업샘플링:\u001b[0m\n\u001b[0m      ^\u001b[0m\n\u001b[0;31mSyntaxError\u001b[0m\u001b[0;31m:\u001b[0m invalid syntax\n"
     ]
    }
   ],
   "source": [
    "OKR5. Deconvolution의 종류는 어떤것들이 있고, 효과는 어떠할까요?\n",
    "\n",
    "0. 오토인코더: 논리상으로는 복원될것같은데, 복원품질이 떨어진다고 함, \n",
    "    그러나 Variational autoencoder 등을 쓰면 품질이 좋다고함maus \n",
    "\n",
    "1.업샘플링: \n",
    "  -nearist neighbor: poolong된 값외에는 전부 pooling값으로 채움\n",
    "  -bed of nails:   poolong된 값외에는 전부 0으로 채움\n",
    "  -max unpooling:   poolong된 값은 저장시켰다가 원래위치로 넣고,그외에는 전부 0으로 채움 \n",
    "    \n",
    "2. 트랜스포스 콘볼루션: 행령연산을 이요하여, 역연산하여, 복원하며, 사전에 업샘플링 정할 필요없다하나,\n",
    "    checkerboard artifacts라는 의도치않은  이미지흔적이 남는 단점있다고 함 "
   ]
  },
  {
   "cell_type": "code",
   "execution_count": null,
   "id": "5f94aea8",
   "metadata": {},
   "outputs": [],
   "source": []
  },
  {
   "cell_type": "code",
   "execution_count": null,
   "id": "9d5736fe",
   "metadata": {},
   "outputs": [],
   "source": []
  },
  {
   "cell_type": "code",
   "execution_count": null,
   "id": "5814291e",
   "metadata": {},
   "outputs": [],
   "source": []
  },
  {
   "cell_type": "code",
   "execution_count": null,
   "id": "1d072c4d",
   "metadata": {},
   "outputs": [],
   "source": []
  },
  {
   "cell_type": "code",
   "execution_count": null,
   "id": "8e069a19",
   "metadata": {},
   "outputs": [],
   "source": []
  }
 ],
 "metadata": {
  "kernelspec": {
   "display_name": "Python 3 (ipykernel)",
   "language": "python",
   "name": "python3"
  },
  "language_info": {
   "codemirror_mode": {
    "name": "ipython",
    "version": 3
   },
   "file_extension": ".py",
   "mimetype": "text/x-python",
   "name": "python",
   "nbconvert_exporter": "python",
   "pygments_lexer": "ipython3",
   "version": "3.9.7"
  }
 },
 "nbformat": 4,
 "nbformat_minor": 5
}
