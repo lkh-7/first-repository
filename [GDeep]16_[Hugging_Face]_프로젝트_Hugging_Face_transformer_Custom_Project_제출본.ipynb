{
 "cells": [
  {
   "cell_type": "markdown",
   "id": "97f32ff7",
   "metadata": {},
   "source": [
    "## 16. HuggingFace 커스텀 프로젝트 만들기"
   ]
  },
  {
   "cell_type": "markdown",
   "id": "f8062588",
   "metadata": {},
   "source": [
    "# reference\n",
    "\n",
    "https://huggingface.co/klue/bert-base\n",
    "    \n",
    "https://github.com/e9t/nsmc\n",
    "    \n",
    "https://nlp.gluon.ai/api/notes/data_api.html#bucketing-and-dataloader    \n",
    "    \n",
    "https://wikidocs.net/166802   \n",
    "\n",
    "https://yeong-jin-data-blog.tistory.com/entry/BERT%EB%A1%9C-%EC%98%81%ED%99%94-%EB%A6%AC%EB%B7%B0-%EA%B0%90%EC%84%B1-%EB%B6%84%EC%84%9D%ED%95%98%EA%B8%B0    "
   ]
  },
  {
   "cell_type": "markdown",
   "id": "a1e0b666",
   "metadata": {},
   "source": [
    "#### 🥳 GD 16 OKR\n",
    "\n",
    "프로젝트 문제\t\t\n",
    "\n",
    "klue/bert-base 를 사용하여 NSMC task를 수행하라.    \n",
    "https://huggingface.co/klue/bert-base    \n",
    "\n",
    "https://github.com/e9t/nsmc\t\t\n",
    "\n",
    "평가문항 1\t\t\n",
    "\n",
    "klue/bert-base를 pretrained weight 없이 사용해, 모델이 정상적으로 작동하는 것을 확인해보았다.\t\n",
    "\n",
    "평가문항 2\t\t\n",
    "\n",
    "-적절한 전처리와 fine-tuning을 통해 val_acc를 90% 이상 달성했다.\t\t\n",
    "\n",
    "평가문항 3\t\t\n",
    "\n",
    "-클래스 분포를 살펴보고 Bucketing task을 수행하여 어떤 효과를\n",
    "기대할 수 있는지 예상한 결과를 기록했다.\n",
    "\n",
    "-Bucketing task을 수행하여 fine-tuning 시 연산속도와 모델성능간의\n",
    "trade-off관계가 발생하는지 여부를 확인하고 분석한 결과를 제시하였다."
   ]
  },
  {
   "cell_type": "markdown",
   "id": "bae21fc7",
   "metadata": {},
   "source": [
    "16-3 Hint: 15번 OKR의 마지막 질문을https://nlp.gluon.ai/api/notes/data_api.html#bucketing-and-dataloader 해결하다 보면 알 수 있습니다!"
   ]
  },
  {
   "cell_type": "code",
   "execution_count": 1,
   "id": "5d6696c5",
   "metadata": {},
   "outputs": [],
   "source": [
    "import tensorflow as tf\n",
    "import numpy as np\n",
    "import pandas as pd\n",
    "import os,sys,copy,time\n",
    "import urllib\n",
    "\n",
    "# Hugging face\n",
    "import transformers\n",
    "from transformers import AutoModel, AutoTokenizer\n",
    "from transformers import AutoTokenizer, AutoModelForSequenceClassification, DataCollatorWithPadding\n",
    "import datasets\n",
    "from datasets import load_dataset"
   ]
  },
  {
   "cell_type": "code",
   "execution_count": 2,
   "id": "6045405a",
   "metadata": {},
   "outputs": [
    {
     "data": {
      "text/plain": [
       "'\\nurl_train = \"https://raw.githubusercontent.com/e9t/nsmc/master/ratings_train.txt\"\\nurl_test = \"https://raw.githubusercontent.com/e9t/nsmc/master/ratings_test.txt\"\\n\\nurllib.request.urlretrieve(url_train, filename=\"data/ratings_train.txt\")\\nurllib.request.urlretrieve(url_test, filename=\"data/ratings_test.txt\")\\n\\n# 데이터를 읽어봅시다. \\ntrain_data = pd.read_table(r\\'~/aiffel/hugging_face_transformers/data/ratings_train.txt\\')\\ntest_data = pd.read_table(\\'~/aiffel/hugging_face_transformers/data/ratings_test.txt\\')\\n\\nprint(\"train_data\",train_data.head(),train_data.shape)\\nprint(\\'-\\'*60)\\nprint(\"test_data\",test_data.head(),test_data.shape)\\n'"
      ]
     },
     "execution_count": 2,
     "metadata": {},
     "output_type": "execute_result"
    }
   ],
   "source": [
    "\"\"\"\n",
    "url_train = \"https://raw.githubusercontent.com/e9t/nsmc/master/ratings_train.txt\"\n",
    "url_test = \"https://raw.githubusercontent.com/e9t/nsmc/master/ratings_test.txt\"\n",
    "\n",
    "urllib.request.urlretrieve(url_train, filename=\"data/ratings_train.txt\")\n",
    "urllib.request.urlretrieve(url_test, filename=\"data/ratings_test.txt\")\n",
    "\n",
    "# 데이터를 읽어봅시다. \n",
    "train_data = pd.read_table(r'~/aiffel/hugging_face_transformers/data/ratings_train.txt')\n",
    "test_data = pd.read_table('~/aiffel/hugging_face_transformers/data/ratings_test.txt')\n",
    "\n",
    "print(\"train_data\",train_data.head(),train_data.shape)\n",
    "print('-'*60)\n",
    "print(\"test_data\",test_data.head(),test_data.shape)\n",
    "\"\"\""
   ]
  },
  {
   "cell_type": "markdown",
   "id": "27c3d9ec",
   "metadata": {},
   "source": [
    "#### 데이터 로드: Hugging Face 내부 데이터셑 >>  NSMC"
   ]
  },
  {
   "cell_type": "code",
   "execution_count": 2,
   "id": "eab7d993",
   "metadata": {},
   "outputs": [
    {
     "name": "stderr",
     "output_type": "stream",
     "text": [
      "Using custom data configuration default\n",
      "Reusing dataset nsmc (/aiffel/.cache/huggingface/datasets/nsmc/default/1.1.0/bfd4729bf1a67114e5267e6916b9e4807010aeb238e4a3c2b95fbfa3a014b5f3)\n"
     ]
    },
    {
     "data": {
      "application/vnd.jupyter.widget-view+json": {
       "model_id": "4f8c77bf2a154a33887e58edca5d43c5",
       "version_major": 2,
       "version_minor": 0
      },
      "text/plain": [
       "  0%|          | 0/2 [00:00<?, ?it/s]"
      ]
     },
     "metadata": {},
     "output_type": "display_data"
    },
    {
     "name": "stdout",
     "output_type": "stream",
     "text": [
      "DatasetDict({\n",
      "    train: Dataset({\n",
      "        features: ['id', 'document', 'label'],\n",
      "        num_rows: 150000\n",
      "    })\n",
      "    test: Dataset({\n",
      "        features: ['id', 'document', 'label'],\n",
      "        num_rows: 50000\n",
      "    })\n",
      "})\n"
     ]
    }
   ],
   "source": [
    "huggingface_nsmc_dataset = load_dataset('nsmc')\n",
    "print(huggingface_nsmc_dataset)"
   ]
  },
  {
   "cell_type": "markdown",
   "id": "6cfdab80",
   "metadata": {},
   "source": [
    "#### AutoTokenizer 및 AutoModelForSequenceClassification 로드: klue/bert-base"
   ]
  },
  {
   "cell_type": "code",
   "execution_count": 3,
   "id": "0ff5c30c",
   "metadata": {},
   "outputs": [
    {
     "name": "stderr",
     "output_type": "stream",
     "text": [
      "Some weights of the model checkpoint at klue/bert-base were not used when initializing BertForSequenceClassification: ['cls.predictions.transform.LayerNorm.bias', 'cls.seq_relationship.weight', 'cls.predictions.transform.dense.weight', 'cls.predictions.transform.LayerNorm.weight', 'cls.seq_relationship.bias', 'cls.predictions.decoder.bias', 'cls.predictions.transform.dense.bias', 'cls.predictions.decoder.weight', 'cls.predictions.bias']\n",
      "- This IS expected if you are initializing BertForSequenceClassification from the checkpoint of a model trained on another task or with another architecture (e.g. initializing a BertForSequenceClassification model from a BertForPreTraining model).\n",
      "- This IS NOT expected if you are initializing BertForSequenceClassification from the checkpoint of a model that you expect to be exactly identical (initializing a BertForSequenceClassification model from a BertForSequenceClassification model).\n",
      "Some weights of BertForSequenceClassification were not initialized from the model checkpoint at klue/bert-base and are newly initialized: ['classifier.weight', 'classifier.bias']\n",
      "You should probably TRAIN this model on a down-stream task to be able to use it for predictions and inference.\n"
     ]
    }
   ],
   "source": [
    "tokenizer = AutoTokenizer.from_pretrained(\"klue/bert-base\")\n",
    "model = AutoModelForSequenceClassification.from_pretrained(\"klue/bert-base\", num_labels = 2)\n"
   ]
  },
  {
   "cell_type": "code",
   "execution_count": 4,
   "id": "56b5c29a",
   "metadata": {},
   "outputs": [
    {
     "name": "stdout",
     "output_type": "stream",
     "text": [
      "{'id': ['9976970', '3819312'], 'document': ['아 더빙.. 진짜 짜증나네요 목소리', '흠...포스터보고 초딩영화줄....오버연기조차 가볍지 않구나'], 'label': [0, 1]}\n",
      "{'input_ids': [[2, 1376, 831, 2604, 18, 18, 4229, 9801, 2075, 2203, 2182, 4243, 3], [2, 1963, 18, 18, 18, 11811, 2178, 2088, 28883, 16516, 2776, 18, 18, 18, 18, 10737, 2156, 2015, 2446, 2232, 6758, 2118, 1380, 6074, 3]], 'attention_mask': [[1, 1, 1, 1, 1, 1, 1, 1, 1, 1, 1, 1, 1], [1, 1, 1, 1, 1, 1, 1, 1, 1, 1, 1, 1, 1, 1, 1, 1, 1, 1, 1, 1, 1, 1, 1, 1, 1]]}\n"
     ]
    }
   ],
   "source": [
    "def transform(data):\n",
    "  return tokenizer(\n",
    "      data['document'],\n",
    "      truncation = True,\n",
    "      #padding = 'longest', #'max_length','longest', #'max_length',\n",
    "      return_token_type_ids = False,\n",
    "      )\n",
    "  \n",
    "examples = huggingface_nsmc_dataset['train'][:2]\n",
    "examples_transformed = transform(examples)\n",
    "\n",
    "print(examples)\n",
    "print(examples_transformed)"
   ]
  },
  {
   "cell_type": "markdown",
   "id": "7cd5c1e0",
   "metadata": {},
   "source": [
    "#### 데이터 tokenize 완료 및  Bucketing(동적패딩) 적용:\n",
    "DataCollatorWithPadding 메소드에의한 동적 padding 않하면,계속 CUDA out of memory 오류 발생되어,동적패딩 사용함 "
   ]
  },
  {
   "cell_type": "code",
   "execution_count": 5,
   "id": "96119453",
   "metadata": {},
   "outputs": [
    {
     "name": "stderr",
     "output_type": "stream",
     "text": [
      "Loading cached processed dataset at /aiffel/.cache/huggingface/datasets/nsmc/default/1.1.0/bfd4729bf1a67114e5267e6916b9e4807010aeb238e4a3c2b95fbfa3a014b5f3/cache-f8157b33ba8f64c5.arrow\n",
      "Loading cached processed dataset at /aiffel/.cache/huggingface/datasets/nsmc/default/1.1.0/bfd4729bf1a67114e5267e6916b9e4807010aeb238e4a3c2b95fbfa3a014b5f3/cache-65c30cfb09bdad79.arrow\n"
     ]
    }
   ],
   "source": [
    "# 데이터 토크나이징 완료\n",
    "encoded_dataset = huggingface_nsmc_dataset.map(transform, batched=True)\n",
    "\n",
    "# 동적패딩: Bucketing \n",
    "data_collator = DataCollatorWithPadding(tokenizer=tokenizer)"
   ]
  },
  {
   "cell_type": "markdown",
   "id": "0bcaf33e",
   "metadata": {},
   "source": [
    "#### 메트릭: Accuracy"
   ]
  },
  {
   "cell_type": "code",
   "execution_count": 6,
   "id": "117820ff",
   "metadata": {},
   "outputs": [],
   "source": [
    "from datasets import load_metric\n",
    "metric = load_metric('glue', 'qnli')\n",
    "\n",
    "def compute_metrics(eval_pred):    \n",
    "    predictions,labels = eval_pred\n",
    "    print(predictions.shape, predictions)\n",
    "    predictions = np.argmax(predictions, axis=1)\n",
    "    print(predictions.shape, predictions)\n",
    "    return metric.compute(predictions=predictions, references = labels)"
   ]
  },
  {
   "cell_type": "markdown",
   "id": "a014e395",
   "metadata": {},
   "source": [
    "####  1차 TrainingArguments 설정"
   ]
  },
  {
   "cell_type": "code",
   "execution_count": 7,
   "id": "ceab72fa",
   "metadata": {},
   "outputs": [],
   "source": [
    "# TrainingArguments 생성 : Trainer을 활용하는 형태로 모델 재생성\n",
    "from transformers import Trainer, TrainingArguments\n",
    "output_dir = os.getenv('HOME')+'/aiffel/hugging_face_transformers/output'\n",
    "metric_name = 'accuracy'\n",
    "\n",
    "training_arguments = TrainingArguments(\n",
    "    output_dir, # output이 저장될 경로\n",
    "    evaluation_strategy=\"steps\",              # \"epoch\", #evaluation하는 빈도\n",
    "    learning_rate = 0.001,                   #2e-5, #learning_rate   1e-3\n",
    "    per_device_train_batch_size = 512,      #64, #64, #16, # 각 device 당 batch size    512\n",
    "    per_device_eval_batch_size = 512,      #64, #64, #16, # evaluation 시에 batch size   512\n",
    "    num_train_epochs = 2,                  # train 시킬 총 epochs   20\n",
    "    weight_decay = 0.01,                   # weight decay\n",
    "    save_strategy=\"epoch\",                 # 저장은 epoch 마다\n",
    "    metric_for_best_model=metric_name,  \n",
    ")\n"
   ]
  },
  {
   "cell_type": "markdown",
   "id": "6fe54bf2",
   "metadata": {},
   "source": [
    "#### 1차 trainer 생성"
   ]
  },
  {
   "cell_type": "code",
   "execution_count": 8,
   "id": "6bd08605",
   "metadata": {},
   "outputs": [],
   "source": [
    "trainer = Trainer(\n",
    "    model= model,                           # 학습시킬 model\n",
    "    args=training_arguments,                  # TrainingArguments을 통해 설정한 arguments\n",
    "    train_dataset=encoded_dataset['train'],    # training dataset\n",
    "    eval_dataset=encoded_dataset['test'],       # test dataset\n",
    "    compute_metrics=compute_metrics,\n",
    "    data_collator = data_collator,\n",
    "    tokenizer = tokenizer,\n",
    ")"
   ]
  },
  {
   "cell_type": "markdown",
   "id": "06157037",
   "metadata": {},
   "source": [
    "#### train 하기전  온전하지 못한 상태의 pre trained weight 로, evaluate 해봄:\n",
    "모델이 정상 작동되나, 가중치가 동결되어 eval 만하므로(학습이 없었으므로),  'eval_accuracy'가 0.48784 로 당연히 저조함 "
   ]
  },
  {
   "cell_type": "code",
   "execution_count": 9,
   "id": "4ea16f5c",
   "metadata": {},
   "outputs": [
    {
     "name": "stderr",
     "output_type": "stream",
     "text": [
      "The following columns in the evaluation set  don't have a corresponding argument in `BertForSequenceClassification.forward` and have been ignored: document, id.\n",
      "***** Running Evaluation *****\n",
      "  Num examples = 50000\n",
      "  Batch size = 512\n"
     ]
    },
    {
     "data": {
      "text/html": [
       "\n",
       "    <div>\n",
       "      \n",
       "      <progress value='98' max='98' style='width:300px; height:20px; vertical-align: middle;'></progress>\n",
       "      [98/98 04:25]\n",
       "    </div>\n",
       "    "
      ],
      "text/plain": [
       "<IPython.core.display.HTML object>"
      ]
     },
     "metadata": {},
     "output_type": "display_data"
    },
    {
     "name": "stdout",
     "output_type": "stream",
     "text": [
      "(50000, 2) [[-0.25257427  0.6391437 ]\n",
      " [-0.13811499  0.290787  ]\n",
      " [-0.7244184   0.8242591 ]\n",
      " ...\n",
      " [-0.39473048  0.0424289 ]\n",
      " [-0.30482697  0.36748362]\n",
      " [-0.5455898   0.41937613]]\n",
      "(50000,) [1 1 1 ... 1 1 1]\n"
     ]
    },
    {
     "data": {
      "text/plain": [
       "{'eval_loss': 0.7543045878410339,\n",
       " 'eval_accuracy': 0.48784,\n",
       " 'eval_runtime': 268.5494,\n",
       " 'eval_samples_per_second': 186.185,\n",
       " 'eval_steps_per_second': 0.365}"
      ]
     },
     "execution_count": 9,
     "metadata": {},
     "output_type": "execute_result"
    }
   ],
   "source": [
    "trainer.evaluate(encoded_dataset['test'])"
   ]
  },
  {
   "cell_type": "markdown",
   "id": "913dc811",
   "metadata": {},
   "source": [
    "####  2차 TrainingArguments 설정"
   ]
  },
  {
   "cell_type": "code",
   "execution_count": 11,
   "id": "cd607158",
   "metadata": {},
   "outputs": [
    {
     "name": "stderr",
     "output_type": "stream",
     "text": [
      "using `logging_steps` to initialize `eval_steps` to 500\n",
      "PyTorch: setting up devices\n",
      "The default value for the training argument `--report_to` will change in v5 (from all installed integrations to none). In v5, you will need to use `--report_to all` to get the same behavior as now. You should start updating your code and make this info disappear :-).\n"
     ]
    }
   ],
   "source": [
    "# TrainingArguments 생성 : Trainer을 활용하는 형태로 모델 재생성\n",
    "from transformers import Trainer, TrainingArguments\n",
    "output_dir = os.getenv('HOME')+'/aiffel/hugging_face_transformers/output'\n",
    "metric_name = 'accuracy'\n",
    "\n",
    "training_arguments = TrainingArguments(\n",
    "    output_dir, # output이 저장될 경로\n",
    "    evaluation_strategy=\"steps\",              # \"epoch\", #evaluation하는 빈도\n",
    "    learning_rate = 2e-5,                    #learning_rate   1e-3\n",
    "    per_device_train_batch_size = 16,      #64, #64, #16, # 각 device 당 batch size    512\n",
    "    per_device_eval_batch_size = 16,      #64, #64, #16, # evaluation 시에 batch size   512\n",
    "    num_train_epochs = 2,                  # train 시킬 총 epochs   20\n",
    "    weight_decay = 0.01,                   # weight decay\n",
    "    save_strategy=\"epoch\",                 # 저장은 epoch 마다\n",
    "    metric_for_best_model=metric_name,  \n",
    ")\n"
   ]
  },
  {
   "cell_type": "markdown",
   "id": "b53e4d25",
   "metadata": {},
   "source": [
    "#### 2차 trainer 생성"
   ]
  },
  {
   "cell_type": "code",
   "execution_count": 12,
   "id": "c05f9b98",
   "metadata": {},
   "outputs": [],
   "source": [
    "trainer = Trainer(\n",
    "    model= model,                           # 학습시킬 model\n",
    "    args=training_arguments,                  # TrainingArguments을 통해 설정한 arguments\n",
    "    train_dataset=encoded_dataset['train'],    # training dataset\n",
    "    eval_dataset=encoded_dataset['test'],       # test dataset\n",
    "    compute_metrics=compute_metrics,\n",
    "    data_collator = data_collator,\n",
    "    tokenizer = tokenizer,\n",
    ")"
   ]
  },
  {
   "cell_type": "markdown",
   "id": "5fa9035e",
   "metadata": {},
   "source": [
    "#### 학습(Train):  학습소요시간 3시간06분\n",
    "train_loss: 0.1706, valid_loss: 0.285934,  **Valid_Accuracy : 0.906420**, epoch:2, batch_size= 16"
   ]
  },
  {
   "cell_type": "code",
   "execution_count": 13,
   "id": "382f8c36",
   "metadata": {},
   "outputs": [
    {
     "name": "stderr",
     "output_type": "stream",
     "text": [
      "The following columns in the training set  don't have a corresponding argument in `BertForSequenceClassification.forward` and have been ignored: document, id.\n",
      "***** Running training *****\n",
      "  Num examples = 150000\n",
      "  Num Epochs = 2\n",
      "  Instantaneous batch size per device = 16\n",
      "  Total train batch size (w. parallel, distributed & accumulation) = 16\n",
      "  Gradient Accumulation steps = 1\n",
      "  Total optimization steps = 18750\n"
     ]
    },
    {
     "data": {
      "text/html": [
       "\n",
       "    <div>\n",
       "      \n",
       "      <progress value='18750' max='18750' style='width:300px; height:20px; vertical-align: middle;'></progress>\n",
       "      [18750/18750 3:06:10, Epoch 2/2]\n",
       "    </div>\n",
       "    <table border=\"1\" class=\"dataframe\">\n",
       "  <thead>\n",
       "    <tr style=\"text-align: left;\">\n",
       "      <th>Step</th>\n",
       "      <th>Training Loss</th>\n",
       "      <th>Validation Loss</th>\n",
       "      <th>Accuracy</th>\n",
       "    </tr>\n",
       "  </thead>\n",
       "  <tbody>\n",
       "    <tr>\n",
       "      <td>500</td>\n",
       "      <td>0.382800</td>\n",
       "      <td>0.318679</td>\n",
       "      <td>0.864160</td>\n",
       "    </tr>\n",
       "    <tr>\n",
       "      <td>1000</td>\n",
       "      <td>0.317300</td>\n",
       "      <td>0.310925</td>\n",
       "      <td>0.869800</td>\n",
       "    </tr>\n",
       "    <tr>\n",
       "      <td>1500</td>\n",
       "      <td>0.302300</td>\n",
       "      <td>0.353607</td>\n",
       "      <td>0.863000</td>\n",
       "    </tr>\n",
       "    <tr>\n",
       "      <td>2000</td>\n",
       "      <td>0.285800</td>\n",
       "      <td>0.286780</td>\n",
       "      <td>0.884020</td>\n",
       "    </tr>\n",
       "    <tr>\n",
       "      <td>2500</td>\n",
       "      <td>0.292700</td>\n",
       "      <td>0.296724</td>\n",
       "      <td>0.878220</td>\n",
       "    </tr>\n",
       "    <tr>\n",
       "      <td>3000</td>\n",
       "      <td>0.284100</td>\n",
       "      <td>0.268540</td>\n",
       "      <td>0.887360</td>\n",
       "    </tr>\n",
       "    <tr>\n",
       "      <td>3500</td>\n",
       "      <td>0.277200</td>\n",
       "      <td>0.342257</td>\n",
       "      <td>0.871900</td>\n",
       "    </tr>\n",
       "    <tr>\n",
       "      <td>4000</td>\n",
       "      <td>0.281100</td>\n",
       "      <td>0.276174</td>\n",
       "      <td>0.887260</td>\n",
       "    </tr>\n",
       "    <tr>\n",
       "      <td>4500</td>\n",
       "      <td>0.279600</td>\n",
       "      <td>0.277096</td>\n",
       "      <td>0.884320</td>\n",
       "    </tr>\n",
       "    <tr>\n",
       "      <td>5000</td>\n",
       "      <td>0.262200</td>\n",
       "      <td>0.268126</td>\n",
       "      <td>0.895180</td>\n",
       "    </tr>\n",
       "    <tr>\n",
       "      <td>5500</td>\n",
       "      <td>0.258000</td>\n",
       "      <td>0.266272</td>\n",
       "      <td>0.895700</td>\n",
       "    </tr>\n",
       "    <tr>\n",
       "      <td>6000</td>\n",
       "      <td>0.263200</td>\n",
       "      <td>0.259900</td>\n",
       "      <td>0.894960</td>\n",
       "    </tr>\n",
       "    <tr>\n",
       "      <td>6500</td>\n",
       "      <td>0.256800</td>\n",
       "      <td>0.274265</td>\n",
       "      <td>0.896460</td>\n",
       "    </tr>\n",
       "    <tr>\n",
       "      <td>7000</td>\n",
       "      <td>0.261900</td>\n",
       "      <td>0.253068</td>\n",
       "      <td>0.900040</td>\n",
       "    </tr>\n",
       "    <tr>\n",
       "      <td>7500</td>\n",
       "      <td>0.276000</td>\n",
       "      <td>0.243163</td>\n",
       "      <td>0.898900</td>\n",
       "    </tr>\n",
       "    <tr>\n",
       "      <td>8000</td>\n",
       "      <td>0.258700</td>\n",
       "      <td>0.257151</td>\n",
       "      <td>0.899600</td>\n",
       "    </tr>\n",
       "    <tr>\n",
       "      <td>8500</td>\n",
       "      <td>0.252400</td>\n",
       "      <td>0.262603</td>\n",
       "      <td>0.899040</td>\n",
       "    </tr>\n",
       "    <tr>\n",
       "      <td>9000</td>\n",
       "      <td>0.253200</td>\n",
       "      <td>0.239418</td>\n",
       "      <td>0.901700</td>\n",
       "    </tr>\n",
       "    <tr>\n",
       "      <td>9500</td>\n",
       "      <td>0.230000</td>\n",
       "      <td>0.283110</td>\n",
       "      <td>0.904100</td>\n",
       "    </tr>\n",
       "    <tr>\n",
       "      <td>10000</td>\n",
       "      <td>0.192600</td>\n",
       "      <td>0.298161</td>\n",
       "      <td>0.903420</td>\n",
       "    </tr>\n",
       "    <tr>\n",
       "      <td>10500</td>\n",
       "      <td>0.197000</td>\n",
       "      <td>0.298460</td>\n",
       "      <td>0.904020</td>\n",
       "    </tr>\n",
       "    <tr>\n",
       "      <td>11000</td>\n",
       "      <td>0.176300</td>\n",
       "      <td>0.312368</td>\n",
       "      <td>0.902920</td>\n",
       "    </tr>\n",
       "    <tr>\n",
       "      <td>11500</td>\n",
       "      <td>0.196600</td>\n",
       "      <td>0.303100</td>\n",
       "      <td>0.900780</td>\n",
       "    </tr>\n",
       "    <tr>\n",
       "      <td>12000</td>\n",
       "      <td>0.187300</td>\n",
       "      <td>0.288961</td>\n",
       "      <td>0.903740</td>\n",
       "    </tr>\n",
       "    <tr>\n",
       "      <td>12500</td>\n",
       "      <td>0.176300</td>\n",
       "      <td>0.299313</td>\n",
       "      <td>0.904320</td>\n",
       "    </tr>\n",
       "    <tr>\n",
       "      <td>13000</td>\n",
       "      <td>0.181300</td>\n",
       "      <td>0.316164</td>\n",
       "      <td>0.903980</td>\n",
       "    </tr>\n",
       "    <tr>\n",
       "      <td>13500</td>\n",
       "      <td>0.197100</td>\n",
       "      <td>0.270184</td>\n",
       "      <td>0.904240</td>\n",
       "    </tr>\n",
       "    <tr>\n",
       "      <td>14000</td>\n",
       "      <td>0.175000</td>\n",
       "      <td>0.296982</td>\n",
       "      <td>0.904940</td>\n",
       "    </tr>\n",
       "    <tr>\n",
       "      <td>14500</td>\n",
       "      <td>0.188000</td>\n",
       "      <td>0.279020</td>\n",
       "      <td>0.905040</td>\n",
       "    </tr>\n",
       "    <tr>\n",
       "      <td>15000</td>\n",
       "      <td>0.178900</td>\n",
       "      <td>0.294138</td>\n",
       "      <td>0.905180</td>\n",
       "    </tr>\n",
       "    <tr>\n",
       "      <td>15500</td>\n",
       "      <td>0.178800</td>\n",
       "      <td>0.286592</td>\n",
       "      <td>0.904960</td>\n",
       "    </tr>\n",
       "    <tr>\n",
       "      <td>16000</td>\n",
       "      <td>0.180300</td>\n",
       "      <td>0.283375</td>\n",
       "      <td>0.904520</td>\n",
       "    </tr>\n",
       "    <tr>\n",
       "      <td>16500</td>\n",
       "      <td>0.174800</td>\n",
       "      <td>0.286086</td>\n",
       "      <td>0.906040</td>\n",
       "    </tr>\n",
       "    <tr>\n",
       "      <td>17000</td>\n",
       "      <td>0.180100</td>\n",
       "      <td>0.292925</td>\n",
       "      <td>0.905700</td>\n",
       "    </tr>\n",
       "    <tr>\n",
       "      <td>17500</td>\n",
       "      <td>0.171800</td>\n",
       "      <td>0.293520</td>\n",
       "      <td>0.906520</td>\n",
       "    </tr>\n",
       "    <tr>\n",
       "      <td>18000</td>\n",
       "      <td>0.179600</td>\n",
       "      <td>0.286512</td>\n",
       "      <td>0.906620</td>\n",
       "    </tr>\n",
       "    <tr>\n",
       "      <td>18500</td>\n",
       "      <td>0.170600</td>\n",
       "      <td>0.285934</td>\n",
       "      <td>0.906420</td>\n",
       "    </tr>\n",
       "  </tbody>\n",
       "</table><p>"
      ],
      "text/plain": [
       "<IPython.core.display.HTML object>"
      ]
     },
     "metadata": {},
     "output_type": "display_data"
    },
    {
     "name": "stderr",
     "output_type": "stream",
     "text": [
      "The following columns in the evaluation set  don't have a corresponding argument in `BertForSequenceClassification.forward` and have been ignored: document, id.\n",
      "***** Running Evaluation *****\n",
      "  Num examples = 50000\n",
      "  Batch size = 16\n"
     ]
    },
    {
     "name": "stdout",
     "output_type": "stream",
     "text": [
      "(50000, 2) [[-1.2431989   1.5268462 ]\n",
      " [ 0.74056697 -0.12082883]\n",
      " [ 0.37797397 -0.045316  ]\n",
      " ...\n",
      " [ 1.0821933  -1.2622672 ]\n",
      " [ 2.7252276  -2.3135626 ]\n",
      " [ 0.9535606  -0.8056282 ]]\n",
      "(50000,) [1 0 0 ... 0 0 0]\n"
     ]
    },
    {
     "name": "stderr",
     "output_type": "stream",
     "text": [
      "The following columns in the evaluation set  don't have a corresponding argument in `BertForSequenceClassification.forward` and have been ignored: document, id.\n",
      "***** Running Evaluation *****\n",
      "  Num examples = 50000\n",
      "  Batch size = 16\n"
     ]
    },
    {
     "name": "stdout",
     "output_type": "stream",
     "text": [
      "(50000, 2) [[-1.6574982   1.4636476 ]\n",
      " [ 0.39977935  0.02069535]\n",
      " [ 0.16202994 -0.14982098]\n",
      " ...\n",
      " [ 1.2339035  -1.3085934 ]\n",
      " [ 2.543764   -2.1690066 ]\n",
      " [ 0.6313197  -0.59607124]]\n",
      "(50000,) [1 0 0 ... 0 0 0]\n"
     ]
    },
    {
     "name": "stderr",
     "output_type": "stream",
     "text": [
      "The following columns in the evaluation set  don't have a corresponding argument in `BertForSequenceClassification.forward` and have been ignored: document, id.\n",
      "***** Running Evaluation *****\n",
      "  Num examples = 50000\n",
      "  Batch size = 16\n"
     ]
    },
    {
     "name": "stdout",
     "output_type": "stream",
     "text": [
      "(50000, 2) [[-2.1349685   1.8197856 ]\n",
      " [ 0.20174885  0.3276932 ]\n",
      " [ 1.9887723  -1.6071186 ]\n",
      " ...\n",
      " [ 2.9373221  -2.716717  ]\n",
      " [ 3.3168192  -2.9527624 ]\n",
      " [ 1.9863759  -1.6748885 ]]\n",
      "(50000,) [1 1 0 ... 0 0 0]\n"
     ]
    },
    {
     "name": "stderr",
     "output_type": "stream",
     "text": [
      "The following columns in the evaluation set  don't have a corresponding argument in `BertForSequenceClassification.forward` and have been ignored: document, id.\n",
      "***** Running Evaluation *****\n",
      "  Num examples = 50000\n",
      "  Batch size = 16\n"
     ]
    },
    {
     "name": "stdout",
     "output_type": "stream",
     "text": [
      "(50000, 2) [[-1.7467092   1.6702408 ]\n",
      " [ 0.44945046  0.31667373]\n",
      " [ 0.05092498  0.32179338]\n",
      " ...\n",
      " [ 1.5018033  -1.2883317 ]\n",
      " [ 3.3463035  -3.036636  ]\n",
      " [ 0.6427858  -0.3539238 ]]\n",
      "(50000,) [1 0 1 ... 0 0 0]\n"
     ]
    },
    {
     "name": "stderr",
     "output_type": "stream",
     "text": [
      "The following columns in the evaluation set  don't have a corresponding argument in `BertForSequenceClassification.forward` and have been ignored: document, id.\n",
      "***** Running Evaluation *****\n",
      "  Num examples = 50000\n",
      "  Batch size = 16\n"
     ]
    },
    {
     "name": "stdout",
     "output_type": "stream",
     "text": [
      "(50000, 2) [[-2.302086    1.897757  ]\n",
      " [ 0.1352159   0.7253018 ]\n",
      " [ 0.66593444 -0.18009996]\n",
      " ...\n",
      " [ 1.7059973  -1.3067462 ]\n",
      " [ 2.9744189  -2.5208144 ]\n",
      " [ 0.4863239  -0.38074788]]\n",
      "(50000,) [1 1 0 ... 0 0 0]\n"
     ]
    },
    {
     "name": "stderr",
     "output_type": "stream",
     "text": [
      "The following columns in the evaluation set  don't have a corresponding argument in `BertForSequenceClassification.forward` and have been ignored: document, id.\n",
      "***** Running Evaluation *****\n",
      "  Num examples = 50000\n",
      "  Batch size = 16\n"
     ]
    },
    {
     "name": "stdout",
     "output_type": "stream",
     "text": [
      "(50000, 2) [[-1.735084    1.2582268 ]\n",
      " [ 0.3660341   0.43856716]\n",
      " [ 1.0494716  -0.5198203 ]\n",
      " ...\n",
      " [ 1.4291233  -1.0857582 ]\n",
      " [ 3.021946   -2.5471187 ]\n",
      " [ 1.1671059  -1.1276318 ]]\n",
      "(50000,) [1 1 0 ... 0 0 0]\n"
     ]
    },
    {
     "name": "stderr",
     "output_type": "stream",
     "text": [
      "The following columns in the evaluation set  don't have a corresponding argument in `BertForSequenceClassification.forward` and have been ignored: document, id.\n",
      "***** Running Evaluation *****\n",
      "  Num examples = 50000\n",
      "  Batch size = 16\n"
     ]
    },
    {
     "name": "stdout",
     "output_type": "stream",
     "text": [
      "(50000, 2) [[-2.1639125   1.5963928 ]\n",
      " [-0.37254313  0.9637508 ]\n",
      " [-0.2741979   0.58621246]\n",
      " ...\n",
      " [ 0.44250014 -0.50234306]\n",
      " [ 3.327926   -3.0188916 ]\n",
      " [ 1.3950013  -1.0715132 ]]\n",
      "(50000,) [1 1 1 ... 0 0 0]\n"
     ]
    },
    {
     "name": "stderr",
     "output_type": "stream",
     "text": [
      "The following columns in the evaluation set  don't have a corresponding argument in `BertForSequenceClassification.forward` and have been ignored: document, id.\n",
      "***** Running Evaluation *****\n",
      "  Num examples = 50000\n",
      "  Batch size = 16\n"
     ]
    },
    {
     "name": "stdout",
     "output_type": "stream",
     "text": [
      "(50000, 2) [[-2.0774047   1.7107928 ]\n",
      " [-0.07405683  0.89696234]\n",
      " [ 0.6966192  -0.22029254]\n",
      " ...\n",
      " [ 1.4078898  -1.4300528 ]\n",
      " [ 3.1600432  -2.975074  ]\n",
      " [ 0.5350686  -0.07437615]]\n",
      "(50000,) [1 1 0 ... 0 0 0]\n"
     ]
    },
    {
     "name": "stderr",
     "output_type": "stream",
     "text": [
      "The following columns in the evaluation set  don't have a corresponding argument in `BertForSequenceClassification.forward` and have been ignored: document, id.\n",
      "***** Running Evaluation *****\n",
      "  Num examples = 50000\n",
      "  Batch size = 16\n"
     ]
    },
    {
     "name": "stdout",
     "output_type": "stream",
     "text": [
      "(50000, 2) [[-2.438729    2.1969006 ]\n",
      " [ 0.14077796  0.7019109 ]\n",
      " [ 1.4499168  -0.81018496]\n",
      " ...\n",
      " [ 1.7370977  -1.482341  ]\n",
      " [ 3.2281935  -3.1322536 ]\n",
      " [ 1.1399112  -0.7101403 ]]\n",
      "(50000,) [1 1 0 ... 0 0 0]\n"
     ]
    },
    {
     "name": "stderr",
     "output_type": "stream",
     "text": [
      "The following columns in the evaluation set  don't have a corresponding argument in `BertForSequenceClassification.forward` and have been ignored: document, id.\n",
      "***** Running Evaluation *****\n",
      "  Num examples = 50000\n",
      "  Batch size = 16\n"
     ]
    },
    {
     "name": "stdout",
     "output_type": "stream",
     "text": [
      "(50000, 2) [[-2.4966238   2.3502724 ]\n",
      " [-0.3555807   1.2618078 ]\n",
      " [ 1.0410594  -0.44423532]\n",
      " ...\n",
      " [ 0.89044964 -0.6575203 ]\n",
      " [ 2.8425195  -2.7953877 ]\n",
      " [ 1.1633633  -0.6941782 ]]\n",
      "(50000,) [1 1 0 ... 0 0 0]\n"
     ]
    },
    {
     "name": "stderr",
     "output_type": "stream",
     "text": [
      "The following columns in the evaluation set  don't have a corresponding argument in `BertForSequenceClassification.forward` and have been ignored: document, id.\n",
      "***** Running Evaluation *****\n",
      "  Num examples = 50000\n",
      "  Batch size = 16\n"
     ]
    },
    {
     "name": "stdout",
     "output_type": "stream",
     "text": [
      "(50000, 2) [[-2.6034899   2.372035  ]\n",
      " [-0.12862179  0.86833817]\n",
      " [ 0.97333044 -0.09144828]\n",
      " ...\n",
      " [ 2.5505693  -2.7058187 ]\n",
      " [ 3.2174942  -3.2636158 ]\n",
      " [ 1.1254871  -0.757275  ]]\n",
      "(50000,) [1 1 0 ... 0 0 0]\n"
     ]
    },
    {
     "name": "stderr",
     "output_type": "stream",
     "text": [
      "The following columns in the evaluation set  don't have a corresponding argument in `BertForSequenceClassification.forward` and have been ignored: document, id.\n",
      "***** Running Evaluation *****\n",
      "  Num examples = 50000\n",
      "  Batch size = 16\n"
     ]
    },
    {
     "name": "stdout",
     "output_type": "stream",
     "text": [
      "(50000, 2) [[-1.9847081   1.847104  ]\n",
      " [-0.09149816  0.89264387]\n",
      " [ 1.4325099  -0.73961717]\n",
      " ...\n",
      " [ 1.7357517  -1.6286535 ]\n",
      " [ 3.0607672  -3.076725  ]\n",
      " [ 0.8122162  -0.27833268]]\n",
      "(50000,) [1 1 0 ... 0 0 0]\n"
     ]
    },
    {
     "name": "stderr",
     "output_type": "stream",
     "text": [
      "The following columns in the evaluation set  don't have a corresponding argument in `BertForSequenceClassification.forward` and have been ignored: document, id.\n",
      "***** Running Evaluation *****\n",
      "  Num examples = 50000\n",
      "  Batch size = 16\n"
     ]
    },
    {
     "name": "stdout",
     "output_type": "stream",
     "text": [
      "(50000, 2) [[-2.2704227   2.2372496 ]\n",
      " [-0.3126241   0.94923633]\n",
      " [ 0.8218469  -0.2721331 ]\n",
      " ...\n",
      " [ 1.7881292  -1.909964  ]\n",
      " [ 3.1399915  -3.312331  ]\n",
      " [ 0.7137077  -0.20670566]]\n",
      "(50000,) [1 1 0 ... 0 0 0]\n"
     ]
    },
    {
     "name": "stderr",
     "output_type": "stream",
     "text": [
      "The following columns in the evaluation set  don't have a corresponding argument in `BertForSequenceClassification.forward` and have been ignored: document, id.\n",
      "***** Running Evaluation *****\n",
      "  Num examples = 50000\n",
      "  Batch size = 16\n"
     ]
    },
    {
     "name": "stdout",
     "output_type": "stream",
     "text": [
      "(50000, 2) [[-1.9000448  1.8571041]\n",
      " [ 0.1190948  0.5365161]\n",
      " [ 1.3164771 -0.7534737]\n",
      " ...\n",
      " [ 1.469399  -1.4715005]\n",
      " [ 3.1739626 -3.1768782]\n",
      " [ 1.3739156 -0.8720092]]\n",
      "(50000,) [1 1 0 ... 0 0 0]\n"
     ]
    },
    {
     "name": "stderr",
     "output_type": "stream",
     "text": [
      "The following columns in the evaluation set  don't have a corresponding argument in `BertForSequenceClassification.forward` and have been ignored: document, id.\n",
      "***** Running Evaluation *****\n",
      "  Num examples = 50000\n",
      "  Batch size = 16\n"
     ]
    },
    {
     "name": "stdout",
     "output_type": "stream",
     "text": [
      "(50000, 2) [[-1.8424898   1.5071039 ]\n",
      " [ 0.06913555  0.5837934 ]\n",
      " [ 0.844111   -0.05755842]\n",
      " ...\n",
      " [ 0.5365672  -0.18643077]\n",
      " [ 2.7286975  -2.2886636 ]\n",
      " [ 1.2312019  -0.5984708 ]]\n",
      "(50000,) [1 1 0 ... 0 0 0]\n"
     ]
    },
    {
     "name": "stderr",
     "output_type": "stream",
     "text": [
      "The following columns in the evaluation set  don't have a corresponding argument in `BertForSequenceClassification.forward` and have been ignored: document, id.\n",
      "***** Running Evaluation *****\n",
      "  Num examples = 50000\n",
      "  Batch size = 16\n"
     ]
    },
    {
     "name": "stdout",
     "output_type": "stream",
     "text": [
      "(50000, 2) [[-2.1608434   1.8140553 ]\n",
      " [-0.13142228  0.77786237]\n",
      " [ 1.393936   -0.6727245 ]\n",
      " ...\n",
      " [ 1.1976167  -1.0526425 ]\n",
      " [ 3.168764   -3.0188339 ]\n",
      " [ 1.1627674  -0.780367  ]]\n",
      "(50000,) [1 1 0 ... 0 0 0]\n"
     ]
    },
    {
     "name": "stderr",
     "output_type": "stream",
     "text": [
      "The following columns in the evaluation set  don't have a corresponding argument in `BertForSequenceClassification.forward` and have been ignored: document, id.\n",
      "***** Running Evaluation *****\n",
      "  Num examples = 50000\n",
      "  Batch size = 16\n"
     ]
    },
    {
     "name": "stdout",
     "output_type": "stream",
     "text": [
      "(50000, 2) [[-2.6144195   2.1633408 ]\n",
      " [-0.07587587  0.70444137]\n",
      " [ 1.4982567  -0.8817541 ]\n",
      " ...\n",
      " [ 0.90583044 -0.8054761 ]\n",
      " [ 3.0117292  -2.8349743 ]\n",
      " [ 0.9116444  -0.66006273]]\n",
      "(50000,) [1 1 0 ... 0 0 0]\n"
     ]
    },
    {
     "name": "stderr",
     "output_type": "stream",
     "text": [
      "The following columns in the evaluation set  don't have a corresponding argument in `BertForSequenceClassification.forward` and have been ignored: document, id.\n",
      "***** Running Evaluation *****\n",
      "  Num examples = 50000\n",
      "  Batch size = 16\n"
     ]
    },
    {
     "name": "stdout",
     "output_type": "stream",
     "text": [
      "(50000, 2) [[-2.130304    1.883079  ]\n",
      " [-0.05616392  0.67620665]\n",
      " [ 0.8439629  -0.55585134]\n",
      " ...\n",
      " [ 1.0997336  -0.85664356]\n",
      " [ 3.105908   -3.0468338 ]\n",
      " [ 1.4617398  -1.2055631 ]]\n",
      "(50000,) [1 1 0 ... 0 0 0]\n"
     ]
    },
    {
     "name": "stderr",
     "output_type": "stream",
     "text": [
      "Saving model checkpoint to /aiffel/aiffel/hugging_face_transformers/output/checkpoint-9375\n",
      "Configuration saved in /aiffel/aiffel/hugging_face_transformers/output/checkpoint-9375/config.json\n",
      "Model weights saved in /aiffel/aiffel/hugging_face_transformers/output/checkpoint-9375/pytorch_model.bin\n",
      "tokenizer config file saved in /aiffel/aiffel/hugging_face_transformers/output/checkpoint-9375/tokenizer_config.json\n",
      "Special tokens file saved in /aiffel/aiffel/hugging_face_transformers/output/checkpoint-9375/special_tokens_map.json\n",
      "The following columns in the evaluation set  don't have a corresponding argument in `BertForSequenceClassification.forward` and have been ignored: document, id.\n",
      "***** Running Evaluation *****\n",
      "  Num examples = 50000\n",
      "  Batch size = 16\n"
     ]
    },
    {
     "name": "stdout",
     "output_type": "stream",
     "text": [
      "(50000, 2) [[-2.7227998   2.3445215 ]\n",
      " [-0.14161627  0.71426255]\n",
      " [ 1.8964777  -1.5880926 ]\n",
      " ...\n",
      " [ 1.3636819  -1.2741492 ]\n",
      " [ 3.3822505  -3.3756833 ]\n",
      " [ 1.800486   -1.6966834 ]]\n",
      "(50000,) [1 1 0 ... 0 0 0]\n"
     ]
    },
    {
     "name": "stderr",
     "output_type": "stream",
     "text": [
      "The following columns in the evaluation set  don't have a corresponding argument in `BertForSequenceClassification.forward` and have been ignored: document, id.\n",
      "***** Running Evaluation *****\n",
      "  Num examples = 50000\n",
      "  Batch size = 16\n"
     ]
    },
    {
     "name": "stdout",
     "output_type": "stream",
     "text": [
      "(50000, 2) [[-2.5579593   2.2317028 ]\n",
      " [-0.31820375  0.87475276]\n",
      " [ 2.352388   -1.7038789 ]\n",
      " ...\n",
      " [ 1.524385   -1.1915472 ]\n",
      " [ 3.5642235  -3.4596655 ]\n",
      " [ 2.3239338  -1.9452338 ]]\n",
      "(50000,) [1 1 0 ... 0 0 0]\n"
     ]
    },
    {
     "name": "stderr",
     "output_type": "stream",
     "text": [
      "The following columns in the evaluation set  don't have a corresponding argument in `BertForSequenceClassification.forward` and have been ignored: document, id.\n",
      "***** Running Evaluation *****\n",
      "  Num examples = 50000\n",
      "  Batch size = 16\n"
     ]
    },
    {
     "name": "stdout",
     "output_type": "stream",
     "text": [
      "(50000, 2) [[-2.8096428   2.3856742 ]\n",
      " [-0.74725413  1.0977001 ]\n",
      " [ 2.330088   -1.6401976 ]\n",
      " ...\n",
      " [ 1.9403073  -1.5274795 ]\n",
      " [ 3.7105079  -3.6970828 ]\n",
      " [ 2.09223    -1.6743941 ]]\n",
      "(50000,) [1 1 0 ... 0 0 0]\n"
     ]
    },
    {
     "name": "stderr",
     "output_type": "stream",
     "text": [
      "The following columns in the evaluation set  don't have a corresponding argument in `BertForSequenceClassification.forward` and have been ignored: document, id.\n",
      "***** Running Evaluation *****\n",
      "  Num examples = 50000\n",
      "  Batch size = 16\n"
     ]
    },
    {
     "name": "stdout",
     "output_type": "stream",
     "text": [
      "(50000, 2) [[-2.566672   2.1418824]\n",
      " [-1.2174051  1.4419054]\n",
      " [ 2.7917252 -2.3665876]\n",
      " ...\n",
      " [ 2.2083309 -1.8656355]\n",
      " [ 3.6059089 -3.6627514]\n",
      " [ 2.2050169 -1.8460752]]\n",
      "(50000,) [1 1 0 ... 0 0 0]\n"
     ]
    },
    {
     "name": "stderr",
     "output_type": "stream",
     "text": [
      "The following columns in the evaluation set  don't have a corresponding argument in `BertForSequenceClassification.forward` and have been ignored: document, id.\n",
      "***** Running Evaluation *****\n",
      "  Num examples = 50000\n",
      "  Batch size = 16\n"
     ]
    },
    {
     "name": "stdout",
     "output_type": "stream",
     "text": [
      "(50000, 2) [[-2.5115612   2.0590088 ]\n",
      " [-0.93380743  1.1721835 ]\n",
      " [ 1.746047   -1.121748  ]\n",
      " ...\n",
      " [ 1.3159553  -0.99579805]\n",
      " [ 3.5707746  -3.5561616 ]\n",
      " [ 1.9075767  -1.4995214 ]]\n",
      "(50000,) [1 1 0 ... 0 0 0]\n"
     ]
    },
    {
     "name": "stderr",
     "output_type": "stream",
     "text": [
      "The following columns in the evaluation set  don't have a corresponding argument in `BertForSequenceClassification.forward` and have been ignored: document, id.\n",
      "***** Running Evaluation *****\n",
      "  Num examples = 50000\n",
      "  Batch size = 16\n"
     ]
    },
    {
     "name": "stdout",
     "output_type": "stream",
     "text": [
      "(50000, 2) [[-2.4134433  1.9487277]\n",
      " [-0.9943967  1.2160456]\n",
      " [ 2.2935867 -1.91647  ]\n",
      " ...\n",
      " [ 1.5906559 -1.4032347]\n",
      " [ 3.3624268 -3.384493 ]\n",
      " [ 1.9372817 -1.6632066]]\n",
      "(50000,) [1 1 0 ... 0 0 0]\n"
     ]
    },
    {
     "name": "stderr",
     "output_type": "stream",
     "text": [
      "The following columns in the evaluation set  don't have a corresponding argument in `BertForSequenceClassification.forward` and have been ignored: document, id.\n",
      "***** Running Evaluation *****\n",
      "  Num examples = 50000\n",
      "  Batch size = 16\n"
     ]
    },
    {
     "name": "stdout",
     "output_type": "stream",
     "text": [
      "(50000, 2) [[-2.7325664   2.315244  ]\n",
      " [-0.90047777  1.1280215 ]\n",
      " [ 2.630725   -2.211881  ]\n",
      " ...\n",
      " [ 1.8229747  -1.438869  ]\n",
      " [ 3.5937138  -3.6066062 ]\n",
      " [ 1.8724899  -1.5463864 ]]\n",
      "(50000,) [1 1 0 ... 0 0 0]\n"
     ]
    },
    {
     "name": "stderr",
     "output_type": "stream",
     "text": [
      "The following columns in the evaluation set  don't have a corresponding argument in `BertForSequenceClassification.forward` and have been ignored: document, id.\n",
      "***** Running Evaluation *****\n",
      "  Num examples = 50000\n",
      "  Batch size = 16\n"
     ]
    },
    {
     "name": "stdout",
     "output_type": "stream",
     "text": [
      "(50000, 2) [[-2.8331015   2.4047458 ]\n",
      " [-0.7049729   0.86676145]\n",
      " [ 2.6280122  -2.201135  ]\n",
      " ...\n",
      " [ 1.3771654  -1.0601338 ]\n",
      " [ 3.5061884  -3.581788  ]\n",
      " [ 1.8950262  -1.5248013 ]]\n",
      "(50000,) [1 1 0 ... 0 0 0]\n"
     ]
    },
    {
     "name": "stderr",
     "output_type": "stream",
     "text": [
      "The following columns in the evaluation set  don't have a corresponding argument in `BertForSequenceClassification.forward` and have been ignored: document, id.\n",
      "***** Running Evaluation *****\n",
      "  Num examples = 50000\n",
      "  Batch size = 16\n"
     ]
    },
    {
     "name": "stdout",
     "output_type": "stream",
     "text": [
      "(50000, 2) [[-2.3023493  1.8440808]\n",
      " [-0.4579758  0.6745641]\n",
      " [ 2.352937  -1.9880083]\n",
      " ...\n",
      " [ 1.7310524 -1.3797724]\n",
      " [ 3.1991618 -3.2792017]\n",
      " [ 1.6878184 -1.4022377]]\n",
      "(50000,) [1 1 0 ... 0 0 0]\n"
     ]
    },
    {
     "name": "stderr",
     "output_type": "stream",
     "text": [
      "The following columns in the evaluation set  don't have a corresponding argument in `BertForSequenceClassification.forward` and have been ignored: document, id.\n",
      "***** Running Evaluation *****\n",
      "  Num examples = 50000\n",
      "  Batch size = 16\n"
     ]
    },
    {
     "name": "stdout",
     "output_type": "stream",
     "text": [
      "(50000, 2) [[-2.8454063  2.4138272]\n",
      " [-0.5163678  0.7423664]\n",
      " [ 2.767331  -2.5060627]\n",
      " ...\n",
      " [ 1.2975718 -1.112794 ]\n",
      " [ 3.4706633 -3.5764544]\n",
      " [ 1.9743423 -1.6349704]]\n",
      "(50000,) [1 1 0 ... 0 0 0]\n"
     ]
    },
    {
     "name": "stderr",
     "output_type": "stream",
     "text": [
      "The following columns in the evaluation set  don't have a corresponding argument in `BertForSequenceClassification.forward` and have been ignored: document, id.\n",
      "***** Running Evaluation *****\n",
      "  Num examples = 50000\n",
      "  Batch size = 16\n"
     ]
    },
    {
     "name": "stdout",
     "output_type": "stream",
     "text": [
      "(50000, 2) [[-2.4532056   1.958697  ]\n",
      " [-0.42619237  0.64380974]\n",
      " [ 2.5706718  -2.17904   ]\n",
      " ...\n",
      " [ 1.38211    -1.1905751 ]\n",
      " [ 3.5425858  -3.6064332 ]\n",
      " [ 1.9025538  -1.5668405 ]]\n",
      "(50000,) [1 1 0 ... 0 0 0]\n"
     ]
    },
    {
     "name": "stderr",
     "output_type": "stream",
     "text": [
      "The following columns in the evaluation set  don't have a corresponding argument in `BertForSequenceClassification.forward` and have been ignored: document, id.\n",
      "***** Running Evaluation *****\n",
      "  Num examples = 50000\n",
      "  Batch size = 16\n"
     ]
    },
    {
     "name": "stdout",
     "output_type": "stream",
     "text": [
      "(50000, 2) [[-2.8462253   2.452647  ]\n",
      " [-0.75737804  0.93857336]\n",
      " [ 2.1312904  -1.9434092 ]\n",
      " ...\n",
      " [-0.28129214  0.03703035]\n",
      " [ 3.1895497  -3.1909485 ]\n",
      " [ 1.8135111  -1.5555017 ]]\n",
      "(50000,) [1 1 0 ... 1 0 0]\n"
     ]
    },
    {
     "name": "stderr",
     "output_type": "stream",
     "text": [
      "The following columns in the evaluation set  don't have a corresponding argument in `BertForSequenceClassification.forward` and have been ignored: document, id.\n",
      "***** Running Evaluation *****\n",
      "  Num examples = 50000\n",
      "  Batch size = 16\n"
     ]
    },
    {
     "name": "stdout",
     "output_type": "stream",
     "text": [
      "(50000, 2) [[-2.790914   2.424118 ]\n",
      " [-0.7998246  0.9734015]\n",
      " [ 1.8284773 -1.453566 ]\n",
      " ...\n",
      " [ 1.6629323 -1.4255767]\n",
      " [ 3.2900097 -3.3818185]\n",
      " [ 1.7165036 -1.4583505]]\n",
      "(50000,) [1 1 0 ... 0 0 0]\n"
     ]
    },
    {
     "name": "stderr",
     "output_type": "stream",
     "text": [
      "The following columns in the evaluation set  don't have a corresponding argument in `BertForSequenceClassification.forward` and have been ignored: document, id.\n",
      "***** Running Evaluation *****\n",
      "  Num examples = 50000\n",
      "  Batch size = 16\n"
     ]
    },
    {
     "name": "stdout",
     "output_type": "stream",
     "text": [
      "(50000, 2) [[-2.5068154  2.103187 ]\n",
      " [-0.6887052  0.8488076]\n",
      " [ 1.7219133 -1.2918435]\n",
      " ...\n",
      " [ 0.9116944 -0.9911722]\n",
      " [ 3.454759  -3.532213 ]\n",
      " [ 1.7829589 -1.5436604]]\n",
      "(50000,) [1 1 0 ... 0 0 0]\n"
     ]
    },
    {
     "name": "stderr",
     "output_type": "stream",
     "text": [
      "The following columns in the evaluation set  don't have a corresponding argument in `BertForSequenceClassification.forward` and have been ignored: document, id.\n",
      "***** Running Evaluation *****\n",
      "  Num examples = 50000\n",
      "  Batch size = 16\n"
     ]
    },
    {
     "name": "stdout",
     "output_type": "stream",
     "text": [
      "(50000, 2) [[-2.6419775   2.236286  ]\n",
      " [-0.7449706   0.87536573]\n",
      " [ 2.0912688  -1.6854143 ]\n",
      " ...\n",
      " [ 1.5488394  -1.350775  ]\n",
      " [ 3.5101027  -3.618393  ]\n",
      " [ 1.6759068  -1.3957281 ]]\n",
      "(50000,) [1 1 0 ... 0 0 0]\n"
     ]
    },
    {
     "name": "stderr",
     "output_type": "stream",
     "text": [
      "The following columns in the evaluation set  don't have a corresponding argument in `BertForSequenceClassification.forward` and have been ignored: document, id.\n",
      "***** Running Evaluation *****\n",
      "  Num examples = 50000\n",
      "  Batch size = 16\n"
     ]
    },
    {
     "name": "stdout",
     "output_type": "stream",
     "text": [
      "(50000, 2) [[-2.702814   2.3390195]\n",
      " [-0.780467   0.9053882]\n",
      " [ 2.2492983 -1.8941478]\n",
      " ...\n",
      " [ 1.8234404 -1.6041486]\n",
      " [ 3.5808396 -3.6893635]\n",
      " [ 1.7204165 -1.4020312]]\n",
      "(50000,) [1 1 0 ... 0 0 0]\n"
     ]
    },
    {
     "name": "stderr",
     "output_type": "stream",
     "text": [
      "The following columns in the evaluation set  don't have a corresponding argument in `BertForSequenceClassification.forward` and have been ignored: document, id.\n",
      "***** Running Evaluation *****\n",
      "  Num examples = 50000\n",
      "  Batch size = 16\n"
     ]
    },
    {
     "name": "stdout",
     "output_type": "stream",
     "text": [
      "(50000, 2) [[-2.6363323   2.2880237 ]\n",
      " [-0.6376862   0.78444934]\n",
      " [ 2.140703   -1.7327825 ]\n",
      " ...\n",
      " [ 1.7572842  -1.5152491 ]\n",
      " [ 3.6268468  -3.7415974 ]\n",
      " [ 1.6855474  -1.3580043 ]]\n",
      "(50000,) [1 1 0 ... 0 0 0]\n"
     ]
    },
    {
     "name": "stderr",
     "output_type": "stream",
     "text": [
      "The following columns in the evaluation set  don't have a corresponding argument in `BertForSequenceClassification.forward` and have been ignored: document, id.\n",
      "***** Running Evaluation *****\n",
      "  Num examples = 50000\n",
      "  Batch size = 16\n"
     ]
    },
    {
     "name": "stdout",
     "output_type": "stream",
     "text": [
      "(50000, 2) [[-2.5082097  2.152934 ]\n",
      " [-0.5489909  0.7099125]\n",
      " [ 2.22715   -1.8535935]\n",
      " ...\n",
      " [ 1.5711461 -1.330814 ]\n",
      " [ 3.6092668 -3.712472 ]\n",
      " [ 1.7195505 -1.3894619]]\n",
      "(50000,) [1 1 0 ... 0 0 0]\n"
     ]
    },
    {
     "name": "stderr",
     "output_type": "stream",
     "text": [
      "The following columns in the evaluation set  don't have a corresponding argument in `BertForSequenceClassification.forward` and have been ignored: document, id.\n",
      "***** Running Evaluation *****\n",
      "  Num examples = 50000\n",
      "  Batch size = 16\n"
     ]
    },
    {
     "name": "stdout",
     "output_type": "stream",
     "text": [
      "(50000, 2) [[-2.529553   2.1647398]\n",
      " [-0.6180814  0.7670954]\n",
      " [ 2.1922235 -1.8318595]\n",
      " ...\n",
      " [ 1.403389  -1.2060845]\n",
      " [ 3.5913277 -3.7064939]\n",
      " [ 1.6548955 -1.3392224]]\n",
      "(50000,) [1 1 0 ... 0 0 0]\n"
     ]
    },
    {
     "name": "stderr",
     "output_type": "stream",
     "text": [
      "Saving model checkpoint to /aiffel/aiffel/hugging_face_transformers/output/checkpoint-18750\n",
      "Configuration saved in /aiffel/aiffel/hugging_face_transformers/output/checkpoint-18750/config.json\n",
      "Model weights saved in /aiffel/aiffel/hugging_face_transformers/output/checkpoint-18750/pytorch_model.bin\n",
      "tokenizer config file saved in /aiffel/aiffel/hugging_face_transformers/output/checkpoint-18750/tokenizer_config.json\n",
      "Special tokens file saved in /aiffel/aiffel/hugging_face_transformers/output/checkpoint-18750/special_tokens_map.json\n",
      "\n",
      "\n",
      "Training completed. Do not forget to share your model on huggingface.co/models =)\n",
      "\n",
      "\n"
     ]
    },
    {
     "data": {
      "text/plain": [
       "TrainOutput(global_step=18750, training_loss=0.23081083089192708, metrics={'train_runtime': 11170.5074, 'train_samples_per_second': 26.856, 'train_steps_per_second': 1.679, 'total_flos': 9733020604318080.0, 'train_loss': 0.23081083089192708, 'epoch': 2.0})"
      ]
     },
     "execution_count": 13,
     "metadata": {},
     "output_type": "execute_result"
    }
   ],
   "source": [
    "trainer.train()\n"
   ]
  },
  {
   "cell_type": "markdown",
   "id": "2675eb26",
   "metadata": {},
   "source": [
    "#### test data로 재 검증  \n",
    "val_accuracy: 0.90642,"
   ]
  },
  {
   "cell_type": "code",
   "execution_count": 14,
   "id": "101fb661",
   "metadata": {},
   "outputs": [
    {
     "name": "stderr",
     "output_type": "stream",
     "text": [
      "The following columns in the evaluation set  don't have a corresponding argument in `BertForSequenceClassification.forward` and have been ignored: document, id.\n",
      "***** Running Evaluation *****\n",
      "  Num examples = 50000\n",
      "  Batch size = 16\n"
     ]
    },
    {
     "data": {
      "text/html": [
       "\n",
       "    <div>\n",
       "      \n",
       "      <progress value='3125' max='3125' style='width:300px; height:20px; vertical-align: middle;'></progress>\n",
       "      [3125/3125 03:14]\n",
       "    </div>\n",
       "    "
      ],
      "text/plain": [
       "<IPython.core.display.HTML object>"
      ]
     },
     "metadata": {},
     "output_type": "display_data"
    },
    {
     "name": "stdout",
     "output_type": "stream",
     "text": [
      "(50000, 2) [[-2.5089517   2.1433675 ]\n",
      " [-0.60722286  0.75815517]\n",
      " [ 2.175207   -1.8145106 ]\n",
      " ...\n",
      " [ 1.4132807  -1.2146034 ]\n",
      " [ 3.58602    -3.7030985 ]\n",
      " [ 1.6401826  -1.3278886 ]]\n",
      "(50000,) [1 1 0 ... 0 0 0]\n"
     ]
    },
    {
     "data": {
      "text/plain": [
       "{'eval_loss': 0.2844095528125763,\n",
       " 'eval_accuracy': 0.90642,\n",
       " 'eval_runtime': 195.0048,\n",
       " 'eval_samples_per_second': 256.404,\n",
       " 'eval_steps_per_second': 16.025,\n",
       " 'epoch': 2.0}"
      ]
     },
     "execution_count": 14,
     "metadata": {},
     "output_type": "execute_result"
    }
   ],
   "source": [
    "trainer.evaluate(encoded_dataset['test'])\n"
   ]
  },
  {
   "cell_type": "markdown",
   "id": "bea576c2",
   "metadata": {},
   "source": [
    "#### trainer 최종 저장\n",
    "* 저장경로: /aiffel/aiffel/hugging_face_transformers/output\n",
    "* 저장내용: config.json,pytorch_model.bin,tokenizer_config.json,special_tokens_map.json"
   ]
  },
  {
   "cell_type": "code",
   "execution_count": 15,
   "id": "88d3613f",
   "metadata": {},
   "outputs": [
    {
     "name": "stderr",
     "output_type": "stream",
     "text": [
      "Saving model checkpoint to /aiffel/aiffel/hugging_face_transformers/output\n",
      "Configuration saved in /aiffel/aiffel/hugging_face_transformers/output/config.json\n",
      "Model weights saved in /aiffel/aiffel/hugging_face_transformers/output/pytorch_model.bin\n",
      "tokenizer config file saved in /aiffel/aiffel/hugging_face_transformers/output/tokenizer_config.json\n",
      "Special tokens file saved in /aiffel/aiffel/hugging_face_transformers/output/special_tokens_map.json\n"
     ]
    }
   ],
   "source": [
    "#save\n",
    "trainer.save_model()\n"
   ]
  },
  {
   "attachments": {
    "image-3.png": {
     "image/png": "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"
    },
    "image-4.png": {
     "image/png": "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"
    }
   },
   "cell_type": "markdown",
   "id": "39b3d602",
   "metadata": {},
   "source": [
    "#### 동적패딩(버케팅)않쓰고 학습시의 소요시간 및 Accuracy \n",
    "동적패딩없이 학습하면 시간이 현재 2시간44분 걸렸는데 chd 18750step중 10000step 진행중(1 epoch 상태)이고, 아직도 2시간24분이 남아서 총 5시간8분 넘게 소요되는 관계로 이 시점에서 캡쳐한 이미지로 ,동일하게 10000 step 까지로만 비교해 보겠습니다.\n",
    "\n",
    "비교해본 결과, 동적패딩없이 학습하면, 역시 padding연산에 시간이 많이 소요되어 동일한 데이터개수및 동일한 하이퍼파라메터인데도,\n",
    "동적padding없이 하는 경우가 1.7배 정도 더 소요되었습니다.\n",
    "\n",
    "10000스텝에서, 동적패딩 없는 경우 valid _accuracy는  0.90178로서, 위에서 본 것 같이 동적패딩 있는 경우 0.903420 과 별차이없이  비슷한 것으로 나타났습니다.\n",
    "\n",
    "**이 프로젝트와 여기서 사용된 하이퍼파람등 만으로서는, 동적패딩을 하는 것이 더 유리하다는 판단**입니다. \n",
    "\n",
    "**하기 이미지는 다른 노트북 파일에서 동적패딩없이 학습중 10000 스텝 학습시점에서 캡춰한 이미지**입니다. \n",
    "캡춰가 한장으로 않되어 두장으로 나누어서 해서, 연결해보니 표가 그림상 맞춰지지 않았지만 양해바랍니다.\n",
    "![image-3.png](attachment:image-3.png)\n",
    "![image-4.png](attachment:image-4.png)\n"
   ]
  },
  {
   "cell_type": "markdown",
   "id": "4f2e6a7c",
   "metadata": {},
   "source": [
    "## 회고\n"
   ]
  },
  {
   "cell_type": "markdown",
   "id": "b8735afc",
   "metadata": {},
   "source": [
    "본 프로젝트는 Hugging Face 의 transformers를 사용하여, klue/bert_base model을 통해, NSMC 데이터를 Positive, Negative 감성분석을 실행해 보면서,Hugging Face 사용방법을 익혀보는 프로젝트입니다.\n",
    "   \n",
    "LMS교재상의 다른 모든 프로젝트처럼 작업플로우 가이드가 있어야하는데,이번은 갑자기 OKR을 통해서 간단한 작업지시서 형식으로 프로젝트를 하라고 해서, Hugging face도 아직 배우는 초입의 상태에서, klue도 무엇인지 처음인 상태로, klue 내용을 파악하고도,이 프로젝트의 task가 무엇인지(klue의 8가지 task중 sentiment analysis는 없고,nsmc데이터를 사용하는 nli로 시도해보며 여러 오류를 겪으며),무엇을 주제로 하라는 것인지 처음에 여러가지 혼선을 주었습니다.\n",
    "\n",
    "데이터를 nsmc github 에서 다운받아서 해보면 허깅페이스의 모델 입력형식에 안맞고, tfds를 통해 하려니 tfds에는 nsmc 자체가 없고,\n",
    "hugging face 내의 데이터셑을 통해서 인자내에 klue표시 없이, nsmc만으로 다운로드해서야 데이터를 losd 할수있었습니다.\n",
    "\n",
    "Auto tokenizer와 Auto Model을 통해 klue/bert_base 모델을 로드해서, 토크나이징하고서, train arguments 설정후 trainer를 생성하여\n",
    "학습을 시키면 계속적으로 Cuda OOM에러가 나서, 계속 커널을 shut down 반복하면서, 시도해 봤는데, 마찬가지라서, \n",
    "padding을 동적패딩(버케팅)으로 바꾸면서, 학습이 정상적으로 진행되었습니다.\n",
    "\n",
    "버케팅은 전체 데이터를 대상으로 batch단위로 묶을때, 비슷한 길이끼리 묶어주어서, batch내에서 최대길이와 비교해서 padding을 하므로, 0을 주어서 padding처리하는 개수를 최소화하는 padding 효율화방법입니다.\n",
    "\n",
    "동적패딩(버케팅)은 전체 데이터를 대상으로 batch단위로 묶을때, batch별로 최대길이를 기준으로,batch내에서 최대길이와 비교해서 padding을 하므로, 0을 주어서 padding처리하는 개수를 최소화하는 padding 효율화방법입니다.
    "\n", 
    "버케팅은 Hugging face에 메소드가 없는 것으로 알고 있고, 동적padding은 DataCollatorWithPadding메소드를 통해서, 구현할수 있습니다.\n"
    "\n",
    "여기서는 버케팅을 구현할 메소드가 없어서, 용어는 혼용해서 썼습니다."
    "\n",
    "Cuda OOM에러가 반복되었던 이유가 동적패딩없이 padding 방법을 max_lenth로 하면서(또한,병행해서 batchsize와 lr을 늘려보면서), Bert max_lenth 512개중 대부분이 padding되고, 이것이 150,000개의 train data의 연산에 부하를 주었던 것이 아닌가 추정해 봅니다.\n",
    "\n",
    "학습이 정상적으로 되는 것을 확인한후, shutdown하고서, 다시 시작하여 OKR 1번을 시행했습니다. OKR 1번의 pre_weight없이 모델이 정상작동하나 보라는 의미는, Auto Model을 최초 로드시 일부 가중치들이 initialize될때, task차이로 정상적 initialized되지 않았다는 경고메세지처럼, 온전하지 않은 pre_weight라서, 그 상태로 evaluate명령을 수행해보라는 것으로 해석을 했고, 그것으로 test data를 통해 작동실험을 했는데, accuracy는 저조했지만, 모델은 정상작동되었습니다. test data를 사용했지만,가중치를 동결시키고 하는 evaluate라서, 가중치 업데이트는 없어 선행학습은 아닙니다. \n",
    "\n",
    "학습을 진행하였는데, \n",
    "2~3시간 정도되는 학습시간을 줄이려 batch size도 256개를 넘기면 Cuda OOM 에러가 반복되고, 64개,128개는 accuracy가 저조했습니다.\n",
    "그래서, batch size와 lr은  LMS 교재에 있던 대로 해서, 3시간6분 소요되고,  2 epoch 만에 val_accuracy가 90%를 넘겼습니다.  \n",
    "\n",
    "동적패딩으로 학습을 완료후, 동적패딩을 쓸때와 않쓸때의 tradeoff를 보려면 또 많은 소용시간이 필요하지만, 비교해 보고 싶어서,\n",
    "tokenizer의 padding 방법을 'longest'로 바꾸어서 동적패딩(버케팅)없이 진행해봤습니다.\n",
    "\n",
    "동적패딩없이 학습하면 시간이 현재 2시간44분 걸렸는데 chd 18750step중 10000step 진행중(1 epoch 상태)이고, 아직도 2시간24분이 남아서 총 5시간8분 넘게 소요되는 관계로 이 시점에서 캡쳐한 이미지로 ,동일하게 10000 step 까지로만 비교해 보겠습니다.\n",
    "\n",
    "비교해본 결과, 동적패딩없이 학습하면, 역시 padding연산에 시간이 많이 소요되어 동일한 데이터개수및 동일한 하이퍼파라메터인데도, 동적padding없이 하는 경우가 1.7배 정도 더 소요되었습니다.\n",
    "\n",
    "동적패딩 없는 경우 valid _accuracy는 0.90178로서, 동적패딩 있는 경우 0.903420 과 별차이없이 비슷한 것으로 나타났습니다.\n",
    "\n",
    "\n",
    "작업진행중 같은 조의 오유림님이 알려주신 [위키독스의 허깅페이스 Transformers 강좌자료](https://wikidocs.net/166802)이 동적패딩메소드및 개념공부에 많은 도움이 되었습니다.\n",
    "\n",
    "여러 혼선은 있었지만 앞으로 많은 부분에서 빈번히 사용하게될 Hugging Face를 배울수 있는 유익한 기회였습니다.\n",
    "\n"
   ]
  },
  {
   "cell_type": "code",
   "execution_count": null,
   "id": "a12fa5e7",
   "metadata": {},
   "outputs": [],
   "source": []
  }
 ],
 "metadata": {
  "kernelspec": {
   "display_name": "Python 3 (ipykernel)",
   "language": "python",
   "name": "python3"
  },
  "language_info": {
   "codemirror_mode": {
    "name": "ipython",
    "version": 3
   },
   "file_extension": ".py",
   "mimetype": "text/x-python",
   "name": "python",
   "nbconvert_exporter": "python",
   "pygments_lexer": "ipython3",
   "version": "3.9.7"
  }
 },
 "nbformat": 4,
 "nbformat_minor": 5
}
