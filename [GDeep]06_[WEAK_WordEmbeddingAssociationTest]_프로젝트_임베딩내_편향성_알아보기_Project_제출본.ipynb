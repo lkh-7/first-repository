{
 "cells": [
  {
   "cell_type": "markdown",
   "id": "c65ce11e",
   "metadata": {},
   "source": [
    "## 6-8. 프로젝트 : 모든 장르 간 편향성 측정해 보기\n",
    "지금까지 우리는 영화 시놉시스 코퍼스를 가지고 영화 구분과 영화 장르 간에 내재된 편향성을 측정하는 작업을 진행해 보았습니다. 어느 정도는 우리의 상식과 일치하는 편향성이 측정되었을 것입니다.\n",
    "\n",
    "이번에는 모든 장르에 대해 영화 구분과의 편향성 정도를 측정해 보겠습니다. 대부분의 과정은 이전 스텝에서 이미 진행한 내용을 참고해서 동일하게 진행 가능할 것입니다.\n",
    "\n",
    "#### 라이브러리 버전을 확인해 봅니다\n",
    "사용할 라이브러리 버전을 둘러봅시다."
   ]
  },
  {
   "cell_type": "code",
   "execution_count": 1,
   "id": "377d4399",
   "metadata": {},
   "outputs": [
    {
     "name": "stdout",
     "output_type": "stream",
     "text": [
      "0.5.2\n",
      "4.1.2\n",
      "1.0\n",
      "0.11.2\n"
     ]
    }
   ],
   "source": [
    "import konlpy\n",
    "import gensim\n",
    "import sklearn\n",
    "import seaborn\n",
    "\n",
    "print(konlpy.__version__)\n",
    "print(gensim.__version__)\n",
    "print(sklearn.__version__)\n",
    "print(seaborn.__version__)"
   ]
  },
  {
   "cell_type": "markdown",
   "id": "af2889af",
   "metadata": {},
   "source": [
    "#### STEP 1. 형태소 분석기를 이용하여 품사가 명사인 경우 해당 단어를 추출하기"
   ]
  },
  {
   "cell_type": "markdown",
   "id": "e25daa0f",
   "metadata": {},
   "source": [
    "**(1) 데이터 로드**"
   ]
  },
  {
   "cell_type": "code",
   "execution_count": 2,
   "id": "cc8f7c0d",
   "metadata": {},
   "outputs": [
    {
     "name": "stdout",
     "output_type": "stream",
     "text": [
      "사운드 엔지니어 상우(유지태 분)는 치매에 걸린 할머니(백성희 분)와\n",
      " 젊은 시절 상처한 한 아버지(박인환 분), 고모(신신애 분)와 함께 살고 있다.\n",
      " 어느 겨울 그는 지방 방송국 라디오 PD 은수(이영애 분)를 만난다.\n",
      " 자연의 소리를 채집해 틀어주는 라디오 프로그램을 준비하는 은수는 상우와 녹음 여행을 떠난다.\n",
      " 자연스레 가까워지는 두 사람은 어느 날, 은수의 아파트에서 밤을 보낸다.\n",
      " 너무 쉽게 사랑에 빠진 두 사람... 상우는 주체할 수 없을 정도로 그녀에게 빨려든다.\n",
      " 그러나 겨울에 만난 두 사람의 관계는 봄을 지나 여름을 맞이하면서 삐걱거린다.\n",
      " 이혼 경험이 있는 은수는 상우에게 결혼할 생각이 없다며 부담스러운 표정을 내비친다.\n",
      " \"어떻게 사랑이 변하니?...\"라고 묻는 상우에게 은수는 그저 \"헤어져\" 라고 단호하게 말한다.\n",
      " 영원히 변할 것 같지 않던 사랑이 변하고, 그 사실을 받아들이지 못하는 상우는 어찌 할 바를 모른다.\n",
      " 은수를 잊지 못하는 상우는 미련과 집착의 감정을 이기지 못하고 서울과 강릉을 오간다.\n",
      "유사 이래 연령, 성별, 빈부의 차이와 정치적인 입장을 불문하고 일거에 국민을 통합해 온 '애국심'이라는 성역에 일침을 가하는 다큐멘터리. 재작년 전국 민족민주 유가족협의회의 장기농성을 다룬 인상적인 다큐멘터리 <민들레>를 만들었던 독립영화집단 '빨간 눈사람'이 우리 사회 구석구석을 발빠르게 돌아다니며 애국심과 민족주의가 강요되는 현장을 발굴하여 카메라에 담았다. 박홍 서강대 명예총장, 이도형 '한국논단' 발행인, 축구해설자 신문선, 홍세화, 박노해 등 사회 각계의 '스타'들이 등장해 저마다의 확고한 신념을 성토한다. 감독 이경순과 최하동하는 이 작품을 위해 3년간 백여 명을 인터뷰했다고 한다. 2001 올해의 독립영화상 수상.\n",
      " 민족과 국가란 공동체에서 부단히 권력과 부를 얻는 자, 나아가 민족과 국가란 공동체에서 얻은 신분과 부귀를 영원히 그의 자손에게 대물림하려는 자, 그래서 민족과 국가란 공동체를 부단히 유지해야만 하는 자, 따라서 민족과 국가란 공동체의 당위성과 개인의 가치를 초월하는 그 존엄성을 끝도 없이 창조하고 되뇌어야 하는 자, 종국에는 민족과 국가란 공동체에 속해 있다고 태내에서부터 세뇌된 모든 이들의 삶과 행동에서 영원히 자기복제되는 순환의 고리, 영생하는 애국의 원동력은 그 순환의 골에서 온다.\n",
      "엽기적인 살인사건이 발생한 장소를 관광하는 투어팀. 그 팀에서 관광객들은 살인사건과 관련하여 히스테리컬한 반응을 보이는데 과연 이들의 정체는? (Tourists see whrer a murder take place. They respond hysterically to the murder…what are they?)\n",
      " 제46회 발라돌리드 국제영화제 (2001, 스페인)\n",
      "착하지만 엉뚱한 태희(배두나 분), 예쁜 깍쟁이 혜주(이요원 분), 그림을 잘 그리는 지영(옥지영 분), 명랑한 쌍둥이 비류(이은실 분)와 온조(이은주 분)는 단짝친구들. 늘 함께였던 그들이지만 스무 살이 되면서 길이 달라진다. 증권회사에 입사한 혜주는 성공한 커리어우먼의 야심을 키우고 미술에 재능이 있는 지영은 유학을 꿈꾼다. 한편 태희는 봉사활동에서 알게 된 뇌성마비 시인을 좋아하는데...\n",
      "  어느 날 지영이 길 잃은 새끼 고양이 티티를 만남면서 스무 살 그녀들의 삶에 고양이 한 마리가 끼어들게 된다. 혼자 있길 좋아하고, 쉽게 마음을 열지 않는 신비로운 동물 고양이. 고양이를 닮은 스무 살 그녀들. 고양이 티티와 함께 한 시간동안 삶은 예상못한 방향으로 흘러가지만 마침내 그녀들만의 해결책을 찾게 되는데... 사랑스런 몽상가 태희, 아름다운 야심가 혜주, 신비로운 아웃사이더 지영. 마지막으로 고양이를 부탁받은 사람은 누구일까?\n",
      "인도 등 아시아 식민지에 처음 발을 디딘 뒤 여행하고 “경영”한 이들은 과연 누구였을까? 과거의 이미지들은, 이민과 인종 문제, ‘오리엔탈리즘’이 격렬히 충돌하고 있는 현재와 강력하게 공명한다.\n",
      " [제19회 인디다큐페스티발]\n",
      "홀로 살아가는 미국 할머니와 한국 할머니의 이야기. 공원에서 가끔 마주치게 되는 그들은 비록 언어 소통의 어려움을 겪지만 시간이 흘러감에 따라 서로 가까워져 그들의 외로움과 우정을 공유하게 된다. 겨울이 지나고 봄이 왔을 때 길가의 민들레 홀씨는 삶의 이치를 말해주듯 한 할머니의 주위를 맴돈다. (Two elderly widows, an American and a Korean, frequent the same park in Philadelphia and attempt a friendship, though the Korean widow speaks no English. Driven by loneliness and a spark of hope, they persevere within the limits of body language, and the outcome poses a question of life as fundamental as a flower.)\n"
     ]
    }
   ],
   "source": [
    "import os\n",
    "\n",
    "with open(os.getenv('HOME')+'/aiffel/weat/synopsis.txt', 'r') as file:\n",
    "    for i in range(20):\n",
    "        print(file.readline(), end='')"
   ]
  },
  {
   "cell_type": "markdown",
   "id": "d5711524",
   "metadata": {},
   "source": [
    "**(2) 형태소 분석 및  명사만 추출**"
   ]
  },
  {
   "cell_type": "code",
   "execution_count": 3,
   "id": "f0616ab6",
   "metadata": {},
   "outputs": [
    {
     "name": "stdout",
     "output_type": "stream",
     "text": [
      "슝~\n"
     ]
    }
   ],
   "source": [
    "# 약 15분정도 걸립니다.\n",
    "from konlpy.tag import Okt\n",
    "okt = Okt()\n",
    "tokenized = []\n",
    "with open(os.getenv('HOME')+'/aiffel/weat/synopsis.txt', 'r') as file:\n",
    "    while True:\n",
    "        line = file.readline()\n",
    "        if not line: break\n",
    "        words = okt.pos(line, stem=True, norm=True)\n",
    "        res = []\n",
    "        for w in words:\n",
    "            if w[1] in [\"Noun\"]:      # \"Adjective\", \"Verb\" 등을 포함할 수도 있습니다.\n",
    "                res.append(w[0])    # 명사일 때만 tokenized 에 저장하게 됩니다. \n",
    "        tokenized.append(res)\n",
    "\n",
    "print(\"슝~\")"
   ]
  },
  {
   "cell_type": "code",
   "execution_count": 4,
   "id": "b58a099b",
   "metadata": {},
   "outputs": [
    {
     "name": "stdout",
     "output_type": "stream",
     "text": [
      "71156\n",
      "[['사운드', '엔지니어', '상우', '유지태', '분', '치매', '할머니', '백성희', '분'], ['시절', '상처', '아버지', '박인환', '분', '고모', '신신애', '분', '살'], ['겨울', '그', '지방', '방송국', '라디오', '은수', '이영애', '분', '를'], ['자연', '소리', '채집', '라디오', '프로그램', '준비', '은수', '상우', '녹음', '여행'], ['두', '사람', '날', '은수', '아파트', '밤']]\n"
     ]
    }
   ],
   "source": [
    "print(len(tokenized))\n",
    "print(tokenized[:5])"
   ]
  },
  {
   "cell_type": "markdown",
   "id": "d4f04214",
   "metadata": {},
   "source": [
    "#### STEP 2. 추출된 결과로 embedding model 만들기"
   ]
  },
  {
   "cell_type": "markdown",
   "id": "95830e35",
   "metadata": {},
   "source": [
    "**(1) tokenized에 담긴 데이터로 word2vec embedding model 생성**\n"
   ]
  },
  {
   "cell_type": "markdown",
   "id": "c0c2e4f6",
   "metadata": {},
   "source": [
    "**[참고]**\n",
    "* Word2Vec model은 문자 Sentence를 단어 토큰화해서, 정수 인덱싱없이 Sentence 상태로 입력함    \n",
    "   - model = Word2Vec(sentences=common_texts, vector_size=100, window=5, min_count=1, workers=4)     \n",
    "* Word2Vec model은 보통은 별도로 train() 메소드없이 학습되는데, 학습하다중간에 저장했을 경우,다시 load하여,train시킬때, model.train(Sentence, total_examples=1, epochs=1)와 같이 학습시킴, 보통은 train 메소드없이 학습이 되는 것으로 보임\n",
    "\n",
    "* pre_trained(사전학습)된 모델을 불러오려면, KeyedVectors.load_word2vec_format(model_dir, binary=True, limit=500000)으로 함\n",
    "\n",
    "\n"
   ]
  },
  {
   "cell_type": "code",
   "execution_count": 5,
   "id": "a9c661ea",
   "metadata": {},
   "outputs": [
    {
     "data": {
      "text/plain": [
       "[('작품', 0.8790116906166077),\n",
       " ('다큐멘터리', 0.829826831817627),\n",
       " ('드라마', 0.8221210241317749),\n",
       " ('형식', 0.7861706614494324),\n",
       " ('영화로', 0.784394383430481),\n",
       " ('주제', 0.7733771204948425),\n",
       " ('코미디', 0.7713078260421753),\n",
       " ('감동', 0.7686890959739685),\n",
       " ('버자이너', 0.7481526136398315),\n",
       " ('설정', 0.7462124824523926)]"
      ]
     },
     "execution_count": 5,
     "metadata": {},
     "output_type": "execute_result"
    }
   ],
   "source": [
    "from gensim.models import Word2Vec\n",
    "\n",
    "# tokenized에 담긴 데이터를 가지고 나만의 Word2Vec을 생성합니다. (Gensim 4.0 기준)\n",
    "model = Word2Vec(tokenized, vector_size=100, window=5, min_count=3, sg=0)  \n",
    "model.wv.most_similar(positive=['영화'])\n",
    "\n",
    "# Gensim 3.X 에서는 아래와 같이 생성합니다. \n",
    "# model = Word2Vec(tokenized, size=100, window=5, min_count=3, sg=0)  \n",
    "# model.most_similar(positive=['영화'])"
   ]
  },
  {
   "cell_type": "code",
   "execution_count": 6,
   "id": "db5a7af3",
   "metadata": {},
   "outputs": [
    {
     "name": "stdout",
     "output_type": "stream",
     "text": [
      "24320\n",
      "100\n",
      "(24320, 100)\n"
     ]
    }
   ],
   "source": [
    "#print(dir(model.wv))\n",
    "#print(model.wv.vocab)\n",
    "print(len(model.wv.index_to_key))   # Gensim 4.0부터는 index_to_key를 활용해 vocab size를 알 수 있습니다. \n",
    "print(len(model.wv['영화']))                    # 혹은 단어를 key로 직접 vector를 얻을 수 있습니다. \n",
    "print(model.wv.vectors.shape)"
   ]
  },
  {
   "cell_type": "code",
   "execution_count": 7,
   "id": "f437b3ad",
   "metadata": {},
   "outputs": [
    {
     "data": {
      "text/plain": [
       "[('아르튬', 0.7157703042030334),\n",
       " ('애정', 0.7130234241485596),\n",
       " ('행복', 0.7019501328468323),\n",
       " ('첫사랑', 0.6940522789955139),\n",
       " ('연애관', 0.6881079077720642),\n",
       " ('이별', 0.6794293522834778),\n",
       " ('진심', 0.6789792776107788),\n",
       " ('만남', 0.6786412000656128),\n",
       " ('연애', 0.6668484807014465),\n",
       " ('용기', 0.6647398471832275)]"
      ]
     },
     "execution_count": 7,
     "metadata": {},
     "output_type": "execute_result"
    }
   ],
   "source": [
    "model.wv.most_similar(positive=['사랑'])"
   ]
  },
  {
   "cell_type": "code",
   "execution_count": 8,
   "id": "912f703f",
   "metadata": {},
   "outputs": [
    {
     "data": {
      "text/plain": [
       "[('영화감독', 0.9146103262901306),\n",
       " ('시나리오', 0.8748674988746643),\n",
       " ('오페라', 0.87274569272995),\n",
       " ('예술가', 0.8712066411972046),\n",
       " ('캐스팅', 0.8698539733886719),\n",
       " ('영감', 0.8689728379249573),\n",
       " ('배우', 0.8676545023918152),\n",
       " ('데뷔', 0.8626595139503479),\n",
       " ('예술', 0.862272322177887),\n",
       " ('각색', 0.8620381951332092)]"
      ]
     },
     "execution_count": 8,
     "metadata": {},
     "output_type": "execute_result"
    }
   ],
   "source": [
    "model.wv.most_similar(positive=['연극'])"
   ]
  },
  {
   "cell_type": "code",
   "execution_count": null,
   "id": "707b3cb8",
   "metadata": {},
   "outputs": [],
   "source": []
  },
  {
   "cell_type": "markdown",
   "id": "6143d6b5",
   "metadata": {},
   "source": [
    "**(2) TF-IDF로 단어 셋만들기**"
   ]
  },
  {
   "cell_type": "code",
   "execution_count": 9,
   "id": "6813a402",
   "metadata": {},
   "outputs": [],
   "source": [
    "import os\n",
    "from sklearn.feature_extraction.text import TfidfVectorizer\n",
    "import numpy as np\n",
    "from konlpy.tag import Okt\n",
    "\n",
    "art_txt = 'synopsis_art.txt'\n",
    "gen_txt = 'synopsis_gen.txt'\n",
    "\n",
    "def read_token(file_name):\n",
    "    okt = Okt()\n",
    "    result = []\n",
    "    with open(os.getenv('HOME')+'/aiffel/weat/'+file_name, 'r') as fread: \n",
    "        print(file_name, '파일을 읽고 있습니다.')\n",
    "        while True:\n",
    "            line = fread.readline() \n",
    "            if not line: break \n",
    "            tokenlist = okt.pos(line, stem=True, norm=True) \n",
    "            for word in tokenlist:\n",
    "                if word[1] in [\"Noun\"]:#, \"Adjective\", \"Verb\"]:\n",
    "                    result.append((word[0])) \n",
    "    return ' '.join(result)\n"
   ]
  },
  {
   "cell_type": "code",
   "execution_count": 10,
   "id": "c6d5f814",
   "metadata": {},
   "outputs": [
    {
     "name": "stdout",
     "output_type": "stream",
     "text": [
      "synopsis_art.txt 파일을 읽고 있습니다.\n",
      "synopsis_gen.txt 파일을 읽고 있습니다.\n"
     ]
    }
   ],
   "source": [
    "# 2개의 파일을 처리하는데 10분 가량 걸립니다. \n",
    "art = read_token(art_txt)\n",
    "gen = read_token(gen_txt)"
   ]
  },
  {
   "cell_type": "code",
   "execution_count": 11,
   "id": "b0349c94",
   "metadata": {},
   "outputs": [
    {
     "name": "stdout",
     "output_type": "stream",
     "text": [
      "(2, 41082)\n"
     ]
    }
   ],
   "source": [
    "vectorizer = TfidfVectorizer()\n",
    "X = vectorizer.fit_transform([art, gen])\n",
    "\n",
    "print(X.shape)"
   ]
  },
  {
   "cell_type": "code",
   "execution_count": 12,
   "id": "580cf3f1",
   "metadata": {},
   "outputs": [
    {
     "name": "stdout",
     "output_type": "stream",
     "text": [
      "  (0, 1)\t0.0003626867654624366\n",
      "  (0, 3)\t0.0003626867654624366\n",
      "  (0, 4)\t0.016683591211272084\n",
      "  (1, 2)\t5.3486686185153744e-05\n",
      "  (1, 0)\t0.001497627213184305\n",
      "  (1, 1)\t7.611243548713899e-05\n",
      "  (1, 3)\t0.00034250595969212547\n",
      "  (1, 4)\t0.019941458097630416 (1, 41082)\n",
      "dense [[0.         0.00036269 0.         ... 0.         0.00025487 0.        ]] 1\n",
      "tocco col [24288 30456 11824 ... 16979 23276 16393] data [0.00018134 0.00018134 0.00025487 ... 0.00398955 0.00072537 0.00253881] 18995 18995\n",
      "23976\n",
      "영화\n"
     ]
    },
    {
     "name": "stderr",
     "output_type": "stream",
     "text": [
      "/opt/conda/lib/python3.9/site-packages/sklearn/utils/deprecation.py:87: FutureWarning: Function get_feature_names is deprecated; get_feature_names is deprecated in 1.0 and will be removed in 1.2. Please use get_feature_names_out instead.\n",
      "  warnings.warn(msg, category=FutureWarning)\n"
     ]
    }
   ],
   "source": [
    "print(X[:,:5],X[0].shape)\n",
    "print(\"dense\",X[0].todense()[:5],len(X[0].todense()[0]))\n",
    "print(\"tocco\",\"col\",X[0].tocoo().col,\"data\",X[0].tocoo().data, len(X[0].tocoo().col),len(X[0].tocoo().data))\n",
    "#print(\"model.wv\",[x for x in model.wv])\n",
    "print(vectorizer.vocabulary_['영화'])\n",
    "print(vectorizer.get_feature_names()[23976])"
   ]
  },
  {
   "cell_type": "code",
   "execution_count": 13,
   "id": "d530526c",
   "metadata": {},
   "outputs": [
    {
     "name": "stdout",
     "output_type": "stream",
     "text": [
      "18995 37717\n",
      "예술영화를 대표하는 단어들:\n",
      "그녀, 자신, 시작, 위해, 사랑, 사람, 영화, 친구, 남자, 가족, 이야기, 마을, 사건, 마음, 세상, 아버지, 아이, 엄마, 모든, 여자, 대한, 서로, 과연, 다시, 시간, 아들, 소녀, 아내, 다른, 사이, 영화제, 세계, 사실, 하나, 점점, 남편, 감독, 여행, 인생, 발견, 모두, 순간, 우리, 가장, 마지막, 생활, 아빠, 모습, 통해, 죽음, 기억, 비밀, 학교, 음악, 한편, 소년, 생각, 도시, 명의, 사고, 결혼, 전쟁, 때문, 위기, 이제, 최고, 이자, 과거, 일상, 경찰, 상황, 간다, 미국, 결심, 운명, 현실, 관계, 지금, 단편, 여인, 하루, 이름, 이후, 준비, 인간, 감정, 만난, 국제, 처음, 충격, 살인, 누구, 동안, 존재, 그린, 어머니, 연인, 계속, 동생, 작품, \n",
      "\n",
      "일반영화를 대표하는 단어들:\n",
      "자신, 그녀, 영화제, 위해, 사람, 시작, 국제, 영화, 친구, 사랑, 남자, 이야기, 대한, 서울, 여자, 사건, 남편, 아이, 가족, 아버지, 다른, 마을, 시간, 엄마, 아들, 모든, 단편, 마음, 사실, 다시, 세계, 모습, 작품, 통해, 생각, 서로, 세상, 발견, 감독, 아내, 관계, 소녀, 사이, 하나, 우리, 애니메이션, 때문, 여성, 죽음, 과연, 점점, 인간, 생활, 한편, 결혼, 상황, 모두, 기억, 명의, 소년, 여행, 가장, 간다, 순간, 이제, 도시, 비밀, 학교, 과거, 가지, 이자, 경찰, 마지막, 미국, 동안, 전쟁, 주인공, 대해, 존재, 현실, 연출, 사고, 살인, 일상, 어머니, 계속, 사회, 인생, 다큐멘터리, 부문, 섹스, 최고, 바로, 동생, 의도, 하루, 위기, 계획, 정체, 한국, "
     ]
    }
   ],
   "source": [
    "m1 = X[0].tocoo()   # art를 TF-IDF로 표현한 sparse matrix를 가져옵니다. \n",
    "m2 = X[1].tocoo()   # gen을 TF-IDF로 표현한 sparse matrix를 가져옵니다. \n",
    "\n",
    "w1 = [[i, j] for i, j in zip(m1.col, m1.data)] # col: 단어인덱스  18955개, data: tfidf 값 18955개\n",
    "w2 = [[i, j] for i, j in zip(m2.col, m2.data)]\n",
    "\n",
    "w1.sort(key=lambda x: x[1], reverse=True)   #art를 구성하는 단어들을 TF-IDF가 높은 순으로 정렬합니다. \n",
    "w2.sort(key=lambda x: x[1], reverse=True)   #gen을 구성하는 단어들을 TF-IDF가 높은 순으로 정렬합니다. \n",
    "print(len(w1), len(w2))\n",
    "\n",
    "art_word100= []\n",
    "gen_word100= []\n",
    "print('예술영화를 대표하는 단어들:')\n",
    "for i in range(100):\n",
    "    artword = vectorizer.get_feature_names()[w1[i][0]]    \n",
    "    print(artword, end=', ')\n",
    "    art_word100.append(artword)\n",
    "#print(\"art_word100\", art_word100)       \n",
    "print('\\n')\n",
    "    \n",
    "print('일반영화를 대표하는 단어들:')\n",
    "for i in range(100):\n",
    "    genword = vectorizer.get_feature_names()[w2[i][0]]    \n",
    "    print(genword, end=', ')\n",
    "    gen_word100.append(genword   )\n",
    "#print(\"gen_word100\", gen_word100) \n"
   ]
  },
  {
   "cell_type": "markdown",
   "id": "a54e975e",
   "metadata": {},
   "source": [
    "**(3) 중복단어 제거후 대표성있는 단어 15개 선정**"
   ]
  },
  {
   "cell_type": "code",
   "execution_count": 14,
   "id": "2b8bdcdb",
   "metadata": {},
   "outputs": [
    {
     "name": "stdout",
     "output_type": "stream",
     "text": [
      "16 16\n",
      "art, gen 양쪽 중복인 단어비율 84.0\n",
      "15개씩 추출: 15 15\n"
     ]
    }
   ],
   "source": [
    "n = 15\n",
    "w1_, w2_ = [], []\n",
    "for i in range(100):\n",
    "    w1_.append(vectorizer.get_feature_names()[w1[i][0]])\n",
    "    w2_.append(vectorizer.get_feature_names()[w2[i][0]])\n",
    "\n",
    "# w1에만 있고 w2에는 없는, 예술영화를 잘 대표하는 단어를 있는대로 모두 추출한다.\n",
    "target_art, target_gen = [], []\n",
    "for i in range(100):\n",
    "    if (w1_[i] not in w2_) and (w1_[i] in model.wv): \n",
    "        target_art.append(w1_[i])\n",
    "    \n",
    "# w2에만 있고 w1에는 없는, 일반영화를 잘 대표하는 단어를 1는대로 모두추출한다.\n",
    "for i in range(100):\n",
    "    if (w2_[i] not in w1_) and (w2_[i] in model.wv): \n",
    "        target_gen.append(w2_[i])\n",
    "        \n",
    "#중복 단어수 산정 \n",
    "print(len(target_art), len(target_gen))  \n",
    "same_word_num1 = 100 - len(target_art)\n",
    "same_word_num2 = 100 - len(target_gen)\n",
    "print(\"art, gen 양쪽 중복인 단어비율\",(same_word_num1/100)*100 )\n",
    "\n",
    "# w1,w2 둘다 15개씩 추출 \n",
    "target_art =target_art[:15]\n",
    "target_gen =target_gen[:15]\n",
    "print(\"15개씩 추출:\", len(target_art), len(target_gen))  \n",
    "\n"
   ]
  },
  {
   "cell_type": "code",
   "execution_count": 15,
   "id": "9c891414",
   "metadata": {},
   "outputs": [
    {
     "name": "stdout",
     "output_type": "stream",
     "text": [
      "['아빠', '음악', '결심', '운명', '지금', '여인', '이름', '이후', '준비', '감정', '만난', '처음', '충격', '누구', '그린']\n"
     ]
    }
   ],
   "source": [
    "print(target_art)"
   ]
  },
  {
   "cell_type": "code",
   "execution_count": 16,
   "id": "dbab0181",
   "metadata": {},
   "outputs": [
    {
     "name": "stdout",
     "output_type": "stream",
     "text": [
      "['서울', '애니메이션', '여성', '가지', '주인공', '대해', '연출', '사회', '다큐멘터리', '부문', '섹스', '바로', '의도', '계획', '정체']\n"
     ]
    }
   ],
   "source": [
    "print(target_gen)"
   ]
  },
  {
   "cell_type": "code",
   "execution_count": null,
   "id": "b2909eb5",
   "metadata": {},
   "outputs": [],
   "source": []
  },
  {
   "cell_type": "markdown",
   "id": "fa542867",
   "metadata": {},
   "source": [
    "#### STEP 3. target, attribute 단어 셋 만들기\n",
    "이전 스텝에서는 TF-IDF를 사용해서 단어 셋을 만들었습니다. 이 방법으로도 어느 정도는 대표 단어를 잘 선정할 수 있습니다. 그러나 TF-IDF가 높은 단어를 골랐음에도 불구하고 중복되는 단어가 발생하는 문제가 있었습니다. 개념축을 표현하는 단어가 제대로 선정되지 않은 것은 WEAT 계산 결과에 악영향을 미칩니다.\n",
    "\n",
    "TF-IDF를 적용했을 때의 문제점이 무엇인지 지적 가능하다면 그 문제점을 지적하고 스스로 방법을 개선하여 대표 단어 셋을 구축해 보기 바랍니다. TF-IDF 방식을 쓰더라도 중복된 단어를 잘 제거하면 여전히 유용한 방식이 될 수 있습니다.\n",
    "\n",
    "**[문제점]** \n",
    "* art, gen에서 중복비율이 84%인데, 남은 16개중 15개를 대표단어로 추출하면, 대표단어라고 해도 되는가 의문임,    \n",
    "* 실제로  Target 대표단어로 로 추출된 15개를 보면, art와 gen을 특징지우는 단어들이 별로 않보임    \n",
    "\n",
    "**[개선책]**\n",
    "* 중복 단어체크시 샘플을 현 100개에서 1000개로 늘려서 중복제거후 남은 개수가 150개이상일때 상위 15개를 추출해 보려함   \n",
    "* 중복 단어제거는 TF-IDF를 1000개 단어에 적용한후 중복단어 제거후 남는 단어들에서 15개씩 추출해서, WEAT score 산정해봄\n",
    "\n",
    "**[TF-IDF 사용상의 문제점 및 개선방안 작업분은 보조 제출자료로 첨부함-깃허브 링크]:** \n",
    "결과가 뚜렷하게 개선되지는 않았슴\n",
    "\n",
    "https://github.com/lkh-7/first-repository/blob/master/%5BGDeep%5D06_%5BWEAK_WordEmbeddingAssociationTest%5D_%ED%94%84%EB%A1%9C%EC%A0%9D%ED%8A%B8_%EC%9E%84%EB%B2%A0%EB%94%A9%EB%82%B4_%ED%8E%B8%ED%96%A5%EC%84%B1_%EC%95%8C%EC%95%84%EB%B3%B4%EA%B8%B0_Project_TF-IDF%EB%A1%9C%EC%A4%91%EB%B3%B5%EC%A0%9C%EA%B1%B0%EB%B2%84%EC%A0%84.ipynb"
   ]
  },
  {
   "cell_type": "markdown",
   "id": "b97943bd",
   "metadata": {},
   "source": [
    "**(1) 전체 장르별 대표 단어를 추출**"
   ]
  },
  {
   "cell_type": "code",
   "execution_count": 17,
   "id": "ab9a1a1e",
   "metadata": {},
   "outputs": [],
   "source": [
    "genre_txt = ['synopsis_SF.txt', 'synopsis_family.txt', 'synopsis_show.txt', 'synopsis_horror.txt', 'synopsis_etc.txt', \n",
    "             'synopsis_documentary.txt', 'synopsis_drama.txt', 'synopsis_romance.txt', 'synopsis_musical.txt', \n",
    "             'synopsis_mystery.txt', 'synopsis_crime.txt', 'synopsis_historical.txt', 'synopsis_western.txt', \n",
    "             'synopsis_adult.txt', 'synopsis_thriller.txt', 'synopsis_animation.txt', 'synopsis_action.txt', \n",
    "             'synopsis_adventure.txt', 'synopsis_war.txt', 'synopsis_comedy.txt', 'synopsis_fantasy.txt']\n",
    "genre_name = ['SF', '가족', '공연', '공포(호러)', '기타', '다큐멘터리', '드라마', '멜로로맨스', '뮤지컬', '미스터리', '범죄', '사극', '서부극(웨스턴)',\n",
    "         '성인물(에로)', '스릴러', '애니메이션', '액션', '어드벤처', '전쟁', '코미디', '판타지']"
   ]
  },
  {
   "cell_type": "code",
   "execution_count": 18,
   "id": "023dd769",
   "metadata": {},
   "outputs": [
    {
     "name": "stdout",
     "output_type": "stream",
     "text": [
      "synopsis_SF.txt 파일을 읽고 있습니다.\n",
      "synopsis_family.txt 파일을 읽고 있습니다.\n",
      "synopsis_show.txt 파일을 읽고 있습니다.\n",
      "synopsis_horror.txt 파일을 읽고 있습니다.\n",
      "synopsis_etc.txt 파일을 읽고 있습니다.\n",
      "synopsis_documentary.txt 파일을 읽고 있습니다.\n",
      "synopsis_drama.txt 파일을 읽고 있습니다.\n",
      "synopsis_romance.txt 파일을 읽고 있습니다.\n",
      "synopsis_musical.txt 파일을 읽고 있습니다.\n",
      "synopsis_mystery.txt 파일을 읽고 있습니다.\n",
      "synopsis_crime.txt 파일을 읽고 있습니다.\n",
      "synopsis_historical.txt 파일을 읽고 있습니다.\n",
      "synopsis_western.txt 파일을 읽고 있습니다.\n",
      "synopsis_adult.txt 파일을 읽고 있습니다.\n",
      "synopsis_thriller.txt 파일을 읽고 있습니다.\n",
      "synopsis_animation.txt 파일을 읽고 있습니다.\n",
      "synopsis_action.txt 파일을 읽고 있습니다.\n",
      "synopsis_adventure.txt 파일을 읽고 있습니다.\n",
      "synopsis_war.txt 파일을 읽고 있습니다.\n",
      "synopsis_comedy.txt 파일을 읽고 있습니다.\n",
      "synopsis_fantasy.txt 파일을 읽고 있습니다.\n"
     ]
    }
   ],
   "source": [
    "# 약 10분정도 걸립니다.\n",
    "genre = []\n",
    "for file_name in genre_txt:\n",
    "    genre.append(read_token(file_name))"
   ]
  },
  {
   "cell_type": "code",
   "execution_count": 19,
   "id": "c3623cf1",
   "metadata": {},
   "outputs": [
    {
     "name": "stdout",
     "output_type": "stream",
     "text": [
      "(21, 42191)\n"
     ]
    }
   ],
   "source": [
    "vectorizer = TfidfVectorizer()\n",
    "X = vectorizer.fit_transform(genre)\n",
    "\n",
    "print(X.shape)"
   ]
  },
  {
   "cell_type": "code",
   "execution_count": 20,
   "id": "8dfb53b9",
   "metadata": {},
   "outputs": [
    {
     "name": "stdout",
     "output_type": "stream",
     "text": [
      "SF: 위해, 자신, 지구, 시작, 사람, 인류, 인간, 미래, 우주, 그녀, 로봇, 세계, 모든, 박사, 우주선, \n",
      "가족: 엄마, 아빠, 가족, 영화제, 자신, 위해, 친구, 아주르, 아버지, 시작, 그녀, 아들, 마을, 국제, 낙타, \n",
      "공연: 오페라, 사랑, 토스카, 실황, 올레, 자신, 카바, 그녀, 공연, 오텔로, 리골레토, 백작, 프레, 베르디, 위해, \n",
      "공포(호러): 시작, 위해, 사람, 자신, 친구, 그녀, 사건, 공포, 발견, 죽음, 마을, 가족, 악령, 남자, 좀비, \n",
      "기타: 영화제, 국제, 서울, 단편, 영화, 자신, 사람, 이야기, 그녀, 남자, 위해, 시작, 사랑, 뉴미디어, 페스티벌, \n",
      "다큐멘터리: 영화제, 영화, 다큐, 국제, 다큐멘터리, 사람, 이야기, 대한, 자신, 감독, 위해, 서울, 우리, 시작, 세계, \n",
      "드라마: 자신, 영화제, 그녀, 사람, 사랑, 영화, 위해, 시작, 국제, 남자, 친구, 이야기, 엄마, 여자, 아버지, \n",
      "멜로로맨스: 그녀, 사랑, 자신, 시작, 남편, 남자, 여자, 사람, 친구, 섹스, 위해, 마음, 결혼, 서로, 아내, \n",
      "뮤지컬: 뮤지컬, 사랑, 에스메랄다, 그녀, 음악, 충무로, 모차르트, 영화, 토스카, 자신, 니웨, 카바, 영화제, 바흐, 페뷔스, \n",
      "미스터리: 사건, 그녀, 시작, 자신, 위해, 사람, 발견, 사고, 진실, 죽음, 기억, 살인, 친구, 아내, 남자, \n",
      "범죄: 사건, 위해, 자신, 경찰, 시작, 그녀, 범죄, 조직, 살인, 사람, 마약, 형사, 남자, 모든, 살해, \n",
      "사극: 조선, 위해, 시작, 신기전, 사랑, 자신, 아가멤논, 황제, 그녀, 루안, 최고, 운명, 사람, 하선, 전쟁, \n",
      "서부극(웨스턴): 서부, 보안관, 위해, 벌린, 카우보이, 그레이프바인, 헨리, 마을, 자신, 개릿, 아이, 시작, 무법자, 프린트, 마적, \n",
      "성인물(에로): 그녀, 남편, 마사지, 자신, 섹스, 관계, 영화, 정사, 남자, 위해, 시작, 여자, 유부녀, 마음, 사랑, \n",
      "스릴러: 자신, 그녀, 사건, 시작, 위해, 사람, 살인, 남자, 발견, 아내, 경찰, 친구, 모든, 사실, 살해, \n",
      "애니메이션: 애니메이션, 국제, 영화제, 친구, 인디애니페스트, 위해, 자신, 시작, 사람, 페스티벌, 서울, 이야기, 아이, 마을, 소녀, \n",
      "액션: 위해, 자신, 시작, 조직, 사건, 사람, 그녀, 경찰, 전쟁, 모든, 목숨, 사실, 친구, 가족, 요원, \n",
      "어드벤처: 위해, 자신, 시작, 친구, 마을, 아버지, 영화, 아이, 사람, 여행, 세계, 앤트, 세상, 가족, 모험, \n",
      "전쟁: 전쟁, 독일군, 전투, 위해, 작전, 시작, 부대, 윈터스, 독일, 연합군, 미군, 임무, 자신, 사람, 나치, \n",
      "코미디: 그녀, 자신, 시작, 위해, 사랑, 사람, 친구, 영화, 남자, 여자, 영화제, 가족, 과연, 마을, 사건, \n",
      "판타지: 자신, 그녀, 시작, 위해, 사람, 사랑, 요괴, 영화제, 이야기, 영화, 소녀, 남자, 인간, 세상, 마을, \n"
     ]
    }
   ],
   "source": [
    "m = [X[i].tocoo() for i in range(X.shape[0])]\n",
    "\n",
    "w = [[[i, j] for i, j in zip(mm.col, mm.data)] for mm in m]\n",
    "\n",
    "for i in range(len(w)):\n",
    "    w[i].sort(key=lambda x: x[1], reverse=True)\n",
    "attributes = []\n",
    "for i in range(len(w)):\n",
    "    print(genre_name[i], end=': ')\n",
    "    attr = []\n",
    "    j = 0\n",
    "    while (len(attr) < 15):\n",
    "        if vectorizer.get_feature_names()[w[i][j][0]] in model.wv:\n",
    "            attr.append(vectorizer.get_feature_names()[w[i][j][0]])\n",
    "            print(vectorizer.get_feature_names()[w[i][j][0]], end=', ')\n",
    "        j += 1\n",
    "    attributes.append(attr)\n",
    "    print()"
   ]
  },
  {
   "cell_type": "code",
   "execution_count": null,
   "id": "6c565a93",
   "metadata": {},
   "outputs": [],
   "source": []
  },
  {
   "cell_type": "code",
   "execution_count": null,
   "id": "3d7b6738",
   "metadata": {},
   "outputs": [],
   "source": []
  },
  {
   "cell_type": "markdown",
   "id": "721dea95",
   "metadata": {},
   "source": [
    "#### STEP 4. WEAT score 계산과 시각화\n",
    "영화 구분, 영화 장르에 따른 편향성을 측정하여 WEAT score로 계산해 보고 이를 Heatmap 형태로 시각화해 봅시다. 편향성이 두드러지는 영화장르 attribute 구성에는 어떤 케이스가 있는지 시각적으로 두드러지게 구성되면 좋습니다."
   ]
  },
  {
   "cell_type": "code",
   "execution_count": 21,
   "id": "64ef937f",
   "metadata": {},
   "outputs": [],
   "source": [
    "import numpy as np\n",
    "from numpy import dot\n",
    "from numpy.linalg import norm\n"
   ]
  },
  {
   "cell_type": "code",
   "execution_count": 28,
   "id": "7f3a3899",
   "metadata": {},
   "outputs": [],
   "source": [
    "def cos_sim(i, j):\n",
    "    return dot(i, j.T)/(norm(i)*norm(j))\n",
    "\n",
    "def s(w, A, B):\n",
    "    c_a = cos_sim(w, A)\n",
    "    c_b = cos_sim(w, B)\n",
    "    #print(\"c_a\",c_a)\n",
    "    #print(\"c_b\",c_b)\n",
    "    \n",
    "    mean_A = np.mean(c_a, axis=1) #-1)\n",
    "    mean_B = np.mean(c_b, axis=1) #-1)\n",
    "    \n",
    "    #print(\"mean_A\", mean_A)\n",
    "    #print(\"mean_B\", mean_B)\n",
    "    \n",
    "    return mean_A - mean_B #, c_a, c_b\n",
    "\n",
    "def weat_score(X, Y, A, B):\n",
    "    \n",
    "    s_X = s(X, A, B)\n",
    "    s_Y = s(Y, A, B)\n",
    "\n",
    "    mean_X = np.mean(s_X)\n",
    "    mean_Y = np.mean(s_Y)\n",
    "    \n",
    "    std_dev = np.std(np.concatenate([s_X, s_Y], axis=0))\n",
    "    \n",
    "    return  (mean_X-mean_Y)/std_dev\n",
    "\n"
   ]
  },
  {
   "cell_type": "code",
   "execution_count": 29,
   "id": "5f73dc39",
   "metadata": {},
   "outputs": [
    {
     "name": "stdout",
     "output_type": "stream",
     "text": [
      "21\n"
     ]
    }
   ],
   "source": [
    "matrix = [[0 for _ in range(len(genre_name))] for _ in range(len(genre_name))]\n",
    "print(len(matrix))"
   ]
  },
  {
   "cell_type": "code",
   "execution_count": 30,
   "id": "f6c49cc8",
   "metadata": {},
   "outputs": [
    {
     "name": "stdout",
     "output_type": "stream",
     "text": [
      "matrix [[0, -0.5878229, -0.39832565, -0.6995834, 0.30822197, 0.559226, -0.4165228, -0.784543, 0.32689294, -0.70658344, -0.24481167, -0.83329105, -0.47954622, -0.58069384, -0.5361364, 0.31253925, -0.46807835, -0.8365174, 0.171826, -0.47770628, -0.22437005], [0, 0, 0.26120058, -0.11561951, 0.77539974, 0.8514795, 0.26622817, -0.56825423, 0.7440831, -0.2758336, 0.2545077, -0.0040912554, 0.49023873, -0.28000763, -0.095128104, 0.88464266, 0.16461803, 0.074404135, 0.67211413, 0.26382935, 0.48526514], [0, 0, 0, -0.25582194, 0.91213024, 0.9099638, -0.03773208, -0.68801934, 0.89223105, -0.36904347, 0.07928739, -0.3725355, 0.025521182, -0.47814536, -0.22031952, 0.8730416, -0.029906753, -0.20211163, 0.5691484, -0.016634466, 0.3109825], [0, 0, 0, 0, 0.63263273, 0.73877776, 0.29731023, -0.5978188, 0.6219301, -0.5879728, 0.6684454, 0.13430369, 0.41778776, -0.22381148, 0.00076801155, 0.6448595, 0.5656146, 0.19869438, 0.6447507, 0.44946134, 0.5385629], [0, 0, 0, 0, 0, 0.5701746, -0.8870086, -0.87610686, 0.06744612, -0.65643394, -0.361554, -0.8222294, -0.61081576, -0.7984997, -0.5488482, -0.096208274, -0.459687, -0.7855749, -0.21302544, -0.7128993, -0.6559772], [0, 0, 0, 0, 0, 0, -0.9126163, -0.8820182, -0.67307687, -0.7455373, -0.4840648, -0.9026135, -0.72201204, -0.8168678, -0.63920325, -0.5450713, -0.58889264, -0.9419753, -0.4265553, -0.80731326, -0.8736791], [0, 0, 0, 0, 0, 0, 0, -0.8101551, 0.840622, -0.42042065, 0.09874243, -0.30879727, 0.053133488, -0.5661964, -0.23484516, 0.8641434, -0.014445578, -0.23451097, 0.46176198, 0.024689075, 0.54908544], [0, 0, 0, 0, 0, 0, 0, 0, 0.8530807, 0.4190718, 0.83758634, 0.63324744, 0.72910947, 0.7755243, 0.6371711, 0.8531933, 0.72778314, 0.586015, 0.7782336, 0.8867519, 0.8164977], [0, 0, 0, 0, 0, 0, 0, 0, 0, -0.6494809, -0.35901147, -0.8126128, -0.58683753, -0.7811773, -0.5411004, -0.11258435, -0.45897913, -0.7859254, -0.21873434, -0.686963, -0.66047186], [0, 0, 0, 0, 0, 0, 0, 0, 0, 0, 1.0357403, 0.3099503, 0.5188564, -0.035229847, 0.7683615, 0.6591897, 0.8205154, 0.34391293, 0.67634755, 0.5595847, 0.58639103], [0, 0, 0, 0, 0, 0, 0, 0, 0, 0, 0, -0.3042155, -0.096091405, -0.5069253, -0.98164654, 0.35484487, -0.37024358, -0.22106181, 0.34934953, -0.11885388, 0.0895933], [0, 0, 0, 0, 0, 0, 0, 0, 0, 0, 0, 0, 0.40288743, -0.33144578, -0.10282207, 0.81825954, 0.20151797, 0.09076117, 0.84707737, 0.42545813, 0.6544637], [0, 0, 0, 0, 0, 0, 0, 0, 0, 0, 0, 0, 0, -0.4417396, -0.32877526, 0.6696805, -0.073808454, -0.3243881, 0.6702681, -0.049445752, 0.25827113], [0, 0, 0, 0, 0, 0, 0, 0, 0, 0, 0, 0, 0, 0, 0.2246956, 0.74149936, 0.39414534, 0.31455976, 0.5989809, 0.5886182, 0.6290811], [0, 0, 0, 0, 0, 0, 0, 0, 0, 0, 0, 0, 0, 0, 0, 0.5506077, 0.5373197, 0.13624202, 0.56761044, 0.31363636, 0.39776206], [0, 0, 0, 0, 0, 0, 0, 0, 0, 0, 0, 0, 0, 0, 0, 0, -0.46735942, -0.85881925, -0.20494351, -0.70348203, -0.63932836], [0, 0, 0, 0, 0, 0, 0, 0, 0, 0, 0, 0, 0, 0, 0, 0, 0, -0.12972729, 0.527409, 0.02934805, 0.22490062], [0, 0, 0, 0, 0, 0, 0, 0, 0, 0, 0, 0, 0, 0, 0, 0, 0, 0, 0.66593164, 0.2978532, 0.7608955], [0, 0, 0, 0, 0, 0, 0, 0, 0, 0, 0, 0, 0, 0, 0, 0, 0, 0, 0, -0.4966326, -0.26687348], [0, 0, 0, 0, 0, 0, 0, 0, 0, 0, 0, 0, 0, 0, 0, 0, 0, 0, 0, 0, 0.5135996], [0, 0, 0, 0, 0, 0, 0, 0, 0, 0, 0, 0, 0, 0, 0, 0, 0, 0, 0, 0, 0]]\n"
     ]
    }
   ],
   "source": [
    "X = np.array([model.wv[word] for word in target_art])\n",
    "Y = np.array([model.wv[word] for word in target_gen])\n",
    "\n",
    "for i in range(len(genre_name)-1):\n",
    "    for j in range(i+1, len(genre_name)):\n",
    "        A = np.array([model.wv[word] for word in attributes[i]])\n",
    "        B = np.array([model.wv[word] for word in attributes[j]])\n",
    "        matrix[i][j] = weat_score(X, Y, A, B)\n",
    "\n",
    "print(\"matrix\", matrix)"
   ]
  },
  {
   "cell_type": "code",
   "execution_count": 31,
   "id": "cce7275f",
   "metadata": {
    "scrolled": false
   },
   "outputs": [
    {
     "name": "stdout",
     "output_type": "stream",
     "text": [
      "SF 가족 -0.5878229\n",
      "SF 공연 -0.39832565\n",
      "SF 공포(호러) -0.6995834\n",
      "SF 기타 0.30822197\n",
      "SF 다큐멘터리 0.559226\n",
      "SF 드라마 -0.4165228\n",
      "SF 멜로로맨스 -0.784543\n",
      "SF 뮤지컬 0.32689294\n",
      "SF 미스터리 -0.70658344\n",
      "SF 범죄 -0.24481167\n",
      "SF 사극 -0.83329105\n",
      "SF 서부극(웨스턴) -0.47954622\n",
      "SF 성인물(에로) -0.58069384\n",
      "SF 스릴러 -0.5361364\n",
      "SF 애니메이션 0.31253925\n",
      "SF 액션 -0.46807835\n",
      "SF 어드벤처 -0.8365174\n",
      "SF 전쟁 0.171826\n",
      "SF 코미디 -0.47770628\n",
      "SF 판타지 -0.22437005\n",
      "가족 공연 0.26120058\n",
      "가족 공포(호러) -0.11561951\n",
      "가족 기타 0.77539974\n",
      "가족 다큐멘터리 0.8514795\n",
      "가족 드라마 0.26622817\n",
      "가족 멜로로맨스 -0.56825423\n",
      "가족 뮤지컬 0.7440831\n",
      "가족 미스터리 -0.2758336\n",
      "가족 범죄 0.2545077\n",
      "가족 사극 -0.0040912554\n",
      "가족 서부극(웨스턴) 0.49023873\n",
      "가족 성인물(에로) -0.28000763\n",
      "가족 스릴러 -0.095128104\n",
      "가족 애니메이션 0.88464266\n",
      "가족 액션 0.16461803\n",
      "가족 어드벤처 0.074404135\n",
      "가족 전쟁 0.67211413\n",
      "가족 코미디 0.26382935\n",
      "가족 판타지 0.48526514\n",
      "공연 공포(호러) -0.25582194\n",
      "공연 기타 0.91213024\n",
      "공연 다큐멘터리 0.9099638\n",
      "공연 드라마 -0.03773208\n",
      "공연 멜로로맨스 -0.68801934\n",
      "공연 뮤지컬 0.89223105\n",
      "공연 미스터리 -0.36904347\n",
      "공연 범죄 0.07928739\n",
      "공연 사극 -0.3725355\n",
      "공연 서부극(웨스턴) 0.025521182\n",
      "공연 성인물(에로) -0.47814536\n",
      "공연 스릴러 -0.22031952\n",
      "공연 애니메이션 0.8730416\n",
      "공연 액션 -0.029906753\n",
      "공연 어드벤처 -0.20211163\n",
      "공연 전쟁 0.5691484\n",
      "공연 코미디 -0.016634466\n",
      "공연 판타지 0.3109825\n",
      "공포(호러) 기타 0.63263273\n",
      "공포(호러) 다큐멘터리 0.73877776\n",
      "공포(호러) 드라마 0.29731023\n",
      "공포(호러) 멜로로맨스 -0.5978188\n",
      "공포(호러) 뮤지컬 0.6219301\n",
      "공포(호러) 미스터리 -0.5879728\n",
      "공포(호러) 범죄 0.6684454\n",
      "공포(호러) 사극 0.13430369\n",
      "공포(호러) 서부극(웨스턴) 0.41778776\n",
      "공포(호러) 성인물(에로) -0.22381148\n",
      "공포(호러) 스릴러 0.00076801155\n",
      "공포(호러) 애니메이션 0.6448595\n",
      "공포(호러) 액션 0.5656146\n",
      "공포(호러) 어드벤처 0.19869438\n",
      "공포(호러) 전쟁 0.6447507\n",
      "공포(호러) 코미디 0.44946134\n",
      "공포(호러) 판타지 0.5385629\n",
      "기타 다큐멘터리 0.5701746\n",
      "기타 드라마 -0.8870086\n",
      "기타 멜로로맨스 -0.87610686\n",
      "기타 뮤지컬 0.06744612\n",
      "기타 미스터리 -0.65643394\n",
      "기타 범죄 -0.361554\n",
      "기타 사극 -0.8222294\n",
      "기타 서부극(웨스턴) -0.61081576\n",
      "기타 성인물(에로) -0.7984997\n",
      "기타 스릴러 -0.5488482\n",
      "기타 애니메이션 -0.096208274\n",
      "기타 액션 -0.459687\n",
      "기타 어드벤처 -0.7855749\n",
      "기타 전쟁 -0.21302544\n",
      "기타 코미디 -0.7128993\n",
      "기타 판타지 -0.6559772\n",
      "다큐멘터리 드라마 -0.9126163\n",
      "다큐멘터리 멜로로맨스 -0.8820182\n",
      "다큐멘터리 뮤지컬 -0.67307687\n",
      "다큐멘터리 미스터리 -0.7455373\n",
      "다큐멘터리 범죄 -0.4840648\n",
      "다큐멘터리 사극 -0.9026135\n",
      "다큐멘터리 서부극(웨스턴) -0.72201204\n",
      "다큐멘터리 성인물(에로) -0.8168678\n",
      "다큐멘터리 스릴러 -0.63920325\n",
      "다큐멘터리 애니메이션 -0.5450713\n",
      "다큐멘터리 액션 -0.58889264\n",
      "다큐멘터리 어드벤처 -0.9419753\n",
      "다큐멘터리 전쟁 -0.4265553\n",
      "다큐멘터리 코미디 -0.80731326\n",
      "다큐멘터리 판타지 -0.8736791\n",
      "드라마 멜로로맨스 -0.8101551\n",
      "드라마 뮤지컬 0.840622\n",
      "드라마 미스터리 -0.42042065\n",
      "드라마 범죄 0.09874243\n",
      "드라마 사극 -0.30879727\n",
      "드라마 서부극(웨스턴) 0.053133488\n",
      "드라마 성인물(에로) -0.5661964\n",
      "드라마 스릴러 -0.23484516\n",
      "드라마 애니메이션 0.8641434\n",
      "드라마 액션 -0.014445578\n",
      "드라마 어드벤처 -0.23451097\n",
      "드라마 전쟁 0.46176198\n",
      "드라마 코미디 0.024689075\n",
      "드라마 판타지 0.54908544\n",
      "멜로로맨스 뮤지컬 0.8530807\n",
      "멜로로맨스 미스터리 0.4190718\n",
      "멜로로맨스 범죄 0.83758634\n",
      "멜로로맨스 사극 0.63324744\n",
      "멜로로맨스 서부극(웨스턴) 0.72910947\n",
      "멜로로맨스 성인물(에로) 0.7755243\n",
      "멜로로맨스 스릴러 0.6371711\n",
      "멜로로맨스 애니메이션 0.8531933\n",
      "멜로로맨스 액션 0.72778314\n",
      "멜로로맨스 어드벤처 0.586015\n",
      "멜로로맨스 전쟁 0.7782336\n",
      "멜로로맨스 코미디 0.8867519\n",
      "멜로로맨스 판타지 0.8164977\n",
      "뮤지컬 미스터리 -0.6494809\n",
      "뮤지컬 범죄 -0.35901147\n",
      "뮤지컬 사극 -0.8126128\n",
      "뮤지컬 서부극(웨스턴) -0.58683753\n",
      "뮤지컬 성인물(에로) -0.7811773\n",
      "뮤지컬 스릴러 -0.5411004\n",
      "뮤지컬 애니메이션 -0.11258435\n",
      "뮤지컬 액션 -0.45897913\n",
      "뮤지컬 어드벤처 -0.7859254\n",
      "뮤지컬 전쟁 -0.21873434\n",
      "뮤지컬 코미디 -0.686963\n",
      "뮤지컬 판타지 -0.66047186\n",
      "미스터리 범죄 1.0357403\n",
      "미스터리 사극 0.3099503\n",
      "미스터리 서부극(웨스턴) 0.5188564\n",
      "미스터리 성인물(에로) -0.035229847\n",
      "미스터리 스릴러 0.7683615\n",
      "미스터리 애니메이션 0.6591897\n",
      "미스터리 액션 0.8205154\n",
      "미스터리 어드벤처 0.34391293\n",
      "미스터리 전쟁 0.67634755\n",
      "미스터리 코미디 0.5595847\n",
      "미스터리 판타지 0.58639103\n",
      "범죄 사극 -0.3042155\n",
      "범죄 서부극(웨스턴) -0.096091405\n",
      "범죄 성인물(에로) -0.5069253\n",
      "범죄 스릴러 -0.98164654\n",
      "범죄 애니메이션 0.35484487\n",
      "범죄 액션 -0.37024358\n",
      "범죄 어드벤처 -0.22106181\n",
      "범죄 전쟁 0.34934953\n",
      "범죄 코미디 -0.11885388\n",
      "범죄 판타지 0.0895933\n",
      "사극 서부극(웨스턴) 0.40288743\n",
      "사극 성인물(에로) -0.33144578\n",
      "사극 스릴러 -0.10282207\n",
      "사극 애니메이션 0.81825954\n",
      "사극 액션 0.20151797\n",
      "사극 어드벤처 0.09076117\n",
      "사극 전쟁 0.84707737\n",
      "사극 코미디 0.42545813\n",
      "사극 판타지 0.6544637\n",
      "서부극(웨스턴) 성인물(에로) -0.4417396\n",
      "서부극(웨스턴) 스릴러 -0.32877526\n",
      "서부극(웨스턴) 애니메이션 0.6696805\n",
      "서부극(웨스턴) 액션 -0.073808454\n",
      "서부극(웨스턴) 어드벤처 -0.3243881\n",
      "서부극(웨스턴) 전쟁 0.6702681\n",
      "서부극(웨스턴) 코미디 -0.049445752\n",
      "서부극(웨스턴) 판타지 0.25827113\n",
      "성인물(에로) 스릴러 0.2246956\n",
      "성인물(에로) 애니메이션 0.74149936\n",
      "성인물(에로) 액션 0.39414534\n",
      "성인물(에로) 어드벤처 0.31455976\n",
      "성인물(에로) 전쟁 0.5989809\n",
      "성인물(에로) 코미디 0.5886182\n",
      "성인물(에로) 판타지 0.6290811\n",
      "스릴러 애니메이션 0.5506077\n",
      "스릴러 액션 0.5373197\n",
      "스릴러 어드벤처 0.13624202\n",
      "스릴러 전쟁 0.56761044\n",
      "스릴러 코미디 0.31363636\n",
      "스릴러 판타지 0.39776206\n",
      "애니메이션 액션 -0.46735942\n",
      "애니메이션 어드벤처 -0.85881925\n",
      "애니메이션 전쟁 -0.20494351\n",
      "애니메이션 코미디 -0.70348203\n",
      "애니메이션 판타지 -0.63932836\n",
      "액션 어드벤처 -0.12972729\n",
      "액션 전쟁 0.527409\n",
      "액션 코미디 0.02934805\n",
      "액션 판타지 0.22490062\n",
      "어드벤처 전쟁 0.66593164\n",
      "어드벤처 코미디 0.2978532\n",
      "어드벤처 판타지 0.7608955\n",
      "전쟁 코미디 -0.4966326\n",
      "전쟁 판타지 -0.26687348\n",
      "코미디 판타지 0.5135996\n",
      "all_weat_score 210\n"
     ]
    }
   ],
   "source": [
    "# 전체 장르별 X,Y,A,B WEAT score\n",
    "all_weat_score = []\n",
    "for i in range(len(genre_name)-1):\n",
    "    for j in range(i+1, len(genre_name)):\n",
    "        print(genre_name[i], genre_name[j],matrix[i][j])\n",
    "        all_weat_score.append([genre_name[i], genre_name[j],matrix[i][j]])\n",
    "print(\"all_weat_score\",len(all_weat_score))       "
   ]
  },
  {
   "cell_type": "code",
   "execution_count": 32,
   "id": "b77162f8",
   "metadata": {},
   "outputs": [
    {
     "name": "stdout",
     "output_type": "stream",
     "text": [
      "[['미스터리', '범죄', 1.0357403], ['공연', '기타', 0.91213024], ['공연', '다큐멘터리', 0.9099638], ['공연', '뮤지컬', 0.89223105], ['멜로로맨스', '코미디', 0.8867519], ['가족', '애니메이션', 0.88464266], ['공연', '애니메이션', 0.8730416], ['드라마', '애니메이션', 0.8641434], ['SF', '사극', -0.83329105], ['SF', '어드벤처', -0.8365174], ['애니메이션', '어드벤처', -0.85881925], ['다큐멘터리', '판타지', -0.8736791], ['기타', '멜로로맨스', -0.87610686], ['다큐멘터리', '멜로로맨스', -0.8820182], ['기타', '드라마', -0.8870086], ['다큐멘터리', '사극', -0.9026135], ['다큐멘터리', '드라마', -0.9126163], ['다큐멘터리', '어드벤처', -0.9419753], ['범죄', '스릴러', -0.98164654]]\n"
     ]
    }
   ],
   "source": [
    "# WEAT score가 0.8 이상, -0.8 이하의 경우만 추출\n",
    "all_weat_score_sort = sorted(all_weat_score, key=lambda x: x[2], reverse= True)\n",
    "all_weat_score_sort_core= all_weat_score_sort[:8] + all_weat_score_sort[-11:]\n",
    "print(all_weat_score_sort_core)\n"
   ]
  },
  {
   "cell_type": "markdown",
   "id": "e0a3587f",
   "metadata": {},
   "source": [
    "**[해석]WEAT score가 0.8 이상, -0.8 이하의 경우만 해석해 보면 아래와 같습니다.**\n",
    "\n",
    "(1) 0.8 이상       \n",
    "예술영화와 일반영화, 그리고 Attribute에 나와있는 21가지 장르중 대체로 공연영화가 여러 장르에서  예술영화와 가깝고 그외 멜로로맨스,가족영화,미스터리영화가 가까운 편이며, 애니메이션 영화, 기타영화, 코미디, 범죄, 뮤지컬영화등이 일반 영화와 가까운 것으로 Weat score 상 나타났습니다.\n",
    "\n",
    "(2) -0.8이하       \n",
    "예술영화와 일반영화, 그리고 Attribute에 나와있는 21가지 장르중 대체로 다큐영화가 여러 장르에서 예술영화와 거리가 멀고, 드라마,스릴러,어드벤쳐,멜로로맨스영화등이 일반 영화와 거리가 먼 것으로 나타났습니다.\n",
    "\n",
    "(3) 검토 결론           \n",
    "\n",
    "WEAT score가 뚜럿하게 사람들이 갖는 편향을 파악하지는 못해도, 보통 이상으로는 파악하는 것으로 보입니다.\n",
    "\n"
   ]
  },
  {
   "cell_type": "code",
   "execution_count": null,
   "id": "50cd71a6",
   "metadata": {},
   "outputs": [],
   "source": []
  },
  {
   "cell_type": "code",
   "execution_count": 27,
   "id": "bf1adf3a",
   "metadata": {},
   "outputs": [
    {
     "data": {
      "text/plain": [
       "<AxesSubplot:>"
      ]
     },
     "execution_count": 27,
     "metadata": {},
     "output_type": "execute_result"
    },
    {
     "data": {
      "image/png": "[encoded data removed]",
      "text/plain": [
       "<Figure size 432x288 with 2 Axes>"
      ]
     },
     "metadata": {},
     "output_type": "display_data"
    }
   ],
   "source": [
    "import numpy as np; \n",
    "import seaborn as sns; \n",
    "import matplotlib.pyplot as plt\n",
    "\n",
    "np.random.seed(0)\n",
    "\n",
    "# 한글 지원 폰트\n",
    "sns.set(font='NanumGothic')\n",
    "\n",
    "# 마이너스 부호 \n",
    "\n",
    "plt.rcParams['axes.unicode_minus'] = False\n",
    "\n",
    "ax = sns.heatmap(matrix, xticklabels=genre_name, yticklabels=genre_name, annot=True,  cmap='RdYlGn_r')\n",
    "ax"
   ]
  },
  {
   "cell_type": "code",
   "execution_count": null,
   "id": "0d02091c",
   "metadata": {},
   "outputs": [],
   "source": []
  },
  {
   "cell_type": "markdown",
   "id": "13cdb77f",
   "metadata": {},
   "source": [
    "## 회고"
   ]
  },
  {
   "cell_type": "markdown",
   "id": "02262177",
   "metadata": {},
   "source": [
    "본 프로젝트는 영화 시놉시스 코퍼스를 가지고 영화 구분과 영화 장르 간에 내재된 편향성을 측정하는 프로젝트입니다.\n",
    "\n",
    "영화시놉시스를 Okt로 한글형태소 분석을 하고서,명사만을 추출하여, 단어토큰을 구성하고, 토큰화된 문장 전체의 크기는 71,156개였습니다.\n",
    "\n",
    "Embedding model은 word2Vec model로 하고서, 토큰화된 영화시놉시스 문장을 모델에 입력하여 학습시켰습니다.\n",
    "word2Vec model 문자 Sentence를 단어 토큰화해서, 정수 인덱싱없이 Sentence 상태로 입력할수 있어서,\n",
    "편하고 train method가 있긴하나, 별도의 경우에 사용하며, 보통은 train 메소드없이 학습되어 사용하기가 편합니다.\n",
    "\n",
    "모델은 시놉시스로 학습완료하고서, WEAT score를 구하기위한 준비로 Target 대표단어와 Attribute 대표단어를 구하기 위해서,\n",
    "'synopsis_art.txt', 'synopsis_gen.txt' 로드하여, Okt로 분석후 명사만 취해서, 단어토큰화를 하고서, Tfidf로 벡터화를 시킨후에\n",
    "예술장르와 일반 장르영화의 문장으로 중복을 제거한 이후에, vectorizer.get_feature_names() 를 이용해서, 단어화 시킨후, 100 단어씩 고른후\n",
    "중복단어를 제거하고서, 총 15개 단어를 대표단어로 추출하였습니다.\n",
    "\n",
    "다음단계로 전체 영화장르 21개를 대상으로 Okt로 장르별 단어토큰화를 한이후, Tfidf로 벡터화한후, 위에서의 과정을 거쳐, 21개 장르별로 \n",
    "15개씩의 대표단어를 추출하였습니다.\n",
    "\n",
    "추출한 단어로 weat_score(X, Y, A, B)함수를 통하여, 위에서 Target으로 선정한 예술장르와 일반장르를 X,Y로 놓고, Attribute로 삼기위해 21개 장르중 2개씩 짝을 맞추어서, A,B로 놓고서, 전체 영화장르에 대해 EWEAT score를 계산하였습니다.\n",
    "\n",
    "\n",
    "WEAT score가 0.8 이상 8개, -0.8 이하의 경우 11개 총 19개만 해석해 보면 아래와 같습니다.\n",
    "\n",
    "\n",
    "(1) 0.8 이상       \n",
    "예술영화와 일반영화, 그리고 Attribute에 나와있는 21가지 장르중 대체로 공연영화가 여러 장르에서  예술영화와 가깝고 그외 멜로로맨스,가족영화,미스터리영화가 가까운 편이며, 애니메이션 영화, 기타영화, 코미디, 범죄, 뮤지컬영화등이 일반 영화와 가까운 것으로 Weat score 상 나타났습니다.\n",
    "\n",
    "(2) -0.8이하       \n",
    "예술영화와 일반영화, 그리고 Attribute에 나와있는 21가지 장르중 대체로 다큐영화가 여러 장르에서 예술영화와 거리가 멀고, 드라마,스릴러,어드벤쳐,멜로로맨스영화등이 일반 영화와 거리가 먼 것으로 나타났습니다.\n",
    "\n",
    "(3) 검토 결론           \n",
    "\n",
    "WEAT score가 사람들이 갖는 편향을 현재의 데이터로만 보면, 뚜렷하게 파악하지는 못해도, 보통 이상으로는 파악하는 것으로 보입니다.\n",
    "\n",
    "\n",
    "#### (4)  개선사항 실행본은  아래 별도링크로 첨부 제출함   \n",
    "그리고, 본 제출본을 진행하면서, Target 의 대표단어 추출시에 교재에 나온 100개가 아니고, 1000개로 늘려서 중복단어 제거후 15개씩 추출했을때, 영화장르카테고리와 어울리는 대표단어들이 나오길래, 이것을 확장해서, 전체 장르에 적용해 보기로 했습니다.\n",
    "그래서,  이를 Attribute로 쓰는 전체 영화장르 21개를 대상으로 Tfidf한후에, 그것으로 21개장르에서 각각  1000개씩 뽑아서, 전체 21개 문장에 공통적으로 들어가는 중복단어를 제거하면, 대표단어들의 특징이 더 뚜렷해 질것을 예상하고서,전체 21개 장르 전체의 중복단어제거방법을 찾던중, for loop는 너무 시간이 많이 소요될 것 같아서, Tfidf를 다시 사용하여, 중복문장을 정리하기로 했습니다.\n",
    "이렇게 Tfidf로 중복문장을 제거한후 각문장별 평균적으로 남은 200여개들씩 중에서, 15개씩을 대표단어로 선정하였습니다.\n",
    "\n",
    "추출한 단어로 weat_score(X, Y, A, B)함수를 통하여, 위에서 Target으로 선정한 예술장르와 일반장르를 X,Y로 놓고, Attribute로 삼기위해 21개 장르중 2개씩 짝을 맞추어서, A,B로 놓고서, 전체 영화장르에 대해 EWEAT score를 계산하였는데, 결과에 뚜렷한 개선점이 않보여서,\n",
    "보조 제출본으로, 아래 링크로 제출합니다.\n",
    "\n",
    "**[TF-IDF 사용상의 문제점 및 개선방안 보조자료로 제출함- 깃허브 링크]:**  https://github.com/lkh-7/first-repository/blob/master/%5BGDeep%5D06_%5BWEAK_WordEmbeddingAssociationTest%5D_%ED%94%84%EB%A1%9C%EC%A0%9D%ED%8A%B8_%EC%9E%84%EB%B2%A0%EB%94%A9%EB%82%B4_%ED%8E%B8%ED%96%A5%EC%84%B1_%EC%95%8C%EC%95%84%EB%B3%B4%EA%B8%B0_Project_TF-IDF%EB%A1%9C%EC%A4%91%EB%B3%B5%EC%A0%9C%EA%B1%B0%EB%B2%84%EC%A0%84.ipynb\n"
   ]
  },
  {
   "cell_type": "code",
   "execution_count": null,
   "id": "7cf305f8",
   "metadata": {},
   "outputs": [],
   "source": []
  },
  {
   "cell_type": "code",
   "execution_count": null,
   "id": "9be6e93f",
   "metadata": {},
   "outputs": [],
   "source": []
  },
  {
   "cell_type": "code",
   "execution_count": null,
   "id": "29a7fc6d",
   "metadata": {},
   "outputs": [],
   "source": []
  },
  {
   "cell_type": "markdown",
   "id": "d5adedf3",
   "metadata": {},
   "source": [
    "#### 루브릭\n",
    "\n",
    "아래의 기준을 바탕으로 프로젝트를 평가합니다.\n",
    "\n",
    "평가문항\t상세기준\n",
    "\n",
    "1. 주어진 영화 코퍼스를 바탕으로 워드임베딩 모델을 정상적으로 만들었다.\n",
    "\n",
    "워드임베딩의 most_similar() 메소드 결과가 의미상 바르게 나왔다. \n",
    "\n",
    "2. 영화 구분, 장르별로 target, attribute에 대한 대표성있는 단어 셋을 생성하였다.\n",
    "\n",
    "타당한 방법론을 통해 중복이 잘 제거되고 개념축을 의미적으로 잘 대표하는 단어 셋이 만들어졌다.    \n",
    "\n",
    "3. WEAT score 계산 및 시각화를 정상적으로 진행하였다.\n",
    "\n",
    "전체 영화 장르별로 예술/일반 영화에 대한 편향성 WEAT score가 상식에 부합하는 수치로 얻어졌으며 이를 잘 시각화하였다."
   ]
  },
  {
   "cell_type": "code",
   "execution_count": null,
   "id": "58deb4f6",
   "metadata": {},
   "outputs": [],
   "source": []
  },
  {
   "cell_type": "code",
   "execution_count": null,
   "id": "cb887170",
   "metadata": {},
   "outputs": [],
   "source": []
  },
  {
   "cell_type": "code",
   "execution_count": null,
   "id": "381726fd",
   "metadata": {},
   "outputs": [],
   "source": []
  }
 ],
 "metadata": {
  "kernelspec": {
   "display_name": "Python 3 (ipykernel)",
   "language": "python",
   "name": "python3"
  },
  "language_info": {
   "codemirror_mode": {
    "name": "ipython",
    "version": 3
   },
   "file_extension": ".py",
   "mimetype": "text/x-python",
   "name": "python",
   "nbconvert_exporter": "python",
   "pygments_lexer": "ipython3",
   "version": "3.9.7"
  }
 },
 "nbformat": 4,
 "nbformat_minor": 5
}
