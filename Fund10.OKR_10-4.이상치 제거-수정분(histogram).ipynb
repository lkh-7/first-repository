{
 "cells": [
  {
   "cell_type": "markdown",
   "id": "372d65ea",
   "metadata": {},
   "source": [
    "## 이상치제거하는 나만의 근거\n",
    " \n",
    "나만의 근거라기 보다는 z-score 를 사용,\n",
    "\n",
    "z-score가 단점은 있지만 사용이 편하고 익숙함\n",
    "\n",
    "(이상치를 제거하지않으면, 다음 단계로 데이터를 정규화시킬때, Minmax scaler 사용시 데이터의 분포가 과도하게 한곳으로 쏠림) \n",
    "\n",
    "\n"
   ]
  },
  {
   "cell_type": "code",
   "execution_count": 1,
   "id": "78943177",
   "metadata": {},
   "outputs": [],
   "source": [
    "import pandas as pd\n",
    "import numpy as np"
   ]
  },
  {
   "cell_type": "code",
   "execution_count": 6,
   "id": "0347d23b",
   "metadata": {},
   "outputs": [
    {
     "name": "stdout",
     "output_type": "stream",
     "text": [
      "df.head()           기간 국가명      수출건수        수출금액      수입건수       수입금액       무역수지  기타사항\n",
      "0  2015년 01월  중국  116932.0  12083947.0  334522.0  8143271.0  3940676.0   NaN\n",
      "1  2015년 01월  미국   65888.0   5561545.0  509564.0  3625062.0  1936484.0   NaN\n",
      "2  2015년 01월  일본   54017.0   2251307.0   82480.0  3827247.0 -1575940.0   NaN\n",
      "3  2015년 02월  중국   86228.0   9927642.0  209100.0  6980874.0  2946768.0   NaN\n",
      "4  2015년 02월  미국   60225.0   5021264.0  428678.0  2998216.0  2023048.0   NaN\n",
      "df.tail()             기간 국가명      수출건수       수출금액       수입건수       수입금액       무역수지  기타사항\n",
      "194  2020년 05월  미국  126598.0  4600726.0  1157163.0  4286873.0   313853.0   NaN\n",
      "195  2020년 05월  일본  166568.0  1798128.0   133763.0  3102734.0 -1304606.0   NaN\n",
      "196  2020년 06월  중국       NaN        NaN        NaN        NaN        NaN   NaN\n",
      "197  2020년 06월  미국       NaN        NaN        NaN        NaN        NaN   NaN\n",
      "198  2020년 06월  일본       NaN        NaN        NaN        NaN        NaN   NaN\n",
      "shape (199, 8)\n"
     ]
    }
   ],
   "source": [
    "df = pd.read_csv('trade.csv')\n",
    "print(\"df.head()\",df.head())\n",
    "print(\"df.tail()\",df.tail())\n",
    "print(\"shape\",df.shape)"
   ]
  },
  {
   "cell_type": "code",
   "execution_count": 7,
   "id": "1c8b5e02",
   "metadata": {},
   "outputs": [
    {
     "data": {
      "text/plain": [
       "기간        0\n",
       "국가명       0\n",
       "수출건수      3\n",
       "수출금액      4\n",
       "수입건수      3\n",
       "수입금액      3\n",
       "무역수지      4\n",
       "기타사항    199\n",
       "dtype: int64"
      ]
     },
     "execution_count": 7,
     "metadata": {},
     "output_type": "execute_result"
    }
   ],
   "source": [
    "df.isnull().sum()"
   ]
  },
  {
   "cell_type": "code",
   "execution_count": 8,
   "id": "9fca18ab",
   "metadata": {},
   "outputs": [],
   "source": [
    "df.drop('기타사항', axis=1, inplace = True)"
   ]
  },
  {
   "cell_type": "code",
   "execution_count": 9,
   "id": "54bd1e5a",
   "metadata": {},
   "outputs": [],
   "source": [
    "df.fillna(method='ffill',inplace=True)"
   ]
  },
  {
   "cell_type": "code",
   "execution_count": 10,
   "id": "4f9f48b8",
   "metadata": {},
   "outputs": [
    {
     "data": {
      "text/plain": [
       "<bound method DataFrame.info of             기간 국가명      수출건수        수출금액       수입건수       수입금액       무역수지\n",
       "0    2015년 01월  중국  116932.0  12083947.0   334522.0  8143271.0  3940676.0\n",
       "1    2015년 01월  미국   65888.0   5561545.0   509564.0  3625062.0  1936484.0\n",
       "2    2015년 01월  일본   54017.0   2251307.0    82480.0  3827247.0 -1575940.0\n",
       "3    2015년 02월  중국   86228.0   9927642.0   209100.0  6980874.0  2946768.0\n",
       "4    2015년 02월  미국   60225.0   5021264.0   428678.0  2998216.0  2023048.0\n",
       "..         ...  ..       ...         ...        ...        ...        ...\n",
       "194  2020년 05월  미국  126598.0   4600726.0  1157163.0  4286873.0   313853.0\n",
       "195  2020년 05월  일본  166568.0   1798128.0   133763.0  3102734.0 -1304606.0\n",
       "196  2020년 06월  중국  166568.0   1798128.0   133763.0  3102734.0 -1304606.0\n",
       "197  2020년 06월  미국  166568.0   1798128.0   133763.0  3102734.0 -1304606.0\n",
       "198  2020년 06월  일본  166568.0   1798128.0   133763.0  3102734.0 -1304606.0\n",
       "\n",
       "[199 rows x 7 columns]>"
      ]
     },
     "execution_count": 10,
     "metadata": {},
     "output_type": "execute_result"
    }
   ],
   "source": [
    "df.info"
   ]
  },
  {
   "cell_type": "code",
   "execution_count": 11,
   "id": "45ebf5e5",
   "metadata": {
    "scrolled": false
   },
   "outputs": [
    {
     "data": {
      "text/html": [
       "<div>\n",
       "<style scoped>\n",
       "    .dataframe tbody tr th:only-of-type {\n",
       "        vertical-align: middle;\n",
       "    }\n",
       "\n",
       "    .dataframe tbody tr th {\n",
       "        vertical-align: top;\n",
       "    }\n",
       "\n",
       "    .dataframe thead th {\n",
       "        text-align: right;\n",
       "    }\n",
       "</style>\n",
       "<table border=\"1\" class=\"dataframe\">\n",
       "  <thead>\n",
       "    <tr style=\"text-align: right;\">\n",
       "      <th></th>\n",
       "      <th>수출건수</th>\n",
       "      <th>수출금액</th>\n",
       "      <th>수입건수</th>\n",
       "      <th>수입금액</th>\n",
       "      <th>무역수지</th>\n",
       "    </tr>\n",
       "  </thead>\n",
       "  <tbody>\n",
       "    <tr>\n",
       "      <th>count</th>\n",
       "      <td>199.000000</td>\n",
       "      <td>1.990000e+02</td>\n",
       "      <td>1.990000e+02</td>\n",
       "      <td>1.990000e+02</td>\n",
       "      <td>1.990000e+02</td>\n",
       "    </tr>\n",
       "    <tr>\n",
       "      <th>mean</th>\n",
       "      <td>118888.527638</td>\n",
       "      <td>6.529971e+06</td>\n",
       "      <td>3.803196e+05</td>\n",
       "      <td>5.543306e+06</td>\n",
       "      <td>9.636449e+05</td>\n",
       "    </tr>\n",
       "    <tr>\n",
       "      <th>std</th>\n",
       "      <td>74916.978868</td>\n",
       "      <td>3.970963e+06</td>\n",
       "      <td>3.022996e+05</td>\n",
       "      <td>2.026540e+06</td>\n",
       "      <td>2.337355e+06</td>\n",
       "    </tr>\n",
       "    <tr>\n",
       "      <th>min</th>\n",
       "      <td>48652.000000</td>\n",
       "      <td>1.696097e+06</td>\n",
       "      <td>8.087200e+04</td>\n",
       "      <td>2.998216e+06</td>\n",
       "      <td>-2.761657e+06</td>\n",
       "    </tr>\n",
       "    <tr>\n",
       "      <th>25%</th>\n",
       "      <td>73496.000000</td>\n",
       "      <td>2.430858e+06</td>\n",
       "      <td>1.486085e+05</td>\n",
       "      <td>3.935458e+06</td>\n",
       "      <td>-1.604578e+06</td>\n",
       "    </tr>\n",
       "    <tr>\n",
       "      <th>50%</th>\n",
       "      <td>86069.000000</td>\n",
       "      <td>5.932556e+06</td>\n",
       "      <td>2.790230e+05</td>\n",
       "      <td>4.703319e+06</td>\n",
       "      <td>1.296969e+06</td>\n",
       "    </tr>\n",
       "    <tr>\n",
       "      <th>75%</th>\n",
       "      <td>158741.000000</td>\n",
       "      <td>1.065558e+07</td>\n",
       "      <td>5.017450e+05</td>\n",
       "      <td>7.337596e+06</td>\n",
       "      <td>2.709528e+06</td>\n",
       "    </tr>\n",
       "    <tr>\n",
       "      <th>max</th>\n",
       "      <td>528240.000000</td>\n",
       "      <td>1.476704e+07</td>\n",
       "      <td>1.368345e+06</td>\n",
       "      <td>1.033882e+07</td>\n",
       "      <td>6.700639e+06</td>\n",
       "    </tr>\n",
       "  </tbody>\n",
       "</table>\n",
       "</div>"
      ],
      "text/plain": [
       "                수출건수          수출금액          수입건수          수입금액          무역수지\n",
       "count     199.000000  1.990000e+02  1.990000e+02  1.990000e+02  1.990000e+02\n",
       "mean   118888.527638  6.529971e+06  3.803196e+05  5.543306e+06  9.636449e+05\n",
       "std     74916.978868  3.970963e+06  3.022996e+05  2.026540e+06  2.337355e+06\n",
       "min     48652.000000  1.696097e+06  8.087200e+04  2.998216e+06 -2.761657e+06\n",
       "25%     73496.000000  2.430858e+06  1.486085e+05  3.935458e+06 -1.604578e+06\n",
       "50%     86069.000000  5.932556e+06  2.790230e+05  4.703319e+06  1.296969e+06\n",
       "75%    158741.000000  1.065558e+07  5.017450e+05  7.337596e+06  2.709528e+06\n",
       "max    528240.000000  1.476704e+07  1.368345e+06  1.033882e+07  6.700639e+06"
      ]
     },
     "execution_count": 11,
     "metadata": {},
     "output_type": "execute_result"
    }
   ],
   "source": [
    "df.describe()"
   ]
  },
  {
   "cell_type": "code",
   "execution_count": 12,
   "id": "4cd8477a",
   "metadata": {},
   "outputs": [],
   "source": [
    "# 이상티제거전 사본\n",
    "import copy\n",
    "df_before = copy.deepcopy(df)"
   ]
  },
  {
   "cell_type": "code",
   "execution_count": 13,
   "id": "47cb3f43",
   "metadata": {},
   "outputs": [
    {
     "name": "stdout",
     "output_type": "stream",
     "text": [
      "이상치 >>> z == 2 :  Int64Index([129, 132], dtype='int64')\n"
     ]
    }
   ],
   "source": [
    "# outlier함수 : z score\n",
    "def outlier(data,col,z):\n",
    "    return df[abs(df[col] - df[col].mean()) / df[col].std() > z].index\n",
    "\n",
    "otl2= outlier(df, '무역수지', 2)\n",
    "print(\"이상치 >>> z == 2 : \", otl2)"
   ]
  },
  {
   "cell_type": "code",
   "execution_count": 14,
   "id": "4c6ab870",
   "metadata": {},
   "outputs": [
    {
     "name": "stdout",
     "output_type": "stream",
     "text": [
      "이상치 >>> z == 2.5 :  Int64Index([], dtype='int64')\n"
     ]
    }
   ],
   "source": [
    "otl25= outlier(df, '무역수지', 2.5)\n",
    "print(\"이상치 >>> z == 2.5 : \", otl25)\n"
   ]
  },
  {
   "cell_type": "code",
   "execution_count": 23,
   "id": "c025f896",
   "metadata": {},
   "outputs": [
    {
     "name": "stdout",
     "output_type": "stream",
     "text": [
      "이상치 >>> z == 1.5 :  Int64Index([14, 32, 38, 158, 176, 182, 195, 196, 197, 198], dtype='int64')\n"
     ]
    }
   ],
   "source": [
    "otl15= outlier(df, '무역수지', 1.5)\n",
    "print(\"이상치 >>> z == 1.5 : \", otl15)"
   ]
  },
  {
   "cell_type": "code",
   "execution_count": 21,
   "id": "ea6b1a62",
   "metadata": {},
   "outputs": [],
   "source": [
    "df = df.drop(otl10,axis=0, inplace=False)"
   ]
  },
  {
   "cell_type": "code",
   "execution_count": 19,
   "id": "fa880c47",
   "metadata": {},
   "outputs": [
    {
     "data": {
      "text/plain": [
       "<AxesSubplot:>"
      ]
     },
     "execution_count": 19,
     "metadata": {},
     "output_type": "execute_result"
    },
    {
     "data": {
      "image/png": "[encoded data removed]",
      "text/plain": [
       "<Figure size 432x288 with 1 Axes>"
      ]
     },
     "metadata": {
      "needs_background": "light"
     },
     "output_type": "display_data"
    }
   ],
   "source": [
    "# hist 비교: 이전\n",
    "df_before['무역수지'].hist()"
   ]
  },
  {
   "cell_type": "code",
   "execution_count": 24,
   "id": "31acbb60",
   "metadata": {},
   "outputs": [
    {
     "data": {
      "text/plain": [
       "<AxesSubplot:>"
      ]
     },
     "execution_count": 24,
     "metadata": {},
     "output_type": "execute_result"
    },
    {
     "data": {
      "image/png": "[encoded data removed]",
      "text/plain": [
       "<Figure size 432x288 with 1 Axes>"
      ]
     },
     "metadata": {
      "needs_background": "light"
     },
     "output_type": "display_data"
    }
   ],
   "source": [
    "# hist 비교: 이후\n",
    "df['무역수지'].hist()"
   ]
  },
  {
   "cell_type": "code",
   "execution_count": 27,
   "id": "51b13aa0",
   "metadata": {},
   "outputs": [
    {
     "name": "stdout",
     "output_type": "stream",
     "text": [
      "data[col] 1     1936484.0\n",
      "3     2946768.0\n",
      "4     2023048.0\n",
      "7     2739490.0\n",
      "10    2362628.0\n",
      "Name: 무역수지, dtype: float64\n",
      "931891.0 2512757.0\n",
      "IQR 1580866.0\n",
      "이상치 >>>   Int64Index([14, 32, 38, 158, 176, 182, 195, 196, 197, 198], dtype='int64')\n"
     ]
    }
   ],
   "source": [
    "# outlier함수 : IQR\n",
    "\n",
    "def outlier_iqr(data, col, q):\n",
    "    print(f\"data[col]\",data[col].head())\n",
    "    q1, q3 = np.percentile(data[col],[25,75])\n",
    "    print(q1,q3)\n",
    "    IQR = q3 -q1\n",
    "    print(\"IQR\",IQR)\n",
    "    return data[(q1 - q*IQR > data[col]) | (q3 + q*IQR < data[col])].index\n",
    "\n",
    "otlq05= outlier_iqr(df, '무역수지', 0.5)\n",
    "print(\"이상치 >>>  \", otlq05)"
   ]
  },
  {
   "cell_type": "code",
   "execution_count": 34,
   "id": "5225abb9",
   "metadata": {},
   "outputs": [],
   "source": [
    "df_iqr = copy.deepcopy(df_before)\n",
    "df_iqr = df_iqr.drop(otlq05, axis=0, inplace = False)"
   ]
  },
  {
   "cell_type": "code",
   "execution_count": 36,
   "id": "179166fd",
   "metadata": {},
   "outputs": [
    {
     "data": {
      "text/plain": [
       "<AxesSubplot:>"
      ]
     },
     "execution_count": 36,
     "metadata": {},
     "output_type": "execute_result"
    },
    {
     "data": {
      "image/png": "[encoded data removed]",
      "text/plain": [
       "<Figure size 432x288 with 1 Axes>"
      ]
     },
     "metadata": {
      "needs_background": "light"
     },
     "output_type": "display_data"
    }
   ],
   "source": [
    "# hist 비교: 이전\n",
    "df_before['무역수지'].hist()"
   ]
  },
  {
   "cell_type": "code",
   "execution_count": 35,
   "id": "c6697c62",
   "metadata": {},
   "outputs": [
    {
     "data": {
      "text/plain": [
       "<AxesSubplot:>"
      ]
     },
     "execution_count": 35,
     "metadata": {},
     "output_type": "execute_result"
    },
    {
     "data": {
      "image/png": "[encoded data removed]",
      "text/plain": [
       "<Figure size 432x288 with 1 Axes>"
      ]
     },
     "metadata": {
      "needs_background": "light"
     },
     "output_type": "display_data"
    }
   ],
   "source": [
    "# hist 비교: 이후\n",
    "df_iqr['무역수지'].hist()"
   ]
  },
  {
   "cell_type": "code",
   "execution_count": null,
   "id": "cf077230",
   "metadata": {},
   "outputs": [],
   "source": []
  }
 ],
 "metadata": {
  "kernelspec": {
   "display_name": "Python 3 (ipykernel)",
   "language": "python",
   "name": "python3"
  },
  "language_info": {
   "codemirror_mode": {
    "name": "ipython",
    "version": 3
   },
   "file_extension": ".py",
   "mimetype": "text/x-python",
   "name": "python",
   "nbconvert_exporter": "python",
   "pygments_lexer": "ipython3",
   "version": "3.9.7"
  }
 },
 "nbformat": 4,
 "nbformat_minor": 5
}
