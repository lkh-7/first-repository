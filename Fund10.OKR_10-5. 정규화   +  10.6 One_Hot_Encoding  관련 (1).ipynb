{
 "cells": [
  {
   "cell_type": "markdown",
   "id": "a7b3263c",
   "metadata": {},
   "source": [
    "## 10-5-1. 정규화(Normalization) 과 표준화(Standardization) 차이\n",
    "\n",
    "###  정규화:\n",
    "\n",
    "학습데이터의 속성들(columns)별로 scale(크기듀모)의 차이로 인해, scale이 큰 column 들이 적은 column보다, ㅗㅍ은 가중치가 형성되어서, 출력값에 영향력이 커지는 현상을 방지하기위해, 동일한 scale을 사용하여, 같은 잣대에서, 모든 데이터를 고르는 작업을 말하는 것\n",
    "\n",
    "### 표준화:\n",
    "표준화는 정규화의 한 방법으로서, z score를 사용해서 정규화하는 것을 말함  \n"
   ]
  },
  {
   "cell_type": "markdown",
   "id": "505a5227",
   "metadata": {},
   "source": [
    "## 10-5-2. MinMax Scaling를 train data에만 하고, test에는 않할 경우 문제점:\n",
    "\n",
    "train data 와 test data 간에 scale규모가 달라져서, 학습자체가 잘않됨, 즉 train data는 0~1 사이인데, test data는 정규화이전의 규모 큰 상태로 머물러있어서, 학습을 해도, 경사하강이 잘않될 듯 \n"
   ]
  },
  {
   "cell_type": "code",
   "execution_count": null,
   "id": "ca22d465",
   "metadata": {},
   "outputs": [],
   "source": []
  },
  {
   "cell_type": "markdown",
   "id": "91386343",
   "metadata": {},
   "source": [
    "## 10-6-1 범주형데이터와 수자형데이터 차이점 설명\n",
    "\n",
    "### 범주형 데이터: \n",
    "\n",
    "범주형 데이터는 성별, 국가명, 학교명, 지역명처럼 범주를 지정하는 문자데이터인데,\n",
    "컴퓨터에서 사용하기 위해서, 각 범주명을 수치로 대응시킬수 있음, \n",
    "그런데, 범주를 나타내는 수치는 연속성이 없고, 사직연산이 않됨.\n",
    "그런데,수치로만 직접대응시키면, 연속적인 수치데이터와 혼동가능성도 있으므로, \n",
    "이 범주형데이터를 확실히 범주형이라고 구분짓기위해서,one hot encoding 방법으로 구분지워줌\n",
    "\n",
    "### 수치형데이터:\n",
    "수치형데이터는 사칙연산이 가능하고, 연속적임\n"
   ]
  },
  {
   "cell_type": "markdown",
   "id": "a8e770a2",
   "metadata": {},
   "source": [
    "## 10-6-2 원핫인코딩 손으로 그려봄\n",
    "\n"
   ]
  },
  {
   "cell_type": "markdown",
   "id": "a733ffe6",
   "metadata": {},
   "source": [
    "## 10-6-3 원핫인코딩이 왜 필요할까, 검색및 공유"
   ]
  },
  {
   "cell_type": "markdown",
   "id": "8fea5b95",
   "metadata": {},
   "source": [
    "https://velog.io/@waternet/One-hot-Encoding-%EC%99%9C%ED%95%B4\n",
    "    \n",
    "https://blog.naver.com/PostView.naver?blogId=baek2sm&logNo=221802541443&parentCategoryNo=&categoryNo=75&viewDate=&isShowPopularPosts=false&from=postView  "
   ]
  }
 ],
 "metadata": {
  "kernelspec": {
   "display_name": "Python 3 (ipykernel)",
   "language": "python",
   "name": "python3"
  },
  "language_info": {
   "codemirror_mode": {
    "name": "ipython",
    "version": 3
   },
   "file_extension": ".py",
   "mimetype": "text/x-python",
   "name": "python",
   "nbconvert_exporter": "python",
   "pygments_lexer": "ipython3",
   "version": "3.9.7"
  }
 },
 "nbformat": 4,
 "nbformat_minor": 5
}
