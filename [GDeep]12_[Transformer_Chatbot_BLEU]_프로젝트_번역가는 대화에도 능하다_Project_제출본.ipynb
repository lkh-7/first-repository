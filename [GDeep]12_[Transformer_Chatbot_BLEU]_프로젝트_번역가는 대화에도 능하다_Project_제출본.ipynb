{
 "cells": [
  {
   "cell_type": "markdown",
   "id": "695e26e1",
   "metadata": {},
   "source": [
    "## 12-7. Project: 멋진 챗봇 만들기\n",
    "#### 라이브러리 버전을 확인해 봅니다\n",
    "사용할 라이브러리 버전을 둘러봅시다."
   ]
  },
  {
   "cell_type": "code",
   "execution_count": 1,
   "id": "6adb0a3f",
   "metadata": {},
   "outputs": [],
   "source": [
    "#!pip install --upgrade gensim==3.8.3"
   ]
  },
  {
   "cell_type": "code",
   "execution_count": 1,
   "id": "31651760",
   "metadata": {},
   "outputs": [
    {
     "name": "stdout",
     "output_type": "stream",
     "text": [
      "1.21.4\n",
      "1.3.3\n",
      "2.6.0\n",
      "3.6.5\n",
      "3.8.3\n"
     ]
    }
   ],
   "source": [
    "import numpy \n",
    "import pandas \n",
    "import tensorflow \n",
    "import nltk\n",
    "import gensim\n",
    "\n",
    "print(numpy.__version__)\n",
    "print(pandas.__version__)\n",
    "print(tensorflow.__version__)\n",
    "print(nltk.__version__)\n",
    "print(gensim.__version__)"
   ]
  },
  {
   "cell_type": "code",
   "execution_count": 2,
   "id": "1d52c713",
   "metadata": {},
   "outputs": [
    {
     "name": "stdout",
     "output_type": "stream",
     "text": [
      "2.6.0\n"
     ]
    }
   ],
   "source": [
    "import numpy as np\n",
    "import pandas as pd\n",
    "import tensorflow as tf\n",
    "import sentencepiece as spm\n",
    "from nltk.translate.bleu_score import sentence_bleu\n",
    "from nltk.translate.bleu_score import SmoothingFunction\n",
    "\n",
    "import re\n",
    "import os,copy,time\n",
    "import random\n",
    "import math\n",
    "from sklearn.model_selection import train_test_split\n",
    "from tqdm.notebook import tqdm\n",
    "import matplotlib.pyplot as plt\n",
    "\n",
    "print(tf.__version__)"
   ]
  },
  {
   "cell_type": "code",
   "execution_count": 3,
   "id": "1907554e",
   "metadata": {},
   "outputs": [],
   "source": [
    "# random sed 고정\n",
    "seed = 119\n",
    "random.seed(seed)\n",
    "np.random.seed(seed)\n",
    "tf.random.set_seed(seed)"
   ]
  },
  {
   "cell_type": "markdown",
   "id": "a04176b5",
   "metadata": {},
   "source": [
    "지난 노드에서 **챗봇과 번역기는 같은 집안**이라고 했던 말을 기억하시나요?\n",
    "앞서 배운 Seq2seq번역기와 Transfomer번역기에 적용할 수도 있겠지만, 이번 노드에서 배운 번역기 성능 측정법을 챗봇에도 적용해 봅시다. 배운 지식을 다양하게 활용할 수 있는 것도 중요한 능력이겠죠. 이번 프로젝트를 통해서 챗봇과 번역기가 같은 집안인지 확인해 보세요!\n",
    "\n",
    "#### Step 1. 데이터 다운로드\n",
    "준비하기 단계에서 심볼릭 링크를 생성했다면 아래 파일이 ChatbotData .csv라는 이름으로 저장되어 있을거예요. csv 파일을 읽는 데에는 pandas 라이브러리가 적합합니다. 읽어 온 데이터의 질문과 답변을 각각 questions, answers 변수에 나눠서 저장하세요!\n",
    "\n",
    "* [songys/Chatbot_data](https://github.com/songys/Chatbot_data)"
   ]
  },
  {
   "cell_type": "code",
   "execution_count": 4,
   "id": "b5992b75",
   "metadata": {},
   "outputs": [
    {
     "name": "stdout",
     "output_type": "stream",
     "text": [
      "(11823, 3)               Q            A  label\n",
      "0        12시 땡!   하루가 또 가네요.      0\n",
      "1   1지망 학교 떨어졌어    위로해 드립니다.      0\n",
      "2  3박4일 놀러가고 싶다  여행은 언제나 좋죠.      0                              Q                         A  label\n",
      "11820              흑기사 해주는 짝남.                    설렜겠어요.      2\n",
      "11821  힘든 연애 좋은 연애라는게 무슨 차이일까?  잘 헤어질 수 있는 사이 여부인 거 같아요.      2\n",
      "11822               힘들어서 결혼할까봐        도피성 결혼은 하지 않길 바라요.      2 Index(['Q', 'A', 'label'], dtype='object')\n",
      "data.isnull().sum() Q        0\n",
      "A        0\n",
      "label    0\n",
      "dtype: int64\n",
      "convers_pair_series (11823,) 0              12시 땡!    하루가 또 가네요.\n",
      "1          1지망 학교 떨어졌어    위로해 드립니다.\n",
      "2       3박4일 놀러가고 싶다    여행은 언제나 좋죠.\n",
      "3    3박4일 정도 놀러가고 싶다    여행은 언제나 좋죠.\n",
      "4             PPL 심하네    눈살이 찌푸려지죠.\n",
      "dtype: object\n",
      "결측치여부체크: 0\n",
      "questions 11823 ['12시 땡!', '1지망 학교 떨어졌어', '3박4일 놀러가고 싶다', '3박4일 정도 놀러가고 싶다', 'PPL 심하네']\n",
      "answers 11823 ['하루가 또 가네요.', '위로해 드립니다.', '여행은 언제나 좋죠.', '여행은 언제나 좋죠.', '눈살이 찌푸려지죠.']\n",
      "convers_pair_series (11823,) 0              12시 땡!    하루가 또 가네요.\n",
      "1          1지망 학교 떨어졌어    위로해 드립니다.\n",
      "2       3박4일 놀러가고 싶다    여행은 언제나 좋죠.\n",
      "3    3박4일 정도 놀러가고 싶다    여행은 언제나 좋죠.\n",
      "4             PPL 심하네    눈살이 찌푸려지죠.\n",
      "dtype: object\n"
     ]
    }
   ],
   "source": [
    "import pandas as pd\n",
    "\n",
    "path_to_dataset = '/aiffel/aiffel/transformer_chatbot/data/ChatbotData.csv'\n",
    "#!ls '/aiffel/aiffel/transformer_chatbot/data'\n",
    "data = pd.read_csv(path_to_dataset)\n",
    "print(data.shape, data.head(3), data.tail(3), data.columns)\n",
    "\n",
    "# 데이터 Nan 여부체크: Nan 없슴\n",
    "print(\"data.isnull().sum()\", data.isnull().sum())\n",
    "\n",
    "# questions, answers, label 로 분리\n",
    "questions = data['Q'].values.tolist()\n",
    "answers = data['A'].values.tolist()\n",
    "\n",
    "# questions, answers 쌍(pair)만 별도 df\n",
    "convers_pair_series = data['Q'] + '    ' + data['A']\n",
    "print(\"convers_pair_series\", convers_pair_series.shape, convers_pair_series.head())\n",
    "print(\"결측치여부체크:\", convers_pair_series.isnull().sum())\n",
    "\n",
    "print(\"questions\",len(questions), questions[:5])\n",
    "print(\"answers\",len(answers), answers[:5])\n",
    "print(\"convers_pair_series\",convers_pair_series.shape, convers_pair_series.head(5))"
   ]
  },
  {
   "cell_type": "code",
   "execution_count": null,
   "id": "1fcc3236",
   "metadata": {},
   "outputs": [],
   "source": []
  },
  {
   "cell_type": "markdown",
   "id": "9babf221",
   "metadata": {},
   "source": [
    "#### Step 2. 데이터 정제\n",
    "아래 조건을 만족하는 preprocess_sentence() 함수를 구현하세요.\n",
    "\n",
    "영문자의 경우, **모두 소문자로 변환**합니다.    \n",
    "영문자와 한글, 숫자, 그리고 주요 특수문자를 제외하곤 **정규식을 활용하여 모두 제거**합니다.    \n",
    "문장부호 양옆에 공백을 추가하는 등 이전과 다르게 생략된 기능들은 우리가 사용할 토크나이저가 지원하기 때문에 굳이 구현하지 않아도 괜찮습니다!"
   ]
  },
  {
   "cell_type": "code",
   "execution_count": 5,
   "id": "865b816f",
   "metadata": {},
   "outputs": [],
   "source": [
    "def preprocess_sentence(sentence): \n",
    "    sentence = sentence.lower().strip()\n",
    "    sentence = sentence.replace(\"\\.{2,30}\",\" \") \n",
    "    sentence = sentence.replace(\"[^ㄱ-힣a-zA-Z0-9!?,.^\\s]\",\"\")  \n",
    "    sentence = sentence.lower().strip()             \n",
    "    return sentence"
   ]
  },
  {
   "cell_type": "code",
   "execution_count": null,
   "id": "ac44763b",
   "metadata": {},
   "outputs": [],
   "source": []
  },
  {
   "cell_type": "markdown",
   "id": "f5da3305",
   "metadata": {},
   "source": [
    "#### Step 3. 데이터 토큰화\n",
    "토큰화에는 KoNLPy의 mecab 클래스를 사용합니다.\n",
    "\n",
    "아래 조건을 만족하는 build_corpus() 함수를 구현하세요!\n",
    "\n",
    "1. **소스 문장 데이터와 타겟 문장 데이터**를 입력으로 받습니다.    \n",
    "2. 데이터를 앞서 정의한 preprocess_sentence() 함수로 **정제하고, 토큰화**합니다.      \n",
    "3. 토큰화는 **전달받은 토크나이즈 함수**를 사용합니다. 이번엔 mecab.morphs 함수를 전달하시면 됩니다.        \n",
    "4. 토큰의 개수가 일정 길이 이상인 문장은 **데이터에서 제외**합니다.    \n",
    "8. **중복되는 문장은 데이터에서 제외**합니다. 소스 : 타겟 쌍을 비교하지 않고 소스는 소스대로 타겟은 타겟대로 검사합니다. 중복 쌍이 흐트러지지 않도록 유의하세요!   \n",
    "구현한 함수를 활용하여 questions 와 answers 를 각각 que_corpus , ans_corpus 에 토큰화하여 저장합니다.   \n"
   ]
  },
  {
   "cell_type": "markdown",
   "id": "7fe04d66",
   "metadata": {},
   "source": [
    "**build_corpus() 함수를 구현**"
   ]
  },
  {
   "cell_type": "code",
   "execution_count": 6,
   "id": "c2ea9e14",
   "metadata": {},
   "outputs": [
    {
     "name": "stdout",
     "output_type": "stream",
     "text": [
      "cleaned_corpus ['내일 기대하게 되네    좋은 일이 생길 거예요.\\n', '고시원에서 나가고 싶어    더 좋은 곳에서 살 수 있을 거예요.\\n'] 11750\n",
      "que_corpus_noMax [['내일', '기대', '하', '게', '되', '네'], ['고시원', '에서', '나가', '고', '싶', '어'], ['무서운', '주말'], ['반', '배정', '부터', '올해', '끝', '났', '다', '.'], ['자꾸', '지각', '하', '네']] 11750\n",
      "ans_corpus_noMax [['좋', '은', '일', '이', '생길', '거', '예요', '.'], ['더', '좋', '은', '곳', '에서', '살', '수', '있', '을', '거', '예요', '.'], ['즐거운', '주말', '이', '되', '시', '길', '바랄게요', '.'], ['1', '년', '힘내', '요', '.'], ['더', '일찍', '일어나', '세요', '.']] 11750\n"
     ]
    }
   ],
   "source": [
    "from konlpy.tag import Mecab \n",
    "\n",
    "tokenizer = Mecab()\n",
    "\n",
    "def build_corpus(src, tgt, tokenizer, maxlen= 100):\n",
    "    \n",
    "    que_corpus = []\n",
    "    ans_corpus = []\n",
    "    \n",
    "    # 중복문장제거: 튜플을 str로 전환,한개 문장내 src vs tgt는 공백4칸으로 구분, 문장별 구분은 '\\n'으로 구분\n",
    "    cleaned_corpus = [line[0] + ' '*4 + line[1] +'\\n' for line in list(set(zip(src,tgt)))]\n",
    "    print(\"cleaned_corpus\",cleaned_corpus[:2], len(cleaned_corpus))     \n",
    "    \n",
    "    for i, pair in enumerate(cleaned_corpus):\n",
    "        \n",
    "        # pair 분리\n",
    "        src_sentence = pair.split(' '*4)[0]\n",
    "        tgt_sentence = pair.split(' '*4)[1]\n",
    "        \n",
    "        # 전처리\n",
    "        src_sentence = preprocess_sentence(src_sentence)\n",
    "        tgt_sentence = preprocess_sentence(tgt_sentence)\n",
    "\n",
    "        # 형태소분석기로 단어 토큰화\n",
    "        src_token = tokenizer.morphs(src_sentence) \n",
    "        tgt_token = tokenizer.morphs(tgt_sentence) \n",
    "        \n",
    "        # maxlen 이하 단어갖은 문장만 append\n",
    "        if len(src_token) <= maxlen and len(tgt_token) <= maxlen:\n",
    "            que_corpus.append(src_token)\n",
    "            ans_corpus.append(tgt_token)\n",
    "        \"\"\"\n",
    "        if maxlen !=None and len(src_token) <= maxlen and len(tgt_token) <= maxlen:\n",
    "            que_corpus.append(src_token)\n",
    "            ans_corpus.append(tgt_token)\n",
    "        else:\n",
    "            que_corpus.append(src_token)\n",
    "            ans_corpus.append(tgt_token)\n",
    "        \"\"\"    \n",
    "    return que_corpus , ans_corpus\n",
    "\n",
    "## 임의의 maxlen 으로 1차 토큰화진행 \n",
    "que_corpus_noMax , ans_corpus_noMax = build_corpus(questions, answers, tokenizer, maxlen=100)        \n",
    "        \n",
    "print(\"que_corpus_noMax\",que_corpus_noMax[:5], len(que_corpus_noMax))  \n",
    "print(\"ans_corpus_noMax\",ans_corpus_noMax[:5], len(ans_corpus_noMax))  \n",
    "    "
   ]
  },
  {
   "cell_type": "markdown",
   "id": "4b55c52d",
   "metadata": {},
   "source": [
    "**max_length 설정**"
   ]
  },
  {
   "cell_type": "code",
   "execution_count": 7,
   "id": "318d0370",
   "metadata": {},
   "outputs": [
    {
     "name": "stdout",
     "output_type": "stream",
     "text": [
      "questions 길이 평균, 표준편차, 최대,최소:  7.037276595744681 3.5226159627991147 32 1\n",
      "answers 길이 평균, 표준편차, 최대,최소:  8.377191489361703 3.574356508896885 40 1\n",
      "maxlen 14.804206514249191\n"
     ]
    },
    {
     "data": {
      "image/png": "[encoded data removed]",
      "text/plain": [
       "<Figure size 432x288 with 1 Axes>"
      ]
     },
     "metadata": {
      "needs_background": "light"
     },
     "output_type": "display_data"
    },
    {
     "data": {
      "image/png": "[encoded data removed]",
      "text/plain": [
       "<Figure size 432x288 with 1 Axes>"
      ]
     },
     "metadata": {
      "needs_background": "light"
     },
     "output_type": "display_data"
    }
   ],
   "source": [
    "import numpy as np\n",
    "import matplotlib.pyplot as plt\n",
    "\n",
    "# length list\n",
    "lenq = [len(x) for x in que_corpus_noMax]\n",
    "lena = [len(x) for x in ans_corpus_noMax]\n",
    "\n",
    "# 데이터 길이 분포 파악\n",
    "max_length_q = np.max(lenq)\n",
    "min_length_q = np.min(lenq)\n",
    "mean_length_q = np.mean(lenq)\n",
    "std_length_q = np.std(lenq)\n",
    "print(\"questions 길이 평균, 표준편차, 최대,최소: \", mean_length_q, std_length_q, max_length_q, min_length_q)\n",
    "\n",
    "max_length_a = np.max(lena)\n",
    "min_length_a = np.min(lena)\n",
    "mean_length_a = np.mean(lena)\n",
    "std_length_a = np.std(lena)\n",
    "print(\"answers 길이 평균, 표준편차, 최대,최소: \", mean_length_a, std_length_a, max_length_a, min_length_a)\n",
    "\n",
    "# maxlen 계산 공식: mean + 2*std 기준으로, 분포도를 보고서, 재량껏 조정\n",
    "maxlen = (mean_length_q + mean_length_a)/2 + 2*((std_length_q + std_length_a)/2)\n",
    "print(\"maxlen\", maxlen)\n",
    "\n",
    "# 분포를 히스토그램으로 보기 plot\n",
    "plt.hist(lenq)\n",
    "plt.title(\"que_corpus_noMax_length\")\n",
    "plt.show()\n",
    "\n",
    "plt.hist(lena)\n",
    "plt.title(\"ans_corpus_noMaxwers_length\")\n",
    "plt.show()\n"
   ]
  },
  {
   "cell_type": "markdown",
   "id": "afff0572",
   "metadata": {},
   "source": [
    "**max_length 설정: 15개**   \n",
    "question, answer 공히 평균 7.5 내외, 표준편차 3.5내외, 최대길이는 각 32개, 40개인데,\n",
    "max 산정에는 공식에의한 14.8 및 분포도형태상 15개이면 충분할 것으로 판단됨\n",
    "\n",
    "**maxlen == 15 로 2차 토큰화진행**"
   ]
  },
  {
   "cell_type": "code",
   "execution_count": 8,
   "id": "244c60f1",
   "metadata": {},
   "outputs": [
    {
     "name": "stdout",
     "output_type": "stream",
     "text": [
      "cleaned_corpus ['내일 기대하게 되네    좋은 일이 생길 거예요.\\n', '고시원에서 나가고 싶어    더 좋은 곳에서 살 수 있을 거예요.\\n'] 11750\n",
      "que_corpus [['내일', '기대', '하', '게', '되', '네'], ['고시원', '에서', '나가', '고', '싶', '어'], ['무서운', '주말'], ['반', '배정', '부터', '올해', '끝', '났', '다', '.'], ['자꾸', '지각', '하', '네']] 10960\n",
      "ans_corpus [['좋', '은', '일', '이', '생길', '거', '예요', '.'], ['더', '좋', '은', '곳', '에서', '살', '수', '있', '을', '거', '예요', '.'], ['즐거운', '주말', '이', '되', '시', '길', '바랄게요', '.'], ['1', '년', '힘내', '요', '.'], ['더', '일찍', '일어나', '세요', '.']] 10960\n"
     ]
    }
   ],
   "source": [
    "## maxlen==15,  2차 토큰화진행 \n",
    "que_corpus , ans_corpus = build_corpus(questions, answers, tokenizer, maxlen=15)        \n",
    "        \n",
    "print(\"que_corpus\",que_corpus[:5], len(que_corpus))  \n",
    "print(\"ans_corpus\",ans_corpus[:5], len(ans_corpus))  "
   ]
  },
  {
   "cell_type": "markdown",
   "id": "8ef07d4e",
   "metadata": {},
   "source": [
    "#### Step 4. Augmentation\n",
    "우리에게 주어진 데이터는 **1만 개가량으로 적은 편**에 속합니다. 이럴 때에 사용할 수 있는 테크닉을 배웠으니 활용해 봐야겠죠? **Lexical Substitution을 실제로 적용**해 보도록 하겠습니다.\n",
    "\n",
    "아래 링크를 참고하여 **한국어로 사전 훈련된 Embedding 모델을 다운로드**합니다. Korean (w) 가 Word2Vec으로 학습한 모델이며 용량도 적당하므로 사이트에서 Korean (w)를 찾아 다운로드하고, ko.bin 파일을 얻으세요!\n",
    "\n",
    "* [Kyubyong/wordvectors](https://github.com/Kyubyong/wordvectors)\n",
    "\n",
    "다운로드한 모델을 활용해 데이터를 **Augmentation** 하세요! 앞서 정의한 lexical_sub() 함수를 참고하면 도움이 많이 될 겁니다.\n",
    "\n",
    "Augmentation된 que_corpus 와 원본 ans_corpus 가 병렬을 이루도록, 이후엔 반대로 원본 que_corpus 와 Augmentation된 ans_corpus 가 병렬을 이루도록 하여 **전체 데이터가 원래의 3배가량**으로 늘어나도록 합니다."
   ]
  },
  {
   "cell_type": "code",
   "execution_count": null,
   "id": "938ed034",
   "metadata": {},
   "outputs": [],
   "source": []
  },
  {
   "cell_type": "markdown",
   "id": "983666df",
   "metadata": {},
   "source": [
    "**pre_trained word2vec 다운로드후 모델 load:** gensim 3.8.x에서만 가능하여, 원래의 4.1.2에서 3.8.3으로 down grade했슴"
   ]
  },
  {
   "cell_type": "code",
   "execution_count": 9,
   "id": "a4618d1e",
   "metadata": {},
   "outputs": [
    {
     "name": "stdout",
     "output_type": "stream",
     "text": [
      "[('고양이', 0.7290452718734741), ('거위', 0.7185635566711426), ('토끼', 0.7056223154067993), ('멧돼지', 0.6950401067733765), ('엄마', 0.6934334635734558), ('난쟁이', 0.6806551218032837), ('한마리', 0.6770296096801758), ('아가씨', 0.6750352382659912), ('아빠', 0.6729634404182434), ('목걸이', 0.6512460708618164)]\n"
     ]
    }
   ],
   "source": [
    "wv_kor = gensim.models.Word2Vec.load('/aiffel/aiffel/transformer_chatbot/model/ko.bin') #'./model/ko.bin')\n",
    "a = wv_kor.wv.most_similar(\"강아지\")\n",
    "print(a)\n",
    "# import gensim.downloader as api: wv = api.load('~/model/ko.bin') ==> 모델 로드 않됨"
   ]
  },
  {
   "cell_type": "markdown",
   "id": "8a90b0c7",
   "metadata": {},
   "source": [
    "**데이터 Augmentation: lexical_sub() 함수 및 data_augmentation 및  Make_CleanAugmenetDataSet_and_Remove_Nan함수 구현 및 사용**"
   ]
  },
  {
   "cell_type": "code",
   "execution_count": 10,
   "id": "b36f5df4",
   "metadata": {},
   "outputs": [],
   "source": [
    "# Lexical Substitution 구현하기\n",
    "def lexical_sub(token_sentence, word2vec):\n",
    "    #res = \"\"\n",
    "    #toks = token_sentence\n",
    "    res = []\n",
    "    \n",
    "    try:  \n",
    "        _from = random.choice(token_sentence)\n",
    "        _to = word2vec.most_similar(_from)[0][0]   # 유사도점수순으로 (단어,유사도점수) 튜플중 제일 높은 점수쌍중 단어만 고름 \n",
    "               \n",
    "    except:   # 단어장에 없는 단어\n",
    "        return None\n",
    "\n",
    "    for tok in token_sentence:\n",
    "        #if tok is _from: res += _to + \" \"  #원래코드\n",
    "        #else: res += tok + \" \"             #원래코드\n",
    "        if tok is _from: res.append(_to)\n",
    "        else: res.append(tok)\n",
    "    #print(\"res\",res)        \n",
    "    return res"
   ]
  },
  {
   "cell_type": "code",
   "execution_count": 11,
   "id": "a3c00b4b",
   "metadata": {},
   "outputs": [
    {
     "data": {
      "application/vnd.jupyter.widget-view+json": {
       "model_id": "1150c8fff8d04a7ca491f70d5617567f",
       "version_major": 2,
       "version_minor": 0
      },
      "text/plain": [
       "  0%|          | 0/10960 [00:00<?, ?it/s]"
      ]
     },
     "metadata": {},
     "output_type": "display_data"
    },
    {
     "name": "stderr",
     "output_type": "stream",
     "text": [
      "/tmp/ipykernel_531/1941403359.py:9: DeprecationWarning: Call to deprecated `most_similar` (Method will be removed in 4.0.0, use self.wv.most_similar() instead).\n",
      "  _to = word2vec.most_similar(_from)[0][0]   # 유사도점수순으로 (단어,유사도점수) 튜플중 제일 높은 점수쌍중 단어만 고름\n"
     ]
    },
    {
     "name": "stdout",
     "output_type": "stream",
     "text": [
      "old_src ['내일', '기대', '하', '게', '되', '네'] new_src ['내일', '기대', '시키', '게', '되', '네']\n",
      "old_src ['고시원', '에서', '나가', '고', '싶', '어'] new_src ['고시원', '오세아니아', '나가', '고', '싶', '어']\n",
      "old_src ['무서운', '주말'] new_src ['무서운', '토요일']\n",
      "old_src ['반', '배정', '부터', '올해', '끝', '났', '다', '.'] new_src ['반', '할당', '부터', '올해', '끝', '났', '다', '.']\n",
      "[['내일', '기대', '시키', '게', '되', '네'], ['내일', '기대', '하', '게', '되', '네'], ['고시원', '오세아니아', '나가', '고', '싶', '어'], ['고시원', '에서', '나가', '고', '싶', '어'], ['무서운', '토요일'], ['무서운', '주말'], ['반', '할당', '부터', '올해', '끝', '났', '다', '.'], ['반', '배정', '부터', '올해', '끝', '났', '다', '.'], ['그럼', '지각', '하', '네'], ['자꾸', '지각', '하', '네']]\n"
     ]
    },
    {
     "data": {
      "application/vnd.jupyter.widget-view+json": {
       "model_id": "935e8ef9af8142dd85bcf29445a254f2",
       "version_major": 2,
       "version_minor": 0
      },
      "text/plain": [
       "  0%|          | 0/10960 [00:00<?, ?it/s]"
      ]
     },
     "metadata": {},
     "output_type": "display_data"
    },
    {
     "name": "stdout",
     "output_type": "stream",
     "text": [
      "old_src ['좋', '은', '일', '이', '생길', '거', '예요', '.'] new_src ['좋', '은', '일', '이', '생길', '것', '예요', '.']\n",
      "old_src ['더', '좋', '은', '곳', '에서', '살', '수', '있', '을', '거', '예요', '.'] new_src ['더', '좋', '은', '곳', '에서', '살', '수', '있', '을', '것', '예요', '.']\n",
      "old_src ['즐거운', '주말', '이', '되', '시', '길', '바랄게요', '.'] new_src ['즐거운', '주말', '그러', '되', '시', '길', '바랄게요', '.']\n",
      "old_src ['1', '년', '힘내', '요', '.'] new_src ['1', '년', '힘내', '요', '는데']\n",
      "[['좋', '은', '일', '이', '생길', '것', '예요', '.'], ['좋', '은', '일', '이', '생길', '거', '예요', '.'], ['더', '좋', '은', '곳', '에서', '살', '수', '있', '을', '것', '예요', '.'], ['더', '좋', '은', '곳', '에서', '살', '수', '있', '을', '거', '예요', '.'], ['즐거운', '주말', '그러', '되', '시', '길', '바랄게요', '.'], ['즐거운', '주말', '이', '되', '시', '길', '바랄게요', '.'], ['1', '년', '힘내', '요', '는데'], ['1', '년', '힘내', '요', '.'], ['더', '빨리', '일어나', '세요', '.'], ['더', '일찍', '일어나', '세요', '.']]\n",
      "new_que_corpus[:10] 10960 [[['내일', '기대', '시키', '게', '되', '네'], ['내일', '기대', '하', '게', '되', '네']], [['고시원', '오세아니아', '나가', '고', '싶', '어'], ['고시원', '에서', '나가', '고', '싶', '어']], [['무서운', '토요일'], ['무서운', '주말']], [['반', '할당', '부터', '올해', '끝', '났', '다', '.'], ['반', '배정', '부터', '올해', '끝', '났', '다', '.']], [['그럼', '지각', '하', '네'], ['자꾸', '지각', '하', '네']], [['항상', '같', '애'], ['항상', '똑같', '애']], [['지루', '해서'], ['답답', '해서']], [nan, ['3', '박', '4', '일', '놀', '러', '가', '고', '싶', '다']], [['그만', '살', '기에', '싶', '어'], ['그만', '살', '고', '싶', '어']], [['나이', '들', '면서', '눈물', '그러', '많', '아', '졌', '어'], ['나이', '들', '면서', '눈물', '이', '많', '아', '졌', '어']]]\n",
      "new_ans_corpus[:10] 10960 [[['좋', '은', '일', '이', '생길', '것', '예요', '.'], ['좋', '은', '일', '이', '생길', '거', '예요', '.']], [['더', '좋', '은', '곳', '에서', '살', '수', '있', '을', '것', '예요', '.'], ['더', '좋', '은', '곳', '에서', '살', '수', '있', '을', '거', '예요', '.']], [['즐거운', '주말', '그러', '되', '시', '길', '바랄게요', '.'], ['즐거운', '주말', '이', '되', '시', '길', '바랄게요', '.']], [['1', '년', '힘내', '요', '는데'], ['1', '년', '힘내', '요', '.']], [['더', '빨리', '일어나', '세요', '.'], ['더', '일찍', '일어나', '세요', '.']], [['똑같', '은', '건', '없', '는데요', '.'], ['똑같', '은', '건', '없', '어요', '.']], [['좋', '은데', '생각', '만', '하', '세요', '.'], ['좋', '은', '생각', '만', '하', '세요', '.']], [['여행', '은데', '언제나', '좋', '죠', '.'], ['여행', '은', '언제나', '좋', '죠', '.']], [['당신', '을', '소중', '하', '게', '판단', '하', '세요', '.'], ['당신', '을', '소중', '하', '게', '생각', '하', '세요', '.']], [nan, ['세상', '걱정', '혼자', '다', '해서', '그래요', '.']]]\n"
     ]
    }
   ],
   "source": [
    "# 텍스트 데이터 augmentation 함수 구현\n",
    "def data_augmentation(corpus, wv):\n",
    "    new_corpus = []\n",
    "    count = 0\n",
    "    for old_src in tqdm(corpus):\n",
    "        new_src = lexical_sub(old_src, wv_kor)\n",
    "\n",
    "        count += 1\n",
    "        if count < 5:\n",
    "            print(\"old_src\", old_src, \"new_src\", new_src)\n",
    "        \n",
    "        # None있는 곳에 np.nan 대체입력: pd.isna()로 쉽게 제거가능\n",
    "        if new_src is None:\n",
    "            new_corpus.append(np.nan)    \n",
    "        else:\n",
    "            new_corpus.append(new_src)  \n",
    "        # Augmentation이 없더라도 원본 문장을 포함시킵니다\n",
    "        new_corpus.append(old_src)\n",
    "    print(new_corpus[:10])\n",
    "    return new_corpus\n",
    "   \n",
    "new_que_corpus = data_augmentation(que_corpus, wv_kor)\n",
    "new_ans_corpus = data_augmentation(ans_corpus, wv_kor)\n",
    "\n",
    "# new_que_corpus,new_ans_corpus 데이터를  각각 new_corpus, old_corpus 병렬쌍으로 전환\n",
    "new_que_corpus = np.array(new_que_corpus,dtype=object).reshape(-1,2).tolist()\n",
    "new_ans_corpus = np.array(new_ans_corpus,dtype=object).reshape(-1,2).tolist()\n",
    "\n",
    "# 병렬쌍 여부 체크: OK\n",
    "print(\"new_que_corpus[:10]\",len(new_que_corpus),new_que_corpus[:10])\n",
    "print(\"new_ans_corpus[:10]\",len(new_ans_corpus),new_ans_corpus[:10])  "
   ]
  },
  {
   "cell_type": "markdown",
   "id": "0848d5f2",
   "metadata": {},
   "source": [
    "**augmentation data pair(쌍)정렬및 통합데이터완성: 원본데이터pair + que원본및ans증강 +  que증강및ans원본 + que증강및ans증강**    \n",
    "원본 questions, answers 각각 11750개 문장 ===> 중복제거,15단어이상제거등으로 10960개==>  증강 완성 questions, answers 각각 35347개 문장을 만들어서 약 3.4배정도의 데이터를 생성."
   ]
  },
  {
   "cell_type": "code",
   "execution_count": 12,
   "id": "1c4f8176",
   "metadata": {},
   "outputs": [
    {
     "name": "stdout",
     "output_type": "stream",
     "text": [
      "shape (10960, 4)\n",
      "Nan있는 문장개수 nan_chk1    1715\n",
      "nan_chk2    1312\n",
      "augment1       0\n",
      "augment2       0\n",
      "dtype: int64\n",
      "Nan 제거후 문장개수 nan_chk1    0\n",
      "nan_chk2    0\n",
      "augment1    0\n",
      "augment2    0\n",
      "dtype: int64\n",
      "shape (8129, 4)\n",
      "통합된 clean Augment data 최종 문장개수 total_augment1_clean 35347 total_augment2_clean 35347\n",
      "new_que_corpus_cleaned 35347 [['내일', '기대', '하', '게', '되', '네'], ['고시원', '에서', '나가', '고', '싶', '어'], ['무서운', '주말'], ['반', '배정', '부터', '올해', '끝', '났', '다', '.'], ['자꾸', '지각', '하', '네']]\n",
      "new_ans_corpus_cleaned 35347 [['좋', '은', '일', '이', '생길', '거', '예요', '.'], ['더', '좋', '은', '곳', '에서', '살', '수', '있', '을', '거', '예요', '.'], ['즐거운', '주말', '이', '되', '시', '길', '바랄게요', '.'], ['1', '년', '힘내', '요', '.'], ['더', '일찍', '일어나', '세요', '.']]\n",
      "shape (35347, 2)\n",
      "Nan있는 문장개수 augment1    0\n",
      "augment2    0\n",
      "dtype: int64\n",
      "Nan 제거후 Nan 잔존 여부 augment1    0\n",
      "augment2    0\n",
      "dtype: int64\n",
      "shape (35347, 2)\n"
     ]
    },
    {
     "name": "stderr",
     "output_type": "stream",
     "text": [
      "/tmp/ipykernel_531/2083757178.py:4: VisibleDeprecationWarning: Creating an ndarray from ragged nested sequences (which is a list-or-tuple of lists-or-tuples-or ndarrays with different lengths or shapes) is deprecated. If you meant to do this, you must specify 'dtype=object' when creating the ndarray.\n",
      "  df = pd.DataFrame({'nan_chk1':np.array(augment1)[:,0],'nan_chk2':np.array(augment2)[:,0],\"augment1\":augment1,\n",
      "/tmp/ipykernel_531/2083757178.py:16: VisibleDeprecationWarning: Creating an ndarray from ragged nested sequences (which is a list-or-tuple of lists-or-tuples-or ndarrays with different lengths or shapes) is deprecated. If you meant to do this, you must specify 'dtype=object' when creating the ndarray.\n",
      "  augment1_without_nan= np.array(df['augment1'].values.tolist())\n",
      "/tmp/ipykernel_531/2083757178.py:17: VisibleDeprecationWarning: Creating an ndarray from ragged nested sequences (which is a list-or-tuple of lists-or-tuples-or ndarrays with different lengths or shapes) is deprecated. If you meant to do this, you must specify 'dtype=object' when creating the ndarray.\n",
      "  augment2_without_nan= np.array(df['augment2'].values.tolist())\n"
     ]
    }
   ],
   "source": [
    "# Augmentation data pair(쌍)정렬및 통합데이터 완성함수 구현: 문장내의 np.nan 제거 코드 포함 OK\n",
    "def Make_CleanAugmenetDataSet_and_Remove_Nan(augment1, augment2):\n",
    "    \n",
    "    df = pd.DataFrame({'nan_chk1':np.array(augment1)[:,0],'nan_chk2':np.array(augment2)[:,0],\"augment1\":augment1,\n",
    "                 \"augment2\":augment2})\n",
    "    print(\"shape\",df.shape)   \n",
    "    print(\"Nan있는 문장개수\", df.isnull().sum())\n",
    "    # nan있는 문장 통합제거: \n",
    "    df.dropna(axis=0, inplace=True)\n",
    "    print(\"Nan 제거후 문장개수\", df.isnull().sum())\n",
    "    print(\"shape\",df.shape)\n",
    "    \n",
    "    # np.array 전환\n",
    "    augment1_np= np.array(augment1, dtype=object)\n",
    "    augment2_np= np.array(augment2, dtype=object)\n",
    "    augment1_without_nan= np.array(df['augment1'].values.tolist())\n",
    "    augment2_without_nan= np.array(df['augment2'].values.tolist())\n",
    "    # data별 pair 순서대로 문장통합 및 완성: 원본데이터pair + que원본및ans증강 +  que증강및ans원본 + que증강및ans증강\n",
    "    total_augment1_clean = np.concatenate(\n",
    "        [augment1_np[:,1],augment1_without_nan[:,0],augment1_without_nan[:,1],augment1_without_nan[:,0]], axis=0)    \n",
    "    total_augment2_clean = np.concatenate(\n",
    "        [augment2_np[:,1],augment2_without_nan[:,1],augment2_without_nan[:,0],augment2_without_nan[:,0]], axis=0)    \n",
    "           \n",
    "    # numpy.array ==> list 재전환\n",
    "    total_augment1_clean = total_augment1_clean.tolist()\n",
    "    total_augment2_clean = total_augment2_clean.tolist()\n",
    "    print(\"통합된 clean Augment data 최종 문장개수\",\"total_augment1_clean\", len(total_augment1_clean),\n",
    "          \"total_augment2_clean\", len(total_augment1_clean))\n",
    "    return  total_augment1_clean,total_augment2_clean\n",
    "       \n",
    "# 완성된 Augment Data Set\n",
    "new_que_corpus_cleaned,new_ans_corpus_cleaned = Make_CleanAugmenetDataSet_and_Remove_Nan(new_que_corpus,new_ans_corpus)\n",
    "print(\"new_que_corpus_cleaned\",len(new_que_corpus_cleaned),new_que_corpus_cleaned[:5])\n",
    "print(\"new_ans_corpus_cleaned\",len(new_ans_corpus_cleaned),new_ans_corpus_cleaned[:5])\n",
    "\n",
    "## nan 존재여부 재확인: 없슴 \n",
    "df = pd.DataFrame({\"augment1\":new_que_corpus_cleaned,\n",
    "                 \"augment2\":new_ans_corpus_cleaned})\n",
    "print(\"shape\",df.shape)   \n",
    "print(\"Nan있는 문장개수\", df.isnull().sum())\n",
    "# nan있는 문장 통합제거: np.where(pd.isna())\n",
    "df.dropna(axis=0, inplace=True)\n",
    "print(\"Nan 제거후 Nan 잔존 여부\", df.isnull().sum())\n",
    "print(\"shape\",df.shape)"
   ]
  },
  {
   "cell_type": "code",
   "execution_count": 13,
   "id": "21696b06",
   "metadata": {},
   "outputs": [
    {
     "data": {
      "text/plain": [
       "'\\ni = 8177\\nidx= i  #10960#8193\\nprint(new_que_corpus_cleaned[idx],new_ans_corpus_cleaned[idx])\\nidx= 10960 + i\\nprint(new_que_corpus_cleaned[idx],new_ans_corpus_cleaned[idx])\\nidx= 10960 + 8178+ i\\nprint(new_que_corpus_cleaned[idx],new_ans_corpus_cleaned[idx])\\nidx= 10961 + 8178*2 + i-1\\nprint(new_que_corpus_cleaned[idx],new_ans_corpus_cleaned[idx])\\n'"
      ]
     },
     "execution_count": 13,
     "metadata": {},
     "output_type": "execute_result"
    }
   ],
   "source": [
    "\"\"\"\n",
    "i = 8177\n",
    "idx= i  #10960#8193\n",
    "print(new_que_corpus_cleaned[idx],new_ans_corpus_cleaned[idx])\n",
    "idx= 10960 + i\n",
    "print(new_que_corpus_cleaned[idx],new_ans_corpus_cleaned[idx])\n",
    "idx= 10960 + 8178+ i\n",
    "print(new_que_corpus_cleaned[idx],new_ans_corpus_cleaned[idx])\n",
    "idx= 10961 + 8178*2 + i-1\n",
    "print(new_que_corpus_cleaned[idx],new_ans_corpus_cleaned[idx])\n",
    "\"\"\""
   ]
  },
  {
   "cell_type": "markdown",
   "id": "fc48b87b",
   "metadata": {},
   "source": [
    "#### Step 5. 데이터 벡터화\n",
    "타겟 데이터인 ans_corpus 에 <start> 토큰과 <end> 토큰이 추가되지 않은 상태이니 이를 먼저 해결한 후 벡터화를 진행합니다. 우리가 구축한 ans_corpus 는 list 형태이기 때문에 아주 쉽게 이를 해결할 수 있답니다!"
   ]
  },
  {
   "cell_type": "markdown",
   "id": "a33dea8b",
   "metadata": {},
   "source": [
    "1. 위 소스를 참고하여 타겟 데이터 전체에 <start> 토큰과 <end> 토큰을 추가해 주세요!    \n",
    "    \n",
    "챗봇 훈련 데이터의 가장 큰 특징 중 하나라고 하자면 바로 **소스 데이터와 타겟 데이터가 같은 언어를 사용한다는 것** 이겠죠. 앞서 배운 것처럼 이는 Embedding 층을 공유했을 때 많은 이점을 얻을 수 있습니다.\n",
    "\n",
    "2. 특수 토큰을 더함으로써 ans_corpus 또한 완성이 되었으니, que_corpus 와 결합하여 **전체 데이터에 대한 단어 사전을 구축하고 벡터화**하여 enc_train 과 dec_train 을 얻으세요!"
   ]
  },
  {
   "cell_type": "code",
   "execution_count": 14,
   "id": "b045c0ea",
   "metadata": {},
   "outputs": [
    {
     "name": "stdout",
     "output_type": "stream",
     "text": [
      "new_ans_corpus_cleaned_add 35347 [['<start>', '좋', '은', '일', '이', '생길', '거', '예요', '.', '<end>'], ['<start>', '더', '좋', '은', '곳', '에서', '살', '수', '있', '을', '거', '예요', '.', '<end>'], ['<start>', '즐거운', '주말', '이', '되', '시', '길', '바랄게요', '.', '<end>']]\n"
     ]
    }
   ],
   "source": [
    "# ansers 데이터에 \"<start>\",\"<end>\" 추가\n",
    "new_ans_corpus_cleaned_add=[]\n",
    "for tok_sen in new_ans_corpus_cleaned:\n",
    "    #print(tok_sen)\n",
    "    tok_sen1= [\"<start>\"] + tok_sen + [\"<end>\"]\n",
    "    #print(tok_sen1)\n",
    "    new_ans_corpus_cleaned_add.append(tok_sen1)\n",
    "    \n",
    "print(\"new_ans_corpus_cleaned_add\", len(new_ans_corpus_cleaned_add), new_ans_corpus_cleaned_add[:3])    "
   ]
  },
  {
   "cell_type": "code",
   "execution_count": 15,
   "id": "c16902f4",
   "metadata": {},
   "outputs": [
    {
     "name": "stdout",
     "output_type": "stream",
     "text": [
      "보정전 단어사전 길이: 5969 5969\n",
      "보정전 tokenizer.index_word[0~10] [(1, '<unk>'), (2, '는'), (3, '이'), (4, '.'), (5, '하'), (6, '어'), (7, '가'), (8, '?'), (9, '고'), (10, '아')]\n",
      "tokenizer.index_word <pad> <unk> 는\n",
      "tokenizer.word_index 0 3\n",
      "보정후 단어사전 길이: 5970 5970\n",
      "보정전 단어사전 길이: 4306 4306\n",
      "보정전 tokenizer.index_word[0~10] [(1, '<unk>'), (2, '<start>'), (3, '<end>'), (4, '.'), (5, '세요'), (6, '이'), (7, '하'), (8, '을'), (9, '는'), (10, '보'), (11, '거'), (12, '은'), (13, '있'), (14, '해'), (15, '예요'), (16, '좋'), (17, '가'), (18, '도'), (19, '지'), (20, '어요'), (21, '죠')]\n",
      "tokenizer.index_word <pad> <start> <end> <unk>\n",
      "tokenizer.word_index 0 1 2 3\n",
      "보정후 tokenizer.index_word[0~10] [(7, '.'), (8, '세요'), (9, '이'), (10, '하'), (11, '을'), (12, '는'), (13, '보'), (14, '거'), (15, '은'), (16, '있'), (17, '해'), (18, '예요'), (19, '좋'), (20, '가'), (0, '<pad>'), (1, '<start>'), (2, '<end>'), (3, '<unk>')]\n",
      "보정후 단어사전 길이: 4307 4307\n",
      "enc_tensor 35347 [[ 231  538    8   28   48   19    0    0    0    0    0    0    0    0\n",
      "     0]\n",
      " [1531   66  286   12   18    9    0    0    0    0    0    0    0    0\n",
      "     0]] [[4473   46   12   32   16    0    0    0    0    0    0    0    0    0\n",
      "     0]\n",
      " [ 290   78  164  191    5   78  176   11    0    0    0    0    0    0\n",
      "     0]]\n",
      "dec_tensor 35347 [[  1  19  15  55   9 508  14  18   7   2   0   0   0   0   0   0   0]\n",
      " [  1  47  19  15 143 109 134  34  16  11  14  18   7   2   0   0   0]] [[   1   95   21   13   27   74   23    7    2    0    0    0    0    0\n",
      "     0    0    0]\n",
      " [   1 1237  378   15   41   23    7    2    0    0    0    0    0    0\n",
      "     0    0    0]]\n",
      "enc_tensor 35347 [[1931  380   66   80   26 4333   81    5  150    0    0    0    0    0\n",
      "     0]\n",
      " [1186  679   26 1051   17    0    0    0    0    0    0    0    0    0\n",
      "     0]] [[1569  164 2672  176  113    0    0    0    0    0    0    0    0    0\n",
      "     0]\n",
      " [ 160  342  132   23   19    0    0    0    0    0    0    0    0    0\n",
      "     0]]\n",
      "dec_tensor 35347 [[   1 1141 4027   10    8    7    2    0    0    0    0    0    0    0\n",
      "     0    0    0]\n",
      " [   1 1609  652   15  693   10   24    7    2    0    0    0    0    0\n",
      "     0    0    0]] [[   1  271  132   48   10   45 1071    9   24    7    2    0    0    0\n",
      "     0    0    0]\n",
      " [   1   39  564   10   63   19   15  191    9   25    7    2    0    0\n",
      "     0    0    0]]\n",
      "enc_train, enc_val 31812 3535\n",
      "dec_train, dec_val 31812 3535\n"
     ]
    }
   ],
   "source": [
    "#### 정수인덱스 토큰화하기, 보정처리 및 padding\n",
    "def tokenize(corpus,maxlen=20, que_token= False): \n",
    "    ## 정수인덱스 토큰화\n",
    "    tokenizer = tf.keras.preprocessing.text.Tokenizer(filters='', oov_token= '<unk>')  #lower 또하면 'BOS''EOS'도 소문자됨      \n",
    "    tokenizer.fit_on_texts(corpus)\n",
    "    #[주의!!] 보정처리할 경우에는 texts_to_sequences(corpus)를 보정처리후 padding전에  해야함\n",
    "    \n",
    "    ## 보정처리, texts_to_sequences 및 패딩: \n",
    "    print(\"보정전 단어사전 길이:\", len(tokenizer.index_word), len(tokenizer.word_index))\n",
    "    if que_token == True:\n",
    "        # quetions 보정처리\n",
    "        print(\"보정전 tokenizer.index_word[0~10]\",[(k,v) for (k,v) in tokenizer.index_word.items() if k <=10])\n",
    "        \n",
    "        tokenizer.index_word = {k + 3: v for k,v in tokenizer.index_word.items()}\n",
    "        tokenizer.index_word.update({0:'<pad>',1:'', 2:'', 3:'<unk>'}) \n",
    "        # 중복있을 경우 제거: '<unk>','',''\n",
    "        tokenizer.index_word={k:v for k,v in tokenizer.index_word.items() if (k in [0,3]) or  v not in ['<unk>','','']}\n",
    "       \n",
    "        tokenizer.word_index = {v: k for k,v in tokenizer.index_word.items()}\n",
    "        print(\"tokenizer.index_word\",tokenizer.index_word[0],tokenizer.index_word[3],tokenizer.index_word[5])\n",
    "        print(\"tokenizer.word_index\",tokenizer.word_index['<pad>'],tokenizer.word_index['<unk>'])\n",
    "               \n",
    "        # 보정처리완료후texts_to_sequences(corpus)\n",
    "        tensor = tokenizer.texts_to_sequences(corpus)\n",
    "        # 패딩\n",
    "        tensor = tf.keras.preprocessing.sequence.pad_sequences(tensor, padding='post') #maxlen = maxlen,#maxlen = 50,\n",
    "        \n",
    "    else:\n",
    "        # ansers 보정처리\n",
    "        print(\"보정전 tokenizer.index_word[0~10]\",[(k,v) for i,(k,v) in enumerate(tokenizer.index_word.items()) if i <=20])\n",
    "        \n",
    "        tokenizer.index_word = {k + 3: v for k,v in tokenizer.index_word.items()}\n",
    "        tokenizer.index_word.update({0:'<pad>',1: '<start>', 2:'<end>', 3:'<unk>'}) \n",
    "        # 중복있을 경우 제거: '<unk>','<start>','<end>\n",
    "        tokenizer.index_word={k:v for k,v in tokenizer.index_word.items() if k < 4 or  v not in ['<unk>','<start>','<end>']}\n",
    "        \n",
    "        tokenizer.word_index = {v: k for k,v in tokenizer.index_word.items()}\n",
    "        print(\"tokenizer.index_word\",tokenizer.index_word[0],tokenizer.index_word[1],tokenizer.index_word[2],\n",
    "             tokenizer.index_word[3])\n",
    "        print(\"tokenizer.word_index\",tokenizer.word_index['<pad>'],tokenizer.word_index['<start>'],\n",
    "              tokenizer.word_index['<end>'],tokenizer.word_index['<unk>'])    \n",
    "        print(\"보정후 tokenizer.index_word[0~10]\",[(k,v) for (k,v) in tokenizer.index_word.items() if k<=20])\n",
    "        \n",
    "        # 보정처리완료후texts_to_sequences(corpus)\n",
    "        tensor = tokenizer.texts_to_sequences(corpus)\n",
    "        # 패딩\n",
    "        tensor = tf.keras.preprocessing.sequence.pad_sequences(tensor, padding='post') #maxlen = maxlen,maxlen\n",
    "        \n",
    "    \n",
    "    print(\"보정후 단어사전 길이:\", len(tokenizer.index_word), len(tokenizer.word_index))\n",
    "    \n",
    "    return tensor, tokenizer\n",
    "\n",
    "# 정수인덱스 토큰화및 패딩처리를 완료하여 학습용 데이터를 완성. \n",
    "enc_tensor, enc_tokenizer = tokenize(new_que_corpus_cleaned, maxlen= 20, que_token= True)\n",
    "dec_tensor, dec_tokenizer = tokenize(new_ans_corpus_cleaned_add, maxlen= 20 )\n",
    "\n",
    "print(\"enc_tensor\", len(enc_tensor), enc_tensor[:2],enc_tensor[-2:])\n",
    "print(\"dec_tensor\", len(dec_tensor), dec_tensor[:2],dec_tensor[-2:])\n",
    "\n",
    "# train_data  permutation(shuffle): train_data == numpy.array\n",
    "indices_permutation = np.random.permutation(len(enc_tensor))\n",
    "\n",
    "enc_tensor = enc_tensor[indices_permutation]\n",
    "dec_tensor = dec_tensor[indices_permutation]\n",
    "print(\"enc_tensor\", len(enc_tensor), enc_tensor[:2],enc_tensor[-2:])\n",
    "print(\"dec_tensor\", len(dec_tensor), dec_tensor[:2],dec_tensor[-2:])\n",
    "\n",
    "# train_data  valid data 분리:  0.9 \n",
    "splitlen = int(len(enc_tensor)*0.9)\n",
    "\n",
    "enc_train = enc_tensor[:splitlen]\n",
    "enc_val =  enc_tensor[splitlen:]\n",
    "print(\"enc_train, enc_val\", len(enc_train), len(enc_val))\n",
    "\n",
    "dec_train = dec_tensor[:splitlen]\n",
    "dec_val =  dec_tensor[splitlen:]\n",
    "print(\"dec_train, dec_val\", len(dec_train), len(dec_val))\n",
    "\n"
   ]
  },
  {
   "cell_type": "code",
   "execution_count": 16,
   "id": "4344d24e",
   "metadata": {},
   "outputs": [
    {
     "name": "stdout",
     "output_type": "stream",
     "text": [
      "answers 길이 평균, 표준편차, 최대,최소:  17.0 0.0 17 17\n"
     ]
    }
   ],
   "source": [
    "# length list\n",
    "lenq = [len(x) for x in enc_train]\n",
    "lena = [len(x) for x in dec_train]\n",
    "\n",
    "# 데이터 길이 분포 파악\n",
    "max_length_a = np.max(lena)\n",
    "min_length_a = np.min(lena)\n",
    "mean_length_a = np.mean(lena)\n",
    "std_length_a = np.std(lena)\n",
    "print(\"answers 길이 평균, 표준편차, 최대,최소: \", mean_length_a, std_length_a, max_length_a, min_length_a)"
   ]
  },
  {
   "cell_type": "markdown",
   "id": "8cc7540e",
   "metadata": {},
   "source": [
    "#### max_length 재설정: 15개 --> 17개로 증가 반영\n",
    "step2 에서 일정길이 문장이상 제외위해 설정한 maxlen 15에서, step5에서 'start', 'end' 토큰추가등 보정처리후\n",
    "padding 작업결과 maxlen 증가됨"
   ]
  },
  {
   "cell_type": "code",
   "execution_count": 17,
   "id": "5f148b0f",
   "metadata": {},
   "outputs": [
    {
     "name": "stdout",
     "output_type": "stream",
     "text": [
      "maxlen 17\n"
     ]
    }
   ],
   "source": [
    "maxlen = 17\n",
    "print(\"maxlen\", maxlen)"
   ]
  },
  {
   "cell_type": "markdown",
   "id": "bd0e6026",
   "metadata": {},
   "source": [
    "#### Step 6. 훈련하기\n",
    "앞서 번역 모델을 훈련하며 정의한 Transformer 를 그대로 사용하시면 됩니다! 대신 데이터의 크기가 작으니 하이퍼파라미터를 튜닝해야 과적합을 피할 수 있습니다. 모델을 훈련하고 아래 예문에 대한 답변을 생성하세요! **가장 멋진 답변과 모델의 하이퍼파라미터를 제출**하시면 됩니다.\n",
    "\n",
    "```\n",
    "# 예문\n",
    "1. 지루하다, 놀러가고 싶어.\n",
    "2. 오늘 일찍 일어났더니 피곤하다.\n",
    "3. 간만에 여자친구랑 데이트 하기로 했어.\n",
    "4. 집에 있는다는 소리야.\n",
    "\n",
    "---\n",
    "\n",
    "# 제출\n",
    "\n",
    "Translations\n",
    "> 1. 잠깐 쉬 어도 돼요 . <end>\n",
    "> 2. 맛난 거 드세요 . <end>\n",
    "> 3. 떨리 겠 죠 . <end>\n",
    "> 4. 좋 아 하 면 그럴 수 있 어요 . <end>\n",
    "\n",
    "Hyperparameters\n",
    "> n_layers: 1\n",
    "> d_model: 368\n",
    "> n_heads: 8\n",
    "> d_ff: 1024\n",
    "> dropout: 0.2\n",
    "\n",
    "Training Parameters\n",
    "> Warmup Steps: 1000\n",
    "> Batch Size: 64\n",
    "> Epoch At: 10\n",
    "```\n",
    " "
   ]
  },
  {
   "cell_type": "markdown",
   "id": "9f4267ab",
   "metadata": {},
   "source": [
    "#### 모델구성"
   ]
  },
  {
   "cell_type": "code",
   "execution_count": 18,
   "id": "a1c00041",
   "metadata": {},
   "outputs": [],
   "source": [
    "def positional_encoding(pos, d_model):\n",
    "    def cal_angle(position, i):\n",
    "        return position / np.power(10000, int(i) / d_model)\n",
    "\n",
    "    def get_posi_angle_vec(position):\n",
    "        return [cal_angle(position, i) for i in range(d_model)]\n",
    "\n",
    "    sinusoid_table = np.array([get_posi_angle_vec(pos_i) for pos_i in range(pos)])\n",
    "    print(sinusoid_table)\n",
    "    sinusoid_table[:, 0::2] = np.sin(sinusoid_table[:, 0::2])\n",
    "    sinusoid_table[:, 1::2] = np.cos(sinusoid_table[:, 1::2])\n",
    "    return sinusoid_table\n",
    "\n",
    "#print(positional_encoding(10, 5))\n"
   ]
  },
  {
   "cell_type": "code",
   "execution_count": 19,
   "id": "59df29cb",
   "metadata": {},
   "outputs": [],
   "source": [
    "class MultiHeadAttention(tf.keras.layers.Layer):\n",
    "    def __init__(self, d_model, num_heads):\n",
    "        super(MultiHeadAttention, self).__init__()\n",
    "        self.num_heads = num_heads\n",
    "        self.d_model = d_model\n",
    "        \n",
    "        self.depth = d_model // self.num_heads  \n",
    "        \n",
    "        self.W_q = tf.keras.layers.Dense(d_model) # Linear Layer\n",
    "        self.W_k = tf.keras.layers.Dense(d_model)\n",
    "        self.W_v = tf.keras.layers.Dense(d_model)\n",
    "        \n",
    "        self.linear = tf.keras.layers.Dense(d_model)\n",
    "\n",
    "    def scaled_dot_product_attention(self, Q, K, V, mask):\n",
    "        d_k = tf.cast(K.shape[-1], tf.float32)\n",
    "\n",
    "        \"\"\"\n",
    "        Scaled QK 값 구하기\n",
    "        \"\"\"\n",
    "        d_k = tf.cast(K.shape[-1], tf.float32)\n",
    "        QK = tf.matmul(Q, K, transpose_b=True)\n",
    "\n",
    "        scaled_qk = QK / tf.math.sqrt(d_k)\n",
    "\n",
    "        if mask is not None: scaled_qk += (mask * -1e9)  \n",
    "\n",
    "        \"\"\"\n",
    "        1. Attention Weights 값 구하기 -> attentions\n",
    "        2. Attention 값을 V에 곱하기 -> out\n",
    "        \"\"\" \n",
    "        attentions = tf.nn.softmax(scaled_qk, axis=-1)\n",
    "        out = tf.matmul(attentions, V)\n",
    "\n",
    "        return out, attentions\n",
    "        \n",
    "    def split_heads(self, x):\n",
    "        \"\"\"\n",
    "        Embedding을 Head의 수로 분할하는 함수\n",
    "\n",
    "        x: [ batch x length x emb ]\n",
    "        return: [ batch x length x heads x self.depth ]\n",
    "        \"\"\"\n",
    "        batch_size = x.shape[0]\n",
    "        split_x = tf.reshape(x, (batch_size, -1, self.num_heads, self.depth))\n",
    "        split_x = tf.transpose(split_x, perm=[0, 2, 1, 3])\n",
    "\n",
    "        return split_x\n",
    "\n",
    "    def combine_heads(self, x):\n",
    "        \"\"\"\n",
    "        분할된 Embedding을 하나로 결합하는 함수\n",
    "        x: [ batch x length x heads x self.depth ]\n",
    "        return: [ batch x length x emb ]\n",
    "        \"\"\"\n",
    "        batch_size = x.shape[0]\n",
    "        combined_x = tf.transpose(x, perm=[0, 2, 1, 3])\n",
    "        combined_x = tf.reshape(combined_x, (batch_size, -1, self.d_model))\n",
    "\n",
    "        return combined_x\n",
    "          \n",
    "\n",
    "    def call(self, Q, K, V, mask):\n",
    "        \"\"\"\n",
    "        아래 순서에 따라 소스를 작성하세요.\n",
    "\n",
    "        Step 1: Linear_in(Q, K, V) -> WQ, WK, WV\n",
    "        Step 2: Split Heads(WQ, WK, WV) -> WQ_split, WK_split, WV_split\n",
    "        Step 3: Scaled Dot Product Attention(WQ_split, WK_split, WV_split)\n",
    "                 -> out, attention_weights\n",
    "        Step 4: Combine Heads(out) -> out\n",
    "        Step 5: Linear_out(out) -> out\n",
    "\n",
    "        \"\"\"\n",
    "        WQ = self.W_q(Q)\n",
    "        WK = self.W_k(K)\n",
    "        WV = self.W_v(V)\n",
    "        \n",
    "        WQ_splits = self.split_heads(WQ)\n",
    "        WK_splits = self.split_heads(WK)\n",
    "        WV_splits = self.split_heads(WV)\n",
    "            \n",
    "        out, attention_weights = self.scaled_dot_product_attention(\n",
    "            WQ_splits, WK_splits, WV_splits, mask)\n",
    "       \n",
    "        out = self.combine_heads(out)\n",
    "        out = self.linear(out)\n",
    "       \n",
    "        return out, attention_weights\n"
   ]
  },
  {
   "cell_type": "code",
   "execution_count": 20,
   "id": "ffb8f0f7",
   "metadata": {},
   "outputs": [],
   "source": [
    "class PoswiseFeedForwardNet(tf.keras.layers.Layer):\n",
    "    def __init__(self, d_model, d_ff):\n",
    "        super(PoswiseFeedForwardNet, self).__init__()\n",
    "        self.w_1 = tf.keras.layers.Dense(d_ff, activation='relu')\n",
    "        self.w_2 = tf.keras.layers.Dense(d_model)\n",
    "\n",
    "    def call(self, x):\n",
    "        out = self.w_1(x)\n",
    "        out = self.w_2(out)\n",
    "            \n",
    "        return out\n"
   ]
  },
  {
   "cell_type": "code",
   "execution_count": 21,
   "id": "bd4b2627",
   "metadata": {},
   "outputs": [],
   "source": [
    "class EncoderLayer(tf.keras.layers.Layer):\n",
    "    def __init__(self, d_model, n_heads, d_ff, dropout):\n",
    "        super(EncoderLayer, self).__init__()\n",
    "\n",
    "        self.enc_self_attn = MultiHeadAttention(d_model, n_heads)\n",
    "        self.ffn = PoswiseFeedForwardNet(d_model, d_ff)\n",
    "\n",
    "        self.norm_1 = tf.keras.layers.LayerNormalization(epsilon=1e-6)\n",
    "        self.norm_2 = tf.keras.layers.LayerNormalization(epsilon=1e-6)\n",
    "\n",
    "        self.dropout = tf.keras.layers.Dropout(dropout)\n",
    "        \n",
    "    def call(self, x, mask):\n",
    "\n",
    "        \"\"\"\n",
    "        Multi-Head Attention\n",
    "        \"\"\"\n",
    "        residual = x\n",
    "        out = self.norm_1(x)\n",
    "        out, enc_attn = self.enc_self_attn(out, out, out, mask)\n",
    "        out = self.dropout(out)\n",
    "        out += residual\n",
    "        \n",
    "        \"\"\"\n",
    "        Position-Wise Feed Forward Network\n",
    "        \"\"\"\n",
    "        residual = out\n",
    "        out = self.norm_2(out)\n",
    "        out = self.ffn(out)\n",
    "        out = self.dropout(out)\n",
    "        out += residual\n",
    "        \n",
    "        return out, enc_attn"
   ]
  },
  {
   "cell_type": "code",
   "execution_count": 22,
   "id": "5f7219f3",
   "metadata": {},
   "outputs": [],
   "source": [
    "# DecoderLayer 클래스를 작성하세요.\n",
    "class DecoderLayer(tf.keras.layers.Layer):\n",
    "    def __init__(self, d_model, n_heads, d_ff, dropout):\n",
    "        super(DecoderLayer, self).__init__()\n",
    "\n",
    "        self.dec_self_attn = MultiHeadAttention(d_model, n_heads)\n",
    "        self.enc_dec_attn = MultiHeadAttention(d_model, n_heads)\n",
    "\n",
    "        self.ffn = PoswiseFeedForwardNet(d_model, d_ff)\n",
    "\n",
    "        self.norm_1 = tf.keras.layers.LayerNormalization(epsilon=1e-6)\n",
    "        self.norm_2 = tf.keras.layers.LayerNormalization(epsilon=1e-6)\n",
    "        self.norm_3 = tf.keras.layers.LayerNormalization(epsilon=1e-6)\n",
    "\n",
    "        self.dropout = tf.keras.layers.Dropout(dropout) \n",
    "                \n",
    "    def call(self, x, enc_out, causality_mask, padding_mask):\n",
    "        \n",
    "        \"\"\"\n",
    "        Masked Multi-Head Attention\n",
    "        \"\"\"\n",
    "        residual = x\n",
    "        out = self.norm_1(x)\n",
    "        out, dec_attn = self.dec_self_attn(out, out, out, padding_mask)  # padding_mask == dec_mask == tf.maximum(dec_mask,dec_causal_mask)\n",
    "        out = self.dropout(out)\n",
    "        out += residual\n",
    "\n",
    "        \"\"\"\n",
    "        Multi-Head Attention\n",
    "        \"\"\"\n",
    "        residual = out\n",
    "        out = self.norm_2(out)\n",
    "        out, dec_enc_attn = self.enc_dec_attn(out, enc_out, enc_out, causality_mask)  # causal_mask==tf.maxi(enc_mas,dec_enc_causal_mask)\n",
    "        out = self.dropout(out)\n",
    "        out += residual\n",
    "\n",
    "        \"\"\"\n",
    "        Position-Wise Feed Forward Network\n",
    "        \"\"\"\n",
    "        residual = out\n",
    "        out = self.norm_3(out)\n",
    "        out = self.ffn(out)\n",
    "        out = self.dropout(out)\n",
    "        out += residual\n",
    "        \n",
    "        return out, dec_attn, dec_enc_attn\n"
   ]
  },
  {
   "cell_type": "code",
   "execution_count": 23,
   "id": "285d0a2f",
   "metadata": {},
   "outputs": [],
   "source": [
    "class Encoder(tf.keras.Model):\n",
    "    def __init__(self,\n",
    "                 n_layers,\n",
    "                 d_model,\n",
    "                 n_heads,\n",
    "                 d_ff,\n",
    "                 dropout):\n",
    "        super(Encoder, self).__init__()\n",
    "        self.n_layers = n_layers\n",
    "        self.enc_layers = [EncoderLayer(d_model, n_heads, d_ff, dropout) \n",
    "                        for _ in range(n_layers)]\n",
    "        \n",
    "    def call(self, x, mask):\n",
    "        out = x\n",
    "    \n",
    "        enc_attns = list()\n",
    "        for i in range(self.n_layers):\n",
    "            out, enc_attn = self.enc_layers[i](out, mask)\n",
    "            enc_attns.append(enc_attn)\n",
    "        \n",
    "        return out, enc_attns"
   ]
  },
  {
   "cell_type": "code",
   "execution_count": 24,
   "id": "534b31cb",
   "metadata": {},
   "outputs": [],
   "source": [
    "class Decoder(tf.keras.Model):\n",
    "    def __init__(self,\n",
    "                 n_layers,\n",
    "                 d_model,\n",
    "                 n_heads,\n",
    "                 d_ff,\n",
    "                 dropout):\n",
    "        super(Decoder, self).__init__()\n",
    "        self.n_layers = n_layers\n",
    "        self.dec_layers = [DecoderLayer(d_model, n_heads, d_ff, dropout) \n",
    "                            for _ in range(n_layers)]\n",
    "                            \n",
    "                            \n",
    "    def call(self, x, enc_out, causality_mask, padding_mask):\n",
    "        out = x\n",
    "    \n",
    "        dec_attns = list()\n",
    "        dec_enc_attns = list()\n",
    "        for i in range(self.n_layers):\n",
    "            out, dec_attn, dec_enc_attn = \\\n",
    "            self.dec_layers[i](out, enc_out, causality_mask, padding_mask)\n",
    "\n",
    "            dec_attns.append(dec_attn)\n",
    "            dec_enc_attns.append(dec_enc_attn)\n",
    "\n",
    "        return out, dec_attns, dec_enc_attns\n"
   ]
  },
  {
   "cell_type": "code",
   "execution_count": 25,
   "id": "621e81ba",
   "metadata": {},
   "outputs": [],
   "source": [
    "import tensorflow.keras.backend as K\n",
    "\n",
    "class Transformer(tf.keras.Model):\n",
    "    def __init__(self,\n",
    "                 n_layers,\n",
    "                 d_model,\n",
    "                 n_heads,\n",
    "                 d_ff,\n",
    "                 src_vocab_size,\n",
    "                 tgt_vocab_size,\n",
    "                 pos_len,\n",
    "                 dropout=0.2,\n",
    "                 shared=True):\n",
    "        super(Transformer, self).__init__()\n",
    "        #self.d_model = tf.cast(d_model, tf.float32)  ==> float로 할 경우 dimension 오류발생됨\n",
    "        self.d_model = d_model   \n",
    "        \"\"\"\n",
    "        1. Embedding Layer 정의\n",
    "        2. Positional Encoding 정의\n",
    "        3. Encoder / Decoder 정의\n",
    "        4. Output Linear 정의\n",
    "        5. Shared Weights\n",
    "        6. Dropout 정의\n",
    "        \"\"\"\n",
    "        self.enc_emb = tf.keras.layers.Embedding(src_vocab_size, self.d_model)\n",
    "        self.dec_emb = tf.keras.layers.Embedding(tgt_vocab_size, self.d_model)\n",
    "\n",
    "        self.pos_encoding = positional_encoding(pos_len, d_model)\n",
    "        self.dropout = tf.keras.layers.Dropout(dropout)\n",
    "\n",
    "        self.encoder = Encoder(n_layers, d_model, n_heads, d_ff, dropout)   # int(n_heads)\n",
    "        self.decoder = Decoder(n_layers, d_model, n_heads, d_ff, dropout)   # int(n_heads)\n",
    "\n",
    "        self.fc = tf.keras.layers.Dense(tgt_vocab_size)\n",
    "\n",
    "        self.shared = shared\n",
    "\n",
    "        if shared: self.fc.set_weights(tf.transpose(self.dec_emb.weights))\n",
    "\n",
    "    def embedding(self, emb, x):\n",
    "        \"\"\"\n",
    "        입력된 정수 배열을 Embedding + Pos Encoding\n",
    "        + Shared일 경우 Scaling 작업 포함\n",
    "\n",
    "        x: [ batch x length ]\n",
    "        return: [ batch x length x emb ]\n",
    "        \"\"\"      \n",
    "        seq_len = x.shape[1]\n",
    "        out = emb(x)\n",
    "\n",
    "        if self.shared: out *= tf.math.sqrt(tf.cast(d_model, tf.float32)) #self.d_model)   # int ???  self.d_model\n",
    "       \n",
    "        out += self.pos_encoding[np.newaxis, ...][:, :seq_len, :]\n",
    "        out = self.dropout(out)\n",
    "        \n",
    "        return out\n",
    "    \n",
    "        \n",
    "    def call(self, enc_in, dec_in, enc_mask, causality_mask, dec_mask):\n",
    "        \"\"\"\n",
    "        아래 순서에 따라 소스를 작성하세요.\n",
    "\n",
    "        Step 1: Embedding(enc_in, dec_in) -> enc_in, dec_in\n",
    "        Step 2: Encoder(enc_in, enc_mask) -> enc_out, enc_attns\n",
    "        Step 3: Decoder(dec_in, enc_out, mask)\n",
    "                -> dec_out, dec_attns, dec_enc_attns\n",
    "        Step 4: Out Linear(dec_out) -> logits\n",
    "        \"\"\"\n",
    "        enc_in = self.embedding(self.enc_emb, enc_in)\n",
    "        dec_in = self.embedding(self.dec_emb, dec_in)\n",
    "\n",
    "        enc_out, enc_attns = self.encoder(enc_in, enc_mask)\n",
    "        \n",
    "        dec_out, dec_attns, dec_enc_attns = \\\n",
    "        self.decoder(dec_in, enc_out, causality_mask, dec_mask)\n",
    "        \n",
    "        logits = self.fc(dec_out)\n",
    "        \n",
    "        return logits, enc_attns, dec_attns, dec_enc_attns\n",
    " "
   ]
  },
  {
   "cell_type": "code",
   "execution_count": 26,
   "id": "14d9aeac",
   "metadata": {},
   "outputs": [],
   "source": [
    "import numpy as np\n",
    "import tensorflow as tf\n",
    "\n",
    "def generate_padding_mask(seq):\n",
    "    seq = tf.cast(tf.math.equal(seq, 0), tf.float32)\n",
    "    return seq[:, tf.newaxis, tf.newaxis, :]\n",
    "\n",
    "def generate_causality_mask(src_len, tgt_len):\n",
    "    mask = 1 - np.cumsum(np.eye(src_len, tgt_len), 0)\n",
    "    return tf.cast(mask, tf.float32)\n",
    "\n",
    "def generate_masks(src, tgt):\n",
    "    enc_mask = generate_padding_mask(src)\n",
    "    dec_mask = generate_padding_mask(tgt)\n",
    "\n",
    "    dec_enc_causality_mask = generate_causality_mask(tgt.shape[1], src.shape[1])\n",
    "    #print(\"enc_mask\",enc_mask.shape,enc_mask,\"dec_enc_causality_mask\",dec_enc_causality_mask.shape,dec_enc_causality_mask)\n",
    "    dec_enc_mask = tf.maximum(enc_mask, dec_enc_causality_mask)\n",
    "    #print(\"dec_enc_mask\",dec_enc_mask.shape,dec_enc_mask)\n",
    "\n",
    "    dec_causality_mask = generate_causality_mask(tgt.shape[1], tgt.shape[1])\n",
    "    dec_mask = tf.maximum(dec_mask, dec_causality_mask)\n",
    "    #print(\"dec_mask\",dec_mask.shape, dec_mask,\"dec_causality_mask\",dec_causality_mask.shape,dec_causality_mask)\n",
    "    return enc_mask, dec_enc_mask, dec_mask\n"
   ]
  },
  {
   "cell_type": "code",
   "execution_count": 27,
   "id": "c796331a",
   "metadata": {},
   "outputs": [],
   "source": [
    "##  LearningRateScheduler 클래스 함수정의\n",
    "class LearningRateScheduler(tf.keras.optimizers.schedules.LearningRateSchedule):\n",
    "    def __init__(self, d_model, warmup_steps=4000):\n",
    "        super(LearningRateScheduler, self).__init__()\n",
    "        self.d_model = d_model\n",
    "        self.warmup_steps = warmup_steps\n",
    "    \n",
    "    def __call__(self, step):\n",
    "        arg1 = step ** -0.5\n",
    "        arg2 = step * (self.warmup_steps ** -1.5)\n",
    "        \n",
    "        return (self.d_model ** -0.5) * tf.math.minimum(arg1, arg2)\n",
    "\n",
    "#learning_rate = LearningRateScheduler(d_model = 512, warmup_steps = 4000)\n",
    "#optimizer = tf.keras.optimizers.Adam(learning_rate, beta_1=0.9, beta_2=0.98, epsilon=1e-9)\n"
   ]
  },
  {
   "cell_type": "code",
   "execution_count": 28,
   "id": "fa89fc2b",
   "metadata": {},
   "outputs": [
    {
     "name": "stdout",
     "output_type": "stream",
     "text": [
      "[[0.00000000e+00 0.00000000e+00 0.00000000e+00 ... 0.00000000e+00\n",
      "  0.00000000e+00 0.00000000e+00]\n",
      " [1.00000000e+00 9.75282507e-01 9.51175969e-01 ... 1.07797502e-04\n",
      "  1.05133018e-04 1.02534393e-04]\n",
      " [2.00000000e+00 1.95056501e+00 1.90235194e+00 ... 2.15595003e-04\n",
      "  2.10266035e-04 2.05068786e-04]\n",
      " ...\n",
      " [1.40000000e+01 1.36539551e+01 1.33164636e+01 ... 1.50916502e-03\n",
      "  1.47186225e-03 1.43548150e-03]\n",
      " [1.50000000e+01 1.46292376e+01 1.42676395e+01 ... 1.61696252e-03\n",
      "  1.57699527e-03 1.53801590e-03]\n",
      " [1.60000000e+01 1.56045201e+01 1.52188155e+01 ... 1.72476003e-03\n",
      "  1.68212828e-03 1.64055029e-03]]\n"
     ]
    }
   ],
   "source": [
    "#Hyperparameters\n",
    "n_layers= 1\n",
    "d_model= 368\n",
    "n_heads= 8\n",
    "d_ff= 1024\n",
    "pos_len = 17\n",
    "dropout= 0.3   \n",
    "src_vocab_size = len(enc_tokenizer.word_index) #6167\n",
    "tgt_vocab_size = len(dec_tokenizer.word_index) #7187\n",
    "shared=True\n",
    "\n",
    "#Training Parameters\n",
    "warmup_steps = 1000\n",
    "BATCH_SIZE = 64\n",
    "EPOCHS = 10 \n",
    "\n",
    "\n",
    "# 트랜스포머 모델설정\n",
    "transformer = Transformer(n_layers,\n",
    "                 d_model,\n",
    "                 n_heads,\n",
    "                 d_ff,\n",
    "                 src_vocab_size,\n",
    "                 tgt_vocab_size,\n",
    "                 pos_len,\n",
    "                 dropout=dropout,\n",
    "                 shared=True)"
   ]
  },
  {
   "cell_type": "code",
   "execution_count": 29,
   "id": "444e1617",
   "metadata": {},
   "outputs": [],
   "source": [
    "learning_rate = LearningRateScheduler(d_model)\n",
    "optimizer = tf.keras.optimizers.Adam(learning_rate,\n",
    "                                     beta_1=0.9,\n",
    "                                     beta_2=0.98, \n",
    "                                     epsilon=1e-9)\n"
   ]
  },
  {
   "cell_type": "code",
   "execution_count": 30,
   "id": "e870ec12",
   "metadata": {},
   "outputs": [],
   "source": [
    "loss_object = tf.keras.losses.SparseCategoricalCrossentropy(from_logits=True, reduction='none')\n",
    "\n",
    "def loss_function(real, pred):\n",
    "    #[주의} real data는 transformer model 내에서는 마스크가 씌워지는 절차없으니,여기서 씌움,모델내에서는 enc_train,dec_train 만 씌움\n",
    "    mask = tf.math.logical_not(tf.math.equal(real, 0))   # 여기선 마스크씌울 부분이 0 이됨, \"곱해주는 마스크\"라서, 0이됨 \n",
    "    loss_ = loss_object(real, pred)\n",
    "\n",
    "    # Masking 되지 않은 입력의 개수로 Scaling하는 과정\n",
    "    mask = tf.cast(mask, dtype=loss_.dtype)\n",
    "    loss_ *= mask         # 여기선 마스크씌울 부분이 0 이므로, 곱해주어야 패딩부분이 0이되어 무시됨,즉, loss의 합계에서 제외됨 \n",
    "\n",
    "    return tf.reduce_sum(loss_)/tf.reduce_sum(mask)"
   ]
  },
  {
   "cell_type": "code",
   "execution_count": 31,
   "id": "c89f0936",
   "metadata": {},
   "outputs": [],
   "source": [
    "# Train Step 함수 정의\n",
    "\n",
    "@tf.function()\n",
    "def train_step(src, tgt, model, optimizer):\n",
    "    gold = tgt[:, 1:]\n",
    "    enc_mask, dec_enc_mask, dec_mask = generate_masks(src, tgt)\n",
    "\n",
    "    # 계산된 loss에 tf.GradientTape()를 적용해 학습을 진행합니다.\n",
    "    with tf.GradientTape() as tape:\n",
    "        predictions, enc_attns, dec_attns, dec_enc_attns = model(src, tgt, enc_mask, dec_enc_mask, dec_mask)\n",
    "        loss = loss_function(gold, predictions[:, :-1])\n",
    "\n",
    "    # 최종적으로 optimizer.apply_gradients()가 사용됩니다. \n",
    "    # [[YOUR CODE]]\n",
    "    variables = model.encoder.trainable_variables + model.decoder.trainable_variables \n",
    "    gradients = tape.gradient(loss, variables)\n",
    "    optimizer.apply_gradients(zip(gradients, variables))\n",
    "        \n",
    "    return loss, enc_attns, dec_attns, dec_enc_attns\n",
    "   "
   ]
  },
  {
   "cell_type": "code",
   "execution_count": 32,
   "id": "e2b37a6d",
   "metadata": {},
   "outputs": [],
   "source": [
    "# Valid Step 함수 정의\n",
    "\n",
    "@tf.function()\n",
    "def valid_step(src, tgt, model):\n",
    "    gold = tgt[:, 1:]\n",
    "    enc_mask, dec_enc_mask, dec_mask = generate_masks(src, tgt)\n",
    "\n",
    "    predictions, enc_attns, dec_attns, dec_enc_attns = model(src, tgt, enc_mask, dec_enc_mask, dec_mask, training=False)\n",
    "    val_loss = loss_function(gold, predictions[:, :-1])\n",
    "    \n",
    "    return val_loss    #, enc_attns, dec_attns, dec_enc_attns\n",
    "   "
   ]
  },
  {
   "cell_type": "code",
   "execution_count": 80,
   "id": "dca924a4",
   "metadata": {},
   "outputs": [
    {
     "name": "stdout",
     "output_type": "stream",
     "text": [
      "[[0.00000000e+00 0.00000000e+00 0.00000000e+00 ... 0.00000000e+00\n",
      "  0.00000000e+00 0.00000000e+00]\n",
      " [1.00000000e+00 9.82171889e-01 9.64661620e-01 ... 1.05544960e-04\n",
      "  1.03663293e-04 1.01815172e-04]\n",
      " [2.00000000e+00 1.96434378e+00 1.92932324e+00 ... 2.11089920e-04\n",
      "  2.07326586e-04 2.03630344e-04]\n",
      " ...\n",
      " [1.40000000e+01 1.37504064e+01 1.35052627e+01 ... 1.47762944e-03\n",
      "  1.45128610e-03 1.42541241e-03]\n",
      " [1.50000000e+01 1.47325783e+01 1.44699243e+01 ... 1.58317440e-03\n",
      "  1.55494939e-03 1.52722758e-03]\n",
      " [1.60000000e+01 1.57147502e+01 1.54345859e+01 ... 1.68871936e-03\n",
      "  1.65861269e-03 1.62904275e-03]]\n",
      "i 0 param 30\n",
      "[[0.00000000e+00 0.00000000e+00 0.00000000e+00 ... 0.00000000e+00\n",
      "  0.00000000e+00 0.00000000e+00]\n",
      " [1.00000000e+00 9.82171889e-01 9.64661620e-01 ... 1.05544960e-04\n",
      "  1.03663293e-04 1.01815172e-04]\n",
      " [2.00000000e+00 1.96434378e+00 1.92932324e+00 ... 2.11089920e-04\n",
      "  2.07326586e-04 2.03630344e-04]\n",
      " ...\n",
      " [1.40000000e+01 1.37504064e+01 1.35052627e+01 ... 1.47762944e-03\n",
      "  1.45128610e-03 1.42541241e-03]\n",
      " [1.50000000e+01 1.47325783e+01 1.44699243e+01 ... 1.58317440e-03\n",
      "  1.55494939e-03 1.52722758e-03]\n",
      " [1.60000000e+01 1.57147502e+01 1.54345859e+01 ... 1.68871936e-03\n",
      "  1.65861269e-03 1.62904275e-03]]\n"
     ]
    },
    {
     "data": {
      "application/vnd.jupyter.widget-view+json": {
       "model_id": "c4f52cfb455b48cd81e27c10e2dedaca",
       "version_major": 2,
       "version_minor": 0
      },
      "text/plain": [
       "  0%|          | 0/498 [00:00<?, ?it/s]"
      ]
     },
     "metadata": {},
     "output_type": "display_data"
    },
    {
     "name": "stdout",
     "output_type": "stream",
     "text": [
      "epoch 0 batch 0 idx 0 batch_loss1 9.1367\n",
      "epoch 0 batch 250 idx 16000 batch_loss1 5.0468\n",
      "val_batch 0\n",
      "val_batch 25\n",
      "val_batch 50\n",
      "epoch 0 epoch_val_loss1 4.0217\n",
      "Epoch 0 Epoch_변화시_학습율적용_step >> count_step 495 lr 0.0019566594\n",
      "epoch_loss 4.4156 epoch_val_loss 4.0217\n"
     ]
    },
    {
     "data": {
      "application/vnd.jupyter.widget-view+json": {
       "model_id": "03f9fb71e60749d4a9a624fc36dc30c9",
       "version_major": 2,
       "version_minor": 0
      },
      "text/plain": [
       "  0%|          | 0/498 [00:00<?, ?it/s]"
      ]
     },
     "metadata": {},
     "output_type": "display_data"
    },
    {
     "name": "stdout",
     "output_type": "stream",
     "text": [
      "epoch 1 batch 0 idx 0 batch_loss1 4.0795\n",
      "epoch 1 batch 250 idx 16000 batch_loss1 3.2013\n",
      "val_batch 0\n",
      "val_batch 25\n",
      "val_batch 50\n",
      "epoch 1 epoch_val_loss1 2.4796\n",
      "Epoch 1 Epoch_변화시_학습율적용_step >> count_step 990 lr 0.0014045831\n",
      "epoch_loss 2.8226 epoch_val_loss 2.4796\n"
     ]
    },
    {
     "data": {
      "application/vnd.jupyter.widget-view+json": {
       "model_id": "34f56311931c40c38229a01f89a3ab74",
       "version_major": 2,
       "version_minor": 0
      },
      "text/plain": [
       "  0%|          | 0/498 [00:00<?, ?it/s]"
      ]
     },
     "metadata": {},
     "output_type": "display_data"
    },
    {
     "name": "stdout",
     "output_type": "stream",
     "text": [
      "epoch 2 batch 0 idx 0 batch_loss1 2.2695\n",
      "epoch 2 batch 250 idx 16000 batch_loss1 1.8152\n",
      "val_batch 0\n",
      "val_batch 25\n",
      "val_batch 50\n",
      "epoch 2 epoch_val_loss1 1.711\n",
      "Epoch 2 Epoch_변화시_학습율적용_step >> count_step 1485 lr 0.0011468373\n",
      "epoch_loss 1.593 epoch_val_loss 1.711\n"
     ]
    },
    {
     "data": {
      "application/vnd.jupyter.widget-view+json": {
       "model_id": "305f5eef04404f8690149c36b2ef473a",
       "version_major": 2,
       "version_minor": 0
      },
      "text/plain": [
       "  0%|          | 0/498 [00:00<?, ?it/s]"
      ]
     },
     "metadata": {},
     "output_type": "display_data"
    },
    {
     "name": "stdout",
     "output_type": "stream",
     "text": [
      "epoch 3 batch 0 idx 0 batch_loss1 1.2439\n",
      "epoch 3 batch 250 idx 16000 batch_loss1 1.0734\n",
      "val_batch 0\n",
      "val_batch 25\n",
      "val_batch 50\n",
      "epoch 3 epoch_val_loss1 1.343\n",
      "Epoch 3 Epoch_변화시_학습율적용_step >> count_step 1980 lr 0.0009931902\n",
      "epoch_loss 0.9852 epoch_val_loss 1.343\n"
     ]
    },
    {
     "data": {
      "application/vnd.jupyter.widget-view+json": {
       "model_id": "993910c06e2d468fa69a493c1bbb4307",
       "version_major": 2,
       "version_minor": 0
      },
      "text/plain": [
       "  0%|          | 0/498 [00:00<?, ?it/s]"
      ]
     },
     "metadata": {},
     "output_type": "display_data"
    },
    {
     "name": "stdout",
     "output_type": "stream",
     "text": [
      "epoch 4 batch 0 idx 0 batch_loss1 0.9153\n",
      "epoch 4 batch 250 idx 16000 batch_loss1 0.7591\n",
      "val_batch 0\n",
      "val_batch 25\n",
      "val_batch 50\n",
      "epoch 4 epoch_val_loss1 1.1829\n",
      "Epoch 4 Epoch_변화시_학습율적용_step >> count_step 2475 lr 0.0008883363\n",
      "epoch_loss 0.7175 epoch_val_loss 1.1829\n"
     ]
    },
    {
     "data": {
      "application/vnd.jupyter.widget-view+json": {
       "model_id": "53ace458bfa047148728729019f1a514",
       "version_major": 2,
       "version_minor": 0
      },
      "text/plain": [
       "  0%|          | 0/498 [00:00<?, ?it/s]"
      ]
     },
     "metadata": {},
     "output_type": "display_data"
    },
    {
     "name": "stdout",
     "output_type": "stream",
     "text": [
      "epoch 5 batch 0 idx 0 batch_loss1 0.66\n",
      "epoch 5 batch 250 idx 16000 batch_loss1 0.5978\n",
      "val_batch 0\n",
      "val_batch 25\n",
      "val_batch 50\n",
      "epoch 5 epoch_val_loss1 1.0904\n",
      "Epoch 5 Epoch_변화시_학습율적용_step >> count_step 2970 lr 0.0008109364\n",
      "epoch_loss 0.5724 epoch_val_loss 1.0904\n"
     ]
    },
    {
     "data": {
      "application/vnd.jupyter.widget-view+json": {
       "model_id": "da24c947145947809828720cb8243e49",
       "version_major": 2,
       "version_minor": 0
      },
      "text/plain": [
       "  0%|          | 0/498 [00:00<?, ?it/s]"
      ]
     },
     "metadata": {},
     "output_type": "display_data"
    },
    {
     "name": "stdout",
     "output_type": "stream",
     "text": [
      "epoch 6 batch 0 idx 0 batch_loss1 0.6004\n",
      "epoch 6 batch 250 idx 16000 batch_loss1 0.5089\n",
      "val_batch 0\n",
      "val_batch 25\n",
      "val_batch 50\n",
      "epoch 6 epoch_val_loss1 1.0468\n",
      "Epoch 6 Epoch_변화시_학습율적용_step >> count_step 3465 lr 0.0007507812\n",
      "epoch_loss 0.4912 epoch_val_loss 1.0468\n"
     ]
    },
    {
     "data": {
      "application/vnd.jupyter.widget-view+json": {
       "model_id": "01dfe8d744ac43a0ae94e580fd0454b9",
       "version_major": 2,
       "version_minor": 0
      },
      "text/plain": [
       "  0%|          | 0/498 [00:00<?, ?it/s]"
      ]
     },
     "metadata": {},
     "output_type": "display_data"
    },
    {
     "name": "stdout",
     "output_type": "stream",
     "text": [
      "epoch 7 batch 0 idx 0 batch_loss1 0.488\n",
      "epoch 7 batch 250 idx 16000 batch_loss1 0.4427\n",
      "val_batch 0\n",
      "val_batch 25\n",
      "val_batch 50\n",
      "epoch 7 epoch_val_loss1 1.0185\n",
      "Epoch 7 Epoch_변화시_학습율적용_step >> count_step 3960 lr 0.00070229155\n",
      "epoch_loss 0.4321 epoch_val_loss 1.0185\n"
     ]
    },
    {
     "data": {
      "application/vnd.jupyter.widget-view+json": {
       "model_id": "255800a978294ac88c56bbff2d462daa",
       "version_major": 2,
       "version_minor": 0
      },
      "text/plain": [
       "  0%|          | 0/498 [00:00<?, ?it/s]"
      ]
     },
     "metadata": {},
     "output_type": "display_data"
    },
    {
     "name": "stdout",
     "output_type": "stream",
     "text": [
      "epoch 8 batch 0 idx 0 batch_loss1 0.4822\n",
      "epoch 8 batch 250 idx 16000 batch_loss1 0.402\n",
      "val_batch 0\n",
      "val_batch 25\n",
      "val_batch 50\n",
      "epoch 8 epoch_val_loss1 0.9791\n",
      "Epoch 8 Epoch_변화시_학습율적용_step >> count_step 4455 lr 0.00066212675\n",
      "epoch_loss 0.3924 epoch_val_loss 0.9791\n"
     ]
    },
    {
     "data": {
      "application/vnd.jupyter.widget-view+json": {
       "model_id": "b7c610ec510642f4895bee74d2fea567",
       "version_major": 2,
       "version_minor": 0
      },
      "text/plain": [
       "  0%|          | 0/498 [00:00<?, ?it/s]"
      ]
     },
     "metadata": {},
     "output_type": "display_data"
    },
    {
     "name": "stdout",
     "output_type": "stream",
     "text": [
      "epoch 9 batch 0 idx 0 batch_loss1 0.4285\n",
      "epoch 9 batch 250 idx 16000 batch_loss1 0.3709\n",
      "val_batch 0\n",
      "val_batch 25\n",
      "val_batch 50\n",
      "epoch 9 epoch_val_loss1 0.9613\n",
      "Epoch 9 Epoch_변화시_학습율적용_step >> count_step 4950 lr 0.0006281486\n",
      "epoch_loss 0.3622 epoch_val_loss 0.9613\n"
     ]
    },
    {
     "data": {
      "application/vnd.jupyter.widget-view+json": {
       "model_id": "018fdf3640f146ba85dcf3d60dec4569",
       "version_major": 2,
       "version_minor": 0
      },
      "text/plain": [
       "  0%|          | 0/498 [00:00<?, ?it/s]"
      ]
     },
     "metadata": {},
     "output_type": "display_data"
    },
    {
     "name": "stdout",
     "output_type": "stream",
     "text": [
      "epoch 10 batch 0 idx 0 batch_loss1 0.4273\n",
      "epoch 10 batch 250 idx 16000 batch_loss1 0.3415\n",
      "val_batch 0\n",
      "val_batch 25\n",
      "val_batch 50\n",
      "epoch 10 epoch_val_loss1 0.9587\n",
      "Epoch 10 Epoch_변화시_학습율적용_step >> count_step 5445 lr 0.0005989162\n",
      "epoch_loss 0.3346 epoch_val_loss 0.9587\n"
     ]
    },
    {
     "data": {
      "application/vnd.jupyter.widget-view+json": {
       "model_id": "3c82ee7eb8584566b6b5642d91acb9de",
       "version_major": 2,
       "version_minor": 0
      },
      "text/plain": [
       "  0%|          | 0/498 [00:00<?, ?it/s]"
      ]
     },
     "metadata": {},
     "output_type": "display_data"
    },
    {
     "name": "stdout",
     "output_type": "stream",
     "text": [
      "epoch 11 batch 0 idx 0 batch_loss1 0.3767\n",
      "epoch 11 batch 250 idx 16000 batch_loss1 0.3176\n",
      "val_batch 0\n",
      "val_batch 25\n",
      "val_batch 50\n",
      "epoch 11 epoch_val_loss1 0.9436\n",
      "Epoch 11 Epoch_변화시_학습율적용_step >> count_step 5940 lr 0.0005734186\n",
      "epoch_loss 0.3115 epoch_val_loss 0.9436\n"
     ]
    },
    {
     "data": {
      "application/vnd.jupyter.widget-view+json": {
       "model_id": "233ce1ece12b40c490b90f6f5ff88166",
       "version_major": 2,
       "version_minor": 0
      },
      "text/plain": [
       "  0%|          | 0/498 [00:00<?, ?it/s]"
      ]
     },
     "metadata": {},
     "output_type": "display_data"
    },
    {
     "name": "stdout",
     "output_type": "stream",
     "text": [
      "epoch 12 batch 0 idx 0 batch_loss1 0.3759\n",
      "epoch 12 batch 250 idx 16000 batch_loss1 0.292\n",
      "val_batch 0\n",
      "val_batch 25\n",
      "val_batch 50\n",
      "epoch 12 epoch_val_loss1 0.932\n",
      "Epoch 12 Epoch_변화시_학습율적용_step >> count_step 6435 lr 0.00055092276\n",
      "epoch_loss 0.2861 epoch_val_loss 0.932\n"
     ]
    },
    {
     "data": {
      "application/vnd.jupyter.widget-view+json": {
       "model_id": "bb6808ed314a44d2a22f81b9eef91a67",
       "version_major": 2,
       "version_minor": 0
      },
      "text/plain": [
       "  0%|          | 0/498 [00:00<?, ?it/s]"
      ]
     },
     "metadata": {},
     "output_type": "display_data"
    },
    {
     "name": "stdout",
     "output_type": "stream",
     "text": [
      "epoch 13 batch 0 idx 0 batch_loss1 0.2959\n",
      "epoch 13 batch 250 idx 16000 batch_loss1 0.2733\n",
      "val_batch 0\n",
      "val_batch 25\n",
      "val_batch 50\n",
      "epoch 13 epoch_val_loss1 0.935\n",
      "Epoch 13 Epoch_변화시_학습율적용_step >> count_step 6930 lr 0.0005308825\n",
      "epoch_loss 0.2683 epoch_val_loss 0.935\n"
     ]
    },
    {
     "data": {
      "application/vnd.jupyter.widget-view+json": {
       "model_id": "3276cae2329345eabb5e90db50f1dc56",
       "version_major": 2,
       "version_minor": 0
      },
      "text/plain": [
       "  0%|          | 0/498 [00:00<?, ?it/s]"
      ]
     },
     "metadata": {},
     "output_type": "display_data"
    },
    {
     "name": "stdout",
     "output_type": "stream",
     "text": [
      "epoch 14 batch 0 idx 0 batch_loss1 0.323\n",
      "epoch 14 batch 250 idx 16000 batch_loss1 0.2523\n",
      "val_batch 0\n",
      "val_batch 25\n",
      "val_batch 50\n",
      "epoch 14 epoch_val_loss1 0.9676\n",
      "Epoch 14 Epoch_변화시_학습율적용_step >> count_step 7425 lr 0.0005128812\n",
      "epoch_loss 0.2476 epoch_val_loss 0.9676\n"
     ]
    },
    {
     "data": {
      "application/vnd.jupyter.widget-view+json": {
       "model_id": "cbdf42754d3e4cac89a49126a7eeeaeb",
       "version_major": 2,
       "version_minor": 0
      },
      "text/plain": [
       "  0%|          | 0/498 [00:00<?, ?it/s]"
      ]
     },
     "metadata": {},
     "output_type": "display_data"
    },
    {
     "name": "stdout",
     "output_type": "stream",
     "text": [
      "epoch 15 batch 0 idx 0 batch_loss1 0.2984\n",
      "epoch 15 batch 250 idx 16000 batch_loss1 0.2344\n",
      "val_batch 0\n",
      "val_batch 25\n",
      "val_batch 50\n",
      "epoch 15 epoch_val_loss1 0.9611\n",
      "Epoch 15 Epoch_변화시_학습율적용_step >> count_step 7920 lr 0.0004965951\n",
      "epoch_loss 0.2327 epoch_val_loss 0.9611\n"
     ]
    },
    {
     "data": {
      "application/vnd.jupyter.widget-view+json": {
       "model_id": "33558de1d4704d7c92e480146704a704",
       "version_major": 2,
       "version_minor": 0
      },
      "text/plain": [
       "  0%|          | 0/498 [00:00<?, ?it/s]"
      ]
     },
     "metadata": {},
     "output_type": "display_data"
    },
    {
     "name": "stdout",
     "output_type": "stream",
     "text": [
      "epoch 16 batch 0 idx 0 batch_loss1 0.2948\n",
      "epoch 16 batch 250 idx 16000 batch_loss1 0.222\n",
      "val_batch 0\n",
      "val_batch 25\n",
      "val_batch 50\n",
      "epoch 16 epoch_val_loss1 0.9722\n",
      "Epoch 16 Epoch_변화시_학습율적용_step >> count_step 8415 lr 0.00048176802\n",
      "epoch_loss 0.217 epoch_val_loss 0.9722\n"
     ]
    },
    {
     "data": {
      "application/vnd.jupyter.widget-view+json": {
       "model_id": "4434e9e2632d49fd8787ff026c239fee",
       "version_major": 2,
       "version_minor": 0
      },
      "text/plain": [
       "  0%|          | 0/498 [00:00<?, ?it/s]"
      ]
     },
     "metadata": {},
     "output_type": "display_data"
    },
    {
     "name": "stdout",
     "output_type": "stream",
     "text": [
      "epoch 17 batch 0 idx 0 batch_loss1 0.2502\n",
      "epoch 17 batch 250 idx 16000 batch_loss1 0.2057\n",
      "val_batch 0\n",
      "val_batch 25\n",
      "val_batch 50\n",
      "epoch 17 epoch_val_loss1 0.9816\n",
      "Epoch 17 Epoch_변화시_학습율적용_step >> count_step 8910 lr 0.00046819434\n",
      "epoch_loss 0.2011 epoch_val_loss 0.9816\n"
     ]
    },
    {
     "data": {
      "application/vnd.jupyter.widget-view+json": {
       "model_id": "5f87d423c7524200b726f784f65353f1",
       "version_major": 2,
       "version_minor": 0
      },
      "text/plain": [
       "  0%|          | 0/498 [00:00<?, ?it/s]"
      ]
     },
     "metadata": {},
     "output_type": "display_data"
    },
    {
     "name": "stdout",
     "output_type": "stream",
     "text": [
      "epoch 18 batch 0 idx 0 batch_loss1 0.2194\n",
      "epoch 18 batch 250 idx 16000 batch_loss1 0.1895\n",
      "val_batch 0\n",
      "val_batch 25\n",
      "val_batch 50\n",
      "epoch 18 epoch_val_loss1 1.0248\n",
      "Epoch 18 Epoch_변화시_학습율적용_step >> count_step 9405 lr 0.0004557069\n",
      "epoch_loss 0.1866 epoch_val_loss 1.0248\n"
     ]
    },
    {
     "data": {
      "application/vnd.jupyter.widget-view+json": {
       "model_id": "c8d6b454ef8046fa929a79b85b80f755",
       "version_major": 2,
       "version_minor": 0
      },
      "text/plain": [
       "  0%|          | 0/498 [00:00<?, ?it/s]"
      ]
     },
     "metadata": {},
     "output_type": "display_data"
    },
    {
     "name": "stdout",
     "output_type": "stream",
     "text": [
      "epoch 19 batch 0 idx 0 batch_loss1 0.1734\n",
      "epoch 19 batch 250 idx 16000 batch_loss1 0.1785\n",
      "val_batch 0\n",
      "val_batch 25\n",
      "val_batch 50\n",
      "epoch 19 epoch_val_loss1 1.0024\n",
      "Epoch 19 Epoch_변화시_학습율적용_step >> count_step 9900 lr 0.00044416814\n",
      "epoch_loss 0.1745 epoch_val_loss 1.0024\n"
     ]
    },
    {
     "data": {
      "application/vnd.jupyter.widget-view+json": {
       "model_id": "b826ac4958034043bf7bb4c53bea3e86",
       "version_major": 2,
       "version_minor": 0
      },
      "text/plain": [
       "  0%|          | 0/498 [00:00<?, ?it/s]"
      ]
     },
     "metadata": {},
     "output_type": "display_data"
    },
    {
     "name": "stdout",
     "output_type": "stream",
     "text": [
      "epoch 20 batch 0 idx 0 batch_loss1 0.21\n",
      "epoch 20 batch 250 idx 16000 batch_loss1 0.1655\n",
      "val_batch 0\n",
      "val_batch 25\n",
      "val_batch 50\n",
      "epoch 20 epoch_val_loss1 1.0201\n",
      "Epoch 20 Epoch_변화시_학습율적용_step >> count_step 10395 lr 0.00043346375\n",
      "epoch_loss 0.1632 epoch_val_loss 1.0201\n"
     ]
    },
    {
     "data": {
      "application/vnd.jupyter.widget-view+json": {
       "model_id": "14e3b2dd0307407980d491c5638d02df",
       "version_major": 2,
       "version_minor": 0
      },
      "text/plain": [
       "  0%|          | 0/498 [00:00<?, ?it/s]"
      ]
     },
     "metadata": {},
     "output_type": "display_data"
    },
    {
     "name": "stdout",
     "output_type": "stream",
     "text": [
      "epoch 21 batch 0 idx 0 batch_loss1 0.2016\n",
      "epoch 21 batch 250 idx 16000 batch_loss1 0.1554\n",
      "val_batch 0\n",
      "val_batch 25\n",
      "val_batch 50\n",
      "epoch 21 epoch_val_loss1 1.0107\n",
      "Epoch 21 Epoch_변화시_학습율적용_step >> count_step 10890 lr 0.0004234977\n",
      "epoch_loss 0.1532 epoch_val_loss 1.0107\n"
     ]
    },
    {
     "data": {
      "application/vnd.jupyter.widget-view+json": {
       "model_id": "5edcd2e472104cf8b2362481ba15feb1",
       "version_major": 2,
       "version_minor": 0
      },
      "text/plain": [
       "  0%|          | 0/498 [00:00<?, ?it/s]"
      ]
     },
     "metadata": {},
     "output_type": "display_data"
    },
    {
     "name": "stdout",
     "output_type": "stream",
     "text": [
      "epoch 22 batch 0 idx 0 batch_loss1 0.1308\n",
      "epoch 22 batch 250 idx 16000 batch_loss1 0.1446\n",
      "val_batch 0\n",
      "val_batch 25\n",
      "val_batch 50\n",
      "epoch 22 epoch_val_loss1 1.0091\n",
      "Epoch 22 Epoch_변화시_학습율적용_step >> count_step 11385 lr 0.00041418892\n",
      "epoch_loss 0.1416 epoch_val_loss 1.0091\n"
     ]
    },
    {
     "data": {
      "application/vnd.jupyter.widget-view+json": {
       "model_id": "51eed7167f894d3c9ea73be3c6c77f2d",
       "version_major": 2,
       "version_minor": 0
      },
      "text/plain": [
       "  0%|          | 0/498 [00:00<?, ?it/s]"
      ]
     },
     "metadata": {},
     "output_type": "display_data"
    },
    {
     "name": "stdout",
     "output_type": "stream",
     "text": [
      "epoch 23 batch 0 idx 0 batch_loss1 0.1283\n",
      "epoch 23 batch 250 idx 16000 batch_loss1 0.1361\n",
      "val_batch 0\n",
      "val_batch 25\n",
      "val_batch 50\n",
      "epoch 23 epoch_val_loss1 1.0061\n",
      "Epoch 23 Epoch_변화시_학습율적용_step >> count_step 11880 lr 0.0004054682\n",
      "epoch_loss 0.1335 epoch_val_loss 1.0061\n"
     ]
    },
    {
     "data": {
      "application/vnd.jupyter.widget-view+json": {
       "model_id": "3687892d0de24b20bc0fc8799f86c9e5",
       "version_major": 2,
       "version_minor": 0
      },
      "text/plain": [
       "  0%|          | 0/498 [00:00<?, ?it/s]"
      ]
     },
     "metadata": {},
     "output_type": "display_data"
    },
    {
     "name": "stdout",
     "output_type": "stream",
     "text": [
      "epoch 24 batch 0 idx 0 batch_loss1 0.1156\n",
      "epoch 24 batch 250 idx 16000 batch_loss1 0.1285\n",
      "val_batch 0\n",
      "val_batch 25\n",
      "val_batch 50\n",
      "epoch 24 epoch_val_loss1 1.0197\n",
      "Epoch 24 Epoch_변화시_학습율적용_step >> count_step 12375 lr 0.00039727608\n",
      "epoch_loss 0.1279 epoch_val_loss 1.0197\n"
     ]
    },
    {
     "data": {
      "application/vnd.jupyter.widget-view+json": {
       "model_id": "e16268f90c1c4ff28263b861c2a2babe",
       "version_major": 2,
       "version_minor": 0
      },
      "text/plain": [
       "  0%|          | 0/498 [00:00<?, ?it/s]"
      ]
     },
     "metadata": {},
     "output_type": "display_data"
    },
    {
     "name": "stdout",
     "output_type": "stream",
     "text": [
      "epoch 25 batch 0 idx 0 batch_loss1 0.1375\n",
      "epoch 25 batch 250 idx 16000 batch_loss1 0.1232\n",
      "val_batch 0\n",
      "val_batch 25\n",
      "val_batch 50\n",
      "epoch 25 epoch_val_loss1 1.0082\n",
      "Epoch 25 Epoch_변화시_학습율적용_step >> count_step 12870 lr 0.00038956126\n",
      "epoch_loss 0.1206 epoch_val_loss 1.0082\n"
     ]
    },
    {
     "data": {
      "application/vnd.jupyter.widget-view+json": {
       "model_id": "b947b4408e654860af93895353b82fda",
       "version_major": 2,
       "version_minor": 0
      },
      "text/plain": [
       "  0%|          | 0/498 [00:00<?, ?it/s]"
      ]
     },
     "metadata": {},
     "output_type": "display_data"
    },
    {
     "name": "stdout",
     "output_type": "stream",
     "text": [
      "epoch 26 batch 0 idx 0 batch_loss1 0.1409\n",
      "epoch 26 batch 250 idx 16000 batch_loss1 0.1182\n",
      "val_batch 0\n",
      "val_batch 25\n",
      "val_batch 50\n",
      "epoch 26 epoch_val_loss1 1.018\n",
      "Epoch 26 Epoch_변화시_학습율적용_step >> count_step 13365 lr 0.00038227907\n",
      "epoch_loss 0.1176 epoch_val_loss 1.018\n"
     ]
    },
    {
     "data": {
      "application/vnd.jupyter.widget-view+json": {
       "model_id": "d24ef78ad9874837a3bc677ad0483135",
       "version_major": 2,
       "version_minor": 0
      },
      "text/plain": [
       "  0%|          | 0/498 [00:00<?, ?it/s]"
      ]
     },
     "metadata": {},
     "output_type": "display_data"
    },
    {
     "name": "stdout",
     "output_type": "stream",
     "text": [
      "epoch 27 batch 0 idx 0 batch_loss1 0.143\n",
      "epoch 27 batch 250 idx 16000 batch_loss1 0.1117\n",
      "val_batch 0\n",
      "val_batch 25\n",
      "val_batch 50\n",
      "epoch 27 epoch_val_loss1 1.0394\n",
      "Epoch 27 Epoch_변화시_학습율적용_step >> count_step 13860 lr 0.0003753906\n",
      "epoch_loss 0.1108 epoch_val_loss 1.0394\n"
     ]
    },
    {
     "data": {
      "application/vnd.jupyter.widget-view+json": {
       "model_id": "a95bb347513a4888825ff42f1b5f1eb7",
       "version_major": 2,
       "version_minor": 0
      },
      "text/plain": [
       "  0%|          | 0/498 [00:00<?, ?it/s]"
      ]
     },
     "metadata": {},
     "output_type": "display_data"
    },
    {
     "name": "stdout",
     "output_type": "stream",
     "text": [
      "epoch 28 batch 0 idx 0 batch_loss1 0.1201\n",
      "epoch 28 batch 250 idx 16000 batch_loss1 0.1068\n",
      "val_batch 0\n",
      "val_batch 25\n",
      "val_batch 50\n",
      "epoch 28 epoch_val_loss1 1.0255\n",
      "Epoch 28 Epoch_변화시_학습율적용_step >> count_step 14355 lr 0.00036886157\n",
      "epoch_loss 0.1068 epoch_val_loss 1.0255\n"
     ]
    },
    {
     "data": {
      "application/vnd.jupyter.widget-view+json": {
       "model_id": "2a6d48e4926c47b1936029effd9556a0",
       "version_major": 2,
       "version_minor": 0
      },
      "text/plain": [
       "  0%|          | 0/498 [00:00<?, ?it/s]"
      ]
     },
     "metadata": {},
     "output_type": "display_data"
    },
    {
     "name": "stdout",
     "output_type": "stream",
     "text": [
      "epoch 29 batch 0 idx 0 batch_loss1 0.1351\n",
      "epoch 29 batch 250 idx 16000 batch_loss1 0.1019\n",
      "val_batch 0\n",
      "val_batch 25\n",
      "val_batch 50\n",
      "epoch 29 epoch_val_loss1 1.035\n",
      "Epoch 29 Epoch_변화시_학습율적용_step >> count_step 14850 lr 0.00036266178\n",
      "epoch_loss 0.1019 epoch_val_loss 1.035\n",
      "history.keys() dict_keys(['epoch']) dict_keys(['30'])\n",
      "history[hpname][f'{param}']['loss'] [4.4156, 2.8226, 1.593, 0.9852, 0.7175, 0.5724, 0.4912, 0.4321, 0.3924, 0.3622, 0.3346, 0.3115, 0.2861, 0.2683, 0.2476, 0.2327, 0.217, 0.2011, 0.1866, 0.1745, 0.1632, 0.1532, 0.1416, 0.1335, 0.1279, 0.1206, 0.1176, 0.1108, 0.1068, 0.1019]\n",
      "history[hpname][f'{param}']['val_loss'] [4.0217, 2.4796, 1.711, 1.343, 1.1829, 1.0904, 1.0468, 1.0185, 0.9791, 0.9613, 0.9587, 0.9436, 0.932, 0.935, 0.9676, 0.9611, 0.9722, 0.9816, 1.0248, 1.0024, 1.0201, 1.0107, 1.0091, 1.0061, 1.0197, 1.0082, 1.018, 1.0394, 1.0255, 1.035]\n",
      "history[hpname][f'{param}']['lr'] [0.0019566594, 0.0014045831, 0.0011468373, 0.0009931902, 0.0008883363, 0.0008109364, 0.0007507812, 0.00070229155, 0.00066212675, 0.0006281486, 0.0005989162, 0.0005734186, 0.00055092276, 0.0005308825, 0.0005128812, 0.0004965951, 0.00048176802, 0.00046819434, 0.0004557069, 0.00044416814, 0.00043346375, 0.0004234977, 0.00041418892, 0.0004054682, 0.00039727608, 0.00038956126, 0.00038227907, 0.0003753906, 0.00036886157, 0.00036266178]\n"
     ]
    },
    {
     "data": {
      "image/png": "[encoded data removed]",
      "text/plain": [
       "<Figure size 432x288 with 2 Axes>"
      ]
     },
     "metadata": {
      "needs_background": "light"
     },
     "output_type": "display_data"
    },
    {
     "name": "stdout",
     "output_type": "stream",
     "text": [
      "epoch_Best_val_epoch_loss [[13, 0.932]]\n",
      "Best_hpname_param_list 1 [['epoch', []]]\n"
     ]
    }
   ],
   "source": [
    "# 하이퍼 튜닝_학습\n",
    "from tqdm import tqdm_notebook \n",
    "import tqdm\n",
    "\n",
    "\n",
    "#Hyperparameters\n",
    "n_layers= 2\n",
    "d_model= 512 #368 #512 #368\n",
    "n_heads= 8\n",
    "d_ff= 1024\n",
    "pos_len = 17\n",
    "dropout= 0.3 #0.2  #0.3 #0.2\n",
    "src_vocab_size = len(enc_tokenizer.word_index) #6167\n",
    "tgt_vocab_size = len(dec_tokenizer.word_index) #7187\n",
    "shared=True\n",
    "\n",
    "#Training Parameters\n",
    "warmup_steps = 500 #1000 #500  # 1000\n",
    "BATCH_SIZE = 64    # 건들지 말것\n",
    "EPOCHS = 30 #10 \n",
    "\n",
    "\n",
    "## Hyper param tuning : hparam 한개씩 해서,search space 구성후, loss가 제일 낮은 param을 1차 자동선택후,  번역수준을 눈으로 추가확인  \n",
    "# hpname list 설정\n",
    "hp_name_list = ['epoch'] #'EPOCHS'] \n",
    "\n",
    "# search space 설정: param 설정\n",
    "dropout_list = [0.1,0.2,0.3,0.4,0.5,0.7]\n",
    "optimizer_list = [tf.keras.optimizers.RMSprop(learning_rate),tf.keras.optimizers.Adam(learning_rate, beta_1=0.9, beta_2=0.98, epsilon=1e-9)]\n",
    "warmup_steps_list = [500, 2000] #2000,4000,6000]\n",
    "d_model_list = [128, 256, 368, 512]\n",
    "dff_list = [512, 768,1024]\n",
    "n_head_list = [4,8]\n",
    "#batchsize_list = [32,64,128]\n",
    "epoch_list= [EPOCHS]\n",
    "\n",
    "# 금번 Tuning 대상 설정\n",
    "total_hyperparam_list = [epoch_list]\n",
    "\n",
    "# 필요 list\n",
    "hyperparam_list = []\n",
    "Best_hpname_param_list = []\n",
    "\n",
    "# 학습 Histoty Dict 설정\n",
    "history={}\n",
    "\n",
    "# Hyper param Tuning 실행\n",
    "\n",
    "for ix, hpname in enumerate(hp_name_list):\n",
    "    history[hpname]={}\n",
    "    hyperparam_list = total_hyperparam_list[ix]    \n",
    "    for i, param in enumerate(hyperparam_list):\n",
    "        print(\"i\",i, \"param\",param)\n",
    "        history[hpname][f'{param}']= {'loss':[], 'val_loss':[], 'lr':[]}   #,'result':[]}\n",
    "\n",
    "        del transformer\n",
    "\n",
    "        # 트랜스포머 모델설정\n",
    "        transformer = Transformer(n_layers,\n",
    "                                  d_model,       \n",
    "                                  n_heads,\n",
    "                                  d_ff,\n",
    "                                  src_vocab_size,\n",
    "                                  tgt_vocab_size,\n",
    "                                  pos_len,\n",
    "                                  dropout,\n",
    "                                  shared=True)       \n",
    "\n",
    "        # 학습율 객체화 \n",
    "        learning_rate = LearningRateScheduler(d_model = d_model, warmup_steps = warmup_steps)\n",
    "        optimizer = tf.keras.optimizers.Adam(learning_rate, beta_1=0.9, beta_2=0.98, epsilon=1e-9) # 디폴트 beta_2=0.999,e=10−7\n",
    "        \n",
    "        # 별도 학습율 계산 함수 정의\n",
    "        def compute_lr(step,warmup_steps):\n",
    "            arg1 = step ** -0.5\n",
    "            arg2 = step * (warmup_steps ** -1.5)\n",
    "            lr= (d_model ** -0.5) * tf.math.minimum(arg1, arg2)\n",
    "            lr = lr.numpy()\n",
    "            return lr\n",
    "     \n",
    "        @tf.function()\n",
    "        def train_step(src, tgt, model, optimizer):\n",
    "            gold = tgt[:, 1:]\n",
    "            enc_mask, dec_enc_mask, dec_mask = generate_masks(src, tgt)\n",
    "\n",
    "            # 계산된 loss에 tf.GradientTape()를 적용해 학습을 진행합니다.\n",
    "            with tf.GradientTape() as tape:\n",
    "                predictions, enc_attns, dec_attns, dec_enc_attns = model(src, tgt, enc_mask, dec_enc_mask, dec_mask)\n",
    "                loss = loss_function(gold, predictions[:, :-1])\n",
    "                \n",
    "            # 최종적으로 optimizer.apply_gradients()가 사용됩니다. \n",
    "            # [[YOUR CODE]]\n",
    "            variables = model.encoder.trainable_variables + model.decoder.trainable_variables \n",
    "            gradients = tape.gradient(loss, variables)\n",
    "            optimizer.apply_gradients(zip(gradients, variables))\n",
    "            \n",
    "            return loss, enc_attns, dec_attns, dec_enc_attns \n",
    "        \n",
    "        @tf.function()\n",
    "        def valid_step(src, tgt, model):\n",
    "            gold = tgt[:, 1:]\n",
    "            enc_mask, dec_enc_mask, dec_mask = generate_masks(src, tgt)\n",
    "            \n",
    "            predictions, _, _, _ = model(src, tgt, enc_mask, dec_enc_mask, dec_mask, training=False)\n",
    "            val_loss = loss_function(gold, predictions[:, :-1])\n",
    "            \n",
    "            return val_loss    #, enc_attns, dec_attns, dec_enc_attns\n",
    "       \n",
    "        count_step = 0\n",
    "        for epoch in range(param):  #EPOCHS):\n",
    "            total_loss = 0\n",
    "            total_val_loss = 0\n",
    "                      \n",
    "            idx_list = list(range(0, enc_train.shape[0], BATCH_SIZE))\n",
    "            #random.shuffle(idx_list)\n",
    "            t = tqdm.notebook.tqdm(idx_list)\n",
    "            \n",
    "            for (batch, idx) in enumerate(t):\n",
    "                        \n",
    "                if idx in [11456,12096,13888,]:  #random_seed=119 \n",
    "                    continue\n",
    "            \n",
    "                count_step+= 1\n",
    "                batch_loss, enc_attns, dec_attns, dec_enc_attns = train_step(enc_train[idx:idx+BATCH_SIZE],\n",
    "                                           dec_train[idx:idx+BATCH_SIZE],transformer, optimizer) \n",
    "                              \n",
    "                total_loss += batch_loss   #batch_loss: 배치단위 손실이 loss function(트랜스포머는마스크않된단어수로 나눔)에서계산, \n",
    "                #===> s2s는 train_step내에서 enc_train.shape[1],즉, 단어수로 나뉘나, 트랜스포머는 마스크않된 단어수로 나뉨)\n",
    "                \n",
    "                batch_loss1 = round(total_loss.numpy() / (batch + 1),4)   # 총누적손실을 누적배치size로 나눈것,즉,배치별 평균\n",
    "                \n",
    "                ## loss 모니터\n",
    "                if batch%250 ==0:\n",
    "                    print(\"epoch\", epoch,\"batch\", batch, \"idx\", idx,\"batch_loss1\", batch_loss1)\n",
    "                               \n",
    "                t.set_description_str('Epoch %2d' % (epoch + 1))\n",
    "                t.set_postfix_str('Loss %.4f' % (batch_loss1))\n",
    "                              \n",
    "                # step기준 learning_rate\n",
    "                lr = compute_lr(count_step, warmup_steps) \n",
    "                \n",
    "                # step기준 batch 단위 loss 집계 \n",
    "                #history[hpname][f'{param}']['loss'].append(batch_loss1)\n",
    "                #history['lr'].append(optimizer.learning_rate)\n",
    "                #history['lr'].append(optimizer.learning_rate)\n",
    "                \n",
    "            # valid data \n",
    "            idx_list_val = list(range(0, enc_val.shape[0], BATCH_SIZE))\n",
    "            for (batch, idx) in enumerate(idx_list_val):    \n",
    "                \n",
    "                if batch%25 ==0:\n",
    "                    print(\"val_batch\", batch)\n",
    "                    \n",
    "                val_loss = valid_step(enc_val,dec_val,transformer)\n",
    "                \n",
    "                total_val_loss +=  val_loss      #batch_loss: 배치단위인데, 배치내에서, seq_len으로 나눈것,즉,배치내 단어별 평균손실\n",
    "                val_loss1 = round(total_val_loss.numpy() / (batch + 1),4) \n",
    "                \n",
    "                t.set_description_str('Epoch %2d' % (epoch + 1))\n",
    "                t.set_postfix_str('Loss %.4f' % (val_loss1))\n",
    "            \n",
    "            ## val_loss 모니터\n",
    "            print(\"epoch\", epoch,\"epoch_val_loss1\", val_loss1)\n",
    "                       \n",
    "            print(\"Epoch\",epoch, \"Epoch_변화시_학습율적용_step >> count_step\",count_step, \"lr\", lr)    \n",
    "            \n",
    "            # epoch기준 loss 및 lr 집계   \n",
    "            print('epoch_loss', batch_loss1, 'epoch_val_loss',val_loss1)\n",
    "            history[hpname][f'{param}']['loss'].append(batch_loss1)\n",
    "            history[hpname][f'{param}']['lr'].append(lr)\n",
    "            history[hpname][f'{param}']['val_loss'].append(val_loss1)\n",
    "                             \n",
    "        # loss 그래프 \n",
    "        print(\"history.keys()\",history.keys(), history[hpname].keys() ) \n",
    "        print(\"history[hpname][f'{param}']['loss']\", history[hpname][f'{param}']['loss'])\n",
    "        print(\"history[hpname][f'{param}']['val_loss']\",history[hpname][f'{param}']['val_loss'])\n",
    "        print(\"history[hpname][f'{param}']['lr']\", history[hpname][f'{param}']['lr'])\n",
    "               \n",
    "        loss = history[hpname][f'{param}']['loss']\n",
    "        val_loss = history[hpname][f'{param}']['val_loss']\n",
    "        \n",
    "        lr = history[hpname][f'{param}']['lr']\n",
    "        epochs = range(len(loss))\n",
    "\n",
    "        # LOSS\n",
    "        plt.subplot(1,2,1)\n",
    "        plt.plot(epochs, loss, label='Train loss')\n",
    "        plt.plot(epochs, val_loss, label='Val loss')\n",
    "        plt.title(hpname +'_'+  f'{param}_Transformer_loss graph')\n",
    "        plt.xlabel('Epochs')\n",
    "        plt.ylabel('Loss')\n",
    "        plt.legend()\n",
    "\n",
    "        # Lr\n",
    "        #plt.clf()   # 그림을 초기화합니다\n",
    "        plt.subplot(1,2,2)\n",
    "        plt.plot(epochs, lr, label='lr')\n",
    "        plt.title(hpname +'_'+   f'{param}_Transformer_learning_rate graph')\n",
    "        plt.xlabel('Epochs')\n",
    "        plt.ylabel('lr')\n",
    "        plt.legend()\n",
    "        plt.tight_layout()\n",
    "        plt.show()\n",
    "       \n",
    "        \n",
    "    # Best_param 선택 \n",
    "    \n",
    "    #Best_loss =  [[k1,v1] for k1,v1 in history[hpname].items() if v1['loss'][-1] == np.min([v['loss'][-1] for k,v in history[hpname].items()])][0] \n",
    "    Best_val_epoch_loss = [[i+1,v] for i,v in enumerate(history[hpname][f'{param}']['val_loss']) if v == np.min(history[hpname][f'{param}']['val_loss'])] \n",
    "    print(hpname+\"_Best_val_epoch_loss\", Best_val_epoch_loss)   # epoch는 0부터시작하는 숫자\n",
    "   \n",
    "    # hpname별 Best_param 집계\n",
    "    Best_hpname_param_list.append([hpname, Best_val_loss])\n",
    "    \n",
    "print(\"Best_hpname_param_list\",len(Best_hpname_param_list),Best_hpname_param_list)\n",
    "                                   \n",
    "# 저장\n",
    "dfhistory = pd.DataFrame(history)\n",
    "dfhistory.to_pickle(f'/aiffel/aiffel/transformer/data/History_{hpname}')\n",
    "\n",
    "df = pd.DataFrame(Best_hpname_param_list)  \n",
    "df.to_pickle(f'/aiffel/aiffel/transformer/data/Best_hpname_param_list_{hpname}')\n"
   ]
  },
  {
   "cell_type": "markdown",
   "id": "9409bd86",
   "metadata": {},
   "source": [
    "   \n",
    "#### Step 7. 성능 측정하기\n",
    "챗봇의 경우, 올바른 대답을 하는지가 중요한 평가 지표입니다. 올바른 답변을 하는지 눈으로 확인할 수 있겠지만, 많은 데이터의 경우는 모든 결과를 확인할 수 없을 것입니다. 주어진 질문에 적절한 답변을 하는지 확인하고, BLEU Score를 계산하는 calculate_bleu() 함수도 적용해 보세요.\n"
   ]
  },
  {
   "cell_type": "markdown",
   "id": "7fe28bb8",
   "metadata": {},
   "source": [
    "```\n",
    "# 예문\n",
    "1. 지루하다, 놀러가고 싶어.\n",
    "2. 오늘 일찍 일어났더니 피곤하다.\n",
    "3. 간만에 여자친구랑 데이트 하기로 했어.\n",
    "4. 집에 있는다는 소리야.\n",
    "\n",
    "---\n",
    "\n",
    "# 제출\n",
    "\n",
    "Translations\n",
    "> 1. 잠깐 쉬 어도 돼요 . <end>\n",
    "> 2. 맛난 거 드세요 . <end>\n",
    "> 3. 떨리 겠 죠 . <end>\n",
    "> 4. 좋 아 하 면 그럴 수 있 어요 . <end>\n",
    "```"
   ]
  },
  {
   "cell_type": "code",
   "execution_count": 81,
   "id": "7edbf848",
   "metadata": {},
   "outputs": [],
   "source": [
    "test_sentence = ['지루하다, 놀러가고 싶어.',\n",
    "            '오늘 일찍 일어났더니 피곤하다.',\n",
    "            '간만에 여자친구랑 데이트 하기로 했어.',\n",
    "            '집에 있는다는 소리야.']"
   ]
  },
  {
   "cell_type": "code",
   "execution_count": 82,
   "id": "dd029740",
   "metadata": {},
   "outputs": [],
   "source": [
    "#tokenizer = Mecab()\n",
    "\n",
    "def src_tokenize(src, tokenizer,  enc_tokenizer, dec_tokenizer, maxlen= 17):\n",
    "    \n",
    "    src_id_sentences = []    \n",
    "    \n",
    "    for i, sen in enumerate(src):\n",
    "        # 전처리\n",
    "        src_sentence = preprocess_sentence(sen)    \n",
    "        \n",
    "        # 형태소분석기로 단어 토큰화\n",
    "        src_token = tokenizer.morphs(src_sentence) \n",
    "        print(\"src_token\",src_token)\n",
    "        # 정수인덱스 벡터라이즈\n",
    "        src_id_token = [enc_tokenizer.word_index[word] for word in src_token]\n",
    "        print(\"src_id_token\",src_id_token)\n",
    "        # maxlen 이하 단어갖은 문장만 append\n",
    "        if len(src_id_token) <= maxlen:\n",
    "            src_id_sentences.append(src_id_token)\n",
    "          \n",
    "    return  src_id_sentences\n"
   ]
  },
  {
   "cell_type": "code",
   "execution_count": 83,
   "id": "f4fdf6ad",
   "metadata": {},
   "outputs": [],
   "source": [
    "def translate(tokens, model, enc_tokenizer, dec_tokenizer, maxlen = 17):\n",
    "    \n",
    "    padded_tokens = tf.keras.preprocessing.sequence.pad_sequences([tokens],\n",
    "                                                           maxlen=maxlen,\n",
    "                                                           padding='post')   #[tokens],\n",
    "    ids = []\n",
    "    output = tf.expand_dims([dec_tokenizer.word_index['<start>']], 0)   \n",
    "    for i in range(maxlen):\n",
    "        enc_padding_mask, combined_mask, dec_padding_mask = generate_masks(padded_tokens, output)\n",
    "\n",
    "        predictions, _, _, _ = model(padded_tokens, \n",
    "                                      output,\n",
    "                                      enc_padding_mask,\n",
    "                                      combined_mask,\n",
    "                                      dec_padding_mask)\n",
    "\n",
    "        predicted_id = tf.argmax(tf.math.softmax(predictions, axis=-1)[0, -1]).numpy().item()\n",
    "\n",
    "        if dec_tokenizer.word_index['<end>'] == predicted_id:\n",
    "            result = [dec_tokenizer.index_word[id] for id in ids]  \n",
    "            return result\n",
    "\n",
    "        ids.append(predicted_id)\n",
    "        output = tf.concat([output, tf.expand_dims([predicted_id], 0)], axis=-1)\n",
    "\n",
    "    result =  [dec_tokenizer.index_word[id] for id in ids]    \n",
    "    return result\n"
   ]
  },
  {
   "cell_type": "code",
   "execution_count": 84,
   "id": "297770e4",
   "metadata": {},
   "outputs": [],
   "source": [
    "def calculate_bleu(reference, candidate, weights=[0.25, 0.25, 0.25, 0.25]):\n",
    "    return sentence_bleu([reference],\n",
    "                         candidate,\n",
    "                         weights=weights,\n",
    "                         smoothing_function=SmoothingFunction().method1)  # smoothing_function 적용\n"
   ]
  },
  {
   "cell_type": "markdown",
   "id": "bb1169fe",
   "metadata": {},
   "source": [
    "#### 테스트문장으로 번역 실행"
   ]
  },
  {
   "cell_type": "code",
   "execution_count": 85,
   "id": "d823d31a",
   "metadata": {},
   "outputs": [
    {
     "name": "stdout",
     "output_type": "stream",
     "text": [
      "src_token ['지루', '하', '다', ',', '놀', '러', '가', '고', '싶', '어', '.']\n",
      "src_id_token [900, 8, 16, 263, 185, 159, 10, 12, 18, 9, 7]\n",
      "src_token ['오늘', '일찍', '일어났', '더니', '피곤', '하', '다', '.']\n",
      "src_id_token [65, 752, 1199, 313, 567, 8, 16, 7]\n",
      "src_token ['간만에', '여자', '친구', '랑', '데이트', '하', '기', '로', '했', '어', '.']\n",
      "src_id_token [1619, 39, 24, 104, 233, 8, 61, 96, 43, 9, 7]\n",
      "src_token ['집', '에', '있', '는다는', '소리', '야', '.']\n",
      "src_id_token [156, 25, 23, 850, 586, 45, 7]\n",
      "que_id_sentences [[900, 8, 16, 263, 185, 159, 10, 12, 18, 9, 7], [65, 752, 1199, 313, 567, 8, 16, 7], [1619, 39, 24, 104, 233, 8, 61, 96, 43, 9, 7], [156, 25, 23, 850, 586, 45, 7]] 4\n",
      "\n",
      "answer_results [['저', '도', '당신', '이', '된다면', '그런', '것', '똑같', '아요', '.'], ['풀릴', '거', '예요', '.'], ['금상첨화', '네요', '.'], ['청소기', '은가요', '이', '요', '.']]\n"
     ]
    }
   ],
   "source": [
    "# 토크나이즈\n",
    "que_id_sentences = src_tokenize(test_sentence, tokenizer,  enc_tokenizer, dec_tokenizer, maxlen=17)      \n",
    "print(\"que_id_sentences\",que_id_sentences, len(que_id_sentences))  \n",
    "print()\n",
    "\n",
    "# 번역\n",
    "answer_results =[]\n",
    "for tokens in que_id_sentences:\n",
    "    ans_result = translate(tokens, transformer, enc_tokenizer, dec_tokenizer, maxlen=17)\n",
    "    answer_results.append(ans_result)\n",
    "print(\"answer_results\", answer_results)\n"
   ]
  },
  {
   "cell_type": "markdown",
   "id": "bbf0f353",
   "metadata": {},
   "source": [
    "#### BLEU : calculate_bleu\n",
    "\n",
    "#### 대화챗봇의 응답에대한 BLUE 평가에대한 의문점: \n",
    "**1. 챗봇의 응답은 다양한데, 그 다양한 응답의 reference를 question으로 할수도 없고, answer reference를 주관적으로 만들어야한다는 것인데, 번역문도 아니고, reference를 어떻게 구하나요???**\n",
    "\n",
    "**2. 주관적으로 창작한 응답 reference 를 각자 몇 문장 만들어서 객관적 일반화, 정량화하기위한 BLEU를 계산한다는 것이 타당한가요????, BLEU는 번역시에 해당되는 평가아닌가요???**"
   ]
  },
  {
   "cell_type": "code",
   "execution_count": null,
   "id": "61b10c88",
   "metadata": {},
   "outputs": [],
   "source": [
    "print(\"BLEU-1:\", calculate_bleu(reference, candidate, weights=[1, 0, 0, 0]))\n",
    "print(\"BLEU-2:\", calculate_bleu(reference, candidate, weights=[0, 1, 0, 0]))\n",
    "print(\"BLEU-3:\", calculate_bleu(reference, candidate, weights=[0, 0, 1, 0]))\n",
    "print(\"BLEU-4:\", calculate_bleu(reference, candidate, weights=[0, 0, 0, 1]))\n",
    "\n",
    "print(\"\\nBLEU-Total:\", calculate_bleu(reference, candidate))"
   ]
  },
  {
   "cell_type": "code",
   "execution_count": null,
   "id": "3cf11d54",
   "metadata": {},
   "outputs": [],
   "source": []
  },
  {
   "cell_type": "code",
   "execution_count": null,
   "id": "5be0bd60",
   "metadata": {},
   "outputs": [],
   "source": []
  },
  {
   "cell_type": "markdown",
   "id": "02293244",
   "metadata": {},
   "source": [
    "## 회고"
   ]
  },
  {
   "cell_type": "markdown",
   "id": "87d17152",
   "metadata": {},
   "source": [
    "본 프로젝트는 한글데이터로 대화할수 있도록 transformer를 학습시켜서 chatBot을 만드는 프로젝트입니다.\n",
    "\n",
    "#### Step 1. 데이터 다운로드\n",
    "songys/Chatbot_data 를 다운받아서,  pandas를 통해서, 읽어 온후, 11823개의 질문과 답변을 각각 questions, answers 변수에 나눠서 \n",
    "저장하였습니다.\n",
    "\n",
    "#### Step 2. 데이터 정제\n",
    "영문자와 한글, 숫자, 그리고 주요 특수문자를 제외하곤 정규식을 활용하여 모두 제거하는등 전처리를 위한  preprocess_sentence() 함수를 만들었습니다.\n",
    "\n",
    "#### Step 3. 데이터 토큰화\n",
    "build_corpus() 함수를 만들었는데, 이것은 데이터를 preprocess_sentence() 함수로 정제하고, Mecab으로 형태소분석을 하여 \n",
    "단어토큰화를 하고,일정길이 이하 문장만 선택할수 있는 기능을 위한 함수입니다.\n",
    "maxlen을 구하기 위한 데이터 분포분석을 통하여, 문장당 평균 단어수가 7.5개, 표준편차 3.5로서, \n",
    "평균에 표준편차의 2배를 더해서 얻은 값 15를 maxlen으로 정하고서, build_corpus() 함수를 통해서,1차적으로 정제된 데이터를 구했습니다. \n",
    "\n",
    "#### Step 4. Augmentation\n",
    "주어진 데이터는 1만 개가량으로 적은 편이라서,데이터를 증강하였습니다.\n",
    "한국어로 사전 훈련된 Embedding 모델을 다운로드해서, 동의어및 유의어로 기존 단어를 대체할수 있는 Lexical Substitution을 \n",
    "실제로 적용해서 데이터를 Augmentation 했습니다.   \n",
    "이를 위해서, data_augmentation 함수와 Make_CleanAugmenetDataSet_and_Remove_Nan함수를 만들었고, 이것을 통하여,\n",
    "augmentation data pair(쌍)정렬 및 ans원본+ que원본, ans증강 + que증강, ans원본 + que증강,ans증강 + que원본의 데이터를 각각만들고서,\n",
    "통합데이터완성하여, 각각 최초 11823개를 ===> 중복제거,15단어이상제거등으로 10960개 ==> 증강 완성으로 questions, answers \n",
    "각각 35347개 문장으로 만들어서 약 3.4배정도의 데이터를 생성했습니다\n",
    "\n",
    "#### Step 5. 데이터 벡터화\n",
    "ans_corpus 에 start토큰과 end토큰을 추가하고서,tokenize함수를 만들었는데, 이는 이미 단어토큰화된question, answer data를\n",
    "tf.keras.preprocessing.text.Tokenizer를 통해서, 정수인덱스로 벡터화하고, 단어사전을 만들어서, pad,start,end,unk를 보정처리하고서,\n",
    "전체적으로 벡터화된 문장들을 pad_sequence를 통해서, padding처리를 끝으로 벡터화가 완료되었습니다.\n",
    "\n",
    "벡터화후 maxlen은 15개에서 17개로 증가되었습니다. 이는 Trandformer 모델의 인자인 pos_len에 적용할 예정입니다.\n",
    "\n",
    "이 데이터들을 que,ans 각각 train data와 valid data로 9:1의 비율로 나누었습니다. 나누기전에 랜덤 셔플(퍼뮤테이션)해서, 증강된 데이터가 \n",
    "   골고루 섞이도록 하였습니다.\n",
    "\n",
    "#### Step 6. 훈련하기\n",
    "앞서 고잉딥 12에서 만든 번역기 모델인 Transformer 를 그대로 사용해도 되어서, 그대로 사용하여, 모델구성은 쉽게\n",
    "처리되었습니다.\n",
    "\n",
    "해당모델로 train data, valid데이터로 검증을 하며 학습을 시켰는데, 하이퍼파라메터는 전체적으로 튜닝을 했는데,\n",
    "warmup_steps, dropout, d_model에서, LMS교재의 Hyper param보다 Loss가 축소되어서, 변경해서, 학습시켰습니다.\n",
    "학습결과는 30회 학습후에 train loss 0.1019, valid loss 1.035 였습니다. val_loss는 Plot을 보면 12~16 epoch 사이에서\n",
    "0.9 까지 내려갔으나, 이후 횡보하여, 30epoch를 최종 epoch로 선택하였습니다.\n",
    "\n",
    "loss가 Nan이 난 원인 찾기위해 다양한 시도를 해볼수 있었으나, 시간이 많이 소요되어 커리큘럼상 진도따라잡기에 빡빡한 시간이었습니다.\n",
    "\n",
    "#### step 7. 성능평가\n",
    "학습결과를 평가해보면, LMS교재상의 예문을 사용하였는데,\n",
    "\n",
    "입력 Question: ['지루', '하', '다', ',', '놀', '러', '가', '고', '싶', '어', '.']\n",
    "답변 Answer: ['저', '도', '당신', '이', '된다면', '그런', '것', '똑같', '아요', '.'] \n",
    "    \n",
    "입력 Question: ['오늘', '일찍', '일어났', '더니', '피곤', '하', '다', '.']\n",
    "답변 Answer:  ['풀릴', '거', '예요', '.']\n",
    "    \n",
    "입력 Question: ['간만에', '여자', '친구', '랑', '데이트', '하', '기', '로', '했', '어', '.']\n",
    "답변 Answer:   ['금상첨화', '네요', '.']\n",
    "    \n",
    "입력 Question: ['집', '에', '있', '는다는', '소리', '야', '.']\n",
    "답변 Answer:   ['청소기', '은가요', '이', '요', '.']\n",
    "    \n",
    "질문에 대한 트랜스포머챗봇의 응답이 앞의 3가지는 그런대로 괜찮습니다, 4번째는 청소기를 가지고 문장을 만들려다가 잘않된 모양새인데,\n",
    "그런대로 괜찮은 듯 싶습니다.\n",
    "\n",
    "그런데, 챗봇의 응답에대한 평가를 BLEU로 하기는 타당해보이지를 않습니다. 번역시에 번역한 문장이 사람번역가가 한 번역과 n gram기준\n",
    "으로 겹치는 단어를 찾는 평가가 챗봇이 응답한 것에 적용한다는 것은 기준없는 정량화로 보여, 타당해 보이지 않습니다.\n",
    "BLEU는 비교기준(reference)이 객관적이라야 하는데, 챗봇응답은  n gram으로 비교할 대상이 범위가 너무 넓습니다.\n",
    "BLEU는 번역기 성능평가에 적합한것 같습니다.\n",
    "\n",
    "종합적으로 볼때,  트랜스포머로 인해 GPT가 만들어졌다는 것이 이해가 되었고, 이 모델의 핵심적 아이디어 구조의 틀을 유지한채로\n",
    "내부의 부족한 부분들을 더 많은 시간을 투자하며 바꾸어 나간다면, 자연어처리분야외의 분야에서도, 잘 적용되는 좋은 모델을\n",
    "만들어 응용해 나갈수 있을 것 같습니다.\n",
    "\n",
    "    \n"
   ]
  },
  {
   "cell_type": "code",
   "execution_count": null,
   "id": "46976a1b",
   "metadata": {},
   "outputs": [],
   "source": []
  },
  {
   "cell_type": "code",
   "execution_count": null,
   "id": "e71e1ea2",
   "metadata": {},
   "outputs": [],
   "source": []
  },
  {
   "cell_type": "code",
   "execution_count": null,
   "id": "b9cfea0e",
   "metadata": {},
   "outputs": [],
   "source": [
    "루브릭\n",
    "\n",
    "아래의 기준을 바탕으로 프로젝트를 평가합니다.\n",
    "\n",
    "평가문항\t상세기준\n",
    "1. 챗봇 훈련데이터 전처리 과정이 체계적으로 진행되었는가?\n",
    "\n",
    "챗봇 훈련데이터를 위한 전처리와 augmentation이 적절히 수행되어 3만개 가량의 훈련데이터셋이 구축되었다.\n",
    "2. transformer 모델을 활용한 챗봇 모델이 과적합을 피해 안정적으로 훈련되었는가?\n",
    "\n",
    "과적합을 피할 수 있는 하이퍼파라미터 셋이 적절히 제시되었다.\n",
    "3. 챗봇이 사용자의 질문에 그럴듯한 형태로 답하는 사례가 있는가?\n",
    "\n",
    "주어진 예문을 포함하여 챗봇에 던진 질문에 적절히 답하는 사례가 제출되었다."
   ]
  },
  {
   "cell_type": "code",
   "execution_count": null,
   "id": "c1db91c0",
   "metadata": {},
   "outputs": [],
   "source": []
  },
  {
   "cell_type": "code",
   "execution_count": null,
   "id": "39424c7f",
   "metadata": {},
   "outputs": [],
   "source": []
  }
 ],
 "metadata": {
  "kernelspec": {
   "display_name": "Python 3 (ipykernel)",
   "language": "python",
   "name": "python3"
  },
  "language_info": {
   "codemirror_mode": {
    "name": "ipython",
    "version": 3
   },
   "file_extension": ".py",
   "mimetype": "text/x-python",
   "name": "python",
   "nbconvert_exporter": "python",
   "pygments_lexer": "ipython3",
   "version": "3.9.7"
  }
 },
 "nbformat": 4,
 "nbformat_minor": 5
}
