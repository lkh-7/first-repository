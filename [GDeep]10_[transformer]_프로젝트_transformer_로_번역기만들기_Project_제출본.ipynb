{
 "cells": [
  {
   "cell_type": "markdown",
   "id": "db073a8d",
   "metadata": {},
   "source": [
    "## 10-5. 프로젝트: 더 멋진 번역기 만들기"
   ]
  },
  {
   "cell_type": "code",
   "execution_count": 1,
   "id": "0e97f69e",
   "metadata": {},
   "outputs": [],
   "source": [
    "#!cp -r /aiffel/data  /aiffel/aiffel/transformer"
   ]
  },
  {
   "cell_type": "markdown",
   "id": "8e104f88",
   "metadata": {},
   "source": [
    "#### 라이브러리 버전을 확인해 봅니다.\n",
    "사용할 라이브러리 버전을 둘러봅시다."
   ]
  },
  {
   "cell_type": "code",
   "execution_count": 1,
   "id": "f077f3b5",
   "metadata": {},
   "outputs": [
    {
     "name": "stdout",
     "output_type": "stream",
     "text": [
      "2.6.0\n",
      "1.21.4\n",
      "3.4.3\n"
     ]
    }
   ],
   "source": [
    "import tensorflow\n",
    "import numpy\n",
    "import matplotlib\n",
    "\n",
    "print(tensorflow.__version__)\n",
    "print(numpy.__version__)\n",
    "print(matplotlib.__version__)"
   ]
  },
  {
   "cell_type": "code",
   "execution_count": 2,
   "id": "abf66282",
   "metadata": {},
   "outputs": [],
   "source": [
    "import os,sys,time,copy\n",
    "import tensorflow as tf\n",
    "import numpy as np\n",
    "import pandas as pd\n",
    "import matplotlib.pyplot as plt\n",
    "import io\n",
    "import re\n",
    "import random"
   ]
  },
  {
   "cell_type": "code",
   "execution_count": 3,
   "id": "e6367316",
   "metadata": {},
   "outputs": [
    {
     "data": {
      "text/plain": [
       "'/usr/share/fonts/truetype/nanum/NanumBarunGothic.ttf'"
      ]
     },
     "execution_count": 3,
     "metadata": {},
     "output_type": "execute_result"
    }
   ],
   "source": [
    "# plot 시 한글처리\n",
    "import matplotlib as mpl\n",
    "import matplotlib.font_manager as fm\n",
    "\n",
    "%config InlineBackend.figure_format = 'retina'\n",
    " \n",
    "fontpath = '/usr/share/fonts/truetype/nanum/NanumBarunGothic.ttf'\n",
    "font = fm.FontProperties(fname=fontpath, size=9)\n",
    "plt.rc('font', family='NanumBarunGothic') \n",
    "mpl.font_manager.findfont(font)\n"
   ]
  },
  {
   "cell_type": "markdown",
   "id": "e3ce1bd5",
   "metadata": {},
   "source": [
    "#### Step 1. 데이터 다운로드 (클라우드 유저용)\n",
    "아래 링크에서 korean-english-park.train.tar.gz 를 사용할 예정입니다. 다운로드할 필요는 없습니다.\n",
    "\n",
    "* [jungyeul/korean-parallel-corpora](https://github.com/jungyeul/korean-parallel-corpora/tree/master/korean-english-news-v1)\n",
    "\n",
    "☁️클라우드 환경에서는 위 데이터를 미리 준비해 놓았으니 연결만 시켜줍시다. 우측 하단의 Cloud shell을 열어주세요.\n",
    "아래와 같이 공유 디렉토리에 저장된 데이터를 가리키는 심볼릭 링크를 생성해 주시면 됩니다.\n",
    "```\n",
    "$ ln -s ~/data ~/aiffel/transformer/data\n",
    "```"
   ]
  },
  {
   "cell_type": "markdown",
   "id": "7bcf5466",
   "metadata": {},
   "source": [
    "#### Step 2. 데이터 정제 및 토큰화\n",
    "1. set 데이터형이 중복을 허용하지 않는다는 것을 활용해 중복된 데이터를 제거하도록 합니다. 데이터의 병렬 쌍이 흐트러지지 않게 주의하세요! 중복을 제거한 데이터를 cleaned_corpus 에 저장합니다."
   ]
  },
  {
   "cell_type": "code",
   "execution_count": 4,
   "id": "20bcc524",
   "metadata": {},
   "outputs": [
    {
     "name": "stdout",
     "output_type": "stream",
     "text": [
      "94123 94123\n",
      "cleaned_corpus ['두바이 해변 성관계 英 커플 보석으로 석방    `Sex on beach` couple free on bail in Dubai\\n', '우리는 희생자와 그 유가족들 그리고 미국민 들에게 깊은 애도를 표한다.” 라고 말했다.    \"We convey deep condolences to victims, families and the American people.\\n'] 78968\n",
      "결측치 개수 cleaned_corpus    0\n",
      "dtype: int64\n",
      "cleaned_corpus ['두바이 해변 성관계 英 커플 보석으로 석방    `Sex on beach` couple free on bail in Dubai\\n', '우리는 희생자와 그 유가족들 그리고 미국민 들에게 깊은 애도를 표한다.” 라고 말했다.    \"We convey deep condolences to victims, families and the American people.\\n'] 78968\n",
      "저장된 cleaned_corpus 로드후 확인:  ['두바이 해변 성관계 英 커플 보석으로 석방    `Sex on beach` couple free on bail in Dubai', '우리는 희생자와 그 유가족들 그리고 미국민 들에게 깊은 애도를 표한다.” 라고 말했다.    \"We convey deep condolences to victims, families and the American people.']\n",
      "중복 맟 결측치 제거후 문장개수:  78968\n"
     ]
    }
   ],
   "source": [
    "data_dir = os.getenv('HOME')+'/aiffel/transformer/data'\n",
    "kor_path = data_dir+\"/korean-english-park.train.ko\"\n",
    "eng_path = data_dir+\"/korean-english-park.train.en\"\n",
    "\n",
    "# 데이터 정제 및 토큰화\n",
    "def clean_corpus(kor_path, eng_path):\n",
    "    with open(kor_path, \"r\") as f: kor = f.read().splitlines()\n",
    "    with open(eng_path, \"r\") as f: eng = f.read().splitlines()\n",
    "    assert len(kor) == len(eng)\n",
    "\n",
    "    # [[YOUR CODE]]\n",
    "    print(len(kor), len(eng))    \n",
    "    cleaned_corpus = list(set(zip(kor,eng)))\n",
    "    # 문장별로 튜플을 풀어서 str 로 전환: 한개의 문장내 한글 vs 영어는 공백4칸으로 구분, 문장별 구분은 '\\n'으로 구분\n",
    "    cleaned_corpus = [line[0] + ' '*4 + line[1] +'\\n' for line in cleaned_corpus]\n",
    "    print(\"cleaned_corpus\",cleaned_corpus[:2], len(cleaned_corpus))\n",
    "   \n",
    "    return cleaned_corpus\n",
    "\n",
    "cleaned_corpus = clean_corpus(kor_path, eng_path)\n",
    "\n",
    "#결측치체크 및 제거\n",
    "# 결측치 체크위해 DataFrame만들기: \n",
    "df = pd.DataFrame({'cleaned_corpus': cleaned_corpus}) \n",
    "# 결측치제거 : 1개라도 있으면, 해당행 전체 제거\n",
    "print(\"결측치 개수\",df.isnull().sum())\n",
    "if df.isnull().any().any():\n",
    "    df.dropna(how='any',inplace=True)\n",
    "    print(\"결측치제거후 결측치 여부\",df.isnull().any().any())     \n",
    "# 원래의 cleaned_corpus 형태로 변경\n",
    "cleaned_corpus = [x[0] for x in df.values.tolist()]\n",
    "print(\"cleaned_corpus\",cleaned_corpus[:2], len(cleaned_corpus))\n",
    "\n",
    "# 저장\n",
    "with open(os.getenv('HOME')+'/aiffel/transformer/cleaned_corpus/cleaned_corpus', 'w') as f:  \n",
    "        for line in cleaned_corpus:\n",
    "            #line = line[0]+' '*4 + line[1] + '\\n'\n",
    "            f.write(line)\n",
    "            \n",
    "# 저장여부 확인\n",
    "with open(os.getenv('HOME')+'/aiffel/transformer/cleaned_corpus'+ '/cleaned_corpus', \"r\") as f:    \n",
    "    cleaned_corpus_check = f.read().splitlines()    # \\n 떼어 놓고, line별 구분됨 \n",
    "    \n",
    "print(\"저장된 cleaned_corpus 로드후 확인: \", cleaned_corpus_check[:2])\n",
    "print(\"중복 맟 결측치 제거후 문장개수: \", len(cleaned_corpus))   \n"
   ]
  },
  {
   "cell_type": "markdown",
   "id": "dd8f728c",
   "metadata": {},
   "source": [
    "2. 정제 함수를 아래 조건을 만족하게 정의하세요.\n",
    ">\n",
    "> * 모든 입력을 소문자로 변환합니다.\n",
    "> * 알파벳, 문장부호, 한글만 남기고 모두 제거합니다.\n",
    "> * 문장부호 양옆에 공백을 추가합니다.\n",
    "> * 문장 앞뒤의 불필요한 공백을 제거합니다.\n",
    ">"
   ]
  },
  {
   "cell_type": "code",
   "execution_count": 5,
   "id": "e48ee335",
   "metadata": {},
   "outputs": [],
   "source": [
    "def preprocess_sentence(sentence, mecab_eng = False):\n",
    "    \n",
    "    # [[YOUR CODE]]\n",
    "    sentence = sentence.lower().strip()\n",
    "    sentence = re.sub(r\"([?.!,])\", r\" \\1 \", sentence)\n",
    "    sentence = re.sub(r'[\" \"]+', \" \", sentence)\n",
    "    sentence = re.sub(r\"[^0-9ㄱ-ㅎㅏ-ㅣ가-힣a-zA-Z?.!,]+\", \" \", sentence)\n",
    "    sentence = sentence.strip()\n",
    "    \n",
    "    if mecab_eng == True:\n",
    "        sentence =  '<BOS> ' + sentence + ' <EOS>'\n",
    "        \n",
    "    return sentence\n"
   ]
  },
  {
   "cell_type": "markdown",
   "id": "5775554e",
   "metadata": {},
   "source": [
    "문장 알파벳길이별 분포체크:  분포도 상 특이한 이상치 없슴"
   ]
  },
  {
   "cell_type": "code",
   "execution_count": 6,
   "id": "b1e6ef42",
   "metadata": {},
   "outputs": [
    {
     "name": "stdout",
     "output_type": "stream",
     "text": [
      "kor_max 377\n"
     ]
    },
    {
     "data": {
      "image/png": "[encoded data removed]",
      "text/plain": [
       "<Figure size 432x288 with 1 Axes>"
      ]
     },
     "metadata": {
      "image/png": {
       "height": 265,
       "width": 379
      },
      "needs_background": "light"
     },
     "output_type": "display_data"
    },
    {
     "name": "stdout",
     "output_type": "stream",
     "text": [
      "eng_max 606\n"
     ]
    },
    {
     "data": {
      "image/png": "[encoded data removed]",
      "text/plain": [
       "<Figure size 432x288 with 1 Axes>"
      ]
     },
     "metadata": {
      "image/png": {
       "height": 265,
       "width": 379
      },
      "needs_background": "light"
     },
     "output_type": "display_data"
    },
    {
     "name": "stdout",
     "output_type": "stream",
     "text": [
      "kor ['두바이 해변 성관계 英 커플 보석으로 석방', '우리는 희생자와 그 유가족들 그리고 미국민 들에게 깊은 애도를 표한다.” 라고 말했다.', '이라크 정부는 민병대의 철수를 반겼으며 누리 알-말리키 이라크 총리는 “알-사드르가 옳은 결정을 내렸다고 이 지역의 평화와 안정을 위해 함께 노력했으면 한다”고 말했다.']\n",
      "eng ['`Sex on beach` couple free on bail in Dubai\\n', '\"We convey deep condolences to victims, families and the American people.\\n', \"Al-Sadr's political movement holds 30 seats in Iraq's 275-member parliament and was once a partner in al-Maliki's ruling coalition. The party quit the government in 2007 after al-Maliki refused to demand a deadline for the withdrawal of U.S. troops.\\n\"]\n"
     ]
    }
   ],
   "source": [
    "raw_kor_corpus = []\n",
    "raw_eng_corpus = []\n",
    "\n",
    "for pair in cleaned_corpus:\n",
    "    raw_kor, raw_eng = pair.split(\" \"*4)  \n",
    "    raw_kor_corpus.append(raw_kor)\n",
    "    raw_eng_corpus.append(raw_eng)  # 아래 코드에서 set_encode_extra_options(\"bos:eos\")으로 자동으로 '<BOS>', '<EOS>' 붙음\n",
    "\n",
    "## 문장길이별 분포 \n",
    "korlen = [len(x) for x in raw_kor_corpus]\n",
    "kor_max= np.max(korlen)\n",
    "print(\"kor_max\", kor_max)\n",
    "plt.hist(korlen, bins= 100)\n",
    "plt.title(\"kor\")\n",
    "plt.show()\n",
    "\n",
    "englen = [len(x) for x in raw_eng_corpus]\n",
    "eng_max= np.max(englen)\n",
    "print(\"eng_max\", eng_max)\n",
    "plt.hist(englen, bins= 100, color='red')\n",
    "plt.title(\"eng\")\n",
    "plt.show()\n",
    "\n",
    "## sample\n",
    "print(\"kor\",raw_kor_corpus[:3])\n",
    "print(\"eng\",raw_eng_corpus[:3])"
   ]
  },
  {
   "cell_type": "code",
   "execution_count": null,
   "id": "cdf3bce7",
   "metadata": {},
   "outputs": [],
   "source": []
  },
  {
   "cell_type": "markdown",
   "id": "96285606",
   "metadata": {},
   "source": [
    "3. 한글 말뭉치 kor_corpus 와 영문 말뭉치 eng_corpus 를 각각 분리한 후, 정제하여 토큰화를 진행합니다! 토큰화에는 Sentencepiece를 활용하세요. 첨부된 공식 사이트를 참고해 아래 조건을 만족하는 generate_tokenizer() 함수를 정의합니다. 최종적으로 ko_tokenizer 과 en_tokenizer 를 얻으세요. en_tokenizer에는 set_encode_extra_options(\"bos:eos\") 함수를 실행해 타겟 입력이 문장의 시작 토큰과 끝 토큰을 포함할 수 있게 합니다.\n",
    "* [google/sentencepiece](https://github.com/google/sentencepiece)\n",
    "\n",
    "단어 사전을 매개변수로 받아 원하는 크기의 사전을 정의할 수 있게 합니다. (기본: 20,000)   \n",
    "학습 후 저장된 **model** 파일을 **SentencePieceProcessor() 클래스에 Load()** 한 후 반환합니다.   \n",
    "특수 토큰의 인덱스를 아래와 동일하게 지정합니다.      \n",
    "**PAD : 0 / BOS : 1 / EOS : 2 / UNK : 3**"
   ]
  },
  {
   "cell_type": "markdown",
   "id": "bdb35584",
   "metadata": {},
   "source": [
    "**sentencepiece용**"
   ]
  },
  {
   "cell_type": "code",
   "execution_count": 8,
   "id": "258fffd0",
   "metadata": {},
   "outputs": [
    {
     "name": "stderr",
     "output_type": "stream",
     "text": [
      "sentencepiece_trainer.cc(177) LOG(INFO) Running command: --input=/aiffel/aiffel/transformer/cleaned_corpus/kor_corpus --model_prefix=korean_spm --vocab_size=25000 --pad_id=0 --unk_id=3 --pad_piece=<PAD> --unk_piece=<UNK>\n",
      "sentencepiece_trainer.cc(77) LOG(INFO) Starts training with : \n",
      "trainer_spec {\n",
      "  input: /aiffel/aiffel/transformer/cleaned_corpus/kor_corpus\n",
      "  input_format: \n",
      "  model_prefix: korean_spm\n",
      "  model_type: UNIGRAM\n",
      "  vocab_size: 25000\n",
      "  self_test_sample_size: 0\n",
      "  character_coverage: 0.9995\n",
      "  input_sentence_size: 0\n",
      "  shuffle_input_sentence: 1\n",
      "  seed_sentencepiece_size: 1000000\n",
      "  shrinking_factor: 0.75\n",
      "  max_sentence_length: 4192\n",
      "  num_threads: 16\n",
      "  num_sub_iterations: 2\n",
      "  max_sentencepiece_length: 16\n",
      "  split_by_unicode_script: 1\n",
      "  split_by_number: 1\n",
      "  split_by_whitespace: 1\n",
      "  split_digits: 0\n",
      "  treat_whitespace_as_suffix: 0\n",
      "  allow_whitespace_only_pieces: 0\n",
      "  required_chars: \n",
      "  byte_fallback: 0\n",
      "  vocabulary_output_piece_score: 1\n",
      "  train_extremely_large_corpus: 0\n",
      "  hard_vocab_limit: 1\n",
      "  use_all_vocab: 0\n",
      "  unk_id: 3\n",
      "  bos_id: 1\n",
      "  eos_id: 2\n",
      "  pad_id: 0\n",
      "  unk_piece: <UNK>\n",
      "  bos_piece: <s>\n",
      "  eos_piece: </s>\n",
      "  pad_piece: <PAD>\n",
      "  unk_surface:  ⁇ \n",
      "}\n",
      "normalizer_spec {\n",
      "  name: nmt_nfkc\n",
      "  add_dummy_prefix: 1\n",
      "  remove_extra_whitespaces: 1\n",
      "  escape_whitespaces: 1\n",
      "  normalization_rule_tsv: \n",
      "}\n",
      "denormalizer_spec {}\n",
      "trainer_interface.cc(329) LOG(INFO) SentenceIterator is not specified. Using MultiFileSentenceIterator.\n",
      "trainer_interface.cc(178) LOG(INFO) Loading corpus: /aiffel/aiffel/transformer/cleaned_corpus/kor_corpus\n",
      "trainer_interface.cc(385) LOG(INFO) Loaded all 78967 sentences\n",
      "trainer_interface.cc(400) LOG(INFO) Adding meta_piece: <PAD>\n",
      "trainer_interface.cc(400) LOG(INFO) Adding meta_piece: <s>\n",
      "trainer_interface.cc(400) LOG(INFO) Adding meta_piece: </s>\n",
      "trainer_interface.cc(400) LOG(INFO) Adding meta_piece: <UNK>\n",
      "trainer_interface.cc(405) LOG(INFO) Normalizing sentences...\n",
      "trainer_interface.cc(466) LOG(INFO) all chars count=5192554\n",
      "trainer_interface.cc(477) LOG(INFO) Done: 99.9502% characters are covered.\n",
      "trainer_interface.cc(487) LOG(INFO) Alphabet size=1191\n",
      "trainer_interface.cc(488) LOG(INFO) Final character coverage=0.999502\n",
      "trainer_interface.cc(520) LOG(INFO) Done! preprocessed 78967 sentences.\n",
      "unigram_model_trainer.cc(139) LOG(INFO) Making suffix array...\n",
      "unigram_model_trainer.cc(143) LOG(INFO) Extracting frequent sub strings...\n",
      "unigram_model_trainer.cc(194) LOG(INFO) Initialized 160841 seed sentencepieces\n",
      "trainer_interface.cc(526) LOG(INFO) Tokenizing input sentences with whitespace: 78967\n",
      "trainer_interface.cc(537) LOG(INFO) Done! 210086\n",
      "unigram_model_trainer.cc(489) LOG(INFO) Using 210086 sentences for EM training\n",
      "unigram_model_trainer.cc(505) LOG(INFO) EM sub_iter=0 size=84578 obj=12.9652 num_tokens=415679 num_tokens/piece=4.91474\n",
      "unigram_model_trainer.cc(505) LOG(INFO) EM sub_iter=1 size=71844 obj=11.8027 num_tokens=417305 num_tokens/piece=5.80849\n",
      "unigram_model_trainer.cc(505) LOG(INFO) EM sub_iter=0 size=53879 obj=11.8111 num_tokens=434756 num_tokens/piece=8.06912\n",
      "unigram_model_trainer.cc(505) LOG(INFO) EM sub_iter=1 size=53862 obj=11.7776 num_tokens=435129 num_tokens/piece=8.07859\n",
      "unigram_model_trainer.cc(505) LOG(INFO) EM sub_iter=0 size=40396 obj=11.9213 num_tokens=459514 num_tokens/piece=11.3752\n",
      "unigram_model_trainer.cc(505) LOG(INFO) EM sub_iter=1 size=40395 obj=11.8844 num_tokens=459562 num_tokens/piece=11.3767\n",
      "unigram_model_trainer.cc(505) LOG(INFO) EM sub_iter=0 size=30296 obj=12.0781 num_tokens=486003 num_tokens/piece=16.0418\n",
      "unigram_model_trainer.cc(505) LOG(INFO) EM sub_iter=1 size=30296 obj=12.0364 num_tokens=486006 num_tokens/piece=16.0419\n",
      "unigram_model_trainer.cc(505) LOG(INFO) EM sub_iter=0 size=27500 obj=12.1127 num_tokens=494556 num_tokens/piece=17.9839\n",
      "unigram_model_trainer.cc(505) LOG(INFO) EM sub_iter=1 size=27500 obj=12.0988 num_tokens=494608 num_tokens/piece=17.9857\n",
      "trainer_interface.cc(615) LOG(INFO) Saving model: korean_spm.model\n",
      "trainer_interface.cc(626) LOG(INFO) Saving vocabs: korean_spm.vocab\n",
      "sentencepiece_trainer.cc(177) LOG(INFO) Running command: --input=/aiffel/aiffel/transformer/cleaned_corpus/eng_corpus --model_prefix=english_spm --vocab_size=25000 --pad_id=0,--bos_id=1 --eos_id=2 --unk_id=3 --pad_piece=<PAD> --bos_piece=<BOS> --eos_piece=<EOS> --unk_piece=<UNK>\n",
      "sentencepiece_trainer.cc(77) LOG(INFO) Starts training with : \n",
      "trainer_spec {\n",
      "  input: /aiffel/aiffel/transformer/cleaned_corpus/eng_corpus\n",
      "  input_format: \n",
      "  model_prefix: english_spm\n",
      "  model_type: UNIGRAM\n",
      "  vocab_size: 25000\n",
      "  self_test_sample_size: 0\n",
      "  character_coverage: 0.9995\n",
      "  input_sentence_size: 0\n",
      "  shuffle_input_sentence: 1\n",
      "  seed_sentencepiece_size: 1000000\n",
      "  shrinking_factor: 0.75\n",
      "  max_sentence_length: 4192\n",
      "  num_threads: 16\n",
      "  num_sub_iterations: 2\n",
      "  max_sentencepiece_length: 16\n",
      "  split_by_unicode_script: 1\n",
      "  split_by_number: 1\n",
      "  split_by_whitespace: 1\n",
      "  split_digits: 0\n",
      "  treat_whitespace_as_suffix: 0\n",
      "  allow_whitespace_only_pieces: 0\n",
      "  required_chars: \n",
      "  byte_fallback: 0\n",
      "  vocabulary_output_piece_score: 1\n",
      "  train_extremely_large_corpus: 0\n",
      "  hard_vocab_limit: 1\n",
      "  use_all_vocab: 0\n",
      "  unk_id: 3\n",
      "  bos_id: 1\n",
      "  eos_id: 2\n",
      "  pad_id: 0\n",
      "  unk_piece: <UNK>\n",
      "  bos_piece: <BOS>\n",
      "  eos_piece: <EOS>\n",
      "  pad_piece: <PAD>\n",
      "  unk_surface:  ⁇ \n",
      "}\n",
      "normalizer_spec {\n",
      "  name: nmt_nfkc\n",
      "  add_dummy_prefix: 1\n",
      "  remove_extra_whitespaces: 1\n",
      "  escape_whitespaces: 1\n",
      "  normalization_rule_tsv: \n",
      "}\n",
      "denormalizer_spec {}\n",
      "trainer_interface.cc(329) LOG(INFO) SentenceIterator is not specified. Using MultiFileSentenceIterator.\n",
      "trainer_interface.cc(178) LOG(INFO) Loading corpus: /aiffel/aiffel/transformer/cleaned_corpus/eng_corpus\n",
      "trainer_interface.cc(385) LOG(INFO) Loaded all 78957 sentences\n",
      "trainer_interface.cc(400) LOG(INFO) Adding meta_piece: <PAD>\n",
      "trainer_interface.cc(400) LOG(INFO) Adding meta_piece: <BOS>\n",
      "trainer_interface.cc(400) LOG(INFO) Adding meta_piece: <EOS>\n",
      "trainer_interface.cc(400) LOG(INFO) Adding meta_piece: <UNK>\n",
      "trainer_interface.cc(405) LOG(INFO) Normalizing sentences...\n",
      "trainer_interface.cc(466) LOG(INFO) all chars count=10789012\n",
      "trainer_interface.cc(477) LOG(INFO) Done: 99.9506% characters are covered.\n",
      "trainer_interface.cc(487) LOG(INFO) Alphabet size=38\n",
      "trainer_interface.cc(488) LOG(INFO) Final character coverage=0.999506\n",
      "trainer_interface.cc(520) LOG(INFO) Done! preprocessed 78957 sentences.\n",
      "unigram_model_trainer.cc(139) LOG(INFO) Making suffix array...\n",
      "unigram_model_trainer.cc(143) LOG(INFO) Extracting frequent sub strings...\n",
      "unigram_model_trainer.cc(194) LOG(INFO) Initialized 83783 seed sentencepieces\n",
      "trainer_interface.cc(526) LOG(INFO) Tokenizing input sentences with whitespace: 78957\n",
      "trainer_interface.cc(537) LOG(INFO) Done! 46275\n",
      "unigram_model_trainer.cc(489) LOG(INFO) Using 46275 sentences for EM training\n",
      "unigram_model_trainer.cc(505) LOG(INFO) EM sub_iter=0 size=35194 obj=9.97208 num_tokens=87100 num_tokens/piece=2.47485\n",
      "unigram_model_trainer.cc(505) LOG(INFO) EM sub_iter=1 size=26446 obj=8.1277 num_tokens=87543 num_tokens/piece=3.31025\n",
      "trainer_interface.cc(615) LOG(INFO) Saving model: english_spm.model\n",
      "trainer_interface.cc(626) LOG(INFO) Saving vocabs: english_spm.vocab\n"
     ]
    },
    {
     "name": "stdout",
     "output_type": "stream",
     "text": [
      "-rw-r--r-- 1 root root 650521 Mar 12 11:29 english_spm.model\r\n",
      "-rw-r--r-- 1 root root 434854 Mar 12 11:29 english_spm.vocab\r\n"
     ]
    },
    {
     "data": {
      "text/plain": [
       "True"
      ]
     },
     "execution_count": 8,
     "metadata": {},
     "output_type": "execute_result"
    }
   ],
   "source": [
    "# Sentencepiece를 활용하여 학습한 tokenizer를 생성합니다.\n",
    "def generate_tokenizer(corpus_path, vocab_size, lang=\"ko\", pad_id=0, bos_id=1, eos_id=2, unk_id=3,\n",
    "                   pad_piece=\"<PAD>\", bos_piece=\"<BOS>\", eos_piece=\"<EOS>\", unk_piece=\"<UNK>\" ):\n",
    "    \n",
    "    # [[YOUR CODE]]\n",
    "    #temp_file = os.getenv('HOME')+'/aiffel/transformer/cleaned_corpus/cleaned_corpus'\n",
    "    # SentencePiece 학습\n",
    "    if lang == \"ko\":\n",
    "        import sentencepiece as spm \n",
    "        # --pad_piece={} --bos_piece={} --eos_piece={} --unk_piece={}\n",
    "        spm.SentencePieceTrainer.Train(\n",
    "                '--input={} --model_prefix=korean_spm --vocab_size={} --pad_id={} --unk_id={} --pad_piece={} --unk_piece={}'.format(\n",
    "            corpus_path, vocab_size, pad_id, unk_id, pad_piece, unk_piece))\n",
    "        #!ls -l korean_spm* \n",
    "        # SentencePiece tokenizer 객체생성\n",
    "        tokenizer = spm.SentencePieceProcessor()\n",
    "        tokenizer.Load('korean_spm.model')\n",
    "        \n",
    "        # 단어사전생성\n",
    "        #vocab_word, word_index, index_word = word_index_and_index_word(tokenizer, corpus, kor=True) \n",
    "    else: \n",
    "        import sentencepiece as spm1\n",
    "        spm1.SentencePieceTrainer.Train(\n",
    "            '--input={} --model_prefix=english_spm --vocab_size={} --pad_id={},--bos_id={} --eos_id={} --unk_id={} --pad_piece={} --bos_piece={} --eos_piece={} --unk_piece={}'.format(\n",
    "            corpus_path, vocab_size, pad_id, bos_id, eos_id, unk_id, pad_piece, bos_piece, eos_piece, unk_piece))\n",
    "        !ls -l english_spm*\n",
    "        # SentencePiece tokenizer 객체생성\n",
    "        tokenizer = spm1.SentencePieceProcessor()\n",
    "        tokenizer.Load('english_spm.model')\n",
    "        \n",
    "        # 단어사전생성   \n",
    "        #vocab_word, word_index, index_word = word_index_and_index_word(tokenizer, corpus, kor=False)   \n",
    "    \n",
    "    return tokenizer   #, vocab_word, word_index, index_word\n",
    "    \n",
    "\n",
    "SRC_VOCAB_SIZE = TGT_VOCAB_SIZE = 25000\n",
    "\n",
    "eng_corpus = []\n",
    "kor_corpus = []\n",
    "\n",
    "for pair in cleaned_corpus:\n",
    "    k, e = pair.split(\" \"*4)  \n",
    "    kor_corpus.append(preprocess_sentence(k))\n",
    "    eng_corpus.append(preprocess_sentence(e))  # 아래 코드에서 set_encode_extra_options(\"bos:eos\")으로 자동으로 '<BOS>', '<EOS>' 붙음\n",
    "\n",
    "# 분리된 데이터 저장\n",
    "kor_corpus_path = os.getenv('HOME')+'/aiffel/transformer/cleaned_corpus/kor_corpus'\n",
    "eng_corpus_path = os.getenv('HOME')+'/aiffel/transformer/cleaned_corpus/eng_corpus'\n",
    "\n",
    "with open(kor_corpus_path, 'w') as f:  \n",
    "    for line in kor_corpus:\n",
    "        line = line + '\\n'\n",
    "        f.write(line)\n",
    "with open(eng_corpus_path, 'w') as f:  \n",
    "    for line in eng_corpus:\n",
    "        line = line + '\\n'\n",
    "        f.write(line)\n",
    "        \n",
    "kor_tokenizer  = generate_tokenizer(kor_corpus_path, SRC_VOCAB_SIZE, \"ko\")\n",
    "eng_tokenizer = generate_tokenizer(eng_corpus_path, TGT_VOCAB_SIZE, \"en\")\n",
    "\n",
    "# 별도로 '<BOS>', '<EOS>' 코딩않해도 영어문장 앞뒤로 붙게해주는 옵션: sentencepiece 경우만 해당\n",
    "eng_tokenizer.set_encode_extra_options(\"bos:eos\")\n"
   ]
  },
  {
   "cell_type": "code",
   "execution_count": 9,
   "id": "b47362e4",
   "metadata": {},
   "outputs": [
    {
     "name": "stdout",
     "output_type": "stream",
     "text": [
      "'<BOS>', '<EOS>' 자동으로 붙는지 테스트: ['<BOS>', '▁sex', '▁on', '▁beach', '▁couple', '▁free', '▁on', '▁bail', '▁in', '▁dubai', '<EOS>']\n",
      "kor_corpus 저장분 확인 78968 ['두바이 해변 성관계 커플 보석으로 석방', '우리는 희생자와 그 유가족들 그리고 미국민 들에게 깊은 애도를 표한다 . 라고 말했다 .', '이라크 정부는 민병대의 철수를 반겼으며 누리 알 말리키 이라크 총리는 알 사드르가 옳은 결정을 내렸다고 이 지역의 평화와 안정을 위해 함께 노력했으면 한다 고 말했다 .', '힐러리 클린턴 상원의원은 17일 현지시간 자신이 이라크전쟁을 끝낼 수 있는 리더십을 갖춘 유일한 대선후보라고 밝혔다 .', '그들은 관공서 일자리 고용에서부터 주지사의 친구나 기부자들의 행동에 이르기까지 일리노이 주지사의 일거수일투족을 감시해 왔습니다 .']\n",
      "eng_corpus 저장분 확인 78968 ['sex on beach couple free on bail in dubai', 'we convey deep condolences to victims , families and the american people .', 'al sadr s political movement holds 30 seats in iraq s 275 member parliament and was once a partner in al maliki s ruling coalition . the party quit the government in 2007 after al maliki refused to demand a deadline for the withdrawal of u . s . troops .', 'hillary clinton said monday she is the only candidate who would exercise the leadership needed to end the war in iraq .', 'they ve been looking at everything from the illinois governor , for hiring people for state jobs , to the actions of friends and contributors .']\n"
     ]
    }
   ],
   "source": [
    "## 체크용 셀\n",
    "# '<BOS>', '<EOS>' 자동으로 붙는지 테스트 : OK\n",
    "tokens = eng_tokenizer.EncodeAsPieces(eng_corpus[0]) \n",
    "print(\"'<BOS>', '<EOS>' 자동으로 붙는지 테스트:\", tokens)\n",
    "\n",
    "# \"한글, 영어 분리잘되었나 저장분 확인        \n",
    "with open(kor_corpus_path, \"r\") as f: kor_check = f.read().splitlines()\n",
    "print(\"kor_corpus 저장분 확인\",len(kor_check), kor_check[:5])    \n",
    "with open(eng_corpus_path, \"r\") as f: eng_check = f.read().splitlines() \n",
    "print(\"eng_corpus 저장분 확인\", len(eng_check), eng_check[:5])   \n"
   ]
  },
  {
   "cell_type": "code",
   "execution_count": 10,
   "id": "58218c9c",
   "metadata": {},
   "outputs": [
    {
     "name": "stdout",
     "output_type": "stream",
     "text": [
      "['두바이 해변 성관계 커플 보석으로 석방', '우리는 희생자와 그 유가족들 그리고 미국민 들에게 깊은 애도를 표한다 . 라고 말했다 .', '이라크 정부는 민병대의 철수를 반겼으며 누리 알 말리키 이라크 총리는 알 사드르가 옳은 결정을 내렸다고 이 지역의 평화와 안정을 위해 함께 노력했으면 한다 고 말했다 .'] [[3593, 3585, 3181, 3427, 12701, 584], [111, 6, 1629, 28, 22, 12863, 187, 48, 1612, 8, 629, 2446, 9, 4552, 10, 8, 11759, 4, 180, 31, 4], [79, 70, 6, 2227, 7, 995, 10, 18177, 42, 3607, 163, 2405, 79, 102, 6, 163, 2915, 11, 8, 24871, 9, 456, 5, 1281, 15, 19, 164, 7, 583, 28, 1883, 5, 43, 178, 24432, 184, 138, 26, 31, 4]] [['▁두바이', '▁해변', '▁성관계', '▁커플', '▁보석으로', '▁석방'], ['▁우리', '는', '▁희생자', '와', '▁그', '▁유가족들', '▁그리고', '▁미국', '민', '▁', '들에게', '▁깊', '은', '▁애도', '를', '▁', '표한다', '▁.', '▁라고', '▁말했다', '▁.'], ['▁이라크', '▁정부', '는', '▁민병대', '의', '▁철수', '를', '▁반겼', '으며', '▁누리', '▁알', '▁말리키', '▁이라크', '▁총리', '는', '▁알', '▁사드르', '가', '▁', '옳', '은', '▁결정', '을', '▁내렸다', '고', '▁이', '▁지역', '의', '▁평화', '와', '▁안정', '을', '▁위해', '▁함께', '▁노력했으', '면', '▁한다', '▁고', '▁말했다', '▁.']]\n",
      "\n",
      "['sex on beach couple free on bail in dubai', 'we convey deep condolences to victims , families and the american people .', 'al sadr s political movement holds 30 seats in iraq s 275 member parliament and was once a partner in al maliki s ruling coalition . the party quit the government in 2007 after al maliki refused to demand a deadline for the withdrawal of u . s . troops .'] [[1, 787, 19, 1770, 731, 443, 19, 3402, 11, 2585, 2], [1, 61, 5681, 1160, 5795, 7, 8, 881, 6, 1360, 79, 12, 4, 177, 54, 5, 2], [1, 105, 2382, 16, 304, 1213, 665, 7, 318, 1710, 11, 122, 16, 128, 3, 585, 639, 755, 12, 25, 19, 194, 9, 2237, 11, 105, 2083, 186, 16, 712, 1021, 5, 4, 119, 1557, 4, 70, 11, 222, 3, 45, 105, 2083, 186, 1999, 13, 8, 743, 9, 1889, 20, 4, 2184, 10, 48, 5, 16, 5, 238, 5, 2]] [['<BOS>', '▁sex', '▁on', '▁beach', '▁couple', '▁free', '▁on', '▁bail', '▁in', '▁dubai', '<EOS>'], ['<BOS>', '▁we', '▁convey', '▁deep', '▁condolence', 's', '▁to', '▁victims', '▁,', '▁famili', 'es', '▁and', '▁the', '▁american', '▁people', '▁.', '<EOS>'], ['<BOS>', '▁al', '▁sadr', '▁s', '▁political', '▁movement', '▁hold', 's', '▁30', '▁seats', '▁in', '▁iraq', '▁s', '▁2', '7', '5', '▁member', '▁parliament', '▁and', '▁was', '▁on', 'ce', '▁a', '▁partner', '▁in', '▁al', '▁malik', 'i', '▁s', '▁ruling', '▁coalition', '▁.', '▁the', '▁party', '▁quit', '▁the', '▁government', '▁in', '▁200', '7', '▁after', '▁al', '▁malik', 'i', '▁refus', 'ed', '▁to', '▁demand', '▁a', '▁deadline', '▁for', '▁the', '▁withdrawal', '▁of', '▁u', '▁.', '▁s', '▁.', '▁troops', '▁.', '<EOS>']]\n",
      "\n"
     ]
    }
   ],
   "source": [
    "# word_index, index_word 생성함수\n",
    "def word_index_and_index_word(tokenizer, corpus, kor=False):\n",
    "    \n",
    "    corpus_token = []\n",
    "    as_piece = []\n",
    "    for sen in corpus:\n",
    "        corpus_token.append(tokenizer.EncodeAsIds(sen))\n",
    "        as_piece.append(tokenizer.EncodeAsPieces(sen))\n",
    "        \n",
    "    print(corpus[:3],corpus_token[:3],as_piece[:3])  \n",
    "    print()\n",
    "    \n",
    "    if kor==True:  path = \"./korean_spm.vocab\"\n",
    "    else:   path = \"./english_spm.vocab\"\n",
    "        \n",
    "    with open(path, 'r') as f:  vocab = f.readlines()\n",
    "\n",
    "    word_index = {}\n",
    "    index_word = {}\n",
    "\n",
    "    for idx, line in enumerate(vocab):\n",
    "        word = line.split(\"\\t\")[0]\n",
    "        word_index.update({word:idx})\n",
    "        index_word.update({idx:word})\n",
    "  \n",
    "    return  corpus_token, word_index, index_word\n",
    "\n",
    "\n",
    "# 토큰화완료된 한글 코퍼스 및 한글 단어사전생성   \n",
    "kor_corpus_token, kor_word_index, kor_index_word = word_index_and_index_word(kor_tokenizer, kor_corpus, kor= True)\n",
    "# 토큰화완료된 영어 코퍼스 및 영어 단어사전생성   \n",
    "eng_corpus_token, eng_word_index, eng_index_word = word_index_and_index_word(eng_tokenizer, eng_corpus)   "
   ]
  },
  {
   "cell_type": "code",
   "execution_count": 11,
   "id": "db72e8b7",
   "metadata": {},
   "outputs": [
    {
     "name": "stdout",
     "output_type": "stream",
     "text": [
      "kor_corpus의 정수인덱스 token으로 전환확인 [[3593, 3585, 3181, 3427, 12701, 584], [111, 6, 1629, 28, 22, 12863, 187, 48, 1612, 8, 629, 2446, 9, 4552, 10, 8, 11759, 4, 180, 31, 4], [79, 70, 6, 2227, 7, 995, 10, 18177, 42, 3607, 163, 2405, 79, 102, 6, 163, 2915, 11, 8, 24871, 9, 456, 5, 1281, 15, 19, 164, 7, 583, 28, 1883, 5, 43, 178, 24432, 184, 138, 26, 31, 4], [548, 252, 447, 9, 375, 21, 54, 561, 79, 10898, 5, 2432, 2967, 27, 34, 9801, 5, 1798, 3061, 1386, 16, 987, 215, 30, 4], [22, 86, 18724, 1646, 1938, 17, 323, 570, 7, 1009, 65, 4693, 1552, 7, 5855, 6842, 128, 3588, 570, 7, 260, 193, 264, 21, 2210, 3301, 5, 1561, 73, 8404, 4]]\n",
      "\n",
      "eng_corpus의 정수인덱스 token으로 전환확인 [[1, 787, 19, 1770, 731, 443, 19, 3402, 11, 2585, 2], [1, 61, 5681, 1160, 5795, 7, 8, 881, 6, 1360, 79, 12, 4, 177, 54, 5, 2], [1, 105, 2382, 16, 304, 1213, 665, 7, 318, 1710, 11, 122, 16, 128, 3, 585, 639, 755, 12, 25, 19, 194, 9, 2237, 11, 105, 2083, 186, 16, 712, 1021, 5, 4, 119, 1557, 4, 70, 11, 222, 3, 45, 105, 2083, 186, 1999, 13, 8, 743, 9, 1889, 20, 4, 2184, 10, 48, 5, 16, 5, 238, 5, 2], [1, 1049, 265, 18, 121, 74, 23, 4, 19, 24, 418, 44, 71, 2479, 4, 1661, 1005, 8, 196, 4, 180, 11, 122, 5, 2], [1, 47, 601, 49, 285, 14, 30, 1509, 33, 4, 1340, 1130, 6, 20, 11067, 14, 54, 20, 107, 1094, 6, 8, 4, 597, 7, 10, 1395, 12, 10377, 7, 5, 2]]\n",
      "\n",
      "kor_index_word[0~20] [(0, '<PAD>'), (1, '<s>'), (2, '</s>'), (3, '<UNK>'), (4, '▁.'), (5, '을'), (6, '는'), (7, '의'), (8, '▁'), (9, '은'), (10, '를'), (11, '가'), (12, '▁,'), (13, '에'), (14, '이'), (15, '고'), (16, '한'), (17, '에서'), (18, '로'), (19, '▁이'), (20, '인')]\n",
      "kor_word_index[0~20] [('<PAD>', 0), ('<s>', 1), ('</s>', 2), ('<UNK>', 3), ('▁.', 4), ('을', 5), ('는', 6), ('의', 7), ('▁', 8), ('은', 9), ('를', 10), ('가', 11), ('▁,', 12), ('에', 13), ('이', 14), ('고', 15), ('한', 16), ('에서', 17), ('로', 18), ('▁이', 19), ('인', 20)]\n",
      "\n",
      "eng_index_word[0~20] [(0, '<PAD>'), (1, '<BOS>'), (2, '<EOS>'), (3, '<UNK>'), (4, '▁the'), (5, '▁.'), (6, '▁,'), (7, 's'), (8, '▁to'), (9, '▁a'), (10, '▁of'), (11, '▁in'), (12, '▁and'), (13, 'ed'), (14, 'ing'), (15, '▁'), (16, '▁s'), (17, 'd'), (18, '▁said'), (19, '▁on'), (20, '▁for')]\n",
      "eng_word_index[0~20] [('<PAD>', 0), ('<BOS>', 1), ('<EOS>', 2), ('<UNK>', 3), ('▁the', 4), ('▁.', 5), ('▁,', 6), ('s', 7), ('▁to', 8), ('▁a', 9), ('▁of', 10), ('▁in', 11), ('▁and', 12), ('ed', 13), ('ing', 14), ('▁', 15), ('▁s', 16), ('d', 17), ('▁said', 18), ('▁on', 19), ('▁for', 20)]\n",
      "\n",
      "토큰화완료된 kor_corpus_token의 크기확인: 78968\n",
      "토큰화완료된 eng_corpus_token의 크기확인: 78968\n",
      "한글사전크기 25000\n",
      "영어사전크기 25000\n"
     ]
    }
   ],
   "source": [
    "## 토큰화 완료된 한글, 영어 코퍼스 문장 확인 kor_vocab_word\n",
    "print(\"kor_corpus의 정수인덱스 token으로 전환확인\", kor_corpus_token[:5])\n",
    "print()\n",
    "print(\"eng_corpus의 정수인덱스 token으로 전환확인\", eng_corpus_token[:5])\n",
    "print()\n",
    "\n",
    "## 한글사전 샘플 확인\n",
    "print(\"kor_index_word[0~20]\",[(k,v) for (k,v) in kor_index_word.items() if k<=20])\n",
    "print(\"kor_word_index[0~20]\",[(k,v) for (k,v) in kor_word_index.items() if v <=20])  \n",
    "print()\n",
    "\n",
    "## 영어사전 샘플 확인\n",
    "print(\"eng_index_word[0~20]\",[(k,v) for (k,v) in eng_index_word.items() if k<=20])\n",
    "print(\"eng_word_index[0~20]\",[(k,v) for (k,v) in eng_word_index.items() if v <=20])   \n",
    "print()\n",
    "\n",
    "## 토큰화완료된 corpus 크기 및 단어사전크기확인\n",
    "print(\"토큰화완료된 kor_corpus_token의 크기확인:\", len(kor_corpus_token))\n",
    "print(\"토큰화완료된 eng_corpus_token의 크기확인:\", len(eng_corpus_token))\n",
    "print(\"한글사전크기\",kor_tokenizer.GetPieceSize())\n",
    "print(\"영어사전크기\",eng_tokenizer.GetPieceSize())"
   ]
  },
  {
   "cell_type": "markdown",
   "id": "8fe0e4a6",
   "metadata": {},
   "source": [
    "4. 토크나이저를 활용해 토큰의 길이가 50 이하인 데이터를 선별하여 src_corpus 와 tgt_corpus 를 각각 구축하고, 텐서 enc_train 과 dec_train 으로 변환하세요! (❗모든 데이터를 사용할 경우 학습에 굉장히 오랜 시간이 걸립니다.)"
   ]
  },
  {
   "cell_type": "code",
   "execution_count": 12,
   "id": "cf1943cd",
   "metadata": {},
   "outputs": [
    {
     "name": "stdout",
     "output_type": "stream",
     "text": [
      "len(kor_corpus_token) 78968\n",
      "\n"
     ]
    },
    {
     "data": {
      "application/vnd.jupyter.widget-view+json": {
       "model_id": "a0d0f92d41f74ae89df21b56c7b0a8c2",
       "version_major": 2,
       "version_minor": 0
      },
      "text/plain": [
       "  0%|          | 0/78968 [00:00<?, ?it/s]"
      ]
     },
     "metadata": {},
     "output_type": "display_data"
    },
    {
     "name": "stdout",
     "output_type": "stream",
     "text": [
      "토큰의 길이가 50 축소후 src_corpus 71549 [[3593, 3585, 3181, 3427, 12701, 584], [111, 6, 1629, 28, 22, 12863, 187, 48, 1612, 8, 629, 2446, 9, 4552, 10, 8, 11759, 4, 180, 31, 4]] [[3392, 2893, 40, 1289, 468, 3, 9, 10255, 330, 11, 7647, 777, 4], [742, 5, 3145, 64, 211, 10238, 14779, 461, 10558, 807, 6875, 23871, 20841, 12393, 180, 9685, 16, 19, 13762, 6, 142, 13534, 14, 309, 33, 72, 949, 829, 67, 2703, 24, 4]]\n",
      "\n",
      "토큰의 길이가 50 축소후 tgt_corpus 71549 [[1, 787, 19, 1770, 731, 443, 19, 3402, 11, 2585, 2], [1, 61, 5681, 1160, 5795, 7, 8, 881, 6, 1360, 79, 12, 4, 177, 54, 5, 2]] [[1, 287, 138, 4, 2837, 6, 147, 3018, 125, 53, 1363, 46, 49, 5046, 5, 2], [1, 4, 5057, 6, 64, 966, 1794, 4, 2003, 689, 6213, 931, 6, 313, 7, 4, 196, 10, 4, 98, 42, 266, 11, 157, 998, 5, 2]]\n",
      "\n",
      "enc_train 71549 [[ 3593  3585  3181  3427 12701   584     0     0     0     0     0     0\n",
      "      0     0     0     0     0     0     0     0     0     0     0     0\n",
      "      0     0     0     0     0     0     0     0     0     0     0     0\n",
      "      0     0     0     0     0     0     0     0     0     0     0     0\n",
      "      0     0]\n",
      " [  111     6  1629    28    22 12863   187    48  1612     8   629  2446\n",
      "      9  4552    10     8 11759     4   180    31     4     0     0     0\n",
      "      0     0     0     0     0     0     0     0     0     0     0     0\n",
      "      0     0     0     0     0     0     0     0     0     0     0     0\n",
      "      0     0]] [[ 3392  2893    40  1289   468     3     9 10255   330    11  7647   777\n",
      "      4     0     0     0     0     0     0     0     0     0     0     0\n",
      "      0     0     0     0     0     0     0     0     0     0     0     0\n",
      "      0     0     0     0     0     0     0     0     0     0     0     0\n",
      "      0     0]\n",
      " [  742     5  3145    64   211 10238 14779   461 10558   807  6875 23871\n",
      "  20841 12393   180  9685    16    19 13762     6   142 13534    14   309\n",
      "     33    72   949   829    67  2703    24     4     0     0     0     0\n",
      "      0     0     0     0     0     0     0     0     0     0     0     0\n",
      "      0     0]]\n",
      "\n",
      "dec_train 71549 [[   1  787   19 1770  731  443   19 3402   11 2585    2    0    0    0\n",
      "     0    0    0    0    0    0    0    0    0    0    0    0    0    0\n",
      "     0    0    0    0    0    0    0    0    0    0    0    0    0    0\n",
      "     0    0    0    0    0    0    0    0]\n",
      " [   1   61 5681 1160 5795    7    8  881    6 1360   79   12    4  177\n",
      "    54    5    2    0    0    0    0    0    0    0    0    0    0    0\n",
      "     0    0    0    0    0    0    0    0    0    0    0    0    0    0\n",
      "     0    0    0    0    0    0    0    0]] [[   1  287  138    4 2837    6  147 3018  125   53 1363   46   49 5046\n",
      "     5    2    0    0    0    0    0    0    0    0    0    0    0    0\n",
      "     0    0    0    0    0    0    0    0    0    0    0    0    0    0\n",
      "     0    0    0    0    0    0    0    0]\n",
      " [   1    4 5057    6   64  966 1794    4 2003  689 6213  931    6  313\n",
      "     7    4  196   10    4   98   42  266   11  157  998    5    2    0\n",
      "     0    0    0    0    0    0    0    0    0    0    0    0    0    0\n",
      "     0    0    0    0    0    0    0    0]]\n"
     ]
    }
   ],
   "source": [
    "from tqdm.notebook import tqdm    # Process 과정을 보기 위해\n",
    "\n",
    "src_corpus = []\n",
    "tgt_corpus = []\n",
    "\n",
    "assert len(kor_corpus_token) == len(eng_corpus_token)\n",
    "\n",
    "print(\"len(kor_corpus_token)\",len(kor_corpus_token))\n",
    "print()\n",
    "# 토큰의 길이가 50 이하인 문장만 남깁니다. \n",
    "for idx in tqdm(range(len(kor_corpus_token))):\n",
    "    # [[YOUR CODE]]\n",
    "    if len(kor_corpus_token[idx]) <=50 and len(eng_corpus_token[idx]) <=50 :\n",
    "        src_corpus.append(kor_corpus_token[idx])\n",
    "        tgt_corpus.append(eng_corpus_token[idx])\n",
    "\n",
    "print(\"토큰의 길이가 50 축소후 src_corpus\", len(src_corpus), src_corpus[:2],src_corpus[-2:])\n",
    "print()\n",
    "print(\"토큰의 길이가 50 축소후 tgt_corpus\", len(tgt_corpus), tgt_corpus[:2],tgt_corpus[-2:])\n",
    "print()\n",
    "# 패딩처리를 완료하여 학습용 데이터를 완성. \n",
    "enc_train = tf.keras.preprocessing.sequence.pad_sequences(src_corpus, maxlen = 50, padding='post')\n",
    "dec_train = tf.keras.preprocessing.sequence.pad_sequences(tgt_corpus, maxlen = 50, padding='post')\n",
    "\n",
    "print(\"enc_train\", len(enc_train), enc_train[:2],enc_train[-2:])\n",
    "print()\n",
    "print(\"dec_train\", len(dec_train), dec_train[:2],dec_train[-2:])\n"
   ]
  },
  {
   "cell_type": "markdown",
   "id": "b8390b1f",
   "metadata": {},
   "source": [
    "#### Step 3. 모델 설계\n",
    "오늘 배운 내용을 활용해서 Transformer 모델을 설계해보세요!"
   ]
  },
  {
   "cell_type": "code",
   "execution_count": 13,
   "id": "5a1de20a",
   "metadata": {},
   "outputs": [],
   "source": [
    "def positional_encoding(pos, d_model):\n",
    "    def cal_angle(position, i):\n",
    "        return position / np.power(10000, int(i) / d_model)\n",
    "\n",
    "    def get_posi_angle_vec(position):\n",
    "        return [cal_angle(position, i) for i in range(d_model)]\n",
    "\n",
    "    sinusoid_table = np.array([get_posi_angle_vec(pos_i) for pos_i in range(pos)])\n",
    "    print(sinusoid_table)\n",
    "    sinusoid_table[:, 0::2] = np.sin(sinusoid_table[:, 0::2])\n",
    "    sinusoid_table[:, 1::2] = np.cos(sinusoid_table[:, 1::2])\n",
    "    return sinusoid_table\n",
    "\n",
    "#print(positional_encoding(10, 5))\n"
   ]
  },
  {
   "cell_type": "code",
   "execution_count": 14,
   "id": "ed8d1026",
   "metadata": {},
   "outputs": [],
   "source": [
    "class MultiHeadAttention(tf.keras.layers.Layer):\n",
    "    def __init__(self, d_model, num_heads):\n",
    "        super(MultiHeadAttention, self).__init__()\n",
    "        self.num_heads = num_heads\n",
    "        self.d_model = d_model\n",
    "        \n",
    "        self.depth = d_model // self.num_heads  \n",
    "        \n",
    "        self.W_q = tf.keras.layers.Dense(d_model) # Linear Layer\n",
    "        self.W_k = tf.keras.layers.Dense(d_model)\n",
    "        self.W_v = tf.keras.layers.Dense(d_model)\n",
    "        \n",
    "        self.linear = tf.keras.layers.Dense(d_model)\n",
    "\n",
    "    def scaled_dot_product_attention(self, Q, K, V, mask):\n",
    "        d_k = tf.cast(K.shape[-1], tf.float32)\n",
    "\n",
    "        \"\"\"\n",
    "        Scaled QK 값 구하기\n",
    "        \"\"\"\n",
    "        d_k = tf.cast(K.shape[-1], tf.float32)\n",
    "        QK = tf.matmul(Q, K, transpose_b=True)\n",
    "\n",
    "        scaled_qk = QK / tf.math.sqrt(d_k)\n",
    "\n",
    "        if mask is not None: scaled_qk += (mask * -1e9)  \n",
    "\n",
    "        \"\"\"\n",
    "        1. Attention Weights 값 구하기 -> attentions\n",
    "        2. Attention 값을 V에 곱하기 -> out\n",
    "        \"\"\" \n",
    "        attentions = tf.nn.softmax(scaled_qk, axis=-1)\n",
    "        out = tf.matmul(attentions, V)\n",
    "\n",
    "        return out, attentions\n",
    "        \n",
    "    def split_heads(self, x):\n",
    "        \"\"\"\n",
    "        Embedding을 Head의 수로 분할하는 함수\n",
    "\n",
    "        x: [ batch x length x emb ]\n",
    "        return: [ batch x length x heads x self.depth ]\n",
    "        \"\"\"\n",
    "        batch_size = x.shape[0]\n",
    "        split_x = tf.reshape(x, (batch_size, -1, self.num_heads, self.depth))\n",
    "        split_x = tf.transpose(split_x, perm=[0, 2, 1, 3])\n",
    "\n",
    "        return split_x\n",
    "\n",
    "    def combine_heads(self, x):\n",
    "        \"\"\"\n",
    "        분할된 Embedding을 하나로 결합하는 함수\n",
    "        x: [ batch x length x heads x self.depth ]\n",
    "        return: [ batch x length x emb ]\n",
    "        \"\"\"\n",
    "        batch_size = x.shape[0]\n",
    "        combined_x = tf.transpose(x, perm=[0, 2, 1, 3])\n",
    "        combined_x = tf.reshape(combined_x, (batch_size, -1, self.d_model))\n",
    "\n",
    "        return combined_x\n",
    "          \n",
    "\n",
    "    def call(self, Q, K, V, mask):\n",
    "        \"\"\"\n",
    "        아래 순서에 따라 소스를 작성하세요.\n",
    "\n",
    "        Step 1: Linear_in(Q, K, V) -> WQ, WK, WV\n",
    "        Step 2: Split Heads(WQ, WK, WV) -> WQ_split, WK_split, WV_split\n",
    "        Step 3: Scaled Dot Product Attention(WQ_split, WK_split, WV_split)\n",
    "                 -> out, attention_weights\n",
    "        Step 4: Combine Heads(out) -> out\n",
    "        Step 5: Linear_out(out) -> out\n",
    "\n",
    "        \"\"\"\n",
    "        WQ = self.W_q(Q)\n",
    "        WK = self.W_k(K)\n",
    "        WV = self.W_v(V)\n",
    "        \n",
    "        WQ_splits = self.split_heads(WQ)\n",
    "        WK_splits = self.split_heads(WK)\n",
    "        WV_splits = self.split_heads(WV)\n",
    "            \n",
    "        out, attention_weights = self.scaled_dot_product_attention(\n",
    "            WQ_splits, WK_splits, WV_splits, mask)\n",
    "       \n",
    "        out = self.combine_heads(out)\n",
    "        out = self.linear(out)\n",
    "       \n",
    "        return out, attention_weights\n"
   ]
  },
  {
   "cell_type": "code",
   "execution_count": 15,
   "id": "0cc8779e",
   "metadata": {},
   "outputs": [],
   "source": [
    "class PoswiseFeedForwardNet(tf.keras.layers.Layer):\n",
    "    def __init__(self, d_model, d_ff):\n",
    "        super(PoswiseFeedForwardNet, self).__init__()\n",
    "        self.w_1 = tf.keras.layers.Dense(d_ff, activation='relu')\n",
    "        self.w_2 = tf.keras.layers.Dense(d_model)\n",
    "\n",
    "    def call(self, x):\n",
    "        out = self.w_1(x)\n",
    "        out = self.w_2(out)\n",
    "            \n",
    "        return out\n"
   ]
  },
  {
   "cell_type": "code",
   "execution_count": 16,
   "id": "4afc1a60",
   "metadata": {},
   "outputs": [],
   "source": [
    "class EncoderLayer(tf.keras.layers.Layer):\n",
    "    def __init__(self, d_model, n_heads, d_ff, dropout):\n",
    "        super(EncoderLayer, self).__init__()\n",
    "\n",
    "        self.enc_self_attn = MultiHeadAttention(d_model, n_heads)\n",
    "        self.ffn = PoswiseFeedForwardNet(d_model, d_ff)\n",
    "\n",
    "        self.norm_1 = tf.keras.layers.LayerNormalization(epsilon=1e-6)\n",
    "        self.norm_2 = tf.keras.layers.LayerNormalization(epsilon=1e-6)\n",
    "\n",
    "        self.dropout = tf.keras.layers.Dropout(dropout)\n",
    "        \n",
    "    def call(self, x, mask):\n",
    "\n",
    "        \"\"\"\n",
    "        Multi-Head Attention\n",
    "        \"\"\"\n",
    "        residual = x\n",
    "        out = self.norm_1(x)\n",
    "        out, enc_attn = self.enc_self_attn(out, out, out, mask)\n",
    "        out = self.dropout(out)\n",
    "        out += residual\n",
    "        \n",
    "        \"\"\"\n",
    "        Position-Wise Feed Forward Network\n",
    "        \"\"\"\n",
    "        residual = out\n",
    "        out = self.norm_2(out)\n",
    "        out = self.ffn(out)\n",
    "        out = self.dropout(out)\n",
    "        out += residual\n",
    "        \n",
    "        return out, enc_attn\n"
   ]
  },
  {
   "cell_type": "code",
   "execution_count": 17,
   "id": "af544025",
   "metadata": {},
   "outputs": [],
   "source": [
    "# DecoderLayer 클래스를 작성하세요.\n",
    "class DecoderLayer(tf.keras.layers.Layer):\n",
    "    def __init__(self, d_model, n_heads, d_ff, dropout):\n",
    "        super(DecoderLayer, self).__init__()\n",
    "\n",
    "        self.dec_self_attn = MultiHeadAttention(d_model, n_heads)\n",
    "        self.enc_dec_attn = MultiHeadAttention(d_model, n_heads)\n",
    "\n",
    "        self.ffn = PoswiseFeedForwardNet(d_model, d_ff)\n",
    "\n",
    "        self.norm_1 = tf.keras.layers.LayerNormalization(epsilon=1e-6)\n",
    "        self.norm_2 = tf.keras.layers.LayerNormalization(epsilon=1e-6)\n",
    "        self.norm_3 = tf.keras.layers.LayerNormalization(epsilon=1e-6)\n",
    "\n",
    "        self.dropout = tf.keras.layers.Dropout(dropout) \n",
    "                \n",
    "    def call(self, x, enc_out, causality_mask, padding_mask):\n",
    "        \n",
    "        \"\"\"\n",
    "        Masked Multi-Head Attention\n",
    "        \"\"\"\n",
    "        residual = x\n",
    "        out = self.norm_1(x)\n",
    "        out, dec_attn = self.dec_self_attn(out, out, out, padding_mask)  # padding_mask == dec_mask == tf.maximum(dec_mask,dec_causal_mask)\n",
    "        out = self.dropout(out)\n",
    "        out += residual\n",
    "\n",
    "        \"\"\"\n",
    "        Multi-Head Attention\n",
    "        \"\"\"\n",
    "        residual = out\n",
    "        out = self.norm_2(out)\n",
    "        out, dec_enc_attn = self.enc_dec_attn(out, enc_out, enc_out, causality_mask)  # causal_mask==tf.maxi(enc_mas,dec_enc_causal_mask)\n",
    "        out = self.dropout(out)\n",
    "        out += residual\n",
    "\n",
    "        \"\"\"\n",
    "        Position-Wise Feed Forward Network\n",
    "        \"\"\"\n",
    "        residual = out\n",
    "        out = self.norm_3(out)\n",
    "        out = self.ffn(out)\n",
    "        out = self.dropout(out)\n",
    "        out += residual\n",
    "        \n",
    "        return out, dec_attn, dec_enc_attn\n"
   ]
  },
  {
   "cell_type": "code",
   "execution_count": 18,
   "id": "c2f174ec",
   "metadata": {},
   "outputs": [],
   "source": [
    "class Encoder(tf.keras.Model):\n",
    "    def __init__(self,\n",
    "                 n_layers,\n",
    "                 d_model,\n",
    "                 n_heads,\n",
    "                 d_ff,\n",
    "                 dropout):\n",
    "        super(Encoder, self).__init__()\n",
    "        self.n_layers = n_layers\n",
    "        self.enc_layers = [EncoderLayer(d_model, n_heads, d_ff, dropout) \n",
    "                        for _ in range(n_layers)]\n",
    "        \n",
    "    def call(self, x, mask):\n",
    "        out = x\n",
    "    \n",
    "        enc_attns = list()\n",
    "        for i in range(self.n_layers):\n",
    "            out, enc_attn = self.enc_layers[i](out, mask)\n",
    "            enc_attns.append(enc_attn)\n",
    "        \n",
    "        return out, enc_attns\n"
   ]
  },
  {
   "cell_type": "code",
   "execution_count": 19,
   "id": "66d3d8b2",
   "metadata": {},
   "outputs": [],
   "source": [
    "class Decoder(tf.keras.Model):\n",
    "    def __init__(self,\n",
    "                 n_layers,\n",
    "                 d_model,\n",
    "                 n_heads,\n",
    "                 d_ff,\n",
    "                 dropout):\n",
    "        super(Decoder, self).__init__()\n",
    "        self.n_layers = n_layers\n",
    "        self.dec_layers = [DecoderLayer(d_model, n_heads, d_ff, dropout) \n",
    "                            for _ in range(n_layers)]\n",
    "                            \n",
    "                            \n",
    "    def call(self, x, enc_out, causality_mask, padding_mask):\n",
    "        out = x\n",
    "    \n",
    "        dec_attns = list()\n",
    "        dec_enc_attns = list()\n",
    "        for i in range(self.n_layers):\n",
    "            out, dec_attn, dec_enc_attn = \\\n",
    "            self.dec_layers[i](out, enc_out, causality_mask, padding_mask)\n",
    "\n",
    "            dec_attns.append(dec_attn)\n",
    "            dec_enc_attns.append(dec_enc_attn)\n",
    "\n",
    "        return out, dec_attns, dec_enc_attns\n"
   ]
  },
  {
   "cell_type": "code",
   "execution_count": 20,
   "id": "2a7f12b2",
   "metadata": {},
   "outputs": [],
   "source": [
    "class Transformer(tf.keras.Model):\n",
    "    def __init__(self,\n",
    "                 n_layers,\n",
    "                 d_model,\n",
    "                 n_heads,\n",
    "                 d_ff,\n",
    "                 src_vocab_size,\n",
    "                 tgt_vocab_size,\n",
    "                 pos_len,\n",
    "                 dropout=0.2,\n",
    "                 shared=True):\n",
    "        super(Transformer, self).__init__()\n",
    "        #self.d_model = tf.cast(d_model, tf.float32)  ==> float로 할 경우 dimension 오류발생됨\n",
    "        self.d_model = d_model   \n",
    "        \"\"\"\n",
    "        1. Embedding Layer 정의\n",
    "        2. Positional Encoding 정의\n",
    "        3. Encoder / Decoder 정의\n",
    "        4. Output Linear 정의\n",
    "        5. Shared Weights\n",
    "        6. Dropout 정의\n",
    "        \"\"\"\n",
    "        self.enc_emb = tf.keras.layers.Embedding(src_vocab_size, self.d_model)\n",
    "        self.dec_emb = tf.keras.layers.Embedding(tgt_vocab_size, self.d_model)\n",
    "\n",
    "        self.pos_encoding = positional_encoding(pos_len, d_model)\n",
    "        self.dropout = tf.keras.layers.Dropout(dropout)\n",
    "\n",
    "        self.encoder = Encoder(n_layers, d_model, n_heads, d_ff, dropout)   # int(n_heads)\n",
    "        self.decoder = Decoder(n_layers, d_model, n_heads, d_ff, dropout)   # int(n_heads)\n",
    "\n",
    "        self.fc = tf.keras.layers.Dense(tgt_vocab_size)\n",
    "\n",
    "        self.shared = shared\n",
    "\n",
    "        if shared: self.fc.set_weights(tf.transpose(self.dec_emb.weights))\n",
    "\n",
    "    def embedding(self, emb, x):\n",
    "        \"\"\"\n",
    "        입력된 정수 배열을 Embedding + Pos Encoding\n",
    "        + Shared일 경우 Scaling 작업 포함\n",
    "\n",
    "        x: [ batch x length ]\n",
    "        return: [ batch x length x emb ]\n",
    "        \"\"\"      \n",
    "        seq_len = x.shape[1]\n",
    "        out = emb(x)\n",
    "\n",
    "        if self.shared: out *= tf.math.sqrt(tf.cast(d_model, tf.float32)) #self.d_model)   # int ???  self.d_model\n",
    "\n",
    "        out += self.pos_encoding[np.newaxis, ...][:, :seq_len, :]\n",
    "        out = self.dropout(out)\n",
    "\n",
    "        return out\n",
    "\n",
    "        \n",
    "    def call(self, enc_in, dec_in, enc_mask, causality_mask, dec_mask):\n",
    "        \"\"\"\n",
    "        아래 순서에 따라 소스를 작성하세요.\n",
    "\n",
    "        Step 1: Embedding(enc_in, dec_in) -> enc_in, dec_in\n",
    "        Step 2: Encoder(enc_in, enc_mask) -> enc_out, enc_attns\n",
    "        Step 3: Decoder(dec_in, enc_out, mask)\n",
    "                -> dec_out, dec_attns, dec_enc_attns\n",
    "        Step 4: Out Linear(dec_out) -> logits\n",
    "        \"\"\"\n",
    "        enc_in = self.embedding(self.enc_emb, enc_in)\n",
    "        dec_in = self.embedding(self.dec_emb, dec_in)\n",
    "\n",
    "        enc_out, enc_attns = self.encoder(enc_in, enc_mask)\n",
    "        \n",
    "        dec_out, dec_attns, dec_enc_attns = \\\n",
    "        self.decoder(dec_in, enc_out, causality_mask, dec_mask)\n",
    "        \n",
    "        logits = self.fc(dec_out)\n",
    "        \n",
    "        return logits, enc_attns, dec_attns, dec_enc_attns\n"
   ]
  },
  {
   "cell_type": "code",
   "execution_count": 21,
   "id": "6f1b9c99",
   "metadata": {},
   "outputs": [],
   "source": [
    "import numpy as np\n",
    "import tensorflow as tf\n",
    "\n",
    "def generate_padding_mask(seq):\n",
    "    seq = tf.cast(tf.math.equal(seq, 0), tf.float32)\n",
    "    return seq[:, tf.newaxis, tf.newaxis, :]\n",
    "\n",
    "def generate_causality_mask(src_len, tgt_len):\n",
    "    mask = 1 - np.cumsum(np.eye(src_len, tgt_len), 0)\n",
    "    return tf.cast(mask, tf.float32)\n",
    "\n",
    "def generate_masks(src, tgt):\n",
    "    enc_mask = generate_padding_mask(src)\n",
    "    dec_mask = generate_padding_mask(tgt)\n",
    "\n",
    "    dec_enc_causality_mask = generate_causality_mask(tgt.shape[1], src.shape[1])\n",
    "    #print(\"enc_mask\",enc_mask.shape,enc_mask,\"dec_enc_causality_mask\",dec_enc_causality_mask.shape,dec_enc_causality_mask)\n",
    "    dec_enc_mask = tf.maximum(enc_mask, dec_enc_causality_mask)\n",
    "    #print(\"dec_enc_mask\",dec_enc_mask.shape,dec_enc_mask)\n",
    "\n",
    "    dec_causality_mask = generate_causality_mask(tgt.shape[1], tgt.shape[1])\n",
    "    dec_mask = tf.maximum(dec_mask, dec_causality_mask)\n",
    "    #print(\"dec_mask\",dec_mask.shape, dec_mask,\"dec_causality_mask\",dec_causality_mask.shape,dec_causality_mask)\n",
    "    return enc_mask, dec_enc_mask, dec_mask\n"
   ]
  },
  {
   "cell_type": "code",
   "execution_count": null,
   "id": "f2d277a8",
   "metadata": {},
   "outputs": [],
   "source": [
    "# 마스크 shape\n",
    "\"\"\"\n",
    "enc_mask (64, 1, 1, 50) Tensor(\"strided_slice_1:0\", shape=(64, 1, 1, 50), dtype=float32) dec_enc_causality_mask (50, 50) Tensor(\"Cast_2:0\", shape=(50, 50), dtype=float32)\n",
    "dec_enc_mask (64, 1, 50, 50) Tensor(\"Maximum:0\", shape=(64, 1, 50, 50), dtype=float32)\n",
    "dec_mask (64, 1, 50, 50) Tensor(\"Maximum_1:0\", shape=(64, 1, 50, 50), dtype=float32) dec_causality_mask (50, 50) Tensor(\"Cast_3:0\", shape=(50, 50), dtype=float32)\n",
    "enc_mask (64, 1, 1, 50) Tensor(\"strided_slice_1:0\", shape=(64, 1, 1, 50), dtype=float32) dec_enc_causality_mask (50, 50) Tensor(\"Cast_2:0\", shape=(50, 50), dtype=float32)\n",
    "dec_enc_mask (64, 1, 50, 50) Tensor(\"Maximum:0\", shape=(64, 1, 50, 50), dtype=float32)\n",
    "dec_mask (64, 1, 50, 50) Tensor(\"Maximum_1:0\", shape=(64, 1, 50, 50), dtype=float32) dec_causality_mask (50, 50) Tensor(\"Cast_3:0\", shape=(50, 50), dtype=float32)\n",
    "enc_mask (56, 1, 1, 50) Tensor(\"strided_slice_1:0\", shape=(56, 1, 1, 50), dtype=float32) dec_enc_causality_mask (50, 50) Tensor(\"Cast_2:0\", shape=(50, 50), dtype=float32)\n",
    "dec_enc_mask (56, 1, 50, 50) Tensor(\"Maximum:0\", shape=(56, 1, 50, 50), dtype=float32)\n",
    "dec_mask (56, 1, 50, 50) Tensor(\"Maximum_1:0\", shape=(56, 1, 50, 50), dtype=float32) dec_causality_mask (50, 50) Tensor(\"Cast_3:0\", shape=(50, 50), dtype=float32)\n",
    "enc_mask (1, 1, 1, 50) tf.Tensor(\n",
    "[[[[0. 0. 0. 0. 0. 1. 1. 1. 1. 1. 1. 1. 1. 1. 1. 1. 1. 1. 1. 1. 1. 1.\n",
    "    1. 1. 1. 1. 1. 1. 1. 1. 1. 1. 1. 1. 1. 1. 1. 1. 1. 1. 1. 1. 1. 1.\n",
    "    1. 1. 1. 1. 1. 1.]]]], shape=(1, 1, 1, 50), dtype=float32) dec_enc_causality_mask (1, 50) tf.Tensor(\n",
    "[[0. 1. 1. 1. 1. 1. 1. 1. 1. 1. 1. 1. 1. 1. 1. 1. 1. 1. 1. 1. 1. 1. 1. 1.\n",
    "  1. 1. 1. 1. 1. 1. 1. 1. 1. 1. 1. 1. 1. 1. 1. 1. 1. 1. 1. 1. 1. 1. 1. 1.\n",
    "  1. 1.]], shape=(1, 50), dtype=float32)\n",
    "dec_enc_mask (1, 1, 1, 50) tf.Tensor(\n",
    "[[[[0. 1. 1. 1. 1. 1. 1. 1. 1. 1. 1. 1. 1. 1. 1. 1. 1. 1. 1. 1. 1. 1.\n",
    "    1. 1. 1. 1. 1. 1. 1. 1. 1. 1. 1. 1. 1. 1. 1. 1. 1. 1. 1. 1. 1. 1.\n",
    "    1. 1. 1. 1. 1. 1.]]]], shape=(1, 1, 1, 50), dtype=float32)\n",
    "dec_mask (1, 1, 1, 1) tf.Tensor([[[[0.]]]], shape=(1, 1, 1, 1), dtype=float32) dec_causality_mask (1, 1) tf.Tensor([[0.]], shape=(1, 1), dtype=float32)\n",
    "enc_mask (1, 1, 1, 50) tf.Tensor(\n",
    "[[[[0. 0. 0. 0. 0. 1. 1. 1. 1. 1. 1. 1. 1. 1. 1. 1. 1. 1. 1. 1. 1. 1.\n",
    "    1. 1. 1. 1. 1. 1. 1. 1. 1. 1. 1. 1. 1. 1. 1. 1. 1. 1. 1. 1. 1. 1.\n",
    "    1. 1. 1. 1. 1. 1.]]]], shape=(1, 1, 1, 50), dtype=float32) dec_enc_causality_mask (2, 50) tf.Tensor(\n",
    "[[0. 1. 1. 1. 1. 1. 1. 1. 1. 1. 1. 1. 1. 1. 1. 1. 1. 1. 1. 1. 1. 1. 1. 1.\n",
    "  1. 1. 1. 1. 1. 1. 1. 1. 1. 1. 1. 1. 1. 1. 1. 1. 1. 1. 1. 1. 1. 1. 1. 1.\n",
    "  1. 1.]\n",
    " [0. 0. 1. 1. 1. 1. 1. 1. 1. 1. 1. 1. 1. 1. 1. 1. 1. 1. 1. 1. 1. 1. 1. 1.\n",
    "  1. 1. 1. 1. 1. 1. 1. 1. 1. 1. 1. 1. 1. 1. 1. 1. 1. 1. 1. 1. 1. 1. 1. 1.\n",
    "  1. 1.]], shape=(2, 50), dtype=float32)\n",
    "dec_enc_mask (1, 1, 2, 50) tf.Tensor(\n",
    "[[[[0. 1. 1. 1. 1. 1. 1. 1. 1. 1. 1. 1. 1. 1. 1. 1. 1. 1. 1. 1. 1. 1.\n",
    "    1. 1. 1. 1. 1. 1. 1. 1. 1. 1. 1. 1. 1. 1. 1. 1. 1. 1. 1. 1. 1. 1.\n",
    "    1. 1. 1. 1. 1. 1.]\n",
    "   [0. 0. 1. 1. 1. 1. 1. 1. 1. 1. 1. 1. 1. 1. 1. 1. 1. 1. 1. 1. 1. 1.\n",
    "    1. 1. 1. 1. 1. 1. 1. 1. 1. 1. 1. 1. 1. 1. 1. 1. 1. 1. 1. 1. 1. 1.\n",
    "    1. 1. 1. 1. 1. 1.]]]], shape=(1, 1, 2, 50), dtype=float32)\n",
    "dec_mask (1, 1, 2, 2) tf.Tensor(\n",
    "[[[[0. 1.]\n",
    "   [0. 0.]]]], shape=(1, 1, 2, 2), dtype=float32) dec_causality_mask (2, 2) tf.Tensor(\n",
    "[[0. 1.]\n",
    " [0. 0.]], shape=(2, 2), dtype=float32)\n",
    "\"\"\""
   ]
  },
  {
   "cell_type": "code",
   "execution_count": 22,
   "id": "16c89053",
   "metadata": {},
   "outputs": [],
   "source": [
    "##  LearningRateScheduler 클래스 함수정의\n",
    "class LearningRateScheduler(tf.keras.optimizers.schedules.LearningRateSchedule):\n",
    "    def __init__(self, d_model, warmup_steps=4000):\n",
    "        super(LearningRateScheduler, self).__init__()\n",
    "        self.d_model = d_model\n",
    "        self.warmup_steps = warmup_steps\n",
    "    \n",
    "    def __call__(self, step):\n",
    "        arg1 = step ** -0.5\n",
    "        arg2 = step * (self.warmup_steps ** -1.5)\n",
    "        \n",
    "        return (self.d_model ** -0.5) * tf.math.minimum(arg1, arg2)\n",
    "\n",
    "#learning_rate = LearningRateScheduler(d_model = 512, warmup_steps = 4000)\n",
    "#optimizer = tf.keras.optimizers.Adam(learning_rate, beta_1=0.9, beta_2=0.98, epsilon=1e-9)\n",
    "\n"
   ]
  },
  {
   "cell_type": "code",
   "execution_count": null,
   "id": "d7271e0c",
   "metadata": {},
   "outputs": [],
   "source": []
  },
  {
   "cell_type": "markdown",
   "id": "07c7bdc6",
   "metadata": {},
   "source": [
    "#### Step 4. 훈련하기\n",
    "앞서 필요한 것들을 모두 정의했기 때문에 우리는 훈련만 하면 됩니다! 아래 과정을 차근차근 따라가며 모델을 훈련하고, 예문에 대한 멋진 번역을 제출하세요!\n",
    "\n",
    "1. 2 Layer를 가지는 Transformer를 선언하세요.\n",
    "(하이퍼파라미터는 자유롭게 조절합니다.)"
   ]
  },
  {
   "cell_type": "code",
   "execution_count": 31,
   "id": "355693f4",
   "metadata": {},
   "outputs": [
    {
     "name": "stdout",
     "output_type": "stream",
     "text": [
      "[[0.00000000e+00 0.00000000e+00 0.00000000e+00 ... 0.00000000e+00\n",
      "  0.00000000e+00 0.00000000e+00]\n",
      " [1.00000000e+00 9.82171889e-01 9.64661620e-01 ... 1.05544960e-04\n",
      "  1.03663293e-04 1.01815172e-04]\n",
      " [2.00000000e+00 1.96434378e+00 1.92932324e+00 ... 2.11089920e-04\n",
      "  2.07326586e-04 2.03630344e-04]\n",
      " ...\n",
      " [4.70000000e+01 4.61620788e+01 4.53390961e+01 ... 4.96061312e-03\n",
      "  4.87217476e-03 4.78531309e-03]\n",
      " [4.80000000e+01 4.71442507e+01 4.63037578e+01 ... 5.06615808e-03\n",
      "  4.97583806e-03 4.88712826e-03]\n",
      " [4.90000000e+01 4.81264226e+01 4.72684194e+01 ... 5.17170304e-03\n",
      "  5.07950135e-03 4.98894344e-03]]\n"
     ]
    }
   ],
   "source": [
    "#Hyperparameters\n",
    "\n",
    "n_layers= 2\n",
    "d_model= 512\n",
    "n_heads= 8  \n",
    "d_ff= 2048\n",
    "src_vocab_size = 25000\n",
    "tgt_vocab_size = 25000\n",
    "pos_len = 50  #200 #50\n",
    "dropout= 0.3\n",
    "shared=True\n",
    "\n",
    "\n",
    "# 트랜스포머 모델설정\n",
    "transformer = Transformer(n_layers,\n",
    "                 d_model,\n",
    "                 n_heads,\n",
    "                 d_ff,\n",
    "                 src_vocab_size,\n",
    "                 tgt_vocab_size,\n",
    "                 pos_len,\n",
    "                 dropout=dropout,\n",
    "                 shared=True)"
   ]
  },
  {
   "cell_type": "markdown",
   "id": "0e9b3bdf",
   "metadata": {},
   "source": [
    "2. 논문에서 사용한 것과 동일한 Learning Rate Scheduler를 선언하고, 이를 포함하는 Adam Optimizer를 선언하세요. (Optimizer의 파라미터 역시 논문과 동일하게 설정합니다.)"
   ]
  },
  {
   "cell_type": "code",
   "execution_count": 32,
   "id": "2d3702c9",
   "metadata": {},
   "outputs": [],
   "source": [
    "learning_rate = LearningRateScheduler(d_model)\n",
    "optimizer = tf.keras.optimizers.Adam(learning_rate,\n",
    "                                     beta_1=0.9,\n",
    "                                     beta_2=0.98, \n",
    "                                     epsilon=1e-9)\n"
   ]
  },
  {
   "cell_type": "markdown",
   "id": "69331692",
   "metadata": {},
   "source": [
    "3. Loss 함수를 정의하세요.\n",
    "\n",
    "Sequence-to-sequence 모델에서 사용했던 Loss와 유사하되, **Masking** 되지 않은 입력의 개수로 Scaling하는 과정을 추가합니다. (트랜스포머가 모든 입력에 대한 Loss를 한 번에 구하기 때문입니다.)"
   ]
  },
  {
   "cell_type": "code",
   "execution_count": 33,
   "id": "56f2b1e3",
   "metadata": {},
   "outputs": [],
   "source": [
    "loss_object = tf.keras.losses.SparseCategoricalCrossentropy(from_logits=True, reduction='none')\n",
    "\n",
    "def loss_function(real, pred):\n",
    "    #[주의} real data는 transformer model 내에서는 마스크가 씌워지는 절차없으니,여기서 씌움,모델내에서는 enc_train,dec_train 만 씌움\n",
    "    mask = tf.math.logical_not(tf.math.equal(real, 0))   # 여기선 마스크씌울 부분이 0 이됨, \"곱해주는 마스크\"라서, 0이됨 \n",
    "    loss_ = loss_object(real, pred)\n",
    "\n",
    "    # Masking 되지 않은 입력의 개수로 Scaling하는 과정\n",
    "    mask = tf.cast(mask, dtype=loss_.dtype)\n",
    "    loss_ *= mask         # 여기선 마스크씌울 부분이 0 이므로, 곱해주어야 패딩부분이 0이되어 무시됨,즉, loss의 합계에서 제외됨 \n",
    "\n",
    "    return tf.reduce_sum(loss_)/tf.reduce_sum(mask)"
   ]
  },
  {
   "cell_type": "markdown",
   "id": "039f03e4",
   "metadata": {},
   "source": [
    "4. train_step 함수를 정의하세요.\n",
    "\n",
    "**입력 데이터에 알맞은 Mask를 생성**하고, 이를 모델에 전달하여 연산에서 사용할 수 있게 합니다."
   ]
  },
  {
   "cell_type": "code",
   "execution_count": 34,
   "id": "da0914e2",
   "metadata": {},
   "outputs": [],
   "source": [
    "# Train Step 함수 정의\n",
    "\n",
    "@tf.function()\n",
    "def train_step(src, tgt, model, optimizer):\n",
    "    gold = tgt[:, 1:]\n",
    "        \n",
    "    enc_mask, dec_enc_mask, dec_mask = generate_masks(src, tgt)\n",
    "\n",
    "    # 계산된 loss에 tf.GradientTape()를 적용해 학습을 진행합니다.\n",
    "    with tf.GradientTape() as tape:\n",
    "        predictions, enc_attns, dec_attns, dec_enc_attns = model(src, tgt, enc_mask, dec_enc_mask, dec_mask)\n",
    "        loss = loss_function(gold, predictions[:, :-1])\n",
    "\n",
    "    # 최종적으로 optimizer.apply_gradients()가 사용됩니다. \n",
    "    # [[YOUR CODE]]\n",
    "    variables = model.encoder.trainable_variables + model.decoder.trainable_variables \n",
    "    gradients = tape.gradient(loss, variables)\n",
    "    optimizer.apply_gradients(zip(gradients, variables))\n",
    "    \n",
    "        \n",
    "    return loss, enc_attns, dec_attns, dec_enc_attns"
   ]
  },
  {
   "cell_type": "markdown",
   "id": "8ddb3b2a",
   "metadata": {},
   "source": [
    "5. 학습을 진행합니다.\n",
    "\n",
    "매 Epoch 마다 제시된 예문에 대한 번역을 생성하고, 멋진 번역이 생성되면 그때의 하이퍼파라미터와 생성된 번역을 제출하세요!\n",
    "\n",
    "예문   \n",
    "```\n",
    "1. 오바마는 대통령이다.\n",
    "2. 시민들은 도시 속에 산다.\n",
    "3. 커피는 필요 없다.\n",
    "4. 일곱 명의 사망자가 발생했다.\n",
    "```   \n",
    "결과(output)   \n",
    "```\n",
    "Translations\n",
    "> 1. obama is the president elect .\n",
    "> 2. they are in the city .\n",
    "> 3. they don t need to be a lot of drink .\n",
    "> 4. seven other people have been killed in the attacks .\n",
    "```\n",
    "\n",
    "파라메터\n",
    "```\n",
    "Hyperparameters\n",
    "> n_layers: 2\n",
    "> d_model: 512\n",
    "> n_heads: 8\n",
    "> d_ff: 2048\n",
    "> dropout: 0.3\n",
    "\n",
    "Training Parameters\n",
    "> Warmup Steps: 4000\n",
    "> Batch Size: 64\n",
    "> Epoch At: 5\n",
    "```\n",
    "\n",
    "번역 생성에는 아래 소스를 사용하시길 바랍니다!\n",
    "\n"
   ]
  },
  {
   "cell_type": "code",
   "execution_count": 35,
   "id": "27baa383",
   "metadata": {},
   "outputs": [],
   "source": [
    "# Attention 시각화 함수\n",
    "\n",
    "def visualize_attention(src, tgt, enc_attns, dec_attns, dec_enc_attns):\n",
    "    print(\"@@@ enc_attns\",len(enc_attns),enc_attns[0].shape,\"dec_attns.shape\",len(dec_attns),dec_attns[0].shape, \n",
    "          \"dec_enc_attns.shape\",len(dec_enc_attns),dec_enc_attns[0].shape )\n",
    "    \n",
    "    def draw(data, ax, x=\"auto\", y=\"auto\"):\n",
    "        import seaborn\n",
    "        seaborn.heatmap(data, \n",
    "                        square=True,\n",
    "                        vmin=0.0, vmax=1.0, \n",
    "                        cbar=False, ax=ax,\n",
    "                        xticklabels=x,\n",
    "                        yticklabels=y)\n",
    "        \n",
    "    for layer in range(0, 2, 1):\n",
    "        fig, axs = plt.subplots(1, 4, figsize=(20, 10))\n",
    "        print(\"Encoder Layer\", layer + 1)\n",
    "        for h in range(4):\n",
    "            draw(enc_attns[layer][0, h, :len(src), :len(src)], axs[h], src, src)\n",
    "        plt.show()\n",
    "        \n",
    "    for layer in range(0, 2, 1):\n",
    "        fig, axs = plt.subplots(1, 4, figsize=(20, 10))\n",
    "        print(\"Decoder Self Layer\", layer+1)\n",
    "        for h in range(4):\n",
    "            draw(dec_attns[layer][0, h, :len(tgt), :len(tgt)], axs[h], tgt, tgt)\n",
    "        plt.show()\n",
    "\n",
    "        print(\"Decoder Src Layer\", layer+1)\n",
    "        fig, axs = plt.subplots(1, 4, figsize=(20, 10))\n",
    "        for h in range(4):\n",
    "            draw(dec_enc_attns[layer][0, h, :len(tgt), :len(src)], axs[h], src, tgt)\n",
    "        plt.show()"
   ]
  },
  {
   "cell_type": "code",
   "execution_count": 36,
   "id": "487bd626",
   "metadata": {},
   "outputs": [],
   "source": [
    "# 번역 생성 함수\n",
    "\n",
    "def evaluate(sentence, model, src_tokenizer, tgt_tokenizer):\n",
    "    sentence = preprocess_sentence(sentence)\n",
    "\n",
    "    pieces = src_tokenizer.encode_as_pieces(sentence)\n",
    "    tokens = src_tokenizer.encode_as_ids(sentence)\n",
    "\n",
    "    _input = tf.keras.preprocessing.sequence.pad_sequences([tokens],\n",
    "                                                           maxlen=enc_train.shape[-1],\n",
    "                                                           padding='post')\n",
    "    \n",
    "    ids = []\n",
    "    output = tf.expand_dims([tgt_tokenizer.bos_id()], 0)\n",
    "    for i in range(dec_train.shape[-1]):\n",
    "        enc_padding_mask, combined_mask, dec_padding_mask = \\\n",
    "        generate_masks(_input, output)\n",
    "\n",
    "        predictions, enc_attns, dec_attns, dec_enc_attns =\\\n",
    "        model(_input, \n",
    "              output,\n",
    "              enc_padding_mask,\n",
    "              combined_mask,\n",
    "              dec_padding_mask)\n",
    "\n",
    "        predicted_id = \\\n",
    "        tf.argmax(tf.math.softmax(predictions, axis=-1)[0, -1]).numpy().item()\n",
    "\n",
    "        if tgt_tokenizer.eos_id() == predicted_id:\n",
    "            result = tgt_tokenizer.decode_ids(ids)\n",
    "            return pieces, result, enc_attns, dec_attns, dec_enc_attns\n",
    "\n",
    "        ids.append(predicted_id)\n",
    "        output = tf.concat([output, tf.expand_dims([predicted_id], 0)], axis=-1)\n",
    "\n",
    "    result = tgt_tokenizer.decode_ids(ids)\n",
    "\n",
    "    return pieces, result, enc_attns, dec_attns, dec_enc_attns"
   ]
  },
  {
   "cell_type": "code",
   "execution_count": 37,
   "id": "4377494d",
   "metadata": {},
   "outputs": [],
   "source": [
    "# 번역 생성 및 Attention 시각화 결합\n",
    "\n",
    "def translate(sentence, model, src_tokenizer, tgt_tokenizer, epoch, plot_attention=False):\n",
    "    pieces, result, enc_attns, dec_attns, dec_enc_attns = \\\n",
    "    evaluate(sentence, model, src_tokenizer, tgt_tokenizer)\n",
    "    \n",
    "    print('Input: %s' % (sentence))\n",
    "    print('Predicted translation: {}'.format(result))\n",
    "    \n",
    "    #-----------------------------------\n",
    "    print(\"epoch\",epoch)   \n",
    "    translate_result = [epoch, sentence, result] \n",
    "    #------------------------------------   \n",
    "       \n",
    "    if (epoch== 1000 or epoch >= EPOCHS-1)  and plot_attention :\n",
    "        visualize_attention(pieces, result.split(), enc_attns, dec_attns, dec_enc_attns)   \n",
    "        \n",
    "    return  translate_result   "
   ]
  },
  {
   "cell_type": "markdown",
   "id": "076ef0d8",
   "metadata": {},
   "source": [
    "translate() 함수의 plot_attention 변수를 True 로 주면 번역 결과에 대한 Attention Map을 시각화 해볼 수 있습니다.\n",
    "\n",
    "마지막으로, 학습의 전 과정을 구현한 코드를 첨부합니다. 구현 과정에 참고해 주세요. 수고하셨습니다!!"
   ]
  },
  {
   "cell_type": "markdown",
   "id": "867e82ca",
   "metadata": {},
   "source": [
    "#### 학습1:  Hyper param Tuning 코드 없으나, 지우지 말것"
   ]
  },
  {
   "cell_type": "code",
   "execution_count": 113,
   "id": "3a65a212",
   "metadata": {
    "scrolled": false
   },
   "outputs": [
    {
     "data": {
      "text/plain": [
       "'\\nfrom tqdm import tqdm_notebook \\nimport tqdm\\n\\n#Training Parameters\\nWarmup_Steps= 4000\\nBATCH_SIZE = 64\\nEPOCHS = 1 #20 #20,50\\n\\'\\'\\'\\n#Hyperparameters\\nn_layers= 3\\nd_model= 512\\nn_heads= 8  \\nd_ff= 2048\\nsrc_vocab_size = 20000\\ntgt_vocab_size = 20000\\npos_len = 100 #100 #200 #50\\ndropout= 0.3\\nshared=True\\n\\'\\'\\'\\n\\nexamples = [\\n            \"오바마는 대통령이다.\",\\n            \"시민들은 도시 속에 산다.\",\\n            \"커피는 필요 없다.\",\\n            \"일곱 명의 사망자가 발생했다.\"\\n]\\n\\n# loss append\\nhistory = {\\'loss\\':[], \\'val_loss\\':[], \\'lr\\':[]}\\n\\nfor epoch in range(EPOCHS):\\n    total_loss = 0\\n    \\n    idx_list = list(range(0, enc_train.shape[0], BATCH_SIZE))\\n    random.shuffle(idx_list)\\n    t = tqdm.notebook.tqdm(idx_list)  #tqdm_notebook(idx_list)\\n\\n    for (batch, idx) in enumerate(t):\\n        batch_loss, enc_attns, dec_attns, dec_enc_attns = train_step(enc_train[idx:idx+BATCH_SIZE],\\n                    dec_train[idx:idx+BATCH_SIZE],\\n                    transformer,\\n                    optimizer)\\n\\n        total_loss += batch_loss\\n        \\n        t.set_description_str(\\'Epoch %2d\\' % (epoch + 1))\\n        t.set_postfix_str(\\'Loss %.4f\\' % (total_loss.numpy() / (batch + 1)))\\n        \\n        history[\\'loss\\'].append(round(total_loss.numpy() / (batch + 1),4))\\n        history[\\'lr\\'].append(optimizer.learning_rate)\\n\\n    for example in examples:\\n        translate(example, transformer, kor_tokenizer, eng_tokenizer, epoch, plot_attention= False) #True)\\n\\n# loss 그래프 \\nprint(\"history.keys()\",history.keys()) \\nplt.plot(range(len(history[\\'loss\\'])),history[\\'loss\\'])\\nplt.title(\\'Transformer_loss graph\\')\\nplt.xlabel(\\'step\\')\\nplt.ylabel(\\'loss\\')\\nplt.show()\\n'"
      ]
     },
     "execution_count": 113,
     "metadata": {},
     "output_type": "execute_result"
    }
   ],
   "source": [
    "# 학습1\n",
    "\"\"\"\n",
    "from tqdm import tqdm_notebook \n",
    "import tqdm\n",
    "\n",
    "#Training Parameters\n",
    "Warmup_Steps= 4000\n",
    "BATCH_SIZE = 64\n",
    "EPOCHS = 1 #20 #20,50\n",
    "'''\n",
    "#Hyperparameters\n",
    "n_layers= 3\n",
    "d_model= 512\n",
    "n_heads= 8  \n",
    "d_ff= 2048\n",
    "src_vocab_size = 20000\n",
    "tgt_vocab_size = 20000\n",
    "pos_len = 100 #100 #200 #50\n",
    "dropout= 0.3\n",
    "shared=True\n",
    "'''\n",
    "\n",
    "examples = [\n",
    "            \"오바마는 대통령이다.\",\n",
    "            \"시민들은 도시 속에 산다.\",\n",
    "            \"커피는 필요 없다.\",\n",
    "            \"일곱 명의 사망자가 발생했다.\"\n",
    "]\n",
    "\n",
    "# loss append\n",
    "history = {'loss':[], 'val_loss':[], 'lr':[]}\n",
    "\n",
    "for epoch in range(EPOCHS):\n",
    "    total_loss = 0\n",
    "    \n",
    "    idx_list = list(range(0, enc_train.shape[0], BATCH_SIZE))\n",
    "    random.shuffle(idx_list)\n",
    "    t = tqdm.notebook.tqdm(idx_list)  #tqdm_notebook(idx_list)\n",
    "\n",
    "    for (batch, idx) in enumerate(t):\n",
    "        batch_loss, enc_attns, dec_attns, dec_enc_attns = train_step(enc_train[idx:idx+BATCH_SIZE],\n",
    "                    dec_train[idx:idx+BATCH_SIZE],\n",
    "                    transformer,\n",
    "                    optimizer)\n",
    "\n",
    "        total_loss += batch_loss\n",
    "        \n",
    "        t.set_description_str('Epoch %2d' % (epoch + 1))\n",
    "        t.set_postfix_str('Loss %.4f' % (total_loss.numpy() / (batch + 1)))\n",
    "        \n",
    "        history['loss'].append(round(total_loss.numpy() / (batch + 1),4))\n",
    "        history['lr'].append(optimizer.learning_rate)\n",
    "\n",
    "    for example in examples:\n",
    "        translate(example, transformer, kor_tokenizer, eng_tokenizer, epoch, plot_attention= False) #True)\n",
    "\n",
    "# loss 그래프 \n",
    "print(\"history.keys()\",history.keys()) \n",
    "plt.plot(range(len(history['loss'])),history['loss'])\n",
    "plt.title('Transformer_loss graph')\n",
    "plt.xlabel('step')\n",
    "plt.ylabel('loss')\n",
    "plt.show()\n",
    "\"\"\""
   ]
  },
  {
   "cell_type": "markdown",
   "id": "ca9ccd8a",
   "metadata": {},
   "source": [
    "#### 학습2:  Hyper param Tuning 코드추가함"
   ]
  },
  {
   "cell_type": "code",
   "execution_count": 38,
   "id": "691d3a34",
   "metadata": {},
   "outputs": [
    {
     "name": "stdout",
     "output_type": "stream",
     "text": [
      "i 0 param 20\n",
      "[[0.00000000e+00 0.00000000e+00 0.00000000e+00 ... 0.00000000e+00\n",
      "  0.00000000e+00 0.00000000e+00]\n",
      " [1.00000000e+00 9.82171889e-01 9.64661620e-01 ... 1.05544960e-04\n",
      "  1.03663293e-04 1.01815172e-04]\n",
      " [2.00000000e+00 1.96434378e+00 1.92932324e+00 ... 2.11089920e-04\n",
      "  2.07326586e-04 2.03630344e-04]\n",
      " ...\n",
      " [4.70000000e+01 4.61620788e+01 4.53390961e+01 ... 4.96061312e-03\n",
      "  4.87217476e-03 4.78531309e-03]\n",
      " [4.80000000e+01 4.71442507e+01 4.63037578e+01 ... 5.06615808e-03\n",
      "  4.97583806e-03 4.88712826e-03]\n",
      " [4.90000000e+01 4.81264226e+01 4.72684194e+01 ... 5.17170304e-03\n",
      "  5.07950135e-03 4.98894344e-03]]\n"
     ]
    },
    {
     "data": {
      "application/vnd.jupyter.widget-view+json": {
       "model_id": "2fc5439864d242cf92ba63ab84f3193e",
       "version_major": 2,
       "version_minor": 0
      },
      "text/plain": [
       "  0%|          | 0/1118 [00:00<?, ?it/s]"
      ]
     },
     "metadata": {},
     "output_type": "display_data"
    },
    {
     "name": "stdout",
     "output_type": "stream",
     "text": [
      "Epoch 0 Epoch_변화시_학습율적용_step >> count_step 1118 lr 0.00019530655\n",
      "epoch_loss 7.7896\n",
      "Input: 오바마는 대통령이다.\n",
      "Predicted translation: obama is the president\n",
      "epoch 0\n",
      "Input: 시민들은 도시 속에 산다.\n",
      "Predicted translation: the affirmative is the first of the  ⁇ \n",
      "epoch 0\n",
      "Input: 커피는 필요 없다.\n",
      "Predicted translation: the time is a .\n",
      "epoch 0\n",
      "Input: 일곱 명의 사망자가 발생했다.\n",
      "Predicted translation: the u . s .\n",
      "epoch 0\n"
     ]
    },
    {
     "data": {
      "application/vnd.jupyter.widget-view+json": {
       "model_id": "456a10f5827f41a78cf87d889198f4ab",
       "version_major": 2,
       "version_minor": 0
      },
      "text/plain": [
       "  0%|          | 0/1118 [00:00<?, ?it/s]"
      ]
     },
     "metadata": {},
     "output_type": "display_data"
    },
    {
     "name": "stdout",
     "output_type": "stream",
     "text": [
      "Epoch 1 Epoch_변화시_학습율적용_step >> count_step 2236 lr 0.0003906131\n",
      "epoch_loss 6.7158\n",
      "Input: 오바마는 대통령이다.\n",
      "Predicted translation: obama is the first time .\n",
      "epoch 1\n",
      "Input: 시민들은 도시 속에 산다.\n",
      "Predicted translation: the move is the first time .\n",
      "epoch 1\n",
      "Input: 커피는 필요 없다.\n",
      "Predicted translation: the greene s  ⁇ \n",
      "epoch 1\n",
      "Input: 일곱 명의 사망자가 발생했다.\n",
      "Predicted translation: the two were also , the country , said .\n",
      "epoch 1\n"
     ]
    },
    {
     "data": {
      "application/vnd.jupyter.widget-view+json": {
       "model_id": "aad62c30c6c440f698b7a7f1646e163c",
       "version_major": 2,
       "version_minor": 0
      },
      "text/plain": [
       "  0%|          | 0/1118 [00:00<?, ?it/s]"
      ]
     },
     "metadata": {},
     "output_type": "display_data"
    },
    {
     "name": "stdout",
     "output_type": "stream",
     "text": [
      "Epoch 2 Epoch_변화시_학습율적용_step >> count_step 3354 lr 0.00058591965\n",
      "epoch_loss 6.1963\n",
      "Input: 오바마는 대통령이다.\n",
      "Predicted translation: obama is a very president .\n",
      "epoch 2\n",
      "Input: 시민들은 도시 속에 산다.\n",
      "Predicted translation: the biggest , the arises was a .\n",
      "epoch 2\n",
      "Input: 커피는 필요 없다.\n",
      "Predicted translation: it s not a very very very very very very very very very very very very very very very very very very very very very .\n",
      "epoch 2\n",
      "Input: 일곱 명의 사망자가 발생했다.\n",
      "Predicted translation: the official said the company was killed in the block .\n",
      "epoch 2\n"
     ]
    },
    {
     "data": {
      "application/vnd.jupyter.widget-view+json": {
       "model_id": "c8517233628348c7bb225934a9e5a607",
       "version_major": 2,
       "version_minor": 0
      },
      "text/plain": [
       "  0%|          | 0/1118 [00:00<?, ?it/s]"
      ]
     },
     "metadata": {},
     "output_type": "display_data"
    },
    {
     "name": "stdout",
     "output_type": "stream",
     "text": [
      "Epoch 3 Epoch_변화시_학습율적용_step >> count_step 4472 lr 0.0006608671\n",
      "epoch_loss 5.8426\n",
      "Input: 오바마는 대통령이다.\n",
      "Predicted translation: obama is the first time .\n",
      "epoch 3\n",
      "Input: 시민들은 도시 속에 산다.\n",
      "Predicted translation: the biggest the city of the city .\n",
      "epoch 3\n",
      "Input: 커피는 필요 없다.\n",
      "Predicted translation: the has been a lot of the  ⁇ \n",
      "epoch 3\n",
      "Input: 일곱 명의 사망자가 발생했다.\n",
      "Predicted translation: the death of the deaths are in the death .\n",
      "epoch 3\n"
     ]
    },
    {
     "data": {
      "application/vnd.jupyter.widget-view+json": {
       "model_id": "66cbf171af8440c483e18b68d38a73cb",
       "version_major": 2,
       "version_minor": 0
      },
      "text/plain": [
       "  0%|          | 0/1118 [00:00<?, ?it/s]"
      ]
     },
     "metadata": {},
     "output_type": "display_data"
    },
    {
     "name": "stdout",
     "output_type": "stream",
     "text": [
      "Epoch 4 Epoch_변화시_학습율적용_step >> count_step 5590 lr 0.00059109746\n",
      "epoch_loss 5.4966\n",
      "Input: 오바마는 대통령이다.\n",
      "Predicted translation: obama is the first time .\n",
      "epoch 4\n",
      "Input: 시민들은 도시 속에 산다.\n",
      "Predicted translation: thestormy of the city of the city of the city of the city s new york city .\n",
      "epoch 4\n",
      "Input: 커피는 필요 없다.\n",
      "Predicted translation: theshak is not a .\n",
      "epoch 4\n",
      "Input: 일곱 명의 사망자가 발생했다.\n",
      "Predicted translation: the death toll is death of the death toll .\n",
      "epoch 4\n"
     ]
    },
    {
     "data": {
      "application/vnd.jupyter.widget-view+json": {
       "model_id": "2340e6399b5d44628790c79243d9874f",
       "version_major": 2,
       "version_minor": 0
      },
      "text/plain": [
       "  0%|          | 0/1118 [00:00<?, ?it/s]"
      ]
     },
     "metadata": {},
     "output_type": "display_data"
    },
    {
     "name": "stdout",
     "output_type": "stream",
     "text": [
      "Epoch 5 Epoch_변화시_학습율적용_step >> count_step 6708 lr 0.0005395957\n",
      "epoch_loss 5.1563\n",
      "Input: 오바마는 대통령이다.\n",
      "Predicted translation: obama s president is the president of the president .\n",
      "epoch 5\n",
      "Input: 시민들은 도시 속에 산다.\n",
      "Predicted translation: the time the city is in the city of the city of the city .\n",
      "epoch 5\n",
      "Input: 커피는 필요 없다.\n",
      "Predicted translation: it s not to be a  ⁇ \n",
      "epoch 5\n",
      "Input: 일곱 명의 사망자가 발생했다.\n",
      "Predicted translation: the death toll from the death toll .\n",
      "epoch 5\n"
     ]
    },
    {
     "data": {
      "application/vnd.jupyter.widget-view+json": {
       "model_id": "8b5747d1bcde45d1b199c03dc36ddcde",
       "version_major": 2,
       "version_minor": 0
      },
      "text/plain": [
       "  0%|          | 0/1118 [00:00<?, ?it/s]"
      ]
     },
     "metadata": {},
     "output_type": "display_data"
    },
    {
     "name": "stdout",
     "output_type": "stream",
     "text": [
      "Epoch 6 Epoch_변화시_학습율적용_step >> count_step 7826 lr 0.0004995686\n",
      "epoch_loss 4.8344\n",
      "Input: 오바마는 대통령이다.\n",
      "Predicted translation: obama is a way to be a president .\n",
      "epoch 6\n",
      "Input: 시민들은 도시 속에 산다.\n",
      "Predicted translation: the study was a highest .\n",
      "epoch 6\n",
      "Input: 커피는 필요 없다.\n",
      "Predicted translation: there is no such a  ⁇ \n",
      "epoch 6\n",
      "Input: 일곱 명의 사망자가 발생했다.\n",
      "Predicted translation: another death was killed .\n",
      "epoch 6\n"
     ]
    },
    {
     "data": {
      "application/vnd.jupyter.widget-view+json": {
       "model_id": "bdf04245b0014fdf92315810b78fe2f9",
       "version_major": 2,
       "version_minor": 0
      },
      "text/plain": [
       "  0%|          | 0/1118 [00:00<?, ?it/s]"
      ]
     },
     "metadata": {},
     "output_type": "display_data"
    },
    {
     "name": "stdout",
     "output_type": "stream",
     "text": [
      "Epoch 7 Epoch_변화시_학습율적용_step >> count_step 8944 lr 0.0004673036\n",
      "epoch_loss 4.5173\n",
      "Input: 오바마는 대통령이다.\n",
      "Predicted translation: obama s presidential election .\n",
      "epoch 7\n",
      "Input: 시민들은 도시 속에 산다.\n",
      "Predicted translation: the study was a highest .\n",
      "epoch 7\n",
      "Input: 커피는 필요 없다.\n",
      "Predicted translation: there is no more likely to be a great .\n",
      "epoch 7\n",
      "Input: 일곱 명의 사망자가 발생했다.\n",
      "Predicted translation: the death toll was reported .\n",
      "epoch 7\n"
     ]
    },
    {
     "data": {
      "application/vnd.jupyter.widget-view+json": {
       "model_id": "427603a9e46c44c09f88372679d0bc54",
       "version_major": 2,
       "version_minor": 0
      },
      "text/plain": [
       "  0%|          | 0/1118 [00:00<?, ?it/s]"
      ]
     },
     "metadata": {},
     "output_type": "display_data"
    },
    {
     "name": "stdout",
     "output_type": "stream",
     "text": [
      "Epoch 8 Epoch_변화시_학습율적용_step >> count_step 10062 lr 0.00044057803\n",
      "epoch_loss 4.2025\n",
      "Input: 오바마는 대통령이다.\n",
      "Predicted translation: obama is the best .\n",
      "epoch 8\n",
      "Input: 시민들은 도시 속에 산다.\n",
      "Predicted translation: the men are the men in the city of the city .\n",
      "epoch 8\n",
      "Input: 커피는 필요 없다.\n",
      "Predicted translation: it s a goodck .\n",
      "epoch 8\n",
      "Input: 일곱 명의 사망자가 발생했다.\n",
      "Predicted translation: the death toll in the city of death .\n",
      "epoch 8\n"
     ]
    },
    {
     "data": {
      "application/vnd.jupyter.widget-view+json": {
       "model_id": "54aec8cfd31649dabc741325a8214138",
       "version_major": 2,
       "version_minor": 0
      },
      "text/plain": [
       "  0%|          | 0/1118 [00:00<?, ?it/s]"
      ]
     },
     "metadata": {},
     "output_type": "display_data"
    },
    {
     "name": "stdout",
     "output_type": "stream",
     "text": [
      "Epoch 9 Epoch_변화시_학습율적용_step >> count_step 11180 lr 0.00041796904\n",
      "epoch_loss 3.8945\n",
      "Input: 오바마는 대통령이다.\n",
      "Predicted translation: obama is the way .\n",
      "epoch 9\n",
      "Input: 시민들은 도시 속에 산다.\n",
      "Predicted translation: vehicles in the city of the city .\n",
      "epoch 9\n",
      "Input: 커피는 필요 없다.\n",
      "Predicted translation: not just how the  ⁇ \n",
      "epoch 9\n",
      "Input: 일곱 명의 사망자가 발생했다.\n",
      "Predicted translation: the deaths of the death toll in the nan have been killed since the death toll .\n",
      "epoch 9\n"
     ]
    },
    {
     "data": {
      "application/vnd.jupyter.widget-view+json": {
       "model_id": "b9fcd1cf24454a7b8b37a8c3e1598c61",
       "version_major": 2,
       "version_minor": 0
      },
      "text/plain": [
       "  0%|          | 0/1118 [00:00<?, ?it/s]"
      ]
     },
     "metadata": {},
     "output_type": "display_data"
    },
    {
     "name": "stdout",
     "output_type": "stream",
     "text": [
      "Epoch 10 Epoch_변화시_학습율적용_step >> count_step 12298 lr 0.00039851782\n",
      "epoch_loss 3.5973\n",
      "Input: 오바마는 대통령이다.\n",
      "Predicted translation: obama is the way .\n",
      "epoch 10\n",
      "Input: 시민들은 도시 속에 산다.\n",
      "Predicted translation: vehiclesy in the city .\n",
      "epoch 10\n",
      "Input: 커피는 필요 없다.\n",
      "Predicted translation: not only the  xl . not just about the problem .\n",
      "epoch 10\n",
      "Input: 일곱 명의 사망자가 발생했다.\n",
      "Predicted translation: a small girl was killed .\n",
      "epoch 10\n"
     ]
    },
    {
     "data": {
      "application/vnd.jupyter.widget-view+json": {
       "model_id": "3150be115ce04514aaed43f62b4a7db7",
       "version_major": 2,
       "version_minor": 0
      },
      "text/plain": [
       "  0%|          | 0/1118 [00:00<?, ?it/s]"
      ]
     },
     "metadata": {},
     "output_type": "display_data"
    },
    {
     "name": "stdout",
     "output_type": "stream",
     "text": [
      "Epoch 11 Epoch_변화시_학습율적용_step >> count_step 13416 lr 0.0003815518\n",
      "epoch_loss 3.3173\n",
      "Input: 오바마는 대통령이다.\n",
      "Predicted translation: obama is a long termed by his the president .\n",
      "epoch 11\n",
      "Input: 시민들은 도시 속에 산다.\n",
      "Predicted translation: all vehicles get from the city .\n",
      "epoch 11\n",
      "Input: 커피는 필요 없다.\n",
      "Predicted translation: not only the very good . not only been very good .\n",
      "epoch 11\n",
      "Input: 일곱 명의 사망자가 발생했다.\n",
      "Predicted translation: a small number of dead wererrays .\n",
      "epoch 11\n"
     ]
    },
    {
     "data": {
      "application/vnd.jupyter.widget-view+json": {
       "model_id": "c3218c47aba44fd6940ac1e566fd33de",
       "version_major": 2,
       "version_minor": 0
      },
      "text/plain": [
       "  0%|          | 0/1118 [00:00<?, ?it/s]"
      ]
     },
     "metadata": {},
     "output_type": "display_data"
    },
    {
     "name": "stdout",
     "output_type": "stream",
     "text": [
      "Epoch 12 Epoch_변화시_학습율적용_step >> count_step 14534 lr 0.00036658312\n",
      "epoch_loss 3.0553\n",
      "Input: 오바마는 대통령이다.\n",
      "Predicted translation: the obamas are the same .\n",
      "epoch 12\n",
      "Input: 시민들은 도시 속에 산다.\n",
      "Predicted translation: they are very excited .\n",
      "epoch 12\n",
      "Input: 커피는 필요 없다.\n",
      "Predicted translation: there is no term in a visa .\n",
      "epoch 12\n",
      "Input: 일곱 명의 사망자가 발생했다.\n",
      "Predicted translation: a small number of deadly dead .\n",
      "epoch 12\n"
     ]
    },
    {
     "data": {
      "application/vnd.jupyter.widget-view+json": {
       "model_id": "a01e0668919f42c19c6d1694ce573ba4",
       "version_major": 2,
       "version_minor": 0
      },
      "text/plain": [
       "  0%|          | 0/1118 [00:00<?, ?it/s]"
      ]
     },
     "metadata": {},
     "output_type": "display_data"
    },
    {
     "name": "stdout",
     "output_type": "stream",
     "text": [
      "Epoch 13 Epoch_변화시_학습율적용_step >> count_step 15652 lr 0.0003532483\n",
      "epoch_loss 2.8096\n",
      "Input: 오바마는 대통령이다.\n",
      "Predicted translation: obama is a espan .\n",
      "epoch 13\n",
      "Input: 시민들은 도시 속에 산다.\n",
      "Predicted translation: take theshape our\n",
      "epoch 13\n",
      "Input: 커피는 필요 없다.\n",
      "Predicted translation: there is no sign that there is no  ⁇ \n",
      "epoch 13\n",
      "Input: 일곱 명의 사망자가 발생했다.\n",
      "Predicted translation: a small girl machine emba is stillhp .\n",
      "epoch 13\n"
     ]
    },
    {
     "data": {
      "application/vnd.jupyter.widget-view+json": {
       "model_id": "079e1643a6d74c6b8a81800b3543ffdb",
       "version_major": 2,
       "version_minor": 0
      },
      "text/plain": [
       "  0%|          | 0/1118 [00:00<?, ?it/s]"
      ]
     },
     "metadata": {},
     "output_type": "display_data"
    },
    {
     "name": "stdout",
     "output_type": "stream",
     "text": [
      "Epoch 14 Epoch_변화시_학습율적용_step >> count_step 16770 lr 0.0003412703\n",
      "epoch_loss 2.5799\n",
      "Input: 오바마는 대통령이다.\n",
      "Predicted translation: obama is the best way .\n",
      "epoch 14\n",
      "Input: 시민들은 도시 속에 산다.\n",
      "Predicted translation: vehicles was a dazzling ketch .\n",
      "epoch 14\n",
      "Input: 커피는 필요 없다.\n",
      "Predicted translation: there s never term in tighten cases . . . . . . . . . . you have a right .\n",
      "epoch 14\n",
      "Input: 일곱 명의 사망자가 발생했다.\n",
      "Predicted translation: a small number of dead has been killed .\n",
      "epoch 14\n"
     ]
    },
    {
     "data": {
      "application/vnd.jupyter.widget-view+json": {
       "model_id": "c37890a56d944ab8af6fa4c15df49803",
       "version_major": 2,
       "version_minor": 0
      },
      "text/plain": [
       "  0%|          | 0/1118 [00:00<?, ?it/s]"
      ]
     },
     "metadata": {},
     "output_type": "display_data"
    },
    {
     "name": "stdout",
     "output_type": "stream",
     "text": [
      "Epoch 15 Epoch_변화시_학습율적용_step >> count_step 17888 lr 0.00033043354\n",
      "epoch_loss 2.3703\n",
      "Input: 오바마는 대통령이다.\n",
      "Predicted translation: obama is a third liar .\n",
      "epoch 15\n",
      "Input: 시민들은 도시 속에 산다.\n",
      "Predicted translation: al , new complicated in the city of down .\n",
      "epoch 15\n",
      "Input: 커피는 필요 없다.\n",
      "Predicted translation: it s never more . it . . . . . . . . . . . . . . . . . . . . . . . . . . . . . . . . . com .\n",
      "epoch 15\n",
      "Input: 일곱 명의 사망자가 발생했다.\n",
      "Predicted translation: a small girl , 4 ⁇  police .\n",
      "epoch 15\n"
     ]
    },
    {
     "data": {
      "application/vnd.jupyter.widget-view+json": {
       "model_id": "9ce7871634ce4f5c8ee2d755400f589e",
       "version_major": 2,
       "version_minor": 0
      },
      "text/plain": [
       "  0%|          | 0/1118 [00:00<?, ?it/s]"
      ]
     },
     "metadata": {},
     "output_type": "display_data"
    },
    {
     "name": "stdout",
     "output_type": "stream",
     "text": [
      "Epoch 16 Epoch_변화시_학습율적용_step >> count_step 19006 lr 0.00032056763\n",
      "epoch_loss 2.177\n",
      "Input: 오바마는 대통령이다.\n",
      "Predicted translation: obama is a verdierwalker .\n",
      "epoch 16\n",
      "Input: 시민들은 도시 속에 산다.\n",
      "Predicted translation: vehicles failed .\n",
      "epoch 16\n",
      "Input: 커피는 필요 없다.\n",
      "Predicted translation: there s never term . it s something . . i don t have a good . not rerun .\n",
      "epoch 16\n",
      "Input: 일곱 명의 사망자가 발생했다.\n",
      "Predicted translation: a small girl hit has beenenez .\n",
      "epoch 16\n"
     ]
    },
    {
     "data": {
      "application/vnd.jupyter.widget-view+json": {
       "model_id": "67aaac272ad54124b825de68f3f74a65",
       "version_major": 2,
       "version_minor": 0
      },
      "text/plain": [
       "  0%|          | 0/1118 [00:00<?, ?it/s]"
      ]
     },
     "metadata": {},
     "output_type": "display_data"
    },
    {
     "name": "stdout",
     "output_type": "stream",
     "text": [
      "Epoch 17 Epoch_변화시_학습율적용_step >> count_step 20124 lr 0.00031153572\n",
      "epoch_loss 1.9987\n",
      "Input: 오바마는 대통령이다.\n",
      "Predicted translation: obama is the best for his corners .\n",
      "epoch 17\n",
      "Input: 시민들은 도시 속에 산다.\n",
      "Predicted translation: nineally residents are from the city of growny .\n",
      "epoch 17\n",
      "Input: 커피는 필요 없다.\n",
      "Predicted translation: it s never more only about you re doing  ⁇ \n",
      "epoch 17\n",
      "Input: 일곱 명의 사망자가 발생했다.\n",
      "Predicted translation: a hospital , which is 4 . skirmish\n",
      "epoch 17\n"
     ]
    },
    {
     "data": {
      "application/vnd.jupyter.widget-view+json": {
       "model_id": "010b5f91b1f8497fbfc837c13f3ff43b",
       "version_major": 2,
       "version_minor": 0
      },
      "text/plain": [
       "  0%|          | 0/1118 [00:00<?, ?it/s]"
      ]
     },
     "metadata": {},
     "output_type": "display_data"
    },
    {
     "name": "stdout",
     "output_type": "stream",
     "text": [
      "Epoch 18 Epoch_변화시_학습율적용_step >> count_step 21242 lr 0.0003032266\n",
      "epoch_loss 1.8355\n",
      "Input: 오바마는 대통령이다.\n",
      "Predicted translation: obama is the best candidate .\n",
      "epoch 18\n",
      "Input: 시민들은 도시 속에 산다.\n",
      "Predicted translation: vehicles was nearly the city of support .\n",
      "epoch 18\n",
      "Input: 커피는 필요 없다.\n",
      "Predicted translation: you have to . to be changing a co loath .\n",
      "epoch 18\n",
      "Input: 일곱 명의 사망자가 발생했다.\n",
      "Predicted translation: a small girl hit s chunk .\n",
      "epoch 18\n"
     ]
    },
    {
     "data": {
      "application/vnd.jupyter.widget-view+json": {
       "model_id": "51b4f5575f4f409498b0d77caddd7217",
       "version_major": 2,
       "version_minor": 0
      },
      "text/plain": [
       "  0%|          | 0/1118 [00:00<?, ?it/s]"
      ]
     },
     "metadata": {},
     "output_type": "display_data"
    },
    {
     "name": "stdout",
     "output_type": "stream",
     "text": [
      "Epoch 19 Epoch_변화시_학습율적용_step >> count_step 22360 lr 0.00029554873\n",
      "epoch_loss 1.6844\n",
      "Input: 오바마는 대통령이다.\n",
      "Predicted translation: obama is the best candidate .\n",
      "epoch 19\n",
      "Input: 시민들은 도시 속에 산다.\n",
      "Predicted translation: vehicles weren t what increased was .\n",
      "epoch 19\n",
      "Input: 커피는 필요 없다.\n",
      "Predicted translation: there s never term . . . you know , there s never just you don t come from your lp . . . . . you feel at this rate .\n",
      "epoch 19\n",
      "Input: 일곱 명의 사망자가 발생했다.\n",
      "Predicted translation: a hospital .\n",
      "epoch 19\n",
      "history.keys() dict_keys(['EPOCHS']) dict_keys(['20'])\n",
      "history[hpname][f'{param}']['loss'] [7.7896, 6.7158, 6.1963, 5.8426, 5.4966, 5.1563, 4.8344, 4.5173, 4.2025, 3.8945, 3.5973, 3.3173, 3.0553, 2.8096, 2.5799, 2.3703, 2.177, 1.9987, 1.8355, 1.6844]\n",
      "history[hpname][f'{param}']['lr'] [0.00019530655, 0.0003906131, 0.00058591965, 0.0006608671, 0.00059109746, 0.0005395957, 0.0004995686, 0.0004673036, 0.00044057803, 0.00041796904, 0.00039851782, 0.0003815518, 0.00036658312, 0.0003532483, 0.0003412703, 0.00033043354, 0.00032056763, 0.00031153572, 0.0003032266, 0.00029554873]\n"
     ]
    },
    {
     "data": {
      "image/png": "[encoded data removed]",
      "text/plain": [
       "<Figure size 432x288 with 2 Axes>"
      ]
     },
     "metadata": {
      "image/png": {
       "height": 282,
       "width": 471
      },
      "needs_background": "light"
     },
     "output_type": "display_data"
    },
    {
     "name": "stdout",
     "output_type": "stream",
     "text": [
      "EPOCHS_Best_loss ['20', {'loss': [7.7896, 6.7158, 6.1963, 5.8426, 5.4966, 5.1563, 4.8344, 4.5173, 4.2025, 3.8945, 3.5973, 3.3173, 3.0553, 2.8096, 2.5799, 2.3703, 2.177, 1.9987, 1.8355, 1.6844], 'val_loss': [], 'lr': [0.00019530655, 0.0003906131, 0.00058591965, 0.0006608671, 0.00059109746, 0.0005395957, 0.0004995686, 0.0004673036, 0.00044057803, 0.00041796904, 0.00039851782, 0.0003815518, 0.00036658312, 0.0003532483, 0.0003412703, 0.00033043354, 0.00032056763, 0.00031153572, 0.0003032266, 0.00029554873], 'result': [[0, '오바마는 대통령이다.', 'obama is the president'], [0, '시민들은 도시 속에 산다.', 'the affirmative is the first of the  ⁇ '], [0, '커피는 필요 없다.', 'the time is a .'], [0, '일곱 명의 사망자가 발생했다.', 'the u . s .'], [1, '오바마는 대통령이다.', 'obama is the first time .'], [1, '시민들은 도시 속에 산다.', 'the move is the first time .'], [1, '커피는 필요 없다.', 'the greene s  ⁇ '], [1, '일곱 명의 사망자가 발생했다.', 'the two were also , the country , said .'], [2, '오바마는 대통령이다.', 'obama is a very president .'], [2, '시민들은 도시 속에 산다.', 'the biggest , the arises was a .'], [2, '커피는 필요 없다.', 'it s not a very very very very very very very very very very very very very very very very very very very very very .'], [2, '일곱 명의 사망자가 발생했다.', 'the official said the company was killed in the block .'], [3, '오바마는 대통령이다.', 'obama is the first time .'], [3, '시민들은 도시 속에 산다.', 'the biggest the city of the city .'], [3, '커피는 필요 없다.', 'the has been a lot of the  ⁇ '], [3, '일곱 명의 사망자가 발생했다.', 'the death of the deaths are in the death .'], [4, '오바마는 대통령이다.', 'obama is the first time .'], [4, '시민들은 도시 속에 산다.', 'thestormy of the city of the city of the city of the city s new york city .'], [4, '커피는 필요 없다.', 'theshak is not a .'], [4, '일곱 명의 사망자가 발생했다.', 'the death toll is death of the death toll .'], [5, '오바마는 대통령이다.', 'obama s president is the president of the president .'], [5, '시민들은 도시 속에 산다.', 'the time the city is in the city of the city of the city .'], [5, '커피는 필요 없다.', 'it s not to be a  ⁇ '], [5, '일곱 명의 사망자가 발생했다.', 'the death toll from the death toll .'], [6, '오바마는 대통령이다.', 'obama is a way to be a president .'], [6, '시민들은 도시 속에 산다.', 'the study was a highest .'], [6, '커피는 필요 없다.', 'there is no such a  ⁇ '], [6, '일곱 명의 사망자가 발생했다.', 'another death was killed .'], [7, '오바마는 대통령이다.', 'obama s presidential election .'], [7, '시민들은 도시 속에 산다.', 'the study was a highest .'], [7, '커피는 필요 없다.', 'there is no more likely to be a great .'], [7, '일곱 명의 사망자가 발생했다.', 'the death toll was reported .'], [8, '오바마는 대통령이다.', 'obama is the best .'], [8, '시민들은 도시 속에 산다.', 'the men are the men in the city of the city .'], [8, '커피는 필요 없다.', 'it s a goodck .'], [8, '일곱 명의 사망자가 발생했다.', 'the death toll in the city of death .'], [9, '오바마는 대통령이다.', 'obama is the way .'], [9, '시민들은 도시 속에 산다.', 'vehicles in the city of the city .'], [9, '커피는 필요 없다.', 'not just how the  ⁇ '], [9, '일곱 명의 사망자가 발생했다.', 'the deaths of the death toll in the nan have been killed since the death toll .'], [10, '오바마는 대통령이다.', 'obama is the way .'], [10, '시민들은 도시 속에 산다.', 'vehiclesy in the city .'], [10, '커피는 필요 없다.', 'not only the  xl . not just about the problem .'], [10, '일곱 명의 사망자가 발생했다.', 'a small girl was killed .'], [11, '오바마는 대통령이다.', 'obama is a long termed by his the president .'], [11, '시민들은 도시 속에 산다.', 'all vehicles get from the city .'], [11, '커피는 필요 없다.', 'not only the very good . not only been very good .'], [11, '일곱 명의 사망자가 발생했다.', 'a small number of dead wererrays .'], [12, '오바마는 대통령이다.', 'the obamas are the same .'], [12, '시민들은 도시 속에 산다.', 'they are very excited .'], [12, '커피는 필요 없다.', 'there is no term in a visa .'], [12, '일곱 명의 사망자가 발생했다.', 'a small number of deadly dead .'], [13, '오바마는 대통령이다.', 'obama is a espan .'], [13, '시민들은 도시 속에 산다.', 'take theshape our'], [13, '커피는 필요 없다.', 'there is no sign that there is no  ⁇ '], [13, '일곱 명의 사망자가 발생했다.', 'a small girl machine emba is stillhp .'], [14, '오바마는 대통령이다.', 'obama is the best way .'], [14, '시민들은 도시 속에 산다.', 'vehicles was a dazzling ketch .'], [14, '커피는 필요 없다.', 'there s never term in tighten cases . . . . . . . . . . you have a right .'], [14, '일곱 명의 사망자가 발생했다.', 'a small number of dead has been killed .'], [15, '오바마는 대통령이다.', 'obama is a third liar .'], [15, '시민들은 도시 속에 산다.', 'al , new complicated in the city of down .'], [15, '커피는 필요 없다.', 'it s never more . it . . . . . . . . . . . . . . . . . . . . . . . . . . . . . . . . . com .'], [15, '일곱 명의 사망자가 발생했다.', 'a small girl , 4 ⁇  police .'], [16, '오바마는 대통령이다.', 'obama is a verdierwalker .'], [16, '시민들은 도시 속에 산다.', 'vehicles failed .'], [16, '커피는 필요 없다.', 'there s never term . it s something . . i don t have a good . not rerun .'], [16, '일곱 명의 사망자가 발생했다.', 'a small girl hit has beenenez .'], [17, '오바마는 대통령이다.', 'obama is the best for his corners .'], [17, '시민들은 도시 속에 산다.', 'nineally residents are from the city of growny .'], [17, '커피는 필요 없다.', 'it s never more only about you re doing  ⁇ '], [17, '일곱 명의 사망자가 발생했다.', 'a hospital , which is 4 . skirmish'], [18, '오바마는 대통령이다.', 'obama is the best candidate .'], [18, '시민들은 도시 속에 산다.', 'vehicles was nearly the city of support .'], [18, '커피는 필요 없다.', 'you have to . to be changing a co loath .'], [18, '일곱 명의 사망자가 발생했다.', 'a small girl hit s chunk .'], [19, '오바마는 대통령이다.', 'obama is the best candidate .'], [19, '시민들은 도시 속에 산다.', 'vehicles weren t what increased was .'], [19, '커피는 필요 없다.', 'there s never term . . . you know , there s never just you don t come from your lp . . . . . you feel at this rate .'], [19, '일곱 명의 사망자가 발생했다.', 'a hospital .']]}]\n",
      "Best_hpname_param_list 1 [['EPOCHS', ['20', {'loss': [7.7896, 6.7158, 6.1963, 5.8426, 5.4966, 5.1563, 4.8344, 4.5173, 4.2025, 3.8945, 3.5973, 3.3173, 3.0553, 2.8096, 2.5799, 2.3703, 2.177, 1.9987, 1.8355, 1.6844], 'val_loss': [], 'lr': [0.00019530655, 0.0003906131, 0.00058591965, 0.0006608671, 0.00059109746, 0.0005395957, 0.0004995686, 0.0004673036, 0.00044057803, 0.00041796904, 0.00039851782, 0.0003815518, 0.00036658312, 0.0003532483, 0.0003412703, 0.00033043354, 0.00032056763, 0.00031153572, 0.0003032266, 0.00029554873], 'result': [[0, '오바마는 대통령이다.', 'obama is the president'], [0, '시민들은 도시 속에 산다.', 'the affirmative is the first of the  ⁇ '], [0, '커피는 필요 없다.', 'the time is a .'], [0, '일곱 명의 사망자가 발생했다.', 'the u . s .'], [1, '오바마는 대통령이다.', 'obama is the first time .'], [1, '시민들은 도시 속에 산다.', 'the move is the first time .'], [1, '커피는 필요 없다.', 'the greene s  ⁇ '], [1, '일곱 명의 사망자가 발생했다.', 'the two were also , the country , said .'], [2, '오바마는 대통령이다.', 'obama is a very president .'], [2, '시민들은 도시 속에 산다.', 'the biggest , the arises was a .'], [2, '커피는 필요 없다.', 'it s not a very very very very very very very very very very very very very very very very very very very very very .'], [2, '일곱 명의 사망자가 발생했다.', 'the official said the company was killed in the block .'], [3, '오바마는 대통령이다.', 'obama is the first time .'], [3, '시민들은 도시 속에 산다.', 'the biggest the city of the city .'], [3, '커피는 필요 없다.', 'the has been a lot of the  ⁇ '], [3, '일곱 명의 사망자가 발생했다.', 'the death of the deaths are in the death .'], [4, '오바마는 대통령이다.', 'obama is the first time .'], [4, '시민들은 도시 속에 산다.', 'thestormy of the city of the city of the city of the city s new york city .'], [4, '커피는 필요 없다.', 'theshak is not a .'], [4, '일곱 명의 사망자가 발생했다.', 'the death toll is death of the death toll .'], [5, '오바마는 대통령이다.', 'obama s president is the president of the president .'], [5, '시민들은 도시 속에 산다.', 'the time the city is in the city of the city of the city .'], [5, '커피는 필요 없다.', 'it s not to be a  ⁇ '], [5, '일곱 명의 사망자가 발생했다.', 'the death toll from the death toll .'], [6, '오바마는 대통령이다.', 'obama is a way to be a president .'], [6, '시민들은 도시 속에 산다.', 'the study was a highest .'], [6, '커피는 필요 없다.', 'there is no such a  ⁇ '], [6, '일곱 명의 사망자가 발생했다.', 'another death was killed .'], [7, '오바마는 대통령이다.', 'obama s presidential election .'], [7, '시민들은 도시 속에 산다.', 'the study was a highest .'], [7, '커피는 필요 없다.', 'there is no more likely to be a great .'], [7, '일곱 명의 사망자가 발생했다.', 'the death toll was reported .'], [8, '오바마는 대통령이다.', 'obama is the best .'], [8, '시민들은 도시 속에 산다.', 'the men are the men in the city of the city .'], [8, '커피는 필요 없다.', 'it s a goodck .'], [8, '일곱 명의 사망자가 발생했다.', 'the death toll in the city of death .'], [9, '오바마는 대통령이다.', 'obama is the way .'], [9, '시민들은 도시 속에 산다.', 'vehicles in the city of the city .'], [9, '커피는 필요 없다.', 'not just how the  ⁇ '], [9, '일곱 명의 사망자가 발생했다.', 'the deaths of the death toll in the nan have been killed since the death toll .'], [10, '오바마는 대통령이다.', 'obama is the way .'], [10, '시민들은 도시 속에 산다.', 'vehiclesy in the city .'], [10, '커피는 필요 없다.', 'not only the  xl . not just about the problem .'], [10, '일곱 명의 사망자가 발생했다.', 'a small girl was killed .'], [11, '오바마는 대통령이다.', 'obama is a long termed by his the president .'], [11, '시민들은 도시 속에 산다.', 'all vehicles get from the city .'], [11, '커피는 필요 없다.', 'not only the very good . not only been very good .'], [11, '일곱 명의 사망자가 발생했다.', 'a small number of dead wererrays .'], [12, '오바마는 대통령이다.', 'the obamas are the same .'], [12, '시민들은 도시 속에 산다.', 'they are very excited .'], [12, '커피는 필요 없다.', 'there is no term in a visa .'], [12, '일곱 명의 사망자가 발생했다.', 'a small number of deadly dead .'], [13, '오바마는 대통령이다.', 'obama is a espan .'], [13, '시민들은 도시 속에 산다.', 'take theshape our'], [13, '커피는 필요 없다.', 'there is no sign that there is no  ⁇ '], [13, '일곱 명의 사망자가 발생했다.', 'a small girl machine emba is stillhp .'], [14, '오바마는 대통령이다.', 'obama is the best way .'], [14, '시민들은 도시 속에 산다.', 'vehicles was a dazzling ketch .'], [14, '커피는 필요 없다.', 'there s never term in tighten cases . . . . . . . . . . you have a right .'], [14, '일곱 명의 사망자가 발생했다.', 'a small number of dead has been killed .'], [15, '오바마는 대통령이다.', 'obama is a third liar .'], [15, '시민들은 도시 속에 산다.', 'al , new complicated in the city of down .'], [15, '커피는 필요 없다.', 'it s never more . it . . . . . . . . . . . . . . . . . . . . . . . . . . . . . . . . . com .'], [15, '일곱 명의 사망자가 발생했다.', 'a small girl , 4 ⁇  police .'], [16, '오바마는 대통령이다.', 'obama is a verdierwalker .'], [16, '시민들은 도시 속에 산다.', 'vehicles failed .'], [16, '커피는 필요 없다.', 'there s never term . it s something . . i don t have a good . not rerun .'], [16, '일곱 명의 사망자가 발생했다.', 'a small girl hit has beenenez .'], [17, '오바마는 대통령이다.', 'obama is the best for his corners .'], [17, '시민들은 도시 속에 산다.', 'nineally residents are from the city of growny .'], [17, '커피는 필요 없다.', 'it s never more only about you re doing  ⁇ '], [17, '일곱 명의 사망자가 발생했다.', 'a hospital , which is 4 . skirmish'], [18, '오바마는 대통령이다.', 'obama is the best candidate .'], [18, '시민들은 도시 속에 산다.', 'vehicles was nearly the city of support .'], [18, '커피는 필요 없다.', 'you have to . to be changing a co loath .'], [18, '일곱 명의 사망자가 발생했다.', 'a small girl hit s chunk .'], [19, '오바마는 대통령이다.', 'obama is the best candidate .'], [19, '시민들은 도시 속에 산다.', 'vehicles weren t what increased was .'], [19, '커피는 필요 없다.', 'there s never term . . . you know , there s never just you don t come from your lp . . . . . you feel at this rate .'], [19, '일곱 명의 사망자가 발생했다.', 'a hospital .']]}]]]\n"
     ]
    }
   ],
   "source": [
    "# 하이퍼 튜닝_학습\n",
    "from tqdm import tqdm_notebook \n",
    "import tqdm\n",
    "\n",
    "#Training Parameters\n",
    "warmup_steps = 4000\n",
    "BATCH_SIZE = 64\n",
    "EPOCHS = 20 \n",
    "\n",
    "n_layers= 2\n",
    "d_model= 512\n",
    "n_heads= 8  \n",
    "d_ff= 2048\n",
    "src_vocab_size = 25000\n",
    "tgt_vocab_size = 25000\n",
    "pos_len = 50  \n",
    "dropout= 0.3\n",
    "optimizer = []\n",
    "shared=True\n",
    "\n",
    "\n",
    "examples = [\"오바마는 대통령이다.\", \"시민들은 도시 속에 산다.\", \"커피는 필요 없다.\", \"일곱 명의 사망자가 발생했다.\"]\n",
    "\n",
    "## Hyper param tuning : hparam 한개씩 해서,search space 구성후, loss가 제일 낮은 param을 1차 자동선택후,  번역수준을 눈으로 추가확인  \n",
    "# hpname list 설정\n",
    "hp_name_list = ['EPOCHS'] \n",
    "\n",
    "# search space 설정: param 설정\n",
    "dropout_list = [0.1,0.3,0.5]\n",
    "optimizer_list = [tf.keras.optimizers.RMSprop(learning_rate),tf.keras.optimizers.Adam(learning_rate, beta_1=0.9, beta_2=0.98, epsilon=1e-9)]\n",
    "warmup_steps_list = [2000,4000,6000]\n",
    "d_model_list = [256,1024]\n",
    "batchsize_list = [64,128, 256]\n",
    "epoch_list= [20]\n",
    "\n",
    "# 금번 Tuning 대상 설정\n",
    "total_hyperparam_list = [epoch_list]\n",
    "\n",
    "# 필요 list\n",
    "hyperparam_list = []\n",
    "Best_hpname_param_list = []\n",
    "\n",
    "# 학습 Histoty Dict 설정\n",
    "history={}\n",
    "\n",
    "# Hyper param Tuning 실행\n",
    "for ix, hpname in enumerate(hp_name_list):\n",
    "    history[hpname]={}\n",
    "    hyperparam_list = total_hyperparam_list[ix]    \n",
    "    for i, param in enumerate(hyperparam_list):\n",
    "        print(\"i\",i, \"param\",param)\n",
    "        history[hpname][f'{param}']= {'loss':[], 'val_loss':[], 'lr':[],'result':[]}\n",
    "\n",
    "        del transformer\n",
    "\n",
    "        # 트랜스포머 모델설정\n",
    "        transformer = Transformer(n_layers,\n",
    "                                  d_model,\n",
    "                                  n_heads,\n",
    "                                  d_ff,\n",
    "                                  src_vocab_size,\n",
    "                                  tgt_vocab_size,\n",
    "                                  pos_len,\n",
    "                                  dropout,\n",
    "                                  shared=True)\n",
    "\n",
    "        # 학습율 객체화 \n",
    "        learning_rate = LearningRateScheduler(d_model = d_model, warmup_steps = warmup_steps)\n",
    "        optimizer = tf.keras.optimizers.Adam(learning_rate, beta_1=0.9, beta_2=0.98, epsilon=1e-9)\n",
    "        \n",
    "        # 별도 학습율 계산 함수 정의\n",
    "        def compute_lr(step,warmup_steps):\n",
    "            arg1 = step ** -0.5\n",
    "            arg2 = step * (warmup_steps ** -1.5)\n",
    "            lr= (d_model ** -0.5) * tf.math.minimum(arg1, arg2)\n",
    "            lr = lr.numpy()\n",
    "            return lr\n",
    "        \n",
    "\n",
    "        @tf.function()\n",
    "        def train_step(src, tgt, model, optimizer):\n",
    "            gold = tgt[:, 1:]\n",
    "\n",
    "            enc_mask, dec_enc_mask, dec_mask = generate_masks(src, tgt)\n",
    "\n",
    "            # 계산된 loss에 tf.GradientTape()를 적용해 학습을 진행합니다.\n",
    "            with tf.GradientTape() as tape:\n",
    "                predictions, enc_attns, dec_attns, dec_enc_attns = model(src, tgt, enc_mask, dec_enc_mask, dec_mask)\n",
    "                loss = loss_function(gold, predictions[:, :-1])\n",
    "\n",
    "                # 최종적으로 optimizer.apply_gradients()가 사용됩니다. \n",
    "                # [[YOUR CODE]]\n",
    "                variables = model.encoder.trainable_variables + model.decoder.trainable_variables \n",
    "                gradients = tape.gradient(loss, variables)\n",
    "                optimizer.apply_gradients(zip(gradients, variables))\n",
    "\n",
    "            return loss, enc_attns, dec_attns, dec_enc_attns\n",
    "        \n",
    "\n",
    "        count_step = 0\n",
    "        for epoch in range(param):  #EPOCHS):\n",
    "            total_loss = 0\n",
    "\n",
    "            idx_list = list(range(0, enc_train.shape[0], BATCH_SIZE))\n",
    "            random.shuffle(idx_list)\n",
    "            t = tqdm.notebook.tqdm(idx_list)  #tqdm_notebook(idx_list)\n",
    "            \n",
    "            for (batch, idx) in enumerate(t):\n",
    "                count_step+= 1\n",
    "                batch_loss, enc_attns, dec_attns, dec_enc_attns = train_step(enc_train[idx:idx+BATCH_SIZE],\n",
    "                                            dec_train[idx:idx+BATCH_SIZE],transformer, optimizer)  \n",
    "\n",
    "                total_loss += batch_loss      #batch_loss: 배치단위인데, 배치내에서, seq_len으로 나눈것,즉,배치내 단어별 평균손실\n",
    "                batch_loss1 = round(total_loss.numpy() / (batch + 1),4)   # 총누적손실을 누적배치size로 나눈것,즉,배치별 평균\n",
    "                \n",
    "                t.set_description_str('Epoch %2d' % (epoch + 1))\n",
    "                t.set_postfix_str('Loss %.4f' % (batch_loss1))\n",
    "                \n",
    "                # step기준 learning_rate\n",
    "                lr = compute_lr(count_step, warmup_steps)\n",
    "                \n",
    "                # step기준 batch 단위 loss 집계 \n",
    "                #history[hpname][f'{param}']['loss'].append(batch_loss1)\n",
    "                #history['lr'].append(optimizer.learning_rate)\n",
    "                #history['lr'].append(optimizer.learning_rate)\n",
    "                \n",
    "            print(\"Epoch\",epoch, \"Epoch_변화시_학습율적용_step >> count_step\",count_step, \"lr\", lr)    \n",
    "            \n",
    "            # epoch기준 loss 및 lr 집계   \n",
    "            print('epoch_loss', batch_loss1)\n",
    "            history[hpname][f'{param}']['loss'].append(batch_loss1)\n",
    "            history[hpname][f'{param}']['lr'].append(lr)\n",
    "            \n",
    "            \n",
    "            for example in examples:\n",
    "                translate_result = translate(example, transformer, kor_tokenizer, eng_tokenizer, epoch, plot_attention= False) #True)\n",
    "                history[hpname][f'{param}']['result'].append(translate_result)\n",
    "\n",
    "\n",
    "        # loss 그래프 \n",
    "        print(\"history.keys()\",history.keys(), history[hpname].keys() ) \n",
    "        print(\"history[hpname][f'{param}']['loss']\", history[hpname][f'{param}']['loss'])\n",
    "        print(\"history[hpname][f'{param}']['lr']\", history[hpname][f'{param}']['lr'])\n",
    "        \n",
    "        fig,ax = plt.subplots(1,2)\n",
    "        ax[0].plot(range(len(history[hpname][f'{param}']['loss'])),history[hpname][f'{param}']['loss'])\n",
    "        ax[0].set_title(hpname +'_'+  f'{param}_Transformer_loss graph')\n",
    "        ax[0].set_xlabel('epoch')\n",
    "        ax[0].set_ylabel('loss')\n",
    "        ax[1].plot(range(len(history[hpname][f'{param}']['lr'])),history[hpname][f'{param}']['lr'])\n",
    "        ax[1].set_title(hpname +'_'+   f'{param}_Transformer_learning_rate graph')\n",
    "        ax[1].set_xlabel('epoch')\n",
    "        ax[1].set_ylabel('lr')\n",
    "        plt.tight_layout()\n",
    "        plt.show()\n",
    "            \n",
    "    # Best_param 선택 \n",
    "    \n",
    "    Best_loss =  [[k1,v1] for k1,v1 in history[hpname].items() if v1['loss'][-1] == np.min([v['loss'][-1] for k,v in history[hpname].items()])][0] \n",
    "    print(hpname+\"_Best_loss\", Best_loss,)\n",
    "   \n",
    "    # hpname별 Best_param 집계\n",
    "    Best_hpname_param_list.append([hpname, Best_loss])\n",
    "    \n",
    "print(\"Best_hpname_param_list\",len(Best_hpname_param_list),Best_hpname_param_list)\n",
    "                                   \n",
    "# 저장\n",
    "dfhistory = pd.DataFrame(history)\n",
    "dfhistory.to_pickle(f'/aiffel/aiffel/transformer/data/History_{hpname}')\n",
    "\n",
    "df = pd.DataFrame(Best_hpname_param_list)  \n",
    "df.to_pickle(f'/aiffel/aiffel/transformer/data/Best_hpname_param_list_{hpname}')\n"
   ]
  },
  {
   "cell_type": "markdown",
   "id": "52b439ed",
   "metadata": {},
   "source": [
    "## 종합요약\n",
    "\n",
    "#### 번역문 평가 \n",
    "\"오바마는 대통렬이다\" 한문장만 맞고, 나머지 두문장 \"시민들은 도시 속에 산다\",\"일곱 명의 사망자가 발생했다\"는 문맥속에 단어만 일부 들어있는데, \"커피는 필요 없다\" 문장은 커피란 단어조차 않들어간 엉뚱한 번역문임\n",
    "\n",
    "```\n",
    "[0, '오바마는 대통령이다.', 'obama is the president'],\n",
    "[8, '시민들은 도시 속에 산다.', 'the men are the men in the city of the city .'],\n",
    "[16, '커피는 필요 없다.\n",
    "[14, '일곱 명의 사망자가 발생했다.', 'a small number of dead has been killed .'] \n",
    " \n",
    "```\n",
    "\n",
    "#### 하이퍼 파람\n",
    "warmup_steps = 4000   \n",
    "BATCH_SIZE = 64   \n",
    "EPOCHS = 20    \n",
    "\n",
    "n_layers= 2   \n",
    "d_model= 512   \n",
    "n_heads= 8    \n",
    "d_ff= 2048   \n",
    "src_vocab_size = 25000   \n",
    "tgt_vocab_size = 25000   \n",
    "pos_len = 50     \n",
    "dropout= 0.3   \n",
    "optimizer = tf.keras.optimizers.Adam()   \n",
    "shared=True   \n",
    "\n",
    "\n"
   ]
  },
  {
   "cell_type": "markdown",
   "id": "f30964e9",
   "metadata": {},
   "source": [
    "## 회고"
   ]
  },
  {
   "cell_type": "markdown",
   "id": "848fe23f",
   "metadata": {},
   "source": [
    "본 프로젝트는 트랜스포머모델을 활용하여, 한글을 영어로 번역하는 프로젝트입니다.\n",
    "\n",
    "한글 및 영어 데이터를 다운로드 받아서, 번역쌍(pair)을 흐트르지 않고서 중복데이터를 제거하기위해, zip 과 set을 사용하여,\n",
    "중복을 제거하였고(결측치제거 병행), 데이터는 원래 94123 쌍에서, 78968쌍으로 약 15%가 줄었습니다. \n",
    "\n",
    "남은 문장들을 대상으로  소문자변환, 숫자및한글및영어및 특수문자, 공백처리등등의 데이터정제 및 target문자 'BOS','EOS'처리를 해주는\n",
    "preprocess함수를 정의하였고, SentencePiece기법을 사용하여, 한글과 영어를 병행하여, train을 시켜서, 단어토큰화및 정수인덱스토큰화를 할수 있는\n",
    "generate_tokenizer함수를 만들어서, kor_tokenizer와 eng_tokenizer를 완성하였습니다.          \n",
    "여기에서, 별도로 'BOS', 'EOS' 코딩않해도 영어문장 앞뒤로 붙게해주는 옵션 tokenizer.set_encode_extra_options(\"bos:eos\")\n",
    "도 배웠습니다.  preprocess함수에서의 <BOS>,<EOS>처리코드를 삭제해도 되지만, 나중 참조를 위해 메모해두고 유지했습니다.   \n",
    "\n",
    "SRC_VOCAB_SIZE 와 TGT_VOCAB_SIZE는 25,000로 설정했고,SentencePiece의 EncodeAsPieces,EncodeAsIds를 사용하여, \n",
    "사용하기 편리한 단어사전 word_index,index_word을 만들었습니다\n",
    "\n",
    "여기서, 한글,영어 공히 문장의 최대길이가 50이하가 되도록 maxlen을 50으로 잡고 초과되는 문장을 제거하고서, \n",
    "tf.keras.preprocessing.sequence.pad_sequences로 padding처리하였는데, 최종 학습에 들어가는 문장은 78968쌍에서,\n",
    "71288쌍으로 축소되었고 이문장들은 모두 사용할 예정입니다.\n",
    "\n",
    "transfor 모델설계는 여태까지 배운 다른 어떤 딥러닝모델보다, 모델내의 중여한 구성품이 많습니다.   \n",
    "positional_encoding함수,MultiHeadAttention함수,PoswiseFeedForwardNet함수,EncoderLayer함수,DecoderLayer함수,\n",
    "Encoder함수,Decoder함수,앞서의 layer들을 조합할 Transformer 모델함수를 내부의 작동원리를 코드를 통해 하나하나 익혀가면서,\n",
    "만들었습니다.\n",
    "\n",
    "그리고, 마스크를 만들 3개의 함수 generate_padding_mask, generate_causality_mask, generate_masks함수를 만들었는데,\n",
    "이 함스들로 enc_mask, dec_enc_mask, dec_mask 3종류의 마스크를 만들어서, 인코더의 MultiHeadAttention,\n",
    "디코더의 masked_MultiHeadAttention, dec_enc_MultiHeadAttention내의 scaled_dot_qk에 적용됩니다.\n",
    "(디코더에 적용되는 마스크들은 tf.maximum에 의해서, padding과 Not lookahead를 동시에 할수있게 처리되었습니다.\n",
    " \n",
    "train step진행에따라, 학습율이 증가했다가 4000step이후 감소되는 LearningRateScheduler함수, optimize설정및 \n",
    "labeldata의 padding을 처리해줄 마스크를 적용해주는 custom loss function을 만들었습니다. \n",
    "\n",
    "미분및 역전파등 핵심적 학습을 진행시킬 train step함수, 시각화 및 평가함수를 하나 하나 내부의 코드들의 작동순서및 원리들를\n",
    "파악해가며 만들었습니다.\n",
    " \n",
    "최종적으로 학습 epoch를 진행시킬 for loop 코드를 만들어서, transformer가 train step함수를 통해서,batch size단위별로\n",
    "학습이 진해되도록 하였고, 학습로그기록을 위해, history dict를 만들어서, epoch별로 학습loss 및 변화되는 learning_rate가\n",
    "기록되도록 하였습니다. ( learning_rate 는 학습율 계산하는 함수를 산정공식 그대로 적용하여 만들어서, epoch마다 기록및 프린트함)\n",
    " \n",
    "Hyper param Tuning을 위해 KerasTuner를 LMS에 인스톨하여 사용해 보았는데, dependency 문제가 있는지,작동하지를 않아서 사용을 못하고,\n",
    "학습 loop 상위에 Tuning for loop를 씌워서, dropout rate, warmup_steps, optimizer, batch_size,epoch등을 해보았는데,\n",
    "LMS교재상의 지정된 Hyper param과 거의 같게 나와서, 시간관계상 나머지 Hyper param은 LMS 그대로 사용하였습니다.   \n",
    "\n",
    "epock별로 번역결과를 출력해서, 번역결과의 개선여부를 살펴보았는데, 눈에띄게 잘된 번역은 잘 않보이고, 맞는 단어가 한두개이상씩\n",
    "들어가있는 수준이었습니다. 제출후 시간을 갖고서, layer를 2개로 제한된데서, 4개이상으로 늘려서, \n",
    "epoch를 충분히 300 회이상 시켜 보아야 제대로 된 번역이 나올것 같다는 생각입니다.\n",
    " \n",
    "지금 세계적으로 열풍이 부는 chatGPT도 동일한(내부에 개선된 부품코드가 있을 수 있겠으나) 트랜스포머로 만들었으니,\n",
    "모델 내부의 개선점도 찾아보고, 아이디어들을 발굴접목하며,지속적으로 모델을 개선해서, 현실세계에서, \n",
    "다양한 문제에 적용해볼 생각입니다.   \n",
    " \n"
   ]
  },
  {
   "cell_type": "code",
   "execution_count": null,
   "id": "0847b5e6",
   "metadata": {},
   "outputs": [],
   "source": []
  },
  {
   "cell_type": "code",
   "execution_count": null,
   "id": "9ba627e6",
   "metadata": {},
   "outputs": [],
   "source": [
    "from keras.models import load_model\n",
    "from keras.utils.vis_utils import model_to_dot\n",
    "\n",
    "save_path  = '/aiffel/aiffel/transformer/model'\n",
    "\n",
    "#encoder.save(save_path + '/s2s_encoder_model.h5')\n",
    "#decoder.save(save_path + '/s2s_decoder_model.h5')\n",
    "\n",
    "#encoder = load_model('s2s_encoder_model.h5')\n",
    "#decoder = load_model('s2s_decoder_model.h5')\n",
    "\n",
    "#model_to_dot(encoder, show_shapes=True)\n",
    "#model_to_dot(decoder, show_shapes=True)\n",
    "\n",
    "#transformer.save(save_path)  ??????????????"
   ]
  },
  {
   "cell_type": "code",
   "execution_count": null,
   "id": "434da4db",
   "metadata": {},
   "outputs": [],
   "source": []
  },
  {
   "cell_type": "code",
   "execution_count": null,
   "id": "b44ebccd",
   "metadata": {},
   "outputs": [],
   "source": []
  },
  {
   "cell_type": "code",
   "execution_count": null,
   "id": "f02aa560",
   "metadata": {},
   "outputs": [],
   "source": []
  },
  {
   "cell_type": "code",
   "execution_count": null,
   "id": "a939b477",
   "metadata": {},
   "outputs": [],
   "source": []
  },
  {
   "cell_type": "code",
   "execution_count": null,
   "id": "b6c60753",
   "metadata": {},
   "outputs": [],
   "source": []
  }
 ],
 "metadata": {
  "kernelspec": {
   "display_name": "Python 3 (ipykernel)",
   "language": "python",
   "name": "python3"
  },
  "language_info": {
   "codemirror_mode": {
    "name": "ipython",
    "version": 3
   },
   "file_extension": ".py",
   "mimetype": "text/x-python",
   "name": "python",
   "nbconvert_exporter": "python",
   "pygments_lexer": "ipython3",
   "version": "3.9.7"
  }
 },
 "nbformat": 4,
 "nbformat_minor": 5
}
