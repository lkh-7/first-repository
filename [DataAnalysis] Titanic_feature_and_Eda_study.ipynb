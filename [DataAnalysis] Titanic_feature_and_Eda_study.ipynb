{
 "cells": [
  {
   "cell_type": "code",
   "execution_count": 1,
   "id": "f1236701",
   "metadata": {},
   "outputs": [
    {
     "data": {
      "text/html": [
       "        <script type=\"text/javascript\">\n",
       "        window.PlotlyConfig = {MathJaxConfig: 'local'};\n",
       "        if (window.MathJax && window.MathJax.Hub && window.MathJax.Hub.Config) {window.MathJax.Hub.Config({SVG: {font: \"STIX-Web\"}});}\n",
       "        if (typeof require !== 'undefined') {\n",
       "        require.undef(\"plotly\");\n",
       "        requirejs.config({\n",
       "            paths: {\n",
       "                'plotly': ['https://cdn.plot.ly/plotly-2.16.1.min']\n",
       "            }\n",
       "        });\n",
       "        require(['plotly'], function(Plotly) {\n",
       "            window._Plotly = Plotly;\n",
       "        });\n",
       "        }\n",
       "        </script>\n",
       "        "
      ]
     },
     "metadata": {},
     "output_type": "display_data"
    }
   ],
   "source": [
    "import numpy as np\n",
    "import pandas as pd\n",
    "from pandas import Series\n",
    "import matplotlib.pyplot as plt\n",
    "import seaborn as sns\n",
    "\n",
    "plt.style.use('seaborn')\n",
    "sns.set(font_scale=2.5) # 이 두줄은 본 필자가 항상 쓰는 방법입니다. matplotlib 의 기본 scheme 말고 seaborn scheme 을 세팅하고, 일일이 graph 의 font size 를 지정할 필요 없이 seaborn 의 font_scale 을 사용하면 편합니다.\n",
    "import plotly.offline as py\n",
    "py.init_notebook_mode(connected=True)\n",
    "import plotly.graph_objs as go\n",
    "import plotly.tools as tls\n",
    "\n",
    "#ignore warnings\n",
    "import warnings\n",
    "warnings.filterwarnings('ignore')\n",
    "\n",
    "\n",
    "\n",
    "%matplotlib inline\n",
    "\n",
    "df_train = pd.read_csv('~/aiffel/data_analysis_basic/data/titanic/train.csv')\n",
    "df_test = pd.read_csv('~/aiffel/data_analysis_basic/data/titanic/test.csv')\n",
    "\n",
    "df_train['FamilySize'] = df_train['SibSp'] + df_train['Parch'] + 1 # 자신을 포함해야하니 1을 더합니다\n",
    "df_test['FamilySize'] = df_test['SibSp'] + df_test['Parch'] + 1 # 자신을 포함해야하니 1을 더합니다\n",
    "\n",
    "df_test.loc[df_test.Fare.isnull(), 'Fare'] = df_test['Fare'].mean()\n",
    "\n",
    "df_train['Fare'] = df_train['Fare'].map(lambda i: np.log(i) if i > 0 else 0)\n",
    "df_test['Fare'] = df_test['Fare'].map(lambda i: np.log(i) if i > 0 else 0)\n"
   ]
  },
  {
   "cell_type": "code",
   "execution_count": 2,
   "id": "2b3571f4",
   "metadata": {},
   "outputs": [
    {
     "name": "stdout",
     "output_type": "stream",
     "text": [
      "(891, 13)\n",
      "(418, 12)\n"
     ]
    }
   ],
   "source": [
    "print(df_train.shape)\n",
    "print(df_test.shape)"
   ]
  },
  {
   "cell_type": "markdown",
   "id": "8c5362d3",
   "metadata": {},
   "source": [
    "#### 3. Feature engineering\n",
    "\n",
    "본격적인 feature engineering 을 시작해보겠습니다.\n",
    "가장 먼저, dataset 에 존재하는 null data를 채우려고 합니다.\n",
    "아무 숫자로 채울 수는 없고, null data 를 포함하는 feature 의 statistics 를 참고하거나, 다른 아이디어를 짜내어 채울 수 있습니다.\n",
    "null data 를 어떻게 채우느냐에 따라 모델의 성능이 좌지우지될 수 있기 때문에, 신경써줘야할 부분입니다.\n",
    "Feature engineering 은 실제 모델의 학습에 쓰려고 하는 것이므로, train 뿐만아닐라 test 도 똑같이 적용해주어야 합니다. 잊지맙시다."
   ]
  },
  {
   "cell_type": "markdown",
   "id": "45bd6c6e",
   "metadata": {},
   "source": [
    "#### 3.1 Fill Null\n",
    "\n",
    "##### 3.1.1 Fill Null in Age using title\n",
    "\n",
    "Age 에는 null data가 177개나 있습니다. 이를 채울 수 있는 여러 아이디어가 있을 것인데, 여기서 우리는 title + statistics 를 사용해 보겠습니다.\n",
    "영어에서는 Miss, Mrr, Mrs 같은 title이 존재합니다. 각 탑승객의 이름에는 꼭 이런 title 이 들어가게 되는데 이를 사용해보겠습니다.\n",
    "pandas series 에는 data 를 string 으로 바꿔주는 str method, 거기에 정규표현식을 적용하게 해주는 extract method가 있습니다. 이를 사용하여 title 을 쉽게 추출할 수 있습니다. title을 Initial column에 저장하겠습니다"
   ]
  },
  {
   "cell_type": "code",
   "execution_count": 3,
   "id": "22e8cad1",
   "metadata": {},
   "outputs": [],
   "source": [
    "df_train['Initial']= df_train.Name.str.extract('([A-Za-z]+)\\.') #lets extract the Salutations\n",
    "    \n",
    "df_test['Initial']= df_test.Name.str.extract('([A-Za-z]+)\\.') #lets extract the Salutations"
   ]
  },
  {
   "cell_type": "code",
   "execution_count": 4,
   "id": "268628e4",
   "metadata": {},
   "outputs": [
    {
     "data": {
      "text/plain": [
       "0      Mr\n",
       "1     Mrs\n",
       "2    Miss\n",
       "3     Mrs\n",
       "4      Mr\n",
       "Name: Initial, dtype: object"
      ]
     },
     "execution_count": 4,
     "metadata": {},
     "output_type": "execute_result"
    }
   ],
   "source": [
    "df_train['Initial'].head()"
   ]
  },
  {
   "cell_type": "code",
   "execution_count": 5,
   "id": "b9d027e0",
   "metadata": {},
   "outputs": [
    {
     "data": {
      "text/html": [
       "<style type=\"text/css\">\n",
       "#T_56687_row0_col0, #T_56687_row0_col1, #T_56687_row0_col3, #T_56687_row0_col4, #T_56687_row0_col5, #T_56687_row0_col7, #T_56687_row0_col8, #T_56687_row0_col12, #T_56687_row0_col15, #T_56687_row0_col16, #T_56687_row1_col2, #T_56687_row1_col6, #T_56687_row1_col9, #T_56687_row1_col10, #T_56687_row1_col11, #T_56687_row1_col13, #T_56687_row1_col14 {\n",
       "  background-color: #ffff66;\n",
       "  color: #000000;\n",
       "}\n",
       "#T_56687_row0_col2, #T_56687_row0_col6, #T_56687_row0_col9, #T_56687_row0_col10, #T_56687_row0_col11, #T_56687_row0_col13, #T_56687_row0_col14, #T_56687_row1_col0, #T_56687_row1_col1, #T_56687_row1_col3, #T_56687_row1_col4, #T_56687_row1_col5, #T_56687_row1_col7, #T_56687_row1_col8, #T_56687_row1_col12, #T_56687_row1_col15, #T_56687_row1_col16 {\n",
       "  background-color: #008066;\n",
       "  color: #f1f1f1;\n",
       "}\n",
       "</style>\n",
       "<table id=\"T_56687_\">\n",
       "  <thead>\n",
       "    <tr>\n",
       "      <th class=\"index_name level0\" >Initial</th>\n",
       "      <th class=\"col_heading level0 col0\" >Capt</th>\n",
       "      <th class=\"col_heading level0 col1\" >Col</th>\n",
       "      <th class=\"col_heading level0 col2\" >Countess</th>\n",
       "      <th class=\"col_heading level0 col3\" >Don</th>\n",
       "      <th class=\"col_heading level0 col4\" >Dr</th>\n",
       "      <th class=\"col_heading level0 col5\" >Jonkheer</th>\n",
       "      <th class=\"col_heading level0 col6\" >Lady</th>\n",
       "      <th class=\"col_heading level0 col7\" >Major</th>\n",
       "      <th class=\"col_heading level0 col8\" >Master</th>\n",
       "      <th class=\"col_heading level0 col9\" >Miss</th>\n",
       "      <th class=\"col_heading level0 col10\" >Mlle</th>\n",
       "      <th class=\"col_heading level0 col11\" >Mme</th>\n",
       "      <th class=\"col_heading level0 col12\" >Mr</th>\n",
       "      <th class=\"col_heading level0 col13\" >Mrs</th>\n",
       "      <th class=\"col_heading level0 col14\" >Ms</th>\n",
       "      <th class=\"col_heading level0 col15\" >Rev</th>\n",
       "      <th class=\"col_heading level0 col16\" >Sir</th>\n",
       "    </tr>\n",
       "    <tr>\n",
       "      <th class=\"index_name level0\" >Sex</th>\n",
       "      <th class=\"blank col0\" >&nbsp;</th>\n",
       "      <th class=\"blank col1\" >&nbsp;</th>\n",
       "      <th class=\"blank col2\" >&nbsp;</th>\n",
       "      <th class=\"blank col3\" >&nbsp;</th>\n",
       "      <th class=\"blank col4\" >&nbsp;</th>\n",
       "      <th class=\"blank col5\" >&nbsp;</th>\n",
       "      <th class=\"blank col6\" >&nbsp;</th>\n",
       "      <th class=\"blank col7\" >&nbsp;</th>\n",
       "      <th class=\"blank col8\" >&nbsp;</th>\n",
       "      <th class=\"blank col9\" >&nbsp;</th>\n",
       "      <th class=\"blank col10\" >&nbsp;</th>\n",
       "      <th class=\"blank col11\" >&nbsp;</th>\n",
       "      <th class=\"blank col12\" >&nbsp;</th>\n",
       "      <th class=\"blank col13\" >&nbsp;</th>\n",
       "      <th class=\"blank col14\" >&nbsp;</th>\n",
       "      <th class=\"blank col15\" >&nbsp;</th>\n",
       "      <th class=\"blank col16\" >&nbsp;</th>\n",
       "    </tr>\n",
       "  </thead>\n",
       "  <tbody>\n",
       "    <tr>\n",
       "      <th id=\"T_56687_level0_row0\" class=\"row_heading level0 row0\" >female</th>\n",
       "      <td id=\"T_56687_row0_col0\" class=\"data row0 col0\" >0</td>\n",
       "      <td id=\"T_56687_row0_col1\" class=\"data row0 col1\" >0</td>\n",
       "      <td id=\"T_56687_row0_col2\" class=\"data row0 col2\" >1</td>\n",
       "      <td id=\"T_56687_row0_col3\" class=\"data row0 col3\" >0</td>\n",
       "      <td id=\"T_56687_row0_col4\" class=\"data row0 col4\" >1</td>\n",
       "      <td id=\"T_56687_row0_col5\" class=\"data row0 col5\" >0</td>\n",
       "      <td id=\"T_56687_row0_col6\" class=\"data row0 col6\" >1</td>\n",
       "      <td id=\"T_56687_row0_col7\" class=\"data row0 col7\" >0</td>\n",
       "      <td id=\"T_56687_row0_col8\" class=\"data row0 col8\" >0</td>\n",
       "      <td id=\"T_56687_row0_col9\" class=\"data row0 col9\" >182</td>\n",
       "      <td id=\"T_56687_row0_col10\" class=\"data row0 col10\" >2</td>\n",
       "      <td id=\"T_56687_row0_col11\" class=\"data row0 col11\" >1</td>\n",
       "      <td id=\"T_56687_row0_col12\" class=\"data row0 col12\" >0</td>\n",
       "      <td id=\"T_56687_row0_col13\" class=\"data row0 col13\" >125</td>\n",
       "      <td id=\"T_56687_row0_col14\" class=\"data row0 col14\" >1</td>\n",
       "      <td id=\"T_56687_row0_col15\" class=\"data row0 col15\" >0</td>\n",
       "      <td id=\"T_56687_row0_col16\" class=\"data row0 col16\" >0</td>\n",
       "    </tr>\n",
       "    <tr>\n",
       "      <th id=\"T_56687_level0_row1\" class=\"row_heading level0 row1\" >male</th>\n",
       "      <td id=\"T_56687_row1_col0\" class=\"data row1 col0\" >1</td>\n",
       "      <td id=\"T_56687_row1_col1\" class=\"data row1 col1\" >2</td>\n",
       "      <td id=\"T_56687_row1_col2\" class=\"data row1 col2\" >0</td>\n",
       "      <td id=\"T_56687_row1_col3\" class=\"data row1 col3\" >1</td>\n",
       "      <td id=\"T_56687_row1_col4\" class=\"data row1 col4\" >6</td>\n",
       "      <td id=\"T_56687_row1_col5\" class=\"data row1 col5\" >1</td>\n",
       "      <td id=\"T_56687_row1_col6\" class=\"data row1 col6\" >0</td>\n",
       "      <td id=\"T_56687_row1_col7\" class=\"data row1 col7\" >2</td>\n",
       "      <td id=\"T_56687_row1_col8\" class=\"data row1 col8\" >40</td>\n",
       "      <td id=\"T_56687_row1_col9\" class=\"data row1 col9\" >0</td>\n",
       "      <td id=\"T_56687_row1_col10\" class=\"data row1 col10\" >0</td>\n",
       "      <td id=\"T_56687_row1_col11\" class=\"data row1 col11\" >0</td>\n",
       "      <td id=\"T_56687_row1_col12\" class=\"data row1 col12\" >517</td>\n",
       "      <td id=\"T_56687_row1_col13\" class=\"data row1 col13\" >0</td>\n",
       "      <td id=\"T_56687_row1_col14\" class=\"data row1 col14\" >0</td>\n",
       "      <td id=\"T_56687_row1_col15\" class=\"data row1 col15\" >6</td>\n",
       "      <td id=\"T_56687_row1_col16\" class=\"data row1 col16\" >1</td>\n",
       "    </tr>\n",
       "  </tbody>\n",
       "</table>\n"
      ],
      "text/plain": [
       "<pandas.io.formats.style.Styler at 0x7f35281803d0>"
      ]
     },
     "execution_count": 5,
     "metadata": {},
     "output_type": "execute_result"
    }
   ],
   "source": [
    "pd.crosstab(df_train['Initial'], df_train['Sex']).T.style.background_gradient(cmap='summer_r') #Checking the Initials with the Sex"
   ]
  },
  {
   "cell_type": "markdown",
   "id": "9bae0b56",
   "metadata": {},
   "source": [
    "위 table 을 참고하여, 남자, 여자가 쓰는 initial 을 구분해 보겠습니다. replace 메소드를 사용하면, 특정 데이터 값을 원하는 값으로 치환해줍니다."
   ]
  },
  {
   "cell_type": "code",
   "execution_count": 6,
   "id": "4311525d",
   "metadata": {},
   "outputs": [],
   "source": [
    "df_train['Initial'].replace(['Mlle','Mme','Ms','Dr','Major','Lady','Countess','Jonkheer','Col','Rev','Capt','Sir','Don', 'Dona'],\n",
    "                        ['Miss','Miss','Miss','Mr','Mr','Mrs','Mrs','Other','Other','Other','Mr','Mr','Mr', 'Mr'],inplace=True)\n",
    "\n",
    "df_test['Initial'].replace(['Mlle','Mme','Ms','Dr','Major','Lady','Countess','Jonkheer','Col','Rev','Capt','Sir','Don', 'Dona'],\n",
    "                        ['Miss','Miss','Miss','Mr','Mr','Mrs','Mrs','Other','Other','Other','Mr','Mr','Mr', 'Mr'],inplace=True)"
   ]
  },
  {
   "cell_type": "code",
   "execution_count": 7,
   "id": "4d3f329d",
   "metadata": {},
   "outputs": [
    {
     "data": {
      "text/html": [
       "<div>\n",
       "<style scoped>\n",
       "    .dataframe tbody tr th:only-of-type {\n",
       "        vertical-align: middle;\n",
       "    }\n",
       "\n",
       "    .dataframe tbody tr th {\n",
       "        vertical-align: top;\n",
       "    }\n",
       "\n",
       "    .dataframe thead th {\n",
       "        text-align: right;\n",
       "    }\n",
       "</style>\n",
       "<table border=\"1\" class=\"dataframe\">\n",
       "  <thead>\n",
       "    <tr style=\"text-align: right;\">\n",
       "      <th></th>\n",
       "      <th>PassengerId</th>\n",
       "      <th>Survived</th>\n",
       "      <th>Pclass</th>\n",
       "      <th>Age</th>\n",
       "      <th>SibSp</th>\n",
       "      <th>Parch</th>\n",
       "      <th>Fare</th>\n",
       "      <th>FamilySize</th>\n",
       "    </tr>\n",
       "    <tr>\n",
       "      <th>Initial</th>\n",
       "      <th></th>\n",
       "      <th></th>\n",
       "      <th></th>\n",
       "      <th></th>\n",
       "      <th></th>\n",
       "      <th></th>\n",
       "      <th></th>\n",
       "      <th></th>\n",
       "    </tr>\n",
       "  </thead>\n",
       "  <tbody>\n",
       "    <tr>\n",
       "      <th>Master</th>\n",
       "      <td>414.975000</td>\n",
       "      <td>0.575000</td>\n",
       "      <td>2.625000</td>\n",
       "      <td>4.574167</td>\n",
       "      <td>2.300000</td>\n",
       "      <td>1.375000</td>\n",
       "      <td>3.340710</td>\n",
       "      <td>4.675000</td>\n",
       "    </tr>\n",
       "    <tr>\n",
       "      <th>Miss</th>\n",
       "      <td>411.741935</td>\n",
       "      <td>0.704301</td>\n",
       "      <td>2.284946</td>\n",
       "      <td>21.860000</td>\n",
       "      <td>0.698925</td>\n",
       "      <td>0.537634</td>\n",
       "      <td>3.123713</td>\n",
       "      <td>2.236559</td>\n",
       "    </tr>\n",
       "    <tr>\n",
       "      <th>Mr</th>\n",
       "      <td>455.880907</td>\n",
       "      <td>0.162571</td>\n",
       "      <td>2.381853</td>\n",
       "      <td>32.739609</td>\n",
       "      <td>0.293006</td>\n",
       "      <td>0.151229</td>\n",
       "      <td>2.651507</td>\n",
       "      <td>1.444234</td>\n",
       "    </tr>\n",
       "    <tr>\n",
       "      <th>Mrs</th>\n",
       "      <td>456.393701</td>\n",
       "      <td>0.795276</td>\n",
       "      <td>1.984252</td>\n",
       "      <td>35.981818</td>\n",
       "      <td>0.692913</td>\n",
       "      <td>0.818898</td>\n",
       "      <td>3.443751</td>\n",
       "      <td>2.511811</td>\n",
       "    </tr>\n",
       "    <tr>\n",
       "      <th>Other</th>\n",
       "      <td>564.444444</td>\n",
       "      <td>0.111111</td>\n",
       "      <td>1.666667</td>\n",
       "      <td>45.888889</td>\n",
       "      <td>0.111111</td>\n",
       "      <td>0.111111</td>\n",
       "      <td>2.641605</td>\n",
       "      <td>1.222222</td>\n",
       "    </tr>\n",
       "  </tbody>\n",
       "</table>\n",
       "</div>"
      ],
      "text/plain": [
       "         PassengerId  Survived    Pclass        Age     SibSp     Parch  \\\n",
       "Initial                                                                   \n",
       "Master    414.975000  0.575000  2.625000   4.574167  2.300000  1.375000   \n",
       "Miss      411.741935  0.704301  2.284946  21.860000  0.698925  0.537634   \n",
       "Mr        455.880907  0.162571  2.381853  32.739609  0.293006  0.151229   \n",
       "Mrs       456.393701  0.795276  1.984252  35.981818  0.692913  0.818898   \n",
       "Other     564.444444  0.111111  1.666667  45.888889  0.111111  0.111111   \n",
       "\n",
       "             Fare  FamilySize  \n",
       "Initial                        \n",
       "Master   3.340710    4.675000  \n",
       "Miss     3.123713    2.236559  \n",
       "Mr       2.651507    1.444234  \n",
       "Mrs      3.443751    2.511811  \n",
       "Other    2.641605    1.222222  "
      ]
     },
     "execution_count": 7,
     "metadata": {},
     "output_type": "execute_result"
    }
   ],
   "source": [
    "df_train.groupby('Initial').mean()"
   ]
  },
  {
   "cell_type": "markdown",
   "id": "54f0dba8",
   "metadata": {},
   "source": [
    "여성과 관계있는 Miss,Mrs 가 생존률이 높은 것을 볼 수 있습니다."
   ]
  },
  {
   "cell_type": "code",
   "execution_count": 8,
   "id": "567b8c16",
   "metadata": {},
   "outputs": [
    {
     "data": {
      "text/plain": [
       "<AxesSubplot:xlabel='Initial'>"
      ]
     },
     "execution_count": 8,
     "metadata": {},
     "output_type": "execute_result"
    },
    {
     "data": {
      "image/png": "[encoded data removed]",
      "text/plain": [
       "<Figure size 432x288 with 1 Axes>"
      ]
     },
     "metadata": {
      "needs_background": "light"
     },
     "output_type": "display_data"
    }
   ],
   "source": [
    "df_train.groupby('Initial')['Survived'].mean().plot.bar()"
   ]
  },
  {
   "cell_type": "markdown",
   "id": "ab9d1aa7",
   "metadata": {},
   "source": [
    "이제 본격적으로 Null 을 채울 것입니다. null data 를 채우는 방법은 정말 많이 존재합니다. statistics 를 활용하는 방법도 있고, null data 가 없는 데이터를 기반으로 새로운 머신러닝 알고리즘을 만들어 예측해서 채워넣는 방식도 있습니다. 여기서는 statistics 를 활용하는 방법을 사용할 것입니다.\n",
    "여기서 statistics 는 train data 의 것을 의미합니다. 우리는 언제나 test 를 unseen 으로 둔 상태로 놔둬야 하며, train 에서 얻은 statistics 를 기반으로 test 의 null data 를 채워줘야 합니다."
   ]
  },
  {
   "cell_type": "code",
   "execution_count": 9,
   "id": "0cfdc0cd",
   "metadata": {},
   "outputs": [
    {
     "data": {
      "text/html": [
       "<div>\n",
       "<style scoped>\n",
       "    .dataframe tbody tr th:only-of-type {\n",
       "        vertical-align: middle;\n",
       "    }\n",
       "\n",
       "    .dataframe tbody tr th {\n",
       "        vertical-align: top;\n",
       "    }\n",
       "\n",
       "    .dataframe thead th {\n",
       "        text-align: right;\n",
       "    }\n",
       "</style>\n",
       "<table border=\"1\" class=\"dataframe\">\n",
       "  <thead>\n",
       "    <tr style=\"text-align: right;\">\n",
       "      <th></th>\n",
       "      <th>PassengerId</th>\n",
       "      <th>Survived</th>\n",
       "      <th>Pclass</th>\n",
       "      <th>Age</th>\n",
       "      <th>SibSp</th>\n",
       "      <th>Parch</th>\n",
       "      <th>Fare</th>\n",
       "      <th>FamilySize</th>\n",
       "    </tr>\n",
       "    <tr>\n",
       "      <th>Initial</th>\n",
       "      <th></th>\n",
       "      <th></th>\n",
       "      <th></th>\n",
       "      <th></th>\n",
       "      <th></th>\n",
       "      <th></th>\n",
       "      <th></th>\n",
       "      <th></th>\n",
       "    </tr>\n",
       "  </thead>\n",
       "  <tbody>\n",
       "    <tr>\n",
       "      <th>Master</th>\n",
       "      <td>414.975000</td>\n",
       "      <td>0.575000</td>\n",
       "      <td>2.625000</td>\n",
       "      <td>4.574167</td>\n",
       "      <td>2.300000</td>\n",
       "      <td>1.375000</td>\n",
       "      <td>3.340710</td>\n",
       "      <td>4.675000</td>\n",
       "    </tr>\n",
       "    <tr>\n",
       "      <th>Miss</th>\n",
       "      <td>411.741935</td>\n",
       "      <td>0.704301</td>\n",
       "      <td>2.284946</td>\n",
       "      <td>21.860000</td>\n",
       "      <td>0.698925</td>\n",
       "      <td>0.537634</td>\n",
       "      <td>3.123713</td>\n",
       "      <td>2.236559</td>\n",
       "    </tr>\n",
       "    <tr>\n",
       "      <th>Mr</th>\n",
       "      <td>455.880907</td>\n",
       "      <td>0.162571</td>\n",
       "      <td>2.381853</td>\n",
       "      <td>32.739609</td>\n",
       "      <td>0.293006</td>\n",
       "      <td>0.151229</td>\n",
       "      <td>2.651507</td>\n",
       "      <td>1.444234</td>\n",
       "    </tr>\n",
       "    <tr>\n",
       "      <th>Mrs</th>\n",
       "      <td>456.393701</td>\n",
       "      <td>0.795276</td>\n",
       "      <td>1.984252</td>\n",
       "      <td>35.981818</td>\n",
       "      <td>0.692913</td>\n",
       "      <td>0.818898</td>\n",
       "      <td>3.443751</td>\n",
       "      <td>2.511811</td>\n",
       "    </tr>\n",
       "    <tr>\n",
       "      <th>Other</th>\n",
       "      <td>564.444444</td>\n",
       "      <td>0.111111</td>\n",
       "      <td>1.666667</td>\n",
       "      <td>45.888889</td>\n",
       "      <td>0.111111</td>\n",
       "      <td>0.111111</td>\n",
       "      <td>2.641605</td>\n",
       "      <td>1.222222</td>\n",
       "    </tr>\n",
       "  </tbody>\n",
       "</table>\n",
       "</div>"
      ],
      "text/plain": [
       "         PassengerId  Survived    Pclass        Age     SibSp     Parch  \\\n",
       "Initial                                                                   \n",
       "Master    414.975000  0.575000  2.625000   4.574167  2.300000  1.375000   \n",
       "Miss      411.741935  0.704301  2.284946  21.860000  0.698925  0.537634   \n",
       "Mr        455.880907  0.162571  2.381853  32.739609  0.293006  0.151229   \n",
       "Mrs       456.393701  0.795276  1.984252  35.981818  0.692913  0.818898   \n",
       "Other     564.444444  0.111111  1.666667  45.888889  0.111111  0.111111   \n",
       "\n",
       "             Fare  FamilySize  \n",
       "Initial                        \n",
       "Master   3.340710    4.675000  \n",
       "Miss     3.123713    2.236559  \n",
       "Mr       2.651507    1.444234  \n",
       "Mrs      3.443751    2.511811  \n",
       "Other    2.641605    1.222222  "
      ]
     },
     "execution_count": 9,
     "metadata": {},
     "output_type": "execute_result"
    }
   ],
   "source": [
    "df_train.groupby('Initial').mean()"
   ]
  },
  {
   "cell_type": "markdown",
   "id": "41b9aa4d",
   "metadata": {},
   "source": [
    "Age의 평균을 이용해 Null value 를 채우도록 하겠습니다.\n",
    "pandas dataframe 을 다룰 때에는 boolean array를 이용해 indexing 하는 방법이 참으로 편리합니다.\n",
    "아래 코드 첫줄을 해석하자면, isnull() 이면서 Initial 이 Mr 인 조건을 만족하는 row(탑승객) 의 'Age' 의 값을 33으로 치환한다 입니다.\n",
    "loc + boolean + column 을 사용해 값을 치환하는 방법은 자주 쓰이므로 꼭 익숙해집시다."
   ]
  },
  {
   "cell_type": "code",
   "execution_count": 10,
   "id": "8d15dcfc",
   "metadata": {},
   "outputs": [],
   "source": [
    "df_train.loc[(df_train.Age.isnull())&(df_train.Initial=='Mr'),'Age'] = 33\n",
    "df_train.loc[(df_train.Age.isnull())&(df_train.Initial=='Mrs'),'Age'] = 36\n",
    "df_train.loc[(df_train.Age.isnull())&(df_train.Initial=='Master'),'Age'] = 5\n",
    "df_train.loc[(df_train.Age.isnull())&(df_train.Initial=='Miss'),'Age'] = 22\n",
    "df_train.loc[(df_train.Age.isnull())&(df_train.Initial=='Other'),'Age'] = 46\n",
    "\n",
    "df_test.loc[(df_test.Age.isnull())&(df_test.Initial=='Mr'),'Age'] = 33\n",
    "df_test.loc[(df_test.Age.isnull())&(df_test.Initial=='Mrs'),'Age'] = 36\n",
    "df_test.loc[(df_test.Age.isnull())&(df_test.Initial=='Master'),'Age'] = 5\n",
    "df_test.loc[(df_test.Age.isnull())&(df_test.Initial=='Miss'),'Age'] = 22\n",
    "df_test.loc[(df_test.Age.isnull())&(df_test.Initial=='Other'),'Age'] = 46"
   ]
  },
  {
   "cell_type": "markdown",
   "id": "3f05cc97",
   "metadata": {},
   "source": [
    "#### 3.1.2 Fill Null in Embarked"
   ]
  },
  {
   "cell_type": "code",
   "execution_count": 11,
   "id": "2dd9da11",
   "metadata": {},
   "outputs": [
    {
     "name": "stdout",
     "output_type": "stream",
     "text": [
      "Embarked has  2  Null values\n"
     ]
    }
   ],
   "source": [
    "print('Embarked has ', sum(df_train['Embarked'].isnull()), ' Null values')"
   ]
  },
  {
   "cell_type": "markdown",
   "id": "2336fb91",
   "metadata": {},
   "source": [
    "Embarked 는 Null value 가 2개이고, S 에서 가장 많은 탑승객이 있었으므로, 간단하게 Null 을 S로 채우겠습니다.\n",
    "dataframe 의 fillna method 를 이용하면 쉽게 채울 수 있습니다. 여기서 inplace=True 로 하면 df_train 에 fillna 를 실제로 적용하게 됩니다"
   ]
  },
  {
   "cell_type": "code",
   "execution_count": 13,
   "id": "4548326a",
   "metadata": {},
   "outputs": [],
   "source": [
    "df_train['Embarked'].fillna('S', inplace=True)"
   ]
  },
  {
   "cell_type": "markdown",
   "id": "fd2c280e",
   "metadata": {},
   "source": [
    "##### 3.2 Change Age(continuous to categorical)"
   ]
  },
  {
   "cell_type": "markdown",
   "id": "fbc23ae0",
   "metadata": {},
   "source": [
    "Age 는 현재 continuous feature 입니다. 이대로 써도 모델을 세울 수 있지만, Age 를 몇개의 group 으로 나누어 category 화 시켜줄 수 도 있습니다. continuous 를 categorical 로 바꾸면 자칫 information loss 가 생길 수도 있습니다만, 본 튜토리얼에서는 다양한 방법을 소개하는 것이 목적이므로 진행하도록 하겠습니다.\n",
    "방법은 여러가지가 있습니다. dataframe 의 indexing 방법인 loc 를 사용하여 직접해줄 수 있고, 아니면 apply 를 사용해 함수를 넣어줄 수 있습니다.\n",
    "첫번째로 loc 를 사용한 방법입니다. loc 는 자주쓰게 되므로 그 사용법을 숙지하시면 좋습니다.\n",
    "나이는 10살 간격으로 나누겠습니다."
   ]
  },
  {
   "cell_type": "code",
   "execution_count": 14,
   "id": "b3a7c511",
   "metadata": {},
   "outputs": [],
   "source": [
    "df_train['Age_cat'] = 0\n",
    "df_train.loc[df_train['Age'] < 10, 'Age_cat'] = 0\n",
    "df_train.loc[(10 <= df_train['Age']) & (df_train['Age'] < 20), 'Age_cat'] = 1\n",
    "df_train.loc[(20 <= df_train['Age']) & (df_train['Age'] < 30), 'Age_cat'] = 2\n",
    "df_train.loc[(30 <= df_train['Age']) & (df_train['Age'] < 40), 'Age_cat'] = 3\n",
    "df_train.loc[(40 <= df_train['Age']) & (df_train['Age'] < 50), 'Age_cat'] = 4\n",
    "df_train.loc[(50 <= df_train['Age']) & (df_train['Age'] < 60), 'Age_cat'] = 5\n",
    "df_train.loc[(60 <= df_train['Age']) & (df_train['Age'] < 70), 'Age_cat'] = 6\n",
    "df_train.loc[70 <= df_train['Age'], 'Age_cat'] = 7\n",
    "\n",
    "df_test['Age_cat'] = 0\n",
    "df_test.loc[df_test['Age'] < 10, 'Age_cat'] = 0\n",
    "df_test.loc[(10 <= df_test['Age']) & (df_test['Age'] < 20), 'Age_cat'] = 1\n",
    "df_test.loc[(20 <= df_test['Age']) & (df_test['Age'] < 30), 'Age_cat'] = 2\n",
    "df_test.loc[(30 <= df_test['Age']) & (df_test['Age'] < 40), 'Age_cat'] = 3\n",
    "df_test.loc[(40 <= df_test['Age']) & (df_test['Age'] < 50), 'Age_cat'] = 4\n",
    "df_test.loc[(50 <= df_test['Age']) & (df_test['Age'] < 60), 'Age_cat'] = 5\n",
    "df_test.loc[(60 <= df_test['Age']) & (df_test['Age'] < 70), 'Age_cat'] = 6\n",
    "df_test.loc[70 <= df_test['Age'], 'Age_cat'] = 7"
   ]
  },
  {
   "cell_type": "code",
   "execution_count": 15,
   "id": "901c833e",
   "metadata": {},
   "outputs": [],
   "source": [
    "def category_age(x):\n",
    "    if x < 10:\n",
    "        return 0\n",
    "    elif x < 20:\n",
    "        return 1\n",
    "    elif x < 30:\n",
    "        return 2\n",
    "    elif x < 40:\n",
    "        return 3\n",
    "    elif x < 50:\n",
    "        return 4\n",
    "    elif x < 60:\n",
    "        return 5\n",
    "    elif x < 70:\n",
    "        return 6\n",
    "    else:\n",
    "        return 7    \n",
    "    \n",
    "df_train['Age_cat_2'] = df_train['Age'].apply(category_age)"
   ]
  },
  {
   "cell_type": "markdown",
   "id": "49f41197",
   "metadata": {},
   "source": [
    "두가지 방법이 잘 적용됬다면, 둘다 같은 결과를 내야합니다.\n",
    "이를 확인하기 위해 Series 간 boolean 비교 후 all() 메소드를 사용합시다. all() 메소드는 모든 값이 True 면 True, 하나라도 False 가 있으면 False 를 줍니다"
   ]
  },
  {
   "cell_type": "code",
   "execution_count": 16,
   "id": "8a45e505",
   "metadata": {},
   "outputs": [
    {
     "name": "stdout",
     "output_type": "stream",
     "text": [
      "1번 방법, 2번 방법 둘다 같은 결과를 내면 True 줘야함 ->  True\n"
     ]
    }
   ],
   "source": [
    "print('1번 방법, 2번 방법 둘다 같은 결과를 내면 True 줘야함 -> ', (df_train['Age_cat'] == df_train['Age_cat_2']).all())"
   ]
  },
  {
   "cell_type": "markdown",
   "id": "66bb5e03",
   "metadata": {},
   "source": [
    "보시다시피 True 입니다. 둘 중 편한 걸 선택하시면 됩니다.\n",
    "이제 중복되는 Age_cat 컬럼과 원래 컬럼 Age 를 제거하겠습니다"
   ]
  },
  {
   "cell_type": "code",
   "execution_count": 18,
   "id": "83384876",
   "metadata": {},
   "outputs": [],
   "source": [
    "df_train.drop(['Age', 'Age_cat_2'], axis=1, inplace=True)\n",
    "df_test.drop(['Age'], axis=1, inplace=True)"
   ]
  },
  {
   "cell_type": "markdown",
   "id": "da402040",
   "metadata": {},
   "source": [
    "##### 3.3 Change Initial, Embarked and Sex (string to numerical)"
   ]
  },
  {
   "cell_type": "markdown",
   "id": "e9a55fbe",
   "metadata": {},
   "source": [
    "현재 Initial 은 Mr, Mrs, Miss, Master, Other 총 5개로 이루어져 있습니다. 이런 카테고리로 표현되어져 있는 데이터를 모델에 인풋으로 넣어줄 때 우리가 해야할 것은 먼저 컴퓨터가 인식할 수 있도록 수치화 시켜야 합니다.\n",
    "map method 를 가지고 간단히 할 수 있습니다.\n",
    "사전 순서대로 정리하여 mapping 하겠습니다"
   ]
  },
  {
   "cell_type": "code",
   "execution_count": 19,
   "id": "42c8d905",
   "metadata": {},
   "outputs": [],
   "source": [
    "df_train['Initial'] = df_train['Initial'].map({'Master': 0, 'Miss': 1, 'Mr': 2, 'Mrs': 3, 'Other': 4})\n",
    "df_test['Initial'] = df_test['Initial'].map({'Master': 0, 'Miss': 1, 'Mr': 2, 'Mrs': 3, 'Other': 4})"
   ]
  },
  {
   "cell_type": "code",
   "execution_count": 20,
   "id": "d546f719",
   "metadata": {},
   "outputs": [
    {
     "data": {
      "text/plain": [
       "array(['S', 'C', 'Q'], dtype=object)"
      ]
     },
     "execution_count": 20,
     "metadata": {},
     "output_type": "execute_result"
    }
   ],
   "source": [
    "df_train['Embarked'].unique()"
   ]
  },
  {
   "cell_type": "code",
   "execution_count": 21,
   "id": "6392c23c",
   "metadata": {},
   "outputs": [
    {
     "data": {
      "text/plain": [
       "S    646\n",
       "C    168\n",
       "Q     77\n",
       "Name: Embarked, dtype: int64"
      ]
     },
     "execution_count": 21,
     "metadata": {},
     "output_type": "execute_result"
    }
   ],
   "source": [
    "df_train['Embarked'].value_counts()"
   ]
  },
  {
   "cell_type": "code",
   "execution_count": 22,
   "id": "6dc92217",
   "metadata": {},
   "outputs": [],
   "source": [
    "df_train['Embarked'] = df_train['Embarked'].map({'C': 0, 'Q': 1, 'S': 2})\n",
    "df_test['Embarked'] = df_test['Embarked'].map({'C': 0, 'Q': 1, 'S': 2})"
   ]
  },
  {
   "cell_type": "markdown",
   "id": "62ee7503",
   "metadata": {},
   "source": [
    "한번 Null 이 사라졌는지 확인해봅시다. Embarked Column만 가져온 것은 하나의 pandas의 Series 객체므로, isnull() 메소드를 사용해 Series의 값들이 null 인지 아닌지에 대한 boolean 값을 얻을 수 있습니다. 그리고 이것에 any() 를 사용하여, True 가 단하나라도 있을 시(Null이 한개라도 있을 시) True 를 반환해주게 됩니다. 우리는 Null 을 S로 다 바꿔주었으므로 False 를 얻게 됩니다"
   ]
  },
  {
   "cell_type": "code",
   "execution_count": 23,
   "id": "5a4f1b5c",
   "metadata": {},
   "outputs": [
    {
     "data": {
      "text/plain": [
       "False"
      ]
     },
     "execution_count": 23,
     "metadata": {},
     "output_type": "execute_result"
    }
   ],
   "source": [
    "df_train['Embarked'].isnull().any()"
   ]
  },
  {
   "cell_type": "code",
   "execution_count": 24,
   "id": "6efeced9",
   "metadata": {},
   "outputs": [],
   "source": [
    "df_train['Sex'] = df_train['Sex'].map({'female': 0, 'male': 1})\n",
    "df_test['Sex'] = df_test['Sex'].map({'female': 0, 'male': 1})"
   ]
  },
  {
   "cell_type": "markdown",
   "id": "bbf72d35",
   "metadata": {},
   "source": [
    " 이제 각 feature 간의 상관관계를 한번 보려고 합니다. 두 변수간의 Pearson correlation 을 구하면 (-1, 1) 사이의 값을 얻을 수 있습니다. -1로 갈수록 음의 상관관계, 1로 갈수록 양의 상관관계를 의미하며, 0은 상관관계가 없다는 것을 의미합니다. 구하는 수식은 아래와 같습니다.\n",
    " \n",
    "rxy=Cov(x,y) / SxSy = 1n−1∑ni=1(xi−x¯)(yi−y¯) / SxSy\n",
    "\n",
    "우리는 여러 feature 를 가지고 있으니 이를 하나의 maxtrix 형태로 보면 편할 텐데, 이를 heatmap plot 이라고 하며, dataframe 의 corr() 메소드와 seaborn 을 가지고 편하게 그릴 수 있습니다."
   ]
  },
  {
   "cell_type": "code",
   "execution_count": 25,
   "id": "3d3e9317",
   "metadata": {},
   "outputs": [
    {
     "data": {
      "image/png": "[encoded data removed]",
      "text/plain": [
       "<Figure size 1008x864 with 2 Axes>"
      ]
     },
     "metadata": {
      "needs_background": "light"
     },
     "output_type": "display_data"
    }
   ],
   "source": [
    "heatmap_data = df_train[['Survived', 'Pclass', 'Sex', 'Fare', 'Embarked', 'FamilySize', 'Initial', 'Age_cat']] \n",
    "\n",
    "colormap = plt.cm.RdBu\n",
    "plt.figure(figsize=(14, 12))\n",
    "plt.title('Pearson Correlation of Features', y=1.05, size=15)\n",
    "sns.heatmap(heatmap_data.astype(float).corr(), linewidths=0.1, vmax=1.0,\n",
    "           square=True, cmap=colormap, linecolor='white', annot=True, annot_kws={\"size\": 16})\n",
    "\n",
    "del heatmap_data"
   ]
  },
  {
   "cell_type": "markdown",
   "id": "50226874",
   "metadata": {},
   "source": [
    "우리가 EDA에서 살펴봤듯이, Sex 와 Pclass 가 Survived 에 상관관계가 어느 정도 있음을 볼 수 있습니다.\n",
    "생각보다 fare 와 Embarked 도 상관관계가 있음을 볼 수 있습니다.\n",
    "또한 우리가 여기서 얻을 수 있는 정보는 서로 강한 상관관계를 가지는 feature들이 없다는 것입니다.\n",
    "이것은 우리가 모델을 학습시킬 때, 불필요한(redundant, superfluous) feature 가 없다는 것을 의미합니다. 1 또는 -1 의 상관관계를 가진 feature A, B 가 있다면, 우리가 얻을 수 있는 정보는 사실 하나일 거니까요.\n",
    "이제 실제로 모델을 학습시키기 앞서서 data preprocessing (전처리)을 진행해보겠습니다. 거의 다 와갑니다 힙냅시다!"
   ]
  },
  {
   "cell_type": "markdown",
   "id": "01472c5b",
   "metadata": {},
   "source": [
    "#### 3.4 One-hot encoding on Initial and Embarked"
   ]
  },
  {
   "cell_type": "markdown",
   "id": "2afb8349",
   "metadata": {},
   "source": [
    "수치화시킨 카테고리 데이터를 그대로 넣어도 되지만, 모델의 성능을 높이기 위해 one-hot encoding을 해줄 수 있습니다.\n",
    "수치화는 간단히 Master == 0, Miss == 1, Mr == 2, Mrs == 3, Other == 4 로 매핑해주는 것을 말합니다.\n",
    "pandas 의 get_dummies 를 사용하여 쉽게 해결 할 수 있습니다.\n",
    "총 5개의 카테고리니, one-hot encoding 을 하고 나면 새로운 5개의 column 이 생겨납니다.\n",
    "Initial 을 prefix로 두어서 구분이 쉽게 만들어 줍니다\n"
   ]
  },
  {
   "cell_type": "code",
   "execution_count": 26,
   "id": "dcaa1e24",
   "metadata": {},
   "outputs": [],
   "source": [
    "df_train = pd.get_dummies(df_train, columns=['Initial'], prefix='Initial')\n",
    "df_test = pd.get_dummies(df_test, columns=['Initial'], prefix='Initial')"
   ]
  },
  {
   "cell_type": "code",
   "execution_count": 27,
   "id": "4570a075",
   "metadata": {},
   "outputs": [
    {
     "data": {
      "text/html": [
       "<div>\n",
       "<style scoped>\n",
       "    .dataframe tbody tr th:only-of-type {\n",
       "        vertical-align: middle;\n",
       "    }\n",
       "\n",
       "    .dataframe tbody tr th {\n",
       "        vertical-align: top;\n",
       "    }\n",
       "\n",
       "    .dataframe thead th {\n",
       "        text-align: right;\n",
       "    }\n",
       "</style>\n",
       "<table border=\"1\" class=\"dataframe\">\n",
       "  <thead>\n",
       "    <tr style=\"text-align: right;\">\n",
       "      <th></th>\n",
       "      <th>PassengerId</th>\n",
       "      <th>Survived</th>\n",
       "      <th>Pclass</th>\n",
       "      <th>Name</th>\n",
       "      <th>Sex</th>\n",
       "      <th>SibSp</th>\n",
       "      <th>Parch</th>\n",
       "      <th>Ticket</th>\n",
       "      <th>Fare</th>\n",
       "      <th>Cabin</th>\n",
       "      <th>Embarked</th>\n",
       "      <th>FamilySize</th>\n",
       "      <th>Age_cat</th>\n",
       "      <th>Initial_0</th>\n",
       "      <th>Initial_1</th>\n",
       "      <th>Initial_2</th>\n",
       "      <th>Initial_3</th>\n",
       "      <th>Initial_4</th>\n",
       "    </tr>\n",
       "  </thead>\n",
       "  <tbody>\n",
       "    <tr>\n",
       "      <th>0</th>\n",
       "      <td>1</td>\n",
       "      <td>0</td>\n",
       "      <td>3</td>\n",
       "      <td>Braund, Mr. Owen Harris</td>\n",
       "      <td>1</td>\n",
       "      <td>1</td>\n",
       "      <td>0</td>\n",
       "      <td>A/5 21171</td>\n",
       "      <td>1.981001</td>\n",
       "      <td>NaN</td>\n",
       "      <td>2</td>\n",
       "      <td>2</td>\n",
       "      <td>2</td>\n",
       "      <td>0</td>\n",
       "      <td>0</td>\n",
       "      <td>1</td>\n",
       "      <td>0</td>\n",
       "      <td>0</td>\n",
       "    </tr>\n",
       "    <tr>\n",
       "      <th>1</th>\n",
       "      <td>2</td>\n",
       "      <td>1</td>\n",
       "      <td>1</td>\n",
       "      <td>Cumings, Mrs. John Bradley (Florence Briggs Th...</td>\n",
       "      <td>0</td>\n",
       "      <td>1</td>\n",
       "      <td>0</td>\n",
       "      <td>PC 17599</td>\n",
       "      <td>4.266662</td>\n",
       "      <td>C85</td>\n",
       "      <td>0</td>\n",
       "      <td>2</td>\n",
       "      <td>3</td>\n",
       "      <td>0</td>\n",
       "      <td>0</td>\n",
       "      <td>0</td>\n",
       "      <td>1</td>\n",
       "      <td>0</td>\n",
       "    </tr>\n",
       "    <tr>\n",
       "      <th>2</th>\n",
       "      <td>3</td>\n",
       "      <td>1</td>\n",
       "      <td>3</td>\n",
       "      <td>Heikkinen, Miss. Laina</td>\n",
       "      <td>0</td>\n",
       "      <td>0</td>\n",
       "      <td>0</td>\n",
       "      <td>STON/O2. 3101282</td>\n",
       "      <td>2.070022</td>\n",
       "      <td>NaN</td>\n",
       "      <td>2</td>\n",
       "      <td>1</td>\n",
       "      <td>2</td>\n",
       "      <td>0</td>\n",
       "      <td>1</td>\n",
       "      <td>0</td>\n",
       "      <td>0</td>\n",
       "      <td>0</td>\n",
       "    </tr>\n",
       "    <tr>\n",
       "      <th>3</th>\n",
       "      <td>4</td>\n",
       "      <td>1</td>\n",
       "      <td>1</td>\n",
       "      <td>Futrelle, Mrs. Jacques Heath (Lily May Peel)</td>\n",
       "      <td>0</td>\n",
       "      <td>1</td>\n",
       "      <td>0</td>\n",
       "      <td>113803</td>\n",
       "      <td>3.972177</td>\n",
       "      <td>C123</td>\n",
       "      <td>2</td>\n",
       "      <td>2</td>\n",
       "      <td>3</td>\n",
       "      <td>0</td>\n",
       "      <td>0</td>\n",
       "      <td>0</td>\n",
       "      <td>1</td>\n",
       "      <td>0</td>\n",
       "    </tr>\n",
       "    <tr>\n",
       "      <th>4</th>\n",
       "      <td>5</td>\n",
       "      <td>0</td>\n",
       "      <td>3</td>\n",
       "      <td>Allen, Mr. William Henry</td>\n",
       "      <td>1</td>\n",
       "      <td>0</td>\n",
       "      <td>0</td>\n",
       "      <td>373450</td>\n",
       "      <td>2.085672</td>\n",
       "      <td>NaN</td>\n",
       "      <td>2</td>\n",
       "      <td>1</td>\n",
       "      <td>3</td>\n",
       "      <td>0</td>\n",
       "      <td>0</td>\n",
       "      <td>1</td>\n",
       "      <td>0</td>\n",
       "      <td>0</td>\n",
       "    </tr>\n",
       "  </tbody>\n",
       "</table>\n",
       "</div>"
      ],
      "text/plain": [
       "   PassengerId  Survived  Pclass  \\\n",
       "0            1         0       3   \n",
       "1            2         1       1   \n",
       "2            3         1       3   \n",
       "3            4         1       1   \n",
       "4            5         0       3   \n",
       "\n",
       "                                                Name  Sex  SibSp  Parch  \\\n",
       "0                            Braund, Mr. Owen Harris    1      1      0   \n",
       "1  Cumings, Mrs. John Bradley (Florence Briggs Th...    0      1      0   \n",
       "2                             Heikkinen, Miss. Laina    0      0      0   \n",
       "3       Futrelle, Mrs. Jacques Heath (Lily May Peel)    0      1      0   \n",
       "4                           Allen, Mr. William Henry    1      0      0   \n",
       "\n",
       "             Ticket      Fare Cabin  Embarked  FamilySize  Age_cat  Initial_0  \\\n",
       "0         A/5 21171  1.981001   NaN         2           2        2          0   \n",
       "1          PC 17599  4.266662   C85         0           2        3          0   \n",
       "2  STON/O2. 3101282  2.070022   NaN         2           1        2          0   \n",
       "3            113803  3.972177  C123         2           2        3          0   \n",
       "4            373450  2.085672   NaN         2           1        3          0   \n",
       "\n",
       "   Initial_1  Initial_2  Initial_3  Initial_4  \n",
       "0          0          1          0          0  \n",
       "1          0          0          1          0  \n",
       "2          1          0          0          0  \n",
       "3          0          0          1          0  \n",
       "4          0          1          0          0  "
      ]
     },
     "execution_count": 27,
     "metadata": {},
     "output_type": "execute_result"
    }
   ],
   "source": [
    "df_train.head()"
   ]
  },
  {
   "cell_type": "code",
   "execution_count": 28,
   "id": "5d2f2d7d",
   "metadata": {},
   "outputs": [],
   "source": [
    "df_train = pd.get_dummies(df_train, columns=['Embarked'], prefix='Embarked')\n",
    "df_test = pd.get_dummies(df_test, columns=['Embarked'], prefix='Embarked')"
   ]
  },
  {
   "cell_type": "markdown",
   "id": "2ece1bd2",
   "metadata": {},
   "source": [
    "아주 쉽게 one-hot encoding 을 적용했습니다.\n",
    "sklearn 로 Labelencoder + OneHotencoder 이용해도 one-hot encoding 이 가능합니다.\n",
    "다른 튜토리얼에서 한번 써보겠습니다. 여기서는 get_dummies 로 충분히 가능하기 때문에 get_dummies 만으로 끝내겠습니다.\n",
    "가끔 category 가 100개가 넘어가는 경우가 있습니다. 이때 one-hot encoding을 사용하면 column이 100개가 생겨, 학습시 매우 버거울 경우가 있습니다. 이런 경우는 다른 방법을 사용하기도 하는데, 이는 다음에 한번 다뤄보겠습니다."
   ]
  },
  {
   "cell_type": "markdown",
   "id": "bdffab06",
   "metadata": {},
   "source": [
    "#### 3.5 Drop columns¶"
   ]
  },
  {
   "cell_type": "code",
   "execution_count": 29,
   "id": "2721f0d6",
   "metadata": {},
   "outputs": [],
   "source": [
    "df_train.drop(['PassengerId', 'Name', 'SibSp', 'Parch', 'Ticket', 'Cabin'], axis=1, inplace=True)\n",
    "df_test.drop(['PassengerId', 'Name',  'SibSp', 'Parch', 'Ticket', 'Cabin'], axis=1, inplace=True)"
   ]
  },
  {
   "cell_type": "code",
   "execution_count": 30,
   "id": "66d7d444",
   "metadata": {},
   "outputs": [
    {
     "data": {
      "text/html": [
       "<div>\n",
       "<style scoped>\n",
       "    .dataframe tbody tr th:only-of-type {\n",
       "        vertical-align: middle;\n",
       "    }\n",
       "\n",
       "    .dataframe tbody tr th {\n",
       "        vertical-align: top;\n",
       "    }\n",
       "\n",
       "    .dataframe thead th {\n",
       "        text-align: right;\n",
       "    }\n",
       "</style>\n",
       "<table border=\"1\" class=\"dataframe\">\n",
       "  <thead>\n",
       "    <tr style=\"text-align: right;\">\n",
       "      <th></th>\n",
       "      <th>Survived</th>\n",
       "      <th>Pclass</th>\n",
       "      <th>Sex</th>\n",
       "      <th>Fare</th>\n",
       "      <th>FamilySize</th>\n",
       "      <th>Age_cat</th>\n",
       "      <th>Initial_0</th>\n",
       "      <th>Initial_1</th>\n",
       "      <th>Initial_2</th>\n",
       "      <th>Initial_3</th>\n",
       "      <th>Initial_4</th>\n",
       "      <th>Embarked_0</th>\n",
       "      <th>Embarked_1</th>\n",
       "      <th>Embarked_2</th>\n",
       "    </tr>\n",
       "  </thead>\n",
       "  <tbody>\n",
       "    <tr>\n",
       "      <th>0</th>\n",
       "      <td>0</td>\n",
       "      <td>3</td>\n",
       "      <td>1</td>\n",
       "      <td>1.981001</td>\n",
       "      <td>2</td>\n",
       "      <td>2</td>\n",
       "      <td>0</td>\n",
       "      <td>0</td>\n",
       "      <td>1</td>\n",
       "      <td>0</td>\n",
       "      <td>0</td>\n",
       "      <td>0</td>\n",
       "      <td>0</td>\n",
       "      <td>1</td>\n",
       "    </tr>\n",
       "    <tr>\n",
       "      <th>1</th>\n",
       "      <td>1</td>\n",
       "      <td>1</td>\n",
       "      <td>0</td>\n",
       "      <td>4.266662</td>\n",
       "      <td>2</td>\n",
       "      <td>3</td>\n",
       "      <td>0</td>\n",
       "      <td>0</td>\n",
       "      <td>0</td>\n",
       "      <td>1</td>\n",
       "      <td>0</td>\n",
       "      <td>1</td>\n",
       "      <td>0</td>\n",
       "      <td>0</td>\n",
       "    </tr>\n",
       "    <tr>\n",
       "      <th>2</th>\n",
       "      <td>1</td>\n",
       "      <td>3</td>\n",
       "      <td>0</td>\n",
       "      <td>2.070022</td>\n",
       "      <td>1</td>\n",
       "      <td>2</td>\n",
       "      <td>0</td>\n",
       "      <td>1</td>\n",
       "      <td>0</td>\n",
       "      <td>0</td>\n",
       "      <td>0</td>\n",
       "      <td>0</td>\n",
       "      <td>0</td>\n",
       "      <td>1</td>\n",
       "    </tr>\n",
       "    <tr>\n",
       "      <th>3</th>\n",
       "      <td>1</td>\n",
       "      <td>1</td>\n",
       "      <td>0</td>\n",
       "      <td>3.972177</td>\n",
       "      <td>2</td>\n",
       "      <td>3</td>\n",
       "      <td>0</td>\n",
       "      <td>0</td>\n",
       "      <td>0</td>\n",
       "      <td>1</td>\n",
       "      <td>0</td>\n",
       "      <td>0</td>\n",
       "      <td>0</td>\n",
       "      <td>1</td>\n",
       "    </tr>\n",
       "    <tr>\n",
       "      <th>4</th>\n",
       "      <td>0</td>\n",
       "      <td>3</td>\n",
       "      <td>1</td>\n",
       "      <td>2.085672</td>\n",
       "      <td>1</td>\n",
       "      <td>3</td>\n",
       "      <td>0</td>\n",
       "      <td>0</td>\n",
       "      <td>1</td>\n",
       "      <td>0</td>\n",
       "      <td>0</td>\n",
       "      <td>0</td>\n",
       "      <td>0</td>\n",
       "      <td>1</td>\n",
       "    </tr>\n",
       "  </tbody>\n",
       "</table>\n",
       "</div>"
      ],
      "text/plain": [
       "   Survived  Pclass  Sex      Fare  FamilySize  Age_cat  Initial_0  Initial_1  \\\n",
       "0         0       3    1  1.981001           2        2          0          0   \n",
       "1         1       1    0  4.266662           2        3          0          0   \n",
       "2         1       3    0  2.070022           1        2          0          1   \n",
       "3         1       1    0  3.972177           2        3          0          0   \n",
       "4         0       3    1  2.085672           1        3          0          0   \n",
       "\n",
       "   Initial_2  Initial_3  Initial_4  Embarked_0  Embarked_1  Embarked_2  \n",
       "0          1          0          0           0           0           1  \n",
       "1          0          1          0           1           0           0  \n",
       "2          0          0          0           0           0           1  \n",
       "3          0          1          0           0           0           1  \n",
       "4          1          0          0           0           0           1  "
      ]
     },
     "execution_count": 30,
     "metadata": {},
     "output_type": "execute_result"
    }
   ],
   "source": [
    "df_train.head()"
   ]
  },
  {
   "cell_type": "code",
   "execution_count": 31,
   "id": "3c81d30c",
   "metadata": {},
   "outputs": [
    {
     "data": {
      "text/html": [
       "<div>\n",
       "<style scoped>\n",
       "    .dataframe tbody tr th:only-of-type {\n",
       "        vertical-align: middle;\n",
       "    }\n",
       "\n",
       "    .dataframe tbody tr th {\n",
       "        vertical-align: top;\n",
       "    }\n",
       "\n",
       "    .dataframe thead th {\n",
       "        text-align: right;\n",
       "    }\n",
       "</style>\n",
       "<table border=\"1\" class=\"dataframe\">\n",
       "  <thead>\n",
       "    <tr style=\"text-align: right;\">\n",
       "      <th></th>\n",
       "      <th>Pclass</th>\n",
       "      <th>Sex</th>\n",
       "      <th>Fare</th>\n",
       "      <th>FamilySize</th>\n",
       "      <th>Age_cat</th>\n",
       "      <th>Initial_0</th>\n",
       "      <th>Initial_1</th>\n",
       "      <th>Initial_2</th>\n",
       "      <th>Initial_3</th>\n",
       "      <th>Initial_4</th>\n",
       "      <th>Embarked_0</th>\n",
       "      <th>Embarked_1</th>\n",
       "      <th>Embarked_2</th>\n",
       "    </tr>\n",
       "  </thead>\n",
       "  <tbody>\n",
       "    <tr>\n",
       "      <th>0</th>\n",
       "      <td>3</td>\n",
       "      <td>1</td>\n",
       "      <td>2.057860</td>\n",
       "      <td>1</td>\n",
       "      <td>3</td>\n",
       "      <td>0</td>\n",
       "      <td>0</td>\n",
       "      <td>1</td>\n",
       "      <td>0</td>\n",
       "      <td>0</td>\n",
       "      <td>0</td>\n",
       "      <td>1</td>\n",
       "      <td>0</td>\n",
       "    </tr>\n",
       "    <tr>\n",
       "      <th>1</th>\n",
       "      <td>3</td>\n",
       "      <td>0</td>\n",
       "      <td>1.945910</td>\n",
       "      <td>2</td>\n",
       "      <td>4</td>\n",
       "      <td>0</td>\n",
       "      <td>0</td>\n",
       "      <td>0</td>\n",
       "      <td>1</td>\n",
       "      <td>0</td>\n",
       "      <td>0</td>\n",
       "      <td>0</td>\n",
       "      <td>1</td>\n",
       "    </tr>\n",
       "    <tr>\n",
       "      <th>2</th>\n",
       "      <td>2</td>\n",
       "      <td>1</td>\n",
       "      <td>2.270836</td>\n",
       "      <td>1</td>\n",
       "      <td>6</td>\n",
       "      <td>0</td>\n",
       "      <td>0</td>\n",
       "      <td>1</td>\n",
       "      <td>0</td>\n",
       "      <td>0</td>\n",
       "      <td>0</td>\n",
       "      <td>1</td>\n",
       "      <td>0</td>\n",
       "    </tr>\n",
       "    <tr>\n",
       "      <th>3</th>\n",
       "      <td>3</td>\n",
       "      <td>1</td>\n",
       "      <td>2.159003</td>\n",
       "      <td>1</td>\n",
       "      <td>2</td>\n",
       "      <td>0</td>\n",
       "      <td>0</td>\n",
       "      <td>1</td>\n",
       "      <td>0</td>\n",
       "      <td>0</td>\n",
       "      <td>0</td>\n",
       "      <td>0</td>\n",
       "      <td>1</td>\n",
       "    </tr>\n",
       "    <tr>\n",
       "      <th>4</th>\n",
       "      <td>3</td>\n",
       "      <td>0</td>\n",
       "      <td>2.508582</td>\n",
       "      <td>3</td>\n",
       "      <td>2</td>\n",
       "      <td>0</td>\n",
       "      <td>0</td>\n",
       "      <td>0</td>\n",
       "      <td>1</td>\n",
       "      <td>0</td>\n",
       "      <td>0</td>\n",
       "      <td>0</td>\n",
       "      <td>1</td>\n",
       "    </tr>\n",
       "  </tbody>\n",
       "</table>\n",
       "</div>"
      ],
      "text/plain": [
       "   Pclass  Sex      Fare  FamilySize  Age_cat  Initial_0  Initial_1  \\\n",
       "0       3    1  2.057860           1        3          0          0   \n",
       "1       3    0  1.945910           2        4          0          0   \n",
       "2       2    1  2.270836           1        6          0          0   \n",
       "3       3    1  2.159003           1        2          0          0   \n",
       "4       3    0  2.508582           3        2          0          0   \n",
       "\n",
       "   Initial_2  Initial_3  Initial_4  Embarked_0  Embarked_1  Embarked_2  \n",
       "0          1          0          0           0           1           0  \n",
       "1          0          1          0           0           0           1  \n",
       "2          1          0          0           0           1           0  \n",
       "3          1          0          0           0           0           1  \n",
       "4          0          1          0           0           0           1  "
      ]
     },
     "execution_count": 31,
     "metadata": {},
     "output_type": "execute_result"
    }
   ],
   "source": [
    "df_test.head()"
   ]
  },
  {
   "cell_type": "markdown",
   "id": "6a9d7080",
   "metadata": {},
   "source": [
    "### 4 Building machine learning model and prediction using the trained model"
   ]
  },
  {
   "cell_type": "code",
   "execution_count": 32,
   "id": "c34dc8cc",
   "metadata": {},
   "outputs": [],
   "source": [
    "#importing all the required ML packages\n",
    "from sklearn.ensemble import RandomForestClassifier # 유명한 randomforestclassfier 입니다. \n",
    "from sklearn import metrics # 모델의 평가를 위해서 씁니다\n",
    "from sklearn.model_selection import train_test_split # traning set을 쉽게 나눠주는 함수입니다."
   ]
  },
  {
   "cell_type": "markdown",
   "id": "3e641ae8",
   "metadata": {},
   "source": [
    "Sklearn 은 머신러닝의 처음부터 끝까지가 다 있습니다. feature engineering, preprocessing, 지도 학습 알고리즘, 비지도 학습 알고리즘, 모델 평가, 파이프라인 등 머신러닝에 관련된 모든 작업들이 손쉬운 인터페이스로 구현되어 있습니다. 데이터 분석 + 머신러닝을 하고싶다면, 이 라이브러리는 반드시 숙지해야합니다.\n",
    "파이썬 라이브러리를 활용한 머신러닝(Introduction to machine larning with Python)책을 사서 공부하시길 매우 추천해드립니다.\n",
    "지금 타이타닉 문제는 target class(survived)가 있으며, target class 는 0, 1로 이루어져 있으므로(binary) binary classfication 문제입니다.\n",
    "우리가 지금 가지고 있는 train set 의 survived를 제외한 input 을 가지고 모델을 최적화시켜서 각 샘플(탑승객)의 생존유무를 판단하는 모델을 만들어 냅니다.\n",
    "그 후 모델이 학습하지 않았던 test set 을 input 으로 주어서 test set 의 각 샘플(탑승객)의 생존 유무를 예측해봅니다."
   ]
  },
  {
   "cell_type": "markdown",
   "id": "c66bd1cd",
   "metadata": {},
   "source": [
    "#### 4.1 Preparation - Split dataset into train, valid, test set"
   ]
  },
  {
   "cell_type": "code",
   "execution_count": 33,
   "id": "aff311c4",
   "metadata": {},
   "outputs": [],
   "source": [
    "X_train = df_train.drop('Survived', axis=1).values\n",
    "target_label = df_train['Survived'].values\n",
    "X_test = df_test.values"
   ]
  },
  {
   "cell_type": "code",
   "execution_count": 34,
   "id": "00544e5a",
   "metadata": {},
   "outputs": [
    {
     "name": "stdout",
     "output_type": "stream",
     "text": [
      "(623, 13) (268, 13) (623,) (268,)\n"
     ]
    }
   ],
   "source": [
    "X_tr, X_vld, y_tr, y_vld = train_test_split(X_train, target_label, test_size=0.3, random_state=2018)\n",
    "print(X_tr.shape, X_vld.shape, y_tr.shape, y_vld.shape)\n"
   ]
  },
  {
   "cell_type": "code",
   "execution_count": 35,
   "id": "e9c4795d",
   "metadata": {},
   "outputs": [
    {
     "name": "stdout",
     "output_type": "stream",
     "text": [
      "0 0 0 0\n"
     ]
    }
   ],
   "source": [
    "print(np.isnan(X_tr).sum(),np.isnan(y_tr).sum(), np.isnan(X_vld).sum(), np.isnan(y_vld).sum())"
   ]
  },
  {
   "cell_type": "markdown",
   "id": "67683c23",
   "metadata": {},
   "source": [
    "#### 4.2 Model generation and prediction"
   ]
  },
  {
   "cell_type": "code",
   "execution_count": 36,
   "id": "174f209c",
   "metadata": {},
   "outputs": [],
   "source": [
    "model = RandomForestClassifier()\n",
    "model.fit(X_tr, y_tr)\n",
    "prediction = model.predict(X_vld)"
   ]
  },
  {
   "cell_type": "code",
   "execution_count": 37,
   "id": "0737d3f0",
   "metadata": {},
   "outputs": [
    {
     "name": "stdout",
     "output_type": "stream",
     "text": [
      "총 268명 중 80.97% 정확도로 생존을 맞춤\n"
     ]
    }
   ],
   "source": [
    "print('총 {}명 중 {:.2f}% 정확도로 생존을 맞춤'.format(y_vld.shape[0], 100 * metrics.accuracy_score(prediction, y_vld)))"
   ]
  },
  {
   "cell_type": "markdown",
   "id": "6ecbfd96",
   "metadata": {},
   "source": [
    "아무런 파라미터 튜닝도 하지 않았는데 82% 의 정확도가 나왔습니다. 고생하셨습니다!"
   ]
  },
  {
   "cell_type": "markdown",
   "id": "9a379631",
   "metadata": {},
   "source": [
    "#### 4.3 Feature importance \n",
    "\n",
    "학습된 모델은 feature importance 를 가지게 되는데, 우리는 이것을 확인하여 지금 만든 모델이 어떤 feature 에 영향을 많이 받았는 지 확인할 수 있습니다.\n",
    "쉽게 말해, 10 = 4x1 + 2x2 + 1*x3 을 생각하면, 우리는 x1이 결과값(10)에 큰 영향을 준다고 생각 할 수 있습니다. feature importance 는 4, 2, 1 을 이야기하며, x1이 가장 큰 값(4)를 가지므로, 이 모델에 가장 큰 영향을 미친다고 말할 수 있습니다.\n",
    "학습된 모델은 기본적으로 featureimportances 를 가지고 있어서 쉽게 그 수치를 얻을 수 있습니다.\n",
    "pandas series 를 이용하면 쉽게 sorting 을 하여 그래프를 그릴 수 있습니다."
   ]
  },
  {
   "cell_type": "code",
   "execution_count": 38,
   "id": "48921694",
   "metadata": {},
   "outputs": [],
   "source": [
    "from pandas import Series\n",
    "\n",
    "feature_importance = model.feature_importances_\n",
    "Series_feat_imp = Series(feature_importance, index=df_test.columns)"
   ]
  },
  {
   "cell_type": "code",
   "execution_count": 39,
   "id": "0e3abc32",
   "metadata": {},
   "outputs": [
    {
     "data": {
      "image/png": "[encoded data removed]",
      "text/plain": [
       "<Figure size 576x576 with 1 Axes>"
      ]
     },
     "metadata": {
      "needs_background": "light"
     },
     "output_type": "display_data"
    }
   ],
   "source": [
    "plt.figure(figsize=(8, 8))\n",
    "Series_feat_imp.sort_values(ascending=True).plot.barh()\n",
    "plt.xlabel('Feature importance')\n",
    "plt.ylabel('Feature')\n",
    "plt.show()"
   ]
  },
  {
   "cell_type": "markdown",
   "id": "29df3176",
   "metadata": {},
   "source": [
    "우리가 얻은 모델에서는 Fare 가 가장 큰 영향력을 가지며, 그 뒤로 Initial_2, Age_cat, Pclass가 차례로 중요도를 가집니다\n",
    "사실 feature importance 는 지금 모델에서의 importance 를 나타냅니다. 만약 다른 모델을 사용하게 된다면 feature importance 가 다르게 나올 수 있습니다.\n",
    "이 feature importance 를 보고 실제로 Fare 가 중요한 feature 일 수 있다고 판단을 내릴 수는 있지만, 이것은 결국 모델에 귀속되는 하나의 결론이므로 통계적으로 좀 더 살펴보긴 해야합니다.\n",
    "featuure importance 를 가지고 좀 더 정확도가 높은 모델을 얻기 위해 feature selection 을 할 수도 있고, 좀 더 빠른 모델을 위해 feature 제거를 할 수 있습니다."
   ]
  },
  {
   "cell_type": "markdown",
   "id": "08361600",
   "metadata": {},
   "source": [
    "#### 4.4 Prediction on Test set ¶"
   ]
  },
  {
   "cell_type": "markdown",
   "id": "e912b1eb",
   "metadata": {},
   "source": [
    "이제 모델이 학습하지 않았던(보지 않았던) 테스트셋을 모델에 주어서, 생존여부를 예측해보겠습니다.\n",
    "이 결과는 실제로 submission(제출용) 이므로 결과는 leaderboard 에서 확인할 수 있습니다.\n",
    "캐글에서 준 파일, gender_submission.csv 파일을 읽어서 제출 준비를 하겠습니다."
   ]
  },
  {
   "cell_type": "code",
   "execution_count": 40,
   "id": "17b03f68",
   "metadata": {},
   "outputs": [],
   "source": [
    "submission = pd.read_csv('~/aiffel/data_analysis_basic/data/titanic/gender_submission.csv')\n"
   ]
  },
  {
   "cell_type": "code",
   "execution_count": 41,
   "id": "453f616f",
   "metadata": {},
   "outputs": [
    {
     "data": {
      "text/html": [
       "<div>\n",
       "<style scoped>\n",
       "    .dataframe tbody tr th:only-of-type {\n",
       "        vertical-align: middle;\n",
       "    }\n",
       "\n",
       "    .dataframe tbody tr th {\n",
       "        vertical-align: top;\n",
       "    }\n",
       "\n",
       "    .dataframe thead th {\n",
       "        text-align: right;\n",
       "    }\n",
       "</style>\n",
       "<table border=\"1\" class=\"dataframe\">\n",
       "  <thead>\n",
       "    <tr style=\"text-align: right;\">\n",
       "      <th></th>\n",
       "      <th>PassengerId</th>\n",
       "      <th>Survived</th>\n",
       "    </tr>\n",
       "  </thead>\n",
       "  <tbody>\n",
       "    <tr>\n",
       "      <th>0</th>\n",
       "      <td>892</td>\n",
       "      <td>0</td>\n",
       "    </tr>\n",
       "    <tr>\n",
       "      <th>1</th>\n",
       "      <td>893</td>\n",
       "      <td>1</td>\n",
       "    </tr>\n",
       "    <tr>\n",
       "      <th>2</th>\n",
       "      <td>894</td>\n",
       "      <td>0</td>\n",
       "    </tr>\n",
       "    <tr>\n",
       "      <th>3</th>\n",
       "      <td>895</td>\n",
       "      <td>0</td>\n",
       "    </tr>\n",
       "    <tr>\n",
       "      <th>4</th>\n",
       "      <td>896</td>\n",
       "      <td>1</td>\n",
       "    </tr>\n",
       "  </tbody>\n",
       "</table>\n",
       "</div>"
      ],
      "text/plain": [
       "   PassengerId  Survived\n",
       "0          892         0\n",
       "1          893         1\n",
       "2          894         0\n",
       "3          895         0\n",
       "4          896         1"
      ]
     },
     "execution_count": 41,
     "metadata": {},
     "output_type": "execute_result"
    }
   ],
   "source": [
    "submission.head()"
   ]
  },
  {
   "cell_type": "code",
   "execution_count": 42,
   "id": "eb1ebf86",
   "metadata": {},
   "outputs": [],
   "source": [
    "prediction = model.predict(X_test)\n",
    "submission['Survived'] = prediction"
   ]
  },
  {
   "cell_type": "code",
   "execution_count": null,
   "id": "d2b14408",
   "metadata": {},
   "outputs": [],
   "source": []
  },
  {
   "cell_type": "code",
   "execution_count": null,
   "id": "e9d28469",
   "metadata": {},
   "outputs": [],
   "source": []
  },
  {
   "cell_type": "code",
   "execution_count": null,
   "id": "61e2a3fd",
   "metadata": {},
   "outputs": [],
   "source": []
  },
  {
   "cell_type": "code",
   "execution_count": null,
   "id": "a38fec93",
   "metadata": {},
   "outputs": [],
   "source": []
  },
  {
   "cell_type": "code",
   "execution_count": null,
   "id": "bd7ad5ce",
   "metadata": {},
   "outputs": [],
   "source": []
  },
  {
   "cell_type": "code",
   "execution_count": null,
   "id": "a6ad096e",
   "metadata": {},
   "outputs": [],
   "source": []
  }
 ],
 "metadata": {
  "kernelspec": {
   "display_name": "Python 3 (ipykernel)",
   "language": "python",
   "name": "python3"
  },
  "language_info": {
   "codemirror_mode": {
    "name": "ipython",
    "version": 3
   },
   "file_extension": ".py",
   "mimetype": "text/x-python",
   "name": "python",
   "nbconvert_exporter": "python",
   "pygments_lexer": "ipython3",
   "version": "3.9.7"
  }
 },
 "nbformat": 4,
 "nbformat_minor": 5
}
