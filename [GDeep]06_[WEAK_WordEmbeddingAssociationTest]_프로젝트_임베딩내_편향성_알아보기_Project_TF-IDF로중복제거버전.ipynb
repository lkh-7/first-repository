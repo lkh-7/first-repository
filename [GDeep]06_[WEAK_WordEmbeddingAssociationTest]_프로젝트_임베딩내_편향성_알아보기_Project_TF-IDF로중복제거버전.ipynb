{
 "cells": [
  {
   "cell_type": "markdown",
   "id": "cfc325d4",
   "metadata": {},
   "source": [
    "## 6-8. 프로젝트 : 모든 장르 간 편향성 측정해 보기: TF-IDF 재사용으로 중복단어제거 버전 \n",
    "지금까지 우리는 영화 시놉시스 코퍼스를 가지고 영화 구분과 영화 장르 간에 내재된 편향성을 측정하는 작업을 진행해 보았습니다. 어느 정도는 우리의 상식과 일치하는 편향성이 측정되었을 것입니다.\n",
    "\n",
    "이번에는 모든 장르에 대해 영화 구분과의 편향성 정도를 측정해 보겠습니다. 대부분의 과정은 이전 스텝에서 이미 진행한 내용을 참고해서 동일하게 진행 가능할 것입니다.\n",
    "\n",
    "#### 라이브러리 버전을 확인해 봅니다\n",
    "사용할 라이브러리 버전을 둘러봅시다."
   ]
  },
  {
   "cell_type": "code",
   "execution_count": 1,
   "id": "c7bbc4a1",
   "metadata": {},
   "outputs": [
    {
     "name": "stdout",
     "output_type": "stream",
     "text": [
      "0.5.2\n",
      "4.1.2\n",
      "1.0\n",
      "0.11.2\n"
     ]
    }
   ],
   "source": [
    "import konlpy\n",
    "import gensim\n",
    "import sklearn\n",
    "import seaborn\n",
    "\n",
    "print(konlpy.__version__)\n",
    "print(gensim.__version__)\n",
    "print(sklearn.__version__)\n",
    "print(seaborn.__version__)"
   ]
  },
  {
   "cell_type": "markdown",
   "id": "3c4a0837",
   "metadata": {},
   "source": [
    "#### STEP 1. 형태소 분석기를 이용하여 품사가 명사인 경우 해당 단어를 추출하기"
   ]
  },
  {
   "cell_type": "markdown",
   "id": "7985422d",
   "metadata": {},
   "source": [
    "**(1) 데이터 로드**"
   ]
  },
  {
   "cell_type": "code",
   "execution_count": 2,
   "id": "67996076",
   "metadata": {},
   "outputs": [
    {
     "name": "stdout",
     "output_type": "stream",
     "text": [
      "사운드 엔지니어 상우(유지태 분)는 치매에 걸린 할머니(백성희 분)와\n",
      " 젊은 시절 상처한 한 아버지(박인환 분), 고모(신신애 분)와 함께 살고 있다.\n",
      " 어느 겨울 그는 지방 방송국 라디오 PD 은수(이영애 분)를 만난다.\n",
      " 자연의 소리를 채집해 틀어주는 라디오 프로그램을 준비하는 은수는 상우와 녹음 여행을 떠난다.\n",
      " 자연스레 가까워지는 두 사람은 어느 날, 은수의 아파트에서 밤을 보낸다.\n",
      " 너무 쉽게 사랑에 빠진 두 사람... 상우는 주체할 수 없을 정도로 그녀에게 빨려든다.\n",
      " 그러나 겨울에 만난 두 사람의 관계는 봄을 지나 여름을 맞이하면서 삐걱거린다.\n",
      " 이혼 경험이 있는 은수는 상우에게 결혼할 생각이 없다며 부담스러운 표정을 내비친다.\n",
      " \"어떻게 사랑이 변하니?...\"라고 묻는 상우에게 은수는 그저 \"헤어져\" 라고 단호하게 말한다.\n",
      " 영원히 변할 것 같지 않던 사랑이 변하고, 그 사실을 받아들이지 못하는 상우는 어찌 할 바를 모른다.\n",
      " 은수를 잊지 못하는 상우는 미련과 집착의 감정을 이기지 못하고 서울과 강릉을 오간다.\n",
      "유사 이래 연령, 성별, 빈부의 차이와 정치적인 입장을 불문하고 일거에 국민을 통합해 온 '애국심'이라는 성역에 일침을 가하는 다큐멘터리. 재작년 전국 민족민주 유가족협의회의 장기농성을 다룬 인상적인 다큐멘터리 <민들레>를 만들었던 독립영화집단 '빨간 눈사람'이 우리 사회 구석구석을 발빠르게 돌아다니며 애국심과 민족주의가 강요되는 현장을 발굴하여 카메라에 담았다. 박홍 서강대 명예총장, 이도형 '한국논단' 발행인, 축구해설자 신문선, 홍세화, 박노해 등 사회 각계의 '스타'들이 등장해 저마다의 확고한 신념을 성토한다. 감독 이경순과 최하동하는 이 작품을 위해 3년간 백여 명을 인터뷰했다고 한다. 2001 올해의 독립영화상 수상.\n",
      " 민족과 국가란 공동체에서 부단히 권력과 부를 얻는 자, 나아가 민족과 국가란 공동체에서 얻은 신분과 부귀를 영원히 그의 자손에게 대물림하려는 자, 그래서 민족과 국가란 공동체를 부단히 유지해야만 하는 자, 따라서 민족과 국가란 공동체의 당위성과 개인의 가치를 초월하는 그 존엄성을 끝도 없이 창조하고 되뇌어야 하는 자, 종국에는 민족과 국가란 공동체에 속해 있다고 태내에서부터 세뇌된 모든 이들의 삶과 행동에서 영원히 자기복제되는 순환의 고리, 영생하는 애국의 원동력은 그 순환의 골에서 온다.\n",
      "엽기적인 살인사건이 발생한 장소를 관광하는 투어팀. 그 팀에서 관광객들은 살인사건과 관련하여 히스테리컬한 반응을 보이는데 과연 이들의 정체는? (Tourists see whrer a murder take place. They respond hysterically to the murder…what are they?)\n",
      " 제46회 발라돌리드 국제영화제 (2001, 스페인)\n",
      "착하지만 엉뚱한 태희(배두나 분), 예쁜 깍쟁이 혜주(이요원 분), 그림을 잘 그리는 지영(옥지영 분), 명랑한 쌍둥이 비류(이은실 분)와 온조(이은주 분)는 단짝친구들. 늘 함께였던 그들이지만 스무 살이 되면서 길이 달라진다. 증권회사에 입사한 혜주는 성공한 커리어우먼의 야심을 키우고 미술에 재능이 있는 지영은 유학을 꿈꾼다. 한편 태희는 봉사활동에서 알게 된 뇌성마비 시인을 좋아하는데...\n",
      "  어느 날 지영이 길 잃은 새끼 고양이 티티를 만남면서 스무 살 그녀들의 삶에 고양이 한 마리가 끼어들게 된다. 혼자 있길 좋아하고, 쉽게 마음을 열지 않는 신비로운 동물 고양이. 고양이를 닮은 스무 살 그녀들. 고양이 티티와 함께 한 시간동안 삶은 예상못한 방향으로 흘러가지만 마침내 그녀들만의 해결책을 찾게 되는데... 사랑스런 몽상가 태희, 아름다운 야심가 혜주, 신비로운 아웃사이더 지영. 마지막으로 고양이를 부탁받은 사람은 누구일까?\n",
      "인도 등 아시아 식민지에 처음 발을 디딘 뒤 여행하고 “경영”한 이들은 과연 누구였을까? 과거의 이미지들은, 이민과 인종 문제, ‘오리엔탈리즘’이 격렬히 충돌하고 있는 현재와 강력하게 공명한다.\n",
      " [제19회 인디다큐페스티발]\n",
      "홀로 살아가는 미국 할머니와 한국 할머니의 이야기. 공원에서 가끔 마주치게 되는 그들은 비록 언어 소통의 어려움을 겪지만 시간이 흘러감에 따라 서로 가까워져 그들의 외로움과 우정을 공유하게 된다. 겨울이 지나고 봄이 왔을 때 길가의 민들레 홀씨는 삶의 이치를 말해주듯 한 할머니의 주위를 맴돈다. (Two elderly widows, an American and a Korean, frequent the same park in Philadelphia and attempt a friendship, though the Korean widow speaks no English. Driven by loneliness and a spark of hope, they persevere within the limits of body language, and the outcome poses a question of life as fundamental as a flower.)\n"
     ]
    }
   ],
   "source": [
    "import os\n",
    "\n",
    "with open(os.getenv('HOME')+'/aiffel/weat/synopsis.txt', 'r') as file:\n",
    "    for i in range(20):\n",
    "        print(file.readline(), end='')"
   ]
  },
  {
   "cell_type": "markdown",
   "id": "ef073fcf",
   "metadata": {},
   "source": [
    "**(2) 형태소 분석 및  명사만 추출**"
   ]
  },
  {
   "cell_type": "code",
   "execution_count": 3,
   "id": "0231e43c",
   "metadata": {},
   "outputs": [
    {
     "name": "stdout",
     "output_type": "stream",
     "text": [
      "슝~\n"
     ]
    }
   ],
   "source": [
    "# 약 15분정도 걸립니다.\n",
    "from konlpy.tag import Okt\n",
    "okt = Okt()\n",
    "tokenized = []\n",
    "with open(os.getenv('HOME')+'/aiffel/weat/synopsis.txt', 'r') as file:\n",
    "    while True:\n",
    "        line = file.readline()\n",
    "        if not line: break\n",
    "        words = okt.pos(line, stem=True, norm=True)\n",
    "        res = []\n",
    "        for w in words:\n",
    "            if w[1] in [\"Noun\"]:      # \"Adjective\", \"Verb\" 등을 포함할 수도 있습니다.\n",
    "                res.append(w[0])    # 명사일 때만 tokenized 에 저장하게 됩니다. \n",
    "        tokenized.append(res)\n",
    "\n",
    "print(\"슝~\")"
   ]
  },
  {
   "cell_type": "code",
   "execution_count": 4,
   "id": "b364cb23",
   "metadata": {},
   "outputs": [
    {
     "name": "stdout",
     "output_type": "stream",
     "text": [
      "71156\n",
      "[['사운드', '엔지니어', '상우', '유지태', '분', '치매', '할머니', '백성희', '분'], ['시절', '상처', '아버지', '박인환', '분', '고모', '신신애', '분', '살'], ['겨울', '그', '지방', '방송국', '라디오', '은수', '이영애', '분', '를'], ['자연', '소리', '채집', '라디오', '프로그램', '준비', '은수', '상우', '녹음', '여행'], ['두', '사람', '날', '은수', '아파트', '밤']]\n"
     ]
    }
   ],
   "source": [
    "print(len(tokenized))\n",
    "print(tokenized[:5])"
   ]
  },
  {
   "cell_type": "markdown",
   "id": "7815dd5b",
   "metadata": {},
   "source": [
    "#### STEP 2. 추출된 결과로 embedding model 만들기"
   ]
  },
  {
   "cell_type": "markdown",
   "id": "25b2b2f9",
   "metadata": {},
   "source": [
    "**(1) tokenized에 담긴 데이터로 word2vec embedding model 생성**\n"
   ]
  },
  {
   "cell_type": "markdown",
   "id": "c1decd30",
   "metadata": {},
   "source": [
    "**[참고]**\n",
    "* Word2Vec model은 문자 Sentence를 단어 토큰화해서, 정수 인덱싱없이 Sentence 상태로 입력함    \n",
    "   - model = Word2Vec(sentences=common_texts, vector_size=100, window=5, min_count=1, workers=4)     \n",
    "* Word2Vec model은 보통은 별도로 train() 메소드없이 학습되는데, 학습하다중간에 저장했을 경우,다시 load하여,train시킬때, model.train(Sentence, total_examples=1, epochs=1)와 같이 학습시킴, 보통은 train 메소드없이 학습이 되는 것으로 보임\n",
    "\n",
    "* pre_trained(사전학습)된 모델을 불러오려면, KeyedVectors.load_word2vec_format(model_dir, binary=True, limit=500000)으로 함\n",
    "\n",
    "\n"
   ]
  },
  {
   "cell_type": "code",
   "execution_count": 5,
   "id": "17169c0c",
   "metadata": {},
   "outputs": [
    {
     "data": {
      "text/plain": [
       "[('작품', 0.8861260414123535),\n",
       " ('다큐멘터리', 0.8530097603797913),\n",
       " ('드라마', 0.7939074039459229),\n",
       " ('영화로', 0.7892283201217651),\n",
       " ('코미디', 0.7804297804832458),\n",
       " ('감동', 0.7655293345451355),\n",
       " ('주제', 0.7598181962966919),\n",
       " ('가족영화', 0.7541004419326782),\n",
       " ('실화', 0.7519022822380066),\n",
       " ('형식', 0.7507874369621277)]"
      ]
     },
     "execution_count": 5,
     "metadata": {},
     "output_type": "execute_result"
    }
   ],
   "source": [
    "from gensim.models import Word2Vec\n",
    "\n",
    "# tokenized에 담긴 데이터를 가지고 나만의 Word2Vec을 생성합니다. (Gensim 4.0 기준)\n",
    "model = Word2Vec(tokenized, vector_size=100, window=5, min_count=3, sg=0)  \n",
    "model.wv.most_similar(positive=['영화'])\n",
    "\n",
    "# Gensim 3.X 에서는 아래와 같이 생성합니다. \n",
    "# model = Word2Vec(tokenized, size=100, window=5, min_count=3, sg=0)  \n",
    "# model.most_similar(positive=['영화'])"
   ]
  },
  {
   "cell_type": "code",
   "execution_count": 6,
   "id": "f1630975",
   "metadata": {},
   "outputs": [
    {
     "name": "stdout",
     "output_type": "stream",
     "text": [
      "24320\n",
      "100\n",
      "(24320, 100)\n"
     ]
    }
   ],
   "source": [
    "#print(dir(model.wv))\n",
    "#print(model.wv.vocab)\n",
    "print(len(model.wv.index_to_key))   # Gensim 4.0부터는 index_to_key를 활용해 vocab size를 알 수 있습니다. \n",
    "print(len(model.wv['영화']))                    # 혹은 단어를 key로 직접 vector를 얻을 수 있습니다. \n",
    "print(model.wv.vectors.shape)"
   ]
  },
  {
   "cell_type": "code",
   "execution_count": 7,
   "id": "7058d3ab",
   "metadata": {},
   "outputs": [
    {
     "data": {
      "text/plain": [
       "[('행복', 0.7100985050201416),\n",
       " ('우정', 0.7029013633728027),\n",
       " ('첫사랑', 0.7028791308403015),\n",
       " ('애정', 0.6936947703361511),\n",
       " ('이별', 0.6887538433074951),\n",
       " ('만남', 0.6867632865905762),\n",
       " ('진심', 0.6835126280784607),\n",
       " ('가슴', 0.6801111698150635),\n",
       " ('운명', 0.6779505014419556),\n",
       " ('마음', 0.669446587562561)]"
      ]
     },
     "execution_count": 7,
     "metadata": {},
     "output_type": "execute_result"
    }
   ],
   "source": [
    "model.wv.most_similar(positive=['사랑'])"
   ]
  },
  {
   "cell_type": "code",
   "execution_count": 8,
   "id": "9a1060e3",
   "metadata": {},
   "outputs": [
    {
     "data": {
      "text/plain": [
       "[('시나리오', 0.8947084546089172),\n",
       " ('영화감독', 0.874247670173645),\n",
       " ('배우', 0.871331512928009),\n",
       " ('영감', 0.8710139989852905),\n",
       " ('연기', 0.8657849431037903),\n",
       " ('캐스팅', 0.8520033955574036),\n",
       " ('무용', 0.8489167094230652),\n",
       " ('대본', 0.8430731296539307),\n",
       " ('아티스트', 0.8416736721992493),\n",
       " ('예술', 0.8400095105171204)]"
      ]
     },
     "execution_count": 8,
     "metadata": {},
     "output_type": "execute_result"
    }
   ],
   "source": [
    "model.wv.most_similar(positive=['연극'])"
   ]
  },
  {
   "cell_type": "markdown",
   "id": "3554eaee",
   "metadata": {},
   "source": [
    "**(2) TF-IDF로 단어 셋만들기**"
   ]
  },
  {
   "cell_type": "code",
   "execution_count": 9,
   "id": "172ead6b",
   "metadata": {},
   "outputs": [],
   "source": [
    "import os\n",
    "from sklearn.feature_extraction.text import TfidfVectorizer\n",
    "import numpy as np\n",
    "from konlpy.tag import Okt\n",
    "\n",
    "art_txt = 'synopsis_art.txt'\n",
    "gen_txt = 'synopsis_gen.txt'\n",
    "\n",
    "def read_token(file_name):\n",
    "    okt = Okt()\n",
    "    result = []\n",
    "    with open(os.getenv('HOME')+'/aiffel/weat/'+file_name, 'r') as fread: \n",
    "        print(file_name, '파일을 읽고 있습니다.')\n",
    "        while True:\n",
    "            line = fread.readline() \n",
    "            if not line: break \n",
    "            tokenlist = okt.pos(line, stem=True, norm=True) \n",
    "            for word in tokenlist:\n",
    "                if word[1] in [\"Noun\"]:#, \"Adjective\", \"Verb\"]:\n",
    "                    result.append((word[0])) \n",
    "    return ' '.join(result)\n"
   ]
  },
  {
   "cell_type": "code",
   "execution_count": 10,
   "id": "7d0ce029",
   "metadata": {},
   "outputs": [
    {
     "name": "stdout",
     "output_type": "stream",
     "text": [
      "synopsis_art.txt 파일을 읽고 있습니다.\n",
      "synopsis_gen.txt 파일을 읽고 있습니다.\n"
     ]
    }
   ],
   "source": [
    "# 2개의 파일을 처리하는데 10분 가량 걸립니다. \n",
    "art = read_token(art_txt)\n",
    "gen = read_token(gen_txt)"
   ]
  },
  {
   "cell_type": "code",
   "execution_count": 11,
   "id": "d8f73d0d",
   "metadata": {},
   "outputs": [
    {
     "name": "stdout",
     "output_type": "stream",
     "text": [
      "(2, 41082)\n"
     ]
    }
   ],
   "source": [
    "vectorizer = TfidfVectorizer()\n",
    "X = vectorizer.fit_transform([art, gen])\n",
    "\n",
    "print(X.shape)"
   ]
  },
  {
   "cell_type": "code",
   "execution_count": 12,
   "id": "c74d9c58",
   "metadata": {},
   "outputs": [
    {
     "name": "stdout",
     "output_type": "stream",
     "text": [
      "  (0, 1)\t0.0003626867654624366\n",
      "  (0, 3)\t0.0003626867654624366\n",
      "  (0, 4)\t0.016683591211272084\n",
      "  (1, 2)\t5.3486686185153744e-05\n",
      "  (1, 0)\t0.001497627213184305\n",
      "  (1, 1)\t7.611243548713899e-05\n",
      "  (1, 3)\t0.00034250595969212547\n",
      "  (1, 4)\t0.019941458097630416 (1, 41082)\n",
      "dense [[0.         0.00036269 0.         ... 0.         0.00025487 0.        ]] 1\n",
      "tocco col [24288 30456 11824 ... 16979 23276 16393] data [0.00018134 0.00018134 0.00025487 ... 0.00398955 0.00072537 0.00253881] 18995 18995\n",
      "23976\n",
      "영화\n"
     ]
    },
    {
     "name": "stderr",
     "output_type": "stream",
     "text": [
      "/opt/conda/lib/python3.9/site-packages/sklearn/utils/deprecation.py:87: FutureWarning: Function get_feature_names is deprecated; get_feature_names is deprecated in 1.0 and will be removed in 1.2. Please use get_feature_names_out instead.\n",
      "  warnings.warn(msg, category=FutureWarning)\n"
     ]
    }
   ],
   "source": [
    "print(X[:,:5],X[0].shape)\n",
    "print(\"dense\",X[0].todense()[:5],len(X[0].todense()[0]))\n",
    "print(\"tocco\",\"col\",X[0].tocoo().col,\"data\",X[0].tocoo().data, len(X[0].tocoo().col),len(X[0].tocoo().data))\n",
    "#print(\"model.wv\",[x for x in model.wv])\n",
    "print(vectorizer.vocabulary_['영화'])\n",
    "print(vectorizer.get_feature_names()[23976])"
   ]
  },
  {
   "cell_type": "code",
   "execution_count": 13,
   "id": "545b3172",
   "metadata": {},
   "outputs": [
    {
     "name": "stdout",
     "output_type": "stream",
     "text": [
      "18995 37717\n",
      "예술영화를 대표하는 단어들:\n",
      "그녀, 자신, 시작, 위해, 사랑, 사람, 영화, 친구, 남자, 가족, 이야기, 마을, 사건, 마음, 세상, 아버지, 아이, 엄마, 모든, 여자, 대한, 서로, 과연, 다시, 시간, 아들, 소녀, 아내, 다른, 사이, 영화제, 세계, 사실, 하나, 점점, 남편, 감독, 여행, 인생, 발견, 모두, 순간, 우리, 가장, 마지막, 생활, 아빠, 모습, 통해, 죽음, 기억, 비밀, 학교, 음악, 한편, 소년, 생각, 도시, 명의, 사고, 결혼, 전쟁, 때문, 위기, 이제, 최고, 이자, 과거, 일상, 경찰, 상황, 간다, 미국, 결심, 운명, 현실, 관계, 지금, 단편, 여인, 하루, 이름, 이후, 준비, 인간, 감정, 만난, 국제, 처음, 충격, 살인, 누구, 동안, 존재, 그린, 어머니, 연인, 계속, 동생, 작품, \n",
      "\n",
      "일반영화를 대표하는 단어들:\n",
      "자신, 그녀, 영화제, 위해, 사람, 시작, 국제, 영화, 친구, 사랑, 남자, 이야기, 대한, 서울, 여자, 사건, 남편, 아이, 가족, 아버지, 다른, 마을, 시간, 엄마, 아들, 모든, 단편, 마음, 사실, 다시, 세계, 모습, 작품, 통해, 생각, 서로, 세상, 발견, 감독, 아내, 관계, 소녀, 사이, 하나, 우리, 애니메이션, 때문, 여성, 죽음, 과연, 점점, 인간, 생활, 한편, 결혼, 상황, 모두, 기억, 명의, 소년, 여행, 가장, 간다, 순간, 이제, 도시, 비밀, 학교, 과거, 가지, 이자, 경찰, 마지막, 미국, 동안, 전쟁, 주인공, 대해, 존재, 현실, 연출, 사고, 살인, 일상, 어머니, 계속, 사회, 인생, 다큐멘터리, 부문, 섹스, 최고, 바로, 동생, 의도, 하루, 위기, 계획, 정체, 한국, "
     ]
    }
   ],
   "source": [
    "m1 = X[0].tocoo()   # art를 TF-IDF로 표현한 sparse matrix를 가져옵니다. \n",
    "m2 = X[1].tocoo()   # gen을 TF-IDF로 표현한 sparse matrix를 가져옵니다. \n",
    "\n",
    "w1 = [[i, j] for i, j in zip(m1.col, m1.data)] # col: 단어인덱스  18955개, data: tfidf 값 18955개\n",
    "w2 = [[i, j] for i, j in zip(m2.col, m2.data)]\n",
    "\n",
    "w1.sort(key=lambda x: x[1], reverse=True)   #art를 구성하는 단어들을 TF-IDF가 높은 순으로 정렬합니다. \n",
    "w2.sort(key=lambda x: x[1], reverse=True)   #gen을 구성하는 단어들을 TF-IDF가 높은 순으로 정렬합니다. \n",
    "print(len(w1), len(w2))\n",
    "\n",
    "art_word100= []\n",
    "gen_word100= []\n",
    "print('예술영화를 대표하는 단어들:')\n",
    "for i in range(100):\n",
    "    artword = vectorizer.get_feature_names()[w1[i][0]]    \n",
    "    print(artword, end=', ')\n",
    "    art_word100.append(artword)\n",
    "#print(\"art_word100\", art_word100)       \n",
    "print('\\n')\n",
    "    \n",
    "print('일반영화를 대표하는 단어들:')\n",
    "for i in range(100):\n",
    "    genword = vectorizer.get_feature_names()[w2[i][0]]    \n",
    "    print(genword, end=', ')\n",
    "    gen_word100.append(genword   )\n",
    "#print(\"gen_word100\", gen_word100) \n"
   ]
  },
  {
   "cell_type": "markdown",
   "id": "7e549cbd",
   "metadata": {},
   "source": [
    "**(3) 중복단어 제거후 대표성있는 단어 15개 선정**"
   ]
  },
  {
   "cell_type": "markdown",
   "id": "ef9661ea",
   "metadata": {},
   "source": [
    "* 1) 보존용: 15개"
   ]
  },
  {
   "cell_type": "code",
   "execution_count": 14,
   "id": "951bdf40",
   "metadata": {},
   "outputs": [
    {
     "name": "stdout",
     "output_type": "stream",
     "text": [
      "16 16\n",
      "art, gen 양쪽 중복인 단어비율 84.0\n",
      "15개씩 추출: 15 15\n"
     ]
    }
   ],
   "source": [
    "n = 15\n",
    "w1_, w2_ = [], []\n",
    "for i in range(100):\n",
    "    w1_.append(vectorizer.get_feature_names()[w1[i][0]])\n",
    "    w2_.append(vectorizer.get_feature_names()[w2[i][0]])\n",
    "\n",
    "# w1에만 있고 w2에는 없는, 예술영화를 잘 대표하는 단어를 있는대로 모두 추출한다.\n",
    "target_art, target_gen = [], []\n",
    "for i in range(100):\n",
    "    if (w1_[i] not in w2_) and (w1_[i] in model.wv): \n",
    "        target_art.append(w1_[i])\n",
    "    \n",
    "# w2에만 있고 w1에는 없는, 일반영화를 잘 대표하는 단어를 1는대로 모두추출한다.\n",
    "for i in range(100):\n",
    "    if (w2_[i] not in w1_) and (w2_[i] in model.wv): \n",
    "        target_gen.append(w2_[i])\n",
    "        \n",
    "#중복 단어수 산정 \n",
    "print(len(target_art), len(target_gen))  \n",
    "same_word_num1 = 100 - len(target_art)\n",
    "same_word_num2 = 100 - len(target_gen)\n",
    "print(\"art, gen 양쪽 중복인 단어비율\",(same_word_num1/100)*100 )\n",
    "\n",
    "# w1,w2 둘다 15개씩 추출 \n",
    "target_art =target_art[:15]\n",
    "target_gen =target_gen[:15]\n",
    "print(\"15개씩 추출:\", len(target_art), len(target_gen))  \n",
    "\n"
   ]
  },
  {
   "cell_type": "code",
   "execution_count": 15,
   "id": "77bb765a",
   "metadata": {},
   "outputs": [
    {
     "name": "stdout",
     "output_type": "stream",
     "text": [
      "['아빠', '음악', '결심', '운명', '지금', '여인', '이름', '이후', '준비', '감정', '만난', '처음', '충격', '누구', '그린']\n"
     ]
    }
   ],
   "source": [
    "print(target_art)"
   ]
  },
  {
   "cell_type": "code",
   "execution_count": 16,
   "id": "11ac08f3",
   "metadata": {},
   "outputs": [
    {
     "name": "stdout",
     "output_type": "stream",
     "text": [
      "['서울', '애니메이션', '여성', '가지', '주인공', '대해', '연출', '사회', '다큐멘터리', '부문', '섹스', '바로', '의도', '계획', '정체']\n"
     ]
    }
   ],
   "source": [
    "print(target_gen)"
   ]
  },
  {
   "cell_type": "markdown",
   "id": "690f7fa6",
   "metadata": {},
   "source": [
    "**(4) TF-IDF를 적용했을 때의 문제점 및 개선방안**"
   ]
  },
  {
   "cell_type": "markdown",
   "id": "af4a695b",
   "metadata": {},
   "source": [
    "**[문제점]** \n",
    "* art, gen에서 중복비율이 84%인데, 남은 16개중 15개를 대표단어로 추출하면, 대표단어라고 해도 되는가 의문임,    \n",
    "* 실제로  아래의 15개를 보면, art와 gen을 특징지우는 단어들이 별로 않보임    \n",
    "* art와 gen 의 대표단어를 추출할수 있는 다른 방법도 색해 봐야 할듯   "
   ]
  },
  {
   "cell_type": "markdown",
   "id": "abaf9676",
   "metadata": {},
   "source": [
    "**[개선책]**\n",
    "* 중복 단어체크시 샘플을 현 100개에서 1000개로 늘려서 중복제거후 남은 개수가 150개이상일때 상위 15개를 추출해 보려함 "
   ]
  },
  {
   "cell_type": "markdown",
   "id": "f194b7b7",
   "metadata": {},
   "source": [
    "**(5) 개선방안으로 대표 단어 재추출**"
   ]
  },
  {
   "cell_type": "code",
   "execution_count": 17,
   "id": "8aaf1b72",
   "metadata": {},
   "outputs": [
    {
     "name": "stdout",
     "output_type": "stream",
     "text": [
      "164 164\n",
      "art, gen 양쪽 중복인 단어비율 41.8\n",
      "15개씩 추출: 15 15\n",
      "target_art ['북한', '황제', '레오', '아담', '진심', '무작정', '줄리', '뮤지션', '피아노', '외면', '선언', '메리', '카페', '단편영화', '뜻밖']\n",
      "target_gen ['페스티벌', '다큐', '이미지', '정사', '아시아나', '인디애니페스트', '마사지', '비디오', '불륜', '최강', '에피소드', '개발', '상영', '애니', '출장']\n"
     ]
    }
   ],
   "source": [
    "n = 15\n",
    "w1_, w2_ = [], []\n",
    "for i in range(1000):\n",
    "    w1_.append(vectorizer.get_feature_names()[w1[i][0]])\n",
    "    w2_.append(vectorizer.get_feature_names()[w2[i][0]])\n",
    "\n",
    "# w1에만 있고 w2에는 없는, 예술영화를 잘 대표하는 단어를 있는대로 모두 추출한다.\n",
    "target_art, target_gen = [], []\n",
    "for i in range(1000):\n",
    "    if (w1_[i] not in w2_) and (w1_[i] in model.wv): \n",
    "        target_art.append(w1_[i])\n",
    "    \n",
    "# w2에만 있고 w1에는 없는, 일반영화를 잘 대표하는 단어를 1는대로 모두추출한다.\n",
    "for i in range(1000):\n",
    "    if (w2_[i] not in w1_) and (w2_[i] in model.wv): \n",
    "        target_gen.append(w2_[i])\n",
    "        \n",
    "#중복 단어수 산정 \n",
    "print(len(target_art), len(target_gen))  \n",
    "same_word_num1 = 1000 - len(target_art)\n",
    "same_word_num2 = 1000 - len(target_gen)\n",
    "print(\"art, gen 양쪽 중복인 단어비율\",(same_word_num1/2000)*100 )  # 한개만 했으니,분모1000이라야함, 결과값인 단어비율에 곱하기2 필요\n",
    "\n",
    "# w1,w2 둘다 15개씩 추출 \n",
    "target_art =target_art[:15]\n",
    "target_gen =target_gen[:15]\n",
    "print(\"15개씩 추출:\", len(target_art), len(target_gen))  \n",
    "\n",
    "print(\"target_art\", target_art)\n",
    "print(\"target_gen\", target_gen)"
   ]
  },
  {
   "cell_type": "markdown",
   "id": "98f69a6d",
   "metadata": {},
   "source": [
    "**[재추출 결과 검토]**\n",
    "* 15개씩 추출된 단어들을 보면, art 부분에 뮤지션, 피아노, 아담, 황제, 줄리등 예술적색채를 가진 단어들이 눈에 뜨이고,     \n",
    "* gen도  '정사', '아시아나','마사지', '비디오', '불륜', '페스티벌' 등 일반 장르의 단어들이 눈에 뜨여, 대표성이 이전보다 훨씬 나아졌슴   \n",
    "* 따라서, 이후 작업은 **중복제거후 상위 100개이상씩 추출**하고서,\n",
    "* **100개중에서, 상위 15개씩 최종추출**해서, **대표단어로 사용**하도록 할예정임\n",
    "\n",
    "**[다음step 부터 적용해볼 개선안]**    \n",
    "**다음step에서는 attribute 영화장르별로 Tfidf한후 1000단어씩 추출하여,중복단어 제거위해 다시 Tfidf 하고서, 거기에서 대표단어 15개씩을 추출해서 ,WEAK score를 구해서, 검토해 보겠습니다. "
   ]
  },
  {
   "cell_type": "markdown",
   "id": "3ce922c5",
   "metadata": {},
   "source": [
    "#### STEP 3. target, attribute 단어 셋 만들기\n",
    "이전 스텝에서는 TF-IDF를 사용해서 단어 셋을 만들었습니다. 이 방법으로도 어느 정도는 대표 단어를 잘 선정할 수 있습니다. 그러나 TF-IDF가 높은 단어를 골랐음에도 불구하고 중복되는 단어가 발생하는 문제가 있었습니다. 개념축을 표현하는 단어가 제대로 선정되지 않은 것은 WEAT 계산 결과에 악영향을 미칩니다.\n",
    "\n",
    "TF-IDF를 적용했을 때의 문제점이 무엇인지 지적 가능하다면 그 문제점을 지적하고 스스로 방법을 개선하여 대표 단어 셋을 구축해 보기 바랍니다. TF-IDF 방식을 쓰더라도 중복된 단어를 잘 제거하면 여전히 유용한 방식이 될 수 있습니다."
   ]
  },
  {
   "cell_type": "markdown",
   "id": "bdee3a1e",
   "metadata": {},
   "source": [
    "**(1) 전체 장르별 대표 단어를 추출**"
   ]
  },
  {
   "cell_type": "code",
   "execution_count": 58,
   "id": "43ad753d",
   "metadata": {},
   "outputs": [],
   "source": [
    "genre_txt = ['synopsis_SF.txt', 'synopsis_family.txt', 'synopsis_show.txt', 'synopsis_horror.txt', 'synopsis_etc.txt', \n",
    "             'synopsis_documentary.txt', 'synopsis_drama.txt', 'synopsis_romance.txt', 'synopsis_musical.txt', \n",
    "             'synopsis_mystery.txt', 'synopsis_crime.txt', 'synopsis_historical.txt', 'synopsis_western.txt', \n",
    "             'synopsis_adult.txt', 'synopsis_thriller.txt', 'synopsis_animation.txt', 'synopsis_action.txt', \n",
    "             'synopsis_adventure.txt', 'synopsis_war.txt', 'synopsis_comedy.txt', 'synopsis_fantasy.txt']\n",
    "genre_name = ['SF', '가족', '공연', '공포(호러)', '기타', '다큐멘터리', '드라마', '멜로로맨스', '뮤지컬', '미스터리', '범죄', '사극', '서부극(웨스턴)',\n",
    "         '성인물(에로)', '스릴러', '애니메이션', '액션', '어드벤처', '전쟁', '코미디', '판타지']"
   ]
  },
  {
   "cell_type": "code",
   "execution_count": 59,
   "id": "ededc6bd",
   "metadata": {},
   "outputs": [
    {
     "name": "stdout",
     "output_type": "stream",
     "text": [
      "synopsis_SF.txt 파일을 읽고 있습니다.\n",
      "synopsis_family.txt 파일을 읽고 있습니다.\n",
      "synopsis_show.txt 파일을 읽고 있습니다.\n",
      "synopsis_horror.txt 파일을 읽고 있습니다.\n",
      "synopsis_etc.txt 파일을 읽고 있습니다.\n",
      "synopsis_documentary.txt 파일을 읽고 있습니다.\n",
      "synopsis_drama.txt 파일을 읽고 있습니다.\n",
      "synopsis_romance.txt 파일을 읽고 있습니다.\n",
      "synopsis_musical.txt 파일을 읽고 있습니다.\n",
      "synopsis_mystery.txt 파일을 읽고 있습니다.\n",
      "synopsis_crime.txt 파일을 읽고 있습니다.\n",
      "synopsis_historical.txt 파일을 읽고 있습니다.\n",
      "synopsis_western.txt 파일을 읽고 있습니다.\n",
      "synopsis_adult.txt 파일을 읽고 있습니다.\n",
      "synopsis_thriller.txt 파일을 읽고 있습니다.\n",
      "synopsis_animation.txt 파일을 읽고 있습니다.\n",
      "synopsis_action.txt 파일을 읽고 있습니다.\n",
      "synopsis_adventure.txt 파일을 읽고 있습니다.\n",
      "synopsis_war.txt 파일을 읽고 있습니다.\n",
      "synopsis_comedy.txt 파일을 읽고 있습니다.\n",
      "synopsis_fantasy.txt 파일을 읽고 있습니다.\n"
     ]
    }
   ],
   "source": [
    "# 약 10분정도 걸립니다.\n",
    "genre = []\n",
    "for file_name in genre_txt:\n",
    "    genre.append(read_token(file_name))"
   ]
  },
  {
   "cell_type": "code",
   "execution_count": 60,
   "id": "23d6cac6",
   "metadata": {},
   "outputs": [
    {
     "name": "stdout",
     "output_type": "stream",
     "text": [
      "(21, 42191)\n"
     ]
    }
   ],
   "source": [
    "vectorizer = TfidfVectorizer()\n",
    "X = vectorizer.fit_transform(genre)\n",
    "\n",
    "print(X.shape)"
   ]
  },
  {
   "cell_type": "markdown",
   "id": "4a7b088c",
   "metadata": {},
   "source": [
    "**Tfidf 후 장르별 21개장르 각각 1000단어씩 추출**"
   ]
  },
  {
   "cell_type": "code",
   "execution_count": 62,
   "id": "3994f00f",
   "metadata": {},
   "outputs": [
    {
     "name": "stdout",
     "output_type": "stream",
     "text": [
      "장르별 단어개수 [4698, 2470, 2229, 7761, 8036, 16162, 24040, 10744, 1397, 3745, 6004, 1416, 455, 5045, 6979, 12844, 12925, 3088, 2635, 13766, 3174]\n",
      "i 0 SF 4698\n",
      "i 1 가족 2470\n",
      "i 2 공연 2229\n",
      "i 3 공포(호러) 7761\n",
      "i 4 기타 8036\n",
      "i 5 다큐멘터리 16162\n",
      "i 6 드라마 24040\n",
      "i 7 멜로로맨스 10744\n",
      "i 8 뮤지컬 1397\n",
      "i 9 미스터리 3745\n",
      "i 10 범죄 6004\n",
      "i 11 사극 1416\n",
      "i 12 서부극(웨스턴) 455\n",
      "i 13 성인물(에로) 5045\n",
      "i 14 스릴러 6979\n",
      "i 15 애니메이션 12844\n",
      "i 16 액션 12925\n",
      "i 17 어드벤처 3088\n",
      "i 18 전쟁 2635\n",
      "i 19 코미디 13766\n",
      "i 20 판타지 3174\n",
      "len(attributes) 21\n",
      "i 0 SF: ['위해', '자신', '지구', '시작', '사람', '인류', '인간', '미래', '우주', '그녀'] 963\n",
      "i 1 가족: ['엄마', '아빠', '가족', '영화제', '자신', '위해', '친구', '아주르', '아버지', '시작'] 856\n",
      "i 2 공연: ['오페라', '사랑', '토스카', '실황', '올레', '자신', '카바', '그녀', '공연', '오텔로'] 816\n",
      "i 3 공포(호러): ['시작', '위해', '사람', '자신', '친구', '그녀', '사건', '공포', '발견', '죽음'] 1000\n",
      "i 4 기타: ['영화제', '국제', '서울', '단편', '영화', '자신', '사람', '이야기', '그녀', '남자'] 1000\n",
      "i 5 다큐멘터리: ['영화제', '영화', '다큐', '국제', '다큐멘터리', '사람', '이야기', '대한', '자신', '감독'] 1000\n",
      "i 6 드라마: ['자신', '영화제', '그녀', '사람', '사랑', '영화', '위해', '시작', '국제', '남자'] 1000\n",
      "i 7 멜로로맨스: ['그녀', '사랑', '자신', '시작', '남편', '남자', '여자', '사람', '친구', '섹스'] 1000\n",
      "i 8 뮤지컬: ['뮤지컬', '사랑', '에스메랄다', '그녀', '음악', '충무로', '모차르트', '영화', '토스카', '자신'] 905\n",
      "i 9 미스터리: ['사건', '그녀', '시작', '자신', '위해', '사람', '발견', '사고', '진실', '죽음'] 972\n",
      "i 10 범죄: ['사건', '위해', '자신', '경찰', '시작', '그녀', '범죄', '조직', '살인', '사람'] 1000\n",
      "i 11 사극: ['조선', '위해', '시작', '신기전', '사랑', '자신', '아가멤논', '황제', '그녀', '루안'] 839\n",
      "i 12 서부극(웨스턴): ['서부', '보안관', '위해', '벌린', '카우보이', '그레이프바인', '헨리', '마을', '자신', '개릿'] 438\n",
      "i 13 성인물(에로): ['그녀', '남편', '마사지', '자신', '섹스', '관계', '영화', '정사', '남자', '위해'] 1000\n",
      "i 14 스릴러: ['자신', '그녀', '사건', '시작', '위해', '사람', '살인', '남자', '발견', '아내'] 1000\n",
      "i 15 애니메이션: ['애니메이션', '국제', '영화제', '친구', '인디애니페스트', '위해', '자신', '시작', '사람', '페스티벌'] 1000\n",
      "i 16 액션: ['위해', '자신', '시작', '조직', '사건', '사람', '그녀', '경찰', '전쟁', '모든'] 1000\n",
      "i 17 어드벤처: ['위해', '자신', '시작', '친구', '마을', '아버지', '영화', '아이', '사람', '여행'] 866\n",
      "i 18 전쟁: ['전쟁', '독일군', '전투', '위해', '작전', '시작', '부대', '윈터스', '독일', '연합군'] 855\n",
      "i 19 코미디: ['그녀', '자신', '시작', '위해', '사랑', '사람', '친구', '영화', '남자', '여자'] 1000\n",
      "i 20 판타지: ['자신', '그녀', '시작', '위해', '사람', '사랑', '요괴', '영화제', '이야기', '영화'] 974\n"
     ]
    }
   ],
   "source": [
    "mall = [X[i].tocoo() for i in range(X.shape[0])]\n",
    "\n",
    "wall = [[[i, j] for i, j in zip(mm.col, mm.data)] for mm in mall]\n",
    "\n",
    "for i in range(len(wall)):\n",
    "    wall[i].sort(key=lambda x: x[1], reverse=True)\n",
    "    \n",
    "print(\"장르별 단어개수\", [len(x) for x in wall])\n",
    "\n",
    "attributes = []\n",
    "for i in range(len(wall)):\n",
    "    print(\"i\",i, genre_name[i], len(wall[i]))\n",
    "    attr = []\n",
    "       \n",
    "    #j= 0\n",
    "    \n",
    "    for j in range(1000):\n",
    "        if i== 12 and j > 450:\n",
    "            continue\n",
    "        #rint(i,j)\n",
    "        if vectorizer.get_feature_names()[wall[i][j][0]] in model.wv:\n",
    "            attr.append(vectorizer.get_feature_names()[wall[i][j][0]])\n",
    "            #print(vectorizer.get_feature_names()[wall[i][j][0]]], end=', ')\n",
    "        \n",
    "    attributes.append(attr)\n",
    "    \n",
    "print(\"len(attributes)\",len(attributes))\n",
    "\n",
    "for i, attribu in enumerate(attributes):\n",
    "    print(\"i\",i, genre_name[i], end=': ')\n",
    "    print(attribu[:10],len(attribu))\n",
    "    "
   ]
  },
  {
   "cell_type": "code",
   "execution_count": 63,
   "id": "005d91ce",
   "metadata": {},
   "outputs": [
    {
     "name": "stdout",
     "output_type": "stream",
     "text": [
      "i 0 SF: i 1 가족: i 2 공연: i 3 공포(호러): i 4 기타: i 5 다큐멘터리: i 6 드라마: i 7 멜로로맨스: i 8 뮤지컬: i 9 미스터리: i 10 범죄: i 11 사극: i 12 서부극(웨스턴): i 13 성인물(에로): i 14 스릴러: i 15 애니메이션: i 16 액션: i 17 어드벤처: i 18 전쟁: i 19 코미디: i 20 판타지: 위해 자신 지구 시 21\n"
     ]
    }
   ],
   "source": [
    "attributes_str = []\n",
    "for i, attribu in enumerate(attributes):\n",
    "    print(\"i\",i, genre_name[i], end=': ')\n",
    "    attribu_str = ' '.join(attribu)\n",
    "    attributes_str.append(attribu_str)\n",
    "print(attributes_str[0][:10],len(attributes_str))"
   ]
  },
  {
   "cell_type": "markdown",
   "id": "e358cc42",
   "metadata": {},
   "source": [
    "**중복을 제거하기위해서, Tfidf로 다시 재 벡터화** "
   ]
  },
  {
   "cell_type": "code",
   "execution_count": 64,
   "id": "245966da",
   "metadata": {},
   "outputs": [
    {
     "name": "stdout",
     "output_type": "stream",
     "text": [
      "(21, 7306)\n"
     ]
    }
   ],
   "source": [
    "vectorizer_1 = TfidfVectorizer()\n",
    "XX = vectorizer_1.fit_transform(attributes_str)\n",
    "\n",
    "print(XX.shape)"
   ]
  },
  {
   "cell_type": "markdown",
   "id": "8328b9eb",
   "metadata": {},
   "source": [
    "**재Tfidf작업완료된 21개 장르별 벡터에서 상위 15개 대표단어추출** "
   ]
  },
  {
   "cell_type": "code",
   "execution_count": 65,
   "id": "28906ebc",
   "metadata": {},
   "outputs": [
    {
     "name": "stdout",
     "output_type": "stream",
     "text": [
      "장르별 단어개수 [963, 856, 816, 1000, 1000, 1000, 1000, 1000, 905, 972, 1000, 839, 438, 1000, 1000, 1000, 1000, 866, 855, 1000, 974]\n",
      "i 0 SF 963\n",
      "하락, 성민, 고갈, 가속, 자각, 아바, 수명, 엔터테인먼트, 플랫폼, 노화, 에덴, 강철, 제롬, 대치, 역대, i len(attr15):  0 15\n",
      "\n",
      "i 1 가족 856\n",
      "그림자극, 밤사이, 무상, 천호진, 석봉, 몬태나, 오물, 유방암, 분배, 나탄, 클라스, 인쇄, 리차, 꿈일, 종이컵, i len(attr15):  1 15\n",
      "\n",
      "i 2 공연 816\n",
      "콰이어트, 하이랜드, 레기나, 간인, 스트라빈스키, 통상, 망라, 디아나, 오페레타, 수전, 지휘봉, 편곡, 중창, 기마, 조카딸, i len(attr15):  2 15\n",
      "\n",
      "i 3 공포(호러) 1000\n",
      "화성, 알코올, 정비, 주차장, 유골, 선재, 숙주, 퇴마, 애나벨, 낭자, 앙리, 데릭, 고어, 분석, 외곽, i len(attr15):  3 15\n",
      "\n",
      "i 4 기타 1000\n",
      "비트, 기준, 조합, 청각, 중반, 계단, 달이, 선정, 연상, 장공, 시엠, 제렛, 이유나, 다애, 강남스타일, i len(attr15):  4 15\n",
      "\n",
      "i 5 다큐멘터리 1000\n",
      "시한, 제한, 미터, 영화계, 중요성, 연대기, 추모, 페루, 미학, 진보, 수족관, 제품, 소비, 남아공, 위원장, i len(attr15):  5 15\n",
      "\n",
      "i 6 드라마 1000\n",
      "샬롯, 성미, 베니스, 극적, 면회, 오지, 매료, 일자리, 전북, 기독교, 칸영화제, 문득, 제목, 미장센단편영화제, 피아니스트, i len(attr15):  6 15\n",
      "\n",
      "i 7 멜로로맨스 1000\n",
      "입사, 스물, 무료, 가정부, 혜경, 애교, 은정, 피오, 마나베, 니뇨, 철준, 덕훈, 도환, 아해, 선혜, i len(attr15):  7 15\n",
      "\n",
      "i 8 뮤지컬 905\n",
      "무수, 서기, 창작, 캐스팅, 외국, 맥주, 교외, 복장, 주로, 지연, 황량, 상하이, 분열, 진학, 대도시, i len(attr15):  8 15\n",
      "\n",
      "i 9 미스터리 972\n",
      "덮치기, 스미스, 고든, 출처, 혈안, 대답, 방안, 일련, 연민, 브룸, 권위자, 과속, 참상, 유람선, 금화, i len(attr15):  9 15\n",
      "\n",
      "i 10 범죄 1000\n",
      "리브, 캠코더, 데이먼, 배신자, 피쉬, 페리, 후안, 경위, 라틴, 아누, 보관, 다가, 뉴스, 심문, 총기, i len(attr15):  10 15\n",
      "\n",
      "i 11 사극 839\n",
      "어보, 이익, 양쪽, 관료, 손아귀, 웨인, 교체, 안과, 스칼렛, 나탈리, 아우, 책임감, 진주, 불운, 선망, i len(attr15):  11 15\n",
      "\n",
      "i 12 서부극(웨스턴) 438\n",
      "여느, 미리, 만류, 해도, 자가, 리아, 기존, 불행, 불신, 주시, 고집, 승자, 스레, 누비, 얻지, i len(attr15):  12 15\n",
      "\n",
      "i 13 성인물(에로) 1000\n",
      "종업원, 발령, 자취, 아나운서, 라야, 경매, 기약, 타케루, 아사히, 쥬리, 형무소, 신입사원, 폰섹스, 호시탐탐, 혈기, i len(attr15):  13 15\n",
      "\n",
      "i 14 스릴러 1000\n",
      "랜킨, 빈트, 최창혁, 이윤서, 장수영, 웰렌, 베이비콜, 블리츠, 식인상어, 할런, 루젝, 이하정, 덮개, 강현중, 건설부, i len(attr15):  14 15\n",
      "\n",
      "i 15 애니메이션 1000\n",
      "스머, 카카포, 크롱, 프리저, 라이카, 릿카, 딘딘, 가케루, 가부, 나즈나, 대만국, 황새, 나다니엘, 무당벌레, 최현, i len(attr15):  15 15\n",
      "\n",
      "i 16 액션 1000\n",
      "리퍼, 블러드, 알피, 덴젤, 몸값, 한판, 써니, 리버, 엑스, 페이, 각종, 헤드, 시저, 천만, 복권, i len(attr15):  16 15\n",
      "\n",
      "i 17 어드벤처 866\n",
      "구사일생, 훌쩍, 발전소, 레오나르도, 건너편, 소로, 비주, 포터, 테라, 플레이어, 오로라, 악한, 몰락, 데이비스, 냉소, i len(attr15):  17 15\n",
      "\n",
      "i 18 전쟁 855\n",
      "정해진, 사지, 코트, 냉혈, 드레스, 합동, 거머, 소집, 전도, 감수, 집행, 소장, 물품, 무조건, 인용, i len(attr15):  18 15\n",
      "\n",
      "i 19 코미디 1000\n",
      "영화사, 이장, 샤프, 의욕, 모집, 캠퍼스, 패밀리, 매너, 레슬링, 공무원, 비록, 라지, 교환학생, 소심, 매니, i len(attr15):  19 15\n",
      "\n",
      "i 20 판타지 974\n",
      "건의, 자락, 보름달, 스틸, 출생, 리지, 단절, 도우, 전날, 현세, 재생, 파렐, 에블린, 드라큘라, 옥탑방, i len(attr15):  20 15\n",
      "\n",
      "attributes_str15 21 [['하락', '성민', '고갈', '가속', '자각', '아바', '수명', '엔터테인먼트', '플랫폼', '노화', '에덴', '강철', '제롬', '대치', '역대'], ['그림자극', '밤사이', '무상', '천호진', '석봉', '몬태나', '오물', '유방암', '분배', '나탄', '클라스', '인쇄', '리차', '꿈일', '종이컵'], ['콰이어트', '하이랜드', '레기나', '간인', '스트라빈스키', '통상', '망라', '디아나', '오페레타', '수전', '지휘봉', '편곡', '중창', '기마', '조카딸'], ['화성', '알코올', '정비', '주차장', '유골', '선재', '숙주', '퇴마', '애나벨', '낭자', '앙리', '데릭', '고어', '분석', '외곽'], ['비트', '기준', '조합', '청각', '중반', '계단', '달이', '선정', '연상', '장공', '시엠', '제렛', '이유나', '다애', '강남스타일'], ['시한', '제한', '미터', '영화계', '중요성', '연대기', '추모', '페루', '미학', '진보', '수족관', '제품', '소비', '남아공', '위원장'], ['샬롯', '성미', '베니스', '극적', '면회', '오지', '매료', '일자리', '전북', '기독교', '칸영화제', '문득', '제목', '미장센단편영화제', '피아니스트'], ['입사', '스물', '무료', '가정부', '혜경', '애교', '은정', '피오', '마나베', '니뇨', '철준', '덕훈', '도환', '아해', '선혜'], ['무수', '서기', '창작', '캐스팅', '외국', '맥주', '교외', '복장', '주로', '지연', '황량', '상하이', '분열', '진학', '대도시'], ['덮치기', '스미스', '고든', '출처', '혈안', '대답', '방안', '일련', '연민', '브룸', '권위자', '과속', '참상', '유람선', '금화'], ['리브', '캠코더', '데이먼', '배신자', '피쉬', '페리', '후안', '경위', '라틴', '아누', '보관', '다가', '뉴스', '심문', '총기'], ['어보', '이익', '양쪽', '관료', '손아귀', '웨인', '교체', '안과', '스칼렛', '나탈리', '아우', '책임감', '진주', '불운', '선망'], ['여느', '미리', '만류', '해도', '자가', '리아', '기존', '불행', '불신', '주시', '고집', '승자', '스레', '누비', '얻지'], ['종업원', '발령', '자취', '아나운서', '라야', '경매', '기약', '타케루', '아사히', '쥬리', '형무소', '신입사원', '폰섹스', '호시탐탐', '혈기'], ['랜킨', '빈트', '최창혁', '이윤서', '장수영', '웰렌', '베이비콜', '블리츠', '식인상어', '할런', '루젝', '이하정', '덮개', '강현중', '건설부'], ['스머', '카카포', '크롱', '프리저', '라이카', '릿카', '딘딘', '가케루', '가부', '나즈나', '대만국', '황새', '나다니엘', '무당벌레', '최현'], ['리퍼', '블러드', '알피', '덴젤', '몸값', '한판', '써니', '리버', '엑스', '페이', '각종', '헤드', '시저', '천만', '복권'], ['구사일생', '훌쩍', '발전소', '레오나르도', '건너편', '소로', '비주', '포터', '테라', '플레이어', '오로라', '악한', '몰락', '데이비스', '냉소'], ['정해진', '사지', '코트', '냉혈', '드레스', '합동', '거머', '소집', '전도', '감수', '집행', '소장', '물품', '무조건', '인용'], ['영화사', '이장', '샤프', '의욕', '모집', '캠퍼스', '패밀리', '매너', '레슬링', '공무원', '비록', '라지', '교환학생', '소심', '매니'], ['건의', '자락', '보름달', '스틸', '출생', '리지', '단절', '도우', '전날', '현세', '재생', '파렐', '에블린', '드라큘라', '옥탑방']]\n"
     ]
    }
   ],
   "source": [
    "mall_1 = [XX[i].tocoo() for i in range(XX.shape[0])]\n",
    "\n",
    "wall_1 = [[[i, j] for i, j in zip(mm.col, mm.data)] for mm in mall_1]\n",
    "\n",
    "for i in range(len(wall_1)):\n",
    "    wall_1[i].sort(key=lambda x: x[1], reverse=True)\n",
    "    \n",
    "print(\"장르별 단어개수\", [len(x) for x in wall_1])\n",
    "\n",
    "attributes_str15 = []\n",
    "for i in range(len(wall_1)):\n",
    "    print(\"i\",i, genre_name[i], len(wall_1[i]))\n",
    "    attr15 = []\n",
    "      \n",
    "    j = 0\n",
    "    while (len(attr15) < 15):   # 장르별 15개씩 추출\n",
    "        if vectorizer_1.get_feature_names()[wall_1[i][j][0]] in model.wv:\n",
    "            attr15.append(vectorizer_1.get_feature_names()[wall_1[i][j][0]])\n",
    "            print(vectorizer_1.get_feature_names()[wall_1[i][j][0]], end=', ')                    \n",
    "        j += 1\n",
    "   \n",
    "    print(\"i len(attr15): \",i, len(attr15))  \n",
    "    ## 최종 상위 15개짜리 append\n",
    "    attributes_str15.append(attr15)\n",
    "    print()\n",
    "\n",
    "print(\"attributes_str15\", len(attributes_str15), attributes_str15)    "
   ]
  },
  {
   "cell_type": "markdown",
   "id": "13336c4b",
   "metadata": {},
   "source": [
    "#### STEP 4. WEAT score 계산과 시각화\n",
    "영화 구분, 영화 장르에 따른 편향성을 측정하여 WEAT score로 계산해 보고 이를 Heatmap 형태로 시각화해 봅시다. 편향성이 두드러지는 영화장르 attribute 구성에는 어떤 케이스가 있는지 시각적으로 두드러지게 구성되면 좋습니다."
   ]
  },
  {
   "cell_type": "code",
   "execution_count": 66,
   "id": "375d0ac3",
   "metadata": {},
   "outputs": [],
   "source": [
    "import numpy as np\n",
    "from numpy import dot\n",
    "from numpy.linalg import norm\n"
   ]
  },
  {
   "cell_type": "code",
   "execution_count": 67,
   "id": "77411e44",
   "metadata": {},
   "outputs": [],
   "source": [
    "def cos_sim(i, j):\n",
    "    return dot(i, j.T)/(norm(i)*norm(j))\n",
    "\n",
    "def s(w, A, B):\n",
    "    c_a = cos_sim(w, A)\n",
    "    c_b = cos_sim(w, B)\n",
    "    print(\"c_a\",c_a)\n",
    "    print(\"c_b\",c_b)\n",
    "    mean_A = np.mean(c_a, axis=1) #-1)\n",
    "    mean_B = np.mean(c_b, axis=1) #-1)\n",
    "    print(\"mean_A\", mean_A)\n",
    "    print(\"mean_B\", mean_B)\n",
    "    return mean_A - mean_B #, c_a, c_b\n",
    "\n",
    "def weat_score(X, Y, A, B):\n",
    "    \n",
    "    s_X = s(X, A, B)\n",
    "    s_Y = s(Y, A, B)\n",
    "\n",
    "    mean_X = np.mean(s_X)\n",
    "    mean_Y = np.mean(s_Y)\n",
    "    \n",
    "    std_dev = np.std(np.concatenate([s_X, s_Y], axis=0))\n",
    "    \n",
    "    return  (mean_X-mean_Y)/std_dev\n",
    "\n"
   ]
  },
  {
   "cell_type": "code",
   "execution_count": 68,
   "id": "c14e64a5",
   "metadata": {},
   "outputs": [
    {
     "name": "stdout",
     "output_type": "stream",
     "text": [
      "21\n"
     ]
    }
   ],
   "source": [
    "matrix = [[0 for _ in range(len(genre_name))] for _ in range(len(genre_name))]\n",
    "print(len(matrix))"
   ]
  },
  {
   "cell_type": "markdown",
   "id": "eb9e924d",
   "metadata": {},
   "source": [
    "**전체 장르 WEAT score 계산**"
   ]
  },
  {
   "cell_type": "code",
   "execution_count": 70,
   "id": "b2b31712",
   "metadata": {
    "scrolled": false
   },
   "outputs": [
    {
     "name": "stdout",
     "output_type": "stream",
     "text": [
      "SF 가족 -0.6142598\n",
      "SF 공연 -0.042399365\n",
      "SF 공포(호러) -0.5521588\n",
      "SF 기타 0.7329041\n",
      "SF 다큐멘터리 0.5823552\n",
      "SF 드라마 0.3740012\n",
      "SF 멜로로맨스 -0.34746635\n",
      "SF 뮤지컬 -0.036275502\n",
      "SF 미스터리 -0.05352977\n",
      "SF 범죄 -0.18071593\n",
      "SF 사극 -0.6063424\n",
      "SF 서부극(웨스턴) -0.51314795\n",
      "SF 성인물(에로) -0.39280656\n",
      "SF 스릴러 -0.29683405\n",
      "SF 애니메이션 -0.82246804\n",
      "SF 액션 -0.2921011\n",
      "SF 어드벤처 -0.32851854\n",
      "SF 전쟁 0.47412154\n",
      "SF 코미디 -0.13245288\n",
      "SF 판타지 -0.5524912\n",
      "가족 공연 0.9053394\n",
      "가족 공포(호러) -0.01824437\n",
      "가족 기타 0.9962617\n",
      "가족 다큐멘터리 0.6906596\n",
      "가족 드라마 0.90826166\n",
      "가족 멜로로맨스 -0.20747471\n",
      "가족 뮤지컬 0.6446274\n",
      "가족 미스터리 0.5595399\n",
      "가족 범죄 0.42271286\n",
      "가족 사극 -0.021364262\n",
      "가족 서부극(웨스턴) -0.293417\n",
      "가족 성인물(에로) -0.25607342\n",
      "가족 스릴러 0.10613431\n",
      "가족 애니메이션 -0.72669476\n",
      "가족 액션 0.10751822\n",
      "가족 어드벤처 0.6477782\n",
      "가족 전쟁 0.7939682\n",
      "가족 코미디 0.9209532\n",
      "가족 판타지 -0.31023994\n",
      "공연 공포(호러) -0.5276089\n",
      "공연 기타 0.8705371\n",
      "공연 다큐멘터리 0.57476866\n",
      "공연 드라마 0.5703416\n",
      "공연 멜로로맨스 -0.38849506\n",
      "공연 뮤지컬 -0.010811316\n",
      "공연 미스터리 -0.012513211\n",
      "공연 범죄 -0.15424383\n",
      "공연 사극 -0.7172473\n",
      "공연 서부극(웨스턴) -0.49420148\n",
      "공연 성인물(에로) -0.429549\n",
      "공연 스릴러 -0.27559933\n",
      "공연 애니메이션 -0.860155\n",
      "공연 액션 -0.25528473\n",
      "공연 어드벤처 -0.4456308\n",
      "공연 전쟁 0.49832454\n",
      "공연 코미디 -0.20689051\n",
      "공연 판타지 -0.5624378\n",
      "공포(호러) 기타 0.7956849\n",
      "공포(호러) 다큐멘터리 0.61270124\n",
      "공포(호러) 드라마 0.63742423\n",
      "공포(호러) 멜로로맨스 -0.20456564\n",
      "공포(호러) 뮤지컬 0.43441364\n",
      "공포(호러) 미스터리 0.5287299\n",
      "공포(호러) 범죄 0.61588067\n",
      "공포(호러) 사극 0.004556366\n",
      "공포(호러) 서부극(웨스턴) -0.29937708\n",
      "공포(호러) 성인물(에로) -0.27324906\n",
      "공포(호러) 스릴러 0.15637271\n",
      "공포(호러) 애니메이션 -0.8749958\n",
      "공포(호러) 액션 0.16325828\n",
      "공포(호러) 어드벤처 0.45418257\n",
      "공포(호러) 전쟁 0.7281213\n",
      "공포(호러) 코미디 0.5283181\n",
      "공포(호러) 판타지 -0.33604622\n",
      "기타 다큐멘터리 0.052686807\n",
      "기타 드라마 -1.0777911\n",
      "기타 멜로로맨스 -0.6416204\n",
      "기타 뮤지컬 -1.0249937\n",
      "기타 미스터리 -0.647154\n",
      "기타 범죄 -0.5996707\n",
      "기타 사극 -0.8662182\n",
      "기타 서부극(웨스턴) -0.75845915\n",
      "기타 성인물(에로) -0.63602895\n",
      "기타 스릴러 -0.5982213\n",
      "기타 애니메이션 -0.96955174\n",
      "기타 액션 -0.568527\n",
      "기타 어드벤처 -0.85817444\n",
      "기타 전쟁 -0.39758956\n",
      "기타 코미디 -0.7697965\n",
      "기타 판타지 -0.81537867\n",
      "다큐멘터리 드라마 -0.41323358\n",
      "다큐멘터리 멜로로맨스 -0.48595008\n",
      "다큐멘터리 뮤지컬 -0.5961617\n",
      "다큐멘터리 미스터리 -0.45956695\n",
      "다큐멘터리 범죄 -0.47801057\n",
      "다큐멘터리 사극 -0.6372294\n",
      "다큐멘터리 서부극(웨스턴) -0.5729871\n",
      "다큐멘터리 성인물(에로) -0.50115395\n",
      "다큐멘터리 스릴러 -0.4763777\n",
      "다큐멘터리 애니메이션 -0.73011744\n",
      "다큐멘터리 액션 -0.51160854\n",
      "다큐멘터리 어드벤처 -0.63558334\n",
      "다큐멘터리 전쟁 -0.41068736\n",
      "다큐멘터리 코미디 -0.5193899\n",
      "다큐멘터리 판타지 -0.5958991\n",
      "드라마 멜로로맨스 -0.52247435\n",
      "드라마 뮤지컬 -0.7399427\n",
      "드라마 미스터리 -0.35691786\n",
      "드라마 범죄 -0.3698346\n",
      "드라마 사극 -0.73134416\n",
      "드라마 서부극(웨스턴) -0.63790345\n",
      "드라마 성인물(에로) -0.5277253\n",
      "드라마 스릴러 -0.42181352\n",
      "드라마 애니메이션 -0.9042799\n",
      "드라마 액션 -0.38241267\n",
      "드라마 어드벤처 -0.6258627\n",
      "드라마 전쟁 0.0142873535\n",
      "드라마 코미디 -0.5366935\n",
      "드라마 판타지 -0.70210767\n",
      "멜로로맨스 뮤지컬 0.3835107\n",
      "멜로로맨스 미스터리 0.40780637\n",
      "멜로로맨스 범죄 0.3582871\n",
      "멜로로맨스 사극 0.21014552\n",
      "멜로로맨스 서부극(웨스턴) -0.053034935\n",
      "멜로로맨스 성인물(에로) -0.13067299\n",
      "멜로로맨스 스릴러 0.29027858\n",
      "멜로로맨스 애니메이션 -0.09184982\n",
      "멜로로맨스 액션 0.22021165\n",
      "멜로로맨스 어드벤처 0.30490047\n",
      "멜로로맨스 전쟁 0.447887\n",
      "멜로로맨스 코미디 0.42103383\n",
      "멜로로맨스 판타지 0.060962748\n",
      "뮤지컬 미스터리 -0.0038304015\n",
      "뮤지컬 범죄 -0.10585994\n",
      "뮤지컬 사극 -0.4751749\n",
      "뮤지컬 서부극(웨스턴) -0.44735992\n",
      "뮤지컬 성인물(에로) -0.40654105\n",
      "뮤지컬 스릴러 -0.21139053\n",
      "뮤지컬 애니메이션 -0.7814884\n",
      "뮤지컬 액션 -0.20039241\n",
      "뮤지컬 어드벤처 -0.28178924\n",
      "뮤지컬 전쟁 0.39701208\n",
      "뮤지컬 코미디 -0.13838378\n",
      "뮤지컬 판타지 -0.5058631\n",
      "미스터리 범죄 -0.16071032\n",
      "미스터리 사극 -0.6134552\n",
      "미스터리 서부극(웨스턴) -0.7336573\n",
      "미스터리 성인물(에로) -0.4541769\n",
      "미스터리 스릴러 -0.3815888\n",
      "미스터리 애니메이션 -0.8999731\n",
      "미스터리 액션 -0.23581675\n",
      "미스터리 어드벤처 -0.17704505\n",
      "미스터리 전쟁 0.30385813\n",
      "미스터리 코미디 -0.0898202\n",
      "미스터리 판타지 -0.77639717\n",
      "범죄 사극 -0.56163627\n",
      "범죄 서부극(웨스턴) -0.48870492\n",
      "범죄 성인물(에로) -0.44450098\n",
      "범죄 스릴러 -0.38378868\n",
      "범죄 애니메이션 -0.84494454\n",
      "범죄 액션 -0.25777462\n",
      "범죄 어드벤처 -0.054438964\n",
      "범죄 전쟁 0.4684056\n",
      "범죄 코미디 0.054005343\n",
      "범죄 판타지 -0.57155436\n",
      "사극 서부극(웨스턴) -0.32012638\n",
      "사극 성인물(에로) -0.275263\n",
      "사극 스릴러 0.15396139\n",
      "사극 애니메이션 -0.81061405\n",
      "사극 액션 0.13536082\n",
      "사극 어드벤처 0.51657605\n",
      "사극 전쟁 0.75616086\n",
      "사극 코미디 0.7427255\n",
      "사극 판타지 -0.3516717\n",
      "서부극(웨스턴) 성인물(에로) -0.0022198115\n",
      "서부극(웨스턴) 스릴러 0.4698547\n",
      "서부극(웨스턴) 애니메이션 -0.05292264\n",
      "서부극(웨스턴) 액션 0.28705138\n",
      "서부극(웨스턴) 어드벤처 0.38790527\n",
      "서부극(웨스턴) 전쟁 0.53616107\n",
      "서부극(웨스턴) 코미디 0.4866785\n",
      "서부극(웨스턴) 판타지 0.21570083\n",
      "성인물(에로) 스릴러 0.40014735\n",
      "성인물(에로) 애니메이션 -0.044016406\n",
      "성인물(에로) 액션 0.2978918\n",
      "성인물(에로) 어드벤처 0.35628068\n",
      "성인물(에로) 전쟁 0.49895588\n",
      "성인물(에로) 코미디 0.4746442\n",
      "성인물(에로) 판타지 0.13208668\n",
      "스릴러 애니메이션 -0.6571123\n",
      "스릴러 액션 0.017374916\n",
      "스릴러 어드벤처 0.13908094\n",
      "스릴러 전쟁 0.46336344\n",
      "스릴러 코미디 0.23194869\n",
      "스릴러 판타지 -0.49783227\n",
      "애니메이션 액션 0.53546077\n",
      "애니메이션 어드벤처 0.8339009\n",
      "애니메이션 전쟁 0.8544241\n",
      "애니메이션 코미디 0.95682347\n",
      "애니메이션 판타지 0.35602304\n",
      "액션 어드벤처 0.14149351\n",
      "액션 전쟁 0.6149014\n",
      "액션 코미디 0.19473891\n",
      "액션 판타지 -0.2877968\n",
      "어드벤처 전쟁 0.811415\n",
      "어드벤처 코미디 0.17906187\n",
      "어드벤처 판타지 -0.444667\n",
      "전쟁 코미디 -0.4747892\n",
      "전쟁 판타지 -0.60210204\n",
      "코미디 판타지 -0.60389185\n",
      "all_weat_score 210\n"
     ]
    }
   ],
   "source": [
    "# 전체 장르별 X,Y,A,B WEAT score\n",
    "all_weat_score = []\n",
    "for i in range(len(genre_name)-1):\n",
    "    for j in range(i+1, len(genre_name)):\n",
    "        print(genre_name[i], genre_name[j],matrix[i][j])\n",
    "        all_weat_score.append([genre_name[i], genre_name[j],matrix[i][j]])\n",
    "print(\"all_weat_score\",len(all_weat_score))       "
   ]
  },
  {
   "cell_type": "code",
   "execution_count": 71,
   "id": "22dd317a",
   "metadata": {},
   "outputs": [
    {
     "name": "stdout",
     "output_type": "stream",
     "text": [
      "[['가족', '기타', 0.9962617], ['애니메이션', '코미디', 0.95682347], ['가족', '코미디', 0.9209532], ['가족', '드라마', 0.90826166], ['가족', '공연', 0.9053394], ['공연', '기타', 0.8705371], ['애니메이션', '전쟁', 0.8544241], ['애니메이션', '어드벤처', 0.8339009], ['SF', '애니메이션', -0.82246804], ['범죄', '애니메이션', -0.84494454], ['기타', '어드벤처', -0.85817444], ['공연', '애니메이션', -0.860155], ['기타', '사극', -0.8662182], ['공포(호러)', '애니메이션', -0.8749958], ['미스터리', '애니메이션', -0.8999731], ['드라마', '애니메이션', -0.9042799], ['기타', '애니메이션', -0.96955174], ['기타', '뮤지컬', -1.0249937], ['기타', '드라마', -1.0777911]]\n"
     ]
    }
   ],
   "source": [
    "# WEAT score가 0.8 이상, -0.8 이하의 경우만 추출\n",
    "all_weat_score_sort = sorted(all_weat_score, key=lambda x: x[2], reverse= True)\n",
    "all_weat_score_sort_core= all_weat_score_sort[:8] + all_weat_score_sort[-11:]\n",
    "print(all_weat_score_sort_core)\n"
   ]
  },
  {
   "cell_type": "markdown",
   "id": "5f883ee8",
   "metadata": {},
   "source": [
    "**[해석]**\n",
    "\n",
    "WEAT score가 0.8 이상 8개, -0.8 이하의 11개 경우만 각각 공통적으로 해석해 보면 아래와 같습니다.\n",
    "\n",
    "(1) 0.8 이상   \n",
    "예술영화와 일반영화, 그리고 Attribute에 나와있는 21가지 장르중 대체로 가족영화와 애니메이션영화가 예술영화와 가깝고, 기타영화, 코미디, 전쟁, 어드벤쳐,등이 일반 영화와 가까운 것으로 Weat score 상 나타났습니다.\n",
    "가족영화와 예술적인 영화의 대표단어들을 비교해 봐도 왜 그런지, 일반론적으로는 잘모르겠습니다. \n",
    "\n",
    "(2) -0.8이하   \n",
    "예술영화와 일반영화, 그리고 Attribute에 나와있는 21가지 장르중 대체로 기타영화가 예술영화와 멀고, 애니메이션영화가 일반 영화와 압도적으로 먼 것으로 나타났습니다.\n",
    "오히려 이 부분도 위의 것보다는 이해가가나, 뚜렷한 것 같지는 않습니다.\n",
    "\n",
    "(3) 검토 결론       \n",
    "중복단어를 제거하기 위해서, TFIDF를 반복사용해서, 중복단어를 제거하였는데도, 영화장르 카테고리의 대표단어들이 눈으로 개념적으로 보기에 그다지 가까워 보이지는 않았습니다.\n",
    "\n",
    "영화 장르카테고리가 잘 분류되었나, 그리고 대표단어들이 그 장르와 잘맞는 것인지, 그리고, 근본적으로 자연어처리의 다른 부분에서는 유용하더라도,대표 단어들을 고르는 방법으로서의  TFIDF가 적합한 방법인지 의문이 드는데, 시간을 갖고서, 검토해 봐야 할 것 같습니다.\n"
   ]
  },
  {
   "cell_type": "code",
   "execution_count": 72,
   "id": "e215e584",
   "metadata": {},
   "outputs": [
    {
     "data": {
      "text/plain": [
       "<AxesSubplot:>"
      ]
     },
     "execution_count": 72,
     "metadata": {},
     "output_type": "execute_result"
    },
    {
     "data": {
      "image/png": "[encoded data removed]",
      "text/plain": [
       "<Figure size 432x288 with 2 Axes>"
      ]
     },
     "metadata": {},
     "output_type": "display_data"
    }
   ],
   "source": [
    "import numpy as np; \n",
    "import seaborn as sns; \n",
    "import matplotlib.pyplot as plt\n",
    "\n",
    "np.random.seed(0)\n",
    "\n",
    "# 한글 지원 폰트\n",
    "sns.set(font='NanumGothic')\n",
    "\n",
    "# 마이너스 부호 \n",
    "\n",
    "plt.rcParams['axes.unicode_minus'] = False\n",
    "\n",
    "ax = sns.heatmap(matrix, xticklabels=genre_name, yticklabels=genre_name, annot=True,  cmap='RdYlGn_r')\n",
    "ax"
   ]
  },
  {
   "cell_type": "code",
   "execution_count": null,
   "id": "41d300ce",
   "metadata": {},
   "outputs": [],
   "source": []
  },
  {
   "cell_type": "code",
   "execution_count": null,
   "id": "9a3867f9",
   "metadata": {},
   "outputs": [],
   "source": []
  },
  {
   "cell_type": "code",
   "execution_count": null,
   "id": "4743eb14",
   "metadata": {},
   "outputs": [],
   "source": []
  },
  {
   "cell_type": "code",
   "execution_count": null,
   "id": "b904144e",
   "metadata": {},
   "outputs": [],
   "source": []
  },
  {
   "cell_type": "code",
   "execution_count": null,
   "id": "7da77bd4",
   "metadata": {},
   "outputs": [],
   "source": []
  },
  {
   "cell_type": "code",
   "execution_count": null,
   "id": "f6b772b4",
   "metadata": {},
   "outputs": [],
   "source": []
  },
  {
   "cell_type": "code",
   "execution_count": null,
   "id": "aa84b04e",
   "metadata": {},
   "outputs": [],
   "source": []
  },
  {
   "cell_type": "markdown",
   "id": "a2641e54",
   "metadata": {},
   "source": [
    "#### 루브릭\n",
    "\n",
    "아래의 기준을 바탕으로 프로젝트를 평가합니다.\n",
    "\n",
    "평가문항\t상세기준\n",
    "\n",
    "1. 주어진 영화 코퍼스를 바탕으로 워드임베딩 모델을 정상적으로 만들었다.\n",
    "\n",
    "워드임베딩의 most_similar() 메소드 결과가 의미상 바르게 나왔다. \n",
    "\n",
    "2. 영화 구분, 장르별로 target, attribute에 대한 대표성있는 단어 셋을 생성하였다.\n",
    "\n",
    "타당한 방법론을 통해 중복이 잘 제거되고 개념축을 의미적으로 잘 대표하는 단어 셋이 만들어졌다.    \n",
    "\n",
    "3. WEAT score 계산 및 시각화를 정상적으로 진행하였다.\n",
    "\n",
    "전체 영화 장르별로 예술/일반 영화에 대한 편향성 WEAT score가 상식에 부합하는 수치로 얻어졌으며 이를 잘 시각화하였다."
   ]
  },
  {
   "cell_type": "code",
   "execution_count": null,
   "id": "a34f141b",
   "metadata": {},
   "outputs": [],
   "source": []
  },
  {
   "cell_type": "code",
   "execution_count": null,
   "id": "5199f45f",
   "metadata": {},
   "outputs": [],
   "source": []
  },
  {
   "cell_type": "code",
   "execution_count": null,
   "id": "e34e6b5b",
   "metadata": {},
   "outputs": [],
   "source": []
  }
 ],
 "metadata": {
  "kernelspec": {
   "display_name": "Python 3 (ipykernel)",
   "language": "python",
   "name": "python3"
  },
  "language_info": {
   "codemirror_mode": {
    "name": "ipython",
    "version": 3
   },
   "file_extension": ".py",
   "mimetype": "text/x-python",
   "name": "python",
   "nbconvert_exporter": "python",
   "pygments_lexer": "ipython3",
   "version": "3.9.7"
  }
 },
 "nbformat": 4,
 "nbformat_minor": 5
}
