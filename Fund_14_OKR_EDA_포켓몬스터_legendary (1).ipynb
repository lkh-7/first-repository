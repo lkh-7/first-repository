{
 "cells": [
  {
   "cell_type": "code",
   "execution_count": null,
   "id": "d4ff1408",
   "metadata": {},
   "outputs": [],
   "source": []
  },
  {
   "cell_type": "markdown",
   "id": "b77c2772",
   "metadata": {},
   "source": [
    "## Fund. 14-15까지 진행 후\n",
    "### 1. 데이터 분석 플로우 만들기\n",
    " - 데이터분석 시 사용할 수 있는 나만의 EDA 플로우를 정리해 보고 팀원들과 나누어보았다\n",
    " \n",
    " - 잘 정리되어 있는 EDA 플로우를 검색해보고, 내가 만든 플로우와 비교해 보자.\n",
    " \n",
    " \n",
    "### 나만의 EDA 플로우 : EDA플로우 포함 전체 문제해결 flow: 정신차리고 제대로 보기필요\n",
    " \n",
    "##### 1.해결문제정의 및 해법구상\n",
    "      \n",
    "##### 2.펠요 데이터셑 구하기\n",
    "      \n",
    "##### 3.데이터의 전체 개괄적이해: 전체 데이터개수, 특성개수,등\n",
    "      \n",
    "##### 4.데이터 분석 본격 실행\n",
    "      \n",
    "        (1) 필요 데이터 분석도구 수집: pandas, numpy, seaborn, matplotlib 등\n",
    "        \n",
    "        (2) 결측치 확인: 확인 및 맞는 보충방법 선정\n",
    "        \n",
    "        (3) 전체 feature별 내용 이해 및 시각화: 피쳐별 성격, 데이터type,중복 data여부,피쳐별 연관성,\n",
    "        \n",
    "            피쳐별 데이터분포형태파악,범주형, 연속형데이터 여부,\n",
    "            \n",
    "        (4) feature별 target data와 연관 강도 추론하여, 1차 우선순위 선정        \n",
    "        \n",
    "        (5) 컬럼별 outlier  파악및 제거방법 선택\n",
    "        \n",
    "##### 5. Target 데이터와 우선순위 상위 컬럼과의 추가적 시각화를 통한 세부 분석\n",
    "      \n",
    "        - 타 피쳐들과의 cross check: pivot_table, cross tab\n",
    "        \n",
    "        - 주어진 데이터외 추가 필요 피쳐 생성및 추가\n",
    "        \n",
    "##### 6.데이터 전처리\n",
    "      \n",
    "        (1) 문자열 특성파악,수치화  및 Tokenize\n",
    "        \n",
    "        (2) 범주형데이터중 integer encoding, one-hot encoding여부 결정\n",
    "        \n",
    "        (3) One-hot encoding\n",
    "        \n",
    "        (4) skewed 데이터들은 정규분포로 근사화시킴: \n",
    "           \n",
    "           skewed data 는 log 취해서 정규분포화시도 (피쳐,타겟데이터 공통)\n",
    "        \n",
    "        (5) train, test data 로 분리\n",
    "        \n",
    "        (6) 데이터정규화:  StandardScaler, MinmaxScaler \n",
    "           \n",
    "##### 7. BaseLine Model로 1차 기본 틀 작업및 학습및 예측성능 baseline 만듬\n",
    "      \n",
    "##### 8. Main model 학습및 예측, 성능평가\n",
    "      \n",
    "        (1) 학습및 예측\n",
    "        \n",
    "        (2) 성능평가 : \n",
    "        \n",
    "            - target data가 imbalanced data 인지 여부 파악: Recall율,Precision율 중요하게 다룰지여부\n",
    "            \n",
    "            -codfusion matris, classification report 활용\n",
    "            \n",
    "            -Accuracy외에 REcall,Precision,f1score qudgodqnstjr        \n",
    "        \n",
    " ### 비교\n",
    " "
   ]
  },
  {
   "cell_type": "code",
   "execution_count": null,
   "id": "f1504baa",
   "metadata": {},
   "outputs": [],
   "source": []
  },
  {
   "cell_type": "markdown",
   "id": "d286aa34",
   "metadata": {},
   "source": [
    "### 2. Feature Engineering(데이터에서 새로운 feature 추출)\n",
    "\n",
    "\" - 노드에서 인사이트를 활용하여 feature를 추출한 사례를 정리해보자.\n",
    "    - ex) 전설의 포켓몬의 이름이 길다는 점에 착안해 이름 10자를 기준으로 변수 생성\"\n",
    " - 데이터 분석에서 도메인의 중요성에 대해 찾아보고, 대표적인 사례를 팀원들과 공유해 보자."
   ]
  },
  {
   "cell_type": "markdown",
   "id": "52e61170",
   "metadata": {},
   "source": [
    "### (1) 노드에서 인사이트를 활용하여 feature를 추출한 사례는 ?\n",
    "\n",
    "#####  [My] 포켓몬 Name 으로 토큰을 추출하여, legendary에 공통으로 많이 들어간 이름 파악및 feature에 전데이터에 True,False로 데이터추가  \n",
    "\n",
    "###  (2) 데이터 분석에서 도메인의 중요성에 대해 찾아보고, 대표적인 사례를 팀원들과 공유해 보자\n",
    "\n",
    "#####  [My] EDA를 통해서, 데이터를 깊숙히 파악하는데, 해당 도메인에 종사하는 사람들은 더 깊은 내용을 파악하고 있\n",
    "어, 디른 분야 데이터분석시는 그 분야 종사자의 이야기를 깊이 들어볼필요가 있슴, \n",
    "당연한 일이라, 대표적인 사례라고 떠오르는 사례는 없슴 \n"
   ]
  },
  {
   "cell_type": "code",
   "execution_count": null,
   "id": "989a1dcb",
   "metadata": {},
   "outputs": [],
   "source": []
  },
  {
   "cell_type": "markdown",
   "id": "108ef212",
   "metadata": {},
   "source": [
    "## Fund. 14-20까지 진행 후\n",
    "### 3. 모델\n",
    "\" - 데이터 전처리부터 모델 학습까지의 프로세스를 정리해 보고, 팀원들과 각자의 프로세스를\n",
    "   비교하여 팀별 완성된 가이드라인을 만들어 보자.\n",
    "    - 클로징시간에 팀간 공유 예정\"\n",
    "\" - confusion matrix를 활용하여 해석할 수 있는 다음 4가지 척도에 대해 설명할 수 있다.\n",
    "    - accuracy\n",
    "    - precision\n",
    "    - recall\n",
    "    - f-score\""
   ]
  },
  {
   "cell_type": "code",
   "execution_count": null,
   "id": "37ccbd64",
   "metadata": {},
   "outputs": [],
   "source": []
  },
  {
   "cell_type": "markdown",
   "id": "bd739916",
   "metadata": {},
   "source": [
    "### (1)- 데이터 전처리부터 모델 학습까지의 프로세스를 정리해 보고, 팀원들과 각자의 프로세스를 비교하여 팀별 완성된 가이드라인을 만들어 보자.\n",
    "\n",
    " #### 앞의 EDA FLOW의 6~8 까지임\n",
    "\n",
    " #### 6.데이터 전처리\n",
    "      \n",
    "        (1) 문자열 특성파악,수치화  및 Tokenize\n",
    "        \n",
    "        (2) 범주형데이터중 integer encoding, one-hot encoding여부 결정\n",
    "        \n",
    "        (3) One-hot encoding\n",
    "        \n",
    "        (4) skewed 데이터들은 정규분포로 근사화시킴: \n",
    "           \n",
    "           skewed data 는 log 취해서 정규분포화시도 (피쳐,타겟데이터 공통)\n",
    "        \n",
    "        (5) train, test data 로 분리\n",
    "        \n",
    "        (6) 데이터정규화:  StandardScaler, MinmaxScaler \n",
    "           \n",
    "####   7. BaseLine Model로 1차 기본 틀 작업및 학습및 예측성능 baseline 만듬\n",
    "      \n",
    "####   8. Main model 학습및 예측, 성능평가\n",
    "      \n",
    "        (1) 학습및 예측\n",
    "        \n",
    "        (2) 성능평가 : \n",
    "        \n",
    "            - target data가 imbalanced data 인지 여부 파악: Recall율,Precision율 중요하게 다룰지여부\n",
    "            \n",
    "            -codfusion matris, classification report 활용\n",
    "            \n",
    "            -Accuracy외에 REcall,Precision,f1score qudgodqnstjr \n",
    " "
   ]
  },
  {
   "cell_type": "code",
   "execution_count": null,
   "id": "a8ab92b9",
   "metadata": {},
   "outputs": [],
   "source": []
  },
  {
   "cell_type": "markdown",
   "id": "a3c69d73",
   "metadata": {},
   "source": [
    "### (2) confusion matrix를 활용하여 해석할 수 있는 다음 4가지 척도에 대해 설명할 수 있다. - accuracy - precision - recall - f-score\"\n",
    "\n",
    "#### Accuracy :  (TP + TN) / (TF+ FN +TN +FP)\n",
    "\n",
    "#### precision :  TP / (TP + FP)\n",
    "\n",
    "#### recall : TP / (TP + FN)\n",
    "\n",
    "#### f1score: 2*(recall * precision) / (recall + precision) \n"
   ]
  },
  {
   "cell_type": "code",
   "execution_count": null,
   "id": "3b841abc",
   "metadata": {},
   "outputs": [],
   "source": []
  }
 ],
 "metadata": {
  "kernelspec": {
   "display_name": "Python 3 (ipykernel)",
   "language": "python",
   "name": "python3"
  },
  "language_info": {
   "codemirror_mode": {
    "name": "ipython",
    "version": 3
   },
   "file_extension": ".py",
   "mimetype": "text/x-python",
   "name": "python",
   "nbconvert_exporter": "python",
   "pygments_lexer": "ipython3",
   "version": "3.9.7"
  }
 },
 "nbformat": 4,
 "nbformat_minor": 5
}
