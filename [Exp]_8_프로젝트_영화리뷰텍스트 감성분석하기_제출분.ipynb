{
 "cells": [
  {
   "cell_type": "markdown",
   "id": "d3b3ab34",
   "metadata": {},
   "source": [
    "## 8-11. 프로젝트 : 네이버 영화리뷰 감성분석 도전하기\n"
   ]
  },
  {
   "cell_type": "markdown",
   "id": "2028dc19",
   "metadata": {},
   "source": [
    "### 라이브러리 IMPORT"
   ]
  },
  {
   "cell_type": "code",
   "execution_count": 1,
   "id": "fd7601e5",
   "metadata": {},
   "outputs": [
    {
     "name": "stdout",
     "output_type": "stream",
     "text": [
      "1.3.3\n",
      "0.5.2\n",
      "4.1.2\n"
     ]
    }
   ],
   "source": [
    "import tensorflow as tf \n",
    "import konlpy\n",
    "import gensim\n",
    "from konlpy.tag import Mecab\n",
    "from collections import Counter\n",
    "\n",
    "import os,sys,copy,time\n",
    "import pandas as pd\n",
    "import matplotlib.pyplot as plt\n",
    "import seaborn as sns\n",
    "import numpy as np\n",
    "import tqdm\n",
    "import re\n",
    "\n",
    "print(pd.__version__)\n",
    "print(konlpy.__version__)\n",
    "print(gensim.__version__)"
   ]
  },
  {
   "cell_type": "markdown",
   "id": "d581881e",
   "metadata": {},
   "source": [
    "### 1. 데이터 준비와 확인"
   ]
  },
  {
   "cell_type": "markdown",
   "id": "00370500",
   "metadata": {},
   "source": [
    "##### (1) 데이터 load"
   ]
  },
  {
   "cell_type": "code",
   "execution_count": 2,
   "id": "702acd9c",
   "metadata": {},
   "outputs": [
    {
     "name": "stdout",
     "output_type": "stream",
     "text": [
      "train_data          id                                           document  label\n",
      "0   9976970                                아 더빙.. 진짜 짜증나네요 목소리      0\n",
      "1   3819312                  흠...포스터보고 초딩영화줄....오버연기조차 가볍지 않구나      1\n",
      "2  10265843                                  너무재밓었다그래서보는것을추천한다      0\n",
      "3   9045019                      교도소 이야기구먼 ..솔직히 재미는 없다..평점 조정      0\n",
      "4   6483659  사이몬페그의 익살스런 연기가 돋보였던 영화!스파이더맨에서 늙어보이기만 했던 커스틴 ...      1 (150000, 3)\n",
      "------------------------------------------------------------\n",
      "test_data         id                                           document  label\n",
      "0  6270596                                                굳 ㅋ      1\n",
      "1  9274899                               GDNTOPCLASSINTHECLUB      0\n",
      "2  8544678             뭐야 이 평점들은.... 나쁘진 않지만 10점 짜리는 더더욱 아니잖아      0\n",
      "3  6825595                   지루하지는 않은데 완전 막장임... 돈주고 보기에는....      0\n",
      "4  6723715  3D만 아니었어도 별 다섯 개 줬을텐데.. 왜 3D로 나와서 제 심기를 불편하게 하죠??      0 (50000, 3)\n"
     ]
    }
   ],
   "source": [
    "# 데이터를 읽어봅시다. \n",
    "train_data = pd.read_table('~/aiffel/sentiment_classification/data/ratings_train.txt')\n",
    "test_data = pd.read_table('~/aiffel/sentiment_classification/data/ratings_test.txt')\n",
    "\n",
    "print(\"train_data\",train_data.head(),train_data.shape)\n",
    "print('-'*60)\n",
    "print(\"test_data\",test_data.head(),test_data.shape)"
   ]
  },
  {
   "cell_type": "markdown",
   "id": "874b6427",
   "metadata": {},
   "source": [
    "##### (2) 데이터 정제연습 셀: 아래 함수에 넣기위한  사전 테스트"
   ]
  },
  {
   "cell_type": "code",
   "execution_count": 3,
   "id": "a31d044d",
   "metadata": {},
   "outputs": [],
   "source": [
    "## 데이터 정제연습: 수시로 필요시\n",
    "\n",
    "test_need = False \n",
    "\n",
    "if test_need:\n",
    "    # 이상문자 유무체크:\n",
    "    print(\"전체문장 결합후 한개의 리스트로 전환\",  ' '.join(train_data['document'].astype(str).tolist()))\n",
    "    m=re.findall('[a-zA-Z]+ | -+',' '.join(train_data['document'].astype(str).tolist()))\n",
    "    print(m)\n",
    "\n",
    "    # 데이터 정제연습\n",
    "    train_data['document'].str.replace(\"[' ']+\",\" \")\n",
    "    train_data['document'].str.replace(\"\\.{2,30}\",\" \") \n",
    "    train_data['document'].str.replace(\"[^ㄱ-힣 \\S+ !?\\^+]\",\"\")\n",
    "    train_data['document'].str.replace(\"[^ㄱ-힣a-zA-Z0-9!?,.^\\s]\",\"\") \n",
    "    train_data['document'].str.replace(\"[^!?.,\\^]\",\"\")\n",
    "    print(\"연습대상 제거상태_train_data.head()\",train_data.head())\n",
    "   "
   ]
  },
  {
   "cell_type": "markdown",
   "id": "255177bb",
   "metadata": {},
   "source": [
    "### 2. 데이터로더 구성\n",
    "\n",
    "실습 때 다루었던 IMDB 데이터셋은 텍스트를 가공하여 imdb.data_loader() 메서드를 호출하면 숫자 인덱스로 변환된 텍스트와 word_to_index 딕셔너리까지 친절하게 제공합니다. 그러나 이번에 다루게 될 nsmc 데이터셋은 전혀 가공되지 않은 텍스트 파일로 이루어져 있습니다. 이것을 읽어서 imdb.data_loader()와 동일하게 동작하는 자신만의 data_loader를 만들어 보는 것으로 시작합니다. data_loader 안에서는 다음을 수행해야 합니다.\n",
    "\n",
    "데이터의 중복 제거 /  NaN 결측치 제거 / 한국어 토크나이저로 토큰화 / 불용어(Stopwords) 제거 / 사전word_to_index 구성 / 텍스트 스트링을 사전 인덱스 스트링으로 변환\n"
   ]
  },
  {
   "cell_type": "markdown",
   "id": "5079c812",
   "metadata": {},
   "source": [
    "#### (1) 데이터로더 함수 생성 및 데이터 return"
   ]
  },
  {
   "cell_type": "code",
   "execution_count": 4,
   "id": "bb2d1e41",
   "metadata": {},
   "outputs": [
    {
     "name": "stdout",
     "output_type": "stream",
     "text": [
      "train_data['document'].nunique() 146182\n",
      "train_data['label'].nunique() 2\n",
      "중복제거후 len(train_data) 146183\n",
      "test_data['document'].nunique() 49157\n",
      "test_data['label'].nunique() 2\n",
      "중복제거후 len(test_data) 49158\n",
      "결측치 개수 id          0\n",
      "document    1\n",
      "label       0\n",
      "dtype: int64\n",
      "결측치제거후 결측치 여부 False\n",
      "결측치 개수 id          0\n",
      "document    1\n",
      "label       0\n",
      "dtype: int64\n",
      "결측치제거후 결측치 여부 False\n"
     ]
    },
    {
     "name": "stderr",
     "output_type": "stream",
     "text": [
      "/tmp/ipykernel_6015/3857769262.py:37: FutureWarning: The default value of regex will change from True to False in a future version.\n",
      "  train_data['document'] = train_data['document'].str.replace(\"[' ']+\",\" \")\n",
      "/tmp/ipykernel_6015/3857769262.py:38: FutureWarning: The default value of regex will change from True to False in a future version.\n",
      "  train_data['document'] = train_data['document'].str.replace(\"\\.{2,30}\",\" \")\n",
      "/tmp/ipykernel_6015/3857769262.py:39: FutureWarning: The default value of regex will change from True to False in a future version.\n",
      "  train_data['document'] = train_data['document'].str.replace(\"[^ㄱ-힣0-9!?,.\\^+ ^\\s]\",\"\")  #한글전용형태소기인 경우 영어제외\n"
     ]
    },
    {
     "name": "stdout",
     "output_type": "stream",
     "text": [
      "한글과 공백,기타일부 등제외후 모두제거상태_train_data.head()          id                                           document  label\n",
      "0   9976970                                 아 더빙  진짜 짜증나네요 목소리      0\n",
      "1   3819312                       흠 포스터보고 초딩영화줄 오버연기조차 가볍지 않구나      1\n",
      "2  10265843                                  너무재밓었다그래서보는것을추천한다      0\n",
      "3   9045019                        교도소 이야기구먼  솔직히 재미는 없다 평점 조정      0\n",
      "4   6483659  사이몬페그의 익살스런 연기가 돋보였던 영화!스파이더맨에서 늙어보이기만 했던 커스틴 ...      1\n"
     ]
    },
    {
     "name": "stderr",
     "output_type": "stream",
     "text": [
      "/tmp/ipykernel_6015/3857769262.py:43: FutureWarning: The default value of regex will change from True to False in a future version.\n",
      "  test_data['document' ]= test_data['document'].str.replace(\"[' ']+\",\" \")\n",
      "/tmp/ipykernel_6015/3857769262.py:44: FutureWarning: The default value of regex will change from True to False in a future version.\n",
      "  test_data['document'] = test_data['document'].str.replace(\"\\.{2,30}\",\" \")\n",
      "/tmp/ipykernel_6015/3857769262.py:45: FutureWarning: The default value of regex will change from True to False in a future version.\n",
      "  test_data['document'] = test_data['document'].str.replace(\"[^ㄱ-힣0-9!?,.\\^+ ^\\s]\",\"\")  #한글전용형태소기인 경우 영어제외\n"
     ]
    },
    {
     "name": "stdout",
     "output_type": "stream",
     "text": [
      "한글과 공백,기타일부 등제외후 모두제거상태_test_data.head()         id                                        document  label\n",
      "0  6270596                                             굳 ㅋ      1\n",
      "1  9274899                                                      0\n",
      "2  8544678             뭐야 이 평점들은  나쁘진 않지만 10점 짜리는 더더욱 아니잖아      0\n",
      "3  6825595                     지루하지는 않은데 완전 막장임  돈주고 보기에는       0\n",
      "4  6723715  3만 아니었어도 별 다섯 개 줬을텐데  왜 3로 나와서 제 심기를 불편하게 하죠??      0\n",
      "Nan 존재유뮤 True\n",
      "Nan 존재유뮤 True\n"
     ]
    },
    {
     "name": "stderr",
     "output_type": "stream",
     "text": [
      "100%|██████████| 146026/146026 [00:13<00:00, 10991.10it/s]\n"
     ]
    },
    {
     "name": "stdout",
     "output_type": "stream",
     "text": [
      "X_train [['아', '더', '빙', '진짜', '짜증', '나', '네요', '목소리'], ['흠', '포스터', '보고', '초딩', '영화', '줄', '오버', '연기', '조차', '가볍', '지', '않', '구나'], ['너무', '재', '밓었다그래서보는것을추천한다'], ['교도소', '이야기', '구먼', '솔직히', '재미', '없', '다', '평점', '조정'], ['사이몬페그', '익살', '스런', '연기', '돋보였', '던', '영화', '!', '스파이더맨', '에서', '늙', '어', '보이', '기', '만', '했', '던', '커스틴', '던스트', '너무나', '이뻐', '보였', '다']] 146026\n"
     ]
    },
    {
     "name": "stderr",
     "output_type": "stream",
     "text": [
      "100%|██████████| 49084/49084 [00:04<00:00, 11017.13it/s]\n"
     ]
    },
    {
     "name": "stdout",
     "output_type": "stream",
     "text": [
      "X_test [['굳', 'ㅋ'], ['뭐', '야', '평점', '나쁘', '진', '않', '지만', '10', '점', '짜리', '더더욱', '아니', '잖아'], ['지루', '하', '지', '않', '은데', '완전', '막장', '임', '돈', '주', '고', '보', '기'], ['3', '만', '아니', '었', '어도', '별', '다섯', '개', '줬', '을', '텐데', '왜', '3', '로', '나와서', '제', '심기', '불편', '하', '게', '하', '죠', '?', '?'], ['음악', '주', '된', ',', '최고', '음악', '영화']] 49084\n",
      "X_train[:5] [[31, 70, 869, 38, 223, 19, 32, 723], [994, 503, 535, 662, 5, 117, 1591, 52, 894, 975, 14, 43, 376], [23, 201, 3], [8141, 154, 4048, 289, 91, 17, 6, 56, 3375], [3, 8618, 1079, 52, 2750, 58, 5, 13, 2718, 40, 1149, 34, 337, 41, 21, 39, 58, 3, 3, 410, 2968, 1719, 6]] y_train[:5] [0 1 0 0 1] X_test[:5] [[809, 129], [82, 113, 56, 920, 326, 43, 37, 98, 36, 617, 3449, 71, 885], [94, 8, 14, 43, 227, 135, 343, 127, 150, 53, 7, 10, 41], [137, 21, 71, 20, 450, 229, 2047, 120, 541, 9, 570, 61, 137, 28, 613, 333, 3, 817, 8, 12, 8, 287, 16, 16], [233, 53, 157, 11, 54, 233, 5]] y_test[:5] [1 0 0 0 1]\n",
      "len( word_to_index) 9997\n"
     ]
    }
   ],
   "source": [
    "## 데이터로더\n",
    "tokenizer = Mecab()\n",
    "stopwords = ['의','가','이','은','들','는','좀','잘','걍','과','도','를','으로','자','에','와','한','하다']\n",
    "num_words=10000\n",
    "\n",
    "def load_data(train_data, test_data, num_words=num_words):\n",
    "    ## 중복값 제거:  'document'컬럼의 중복값 제거,'label'컬럼은 0,1의 두개면 맞음\n",
    "    #1. train_data\n",
    "    print(\"train_data['document'].nunique()\",train_data['document'].nunique())\n",
    "    if train_data['document'].nunique() < len(train_data):\n",
    "        train_data.drop_duplicates(subset=['document'], inplace=True) \n",
    "        print(\"train_data['label'].nunique()\",train_data['label'].nunique())    \n",
    "        print(\"중복제거후 len(train_data)\",len(train_data))    \n",
    "    #2. test_data    \n",
    "    print(\"test_data['document'].nunique()\",test_data['document'].nunique())\n",
    "    if test_data['document'].nunique() < len(test_data):\n",
    "        test_data.drop_duplicates(subset=['document'], inplace=True)\n",
    "        print(\"test_data['label'].nunique()\",test_data['label'].nunique())    \n",
    "        print(\"중복제거후 len(test_data)\",len(test_data))\n",
    "    \n",
    "    ## 결측치제거 : 1개라도 있으면, 해당행 전체 제거\n",
    "    #1. train_data\n",
    "    print(\"결측치 개수\",train_data.isnull().sum())\n",
    "    if train_data.isnull().any().any():\n",
    "        train_data.dropna(how='any',inplace=True)\n",
    "        print(\"결측치제거후 결측치 여부\",train_data.isnull().any().any())    \n",
    "    #2. test_data\n",
    "    print(\"결측치 개수\",test_data.isnull().sum())\n",
    "    if test_data.isnull().any().any():\n",
    "        test_data.dropna(how='any',inplace=True)\n",
    "        print(\"결측치제거후 결측치 여부\",test_data.isnull().any().any())\n",
    "    \n",
    "    ## 데이터 정제 \n",
    "    # 한글과 숫자,공백(한개이상 공백은 한개로 축소),특수문자일부 !?,.^을 제외하고 제거:[^ㄱ-힣a-zA-Z0-9!?,.^\\s]\n",
    "    # --> 한글형태소기를 tokenizer로 쓸 경우에는 영어및 일부선택된 특수문자외에는 모두제거(..., - - 등도 제거)\n",
    "    #1. train_data\n",
    "    train_data['document'] = train_data['document'].str.replace(\"[' ']+\",\" \")\n",
    "    train_data['document'] = train_data['document'].str.replace(\"\\.{2,30}\",\" \") \n",
    "    train_data['document'] = train_data['document'].str.replace(\"[^ㄱ-힣0-9!?,.\\^+ ^\\s]\",\"\")  #한글전용형태소기인 경우 영어제외\n",
    "    #train_data['document'] = train_data['document'].str.replace(\"[^ㄱ-힣a-zA-Z0-9!?,.^\\s]\",\"\")  #한글영어병행형태소기인경우 영어포함                                                         \n",
    "    print(\"한글과 공백,기타일부 등제외후 모두제거상태_train_data.head()\",train_data.head())\n",
    "    #2. test_data\n",
    "    test_data['document' ]= test_data['document'].str.replace(\"[' ']+\",\" \")\n",
    "    test_data['document'] = test_data['document'].str.replace(\"\\.{2,30}\",\" \") \n",
    "    test_data['document'] = test_data['document'].str.replace(\"[^ㄱ-힣0-9!?,.\\^+ ^\\s]\",\"\")  #한글전용형태소기인 경우 영어제외\n",
    "    #test_data['document'] = test_data['document'].str.replace(\"[^ㄱ-힣a-zA-Z0-9!?,.^\\s]\",\"\")  #한글영어병행형태소기인경우 영어포함                                                            \n",
    "    print(\"한글과 공백,기타일부 등제외후 모두제거상태_test_data.head()\",test_data.head())\n",
    "    # 데이터 정제후 빈 공백만 있는 문장의 경우 제거:  Nan 입력후 행제거\n",
    "    #1. train_data\n",
    "    train_data['document'].replace('', np.nan, inplace=True)\n",
    "    print(\"Nan 존재유뮤\",train_data.isnull().any().any() )\n",
    "    if train_data.isnull().any().any():\n",
    "        train_data.dropna(how='any',inplace=True)\n",
    "    #2. test_data   \n",
    "    test_data['document'].replace('', np.nan, inplace=True)\n",
    "    print(\"Nan 존재유뮤\",test_data.isnull().any().any() )\n",
    "    if test_data.isnull().any().any():\n",
    "        test_data.dropna(how='any',inplace=True)\n",
    "    \n",
    "    ## 한국어 토크나이저로 토큰화    \n",
    "    # 1. train_data\n",
    "    X_train = []\n",
    "    for sentence in tqdm.tqdm(train_data['document']):\n",
    "        tokenized = tokenizer.morphs(sentence) # morphs 형태소추출\n",
    "        #print(\"tokenized\", tokenized)\n",
    "        tokenized_without_stopwords = [word for word in tokenized if not word in stopwords] # 불용어 제거\n",
    "        X_train.append(tokenized_without_stopwords)\n",
    "    print(\"X_train\",X_train[:5],len(X_train))\n",
    "    \n",
    "    # 2. test_data\n",
    "    X_test = []\n",
    "    for sentence in tqdm.tqdm(test_data['document']):\n",
    "        tokenized = tokenizer.morphs(sentence) # morphs 형태소추출\n",
    "        #print(\"tokenized\", tokenized)\n",
    "        tokenized_without_stopwords = [word for word in tokenized if not word in stopwords] # 불용어 제거\n",
    "        X_test.append(tokenized_without_stopwords)\n",
    "    print(\"X_test\",X_test[:5],len(X_test))\n",
    "    \n",
    "    ## word_to_index 구성: train only ???  train + test ??? 로 word vs index 매칭 ??? !!!!!!!!!!!!\n",
    "    words = np.concatenate(X_train).tolist()  \n",
    "    #words = np.concatenate(X_train).tolist() + np.concatenate(X_test).tolist()\n",
    "    counter = Counter(words)\n",
    "    counter = counter.most_common(num_words-4)   #10000-4)\n",
    "    vocab = ['', '', '', ''] + [key for key, _ in counter]\n",
    "    word_to_index = {word:index for index, word in enumerate(vocab)}\n",
    "    \n",
    "    ## X_Train, X_test 를 word_to_index의 index로 mapping\n",
    "    def wordlist_to_indexlist(wordlist):\n",
    "        return [word_to_index[word] if word in word_to_index else word_to_index[''] for word in wordlist]\n",
    "        \n",
    "    X_train = list(map(wordlist_to_indexlist, X_train))\n",
    "    X_test = list(map(wordlist_to_indexlist, X_test))\n",
    "    \n",
    "    return X_train, np.array(list(train_data['label'])), X_test, np.array(list(test_data['label'])), word_to_index\n",
    "    \n",
    "X_train, y_train, X_test, y_test, word_to_index = load_data(train_data, test_data)\n",
    "\n",
    "# 인덱스로 매칭된 데이터 확인\n",
    "print(\"X_train[:5]\",X_train[:5],\"y_train[:5]\",y_train[:5],\"X_test[:5]\",X_test[:5],\"y_test[:5]\",y_test[:5])\n",
    "print('len( word_to_index)', len(word_to_index))\n"
   ]
  },
  {
   "cell_type": "markdown",
   "id": "90ac8a49",
   "metadata": {},
   "source": [
    "#### (2) index_to_word  만들기 및 필요함수생성"
   ]
  },
  {
   "cell_type": "code",
   "execution_count": 5,
   "id": "9643bf94",
   "metadata": {},
   "outputs": [],
   "source": [
    "## 인덱스를 key로 word 반환 Dict 만들기\n",
    "index_to_word = {index:word for word, index in word_to_index.items()}"
   ]
  },
  {
   "cell_type": "code",
   "execution_count": 6,
   "id": "121c46d6",
   "metadata": {},
   "outputs": [],
   "source": [
    "# 문장 1개를 활용할 딕셔너리와 함께 주면, 단어 인덱스 리스트 벡터로 변환해 주는 함수입니다. \n",
    "# 단, 모든 문장은 <BOS>로 시작하는 것으로 합니다. \n",
    "def get_encoded_sentence(sentence, word_to_index):\n",
    "    return [word_to_index['<BOS>']]+[word_to_index[word] if word in word_to_index else word_to_index['<UNK>'] for word in sentence.split()]\n",
    "\n",
    "# 여러 개의 문장 리스트를 한꺼번에 단어 인덱스 리스트 벡터로 encode해 주는 함수입니다. \n",
    "def get_encoded_sentences(sentences, word_to_index):\n",
    "    return [get_encoded_sentence(sentence, word_to_index) for sentence in sentences]\n",
    "\n",
    "# 숫자 벡터로 encode된 문장을 원래대로 decode하는 함수입니다. \n",
    "def get_decoded_sentence(encoded_sentence, index_to_word):\n",
    "    return ' '.join(index_to_word[index] if index in index_to_word else '<UNK>' for index in encoded_sentence[1:])  #[1:]를 통해 <BOS>를 제외\n",
    "\n",
    "# 여러 개의 숫자 벡터로 encode된 문장을 한꺼번에 원래대로 decode하는 함수입니다. \n",
    "def get_decoded_sentences(encoded_sentences, index_to_word):\n",
    "    return [get_decoded_sentence(encoded_sentence, index_to_word) for encoded_sentence in encoded_sentences]\n"
   ]
  },
  {
   "cell_type": "markdown",
   "id": "7e423370",
   "metadata": {},
   "source": [
    "### 3. 모델 구성을 위한 데이터 분석 및 가공\n"
   ]
  },
  {
   "cell_type": "markdown",
   "id": "7779c1b7",
   "metadata": {},
   "source": [
    "##### (1) 데이터셋 내 문장 길이 분포"
   ]
  },
  {
   "cell_type": "code",
   "execution_count": 7,
   "id": "10443751",
   "metadata": {},
   "outputs": [
    {
     "name": "stdout",
     "output_type": "stream",
     "text": [
      "문장길이평균: 14.9\n",
      "문장길이표준편차: 12.27\n",
      "문장길이Max: 85\n",
      "문장길이Min: 0\n",
      "문장길이 0개수: 320\n",
      "['sans-serif']\n"
     ]
    },
    {
     "data": {
      "image/png": "[encoded data removed]",
      "text/plain": [
       "<Figure size 432x288 with 1 Axes>"
      ]
     },
     "metadata": {
      "needs_background": "light"
     },
     "output_type": "display_data"
    },
    {
     "data": {
      "image/png": "[encoded data removed]",
      "text/plain": [
       "<Figure size 432x288 with 1 Axes>"
      ]
     },
     "metadata": {
      "needs_background": "light"
     },
     "output_type": "display_data"
    }
   ],
   "source": [
    "## 데이터셋 내 문장 길이 분포\n",
    "total_data_text = list(X_train) + list(X_test)\n",
    "total_data_text_dist = [len(x) for x in total_data_text]\n",
    "#print(total_data_text_dist)\n",
    "\n",
    "mean = round(np.mean(total_data_text_dist),2)\n",
    "std = round(np.std(total_data_text_dist),2)\n",
    "max = np.max(total_data_text_dist)\n",
    "min = np.min(total_data_text_dist)\n",
    "min_count = len([x for x in total_data_text_dist if x == 0])\n",
    "print(\"문장길이평균:\",mean)\n",
    "print(\"문장길이표준편차:\",std)\n",
    "print(\"문장길이Max:\",max)\n",
    "print(\"문장길이Min:\",min)\n",
    "print(\"문장길이 0개수:\", min_count)\n",
    "\n",
    "# 히스토그램 시각화: total_data\n",
    "print(plt.rcParams['font.family'])\n",
    "plt.rc('font',family='NanumGothic')\n",
    "plt.hist(total_data_text_dist, bins = 20)\n",
    "plt.xlabel('한문장당 길이')\n",
    "plt.ylabel('데이터 개수')\n",
    "plt.show()\n",
    "\n",
    "# 박스플롯: total_data\n",
    "plt.boxplot(total_data_text_dist)\n",
    "plt.show()"
   ]
  },
  {
   "cell_type": "markdown",
   "id": "7b41f021",
   "metadata": {},
   "source": [
    "##### (2) 적절한 최대 문장 길이 지정: 39"
   ]
  },
  {
   "cell_type": "code",
   "execution_count": 8,
   "id": "21ada27b",
   "metadata": {},
   "outputs": [
    {
     "name": "stdout",
     "output_type": "stream",
     "text": [
      "표준편차 +- 2범위내 데이터수: 182439 원래전체데이터대비비중: 93.51 %\n"
     ]
    },
    {
     "data": {
      "image/png": "[encoded data removed]",
      "text/plain": [
       "<Figure size 432x288 with 1 Axes>"
      ]
     },
     "metadata": {
      "needs_background": "light"
     },
     "output_type": "display_data"
    },
    {
     "name": "stdout",
     "output_type": "stream",
     "text": [
      "적절한 최대 문장 길이 >> pad_sequences maxlen:  39\n"
     ]
    }
   ],
   "source": [
    "## 적절한 최대 문장 길이 지정: (평균 + 표준편차*2)이내\n",
    "total_data_text_dist_array = np.array(total_data_text_dist)\n",
    "total_data_text_within_2std = total_data_text_dist_array[(total_data_text_dist_array <= mean + std*2) & (total_data_text_dist_array >= mean - std*2)]\n",
    "print(\"표준편차 +- 2범위내 데이터수:\", len(total_data_text_within_2std),\n",
    "      \"원래전체데이터대비비중:\",round(len(total_data_text_within_2std)*100/len(total_data_text),2),\"%\")\n",
    "\n",
    "# 히스토그램 시각화: total_data_text_within_2std\n",
    "plt.hist(total_data_text_within_2std, bins = 20)\n",
    "plt.xlabel('한문장당 길이')\n",
    "plt.ylabel('데이터 개수')\n",
    "plt.show()\n",
    "\n",
    "max_length = int(mean + std*2)\n",
    "print(\"적절한 최대 문장 길이 >> pad_sequences maxlen: \",int(max_length))"
   ]
  },
  {
   "cell_type": "markdown",
   "id": "92f99046",
   "metadata": {},
   "source": [
    "##### (3) word_to_index 및 index_to_word 보정:  앞쪽 위치  0,1,2번에   3개 항목 입력"
   ]
  },
  {
   "cell_type": "code",
   "execution_count": 9,
   "id": "36e762cf",
   "metadata": {},
   "outputs": [
    {
     "name": "stdout",
     "output_type": "stream",
     "text": [
      "word_to_index_앞쪽 10개 확인: [['', 3], ['.', 4], ['영화', 5], ['다', 6], ['고', 7], ['하', 8], ['을', 9], ['보', 10], [',', 11], ['게', 12]]\n",
      "len(word_to_index) 9997\n"
     ]
    }
   ],
   "source": [
    "# word_to_index의 첫 인덱스위치에 '<BOS>' 있는지 확인\n",
    "print(\"word_to_index_앞쪽 10개 확인:\",[[key,value] for key,value in word_to_index.items()][:10] )\n",
    "\n",
    "print(\"len(word_to_index)\",len(word_to_index))   # 3개가 비어있슴"
   ]
  },
  {
   "cell_type": "code",
   "execution_count": 10,
   "id": "74b7c5f7",
   "metadata": {},
   "outputs": [
    {
     "name": "stdout",
     "output_type": "stream",
     "text": [
      "word_to_index_추가된 항목 재확인: [['금기', 9998], ['부셔', 9999], ['<BOS>', 0], ['<PAD>', 1], ['<UNK>', 2]]\n",
      "<BOS>\n",
      "3\n",
      ".\n",
      "더 빙 진짜 짜증 나 네요 목소리\n",
      "라벨:  0\n",
      "8\n",
      "<BOS>\n",
      "보정완료 OK\n"
     ]
    }
   ],
   "source": [
    "# <BOS>, <PAD>,  <UNK> 3항목에 인덱스 0,1,2  보정값 입력\n",
    "word_to_index[\"<BOS>\"] = int(0)\n",
    "word_to_index[\"<PAD>\"] = int(1)\n",
    "word_to_index[\"<UNK>\"] = int(2)  # unknown\n",
    "print(\"word_to_index_추가된 항목 재확인:\",[[key,value] for key,value in word_to_index.items()][-5:] )\n",
    "\n",
    "# index_to_word 도 보정\n",
    "index_to_word = {index:word for word, index in word_to_index.items()}\n",
    "\n",
    "print(index_to_word[0])     # '<BOS>' 가 출력\n",
    "print(word_to_index[''])  # 3 이 출력\n",
    "print(index_to_word[4])     # '.' 가 출력\n",
    "\n",
    "# 보정 후 x_train[0] 데이터 확인: \n",
    "print(get_decoded_sentence(X_train[0], index_to_word))\n",
    "print('라벨: ', y_train[0])  # 1번째 리뷰데이터의 라벨\n",
    "print(len(X_train[0]))\n",
    "print(index_to_word[y_train[0]])\n",
    "print(\"보정완료 OK\")"
   ]
  },
  {
   "cell_type": "markdown",
   "id": "616a0ee1",
   "metadata": {},
   "source": [
    "##### (4) keras.preprocessing.sequence.pad_sequences 을 활용한 패딩 추가"
   ]
  },
  {
   "cell_type": "code",
   "execution_count": 11,
   "id": "f80e7ad1",
   "metadata": {},
   "outputs": [
    {
     "name": "stdout",
     "output_type": "stream",
     "text": [
      "len(word_to_index): 10000\n",
      "X_train [[31, 70, 869, 38, 223, 19, 32, 723], [994, 503, 535, 662, 5, 117, 1591, 52, 894, 975, 14, 43, 376], [23, 201, 3]] 146026 <class 'int'>\n",
      "X_train 내의 인덱스 type확인: float 0 int 2176140 str 0 etc 0 총개수 2176140\n",
      "X_train: [[   1    1    1    1    1    1    1    1    1    1    1    1    1    1\n",
      "     1    1    1    1    1    1    1    1    1    1    1    1    1    1\n",
      "     1    1    1   31   70  869   38  223   19   32  723]\n",
      " [   1    1    1    1    1    1    1    1    1    1    1    1    1    1\n",
      "     1    1    1    1    1    1    1    1    1    1    1    1  994  503\n",
      "   535  662    5  117 1591   52  894  975   14   43  376]\n",
      " [   1    1    1    1    1    1    1    1    1    1    1    1    1    1\n",
      "     1    1    1    1    1    1    1    1    1    1    1    1    1    1\n",
      "     1    1    1    1    1    1    1    1   23  201    3]] (146026, 39)\n",
      "X_test: [[   1    1    1    1    1    1    1    1    1    1    1    1    1    1\n",
      "     1    1    1    1    1    1    1    1    1    1    1    1    1    1\n",
      "     1    1    1    1    1    1    1    1    1  809  129]\n",
      " [   1    1    1    1    1    1    1    1    1    1    1    1    1    1\n",
      "     1    1    1    1    1    1    1    1    1    1    1    1   82  113\n",
      "    56  920  326   43   37   98   36  617 3449   71  885]\n",
      " [   1    1    1    1    1    1    1    1    1    1    1    1    1    1\n",
      "     1    1    1    1    1    1    1    1    1    1    1    1   94    8\n",
      "    14   43  227  135  343  127  150   53    7   10   41]] (49084, 39)\n"
     ]
    }
   ],
   "source": [
    "### keras.preprocessing.sequence.pad_sequences 을 활용한 패딩 추가 및 max_length로 일정길이 맞춤\n",
    "print(\"len(word_to_index):\",len(word_to_index))\n",
    "print(\"X_train\", X_train[:3], len(X_train), type(X_train[0][0]))\n",
    "\n",
    "# type 확인: train 내의 word index의 type check: 모두 int 임, 총개수 2,176,140개\n",
    "floatlist = [];intlist = [];strlist = [];etclist = []\n",
    "for X in X_train:\n",
    "    for idx in X:\n",
    "        if type(idx) == float:\n",
    "            floatlist.append(idx)            \n",
    "        elif type(idx) == int:\n",
    "            intlist.append(idx)  \n",
    "        elif type(idx) == str:\n",
    "            strlist.append(idx)   \n",
    "        else:\n",
    "            etclist.append(idx)\n",
    "print(\"X_train 내의 인덱스 type확인:\",\"float\",len(floatlist),\"int\",len(intlist),\"str\",len(strlist),\n",
    "       \"etc\",len(etclist),\"총개수\", len(floatlist)+ len(intlist)+ len(strlist)+len(etclist)) # int만 총개수 2,176,140\n",
    "\n",
    "\n",
    "# 숫자로 변환된 텍스트 데이터를 numpy array로 변경. \n",
    "X_train = np.array(X_train, dtype='object')\n",
    "X_test = np.array(X_test, dtype='object')\n",
    "\n",
    "## padding된 데이터: padding된 곳은 1 이 입력됨\n",
    "X_train = tf.keras.preprocessing.sequence.pad_sequences(X_train,\n",
    "                                                       value=word_to_index['<PAD>'], # <PAD> index 값 : 1\n",
    "                                                       padding='pre',           # 성능향상위해 'pre'적용\n",
    "                                                       maxlen=max_length)       # maxlen = 39\n",
    "X_test = tf.keras.preprocessing.sequence.pad_sequences(X_test,\n",
    "                                                       value=word_to_index['<PAD>'], # <PAD> index 값 : 1\n",
    "                                                       padding='pre',           # 성능향상위해 'pre'적용\n",
    "                                                       maxlen=max_length)       # maxlen = 39\n",
    "print(\"X_train:\", X_train[:3],X_train.shape)\n",
    "print(\"X_test:\", X_test[:3],X_test.shape)\n"
   ]
  },
  {
   "cell_type": "markdown",
   "id": "5afa19f9",
   "metadata": {},
   "source": [
    "### 4. 모델 구성 및 validation set 구성\n",
    "\n",
    "##### 모델은 3가지 이상 다양하게 구성"
   ]
  },
  {
   "cell_type": "code",
   "execution_count": 12,
   "id": "8da70204",
   "metadata": {},
   "outputs": [],
   "source": [
    "## Hyper param 설정\n",
    "vocab_size = len(word_to_index)   # 어휘 사전의 크기(10,000개의 단어)\n",
    "\n",
    "word_vector_dim = 16  # 워드 벡터의 차원 수\n",
    "hidden_unit = 16\n",
    "drop_rate = 0.2\n",
    "cnn_dense_hidden_unit = 8\n",
    "cnn_filter = 7\n",
    "cnn_maxpool = 4\n",
    "epochs= 20 \n"
   ]
  },
  {
   "cell_type": "markdown",
   "id": "3e06f697",
   "metadata": {},
   "source": [
    "#### (1) LSTM 모델"
   ]
  },
  {
   "cell_type": "code",
   "execution_count": 13,
   "id": "ef9cccc7",
   "metadata": {},
   "outputs": [
    {
     "name": "stdout",
     "output_type": "stream",
     "text": [
      "Model: \"sequential\"\n",
      "_________________________________________________________________\n",
      "Layer (type)                 Output Shape              Param #   \n",
      "=================================================================\n",
      "embedding (Embedding)        (None, None, 16)          160000    \n",
      "_________________________________________________________________\n",
      "dropout (Dropout)            (None, None, 16)          0         \n",
      "_________________________________________________________________\n",
      "lstm (LSTM)                  (None, 16)                2112      \n",
      "_________________________________________________________________\n",
      "dropout_1 (Dropout)          (None, 16)                0         \n",
      "_________________________________________________________________\n",
      "dense (Dense)                (None, 16)                272       \n",
      "_________________________________________________________________\n",
      "dense_1 (Dense)              (None, 1)                 17        \n",
      "=================================================================\n",
      "Total params: 162,401\n",
      "Trainable params: 162,401\n",
      "Non-trainable params: 0\n",
      "_________________________________________________________________\n"
     ]
    }
   ],
   "source": [
    "## LSTM 모델\n",
    "\n",
    "model_lstm = tf.keras.Sequential()\n",
    "model_lstm.add(tf.keras.layers.Embedding(vocab_size, word_vector_dim, input_shape=(None,)))\n",
    "model_lstm.add(tf.keras.layers.Dropout(drop_rate))\n",
    "model_lstm.add(tf.keras.layers.LSTM(hidden_unit)) \n",
    "model_lstm.add(tf.keras.layers.Dropout(drop_rate))\n",
    "model_lstm.add(tf.keras.layers.Dense(hidden_unit, activation='relu'))\n",
    "model_lstm.add(tf.keras.layers.Dense(1, activation='sigmoid'))  # 최종 출력은 긍정/부정을 나타내는 1dim 입니다.\n",
    "\n",
    "model_lstm.summary()"
   ]
  },
  {
   "cell_type": "markdown",
   "id": "c34836ed",
   "metadata": {},
   "source": [
    "#### (2) GRU 모델"
   ]
  },
  {
   "cell_type": "code",
   "execution_count": 14,
   "id": "ab88caec",
   "metadata": {},
   "outputs": [
    {
     "name": "stdout",
     "output_type": "stream",
     "text": [
      "Model: \"sequential_1\"\n",
      "_________________________________________________________________\n",
      "Layer (type)                 Output Shape              Param #   \n",
      "=================================================================\n",
      "embedding_1 (Embedding)      (None, None, 16)          160000    \n",
      "_________________________________________________________________\n",
      "dropout_2 (Dropout)          (None, None, 16)          0         \n",
      "_________________________________________________________________\n",
      "gru (GRU)                    (None, 16)                1632      \n",
      "_________________________________________________________________\n",
      "dropout_3 (Dropout)          (None, 16)                0         \n",
      "_________________________________________________________________\n",
      "dense_2 (Dense)              (None, 16)                272       \n",
      "_________________________________________________________________\n",
      "dense_3 (Dense)              (None, 1)                 17        \n",
      "=================================================================\n",
      "Total params: 161,921\n",
      "Trainable params: 161,921\n",
      "Non-trainable params: 0\n",
      "_________________________________________________________________\n"
     ]
    }
   ],
   "source": [
    "## GRU 모델\n",
    "\n",
    "model_gru = tf.keras.Sequential()\n",
    "model_gru.add(tf.keras.layers.Embedding(vocab_size, word_vector_dim, input_shape=(None,)))\n",
    "model_gru.add(tf.keras.layers.Dropout(drop_rate))\n",
    "model_gru.add(tf.keras.layers.GRU(hidden_unit))\n",
    "model_gru.add(tf.keras.layers.Dropout(drop_rate))\n",
    "model_gru.add(tf.keras.layers.Dense(hidden_unit, activation='relu'))\n",
    "model_gru.add(tf.keras.layers.Dense(1, activation='sigmoid'))\n",
    "#callback\n",
    "es = tf.keras.callbacks.EarlyStopping(monitor='val_loss', mode='min', verbose=1, patience=4)\n",
    "mc = tf.keras.callbacks.ModelCheckpoint('/aiffel/aiffel/sentiment_classification/model/GRU_model.h5', monitor='val_accuracy', mode='max', verbose=1, save_best_only=True)\n",
    "\n",
    "model_gru.summary()"
   ]
  },
  {
   "cell_type": "markdown",
   "id": "a848d820",
   "metadata": {},
   "source": [
    "#### (3) CNN 모델"
   ]
  },
  {
   "cell_type": "code",
   "execution_count": 15,
   "id": "6f322918",
   "metadata": {},
   "outputs": [
    {
     "name": "stdout",
     "output_type": "stream",
     "text": [
      "Model: \"sequential_2\"\n",
      "_________________________________________________________________\n",
      "Layer (type)                 Output Shape              Param #   \n",
      "=================================================================\n",
      "embedding_2 (Embedding)      (None, None, 16)          160000    \n",
      "_________________________________________________________________\n",
      "dropout_4 (Dropout)          (None, None, 16)          0         \n",
      "_________________________________________________________________\n",
      "conv1d (Conv1D)              (None, None, 16)          1808      \n",
      "_________________________________________________________________\n",
      "max_pooling1d (MaxPooling1D) (None, None, 16)          0         \n",
      "_________________________________________________________________\n",
      "conv1d_1 (Conv1D)            (None, None, 16)          1808      \n",
      "_________________________________________________________________\n",
      "max_pooling1d_1 (MaxPooling1 (None, None, 16)          0         \n",
      "_________________________________________________________________\n",
      "dropout_5 (Dropout)          (None, None, 16)          0         \n",
      "_________________________________________________________________\n",
      "dense_4 (Dense)              (None, None, 8)           136       \n",
      "_________________________________________________________________\n",
      "dense_5 (Dense)              (None, None, 1)           9         \n",
      "=================================================================\n",
      "Total params: 163,761\n",
      "Trainable params: 163,761\n",
      "Non-trainable params: 0\n",
      "_________________________________________________________________\n"
     ]
    }
   ],
   "source": [
    "## CNN_1D 모델\n",
    "\n",
    "model_cnn = tf.keras.Sequential()\n",
    "model_cnn.add(tf.keras.layers.Embedding(vocab_size, word_vector_dim, input_shape=(None,)))\n",
    "model_cnn.add(tf.keras.layers.Dropout(drop_rate))\n",
    "model_cnn.add(tf.keras.layers.Conv1D(hidden_unit,cnn_filter, activation='relu'))\n",
    "model_cnn.add(tf.keras.layers.MaxPooling1D(cnn_maxpool))\n",
    "model_cnn.add(tf.keras.layers.Conv1D(hidden_unit,cnn_filter, activation='relu'))\n",
    "model_cnn.add(tf.keras.layers.MaxPooling1D())\n",
    "model_cnn.add(tf.keras.layers.Dropout(drop_rate))\n",
    "model_cnn.add(tf.keras.layers.Dense(cnn_dense_hidden_unit, activation='relu'))\n",
    "model_cnn.add(tf.keras.layers.Dense(1, activation='sigmoid'))  # 최종 출력은 긍정/부정을 나타내는 1dim 입니다.\n",
    "\n",
    "model_cnn.summary()\n"
   ]
  },
  {
   "cell_type": "markdown",
   "id": "a1134de5",
   "metadata": {},
   "source": [
    "#### (4) GlobalMaxPooling1D 모델"
   ]
  },
  {
   "cell_type": "code",
   "execution_count": 16,
   "id": "c28008fb",
   "metadata": {},
   "outputs": [
    {
     "name": "stdout",
     "output_type": "stream",
     "text": [
      "Model: \"sequential_3\"\n",
      "_________________________________________________________________\n",
      "Layer (type)                 Output Shape              Param #   \n",
      "=================================================================\n",
      "embedding_3 (Embedding)      (None, None, 16)          160000    \n",
      "_________________________________________________________________\n",
      "global_max_pooling1d (Global (None, 16)                0         \n",
      "_________________________________________________________________\n",
      "dropout_6 (Dropout)          (None, 16)                0         \n",
      "_________________________________________________________________\n",
      "dense_6 (Dense)              (None, 16)                272       \n",
      "_________________________________________________________________\n",
      "dense_7 (Dense)              (None, 1)                 17        \n",
      "=================================================================\n",
      "Total params: 160,289\n",
      "Trainable params: 160,289\n",
      "Non-trainable params: 0\n",
      "_________________________________________________________________\n"
     ]
    }
   ],
   "source": [
    "## GlobalMaxPooling1D() 모델\n",
    "\n",
    "model_gmp = tf.keras.Sequential()\n",
    "model_gmp.add(tf.keras.layers.Embedding(vocab_size, word_vector_dim, input_shape=(None,)))\n",
    "model_gmp.add(tf.keras.layers.GlobalMaxPooling1D())\n",
    "model_gmp.add(tf.keras.layers.Dropout(drop_rate))\n",
    "model_gmp.add(tf.keras.layers.Dense(hidden_unit, activation='relu'))\n",
    "model_gmp.add(tf.keras.layers.Dense(1, activation='sigmoid'))  # 최종 출력은 긍정/부정을 나타내는 1dim 입니다.\n",
    "model_gmp.summary()\n"
   ]
  },
  {
   "cell_type": "markdown",
   "id": "a18d8199",
   "metadata": {},
   "source": [
    "##### (5) validation set 구성: train 80%,  valid 20%"
   ]
  },
  {
   "cell_type": "code",
   "execution_count": 17,
   "id": "6862339f",
   "metadata": {},
   "outputs": [
    {
     "name": "stdout",
     "output_type": "stream",
     "text": [
      "X_train 총개수: 146026 80%분리:  116820 20%분리: 29206\n",
      "partial_X_train 116820 partial_y_train 116820\n",
      "X_val 29206 y_val 29206\n"
     ]
    }
   ],
   "source": [
    "## 총 train data rotn\n",
    "print(\"X_train 총개수:\", len(X_train), \"80%분리: \",int(len(X_train)*0.8), \"20%분리:\",len(X_train)-int(len(X_train)*0.8))\n",
    "train_len = int(len(X_train)*0.8)\n",
    "valid_len = len(X_train)-int(len(X_train)*0.8)\n",
    "\n",
    "# validation set 20% 분리: \n",
    "X_val = X_train[:valid_len]   \n",
    "y_val = y_train[:valid_len]\n",
    "\n",
    "# validation set을 제외한 나머지 15000건\n",
    "partial_X_train = X_train[valid_len:]  \n",
    "partial_y_train = y_train[valid_len:]\n",
    "\n",
    "print(\"partial_X_train\",len(partial_X_train),\"partial_y_train\",len(partial_y_train))\n",
    "print(\"X_val\",len(X_val), \"y_val\",len(y_val))"
   ]
  },
  {
   "cell_type": "markdown",
   "id": "0b3d573a",
   "metadata": {},
   "source": [
    "### 5. 모델 학습 개시 :  4개 모델\n"
   ]
  },
  {
   "cell_type": "markdown",
   "id": "5e0b3e36",
   "metadata": {},
   "source": [
    "##### (1) LSTM모델 학습"
   ]
  },
  {
   "cell_type": "code",
   "execution_count": 18,
   "id": "ec0d55ee",
   "metadata": {},
   "outputs": [
    {
     "name": "stdout",
     "output_type": "stream",
     "text": [
      "Epoch 1/20\n",
      "229/229 [==============================] - 5s 8ms/step - loss: 0.4791 - accuracy: 0.7817 - val_loss: 0.3579 - val_accuracy: 0.8416\n",
      "Epoch 2/20\n",
      "229/229 [==============================] - 1s 5ms/step - loss: 0.3485 - accuracy: 0.8519 - val_loss: 0.3508 - val_accuracy: 0.8456\n",
      "Epoch 3/20\n",
      "229/229 [==============================] - 1s 5ms/step - loss: 0.3300 - accuracy: 0.8613 - val_loss: 0.3448 - val_accuracy: 0.8498\n",
      "Epoch 4/20\n",
      "229/229 [==============================] - 1s 5ms/step - loss: 0.3199 - accuracy: 0.8676 - val_loss: 0.3476 - val_accuracy: 0.8478\n",
      "Epoch 5/20\n",
      "229/229 [==============================] - 1s 6ms/step - loss: 0.3101 - accuracy: 0.8709 - val_loss: 0.3470 - val_accuracy: 0.8487\n",
      "Epoch 6/20\n",
      "229/229 [==============================] - 1s 5ms/step - loss: 0.3029 - accuracy: 0.8739 - val_loss: 0.3476 - val_accuracy: 0.8471\n",
      "Epoch 7/20\n",
      "229/229 [==============================] - 1s 6ms/step - loss: 0.2950 - accuracy: 0.8774 - val_loss: 0.3512 - val_accuracy: 0.8488\n",
      "Epoch 8/20\n",
      "229/229 [==============================] - 1s 6ms/step - loss: 0.2867 - accuracy: 0.8810 - val_loss: 0.3524 - val_accuracy: 0.8488\n",
      "Epoch 9/20\n",
      "229/229 [==============================] - 1s 6ms/step - loss: 0.2773 - accuracy: 0.8844 - val_loss: 0.3609 - val_accuracy: 0.8476\n",
      "Epoch 10/20\n",
      "229/229 [==============================] - 1s 5ms/step - loss: 0.2676 - accuracy: 0.8887 - val_loss: 0.3635 - val_accuracy: 0.8492\n",
      "Epoch 11/20\n",
      "229/229 [==============================] - 1s 5ms/step - loss: 0.2581 - accuracy: 0.8928 - val_loss: 0.3713 - val_accuracy: 0.8490\n",
      "Epoch 12/20\n",
      "229/229 [==============================] - 1s 6ms/step - loss: 0.2513 - accuracy: 0.8955 - val_loss: 0.3766 - val_accuracy: 0.8509\n",
      "Epoch 13/20\n",
      "229/229 [==============================] - 1s 5ms/step - loss: 0.2416 - accuracy: 0.9000 - val_loss: 0.3854 - val_accuracy: 0.8501\n",
      "Epoch 14/20\n",
      "229/229 [==============================] - 1s 5ms/step - loss: 0.2359 - accuracy: 0.9024 - val_loss: 0.3826 - val_accuracy: 0.8500\n",
      "Epoch 15/20\n",
      "229/229 [==============================] - 1s 5ms/step - loss: 0.2297 - accuracy: 0.9052 - val_loss: 0.3953 - val_accuracy: 0.8497\n",
      "Epoch 16/20\n",
      "229/229 [==============================] - 1s 5ms/step - loss: 0.2237 - accuracy: 0.9078 - val_loss: 0.3929 - val_accuracy: 0.8492\n",
      "Epoch 17/20\n",
      "229/229 [==============================] - 1s 5ms/step - loss: 0.2187 - accuracy: 0.9101 - val_loss: 0.4236 - val_accuracy: 0.8481\n",
      "Epoch 18/20\n",
      "229/229 [==============================] - 1s 5ms/step - loss: 0.2141 - accuracy: 0.9129 - val_loss: 0.4129 - val_accuracy: 0.8444\n",
      "Epoch 19/20\n",
      "229/229 [==============================] - 1s 5ms/step - loss: 0.2090 - accuracy: 0.9141 - val_loss: 0.4232 - val_accuracy: 0.8452\n",
      "Epoch 20/20\n",
      "229/229 [==============================] - 1s 5ms/step - loss: 0.2047 - accuracy: 0.9168 - val_loss: 0.4290 - val_accuracy: 0.8450\n"
     ]
    }
   ],
   "source": [
    "model_lstm.compile(optimizer='adam', loss='binary_crossentropy', metrics=['accuracy'])              \n",
    "  \n",
    "history_lstm = model_lstm.fit(partial_X_train, partial_y_train, epochs=epochs, batch_size=512, validation_data=(X_val, y_val), verbose=1)"
   ]
  },
  {
   "cell_type": "markdown",
   "id": "0b3649d5",
   "metadata": {},
   "source": [
    "##### (2) GRU 모델 학습"
   ]
  },
  {
   "cell_type": "code",
   "execution_count": 19,
   "id": "e063f6b8",
   "metadata": {},
   "outputs": [
    {
     "name": "stdout",
     "output_type": "stream",
     "text": [
      "Epoch 1/20\n",
      "229/229 [==============================] - 3s 7ms/step - loss: 0.4912 - accuracy: 0.7671 - val_loss: 0.3578 - val_accuracy: 0.8436\n",
      "\n",
      "Epoch 00001: val_accuracy improved from -inf to 0.84363, saving model to /aiffel/aiffel/sentiment_classification/model/GRU_model.h5\n",
      "Epoch 2/20\n",
      "229/229 [==============================] - 1s 6ms/step - loss: 0.3506 - accuracy: 0.8522 - val_loss: 0.3471 - val_accuracy: 0.8493\n",
      "\n",
      "Epoch 00002: val_accuracy improved from 0.84363 to 0.84935, saving model to /aiffel/aiffel/sentiment_classification/model/GRU_model.h5\n",
      "Epoch 3/20\n",
      "229/229 [==============================] - 1s 6ms/step - loss: 0.3334 - accuracy: 0.8606 - val_loss: 0.3483 - val_accuracy: 0.8491\n",
      "\n",
      "Epoch 00003: val_accuracy did not improve from 0.84935\n",
      "Epoch 4/20\n",
      "229/229 [==============================] - 1s 6ms/step - loss: 0.3224 - accuracy: 0.8664 - val_loss: 0.3510 - val_accuracy: 0.8489\n",
      "\n",
      "Epoch 00004: val_accuracy did not improve from 0.84935\n",
      "Epoch 5/20\n",
      "229/229 [==============================] - 1s 6ms/step - loss: 0.3156 - accuracy: 0.8696 - val_loss: 0.3501 - val_accuracy: 0.8477\n",
      "\n",
      "Epoch 00005: val_accuracy did not improve from 0.84935\n",
      "Epoch 6/20\n",
      "229/229 [==============================] - 1s 6ms/step - loss: 0.3084 - accuracy: 0.8732 - val_loss: 0.3538 - val_accuracy: 0.8483\n",
      "\n",
      "Epoch 00006: val_accuracy did not improve from 0.84935\n",
      "Epoch 00006: early stopping\n"
     ]
    }
   ],
   "source": [
    "# GRU 모델\n",
    "model_gru.compile(optimizer='adam', loss='binary_crossentropy', metrics=['accuracy'])              \n",
    "  \n",
    "history_gru = model_gru.fit(partial_X_train, partial_y_train, epochs=epochs, callbacks=[es, mc], \n",
    "                           batch_size=512, validation_data=(X_val, y_val), verbose=1)"
   ]
  },
  {
   "cell_type": "markdown",
   "id": "2b48cc57",
   "metadata": {},
   "source": [
    "##### (3) CNN모델 학습"
   ]
  },
  {
   "cell_type": "code",
   "execution_count": 20,
   "id": "ad6a5e84",
   "metadata": {},
   "outputs": [
    {
     "name": "stdout",
     "output_type": "stream",
     "text": [
      "Epoch 1/20\n",
      "229/229 [==============================] - 3s 7ms/step - loss: 0.5713 - accuracy: 0.6816 - val_loss: 0.3946 - val_accuracy: 0.8247\n",
      "Epoch 2/20\n",
      "229/229 [==============================] - 1s 6ms/step - loss: 0.3843 - accuracy: 0.8330 - val_loss: 0.3652 - val_accuracy: 0.8360\n",
      "Epoch 3/20\n",
      "229/229 [==============================] - 1s 6ms/step - loss: 0.3502 - accuracy: 0.8515 - val_loss: 0.3615 - val_accuracy: 0.8381\n",
      "Epoch 4/20\n",
      "229/229 [==============================] - 1s 6ms/step - loss: 0.3278 - accuracy: 0.8614 - val_loss: 0.3629 - val_accuracy: 0.8396\n",
      "Epoch 5/20\n",
      "229/229 [==============================] - 1s 6ms/step - loss: 0.3086 - accuracy: 0.8716 - val_loss: 0.3624 - val_accuracy: 0.8407\n",
      "Epoch 6/20\n",
      "229/229 [==============================] - 1s 6ms/step - loss: 0.2908 - accuracy: 0.8796 - val_loss: 0.3679 - val_accuracy: 0.8385\n",
      "Epoch 7/20\n",
      "229/229 [==============================] - 1s 6ms/step - loss: 0.2740 - accuracy: 0.8875 - val_loss: 0.3763 - val_accuracy: 0.8371\n",
      "Epoch 8/20\n",
      "229/229 [==============================] - 1s 6ms/step - loss: 0.2588 - accuracy: 0.8945 - val_loss: 0.3840 - val_accuracy: 0.8383\n",
      "Epoch 9/20\n",
      "229/229 [==============================] - 1s 6ms/step - loss: 0.2456 - accuracy: 0.9001 - val_loss: 0.3932 - val_accuracy: 0.8367\n",
      "Epoch 10/20\n",
      "229/229 [==============================] - 1s 6ms/step - loss: 0.2327 - accuracy: 0.9061 - val_loss: 0.4065 - val_accuracy: 0.8345\n",
      "Epoch 11/20\n",
      "229/229 [==============================] - 1s 6ms/step - loss: 0.2245 - accuracy: 0.9085 - val_loss: 0.4155 - val_accuracy: 0.8345\n",
      "Epoch 12/20\n",
      "229/229 [==============================] - 1s 6ms/step - loss: 0.2149 - accuracy: 0.9123 - val_loss: 0.4226 - val_accuracy: 0.8317\n",
      "Epoch 13/20\n",
      "229/229 [==============================] - 1s 6ms/step - loss: 0.2066 - accuracy: 0.9157 - val_loss: 0.4372 - val_accuracy: 0.8330\n",
      "Epoch 14/20\n",
      "229/229 [==============================] - 1s 6ms/step - loss: 0.2003 - accuracy: 0.9186 - val_loss: 0.4423 - val_accuracy: 0.8315\n",
      "Epoch 15/20\n",
      "229/229 [==============================] - 1s 6ms/step - loss: 0.1941 - accuracy: 0.9212 - val_loss: 0.4490 - val_accuracy: 0.8325\n",
      "Epoch 16/20\n",
      "229/229 [==============================] - 1s 6ms/step - loss: 0.1916 - accuracy: 0.9223 - val_loss: 0.4507 - val_accuracy: 0.8308\n",
      "Epoch 17/20\n",
      "229/229 [==============================] - 1s 6ms/step - loss: 0.1871 - accuracy: 0.9240 - val_loss: 0.4583 - val_accuracy: 0.8300\n",
      "Epoch 18/20\n",
      "229/229 [==============================] - 1s 6ms/step - loss: 0.1812 - accuracy: 0.9261 - val_loss: 0.4716 - val_accuracy: 0.8289\n",
      "Epoch 19/20\n",
      "229/229 [==============================] - 1s 6ms/step - loss: 0.1788 - accuracy: 0.9265 - val_loss: 0.4710 - val_accuracy: 0.8298\n",
      "Epoch 20/20\n",
      "229/229 [==============================] - 1s 6ms/step - loss: 0.1742 - accuracy: 0.9291 - val_loss: 0.4864 - val_accuracy: 0.8298\n"
     ]
    }
   ],
   "source": [
    "model_cnn.compile(optimizer='adam', loss='binary_crossentropy', metrics=['accuracy'])              \n",
    "  \n",
    "history_cnn = model_cnn.fit(partial_X_train, partial_y_train, epochs=epochs, batch_size=512, validation_data=(X_val, y_val), verbose=1)"
   ]
  },
  {
   "cell_type": "markdown",
   "id": "e7671056",
   "metadata": {},
   "source": [
    "##### (4) GlobalMaxPooling1D 모델 학습"
   ]
  },
  {
   "cell_type": "code",
   "execution_count": 21,
   "id": "f8e9015b",
   "metadata": {},
   "outputs": [
    {
     "name": "stdout",
     "output_type": "stream",
     "text": [
      "Epoch 1/20\n",
      "229/229 [==============================] - 1s 4ms/step - loss: 0.5739 - accuracy: 0.7323 - val_loss: 0.4134 - val_accuracy: 0.8166\n",
      "Epoch 2/20\n",
      "229/229 [==============================] - 1s 4ms/step - loss: 0.3996 - accuracy: 0.8227 - val_loss: 0.3646 - val_accuracy: 0.8378\n",
      "Epoch 3/20\n",
      "229/229 [==============================] - 1s 4ms/step - loss: 0.3598 - accuracy: 0.8450 - val_loss: 0.3558 - val_accuracy: 0.8429\n",
      "Epoch 4/20\n",
      "229/229 [==============================] - 1s 4ms/step - loss: 0.3382 - accuracy: 0.8556 - val_loss: 0.3543 - val_accuracy: 0.8427\n",
      "Epoch 5/20\n",
      "229/229 [==============================] - 1s 4ms/step - loss: 0.3239 - accuracy: 0.8629 - val_loss: 0.3556 - val_accuracy: 0.8432\n",
      "Epoch 6/20\n",
      "229/229 [==============================] - 1s 4ms/step - loss: 0.3107 - accuracy: 0.8694 - val_loss: 0.3573 - val_accuracy: 0.8438\n",
      "Epoch 7/20\n",
      "229/229 [==============================] - 1s 4ms/step - loss: 0.3034 - accuracy: 0.8722 - val_loss: 0.3612 - val_accuracy: 0.8438\n",
      "Epoch 8/20\n",
      "229/229 [==============================] - 1s 4ms/step - loss: 0.2955 - accuracy: 0.8766 - val_loss: 0.3643 - val_accuracy: 0.8445\n",
      "Epoch 9/20\n",
      "229/229 [==============================] - 1s 4ms/step - loss: 0.2888 - accuracy: 0.8787 - val_loss: 0.3690 - val_accuracy: 0.8426\n",
      "Epoch 10/20\n",
      "229/229 [==============================] - 1s 4ms/step - loss: 0.2836 - accuracy: 0.8808 - val_loss: 0.3720 - val_accuracy: 0.8412\n",
      "Epoch 11/20\n",
      "229/229 [==============================] - 1s 4ms/step - loss: 0.2775 - accuracy: 0.8837 - val_loss: 0.3756 - val_accuracy: 0.8401\n",
      "Epoch 12/20\n",
      "229/229 [==============================] - 1s 3ms/step - loss: 0.2737 - accuracy: 0.8874 - val_loss: 0.3779 - val_accuracy: 0.8404\n",
      "Epoch 13/20\n",
      "229/229 [==============================] - 1s 4ms/step - loss: 0.2693 - accuracy: 0.8887 - val_loss: 0.3825 - val_accuracy: 0.8403\n",
      "Epoch 14/20\n",
      "229/229 [==============================] - 1s 4ms/step - loss: 0.2661 - accuracy: 0.8897 - val_loss: 0.3861 - val_accuracy: 0.8379\n",
      "Epoch 15/20\n",
      "229/229 [==============================] - 1s 4ms/step - loss: 0.2625 - accuracy: 0.8924 - val_loss: 0.3890 - val_accuracy: 0.8383\n",
      "Epoch 16/20\n",
      "229/229 [==============================] - 1s 4ms/step - loss: 0.2586 - accuracy: 0.8934 - val_loss: 0.3906 - val_accuracy: 0.8395\n",
      "Epoch 17/20\n",
      "229/229 [==============================] - 1s 4ms/step - loss: 0.2555 - accuracy: 0.8954 - val_loss: 0.3923 - val_accuracy: 0.8388\n",
      "Epoch 18/20\n",
      "229/229 [==============================] - 1s 4ms/step - loss: 0.2519 - accuracy: 0.8972 - val_loss: 0.3965 - val_accuracy: 0.8380\n",
      "Epoch 19/20\n",
      "229/229 [==============================] - 1s 4ms/step - loss: 0.2495 - accuracy: 0.8967 - val_loss: 0.3992 - val_accuracy: 0.8379\n",
      "Epoch 20/20\n",
      "229/229 [==============================] - 1s 4ms/step - loss: 0.2478 - accuracy: 0.8978 - val_loss: 0.4019 - val_accuracy: 0.8374\n"
     ]
    }
   ],
   "source": [
    "model_gmp.compile(optimizer='adam', loss='binary_crossentropy', metrics=['accuracy'])              \n",
    "  \n",
    "history_gmp = model_gmp.fit(partial_X_train, partial_y_train, epochs=epochs, batch_size=512, validation_data=(X_val, y_val), verbose=1)"
   ]
  },
  {
   "cell_type": "markdown",
   "id": "165a8c7d",
   "metadata": {},
   "source": [
    "### 6. test data 로 모델별 성능평가"
   ]
  },
  {
   "cell_type": "markdown",
   "id": "c132d397",
   "metadata": {},
   "source": [
    "#### (1) LSTM 모델"
   ]
  },
  {
   "cell_type": "code",
   "execution_count": 22,
   "id": "6a3d4bcb",
   "metadata": {},
   "outputs": [
    {
     "name": "stdout",
     "output_type": "stream",
     "text": [
      "1534/1534 - 3s - loss: 0.4333 - accuracy: 0.8416\n",
      "results_lstm [0.433331161737442, 0.8415777087211609]\n"
     ]
    }
   ],
   "source": [
    "## LSTM 모델 성능평가\n",
    "results_lstm = model_lstm.evaluate(X_test,  y_test, verbose=2)\n",
    "\n",
    "print(\"results_lstm\", results_lstm)"
   ]
  },
  {
   "cell_type": "markdown",
   "id": "02f22b3d",
   "metadata": {},
   "source": [
    "#### (2) GRU 모델"
   ]
  },
  {
   "cell_type": "code",
   "execution_count": 23,
   "id": "260c5d62",
   "metadata": {},
   "outputs": [
    {
     "name": "stdout",
     "output_type": "stream",
     "text": [
      "1534/1534 - 3s - loss: 0.3603 - accuracy: 0.8437\n",
      "results_gru [0.3602946102619171, 0.8436965346336365]\n"
     ]
    }
   ],
   "source": [
    "## GRU 모델 성능평가\n",
    "loaded_model_gru = tf.keras.models.load_model('/aiffel/aiffel/sentiment_classification/model/GRU_model.h5')\n",
    "results_gru =loaded_model_gru.evaluate(X_test,  y_test, verbose=2)\n",
    "\n",
    "print(\"results_gru\", results_gru)"
   ]
  },
  {
   "cell_type": "markdown",
   "id": "7387a073",
   "metadata": {},
   "source": [
    "#### (3) CNN 모델"
   ]
  },
  {
   "cell_type": "code",
   "execution_count": 24,
   "id": "835df9ce",
   "metadata": {},
   "outputs": [
    {
     "name": "stdout",
     "output_type": "stream",
     "text": [
      "1534/1534 - 3s - loss: 0.4912 - accuracy: 0.8245\n",
      "results_cnn [0.49117428064346313, 0.824545681476593]\n"
     ]
    }
   ],
   "source": [
    "## CNN 모델 성능평가\n",
    "results_cnn = model_cnn.evaluate(X_test,  y_test, verbose=2)\n",
    "\n",
    "print(\"results_cnn\", results_cnn)"
   ]
  },
  {
   "cell_type": "markdown",
   "id": "1896839e",
   "metadata": {},
   "source": [
    "#### (4) GlobalMaxPooling 모델"
   ]
  },
  {
   "cell_type": "code",
   "execution_count": 25,
   "id": "34a1198a",
   "metadata": {},
   "outputs": [
    {
     "name": "stdout",
     "output_type": "stream",
     "text": [
      "1534/1534 - 2s - loss: 0.4058 - accuracy: 0.8332\n",
      "results_gmp [0.40577834844589233, 0.8331839442253113]\n"
     ]
    }
   ],
   "source": [
    "## GlobalMaxPooling 모델 성능평가\n",
    "results_gmp = model_gmp.evaluate(X_test,  y_test, verbose=2)\n",
    "\n",
    "print(\"results_gmp\", results_gmp)"
   ]
  },
  {
   "cell_type": "markdown",
   "id": "de53600b",
   "metadata": {},
   "source": [
    "### 7. 모델별 Loss, Accuracy 그래프 시각화"
   ]
  },
  {
   "cell_type": "markdown",
   "id": "610f1c4c",
   "metadata": {},
   "source": [
    "#### (1) LSTM 모델"
   ]
  },
  {
   "cell_type": "code",
   "execution_count": 26,
   "id": "942dc332",
   "metadata": {},
   "outputs": [
    {
     "name": "stdout",
     "output_type": "stream",
     "text": [
      "dict_keys(['loss', 'accuracy', 'val_loss', 'val_accuracy'])\n"
     ]
    },
    {
     "data": {
      "image/png": "[encoded data removed]",
      "text/plain": [
       "<Figure size 432x288 with 2 Axes>"
      ]
     },
     "metadata": {
      "needs_background": "light"
     },
     "output_type": "display_data"
    }
   ],
   "source": [
    "history_lstm = history_lstm.history\n",
    "print(history_lstm.keys()) \n",
    "\n",
    "acc = history_lstm['accuracy']\n",
    "val_acc = history_lstm['val_accuracy']\n",
    "loss = history_lstm['loss']\n",
    "val_loss = history_lstm['val_loss']\n",
    "\n",
    "epochs = range(1, len(acc) + 1)\n",
    "\n",
    "# LOSS\n",
    "plt.subplot(1,2,1)\n",
    "plt.plot(epochs, loss, 'bo', label='Training loss')\n",
    "plt.plot(epochs, val_loss, 'b', label='Validation loss')\n",
    "plt.title('LSTM Training and validation loss')\n",
    "plt.xlabel('Epochs')\n",
    "plt.ylabel('Loss')\n",
    "plt.legend()\n",
    "\n",
    "# ACCURACY\n",
    "#plt.clf()   # 그림을 초기화합니다\n",
    "plt.subplot(1,2,2)\n",
    "plt.plot(epochs, acc, 'bo', label='Training acc')\n",
    "plt.plot(epochs, val_acc, 'b', label='Validation acc')\n",
    "plt.title('LSTM Training and validation accuracy')\n",
    "plt.xlabel('Epochs')\n",
    "plt.ylabel('Accuracy')\n",
    "plt.legend()\n",
    "plt.tight_layout()\n",
    "plt.show()"
   ]
  },
  {
   "cell_type": "markdown",
   "id": "f1d6cd41",
   "metadata": {},
   "source": [
    "#### (2) GRU 모델"
   ]
  },
  {
   "cell_type": "code",
   "execution_count": 27,
   "id": "58c690e9",
   "metadata": {},
   "outputs": [
    {
     "name": "stdout",
     "output_type": "stream",
     "text": [
      "dict_keys(['loss', 'accuracy', 'val_loss', 'val_accuracy'])\n"
     ]
    },
    {
     "data": {
      "image/png": "[encoded data removed]",
      "text/plain": [
       "<Figure size 432x288 with 2 Axes>"
      ]
     },
     "metadata": {
      "needs_background": "light"
     },
     "output_type": "display_data"
    }
   ],
   "source": [
    "history_gru = history_gru.history\n",
    "print(history_gru.keys()) \n",
    "\n",
    "acc = history_gru['accuracy']\n",
    "val_acc = history_gru['val_accuracy']\n",
    "loss = history_gru['loss']\n",
    "val_loss = history_gru['val_loss']\n",
    "\n",
    "epochs = range(1, len(acc) + 1)\n",
    "\n",
    "# LOSS\n",
    "plt.subplot(1,2,1)\n",
    "plt.plot(epochs, loss, 'bo', label='Training loss')\n",
    "plt.plot(epochs, val_loss, 'b', label='Validation loss')\n",
    "plt.title('GRU Training and validation loss')\n",
    "plt.xlabel('Epochs')\n",
    "plt.ylabel('Loss')\n",
    "plt.legend()\n",
    "\n",
    "# ACCURACY\n",
    "#plt.clf()   # 그림을 초기화합니다\n",
    "plt.subplot(1,2,2)\n",
    "plt.plot(epochs, acc, 'bo', label='Training acc')\n",
    "plt.plot(epochs, val_acc, 'b', label='Validation acc')\n",
    "plt.title('GRU Training and validation accuracy')\n",
    "plt.xlabel('Epochs')\n",
    "plt.ylabel('Accuracy')\n",
    "plt.legend()\n",
    "plt.tight_layout()\n",
    "plt.show()"
   ]
  },
  {
   "cell_type": "markdown",
   "id": "68a3adb1",
   "metadata": {},
   "source": [
    "#### (3) CNN 모델"
   ]
  },
  {
   "cell_type": "code",
   "execution_count": 28,
   "id": "92c098d6",
   "metadata": {},
   "outputs": [
    {
     "name": "stdout",
     "output_type": "stream",
     "text": [
      "dict_keys(['loss', 'accuracy', 'val_loss', 'val_accuracy'])\n"
     ]
    },
    {
     "data": {
      "image/png": "[encoded data removed]",
      "text/plain": [
       "<Figure size 432x288 with 2 Axes>"
      ]
     },
     "metadata": {
      "needs_background": "light"
     },
     "output_type": "display_data"
    }
   ],
   "source": [
    "history_cnn = history_cnn.history\n",
    "print(history_cnn.keys()) \n",
    "\n",
    "acc = history_cnn['accuracy']\n",
    "val_acc = history_cnn['val_accuracy']\n",
    "loss = history_cnn['loss']\n",
    "val_loss = history_cnn['val_loss']\n",
    "\n",
    "epochs = range(1, len(acc) + 1)\n",
    "\n",
    "# LOSS\n",
    "plt.subplot(1,2,1)\n",
    "plt.plot(epochs, loss, 'bo', label='Training loss')\n",
    "plt.plot(epochs, val_loss, 'b', label='Validation loss')\n",
    "plt.title('CNN Training and validation loss')\n",
    "plt.xlabel('Epochs')\n",
    "plt.ylabel('Loss')\n",
    "plt.legend()\n",
    "\n",
    "# ACCURACY\n",
    "#plt.clf()   # 그림을 초기화합니다\n",
    "plt.subplot(1,2,2)\n",
    "plt.plot(epochs, acc, 'bo', label='Training acc')\n",
    "plt.plot(epochs, val_acc, 'b', label='Validation acc')\n",
    "plt.title('CNN Training and validation accuracy')\n",
    "plt.xlabel('Epochs')\n",
    "plt.ylabel('Accuracy')\n",
    "plt.legend()\n",
    "plt.tight_layout()\n",
    "plt.show()"
   ]
  },
  {
   "cell_type": "markdown",
   "id": "e925d233",
   "metadata": {},
   "source": [
    "#### (4) GlobalMaxPooling 모델"
   ]
  },
  {
   "cell_type": "code",
   "execution_count": 29,
   "id": "30b3b1a6",
   "metadata": {},
   "outputs": [
    {
     "name": "stdout",
     "output_type": "stream",
     "text": [
      "dict_keys(['loss', 'accuracy', 'val_loss', 'val_accuracy'])\n"
     ]
    },
    {
     "data": {
      "image/png": "[encoded data removed]",
      "text/plain": [
       "<Figure size 432x288 with 2 Axes>"
      ]
     },
     "metadata": {
      "needs_background": "light"
     },
     "output_type": "display_data"
    }
   ],
   "source": [
    "history_gmp = history_gmp.history\n",
    "print(history_gmp.keys()) \n",
    "\n",
    "acc = history_gmp['accuracy']\n",
    "val_acc = history_gmp['val_accuracy']\n",
    "loss = history_gmp['loss']\n",
    "val_loss = history_gmp['val_loss']\n",
    "\n",
    "epochs = range(1, len(acc) + 1)\n",
    "\n",
    "# LOSS\n",
    "plt.subplot(1,2,1)\n",
    "plt.plot(epochs, loss, 'bo', label='Training loss')\n",
    "plt.plot(epochs, val_loss, 'b', label='Validation loss')\n",
    "plt.title('LSTM Training and validation loss')\n",
    "plt.xlabel('Epochs')\n",
    "plt.ylabel('Loss')\n",
    "plt.legend()\n",
    "\n",
    "# ACCURACY\n",
    "#plt.clf()   # 그림을 초기화합니다\n",
    "plt.subplot(1,2,2)\n",
    "plt.plot(epochs, acc, 'bo', label='Training acc')\n",
    "plt.plot(epochs, val_acc, 'b', label='Validation acc')\n",
    "plt.title('LSTM Training and validation accuracy')\n",
    "plt.xlabel('Epochs')\n",
    "plt.ylabel('Accuracy')\n",
    "plt.legend()\n",
    "plt.tight_layout()\n",
    "plt.show()"
   ]
  },
  {
   "cell_type": "markdown",
   "id": "ef61abd9",
   "metadata": {},
   "source": [
    "### 8. 학습된 Embedding Layer 분석\n",
    "\n",
    "##### 학습된  Embedding 레이어분석은 4개모델 공통이므로, 시계열 대표모델인 LSTM모델것으로 사용함"
   ]
  },
  {
   "cell_type": "code",
   "execution_count": 30,
   "id": "1f99cab4",
   "metadata": {},
   "outputs": [
    {
     "name": "stdout",
     "output_type": "stream",
     "text": [
      "(10000, 16)\n"
     ]
    }
   ],
   "source": [
    "## 위에서 학습된 LSTM Embedding레이어의 가중치fmf 별도변수에 저장 \n",
    "embedding_layer = model_lstm.layers[0]\n",
    "weights = embedding_layer.get_weights()[0]\n",
    "print(weights.shape)    # shape: (vocab_size, embedding_dim)"
   ]
  },
  {
   "cell_type": "markdown",
   "id": "6d02d583",
   "metadata": {},
   "source": [
    "##### (1) 학습된 Naver 영화리뷰 Embedding 레이어의 가중치파라메터를 sentiment_classification/data/word2vec_review.txt 파일로 저장"
   ]
  },
  {
   "cell_type": "code",
   "execution_count": 31,
   "id": "8ae17b66",
   "metadata": {},
   "outputs": [
    {
     "name": "stdout",
     "output_type": "stream",
     "text": [
      "vocab_size-4:    9996 word_vector_dim:    16\n",
      "i 2000    index_to_word[i]:    하늘    ' '.join(map(str, list(vectors[i, :]))):    -0.08510645 0.026787367 0.05315216 -0.027269002 -0.033731762 0.012788573 -0.1763829 0.08992536 -0.08403263 -0.07134669 -0.08440052 0.027051046 -0.16184738 0.050130527 -0.053817432 0.00040663866\n",
      "i 4000    index_to_word[i]:    애쓰    ' '.join(map(str, list(vectors[i, :]))):    0.15690735 0.06443951 -0.0932269 -0.010170779 0.052761223 -0.098538816 0.1764295 -0.12253826 -0.12934574 0.07112555 -0.10723549 0.09801276 0.304164 0.07352814 0.19027406 -0.07608477\n",
      "i 6000    index_to_word[i]:    죄악    ' '.join(map(str, list(vectors[i, :]))):    -0.14229505 0.169125 -0.07508739 -0.023661781 0.06510741 -0.03606304 0.022403838 -0.039189484 0.035572685 -0.03513212 -0.2553478 0.013558965 0.029585227 0.06703228 0.10047757 0.0012722787\n",
      "i 8000    index_to_word[i]:    푸하하    ' '.join(map(str, list(vectors[i, :]))):    0.14030655 0.19098844 -0.04504888 -0.15801325 -0.07312924 0.010841778 0.0013864213 -0.0073456923 0.009494543 -0.0113735525 -0.08266315 0.1114777 0.01642524 0.000541975 0.015777282 -0.08379137\n"
     ]
    }
   ],
   "source": [
    "# 학습한 Embedding 파라미터를 파일에 써서 저장: sentiment_classification/data/word2vec.txt\n",
    "word2vec_file_path = os.getenv('HOME')+'/aiffel/sentiment_classification/data/word2vec_review.txt'\n",
    "f = open(word2vec_file_path, 'w')\n",
    "f.write('{} {}\\n'.format(vocab_size-4, word_vector_dim))  # 9996개의 벡터를 얼마 16차원 사이즈로 기재할지 타이틀을 씀\n",
    "print(\"vocab_size-4:   \",vocab_size-4 ,\"word_vector_dim:   \",word_vector_dim)\n",
    "\n",
    "# 단어 개수(에서 특수문자 4개는 제외하고)만큼의 워드 벡터를 파일에 기록 \n",
    "vectors = model_lstm.get_weights()[0]\n",
    "for i in range(4,vocab_size):\n",
    "    f.write('{} {}\\n'.format(index_to_word[i], ' '.join(map(str, list(vectors[i, :])))))\n",
    "    if i%2000 == 0:\n",
    "        # i == 20000번마다 한번씩 프린트\n",
    "        print(\"i\",i, \"   index_to_word[i]:   \",index_to_word[i],\n",
    "              \"   ' '.join(map(str, list(vectors[i, :]))):   \", ' '.join(map(str, list(vectors[i, :]))))\n",
    "f.close()"
   ]
  },
  {
   "cell_type": "markdown",
   "id": "17ef867a",
   "metadata": {},
   "source": [
    "#####  (2) 파일로 저장된 학습된 Naver 영화리뷰 Embedding 레이어를 gensim을 이용해서, 읽어옴"
   ]
  },
  {
   "cell_type": "code",
   "execution_count": 32,
   "id": "53db6b9d",
   "metadata": {},
   "outputs": [
    {
     "name": "stdout",
     "output_type": "stream",
     "text": [
      "봄_vector [-0.05266168  0.11970079  0.01575396 -0.04131782  0.02580307 -0.07703467\n",
      "  0.00636575  0.08058766  0.01872723 -0.0661723  -0.03009054 -0.02375824\n",
      " -0.03910924 -0.0690389  -0.01724928  0.02272314]\n",
      "겨울_vector [-0.24558601 -0.11893274  0.0831153   0.16231097  0.12992293 -0.17516723\n",
      " -0.0433318   0.06614636  0.0520519  -0.06977977  0.00370081 -0.18016317\n",
      " -0.07395176 -0.0828924  -0.04811688  0.08205345]\n"
     ]
    }
   ],
   "source": [
    "## 저장된 Naver 영화리뷰 임베딩레이어 가중치파라메터를 읽어서 word vector로 활용\n",
    "\n",
    "from gensim.models.keyedvectors import Word2VecKeyedVectors\n",
    "\n",
    "word_vectors_simple = Word2VecKeyedVectors.load_word2vec_format(word2vec_file_path, binary=False)\n",
    "vector = word_vectors_simple['봄']\n",
    "print('봄_vector', vector)\n",
    "vector = word_vectors_simple['겨울']\n",
    "print('겨울_vector', vector)\n"
   ]
  },
  {
   "cell_type": "markdown",
   "id": "1c922535",
   "metadata": {},
   "source": [
    "##### (3) similar_by_word등 학습된 임베딩레이어 테스트\n",
    "\n",
    "  ###### similar_by_word 테스트 결과:     8단어를 테스트 해봤는데,'하정우' 1개 단어외는 모두 존재하지 않아서, key오류가 났으며, '하정우'도 별로 유사하지 않은 단어들만 검색됨 ===> 아직 학습이 덜 된것으로 보임\n",
    "  -similar_by_word: 인공지능, 하정우, 미분, 삼성전자,막걸리 5단어검색결과 하정우만 검색되었는데, 거의 비슷하지 않은 단어들이 매칭됨 \n",
    "\n",
    "  -most_similar: positive=['웃음', '기쁨'], negative=['슬픔']으로 해봤는데, 단어들이 없어 key 오류나서, 코드 실행결과생략\n",
    "\n",
    "  -distance: (\"짜장면\", \"짜장면\") (\"개울\", \"비트코인\")의 거리측정해 봤는데, key오류 나서, 코드 실행결과생략\n",
    "\n",
    "  -검토의견: 임베딩이 학습이 덜되어있는 것으로 보임"
   ]
  },
  {
   "cell_type": "code",
   "execution_count": 33,
   "id": "2b4fd1d7",
   "metadata": {},
   "outputs": [
    {
     "data": {
      "text/plain": [
       "[('탔', 0.9507845640182495),\n",
       " ('새로운', 0.9351289868354797),\n",
       " ('빠질', 0.927410364151001),\n",
       " ('스타크래프트', 0.9264448285102844),\n",
       " ('검색어', 0.9214419722557068),\n",
       " ('이럼', 0.9210147261619568),\n",
       " ('주제가', 0.9151312112808228),\n",
       " ('끈끈', 0.9139918684959412),\n",
       " ('이틀', 0.910378634929657),\n",
       " ('후속', 0.909903883934021)]"
      ]
     },
     "execution_count": 33,
     "metadata": {},
     "output_type": "execute_result"
    }
   ],
   "source": [
    "# similar_by_word등 테스트\n",
    "\n",
    "word_vectors_simple.similar_by_word(\"하정우\")"
   ]
  },
  {
   "cell_type": "markdown",
   "id": "ddbbdc38",
   "metadata": {},
   "source": [
    "### 9. 한국어 Word2Vec 임베딩 활용하여 성능 개선\n",
    "\n",
    "한국어 Word2Vec은 /data 폴더 안에 있는 word2vec_ko.model을 활용하세요.\n",
    "\n",
    "한국어 Word2Vec을 활용할 때는 load_word2vec_format() 형태가 아닌 load() 형태로 모델을 불러와주세요. 또한 모델을 활용할 때에는 아래 예시와 같이 .wv를 붙여서 활용합니다. 좀더 자세한 활용법에 대해선 다음 링크들을 참조해주세요.\n",
    "\n",
    "참고 링크1: https://radimrehurek.com/gensim/auto_examples/tutorials/run_word2vec.html#storing-and-loading-models\n",
    "\n",
    "참고 링크2: https://radimrehurek.com/gensim/models/keyedvectors.html"
   ]
  },
  {
   "cell_type": "markdown",
   "id": "7caef506",
   "metadata": {},
   "source": [
    "##### (1) 사전학습된 embedding layer 인 word2vec_ko.model\n",
    "\n",
    "###### voca size 총 302,960 단어존재, dim 100차원"
   ]
  },
  {
   "cell_type": "code",
   "execution_count": 34,
   "id": "58ce9675",
   "metadata": {},
   "outputs": [
    {
     "name": "stdout",
     "output_type": "stream",
     "text": [
      "끝_vector [ 1.038851   -1.1634965   2.2386286   0.8971453  -2.088168   -4.1942534\n",
      " -0.02519768 -0.69813883 -0.2908033  -1.4651134  -2.6863668   0.7999443\n",
      " -0.6957915  -0.5018775   3.5025773   0.21326113 -0.6588098  -1.1900496\n",
      "  0.61399573  2.1247969   0.1549463   3.0840218   3.1680267  -3.9143991\n",
      "  3.6073153   0.5315545  -0.3511633  -1.107248    1.7767181  -0.95981866\n",
      "  2.6072454  -0.00697957 -3.27628     1.558644    0.81922376  1.9231955\n",
      "  3.7026553  -0.53824735 -0.4920138   2.4657123  -2.620749   -0.08950733\n",
      "  0.61453176  1.8866426   0.257866   -2.7827141   2.9129577  -0.6313133\n",
      "  2.0387425  -4.222685   -2.7560544   1.7903243  -1.3080189  -2.5531402\n",
      " -0.43849912 -3.1073573  -0.29090825  5.1817617   1.9604833  -5.1421604\n",
      " -0.71431434  4.5624633  -0.55525815 -3.3019137   1.6761336  -1.9606539\n",
      " -0.2726863   0.2465995   1.2685091   1.6055685   1.8344896   1.2752469\n",
      "  0.99503314 -2.3348706  -0.9290329  -1.5920266   5.693834    1.1132814\n",
      " -0.9603875  -1.970055   -1.0120267  -2.7289615  -2.7759619   3.214084\n",
      "  1.8573734  -1.3495721  -0.10321241  3.434593   -2.8573685  -1.9004927\n",
      " -1.6801298  -2.805677    1.7723105  -0.41865307 -2.310913   -6.2761464\n",
      " -0.8376036   2.4590037   2.1697695  -4.440443  ]\n"
     ]
    }
   ],
   "source": [
    "### 한국어 word2vec 모델: word2vec_ko.model\n",
    "from gensim.models.keyedvectors import Word2VecKeyedVectors \n",
    "\n",
    "word2vec_ko_model_path = os.getenv('HOME')+ '/data/word2vec_ko.model'  \n",
    "\n",
    "word_vectors = Word2VecKeyedVectors.load(word2vec_ko_model_path)\n",
    "vector = word_vectors.wv['끝']\n",
    "print('끝_vector', vector)"
   ]
  },
  {
   "cell_type": "markdown",
   "id": "051f5206",
   "metadata": {},
   "source": [
    "##### (2) similar_by_word 등으로  word2vec_ko.model테스트: \n",
    "\n",
    "아래 코드셀에서 보듯이 8단어를 위 7-(3)에서와 동일하게 해봤는데,상당히 관련성이 있게 매칭된 단어들이 검색됨\n",
    "\n",
    "-similar_by_word: 인공지능, 하정우, 미분, 삼성전자,막걸리 5단어검색결과 모두 유사단어 매칭됨 \n",
    "\n",
    "-most_similar: positive=['웃음', '기쁨'], negative=['슬픔']으로 해봤는데, 상당히 유사한 '즐거움'으로 나오며, 유사도 0.7928로 높음\n",
    "\n",
    "-distance: (\"짜장면\", \"짜장면\"): 0.0 으로 동일하다는 의미임 //   (\"개울\", \"비트코인\"): 1.2 로 관련성이 멀다는 의미\n",
    "\n",
    "##### 비교 검토의견:   7)의 자체 학습한 모델이 비해, 8)의 한국어 word2vec_ko.model은 상당히 관련성및 유사도 매칭학습이 잘되어있는 것으로 보임"
   ]
  },
  {
   "cell_type": "code",
   "execution_count": 35,
   "id": "0e7b0437",
   "metadata": {},
   "outputs": [
    {
     "name": "stdout",
     "output_type": "stream",
     "text": [
      "인공지능_vector [('AI', 0.8461811542510986), ('컴퓨팅', 0.789376437664032), ('가상현실', 0.7639996409416199), ('컴퓨터', 0.7492972016334534), ('IT', 0.7431951761245728), ('블록체인', 0.7353136539459229), ('솔루션', 0.7322530150413513), ('기술', 0.72092604637146), ('로봇', 0.7138661742210388), ('ICT', 0.7124600410461426)]\n",
      "하정우_vector [('설경구', 0.8356397747993469), ('이병헌', 0.8288198113441467), ('임청하', 0.8188225626945496), ('조재현', 0.8113486170768738), ('김희애', 0.8106188774108887), ('황정민', 0.8098660111427307), ('이범수', 0.8093218207359314), ('이덕화', 0.8078502416610718), ('송강호', 0.7987250685691833), ('최지우', 0.7953410744667053)]\n",
      "미분_vector [('적분', 0.8656334280967712), ('다항식', 0.8072242736816406), ('복소수', 0.7974129319190979), ('곱셈', 0.7951776385307312), ('함수', 0.788821280002594), ('텐서', 0.7794451117515564), ('벡터', 0.7712417840957642), ('도함수', 0.7653661370277405), ('연산자', 0.7596789002418518), ('편미분', 0.7555026412010193)]\n",
      "삼성전자_vector [('KT', 0.7436059713363647), ('LG', 0.729961633682251), ('삼성', 0.7171362638473511), ('애플', 0.6759678721427917), ('노키아', 0.674514651298523), ('포스코', 0.6635711789131165), ('SDS', 0.6613402366638184), ('화웨이', 0.6606618165969849), ('도시바', 0.6591808795928955), ('TSMC', 0.6564566493034363)]\n",
      "막걸리_vector [('김치', 0.798259973526001), ('녹차', 0.793211817741394), ('낙지', 0.7905092239379883), ('음료수', 0.7871600985527039), ('다시마', 0.780205249786377), ('딸기', 0.7797395586967468), ('야채', 0.7767908573150635), ('빨래', 0.7730267643928528), ('떡볶이', 0.7674319744110107), ('한우', 0.7630397081375122)]\n",
      "즐거움: 0.7928\n",
      "0.0\n",
      "1.2\n"
     ]
    }
   ],
   "source": [
    "# shape\n",
    "word_vectors.wv.vectors.shape\n",
    "\n",
    "# similar_by_word 테스트\n",
    "vector = word_vectors.wv.similar_by_word('인공지능')\n",
    "print('인공지능_vector',vector)\n",
    "vector = word_vectors.wv.similar_by_word(\"하정우\")\n",
    "print('하정우_vector',vector)\n",
    "vector = word_vectors.wv.similar_by_word(\"미분\")\n",
    "print('미분_vector',vector)\n",
    "vector = word_vectors.wv.similar_by_word(\"삼성전자\")\n",
    "print('삼성전자_vector',vector)\n",
    "vector = word_vectors.wv.similar_by_word(\"막걸리\")\n",
    "print('막걸리_vector',vector)\n",
    "\n",
    "# most_similar / similarity\n",
    "result = word_vectors.wv.most_similar(positive=['웃음', '기쁨'], negative=['슬픔'])\n",
    "most_similar_key, similarity = result[0]  # look at the first match\n",
    "print(f\"{most_similar_key}: {similarity:.4f}\")\n",
    "\n",
    "# distance\n",
    "distance = word_vectors.wv.distance(\"짜장면\", \"짜장면\")\n",
    "print(f\"{distance:.1f}\")\n",
    "distance = word_vectors.wv.distance(\"개울\", \"비트코인\")\n",
    "print(f\"{distance:.1f}\")"
   ]
  },
  {
   "cell_type": "markdown",
   "id": "b45a90f5",
   "metadata": {},
   "source": [
    "### (3) word2vec_ko.model을 [[ LSTM모델 ]] 의 임베딩레이어의 초기화가중치로 사용"
   ]
  },
  {
   "cell_type": "code",
   "execution_count": 36,
   "id": "4887252e",
   "metadata": {},
   "outputs": [
    {
     "name": "stdout",
     "output_type": "stream",
     "text": [
      "embedding_matrix [[1.99491665e-01 1.73960515e-01 6.59555121e-02 4.48212716e-01\n",
      "  3.28879409e-01 3.34866149e-01 8.81768567e-01 3.67951060e-01\n",
      "  2.47002338e-01 3.50364716e-01 8.45663482e-01 4.19736638e-01\n",
      "  7.47475874e-01 6.30289818e-01 7.18551638e-01 7.49268958e-01\n",
      "  1.14044899e-01 4.45133635e-01 7.97064406e-01 5.62423913e-01\n",
      "  1.38710365e-01 8.48931638e-01 3.77854946e-01 8.18532736e-01\n",
      "  6.09119006e-01 8.65925031e-01 9.69232392e-01 7.22264175e-01\n",
      "  4.89081046e-01 9.86238168e-01 3.39541540e-01 9.53202291e-01\n",
      "  5.28441947e-01 1.24529440e-01 3.81780373e-01 9.80519044e-01\n",
      "  5.61808870e-01 7.90993413e-02 7.74811727e-01 2.92000962e-01\n",
      "  6.28310581e-01 7.56039597e-01 7.13738026e-01 2.89042422e-01\n",
      "  1.79962074e-01 5.94949863e-01 6.12637187e-01 2.33102458e-01\n",
      "  3.89151802e-01 9.79618013e-01 4.16447378e-01 9.76209839e-01\n",
      "  7.86312068e-01 6.35973017e-01 1.61310600e-01 6.07348773e-01\n",
      "  4.15787874e-01 1.11330917e-01 4.08231899e-01 1.42986289e-01\n",
      "  2.53002711e-01 5.86025026e-01 7.02018300e-01 3.42265348e-01\n",
      "  4.66812299e-01 8.77099375e-01 7.09695132e-01 1.36140595e-02\n",
      "  1.30585164e-01 8.05313433e-01 2.75992266e-01 2.36750143e-01\n",
      "  3.71079739e-01 5.89464597e-01 6.35373106e-01 6.37809239e-01\n",
      "  5.78875366e-01 7.41186256e-01 6.85333391e-01 7.57904416e-01\n",
      "  7.36430893e-01 5.82674714e-01 3.15728116e-01 4.89258021e-01\n",
      "  4.68927838e-01 2.98924625e-01 8.88955282e-01 8.63445515e-01\n",
      "  4.06807179e-01 6.78253627e-01 6.79701553e-01 7.81996680e-04\n",
      "  4.61845502e-01 6.44685530e-01 7.82269968e-01 8.13907673e-01\n",
      "  9.79932090e-01 8.86780133e-01 9.46512908e-01 7.55502792e-01]] (10000, 100)\n"
     ]
    }
   ],
   "source": [
    "vocab_size = 10000    # 자체학습모델과 동일하게 설정(10,000개의 단어)\n",
    "word_vector_dim = 100  # 한국어 word2vec_ko.model의 벡터차원수\n",
    "embedding_matrix = np.random.rand(vocab_size, word_vector_dim)\n",
    "\n",
    "# embedding_matrix에 Word2Vec 워드 벡터를 단어 하나씩마다 차례차례 카피한다.\n",
    "for i in range(4,vocab_size):\n",
    "    if index_to_word[i] in word_vectors.wv:\n",
    "        embedding_matrix[i] = word_vectors.wv[index_to_word[i]]\n",
    "        \n",
    "print(\"embedding_matrix\",embedding_matrix[:1],embedding_matrix.shape)   # (10000,100)    \n",
    "        "
   ]
  },
  {
   "cell_type": "markdown",
   "id": "3eafa5a8",
   "metadata": {},
   "source": [
    "#### (4) [[  LSTM모델구성및 학습 ]]"
   ]
  },
  {
   "cell_type": "code",
   "execution_count": 37,
   "id": "a190408e",
   "metadata": {},
   "outputs": [
    {
     "name": "stdout",
     "output_type": "stream",
     "text": [
      "Model: \"sequential_4\"\n",
      "_________________________________________________________________\n",
      "Layer (type)                 Output Shape              Param #   \n",
      "=================================================================\n",
      "embedding_4 (Embedding)      (None, 39, 100)           1000000   \n",
      "_________________________________________________________________\n",
      "dropout_7 (Dropout)          (None, 39, 100)           0         \n",
      "_________________________________________________________________\n",
      "lstm_1 (LSTM)                (None, 16)                7488      \n",
      "_________________________________________________________________\n",
      "dropout_8 (Dropout)          (None, 16)                0         \n",
      "_________________________________________________________________\n",
      "dense_8 (Dense)              (None, 16)                272       \n",
      "_________________________________________________________________\n",
      "dense_9 (Dense)              (None, 1)                 17        \n",
      "=================================================================\n",
      "Total params: 1,007,777\n",
      "Trainable params: 1,007,777\n",
      "Non-trainable params: 0\n",
      "_________________________________________________________________\n"
     ]
    }
   ],
   "source": [
    "from tensorflow.keras.initializers import Constant\n",
    "\n",
    "vocab_size = 10000    # 어휘 사전의 크기입니다(10,000개의 단어)\n",
    "word_vector_dim = 100  # 워드 벡터의 차원 수 (변경 가능한 하이퍼파라미터)\n",
    "\n",
    "# 모델 구성: LSTM 모델\n",
    "model_lstm = tf.keras.Sequential()\n",
    "model_lstm.add(tf.keras.layers.Embedding(vocab_size, \n",
    "                                 word_vector_dim, \n",
    "                                 embeddings_initializer=Constant(embedding_matrix),  # 카피한 임베딩을 여기서 활용\n",
    "                                 input_length=max_length,         # 39\n",
    "                                 trainable=True,                   # trainable을 True로 주면 Fine-tuning\n",
    "                                 ))  \n",
    "model_lstm.add(tf.keras.layers.Dropout(0.2))\n",
    "model_lstm.add(tf.keras.layers.LSTM(16)) \n",
    "model_lstm.add(tf.keras.layers.Dropout(0.2))\n",
    "model_lstm.add(tf.keras.layers.Dense(16, activation='relu'))\n",
    "model_lstm.add(tf.keras.layers.Dense(1, activation='sigmoid'))  # 최종 출력은 긍정/부정을 나타내는 1dim 입니다.\n",
    "\n",
    "model_lstm.summary()"
   ]
  },
  {
   "cell_type": "code",
   "execution_count": 39,
   "id": "1519f423",
   "metadata": {},
   "outputs": [
    {
     "name": "stdout",
     "output_type": "stream",
     "text": [
      "Epoch 1/20\n",
      "229/229 [==============================] - 3s 8ms/step - loss: 0.6064 - accuracy: 0.6614 - val_loss: 0.4802 - val_accuracy: 0.7745\n",
      "Epoch 2/20\n",
      "229/229 [==============================] - 1s 6ms/step - loss: 0.4810 - accuracy: 0.7733 - val_loss: 0.4079 - val_accuracy: 0.8164\n",
      "Epoch 3/20\n",
      "229/229 [==============================] - 1s 6ms/step - loss: 0.4285 - accuracy: 0.8051 - val_loss: 0.3816 - val_accuracy: 0.8308\n",
      "Epoch 4/20\n",
      "229/229 [==============================] - 1s 6ms/step - loss: 0.4021 - accuracy: 0.8199 - val_loss: 0.3647 - val_accuracy: 0.8393\n",
      "Epoch 5/20\n",
      "229/229 [==============================] - 1s 6ms/step - loss: 0.3835 - accuracy: 0.8283 - val_loss: 0.3576 - val_accuracy: 0.8434\n",
      "Epoch 6/20\n",
      "229/229 [==============================] - 1s 6ms/step - loss: 0.3684 - accuracy: 0.8376 - val_loss: 0.3522 - val_accuracy: 0.8465\n",
      "Epoch 7/20\n",
      "229/229 [==============================] - 1s 6ms/step - loss: 0.3588 - accuracy: 0.8432 - val_loss: 0.3482 - val_accuracy: 0.8494\n",
      "Epoch 8/20\n",
      "229/229 [==============================] - 1s 6ms/step - loss: 0.3497 - accuracy: 0.8472 - val_loss: 0.3446 - val_accuracy: 0.8517\n",
      "Epoch 9/20\n",
      "229/229 [==============================] - 1s 6ms/step - loss: 0.3417 - accuracy: 0.8521 - val_loss: 0.3427 - val_accuracy: 0.8536\n",
      "Epoch 10/20\n",
      "229/229 [==============================] - 1s 6ms/step - loss: 0.3361 - accuracy: 0.8546 - val_loss: 0.3405 - val_accuracy: 0.8547\n",
      "Epoch 11/20\n",
      "229/229 [==============================] - 1s 6ms/step - loss: 0.3295 - accuracy: 0.8583 - val_loss: 0.3405 - val_accuracy: 0.8553\n",
      "Epoch 12/20\n",
      "229/229 [==============================] - 1s 6ms/step - loss: 0.3239 - accuracy: 0.8606 - val_loss: 0.3389 - val_accuracy: 0.8559\n",
      "Epoch 13/20\n",
      "229/229 [==============================] - 1s 6ms/step - loss: 0.3203 - accuracy: 0.8635 - val_loss: 0.3377 - val_accuracy: 0.8560\n",
      "Epoch 14/20\n",
      "229/229 [==============================] - 1s 6ms/step - loss: 0.3156 - accuracy: 0.8647 - val_loss: 0.3371 - val_accuracy: 0.8567\n",
      "Epoch 15/20\n",
      "229/229 [==============================] - 1s 6ms/step - loss: 0.3107 - accuracy: 0.8675 - val_loss: 0.3377 - val_accuracy: 0.8565\n",
      "Epoch 16/20\n",
      "229/229 [==============================] - 1s 6ms/step - loss: 0.3067 - accuracy: 0.8695 - val_loss: 0.3386 - val_accuracy: 0.8569\n",
      "Epoch 17/20\n",
      "229/229 [==============================] - 1s 6ms/step - loss: 0.3043 - accuracy: 0.8695 - val_loss: 0.3381 - val_accuracy: 0.8580\n",
      "Epoch 18/20\n",
      "229/229 [==============================] - 1s 6ms/step - loss: 0.3000 - accuracy: 0.8736 - val_loss: 0.3377 - val_accuracy: 0.8581\n",
      "Epoch 19/20\n",
      "229/229 [==============================] - 1s 6ms/step - loss: 0.2966 - accuracy: 0.8737 - val_loss: 0.3408 - val_accuracy: 0.8583\n",
      "Epoch 20/20\n",
      "229/229 [==============================] - 1s 6ms/step - loss: 0.2928 - accuracy: 0.8755 - val_loss: 0.3407 - val_accuracy: 0.8594\n"
     ]
    }
   ],
   "source": [
    "# 학습의 진행\n",
    "model_lstm.compile(optimizer='adam', loss='binary_crossentropy', metrics=['accuracy'])              \n",
    "epochs=  20 \n",
    "history_lstm = model_lstm.fit(partial_X_train, partial_y_train, epochs=epochs, batch_size=512, validation_data=(X_val, y_val), verbose=1)\n"
   ]
  },
  {
   "cell_type": "markdown",
   "id": "76194033",
   "metadata": {},
   "source": [
    "#### (5) LSTM 모델성능 테스트\n",
    "\n",
    "##### 전이학습결과 성능개선됨\n",
    "\n",
    "##### Test Accuracy : 85.61%"
   ]
  },
  {
   "cell_type": "code",
   "execution_count": 40,
   "id": "c7255007",
   "metadata": {},
   "outputs": [
    {
     "name": "stdout",
     "output_type": "stream",
     "text": [
      "1534/1534 - 3s - loss: 0.3465 - accuracy: 0.8562\n",
      "[0.34652310609817505, 0.8561649322509766]\n"
     ]
    }
   ],
   "source": [
    "## test data 로 성능평가\n",
    "results_lstm = model_lstm.evaluate(X_test,  y_test, verbose=2)\n",
    "\n",
    "print(results_lstm)"
   ]
  },
  {
   "cell_type": "markdown",
   "id": "8810e560",
   "metadata": {},
   "source": [
    "## 회고"
   ]
  },
  {
   "cell_type": "markdown",
   "id": "d8b5b7d0",
   "metadata": {},
   "source": [
    "본 프로젝트는 Naver 영화리뷰 텍스트 감성분석하기이며, 자연어처리과정을 처음단계부터, 기학습된 임베딩레이어로 전이학습을 해보는 최종단계\n",
    "까지로 구성됩니다.\n",
    "\n",
    "먼저, Naver 영화리뷰데이터 총 200000개(train data 150000,test data 50000)를 로드하였고, 데이터로더함수를 만들었습니다.\n",
    "특히, 함수내에 들어갈 데이터를 정제하기위해서, 별도의 셀을 할애해서, 필요없는 특수문자, 긴공백, 그리고, 한글과 숫자외에는\n",
    "정규표현식을 사용하여,비교적 깔끔하게 정리될수 있게끔 노력하였습니다\n",
    "\n",
    "그리고, 데이터로드함수에는 1. 데이터의 중복 제거/ 2. NaN 결측치 제거 / 3. 데이터 정제 \n",
    "/4. 한국어 토크나이저로 토큰화(Mecab사용하여 토큰화진행했슴)/5. 불용어(Stopwords) 제거 / 6.사전word_to_index 구성 \n",
    "/7. 텍스트 스트링을 사전 인덱스 스트링으로 변환등의 7가지를 처리할수 있도록 한가지한가지 테스트를 해가며,코딩을 하였습니다\n",
    "\n",
    "이렇게 만들어진  데이터로드함수를 통해서, voca size는 10000개,train data는 150000개에서 146026개로 축소정리되었고,\n",
    "test data는 50000개에서 49084개로 축소정리되었습니다.\n",
    "voca size는 10000개이지만, 나중에 3개의 필수단어를 입력시키기위해서, 9997개의 word_to_index, index_to_word를 만들었습니다.\n",
    "\n",
    "모델구성을 위한 데이터분포를 분석해 보았는데, 전체 데이터의 문장길이평균은 14.9자였으며,표준편차는 12.27자, 최대길이는 85자였습니다\n",
    "분포의 대부분은 20자이하였고, 적절한 데이터분포를 위해서, 이상치를 제거하고, 적절한 최대길이를 구하기위해서,\n",
    "수업에서 배운대로, 최대치를 평균 + 2*표준편차까지로 정하기로 하였습니다. \n",
    "이 범위내에 드는 데이터수는 182439개로서, 원래 전체 데이터수의 93.51%로서, 적절해 보입니다.\n",
    "\n",
    "이렇게 해서 구한, '적절한 최대 문장 길이'(pad_sequences maxlen)는  39개였습니다.\n",
    "그리고, 위에서,word_to_index, index_to_word에서 3개가 부족했던 것을  <BOS>,<PAD>,<UNK> 로\n",
    "word_to_index 및 index_to_word 보정처리하여,Voca size는 10000개로 채웠습니다.\n",
    "그러한 후에,'적절한 최대 문장 길이'(pad_sequences maxlen)인 39개보다 작은 문장들은 동일한 길이를 맞추기위해서, padding처리를 했습니다\n",
    "\n",
    "이제 모델 구성및 validation set 구성을 해도 되는 단계에 왔고, 모델은 LSTM, GRU, CNN, GlobalMaxPooling 모델의 4가지를\n",
    "구성해서 테스트해보았습니다.(GRU 모델은 공부차원에서, Early stopping을 적용해보았습니다)\n",
    "모델구조는 대부분 히든유닛을 16개로 하고, dropout layer를 모델별로 2개씩 집어 넣어서, 오버피팅을 방지했습니다.\n",
    "\n",
    "이렇게 해서 나온 Metric들은 4개 보델별로 헉습과정을 볼수 있도록 시각화하였습니다.\n",
    "\n",
    "모델별로 test data를 통한 Accuracy는,\n",
    "    \n",
    "1.LSTM모델: 0.8415\n",
    "    \n",
    "2.GRU모델: 0.8437\n",
    "    \n",
    "3.CNN모델: 0.8245\n",
    "    \n",
    "4.GlobalMaxPooling모델:0.8332\n",
    "    \n",
    "로서, 4개 모델 모두 85%를 넘기지 못했습니다. \n",
    "\n",
    "LSTM, GRU, CNN, GlobalMaxpooling 모델의 성능이 큰차이가 않나는 것이\n",
    "눈에 띄여서, 앞으로는 시계열데이터라도, 여러 모델들을 적용해 보아야겠다는 생각이 들었습니다. \n",
    "\n",
    "이렇게 해서, 모델별 Naver영화리뷰 긍정,부정반응 예측 성능평가는 1차 마무리하고서, 이러한 감성분석모델의\n",
    "중요한 기본이 되는 embedding layer의 중요성을 알아보겠습니다.\n",
    "\n",
    "먼저, 위에서 학습한 4개 모델중에서, 전통적으로 시계열처리의 대표주자인 LSTM모델의 embedding layer의 단어의미기준 매칭이\n",
    "잘되어있는지를 보고서, 전문적으로 학습된 embedding layer인 word2vec_ko_model과 비교해 보았습니다.\n",
    "\n",
    "저장해놓았던 LSTM모델의 embedding layer의 가중치와 전문적으로 학습된 embedding layer인 word2vec_ko_model을\n",
    "gensim.models.keyedvectors.Word2VecKeyedVectors를 통해서 가져왔고,이를 similar_by_word, most_similar,distance 3가지를\n",
    "통해 비교해 봤습니다.\n",
    "    \n",
    "테스트단어는 인공지능, 하정우, 미분, 삼성전자,막걸리,(웃음,기쁨),(짜장면,짜장면),(개울,비트코인)의 8단어를 사용했는데,\n",
    "LSTM모델의 embedding layer의 가중치모댈은 하정우만 검색되었는데, 그것마저도 관련성이 없는 단어들이었어서, 학습이 잘않되어 있다고\n",
    "판단되었습니다.\n",
    "    \n",
    "반면,전문적으로 학습된 embedding layer인 word2vec_ko_model은 8개단어 모두 다 검색되었으며, 단어 유사도가 상당히 높은 것으로 보여,\n",
    "학습이 잘되어있는 것으로 판단되었습니다.\n",
    "\n",
    "##### 마지막으로,전문적으로 학습된 embedding layer인 word2vec_ko_model을 LSTM모델의 embedding layer에 초기화가중치로 초기화해서,\n",
    "##### 전이학습을 시도해보았는데, epoch 20 및 다른 조간은 기존과 동일하게 하고서, 학습을 시키고, test data에 적용을 해보았는데,\n",
    "##### test Accuracy 85.61%\n",
    "#####    로 85%를 넘어섰습니다. \n",
    "\n",
    "결론적으로, 자연어처리는 embedding layer의 성능이 모델의 성능을 개선시켜주며, 중요한 영향을 준다는 것을 볼수있었습니다.\n",
    "그리고, 앞으로는 시계열데이터라도, LSTM,GRU뿐이아니라, CNN등 여러 모델들을 함께 적용해서 비교해 보아야겠다는 생각이 듭니다. \n",
    "자연어처리에 다양한 경험을 해보는 그리고 앞으로의 자연어 공부에 초석이될 것으로 생각되는 유익하고, 좋은 강의였습니다."
   ]
  },
  {
   "cell_type": "code",
   "execution_count": null,
   "id": "ca02b3e3",
   "metadata": {},
   "outputs": [],
   "source": [
    "\n",
    "\n",
    "\n",
    "\n",
    "\n"
   ]
  },
  {
   "cell_type": "code",
   "execution_count": null,
   "id": "66a415c3",
   "metadata": {},
   "outputs": [],
   "source": []
  },
  {
   "cell_type": "markdown",
   "id": "94c51ce3",
   "metadata": {},
   "source": [
    "#### 루브릭\n",
    "아래의 기준을 바탕으로 프로젝트를 평가합니다.\n",
    "\n",
    "평가문항 // 상세기준\n",
    "1. 다양한 방법으로 Text Classification 태스크를 성공적으로 구현하였다. // 3가지 이상의 모델이 성공적으로 시도됨\n",
    "2. gensim을 활용하여 자체학습된 혹은 사전학습된 임베딩 레이어를 분석하였다. // gensim의 유사단어 찾기를 활용하여 자체학습한 임베딩과 사전학습 임베딩을 비교 분석함\n",
    "3. 한국어 Word2Vec을 활용하여 가시적인 성능향상을 달성했다. // 네이버 영화리뷰 데이터 감성분석 정확도를 85% 이상 달성함"
   ]
  },
  {
   "cell_type": "code",
   "execution_count": null,
   "id": "e4836d0b",
   "metadata": {},
   "outputs": [],
   "source": []
  },
  {
   "cell_type": "code",
   "execution_count": null,
   "id": "399b7a8e",
   "metadata": {},
   "outputs": [],
   "source": []
  }
 ],
 "metadata": {
  "kernelspec": {
   "display_name": "Python 3 (ipykernel)",
   "language": "python",
   "name": "python3"
  },
  "language_info": {
   "codemirror_mode": {
    "name": "ipython",
    "version": 3
   },
   "file_extension": ".py",
   "mimetype": "text/x-python",
   "name": "python",
   "nbconvert_exporter": "python",
   "pygments_lexer": "ipython3",
   "version": "3.9.7"
  }
 },
 "nbformat": 4,
 "nbformat_minor": 5
}
