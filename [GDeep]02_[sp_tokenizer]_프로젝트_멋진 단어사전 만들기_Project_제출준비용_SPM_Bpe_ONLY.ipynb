{
 "cells": [
  {
   "cell_type": "markdown",
   "id": "991da62f",
   "metadata": {},
   "source": [
    "# 2-5. 프로젝트: SentencePiece 사용하기\n"
   ]
  },
  {
   "cell_type": "markdown",
   "id": "891e4cb2",
   "metadata": {},
   "source": [
    "# Step 4. 네이버 영화리뷰 감정 분석 문제에 SentencePiece 적용해 보기\n",
    "\n",
    "[네이버 영화리뷰 감정 분석 태스크](https://github.com/e9t/nsmc/) 가 있습니다. 한국어로 된 corpus를 다루어야 하므로 주로 KoNLPy에서 제공하는 형태소 분석기를 사용하여 텍스트를 전처리해서 RNN 모델을 분류기로 사용하게 되는데요.\n",
    "\n",
    "만약 이 문제에서 tokenizer를 SentencePiece로 바꾸어 다시 풀어본다면 더 성능이 좋아질까요? KoNLPy에 있는 Mecab, kkma, Okt 등과 비교해보세요. (여러분들은 [fasttext](https://wikidocs.net/22883)로 사전훈련된 Word Vector를 사용할 수 있지만 sentencepiece와 KoNLPy에 있는 형태소로 모델을 만드는 것보다 코드 수정이 많이 일어납니다. 기본적인 태스크를 끝나고(sentencepiece - KoNLPy 형태소 비교) 도전하시는걸 추천합니다.)\n",
    "\n",
    "* 네이버 영화리뷰 감정 분석 코퍼스에 SentencePiece를 적용시킨 모델 학습하기\n",
    "* 학습된 모델로 sp_tokenize() 메소드 구현하기\n",
    "* 구현된 토크나이저를 적용하여 네이버 영화리뷰 감정 분석 모델을 재학습하기\n",
    "* KoNLPy 형태소 분석기를 사용한 모델과 성능 비교하기\n",
    "* SentencePiece 모델의 model_type, vocab_size 등을 변경해 가면서 성능 개선 여부 확인하기\n",
    "\n"
   ]
  },
  {
   "cell_type": "markdown",
   "id": "c7fb6390",
   "metadata": {},
   "source": [
    "# 1. 네이버 영화리뷰 데이터 수집 (공통) "
   ]
  },
  {
   "cell_type": "code",
   "execution_count": 1,
   "id": "69a10c58",
   "metadata": {},
   "outputs": [],
   "source": [
    "#!cp -r ~/aiffel/sentiment_classification/data ~/aiffel/sp_tokenizer/data"
   ]
  },
  {
   "cell_type": "code",
   "execution_count": 1,
   "id": "5aece73b",
   "metadata": {},
   "outputs": [
    {
     "name": "stdout",
     "output_type": "stream",
     "text": [
      "2.6.0\n",
      "1.21.4\n",
      "0.5.2\n",
      "1.3.3\n",
      "4.1.2\n"
     ]
    }
   ],
   "source": [
    "import tensorflow as tf\n",
    "import numpy as np\n",
    "import pandas as pd\n",
    "import matplotlib.pyplot as plt\n",
    "import konlpy\n",
    "from konlpy.tag import Mecab, Kkma, Okt, Komoran, Hannanum \n",
    "import gensim\n",
    "from collections import Counter\n",
    "import os,sys,copy,time\n",
    "import seaborn as sns\n",
    "import tqdm\n",
    "import re\n",
    "import urllib\n",
    "\n",
    "print(tf.__version__)\n",
    "print(np.__version__)\n",
    "print(konlpy.__version__)\n",
    "print(pd.__version__)\n",
    "print(gensim.__version__)"
   ]
  },
  {
   "cell_type": "code",
   "execution_count": 2,
   "id": "3d690963",
   "metadata": {},
   "outputs": [
    {
     "data": {
      "text/plain": [
       "('ratings_test.txt', <http.client.HTTPMessage at 0x7fe9105be820>)"
      ]
     },
     "execution_count": 2,
     "metadata": {},
     "output_type": "execute_result"
    }
   ],
   "source": [
    "url_train = \"https://raw.githubusercontent.com/e9t/nsmc/master/ratings_train.txt\"\n",
    "url_test = \"https://raw.githubusercontent.com/e9t/nsmc/master/ratings_test.txt\"\n",
    "\n",
    "urllib.request.urlretrieve(url_train, filename=\"ratings_train.txt\")\n",
    "urllib.request.urlretrieve(url_test, filename=\"ratings_test.txt\")"
   ]
  },
  {
   "cell_type": "code",
   "execution_count": 3,
   "id": "58c3a3b2",
   "metadata": {},
   "outputs": [
    {
     "name": "stdout",
     "output_type": "stream",
     "text": [
      "train_data          id                                           document  label\n",
      "0   9976970                                아 더빙.. 진짜 짜증나네요 목소리      0\n",
      "1   3819312                  흠...포스터보고 초딩영화줄....오버연기조차 가볍지 않구나      1\n",
      "2  10265843                                  너무재밓었다그래서보는것을추천한다      0\n",
      "3   9045019                      교도소 이야기구먼 ..솔직히 재미는 없다..평점 조정      0\n",
      "4   6483659  사이몬페그의 익살스런 연기가 돋보였던 영화!스파이더맨에서 늙어보이기만 했던 커스틴 ...      1 (150000, 3)\n",
      "------------------------------------------------------------\n",
      "test_data         id                                           document  label\n",
      "0  6270596                                                굳 ㅋ      1\n",
      "1  9274899                               GDNTOPCLASSINTHECLUB      0\n",
      "2  8544678             뭐야 이 평점들은.... 나쁘진 않지만 10점 짜리는 더더욱 아니잖아      0\n",
      "3  6825595                   지루하지는 않은데 완전 막장임... 돈주고 보기에는....      0\n",
      "4  6723715  3D만 아니었어도 별 다섯 개 줬을텐데.. 왜 3D로 나와서 제 심기를 불편하게 하죠??      0 (50000, 3)\n"
     ]
    }
   ],
   "source": [
    "# 데이터를 읽어봅시다. \n",
    "train_data = pd.read_table(r'~/aiffel/sp_tokenizer/ratings_train.txt')\n",
    "test_data = pd.read_table('~/aiffel/sp_tokenizer/ratings_test.txt')\n",
    "\n",
    "print(\"train_data\",train_data.head(),train_data.shape)\n",
    "print('-'*60)\n",
    "print(\"test_data\",test_data.head(),test_data.shape)"
   ]
  },
  {
   "cell_type": "markdown",
   "id": "c2342ce7",
   "metadata": {},
   "source": [
    "# 2. SentencePiece 토크나이저 사용의 경우"
   ]
  },
  {
   "cell_type": "markdown",
   "id": "58d8eb77",
   "metadata": {},
   "source": [
    "* **(1) 데이터 기본적 전처리**"
   ]
  },
  {
   "cell_type": "code",
   "execution_count": 4,
   "id": "f5e11b19",
   "metadata": {},
   "outputs": [
    {
     "name": "stdout",
     "output_type": "stream",
     "text": [
      "train_data['document'].nunique() 146182\n",
      "train_data['label'].nunique() 2\n",
      "중복제거후 len(train_data) 146183\n",
      "test_data['document'].nunique() 49157\n",
      "test_data['label'].nunique() 2\n",
      "중복제거후 len(test_data) 49158\n",
      "결측치 개수 id          0\n",
      "document    1\n",
      "label       0\n",
      "dtype: int64\n",
      "결측치제거후 결측치 여부 False\n",
      "결측치 개수 id          0\n",
      "document    1\n",
      "label       0\n",
      "dtype: int64\n",
      "결측치제거후 결측치 여부 False\n"
     ]
    },
    {
     "name": "stderr",
     "output_type": "stream",
     "text": [
      "/tmp/ipykernel_4462/3168550979.py:36: FutureWarning: The default value of regex will change from True to False in a future version.\n",
      "  train_data['document'] = train_data['document'].str.replace(\"[' ']+\",\" \")\n",
      "/tmp/ipykernel_4462/3168550979.py:37: FutureWarning: The default value of regex will change from True to False in a future version.\n",
      "  train_data['document'] = train_data['document'].str.replace(\"\\.{2,30}\",\" \")\n",
      "/tmp/ipykernel_4462/3168550979.py:38: FutureWarning: The default value of regex will change from True to False in a future version.\n",
      "  train_data['document'] = train_data['document'].str.replace(\"[^ㄱ-힣0-9!?,.\\^+ ^\\s]\",\"\")  #한글전용형태소기인 경우 영어제외\n"
     ]
    },
    {
     "name": "stdout",
     "output_type": "stream",
     "text": [
      "한글과 공백,기타일부 등제외후 모두제거상태_train_data.head()          id                                           document  label\n",
      "0   9976970                                 아 더빙  진짜 짜증나네요 목소리      0\n",
      "1   3819312                       흠 포스터보고 초딩영화줄 오버연기조차 가볍지 않구나      1\n",
      "2  10265843                                  너무재밓었다그래서보는것을추천한다      0\n",
      "3   9045019                        교도소 이야기구먼  솔직히 재미는 없다 평점 조정      0\n",
      "4   6483659  사이몬페그의 익살스런 연기가 돋보였던 영화!스파이더맨에서 늙어보이기만 했던 커스틴 ...      1\n"
     ]
    },
    {
     "name": "stderr",
     "output_type": "stream",
     "text": [
      "/tmp/ipykernel_4462/3168550979.py:42: FutureWarning: The default value of regex will change from True to False in a future version.\n",
      "  test_data['document' ]= test_data['document'].str.replace(\"[' ']+\",\" \")\n",
      "/tmp/ipykernel_4462/3168550979.py:43: FutureWarning: The default value of regex will change from True to False in a future version.\n",
      "  test_data['document'] = test_data['document'].str.replace(\"\\.{2,30}\",\" \")\n"
     ]
    },
    {
     "name": "stdout",
     "output_type": "stream",
     "text": [
      "한글과 공백,기타일부 등제외후 모두제거상태_test_data.head()         id                                        document  label\n",
      "0  6270596                                             굳 ㅋ      1\n",
      "1  9274899                                                      0\n",
      "2  8544678             뭐야 이 평점들은  나쁘진 않지만 10점 짜리는 더더욱 아니잖아      0\n",
      "3  6825595                     지루하지는 않은데 완전 막장임  돈주고 보기에는       0\n",
      "4  6723715  3만 아니었어도 별 다섯 개 줬을텐데  왜 3로 나와서 제 심기를 불편하게 하죠??      0\n",
      "Nan 존재유뮤 True\n",
      "Nan 존재유뮤 True\n",
      "X_train[:5] 0                                   아 더빙  진짜 짜증나네요 목소리\n",
      "1                         흠 포스터보고 초딩영화줄 오버연기조차 가볍지 않구나\n",
      "2                                    너무재밓었다그래서보는것을추천한다\n",
      "3                          교도소 이야기구먼  솔직히 재미는 없다 평점 조정\n",
      "4    사이몬페그의 익살스런 연기가 돋보였던 영화!스파이더맨에서 늙어보이기만 했던 커스틴 ...\n",
      "Name: document, dtype: object y_train[:5] [0 1 0 0 1] X_test[:5] 0                                               굳 ㅋ\n",
      "2               뭐야 이 평점들은  나쁘진 않지만 10점 짜리는 더더욱 아니잖아\n",
      "3                       지루하지는 않은데 완전 막장임  돈주고 보기에는 \n",
      "4    3만 아니었어도 별 다섯 개 줬을텐데  왜 3로 나와서 제 심기를 불편하게 하죠??\n",
      "5                                음악이 주가 된, 최고의 음악영화\n",
      "Name: document, dtype: object y_test[:5] [1 0 0 0 1]\n"
     ]
    },
    {
     "name": "stderr",
     "output_type": "stream",
     "text": [
      "/tmp/ipykernel_4462/3168550979.py:44: FutureWarning: The default value of regex will change from True to False in a future version.\n",
      "  test_data['document'] = test_data['document'].str.replace(\"[^ㄱ-힣0-9!?,.\\^+ ^\\s]\",\"\")  #한글전용형태소기인 경우 영어제외\n"
     ]
    }
   ],
   "source": [
    "## 데이터로더\n",
    "stopwords = ['의','가','이','은','들','는','좀','잘','걍','과','도','를','으로','자','에','와','한','하다']\n",
    "voca_size =10000\n",
    "\n",
    "def load_and_preprocess_data(train_data, test_data, voca_size = voca_size):\n",
    "    ## 중복값 제거:  'document'컬럼의 중복값 제거,'label'컬럼은 0,1의 두개면 맞음\n",
    "    #1. train_data\n",
    "    print(\"train_data['document'].nunique()\",train_data['document'].nunique())\n",
    "    if train_data['document'].nunique() < len(train_data):\n",
    "        train_data.drop_duplicates(subset=['document'], inplace=True) \n",
    "        print(\"train_data['label'].nunique()\",train_data['label'].nunique())    \n",
    "        print(\"중복제거후 len(train_data)\",len(train_data))    \n",
    "    #2. test_data    \n",
    "    print(\"test_data['document'].nunique()\",test_data['document'].nunique())\n",
    "    if test_data['document'].nunique() < len(test_data):\n",
    "        test_data.drop_duplicates(subset=['document'], inplace=True)\n",
    "        print(\"test_data['label'].nunique()\",test_data['label'].nunique())    \n",
    "        print(\"중복제거후 len(test_data)\",len(test_data))\n",
    "    \n",
    "    ## 결측치제거 : 1개라도 있으면, 해당행 전체 제거\n",
    "    #1. train_data\n",
    "    print(\"결측치 개수\",train_data.isnull().sum())\n",
    "    if train_data.isnull().any().any():\n",
    "        train_data.dropna(how='any',inplace=True)\n",
    "        print(\"결측치제거후 결측치 여부\",train_data.isnull().any().any())    \n",
    "    #2. test_data\n",
    "    print(\"결측치 개수\",test_data.isnull().sum())\n",
    "    if test_data.isnull().any().any():\n",
    "        test_data.dropna(how='any',inplace=True)\n",
    "        print(\"결측치제거후 결측치 여부\",test_data.isnull().any().any())\n",
    "    \n",
    "    ## 데이터 정제 \n",
    "    # 한글과 숫자,공백(한개이상 공백은 한개로 축소),특수문자일부 !?,.^을 제외하고 제거:[^ㄱ-힣a-zA-Z0-9!?,.^\\s]\n",
    "    # --> 한글형태소기를 tokenizer로 쓸 경우에는 영어및 일부선택된 특수문자외에는 모두제거(..., - - 등도 제거)\n",
    "    #1. train_data\n",
    "    train_data['document'] = train_data['document'].str.replace(\"[' ']+\",\" \")\n",
    "    train_data['document'] = train_data['document'].str.replace(\"\\.{2,30}\",\" \") \n",
    "    train_data['document'] = train_data['document'].str.replace(\"[^ㄱ-힣0-9!?,.\\^+ ^\\s]\",\"\")  #한글전용형태소기인 경우 영어제외\n",
    "    #train_data['document'] = train_data['document'].str.replace(\"[^ㄱ-힣a-zA-Z0-9!?,.^\\s]\",\"\")  #한글영어병행형태소기인경우 영어포함                                                         \n",
    "    print(\"한글과 공백,기타일부 등제외후 모두제거상태_train_data.head()\",train_data.head())\n",
    "    #2. test_data\n",
    "    test_data['document' ]= test_data['document'].str.replace(\"[' ']+\",\" \")\n",
    "    test_data['document'] = test_data['document'].str.replace(\"\\.{2,30}\",\" \") \n",
    "    test_data['document'] = test_data['document'].str.replace(\"[^ㄱ-힣0-9!?,.\\^+ ^\\s]\",\"\")  #한글전용형태소기인 경우 영어제외\n",
    "    #test_data['document'] = test_data['document'].str.replace(\"[^ㄱ-힣a-zA-Z0-9!?,.^\\s]\",\"\")  #한글영어병행형태소기인경우 영어포함                                                            \n",
    "    print(\"한글과 공백,기타일부 등제외후 모두제거상태_test_data.head()\",test_data.head())\n",
    "    # 데이터 정제후 빈 공백만 있는 문장의 경우 제거:  Nan 입력후 행제거\n",
    "    #1. train_data\n",
    "    train_data['document'].replace('', np.nan, inplace=True)\n",
    "    print(\"Nan 존재유뮤\",train_data.isnull().any().any() )\n",
    "    if train_data.isnull().any().any():\n",
    "        train_data.dropna(how='any',inplace=True)\n",
    "    #2. test_data   \n",
    "    test_data['document'].replace('', np.nan, inplace=True)\n",
    "    print(\"Nan 존재유뮤\",test_data.isnull().any().any() )\n",
    "    if test_data.isnull().any().any():\n",
    "        test_data.dropna(how='any',inplace=True)\n",
    "    \n",
    "    # X_train , y_train, X_test, y_test    \n",
    "    X_train = train_data['document']\n",
    "    y_train = np.array(train_data['label'].tolist())\n",
    "    X_test = test_data['document']\n",
    "    y_test = np.array(test_data['label'].tolist())\n",
    "    \n",
    "    return X_train, y_train, X_test, y_test\n",
    "    \n",
    "        \n",
    "X_train, y_train, X_test, y_test = load_and_preprocess_data(train_data, test_data)\n",
    "\n",
    "# 전처리된 데이터 확인(불용어처리는 않되었슴, 형태소분석후 해야하는데, sentencepiece는 학습중에\n",
    "# --> 처리될수도 있으나, 확실치 않으니, 결과를 반드시 확인해야함, 형태소분석을 해야하는 한국어인데,\n",
    "# sentencepiece에서는 않해도 되는지 확인필요)\n",
    "print(\"X_train[:5]\",X_train[:5],\"y_train[:5]\",y_train[:5],\"X_test[:5]\",X_test[:5],\"y_test[:5]\",y_test[:5])\n",
    "\n"
   ]
  },
  {
   "cell_type": "code",
   "execution_count": 5,
   "id": "89d64202",
   "metadata": {},
   "outputs": [
    {
     "name": "stdout",
     "output_type": "stream",
     "text": [
      "X_train.shape (146026,) y_train.shape (146026,) X_test.shape (49084,) y_test.shape (49084,)\n"
     ]
    }
   ],
   "source": [
    "print(\"X_train.shape\",X_train.shape,\"y_train.shape\",y_train.shape,\"X_test.shape\",X_test.shape,\"y_test.shape\",y_test.shape)"
   ]
  },
  {
   "cell_type": "markdown",
   "id": "10c43ba1",
   "metadata": {},
   "source": [
    "**[체크필요]: 위에서 불용어처리는 않되었슴**\n",
    "형태소분석후 해야하는데, Sentencepiece는 학습중에 처리될수도 있으나, 확실치 않으니, 결과를 반드시 확인해야함, 형태소분석을 해야하는 한국어인데,\n",
    "Sentencepiece에서는 않해도 되는지 확인필요"
   ]
  },
  {
   "cell_type": "markdown",
   "id": "55986e06",
   "metadata": {},
   "source": [
    "#### (2) Sentencepiece 로 1차 Tokenizing\n",
    "* **maxlen 지정전 train data 로 1차 Tokenizing 학습**"
   ]
  },
  {
   "cell_type": "code",
   "execution_count": 6,
   "id": "b459179d",
   "metadata": {},
   "outputs": [
    {
     "name": "stdout",
     "output_type": "stream",
     "text": [
      "/aiffel/aiffel/sp_tokenizer/data/NaverMovie_trainCorpus_temp_bpe.txt\n"
     ]
    },
    {
     "name": "stderr",
     "output_type": "stream",
     "text": [
      "sentencepiece_trainer.cc(177) LOG(INFO) Running command: --input=/aiffel/aiffel/sp_tokenizer/data/NaverMovie_trainCorpus_temp_bpe.txt --model_prefix=korean_spm_bpe --vocab_size=10000 --model_type=bpe\n",
      "sentencepiece_trainer.cc(77) LOG(INFO) Starts training with : \n",
      "trainer_spec {\n",
      "  input: /aiffel/aiffel/sp_tokenizer/data/NaverMovie_trainCorpus_temp_bpe.txt\n",
      "  input_format: \n",
      "  model_prefix: korean_spm_bpe\n",
      "  model_type: BPE\n",
      "  vocab_size: 10000\n",
      "  self_test_sample_size: 0\n",
      "  character_coverage: 0.9995\n",
      "  input_sentence_size: 0\n",
      "  shuffle_input_sentence: 1\n",
      "  seed_sentencepiece_size: 1000000\n",
      "  shrinking_factor: 0.75\n",
      "  max_sentence_length: 4192\n",
      "  num_threads: 16\n",
      "  num_sub_iterations: 2\n",
      "  max_sentencepiece_length: 16\n",
      "  split_by_unicode_script: 1\n",
      "  split_by_number: 1\n",
      "  split_by_whitespace: 1\n",
      "  split_digits: 0\n",
      "  treat_whitespace_as_suffix: 0\n",
      "  allow_whitespace_only_pieces: 0\n",
      "  required_chars: \n",
      "  byte_fallback: 0\n",
      "  vocabulary_output_piece_score: 1\n",
      "  train_extremely_large_corpus: 0\n",
      "  hard_vocab_limit: 1\n",
      "  use_all_vocab: 0\n",
      "  unk_id: 0\n",
      "  bos_id: 1\n",
      "  eos_id: 2\n",
      "  pad_id: -1\n",
      "  unk_piece: <unk>\n",
      "  bos_piece: <s>\n",
      "  eos_piece: </s>\n",
      "  pad_piece: <pad>\n",
      "  unk_surface:  ⁇ \n",
      "}\n",
      "normalizer_spec {\n",
      "  name: nmt_nfkc\n",
      "  add_dummy_prefix: 1\n",
      "  remove_extra_whitespaces: 1\n",
      "  escape_whitespaces: 1\n",
      "  normalization_rule_tsv: \n",
      "}\n",
      "denormalizer_spec {}\n",
      "trainer_interface.cc(329) LOG(INFO) SentenceIterator is not specified. Using MultiFileSentenceIterator.\n",
      "trainer_interface.cc(178) LOG(INFO) Loading corpus: /aiffel/aiffel/sp_tokenizer/data/NaverMovie_trainCorpus_temp_bpe.txt\n",
      "trainer_interface.cc(385) LOG(INFO) Loaded all 146026 sentences\n",
      "trainer_interface.cc(400) LOG(INFO) Adding meta_piece: <unk>\n",
      "trainer_interface.cc(400) LOG(INFO) Adding meta_piece: <s>\n",
      "trainer_interface.cc(400) LOG(INFO) Adding meta_piece: </s>\n",
      "trainer_interface.cc(405) LOG(INFO) Normalizing sentences...\n",
      "trainer_interface.cc(466) LOG(INFO) all chars count=5166028\n",
      "trainer_interface.cc(477) LOG(INFO) Done: 99.95% characters are covered.\n",
      "trainer_interface.cc(487) LOG(INFO) Alphabet size=1594\n",
      "trainer_interface.cc(488) LOG(INFO) Final character coverage=0.9995\n",
      "trainer_interface.cc(520) LOG(INFO) Done! preprocessed 145796 sentences.\n",
      "trainer_interface.cc(526) LOG(INFO) Tokenizing input sentences with whitespace: 145796\n",
      "trainer_interface.cc(537) LOG(INFO) Done! 322084\n",
      "bpe_model_trainer.cc(167) LOG(INFO) Updating active symbols. max_freq=58849 min_freq=85\n",
      "bpe_model_trainer.cc(258) LOG(INFO) Added: freq=10953 size=20 all=110184 active=10814 piece=▁진\n",
      "bpe_model_trainer.cc(258) LOG(INFO) Added: freq=8833 size=40 all=114588 active=15218 piece=▁만\n",
      "bpe_model_trainer.cc(258) LOG(INFO) Added: freq=6013 size=60 all=118324 active=18954 piece=어요\n",
      "bpe_model_trainer.cc(258) LOG(INFO) Added: freq=5117 size=80 all=122677 active=23307 piece=▁왜\n",
      "bpe_model_trainer.cc(258) LOG(INFO) Added: freq=4092 size=100 all=126160 active=26790 piece=▁비\n",
      "bpe_model_trainer.cc(167) LOG(INFO) Updating active symbols. max_freq=4090 min_freq=70\n",
      "bpe_model_trainer.cc(258) LOG(INFO) Added: freq=3612 size=120 all=129134 active=9099 piece=▁아니\n",
      "bpe_model_trainer.cc(258) LOG(INFO) Added: freq=3117 size=140 all=132163 active=12128 piece=렇게\n",
      "bpe_model_trainer.cc(258) LOG(INFO) Added: freq=2789 size=160 all=133943 active=13908 piece=▁신\n",
      "bpe_model_trainer.cc(258) LOG(INFO) Added: freq=2562 size=180 all=136884 active=16849 piece=▁영화가\n",
      "bpe_model_trainer.cc(258) LOG(INFO) Added: freq=2393 size=200 all=139160 active=19125 piece=▁기대\n",
      "bpe_model_trainer.cc(167) LOG(INFO) Updating active symbols. max_freq=2392 min_freq=62\n",
      "bpe_model_trainer.cc(258) LOG(INFO) Added: freq=2177 size=220 all=141574 active=9303 piece=▁때\n",
      "bpe_model_trainer.cc(258) LOG(INFO) Added: freq=2022 size=240 all=144568 active=12297 piece=▁로\n",
      "bpe_model_trainer.cc(258) LOG(INFO) Added: freq=1896 size=260 all=147503 active=15232 piece=▁연출\n",
      "bpe_model_trainer.cc(258) LOG(INFO) Added: freq=1806 size=280 all=149555 active=17284 piece=▁우리\n",
      "bpe_model_trainer.cc(258) LOG(INFO) Added: freq=1701 size=300 all=151588 active=19317 piece=▁이영화\n",
      "bpe_model_trainer.cc(167) LOG(INFO) Updating active symbols. max_freq=1687 min_freq=56\n",
      "bpe_model_trainer.cc(258) LOG(INFO) Added: freq=1545 size=320 all=153461 active=9379 piece=▁아까\n",
      "bpe_model_trainer.cc(258) LOG(INFO) Added: freq=1454 size=340 all=155412 active=11330 piece=▁졸\n",
      "bpe_model_trainer.cc(258) LOG(INFO) Added: freq=1389 size=360 all=157362 active=13279 piece=▁점\n",
      "bpe_model_trainer.cc(258) LOG(INFO) Added: freq=1316 size=380 all=159454 active=15371 piece=재미\n",
      "bpe_model_trainer.cc(258) LOG(INFO) Added: freq=1257 size=400 all=161746 active=17663 piece=▁짜증\n",
      "bpe_model_trainer.cc(167) LOG(INFO) Updating active symbols. max_freq=1255 min_freq=51\n",
      "bpe_model_trainer.cc(258) LOG(INFO) Added: freq=1211 size=420 all=163623 active=9925 piece=▁맞\n",
      "bpe_model_trainer.cc(258) LOG(INFO) Added: freq=1157 size=440 all=165619 active=11921 piece=려고\n",
      "bpe_model_trainer.cc(258) LOG(INFO) Added: freq=1100 size=460 all=167561 active=13863 piece=▁건\n",
      "bpe_model_trainer.cc(258) LOG(INFO) Added: freq=1068 size=480 all=169297 active=15599 piece=▁듯\n",
      "bpe_model_trainer.cc(258) LOG(INFO) Added: freq=1006 size=500 all=171288 active=17590 piece=▁봐도\n",
      "bpe_model_trainer.cc(167) LOG(INFO) Updating active symbols. max_freq=1004 min_freq=48\n",
      "bpe_model_trainer.cc(258) LOG(INFO) Added: freq=968 size=520 all=173033 active=10299 piece=▁아주\n",
      "bpe_model_trainer.cc(258) LOG(INFO) Added: freq=926 size=540 all=174780 active=12046 piece=▁치\n",
      "bpe_model_trainer.cc(258) LOG(INFO) Added: freq=898 size=560 all=176649 active=13915 piece=▁크\n",
      "bpe_model_trainer.cc(258) LOG(INFO) Added: freq=873 size=580 all=178162 active=15428 piece=▁엉\n",
      "bpe_model_trainer.cc(258) LOG(INFO) Added: freq=845 size=600 all=180227 active=17493 piece=▁악\n",
      "bpe_model_trainer.cc(167) LOG(INFO) Updating active symbols. max_freq=845 min_freq=44\n",
      "bpe_model_trainer.cc(258) LOG(INFO) Added: freq=818 size=620 all=182625 active=11341 piece=었어요\n",
      "bpe_model_trainer.cc(258) LOG(INFO) Added: freq=789 size=640 all=184710 active=13426 piece=▁않은\n",
      "bpe_model_trainer.cc(258) LOG(INFO) Added: freq=773 size=660 all=186248 active=14964 piece=▁아니다\n",
      "bpe_model_trainer.cc(258) LOG(INFO) Added: freq=751 size=680 all=187772 active=16488 piece=▁오랜\n",
      "bpe_model_trainer.cc(258) LOG(INFO) Added: freq=724 size=700 all=189885 active=18601 piece=▁제작\n",
      "bpe_model_trainer.cc(167) LOG(INFO) Updating active symbols. max_freq=723 min_freq=41\n",
      "bpe_model_trainer.cc(258) LOG(INFO) Added: freq=701 size=720 all=191551 active=11100 piece=기가\n",
      "bpe_model_trainer.cc(258) LOG(INFO) Added: freq=680 size=740 all=193309 active=12858 piece=▁각\n",
      "bpe_model_trainer.cc(258) LOG(INFO) Added: freq=664 size=760 all=194570 active=14119 piece=점은\n",
      "bpe_model_trainer.cc(258) LOG(INFO) Added: freq=652 size=780 all=195985 active=15534 piece=▁감정\n",
      "bpe_model_trainer.cc(258) LOG(INFO) Added: freq=634 size=800 all=197036 active=16585 piece=▁6\n",
      "bpe_model_trainer.cc(167) LOG(INFO) Updating active symbols. max_freq=633 min_freq=39\n",
      "bpe_model_trainer.cc(258) LOG(INFO) Added: freq=622 size=820 all=198502 active=11307 piece=▁황\n",
      "bpe_model_trainer.cc(258) LOG(INFO) Added: freq=609 size=840 all=199808 active=12613 piece=▁언제\n",
      "bpe_model_trainer.cc(258) LOG(INFO) Added: freq=589 size=860 all=201314 active=14119 piece=메이션\n",
      "bpe_model_trainer.cc(258) LOG(INFO) Added: freq=574 size=880 all=202672 active=15477 piece=▁엔딩\n",
      "bpe_model_trainer.cc(258) LOG(INFO) Added: freq=562 size=900 all=203604 active=16409 piece=▁안타\n",
      "bpe_model_trainer.cc(167) LOG(INFO) Updating active symbols. max_freq=561 min_freq=37\n",
      "bpe_model_trainer.cc(258) LOG(INFO) Added: freq=555 size=920 all=204929 active=11497 piece=▁ᅮᅮ\n",
      "bpe_model_trainer.cc(258) LOG(INFO) Added: freq=544 size=940 all=205777 active=12345 piece=▁준\n",
      "bpe_model_trainer.cc(258) LOG(INFO) Added: freq=532 size=960 all=207034 active=13602 piece=▁아무리\n",
      "bpe_model_trainer.cc(258) LOG(INFO) Added: freq=523 size=980 all=207985 active=14553 piece=▁클\n",
      "bpe_model_trainer.cc(258) LOG(INFO) Added: freq=510 size=1000 all=209483 active=16051 piece=건가\n",
      "bpe_model_trainer.cc(167) LOG(INFO) Updating active symbols. max_freq=510 min_freq=35\n",
      "bpe_model_trainer.cc(258) LOG(INFO) Added: freq=500 size=1020 all=210626 active=11506 piece=낭비\n",
      "bpe_model_trainer.cc(258) LOG(INFO) Added: freq=482 size=1040 all=212038 active=12918 piece=▁엄마\n",
      "bpe_model_trainer.cc(258) LOG(INFO) Added: freq=470 size=1060 all=213327 active=14207 piece=당히\n",
      "bpe_model_trainer.cc(258) LOG(INFO) Added: freq=459 size=1080 all=214845 active=15725 piece=▁군\n",
      "bpe_model_trainer.cc(258) LOG(INFO) Added: freq=444 size=1100 all=215983 active=16863 piece=▁숨\n",
      "bpe_model_trainer.cc(167) LOG(INFO) Updating active symbols. max_freq=444 min_freq=34\n",
      "bpe_model_trainer.cc(258) LOG(INFO) Added: freq=435 size=1120 all=217085 active=11862 piece=▁좋아요\n",
      "bpe_model_trainer.cc(258) LOG(INFO) Added: freq=424 size=1140 all=217959 active=12736 piece=▁끌\n",
      "bpe_model_trainer.cc(258) LOG(INFO) Added: freq=417 size=1160 all=219797 active=14574 piece=워서\n",
      "bpe_model_trainer.cc(258) LOG(INFO) Added: freq=408 size=1180 all=220900 active=15677 piece=▁히\n",
      "bpe_model_trainer.cc(258) LOG(INFO) Added: freq=398 size=1200 all=222606 active=17383 piece=리를\n",
      "bpe_model_trainer.cc(167) LOG(INFO) Updating active symbols. max_freq=398 min_freq=32\n",
      "bpe_model_trainer.cc(258) LOG(INFO) Added: freq=389 size=1220 all=223897 active=12302 piece=겠지\n",
      "bpe_model_trainer.cc(258) LOG(INFO) Added: freq=384 size=1240 all=225078 active=13483 piece=▁밖에\n",
      "bpe_model_trainer.cc(258) LOG(INFO) Added: freq=377 size=1260 all=225753 active=14158 piece=지지\n",
      "bpe_model_trainer.cc(258) LOG(INFO) Added: freq=369 size=1280 all=227216 active=15621 piece=▁트\n",
      "bpe_model_trainer.cc(258) LOG(INFO) Added: freq=363 size=1300 all=228359 active=16764 piece=▁온\n",
      "bpe_model_trainer.cc(167) LOG(INFO) Updating active symbols. max_freq=363 min_freq=31\n",
      "bpe_model_trainer.cc(258) LOG(INFO) Added: freq=358 size=1320 all=229553 active=12567 piece=편은\n",
      "bpe_model_trainer.cc(258) LOG(INFO) Added: freq=354 size=1340 all=230832 active=13846 piece=▁생각을\n",
      "bpe_model_trainer.cc(258) LOG(INFO) Added: freq=348 size=1360 all=231923 active=14937 piece=보고싶\n",
      "bpe_model_trainer.cc(258) LOG(INFO) Added: freq=342 size=1380 all=232862 active=15876 piece=들어\n",
      "bpe_model_trainer.cc(258) LOG(INFO) Added: freq=335 size=1400 all=234061 active=17075 piece=수를\n",
      "bpe_model_trainer.cc(167) LOG(INFO) Updating active symbols. max_freq=334 min_freq=30\n",
      "bpe_model_trainer.cc(258) LOG(INFO) Added: freq=328 size=1420 all=235306 active=12875 piece=▁이번\n",
      "bpe_model_trainer.cc(258) LOG(INFO) Added: freq=321 size=1440 all=236431 active=14000 piece=▁겁\n",
      "bpe_model_trainer.cc(258) LOG(INFO) Added: freq=315 size=1460 all=237643 active=15212 piece=▁어디서\n",
      "bpe_model_trainer.cc(258) LOG(INFO) Added: freq=312 size=1480 all=238755 active=16324 piece=▁그러나\n",
      "bpe_model_trainer.cc(258) LOG(INFO) Added: freq=305 size=1500 all=239531 active=17100 piece=▁슈\n",
      "bpe_model_trainer.cc(167) LOG(INFO) Updating active symbols. max_freq=305 min_freq=29\n",
      "bpe_model_trainer.cc(258) LOG(INFO) Added: freq=302 size=1520 all=240597 active=13013 piece=▁이런영화\n",
      "bpe_model_trainer.cc(258) LOG(INFO) Added: freq=296 size=1540 all=241501 active=13917 piece=▁저는\n",
      "bpe_model_trainer.cc(258) LOG(INFO) Added: freq=292 size=1560 all=242112 active=14528 piece=우드\n",
      "bpe_model_trainer.cc(258) LOG(INFO) Added: freq=287 size=1580 all=243130 active=15546 piece=년전\n",
      "bpe_model_trainer.cc(258) LOG(INFO) Added: freq=284 size=1600 all=244072 active=16488 piece=보면서\n",
      "bpe_model_trainer.cc(167) LOG(INFO) Updating active symbols. max_freq=284 min_freq=28\n",
      "bpe_model_trainer.cc(258) LOG(INFO) Added: freq=280 size=1620 all=244971 active=12988 piece=메디\n",
      "bpe_model_trainer.cc(258) LOG(INFO) Added: freq=275 size=1640 all=246166 active=14183 piece=▁돋보\n",
      "bpe_model_trainer.cc(258) LOG(INFO) Added: freq=270 size=1660 all=247164 active=15181 piece=▁젊\n",
      "bpe_model_trainer.cc(258) LOG(INFO) Added: freq=267 size=1680 all=247975 active=15992 piece=되어\n",
      "bpe_model_trainer.cc(258) LOG(INFO) Added: freq=263 size=1700 all=248970 active=16987 piece=▁짧\n",
      "bpe_model_trainer.cc(167) LOG(INFO) Updating active symbols. max_freq=263 min_freq=27\n",
      "bpe_model_trainer.cc(258) LOG(INFO) Added: freq=260 size=1720 all=249886 active=13339 piece=▁선택\n",
      "bpe_model_trainer.cc(258) LOG(INFO) Added: freq=258 size=1740 all=250999 active=14452 piece=ᅲᅲᅲᅲ\n",
      "bpe_model_trainer.cc(258) LOG(INFO) Added: freq=253 size=1760 all=252195 active=15648 piece=▁겨\n",
      "bpe_model_trainer.cc(258) LOG(INFO) Added: freq=249 size=1780 all=252984 active=16437 piece=▁이리\n",
      "bpe_model_trainer.cc(258) LOG(INFO) Added: freq=246 size=1800 all=253997 active=17450 piece=▁봤네요\n",
      "bpe_model_trainer.cc(167) LOG(INFO) Updating active symbols. max_freq=246 min_freq=26\n",
      "bpe_model_trainer.cc(258) LOG(INFO) Added: freq=242 size=1820 all=254911 active=13600 piece=시는\n",
      "bpe_model_trainer.cc(258) LOG(INFO) Added: freq=239 size=1840 all=255874 active=14563 piece=▁만점\n",
      "bpe_model_trainer.cc(258) LOG(INFO) Added: freq=237 size=1860 all=256690 active=15379 piece=시리즈\n",
      "bpe_model_trainer.cc(258) LOG(INFO) Added: freq=233 size=1880 all=257697 active=16386 piece=▁나쁘\n",
      "bpe_model_trainer.cc(258) LOG(INFO) Added: freq=230 size=1900 all=258580 active=17269 piece=였는데\n",
      "bpe_model_trainer.cc(167) LOG(INFO) Updating active symbols. max_freq=230 min_freq=25\n",
      "bpe_model_trainer.cc(258) LOG(INFO) Added: freq=228 size=1920 all=259542 active=13793 piece=▁기대하고\n",
      "bpe_model_trainer.cc(258) LOG(INFO) Added: freq=225 size=1940 all=260710 active=14961 piece=평가\n",
      "bpe_model_trainer.cc(258) LOG(INFO) Added: freq=224 size=1960 all=261562 active=15813 piece=▁관계\n",
      "bpe_model_trainer.cc(258) LOG(INFO) Added: freq=221 size=1980 all=262503 active=16754 piece=▁연출이\n",
      "bpe_model_trainer.cc(258) LOG(INFO) Added: freq=217 size=2000 all=263507 active=17758 piece=▁탈\n",
      "bpe_model_trainer.cc(167) LOG(INFO) Updating active symbols. max_freq=217 min_freq=24\n",
      "bpe_model_trainer.cc(258) LOG(INFO) Added: freq=214 size=2020 all=264265 active=13900 piece=▁아프\n",
      "bpe_model_trainer.cc(258) LOG(INFO) Added: freq=211 size=2040 all=264973 active=14608 piece=아먹\n",
      "bpe_model_trainer.cc(258) LOG(INFO) Added: freq=208 size=2060 all=265957 active=15592 piece=▁아마\n",
      "bpe_model_trainer.cc(258) LOG(INFO) Added: freq=206 size=2080 all=266560 active=16195 piece=▁해피\n",
      "bpe_model_trainer.cc(258) LOG(INFO) Added: freq=204 size=2100 all=267354 active=16989 piece=장이\n",
      "bpe_model_trainer.cc(167) LOG(INFO) Updating active symbols. max_freq=204 min_freq=24\n",
      "bpe_model_trainer.cc(258) LOG(INFO) Added: freq=202 size=2120 all=268104 active=14022 piece=자는\n",
      "bpe_model_trainer.cc(258) LOG(INFO) Added: freq=200 size=2140 all=268679 active=14597 piece=▁감동적\n",
      "bpe_model_trainer.cc(258) LOG(INFO) Added: freq=198 size=2160 all=269722 active=15640 piece=인은\n",
      "bpe_model_trainer.cc(258) LOG(INFO) Added: freq=196 size=2180 all=270403 active=16321 piece=보다가\n",
      "bpe_model_trainer.cc(258) LOG(INFO) Added: freq=194 size=2200 all=271548 active=17466 piece=▁메시\n",
      "bpe_model_trainer.cc(167) LOG(INFO) Updating active symbols. max_freq=194 min_freq=23\n",
      "bpe_model_trainer.cc(258) LOG(INFO) Added: freq=193 size=2220 all=272295 active=14313 piece=점준다\n",
      "bpe_model_trainer.cc(258) LOG(INFO) Added: freq=190 size=2240 all=273112 active=15130 piece=인을\n",
      "bpe_model_trainer.cc(258) LOG(INFO) Added: freq=187 size=2260 all=274092 active=16109 piece=개봉\n",
      "bpe_model_trainer.cc(258) LOG(INFO) Added: freq=185 size=2280 all=275032 active=17049 piece=▁증\n",
      "bpe_model_trainer.cc(258) LOG(INFO) Added: freq=184 size=2300 all=275666 active=17683 piece=만으로\n",
      "bpe_model_trainer.cc(167) LOG(INFO) Updating active symbols. max_freq=184 min_freq=23\n",
      "bpe_model_trainer.cc(258) LOG(INFO) Added: freq=183 size=2320 all=276688 active=14708 piece=▁중간중간\n",
      "bpe_model_trainer.cc(258) LOG(INFO) Added: freq=181 size=2340 all=277524 active=15544 piece=▁부분이\n",
      "bpe_model_trainer.cc(258) LOG(INFO) Added: freq=179 size=2360 all=278543 active=16563 piece=였어요\n",
      "bpe_model_trainer.cc(258) LOG(INFO) Added: freq=177 size=2380 all=279243 active=17263 piece=▁드는\n",
      "bpe_model_trainer.cc(258) LOG(INFO) Added: freq=175 size=2400 all=279837 active=17857 piece=말로\n",
      "bpe_model_trainer.cc(167) LOG(INFO) Updating active symbols. max_freq=175 min_freq=22\n",
      "bpe_model_trainer.cc(258) LOG(INFO) Added: freq=174 size=2420 all=280672 active=14791 piece=하세요\n",
      "bpe_model_trainer.cc(258) LOG(INFO) Added: freq=172 size=2440 all=281438 active=15557 piece=▁곳\n",
      "bpe_model_trainer.cc(258) LOG(INFO) Added: freq=171 size=2460 all=282041 active=16160 piece=▁예쁜\n",
      "bpe_model_trainer.cc(258) LOG(INFO) Added: freq=169 size=2480 all=282902 active=17021 piece=▁괴물\n",
      "bpe_model_trainer.cc(258) LOG(INFO) Added: freq=167 size=2500 all=283653 active=17772 piece=레스\n",
      "bpe_model_trainer.cc(167) LOG(INFO) Updating active symbols. max_freq=167 min_freq=22\n",
      "bpe_model_trainer.cc(258) LOG(INFO) Added: freq=166 size=2520 all=284637 active=15106 piece=식으로\n",
      "bpe_model_trainer.cc(258) LOG(INFO) Added: freq=165 size=2540 all=285236 active=15705 piece=▁슬프다\n",
      "bpe_model_trainer.cc(258) LOG(INFO) Added: freq=163 size=2560 all=286115 active=16584 piece=이해\n",
      "bpe_model_trainer.cc(258) LOG(INFO) Added: freq=162 size=2580 all=286955 active=17424 piece=▁사랑에\n",
      "bpe_model_trainer.cc(258) LOG(INFO) Added: freq=160 size=2600 all=287681 active=18150 piece=▁자막\n",
      "bpe_model_trainer.cc(167) LOG(INFO) Updating active symbols. max_freq=160 min_freq=21\n",
      "bpe_model_trainer.cc(258) LOG(INFO) Added: freq=159 size=2620 all=288292 active=14954 piece=럭저럭\n",
      "bpe_model_trainer.cc(258) LOG(INFO) Added: freq=158 size=2640 all=288975 active=15637 piece=▁진심으로\n",
      "bpe_model_trainer.cc(258) LOG(INFO) Added: freq=156 size=2660 all=289837 active=16499 piece=나가\n",
      "bpe_model_trainer.cc(258) LOG(INFO) Added: freq=155 size=2680 all=290513 active=17175 piece=▁에휴\n",
      "bpe_model_trainer.cc(258) LOG(INFO) Added: freq=154 size=2700 all=291026 active=17688 piece=▁퀄리티\n",
      "bpe_model_trainer.cc(167) LOG(INFO) Updating active symbols. max_freq=153 min_freq=21\n",
      "bpe_model_trainer.cc(258) LOG(INFO) Added: freq=152 size=2720 all=291649 active=15150 piece=보여\n",
      "bpe_model_trainer.cc(258) LOG(INFO) Added: freq=151 size=2740 all=292436 active=15937 piece=할까\n",
      "bpe_model_trainer.cc(258) LOG(INFO) Added: freq=150 size=2760 all=293050 active=16551 piece=▁부끄\n",
      "bpe_model_trainer.cc(258) LOG(INFO) Added: freq=149 size=2780 all=293643 active=17144 piece=해준\n",
      "bpe_model_trainer.cc(258) LOG(INFO) Added: freq=148 size=2800 all=294313 active=17814 piece=▁무언\n",
      "bpe_model_trainer.cc(167) LOG(INFO) Updating active symbols. max_freq=148 min_freq=20\n",
      "bpe_model_trainer.cc(258) LOG(INFO) Added: freq=147 size=2820 all=295026 active=15421 piece=▁ᅲᅲᅲ"
     ]
    },
    {
     "name": "stdout",
     "output_type": "stream",
     "text": [
      "-rw-r--r-- 1 root root 410868 Feb 18 01:21 korean_spm_bpe.model\r\n",
      "-rw-r--r-- 1 root root 152068 Feb 18 01:21 korean_spm_bpe.vocab\r\n"
     ]
    }
   ],
   "source": [
    "import sentencepiece as spm\n",
    "import os\n",
    "\n",
    "temp_file = os.getenv('HOME')+'/aiffel/sp_tokenizer/data/NaverMovie_trainCorpus_temp_bpe.txt'\n",
    "print(temp_file)\n",
    "\n",
    "vocab_size = 10000\n",
    "\n",
    "with open(temp_file, 'w') as f:\n",
    "    for row in X_train: \n",
    "        f.write(str(row) + '\\n')\n",
    "\n",
    "## SentencePieceTrainer 실행: 1차 실행 (maxlen인자 없이)\n",
    "spm.SentencePieceTrainer.Train(\n",
    "    '--input={} --model_prefix=korean_spm_bpe --vocab_size={} --model_type=bpe'.format(temp_file, vocab_size)   \n",
    ")\n",
    "#위 Train에서  --model_type = unigram이 디폴트 적용되어 있습니다. --model_type = bpe로 옵션을 주어 변경할 수 있습니다.\n",
    "\n",
    "!ls -l korean_spm_bpe*"
   ]
  },
  {
   "cell_type": "code",
   "execution_count": 7,
   "id": "fa06eb5b",
   "metadata": {},
   "outputs": [
    {
     "data": {
      "text/plain": [
       "'\\ninput : 학습시킬 파일\\nmodel_prefix : 만들어질 모델 이름\\nvocab_size : 단어 집합의 크기\\nmodel_type : 사용할 모델 (unigram(default), bpe, char, word)\\nmax_sentence_length: 문장의 최대 길이\\npad_id, pad_piece: pad token id, 값\\nunk_id, unk_piece: unknown token id, 값\\nbos_id, bos_piece: begin of sentence token id, 값\\neos_id, eos_piece: end of sequence token id, 값\\nuser_defined_symbols: 사용자 정의 토큰\\n'"
      ]
     },
     "execution_count": 7,
     "metadata": {},
     "output_type": "execute_result"
    }
   ],
   "source": [
    "\"\"\"\n",
    "input : 학습시킬 파일\n",
    "model_prefix : 만들어질 모델 이름\n",
    "vocab_size : 단어 집합의 크기\n",
    "model_type : 사용할 모델 (unigram(default), bpe, char, word)\n",
    "max_sentence_length: 문장의 최대 길이\n",
    "pad_id, pad_piece: pad token id, 값\n",
    "unk_id, unk_piece: unknown token id, 값\n",
    "bos_id, bos_piece: begin of sentence token id, 값\n",
    "eos_id, eos_piece: end of sequence token id, 값\n",
    "user_defined_symbols: 사용자 정의 토큰\n",
    "\"\"\""
   ]
  },
  {
   "cell_type": "code",
   "execution_count": 8,
   "id": "12c7a6d4",
   "metadata": {},
   "outputs": [
    {
     "name": "stdout",
     "output_type": "stream",
     "text": [
      "[7014, 8666, 8419, 1382, 8415, 8514, 8408, 8411]\n",
      "['▁아버지가', '방', '에', '들어', '가', '신', '다', '.']\n",
      "아버지가방에들어가신다.\n"
     ]
    }
   ],
   "source": [
    "s = spm.SentencePieceProcessor()\n",
    "s.Load('korean_spm_bpe.model')\n",
    "\n",
    "# SentencePiece를 활용한 sentence -> encoding\n",
    "tokensIDs = s.EncodeAsIds('아버지가방에들어가신다.')\n",
    "print(tokensIDs)\n",
    "\n",
    "# SentencePiece를 활용한 sentence -> encoded pieces\n",
    "print(s.SampleEncodeAsPieces('아버지가방에들어가신다.',1, 0.0))\n",
    "\n",
    "# SentencePiece를 활용한 encoding -> sentence 복원\n",
    "print(s.DecodeIds(tokensIDs))"
   ]
  },
  {
   "cell_type": "markdown",
   "id": "313d2562",
   "metadata": {},
   "source": [
    "* **sp_tokenize_noPadding 함수 생성**"
   ]
  },
  {
   "cell_type": "code",
   "execution_count": 9,
   "id": "c74e0ce7",
   "metadata": {},
   "outputs": [],
   "source": [
    "def sp_tokenize_noPadding(s, corpus):\n",
    "\n",
    "    tensor = []\n",
    "\n",
    "    for sen in corpus:\n",
    "        tensor.append(s.EncodeAsIds(sen))\n",
    "\n",
    "    with open(\"./korean_spm_bpe.vocab\", 'r') as f:\n",
    "        vocab = f.readlines()\n",
    "\n",
    "    word_index = {}\n",
    "    index_word = {}\n",
    "\n",
    "    for idx, line in enumerate(vocab):\n",
    "        word = line.split(\"\\t\")[0]\n",
    "\n",
    "        word_index.update({word:idx})\n",
    "        index_word.update({idx:word})\n",
    "\n",
    "    #tensor = tf.keras.preprocessing.sequence.pad_sequences(tensor,maxlen= maxlen, padding='post')\n",
    "\n",
    "    return tensor, word_index, index_word"
   ]
  },
  {
   "cell_type": "code",
   "execution_count": 10,
   "id": "76f29b3a",
   "metadata": {},
   "outputs": [
    {
     "name": "stdout",
     "output_type": "stream",
     "text": [
      "[[710, 2598, 8432, 571, 835, 8411], [1482, 2396, 295, 7755, 141, 9664, 12, 8411, 8411, 8411]]\n"
     ]
    }
   ],
   "source": [
    "#sp_tokenize(s, corpus) 사용예제\n",
    "\n",
    "my_corpus = ['나는 밥을 먹었습니다.', '그러나 여전히 ㅠㅠ 배가 고픕니다...']\n",
    "tensor, word_index, index_word = sp_tokenize_noPadding(s, my_corpus)\n",
    "print(tensor)"
   ]
  },
  {
   "cell_type": "markdown",
   "id": "f6b0853e",
   "metadata": {},
   "source": [
    "* **1차 학습된 spm으로 sp_tokenize함수를 통해 X_train,  X_test 각각 토크나이징**"
   ]
  },
  {
   "cell_type": "code",
   "execution_count": 11,
   "id": "d35395cd",
   "metadata": {},
   "outputs": [
    {
     "name": "stdout",
     "output_type": "stream",
     "text": [
      "X_train_tensor[:10] [[6, 1031, 51, 2279, 39, 2000], [1470, 984, 164, 1228, 3, 8622, 2747, 291, 1684, 1841, 8412, 63, 409], [21, 8441, 9932, 110, 6455, 439, 1192, 2080, 284], [581, 8417, 8507, 286, 7714, 494, 1350, 231, 66, 121, 8449], [1647, 9193, 8964, 8440, 8424, 3034, 8620, 1859, 643, 1642, 2146, 4, 8435, 8443, 1774, 5511, 44, 2214, 8425, 2198, 1145, 2375, 1099, 7164, 2691, 565, 8415, 2154, 2953, 8423, 380], [319, 404, 8461, 8452, 8406, 0, 197, 8537, 265, 5428, 36, 3062, 8485, 8439, 488, 8620, 8534, 3, 8411, 357, 4477, 1283, 1654, 8411], [3464, 6203, 671, 4002, 8464, 2175, 232, 8411], [101, 3701, 411, 7286, 5, 9038, 8645, 879, 8534, 8473, 53, 4249, 8407, 8797, 8593, 414, 37, 3132, 774, 2849, 1009, 1069, 2336, 2984, 8528, 8411, 8467, 8581, 8426, 8562, 8733, 8562, 8733, 4600, 8409, 567, 8417, 399, 53, 5767, 337, 8426, 8505, 9127, 8457], [2412, 3339, 8417, 27, 207, 449, 1991, 4], [3291, 289, 1498, 1356, 8460, 1038, 376, 918, 2875, 8661, 1304, 8548, 2896, 21, 879, 5288, 8734, 2708, 8460]]\n",
      "X_test_tensor[:10] [[1279, 383], [1404, 5, 66, 238, 1882, 8458, 3213, 126, 8459, 271, 325, 7945, 7283], [109, 8416, 192, 5697, 199, 657, 8570, 1715, 4412], [197, 8426, 122, 8480, 673, 101, 4813, 70, 3035, 1423, 82, 197, 8430, 1413, 69, 274, 812, 1537, 100, 17, 8817, 169], [2487, 61, 8415, 783, 8446, 205, 437, 3], [1338, 151], [2081, 700, 1941, 44, 4467, 8425, 1270, 1189, 1309, 8424, 8586, 229, 3244, 8560, 7319, 4721, 8446, 8410, 6685, 7030, 8431, 284], [1174, 2632, 8519, 363, 1103, 3, 2032, 124, 871, 6684, 8777, 8408, 7613, 3706, 54, 656, 1826, 8542, 8444, 6, 4492, 277, 8456, 8434, 8555, 241, 182, 185, 197, 8747, 8418, 8747, 8475, 77], [5972, 8424, 2931, 8005, 969, 1923, 1501, 74, 8466, 8424, 45, 9200, 741, 464, 1012, 640, 192, 8201], [6776, 7167, 8426, 8605, 6335, 515, 8635, 8512, 62]]\n"
     ]
    }
   ],
   "source": [
    "# X_train, y_train, X_test, y_test\n",
    "\n",
    "# Tokenizing: X_train \n",
    "X_train_tensor, X_train_word_index, X_train_index_word = sp_tokenize_noPadding(s, X_train)\n",
    "print(\"X_train_tensor[:10]\",X_train_tensor[:10])\n",
    "\n",
    "# Tokenizing: X_test \n",
    "X_test_tensor, X_test_word_index, X_test_index_word = sp_tokenize_noPadding(s, X_test)\n",
    "print(\"X_test_tensor[:10]\",X_test_tensor[:10])"
   ]
  },
  {
   "cell_type": "markdown",
   "id": "9ef6e6ee",
   "metadata": {},
   "source": [
    "#### (3) 적절한 최대 문장 길이 지정: (평균 + 표준편차*2)이내: maxlen 42 개**"
   ]
  },
  {
   "cell_type": "code",
   "execution_count": 12,
   "id": "360d3c73",
   "metadata": {},
   "outputs": [
    {
     "name": "stdout",
     "output_type": "stream",
     "text": [
      "문장길이평균: 15.41\n",
      "문장길이표준편차: 13.4\n",
      "문장길이Max: 111\n",
      "문장길이Min: 0\n",
      "문장길이 0개수: 308\n",
      "['sans-serif']\n"
     ]
    },
    {
     "data": {
      "image/png": "[encoded data removed]",
      "text/plain": [
       "<Figure size 432x288 with 1 Axes>"
      ]
     },
     "metadata": {
      "needs_background": "light"
     },
     "output_type": "display_data"
    },
    {
     "data": {
      "image/png": "[encoded data removed]",
      "text/plain": [
       "<Figure size 432x288 with 1 Axes>"
      ]
     },
     "metadata": {
      "needs_background": "light"
     },
     "output_type": "display_data"
    },
    {
     "name": "stdout",
     "output_type": "stream",
     "text": [
      "maxlen 42\n"
     ]
    }
   ],
   "source": [
    "## 데이터셋 내 문장 길이 분포\n",
    "total_data_text = list(X_train_tensor) + list(X_test_tensor)\n",
    "total_data_text_dist = [len(x) for x in total_data_text]\n",
    "#print(total_data_text_dist)\n",
    "\n",
    "mean = round(np.mean(total_data_text_dist),2)\n",
    "std = round(np.std(total_data_text_dist),2)\n",
    "max = np.max(total_data_text_dist)\n",
    "min = np.min(total_data_text_dist)\n",
    "min_count = len([x for x in total_data_text_dist if x == 0])\n",
    "print(\"문장길이평균:\",mean)\n",
    "print(\"문장길이표준편차:\",std)\n",
    "print(\"문장길이Max:\",max)\n",
    "print(\"문장길이Min:\",min)\n",
    "print(\"문장길이 0개수:\", min_count)\n",
    "\n",
    "# 히스토그램 시각화: total_data\n",
    "print(plt.rcParams['font.family'])\n",
    "plt.rc('font',family='NanumGothic')\n",
    "plt.hist(total_data_text_dist, bins = 20)\n",
    "plt.xlabel('한문장당 길이')\n",
    "plt.ylabel('데이터 개수')\n",
    "plt.show()\n",
    "\n",
    "# 박스플롯: total_data\n",
    "plt.boxplot(total_data_text_dist)\n",
    "plt.show()\n",
    "\n",
    "## 적절한 최대 문장 길이 지정: (평균 + 표준편차*2)\n",
    "maxlen = int(mean + 2*std)\n",
    "print(\"maxlen\", maxlen)"
   ]
  },
  {
   "cell_type": "markdown",
   "id": "167dc20c",
   "metadata": {},
   "source": [
    "#### (4) Sentencepiece 로  최종 Tokenizing\n",
    "* **maxlen 지정후 train data 로 최종 Tokenizing 학습** "
   ]
  },
  {
   "cell_type": "code",
   "execution_count": 14,
   "id": "ba75767f",
   "metadata": {},
   "outputs": [
    {
     "name": "stdout",
     "output_type": "stream",
     "text": [
      "/aiffel/aiffel/sp_tokenizer/data/NaverMovie_trainCorpus_temp_bpe_new.txt\n",
      "-rw-r--r-- 1 root root 410868 Feb 18 01:21 korean_spm_bpe.model\n",
      "-rw-r--r-- 1 root root 409870 Feb 18 01:38 korean_spm_bpe_new.model\n",
      "-rw-r--r-- 1 root root 151059 Feb 18 01:38 korean_spm_bpe_new.vocab\n",
      "-rw-r--r-- 1 root root 152068 Feb 18 01:21 korean_spm_bpe.vocab\n"
     ]
    }
   ],
   "source": [
    "import sentencepiece as spm\n",
    "\n",
    "temp_file = os.getenv('HOME')+'/aiffel/sp_tokenizer/data/NaverMovie_trainCorpus_temp_bpe_new.txt'\n",
    "print(temp_file)\n",
    "\n",
    "vocab_size = 10000\n",
    "\n",
    "with open(temp_file, 'w') as f:\n",
    "    for row in X_train: \n",
    "        f.write(str(row) + '\\n')\n",
    "\n",
    "## SentencePieceTrainer 실행: 1차 실행 (maxlen인자 없이)\n",
    "spm.SentencePieceTrainer.Train(\n",
    "    '--input={} --model_prefix=korean_spm_bpe_new --vocab_size={} --max_sentence_length={} --model_type=bpe'.format(\n",
    "        temp_file, vocab_size, maxlen)   \n",
    ")\n",
    "#위 Train에서  --model_type = unigram이 디폴트 적용되어 있습니다. --model_type = bpe로 옵션을 주어 변경할 수 있습니다.\n",
    "\n",
    "!ls -l korean_spm_bpe*"
   ]
  },
  {
   "cell_type": "code",
   "execution_count": 15,
   "id": "9f657ab6",
   "metadata": {},
   "outputs": [
    {
     "data": {
      "text/plain": [
       "True"
      ]
     },
     "execution_count": 15,
     "metadata": {},
     "output_type": "execute_result"
    }
   ],
   "source": [
    "## 새롭게 학습한 모델로 s 객체 변경:및 new 모델로드  SentencePieceProcessor()\n",
    "s = spm.SentencePieceProcessor()\n",
    "s.Load('korean_spm_bpe_new.model')"
   ]
  },
  {
   "cell_type": "markdown",
   "id": "e8798385",
   "metadata": {},
   "source": [
    "* **sp_tokenize_withPadding 함수 생성**"
   ]
  },
  {
   "cell_type": "code",
   "execution_count": 16,
   "id": "39386e3f",
   "metadata": {},
   "outputs": [],
   "source": [
    "def sp_tokenize_withPadding(s, corpus, maxlen):\n",
    "\n",
    "    tensor = []\n",
    "\n",
    "    for sen in corpus:\n",
    "        tensor.append(s.EncodeAsIds(sen))\n",
    "\n",
    "    with open(\"./korean_spm_bpe_new.vocab\", 'r') as f:\n",
    "        vocab = f.readlines()\n",
    "\n",
    "    word_index = {}\n",
    "    index_word = {}\n",
    "\n",
    "    for idx, line in enumerate(vocab):\n",
    "        word = line.split(\"\\t\")[0]\n",
    "\n",
    "        word_index.update({word:idx})\n",
    "        index_word.update({idx:word})\n",
    "\n",
    "    tensor = tf.keras.preprocessing.sequence.pad_sequences(tensor,maxlen= maxlen, padding='post')\n",
    "\n",
    "    return tensor, word_index, index_word"
   ]
  },
  {
   "cell_type": "markdown",
   "id": "5a5436f0",
   "metadata": {},
   "source": [
    "* **최종 학습된 spm으로 sp_tokenize함수를 통해 X_train,  X_test 각각 토크나이징**"
   ]
  },
  {
   "cell_type": "code",
   "execution_count": 17,
   "id": "a4793214",
   "metadata": {},
   "outputs": [
    {
     "name": "stdout",
     "output_type": "stream",
     "text": [
      "X_train_tensor[:10] [[   7 1090   27 1426   31 3323    0    0    0    0    0    0    0    0\n",
      "     0    0    0    0    0    0    0    0    0    0    0    0    0    0\n",
      "     0    0    0    0    0    0    0    0    0    0    0    0    0    0]\n",
      " [ 594  771  232 1167    3 8573 3545  343 2172 1621 8325  142  309    0\n",
      "     0    0    0    0    0    0    0    0    0    0    0    0    0    0\n",
      "     0    0    0    0    0    0    0    0    0    0    0    0    0    0]\n",
      " [  19 8320 9501  112 1669 8368  539 3183 1291  321    0    0    0    0\n",
      "     0    0    0    0    0    0    0    0    0    0    0    0    0    0\n",
      "     0    0    0    0    0    0    0    0    0    0    0    0    0    0]\n",
      " [ 792 8336 8443  390 2807  406  853  144   39 3280    0    0    0    0\n",
      "     0    0    0    0    0    0    0    0    0    0    0    0    0    0\n",
      "     0    0    0    0    0    0    0    0    0    0    0    0    0    0]\n",
      " [2877 9097 8898 8353 8334 2481 8602 1735  770 1891 2832    4 8316 8359\n",
      "  1811 4606  175 2473 8025  916 3928 1667 5331 2789  673 8328 2032 1381\n",
      "  8337  297    0    0    0    0    0    0    0    0    0    0    0    0]\n",
      " [ 360  391 8354 8366 8313    0  185 8434  581  328 2160 8665   21 8730\n",
      "  8586 8417 8363  437 8602 8428    3 8319  165 5914  809 8319    0    0\n",
      "     0    0    0    0    0    0    0    0    0    0    0    0    0    0]\n",
      " [6865  840 8371 1249 5499 8375 4690  211 8319    0    0    0    0    0\n",
      "     0    0    0    0    0    0    0    0    0    0    0    0    0    0\n",
      "     0    0    0    0    0    0    0    0    0    0    0    0    0    0]\n",
      " [   6 8878 8623  888 8428 8391   97 8417 9021 8315 8766 8586  646   23\n",
      "  2692 1346 2678  937  615 2056 8313 9271 8415 8319 8369 8549 8338 8520\n",
      "  8673 8520 8673 7081 8322 1135 3934   97 8496  168 8012 8461 8981 8344]\n",
      " [1781   25   52 8336    9  546  554 8395  570    4    0    0    0    0\n",
      "     0    0    0    0    0    0    0    0    0    0    0    0    0    0\n",
      "     0    0    0    0    0    0    0    0    0    0    0    0    0    0]\n",
      " [2540  200 2856 1960 8335  652 3135 5161 8613 1697 8431 4668   19  888\n",
      "  8374 8390 8630 3554 8335    0    0    0    0    0    0    0    0    0\n",
      "     0    0    0    0    0    0    0    0    0    0    0    0    0    0]]\n",
      "X_test_tensor[:10] [[ 545  160    0    0    0    0    0    0    0    0    0    0    0    0\n",
      "     0    0    0    0    0    0    0    0    0    0    0    0    0    0\n",
      "     0    0    0    0    0    0    0    0    0    0    0    0    0    0]\n",
      " [ 428    6   39  635 5706  142  146   62 8341  259  501  102 8433 8984\n",
      "  2455    0    0    0    0    0    0    0    0    0    0    0    0    0\n",
      "     0    0    0    0    0    0    0    0    0    0    0    0    0    0]\n",
      " [2028  290 8307   92  597 8436 1772 5113    0    0    0    0    0    0\n",
      "     0    0    0    0    0    0    0    0    0    0    0    0    0    0\n",
      "     0    0    0    0    0    0    0    0    0    0    0    0    0    0]\n",
      " [ 185 8338  236 1187 8336   42 3509   70 3734 5656   47  185 8351 1771\n",
      "    87  268 1872 1411  261   38 8648   65    0    0    0    0    0    0\n",
      "     0    0    0    0    0    0    0    0    0    0    0    0    0    0]\n",
      " [2583  107 8328  624 8364   82  525    3    0    0    0    0    0    0\n",
      "     0    0    0    0    0    0    0    0    0    0    0    0    0    0\n",
      "     0    0    0    0    0    0    0    0    0    0    0    0    0    0]\n",
      " [1390   83    0    0    0    0    0    0    0    0    0    0    0    0\n",
      "     0    0    0    0    0    0    0    0    0    0    0    0    0    0\n",
      "     0    0    0    0    0    0    0    0    0    0    0    0    0    0]\n",
      " [5468 1056 1572  175 6071 3462 8639 2258 1868 8334 8545  206 4751 8445\n",
      "  8378 8363 3942 8364 8323 8401 8438 6066 8345  321    0    0    0    0\n",
      "     0    0    0    0    0    0    0    0    0    0    0    0    0    0]\n",
      " [1417 3836 8511  747 1356    3 1855  171  373 7237 7492  195 8490 4543\n",
      "    59 1084 1648 8490 8343    7 2422  306 8389 8368 8503  302  281   94\n",
      "   185 8605 8324 8605 8377   45    0    0    0    0    0    0    0    0]\n",
      " [   6 8408 8334 3888 8881 8342 2293 4187 1840  111 8397 8334   54 9003\n",
      "   303 1161 3330  941  290 5527    0    0    0    0    0    0    0    0\n",
      "     0    0    0    0    0    0    0    0    0    0    0    0    0    0]\n",
      " [1942 8036 8499 9425 9097  427 8383 8357   24    0    0    0    0    0\n",
      "     0    0    0    0    0    0    0    0    0    0    0    0    0    0\n",
      "     0    0    0    0    0    0    0    0    0    0    0    0    0    0]]\n"
     ]
    }
   ],
   "source": [
    "# X_train, y_train, X_test, y_test\n",
    "\n",
    "# Tokenizing: X_train \n",
    "X_train_tensor, X_train_word_index, X_train_index_word = sp_tokenize_withPadding(s, X_train, maxlen)\n",
    "print(\"X_train_tensor[:10]\",X_train_tensor[:10])\n",
    "\n",
    "# Tokenizing: X_test \n",
    "X_test_tensor, X_test_word_index, X_test_index_word = sp_tokenize_withPadding(s, X_test, maxlen)\n",
    "print(\"X_test_tensor[:10]\",X_test_tensor[:10])"
   ]
  },
  {
   "cell_type": "markdown",
   "id": "88551fff",
   "metadata": {},
   "source": [
    "* **토크나이징 최종완료후 데이터 shape 확인**"
   ]
  },
  {
   "cell_type": "code",
   "execution_count": 18,
   "id": "d4b6d668",
   "metadata": {},
   "outputs": [
    {
     "name": "stdout",
     "output_type": "stream",
     "text": [
      "X_train_tensor.shape (146026, 42) y_train.shape (146026,) X_test_tensor.shape (49084, 42) y_test.shape (49084,)\n"
     ]
    }
   ],
   "source": [
    "print(\"X_train_tensor.shape\",X_train_tensor.shape,\"y_train.shape\",y_train.shape,\"X_test_tensor.shape\",X_test_tensor.shape,\"y_test.shape\",y_test.shape)\n"
   ]
  },
  {
   "cell_type": "markdown",
   "id": "bcce3fe9",
   "metadata": {},
   "source": [
    "#### (5) 모델 구성 및 validation set 구성¶"
   ]
  },
  {
   "cell_type": "code",
   "execution_count": 19,
   "id": "f5355c6e",
   "metadata": {},
   "outputs": [],
   "source": [
    "## Hyper param 설정\n",
    "vocab_size = len(X_train_word_index)   # 어휘 사전의 크기(8000 )#10,000개의 단어)\n",
    "\n",
    "word_vector_dim = 16  # 워드 벡터의 차원 수\n",
    "hidden_unit = 16\n",
    "drop_rate = 0.2\n",
    "epochs= 20 \n",
    "\n",
    "#cnn_dense_hidden_unit = 8\n",
    "#cnn_filter = 7\n",
    "#cnn_maxpool = 4\n",
    "epochs= 20 \n"
   ]
  },
  {
   "cell_type": "markdown",
   "id": "6029578d",
   "metadata": {},
   "source": [
    "* **LSTM 모델**"
   ]
  },
  {
   "cell_type": "code",
   "execution_count": 20,
   "id": "b04625a3",
   "metadata": {},
   "outputs": [
    {
     "name": "stdout",
     "output_type": "stream",
     "text": [
      "Model: \"sequential\"\n",
      "_________________________________________________________________\n",
      "Layer (type)                 Output Shape              Param #   \n",
      "=================================================================\n",
      "embedding (Embedding)        (None, None, 16)          160000    \n",
      "_________________________________________________________________\n",
      "dropout (Dropout)            (None, None, 16)          0         \n",
      "_________________________________________________________________\n",
      "lstm (LSTM)                  (None, 16)                2112      \n",
      "_________________________________________________________________\n",
      "dropout_1 (Dropout)          (None, 16)                0         \n",
      "_________________________________________________________________\n",
      "dense (Dense)                (None, 16)                272       \n",
      "_________________________________________________________________\n",
      "dense_1 (Dense)              (None, 1)                 17        \n",
      "=================================================================\n",
      "Total params: 162,401\n",
      "Trainable params: 162,401\n",
      "Non-trainable params: 0\n",
      "_________________________________________________________________\n"
     ]
    }
   ],
   "source": [
    "## LSTM 모델\n",
    "\n",
    "model_lstm = tf.keras.Sequential()\n",
    "model_lstm.add(tf.keras.layers.Embedding(vocab_size, word_vector_dim, input_shape=(None,)))\n",
    "model_lstm.add(tf.keras.layers.Dropout(drop_rate))\n",
    "model_lstm.add(tf.keras.layers.LSTM(hidden_unit)) \n",
    "model_lstm.add(tf.keras.layers.Dropout(drop_rate))\n",
    "model_lstm.add(tf.keras.layers.Dense(hidden_unit, activation='relu'))\n",
    "model_lstm.add(tf.keras.layers.Dense(1, activation='sigmoid'))  # 최종 출력은 긍정/부정을 나타내는 1dim 입니다.\n",
    "\n",
    "model_lstm.summary()"
   ]
  },
  {
   "cell_type": "markdown",
   "id": "92926549",
   "metadata": {},
   "source": [
    "* **valid data 분리**"
   ]
  },
  {
   "cell_type": "code",
   "execution_count": 21,
   "id": "2a211901",
   "metadata": {},
   "outputs": [
    {
     "name": "stdout",
     "output_type": "stream",
     "text": [
      "X_train_tensor 총개수: 146026 80%분리:  116820 20%분리: 29206\n",
      "partial_X_train 116820 partial_y_train 116820\n",
      "X_val_tensor 29206 y_val 29206\n"
     ]
    }
   ],
   "source": [
    "## 총 train data : 80:20 \n",
    "print(\"X_train_tensor 총개수:\", len(X_train_tensor), \"80%분리: \",int(len(X_train_tensor)*0.8), \"20%분리:\",len(X_train_tensor)-int(len(X_train_tensor)*0.8))\n",
    "train_len = int(len(X_train_tensor)*0.8)\n",
    "valid_len = len(X_train_tensor)-int(len(X_train_tensor)*0.8)\n",
    "\n",
    "# validation set 20% 분리: \n",
    "X_val_tensor = X_train_tensor[:valid_len]   \n",
    "y_val = y_train[:valid_len]\n",
    "\n",
    "# validation set을 제외한 나머지 15000건\n",
    "partial_X_train = X_train_tensor[valid_len:]  \n",
    "partial_y_train = y_train[valid_len:]\n",
    "\n",
    "print(\"partial_X_train\",len(partial_X_train),\"partial_y_train\",len(partial_y_train))\n",
    "print(\"X_val_tensor\",len(X_val_tensor), \"y_val\",len(y_val))"
   ]
  },
  {
   "cell_type": "markdown",
   "id": "1d06e42d",
   "metadata": {},
   "source": [
    "#### (6) LSTM모델 학습"
   ]
  },
  {
   "cell_type": "code",
   "execution_count": 22,
   "id": "80915116",
   "metadata": {},
   "outputs": [
    {
     "name": "stdout",
     "output_type": "stream",
     "text": [
      "Epoch 1/20\n",
      "229/229 [==============================] - 5s 8ms/step - loss: 0.6667 - accuracy: 0.5525 - val_loss: 0.4508 - val_accuracy: 0.7997\n",
      "Epoch 2/20\n",
      "229/229 [==============================] - 1s 6ms/step - loss: 0.3806 - accuracy: 0.8342 - val_loss: 0.3473 - val_accuracy: 0.8489\n",
      "Epoch 3/20\n",
      "229/229 [==============================] - 1s 6ms/step - loss: 0.3299 - accuracy: 0.8599 - val_loss: 0.3438 - val_accuracy: 0.8495\n",
      "Epoch 4/20\n",
      "229/229 [==============================] - 1s 6ms/step - loss: 0.3158 - accuracy: 0.8661 - val_loss: 0.3409 - val_accuracy: 0.8512\n",
      "Epoch 5/20\n",
      "229/229 [==============================] - 1s 6ms/step - loss: 0.3071 - accuracy: 0.8705 - val_loss: 0.3550 - val_accuracy: 0.8524\n",
      "Epoch 6/20\n",
      "229/229 [==============================] - 1s 6ms/step - loss: 0.2986 - accuracy: 0.8739 - val_loss: 0.3357 - val_accuracy: 0.8535\n",
      "Epoch 7/20\n",
      "229/229 [==============================] - 1s 6ms/step - loss: 0.2904 - accuracy: 0.8764 - val_loss: 0.3434 - val_accuracy: 0.8487\n",
      "Epoch 8/20\n",
      "229/229 [==============================] - 1s 6ms/step - loss: 0.2806 - accuracy: 0.8806 - val_loss: 0.3459 - val_accuracy: 0.8531\n",
      "Epoch 9/20\n",
      "229/229 [==============================] - 1s 6ms/step - loss: 0.2722 - accuracy: 0.8823 - val_loss: 0.3461 - val_accuracy: 0.8547\n",
      "Epoch 10/20\n",
      "229/229 [==============================] - 1s 6ms/step - loss: 0.2621 - accuracy: 0.8866 - val_loss: 0.3458 - val_accuracy: 0.8543\n",
      "Epoch 11/20\n",
      "229/229 [==============================] - 1s 6ms/step - loss: 0.2529 - accuracy: 0.8901 - val_loss: 0.3630 - val_accuracy: 0.8560\n",
      "Epoch 12/20\n",
      "229/229 [==============================] - 1s 6ms/step - loss: 0.2474 - accuracy: 0.8934 - val_loss: 0.3612 - val_accuracy: 0.8535\n",
      "Epoch 13/20\n",
      "229/229 [==============================] - 1s 6ms/step - loss: 0.2366 - accuracy: 0.8975 - val_loss: 0.3693 - val_accuracy: 0.8511\n",
      "Epoch 14/20\n",
      "229/229 [==============================] - 1s 6ms/step - loss: 0.2298 - accuracy: 0.9023 - val_loss: 0.3891 - val_accuracy: 0.8526\n",
      "Epoch 15/20\n",
      "229/229 [==============================] - 1s 6ms/step - loss: 0.2213 - accuracy: 0.9061 - val_loss: 0.3753 - val_accuracy: 0.8498\n",
      "Epoch 16/20\n",
      "229/229 [==============================] - 1s 6ms/step - loss: 0.2151 - accuracy: 0.9094 - val_loss: 0.3731 - val_accuracy: 0.8495\n",
      "Epoch 17/20\n",
      "229/229 [==============================] - 1s 6ms/step - loss: 0.2093 - accuracy: 0.9128 - val_loss: 0.4051 - val_accuracy: 0.8457\n",
      "Epoch 18/20\n",
      "229/229 [==============================] - 1s 6ms/step - loss: 0.2053 - accuracy: 0.9147 - val_loss: 0.3917 - val_accuracy: 0.8455\n",
      "Epoch 19/20\n",
      "229/229 [==============================] - 1s 6ms/step - loss: 0.2002 - accuracy: 0.9169 - val_loss: 0.3979 - val_accuracy: 0.8477\n",
      "Epoch 20/20\n",
      "229/229 [==============================] - 1s 6ms/step - loss: 0.1977 - accuracy: 0.9186 - val_loss: 0.3908 - val_accuracy: 0.8427\n"
     ]
    }
   ],
   "source": [
    "model_lstm.compile(optimizer='adam', loss='binary_crossentropy', metrics=['accuracy'])              \n",
    "  \n",
    "history_lstm = model_lstm.fit(partial_X_train, partial_y_train, epochs=epochs, batch_size=512, validation_data=(X_val_tensor, y_val), verbose=1)"
   ]
  },
  {
   "cell_type": "markdown",
   "id": "a83ff975",
   "metadata": {},
   "source": [
    "* **SentencePiece의 경우 LSTM Loss, Accuracy 시각화**"
   ]
  },
  {
   "cell_type": "code",
   "execution_count": 23,
   "id": "775ca1a5",
   "metadata": {},
   "outputs": [
    {
     "name": "stdout",
     "output_type": "stream",
     "text": [
      "dict_keys(['loss', 'accuracy', 'val_loss', 'val_accuracy'])\n"
     ]
    },
    {
     "data": {
      "image/png": "[encoded data removed]",
      "text/plain": [
       "<Figure size 432x288 with 2 Axes>"
      ]
     },
     "metadata": {
      "needs_background": "light"
     },
     "output_type": "display_data"
    }
   ],
   "source": [
    "history_lstm = history_lstm.history\n",
    "print(history_lstm.keys()) \n",
    "\n",
    "acc = history_lstm['accuracy']\n",
    "val_acc = history_lstm['val_accuracy']\n",
    "loss = history_lstm['loss']\n",
    "val_loss = history_lstm['val_loss']\n",
    "\n",
    "epochs = range(1, len(acc) + 1)\n",
    "\n",
    "# LOSS\n",
    "plt.subplot(1,2,1)\n",
    "plt.plot(epochs, loss, 'bo', label='Training loss')\n",
    "plt.plot(epochs, val_loss, 'b', label='Validation loss')\n",
    "plt.title('LSTM Training and validation loss')\n",
    "plt.xlabel('Epochs')\n",
    "plt.ylabel('Loss')\n",
    "plt.legend()\n",
    "\n",
    "# ACCURACY\n",
    "#plt.clf()   # 그림을 초기화합니다\n",
    "plt.subplot(1,2,2)\n",
    "plt.plot(epochs, acc, 'bo', label='Training acc')\n",
    "plt.plot(epochs, val_acc, 'b', label='Validation acc')\n",
    "plt.title('LSTM Training and validation accuracy')\n",
    "plt.xlabel('Epochs')\n",
    "plt.ylabel('Accuracy')\n",
    "plt.legend()\n",
    "plt.tight_layout()\n",
    "plt.show()"
   ]
  },
  {
   "cell_type": "markdown",
   "id": "98d420c0",
   "metadata": {},
   "source": [
    "#### (7) test data 로 모델 성능평가"
   ]
  },
  {
   "cell_type": "code",
   "execution_count": 24,
   "id": "7d994b1e",
   "metadata": {},
   "outputs": [
    {
     "name": "stdout",
     "output_type": "stream",
     "text": [
      "1534/1534 - 3s - loss: 0.4066 - accuracy: 0.8364\n",
      "results_lstm [0.4065810739994049, 0.8363621830940247]\n"
     ]
    }
   ],
   "source": [
    "## LSTM 모델 성능평가\n",
    "results_lstm = model_lstm.evaluate(X_test_tensor,  y_test, verbose=2)\n",
    "\n",
    "print(\"results_lstm\", results_lstm)"
   ]
  },
  {
   "cell_type": "markdown",
   "id": "9855bc3f",
   "metadata": {},
   "source": [
    "#### [평가] SentencePiece의 경우 LSTM test accuracy 83.64% 였슴"
   ]
  },
  {
   "cell_type": "code",
   "execution_count": null,
   "id": "12c3919d",
   "metadata": {},
   "outputs": [],
   "source": []
  }
 ],
 "metadata": {
  "kernelspec": {
   "display_name": "Python 3 (ipykernel)",
   "language": "python",
   "name": "python3"
  },
  "language_info": {
   "codemirror_mode": {
    "name": "ipython",
    "version": 3
   },
   "file_extension": ".py",
   "mimetype": "text/x-python",
   "name": "python",
   "nbconvert_exporter": "python",
   "pygments_lexer": "ipython3",
   "version": "3.9.7"
  }
 },
 "nbformat": 4,
 "nbformat_minor": 5
}
