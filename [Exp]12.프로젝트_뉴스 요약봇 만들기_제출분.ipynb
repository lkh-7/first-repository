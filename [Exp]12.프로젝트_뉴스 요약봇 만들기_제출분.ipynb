{
 "cells": [
  {
   "cell_type": "markdown",
   "id": "6a7815e8",
   "metadata": {},
   "source": [
    "## [Exp] 12. 프로젝트_뉴스기사 요약해보기\n"
   ]
  },
  {
   "cell_type": "code",
   "execution_count": 3,
   "id": "275b35d8",
   "metadata": {},
   "outputs": [
    {
     "name": "stderr",
     "output_type": "stream",
     "text": [
      "[nltk_data] Downloading package stopwords to /aiffel/nltk_data...\n",
      "[nltk_data]   Unzipping corpora/stopwords.zip.\n"
     ]
    },
    {
     "name": "stdout",
     "output_type": "stream",
     "text": [
      "=3\n",
      "3.6.5\n",
      "2.6.0\n",
      "1.2.0\n"
     ]
    }
   ],
   "source": [
    "import nltk\n",
    "nltk.download('stopwords')\n",
    "\n",
    "from importlib.metadata import version\n",
    "import tensorflow\n",
    "import summa\n",
    "import pandas as pd\n",
    "import numpy as np\n",
    "import os,sys,copy,time\n",
    "import re\n",
    "import matplotlib.pyplot as plt\n",
    "from nltk.corpus import stopwords\n",
    "from bs4 import BeautifulSoup \n",
    "from tensorflow.keras.preprocessing.text import Tokenizer \n",
    "from tensorflow.keras.preprocessing.sequence import pad_sequences\n",
    "import urllib.request\n",
    "import warnings\n",
    "warnings.filterwarnings(\"ignore\", category=UserWarning, module='bs4')\n",
    "\n",
    "print('=3')\n",
    "print(nltk.__version__)\n",
    "print(tensorflow.__version__)\n",
    "print(version('summa'))"
   ]
  },
  {
   "cell_type": "markdown",
   "id": "430f0c0d",
   "metadata": {},
   "source": [
    "### Step 1. 데이터 수집하기\n",
    "데이터는 아래 링크에 있는 뉴스 기사 데이터(news_summary_more.csv)를 사용하세요.\n",
    "\n",
    "sunnysai12345/News_Summary: https://github.com/sunnysai12345/News_Summary\n",
    "아래의 코드로 데이터를 다운로드할 수 있어요."
   ]
  },
  {
   "cell_type": "code",
   "execution_count": 4,
   "id": "8885fa29",
   "metadata": {},
   "outputs": [],
   "source": [
    "urllib.request.urlretrieve(\"https://raw.githubusercontent.com/sunnysai12345/News_Summary/master/news_summary_more.csv\", filename=\"news_summary_more.csv\")\n",
    "data = pd.read_csv('news_summary_more.csv', encoding='iso-8859-1')"
   ]
  },
  {
   "cell_type": "code",
   "execution_count": 5,
   "id": "28a67f42",
   "metadata": {},
   "outputs": [
    {
     "data": {
      "text/html": [
       "<div>\n",
       "<style scoped>\n",
       "    .dataframe tbody tr th:only-of-type {\n",
       "        vertical-align: middle;\n",
       "    }\n",
       "\n",
       "    .dataframe tbody tr th {\n",
       "        vertical-align: top;\n",
       "    }\n",
       "\n",
       "    .dataframe thead th {\n",
       "        text-align: right;\n",
       "    }\n",
       "</style>\n",
       "<table border=\"1\" class=\"dataframe\">\n",
       "  <thead>\n",
       "    <tr style=\"text-align: right;\">\n",
       "      <th></th>\n",
       "      <th>headlines</th>\n",
       "      <th>text</th>\n",
       "    </tr>\n",
       "  </thead>\n",
       "  <tbody>\n",
       "    <tr>\n",
       "      <th>9015</th>\n",
       "      <td>16-year-old kidnapped by friend for 'easy mone...</td>\n",
       "      <td>A 16-year-old boy was kidnapped and murdered i...</td>\n",
       "    </tr>\n",
       "    <tr>\n",
       "      <th>41356</th>\n",
       "      <td>Class 12 Hindi paper being circulated online i...</td>\n",
       "      <td>The CBSE has clarified that a fake question pa...</td>\n",
       "    </tr>\n",
       "    <tr>\n",
       "      <th>26401</th>\n",
       "      <td>7 people killed amid heavy rain in Dehradun</td>\n",
       "      <td>At least seven people were killed and two othe...</td>\n",
       "    </tr>\n",
       "    <tr>\n",
       "      <th>70565</th>\n",
       "      <td>Over 180 youths from Jammu and Kashmir join th...</td>\n",
       "      <td>Over 180 youths from Jammu and Kashmir were in...</td>\n",
       "    </tr>\n",
       "    <tr>\n",
       "      <th>1613</th>\n",
       "      <td>Wife burns husband alive after he denies shari...</td>\n",
       "      <td>A woman in the Indonesian province of West Nus...</td>\n",
       "    </tr>\n",
       "    <tr>\n",
       "      <th>95925</th>\n",
       "      <td>Stamping of hand baggage to end at 7 airports ...</td>\n",
       "      <td>The stamping of hand baggage will be stopped a...</td>\n",
       "    </tr>\n",
       "    <tr>\n",
       "      <th>58514</th>\n",
       "      <td>Salman, Katrina feature on December cover of '...</td>\n",
       "      <td>Salman Khan and Katrina Kaif have featured on ...</td>\n",
       "    </tr>\n",
       "    <tr>\n",
       "      <th>12199</th>\n",
       "      <td>Dream of India where Prez takes oath on Vedas:...</td>\n",
       "      <td>Union Minister Satya Pal Singh said he dreams ...</td>\n",
       "    </tr>\n",
       "    <tr>\n",
       "      <th>81171</th>\n",
       "      <td>GST will reduce inflation by 1-2% by year end:...</td>\n",
       "      <td>Revenue Secretary Hasmukh Adhia has said that ...</td>\n",
       "    </tr>\n",
       "    <tr>\n",
       "      <th>58319</th>\n",
       "      <td>FIR filed against Vaani and her parents in che...</td>\n",
       "      <td>An FIR has been filed against actress Vaani Ka...</td>\n",
       "    </tr>\n",
       "  </tbody>\n",
       "</table>\n",
       "</div>"
      ],
      "text/plain": [
       "                                               headlines  \\\n",
       "9015   16-year-old kidnapped by friend for 'easy mone...   \n",
       "41356  Class 12 Hindi paper being circulated online i...   \n",
       "26401        7 people killed amid heavy rain in Dehradun   \n",
       "70565  Over 180 youths from Jammu and Kashmir join th...   \n",
       "1613   Wife burns husband alive after he denies shari...   \n",
       "95925  Stamping of hand baggage to end at 7 airports ...   \n",
       "58514  Salman, Katrina feature on December cover of '...   \n",
       "12199  Dream of India where Prez takes oath on Vedas:...   \n",
       "81171  GST will reduce inflation by 1-2% by year end:...   \n",
       "58319  FIR filed against Vaani and her parents in che...   \n",
       "\n",
       "                                                    text  \n",
       "9015   A 16-year-old boy was kidnapped and murdered i...  \n",
       "41356  The CBSE has clarified that a fake question pa...  \n",
       "26401  At least seven people were killed and two othe...  \n",
       "70565  Over 180 youths from Jammu and Kashmir were in...  \n",
       "1613   A woman in the Indonesian province of West Nus...  \n",
       "95925  The stamping of hand baggage will be stopped a...  \n",
       "58514  Salman Khan and Katrina Kaif have featured on ...  \n",
       "12199  Union Minister Satya Pal Singh said he dreams ...  \n",
       "81171  Revenue Secretary Hasmukh Adhia has said that ...  \n",
       "58319  An FIR has been filed against actress Vaani Ka...  "
      ]
     },
     "execution_count": 5,
     "metadata": {},
     "output_type": "execute_result"
    }
   ],
   "source": [
    "data.sample(10)"
   ]
  },
  {
   "cell_type": "markdown",
   "id": "37b7fd74",
   "metadata": {},
   "source": [
    "이 데이터는 기사의 본문에 해당되는 text와 headlines 두 가지 열로 구성되어져 있습니다.\n",
    "\n",
    "추상적 요약을 하는 경우에는 text를 본문, headlines를 이미 요약된 데이터로 삼아서 모델을 학습할 수 있어요. 추출적 요약을 하는 경우에는 오직 text열만을 사용하세요."
   ]
  },
  {
   "cell_type": "code",
   "execution_count": 6,
   "id": "6269cb95",
   "metadata": {},
   "outputs": [
    {
     "name": "stdout",
     "output_type": "stream",
     "text": [
      "(98401, 2) Index(['headlines', 'text'], dtype='object')\n"
     ]
    },
    {
     "data": {
      "text/html": [
       "<div>\n",
       "<style scoped>\n",
       "    .dataframe tbody tr th:only-of-type {\n",
       "        vertical-align: middle;\n",
       "    }\n",
       "\n",
       "    .dataframe tbody tr th {\n",
       "        vertical-align: top;\n",
       "    }\n",
       "\n",
       "    .dataframe thead th {\n",
       "        text-align: right;\n",
       "    }\n",
       "</style>\n",
       "<table border=\"1\" class=\"dataframe\">\n",
       "  <thead>\n",
       "    <tr style=\"text-align: right;\">\n",
       "      <th></th>\n",
       "      <th>headlines</th>\n",
       "      <th>text</th>\n",
       "    </tr>\n",
       "  </thead>\n",
       "  <tbody>\n",
       "    <tr>\n",
       "      <th>22524</th>\n",
       "      <td>Snapchat loses daily users for the first time ...</td>\n",
       "      <td>Snapchat CEO Evan Spiegel revealed the photo-s...</td>\n",
       "    </tr>\n",
       "    <tr>\n",
       "      <th>90846</th>\n",
       "      <td>Gunman kills one, injures 6 at a pool party in US</td>\n",
       "      <td>One person was killed and six others were inju...</td>\n",
       "    </tr>\n",
       "    <tr>\n",
       "      <th>87449</th>\n",
       "      <td>J&amp;KÃ¢ÂÂs first professional football academy...</td>\n",
       "      <td>In a bid to boost sports in the state, Jammu a...</td>\n",
       "    </tr>\n",
       "    <tr>\n",
       "      <th>10698</th>\n",
       "      <td>I'm back to full operations: NASA Curiosity ro...</td>\n",
       "      <td>NASA's Mars Curiosity rover on Wednesday tweet...</td>\n",
       "    </tr>\n",
       "    <tr>\n",
       "      <th>89180</th>\n",
       "      <td>No saffronisation in NCERT textbooks: RTI query</td>\n",
       "      <td>Responding to an RTI query asking for the chan...</td>\n",
       "    </tr>\n",
       "    <tr>\n",
       "      <th>17806</th>\n",
       "      <td>Odisha policeman controls traffic with his dan...</td>\n",
       "      <td>Pratap Chandra Khandwal, a 33-year-old traffic...</td>\n",
       "    </tr>\n",
       "    <tr>\n",
       "      <th>21194</th>\n",
       "      <td>17 kids fall ill after eating mid-day meal at ...</td>\n",
       "      <td>Seventeen students and a staff member were adm...</td>\n",
       "    </tr>\n",
       "    <tr>\n",
       "      <th>2981</th>\n",
       "      <td>Oracle's Founder, Musk's friend, reveals $1 bi...</td>\n",
       "      <td>Larry Ellison, Oracle Co-founder and a long-ti...</td>\n",
       "    </tr>\n",
       "    <tr>\n",
       "      <th>84975</th>\n",
       "      <td>Akshay will get PM to tweet if Padman certifie...</td>\n",
       "      <td>Abhishek Saxena, director of 'Phullu', said th...</td>\n",
       "    </tr>\n",
       "    <tr>\n",
       "      <th>47240</th>\n",
       "      <td>YSR Congress ready to move no-confidence motio...</td>\n",
       "      <td>YSR Congress chief YS Jagan Mohan Reddy on Sun...</td>\n",
       "    </tr>\n",
       "    <tr>\n",
       "      <th>31345</th>\n",
       "      <td>Fan enters field to touch Kohli's feet, take s...</td>\n",
       "      <td>A fan invaded the field and took a selfie with...</td>\n",
       "    </tr>\n",
       "    <tr>\n",
       "      <th>69617</th>\n",
       "      <td>2 former world champions of same team crash on...</td>\n",
       "      <td>Former F1 world champions Kimi Raikkonen and S...</td>\n",
       "    </tr>\n",
       "    <tr>\n",
       "      <th>85275</th>\n",
       "      <td>Couple sentenced to jail after daughter has 17...</td>\n",
       "      <td>A couple in the US has been convicted of child...</td>\n",
       "    </tr>\n",
       "    <tr>\n",
       "      <th>4602</th>\n",
       "      <td>Benazir Bhutto was 1st-ever female leader of a...</td>\n",
       "      <td>Former two-time Pakistani Prime Minister Benaz...</td>\n",
       "    </tr>\n",
       "    <tr>\n",
       "      <th>13303</th>\n",
       "      <td>Infosys second-quarter profit rises over 10% t...</td>\n",
       "      <td>India's second-largest software services expor...</td>\n",
       "    </tr>\n",
       "  </tbody>\n",
       "</table>\n",
       "</div>"
      ],
      "text/plain": [
       "                                               headlines  \\\n",
       "22524  Snapchat loses daily users for the first time ...   \n",
       "90846  Gunman kills one, injures 6 at a pool party in US   \n",
       "87449  J&KÃ¢ÂÂs first professional football academy...   \n",
       "10698  I'm back to full operations: NASA Curiosity ro...   \n",
       "89180    No saffronisation in NCERT textbooks: RTI query   \n",
       "17806  Odisha policeman controls traffic with his dan...   \n",
       "21194  17 kids fall ill after eating mid-day meal at ...   \n",
       "2981   Oracle's Founder, Musk's friend, reveals $1 bi...   \n",
       "84975  Akshay will get PM to tweet if Padman certifie...   \n",
       "47240  YSR Congress ready to move no-confidence motio...   \n",
       "31345  Fan enters field to touch Kohli's feet, take s...   \n",
       "69617  2 former world champions of same team crash on...   \n",
       "85275  Couple sentenced to jail after daughter has 17...   \n",
       "4602   Benazir Bhutto was 1st-ever female leader of a...   \n",
       "13303  Infosys second-quarter profit rises over 10% t...   \n",
       "\n",
       "                                                    text  \n",
       "22524  Snapchat CEO Evan Spiegel revealed the photo-s...  \n",
       "90846  One person was killed and six others were inju...  \n",
       "87449  In a bid to boost sports in the state, Jammu a...  \n",
       "10698  NASA's Mars Curiosity rover on Wednesday tweet...  \n",
       "89180  Responding to an RTI query asking for the chan...  \n",
       "17806  Pratap Chandra Khandwal, a 33-year-old traffic...  \n",
       "21194  Seventeen students and a staff member were adm...  \n",
       "2981   Larry Ellison, Oracle Co-founder and a long-ti...  \n",
       "84975  Abhishek Saxena, director of 'Phullu', said th...  \n",
       "47240  YSR Congress chief YS Jagan Mohan Reddy on Sun...  \n",
       "31345  A fan invaded the field and took a selfie with...  \n",
       "69617  Former F1 world champions Kimi Raikkonen and S...  \n",
       "85275  A couple in the US has been convicted of child...  \n",
       "4602   Former two-time Pakistani Prime Minister Benaz...  \n",
       "13303  India's second-largest software services expor...  "
      ]
     },
     "execution_count": 6,
     "metadata": {},
     "output_type": "execute_result"
    }
   ],
   "source": [
    "print(data.shape,data.columns)\n",
    "\n",
    "#랜덤한 15개 샘플 출력\n",
    "data.sample(15)"
   ]
  },
  {
   "cell_type": "markdown",
   "id": "6e6a0feb",
   "metadata": {},
   "source": [
    "### Step 2. 데이터 전처리하기 (추상적 요약)\n",
    "실습에서 사용된 전처리를 참고하여 각자 필요하다고 생각하는 전처리를 추가 사용하여 텍스트를 정규화 또는 정제해 보세요. 만약, 불용어 제거를 선택한다면 상대적으로 길이가 짧은 요약 데이터에 대해서도 불용어를 제거하는 것이 좋을지 고민해 보세요."
   ]
  },
  {
   "cell_type": "markdown",
   "id": "1c7e54b4",
   "metadata": {},
   "source": [
    "중복 샘플과 NULL 값이 존재하는 샘플 제거\n"
   ]
  },
  {
   "cell_type": "code",
   "execution_count": 7,
   "id": "e6af28df",
   "metadata": {},
   "outputs": [
    {
     "name": "stdout",
     "output_type": "stream",
     "text": [
      "text 열에서 중복을 배제한 유일한 샘플의 수 : 98360\n",
      "headlines 열에서 중복을 배제한 유일한 샘플의 수 : 98280\n"
     ]
    }
   ],
   "source": [
    "print('text 열에서 중복을 배제한 유일한 샘플의 수 :', data['text'].nunique())\n",
    "print('headlines 열에서 중복을 배제한 유일한 샘플의 수 :', data['headlines'].nunique())"
   ]
  },
  {
   "cell_type": "code",
   "execution_count": 8,
   "id": "86c9cb09",
   "metadata": {},
   "outputs": [
    {
     "name": "stdout",
     "output_type": "stream",
     "text": [
      "전체 샘플수 : 98360\n"
     ]
    }
   ],
   "source": [
    "# text 중복값제거\n",
    "data.drop_duplicates(subset = ['text'], inplace=True)\n",
    "print('전체 샘플수 :', (len(data)))"
   ]
  },
  {
   "cell_type": "code",
   "execution_count": 9,
   "id": "40bd81ce",
   "metadata": {},
   "outputs": [
    {
     "name": "stdout",
     "output_type": "stream",
     "text": [
      "headlines    0\n",
      "text         0\n",
      "dtype: int64\n"
     ]
    }
   ],
   "source": [
    "print(data.isnull().sum())"
   ]
  },
  {
   "cell_type": "markdown",
   "id": "9451291a",
   "metadata": {},
   "source": [
    "텍스트 정규화와 불용어 제거"
   ]
  },
  {
   "cell_type": "code",
   "execution_count": 10,
   "id": "98ed3ed5",
   "metadata": {},
   "outputs": [
    {
     "name": "stdout",
     "output_type": "stream",
     "text": [
      "정규화 사전의 수:  120\n"
     ]
    }
   ],
   "source": [
    "contractions = {\"ain't\": \"is not\", \"aren't\": \"are not\",\"can't\": \"cannot\", \"'cause\": \"because\", \"could've\": \"could have\", \"couldn't\": \"could not\",\n",
    "                           \"didn't\": \"did not\",  \"doesn't\": \"does not\", \"don't\": \"do not\", \"hadn't\": \"had not\", \"hasn't\": \"has not\", \"haven't\": \"have not\",\n",
    "                           \"he'd\": \"he would\",\"he'll\": \"he will\", \"he's\": \"he is\", \"how'd\": \"how did\", \"how'd'y\": \"how do you\", \"how'll\": \"how will\", \"how's\": \"how is\",\n",
    "                           \"I'd\": \"I would\", \"I'd've\": \"I would have\", \"I'll\": \"I will\", \"I'll've\": \"I will have\",\"I'm\": \"I am\", \"I've\": \"I have\", \"i'd\": \"i would\",\n",
    "                           \"i'd've\": \"i would have\", \"i'll\": \"i will\",  \"i'll've\": \"i will have\",\"i'm\": \"i am\", \"i've\": \"i have\", \"isn't\": \"is not\", \"it'd\": \"it would\",\n",
    "                           \"it'd've\": \"it would have\", \"it'll\": \"it will\", \"it'll've\": \"it will have\",\"it's\": \"it is\", \"let's\": \"let us\", \"ma'am\": \"madam\",\n",
    "                           \"mayn't\": \"may not\", \"might've\": \"might have\",\"mightn't\": \"might not\",\"mightn't've\": \"might not have\", \"must've\": \"must have\",\n",
    "                           \"mustn't\": \"must not\", \"mustn't've\": \"must not have\", \"needn't\": \"need not\", \"needn't've\": \"need not have\",\"o'clock\": \"of the clock\",\n",
    "                           \"oughtn't\": \"ought not\", \"oughtn't've\": \"ought not have\", \"shan't\": \"shall not\", \"sha'n't\": \"shall not\", \"shan't've\": \"shall not have\",\n",
    "                           \"she'd\": \"she would\", \"she'd've\": \"she would have\", \"she'll\": \"she will\", \"she'll've\": \"she will have\", \"she's\": \"she is\",\n",
    "                           \"should've\": \"should have\", \"shouldn't\": \"should not\", \"shouldn't've\": \"should not have\", \"so've\": \"so have\",\"so's\": \"so as\",\n",
    "                           \"this's\": \"this is\",\"that'd\": \"that would\", \"that'd've\": \"that would have\", \"that's\": \"that is\", \"there'd\": \"there would\",\n",
    "                           \"there'd've\": \"there would have\", \"there's\": \"there is\", \"here's\": \"here is\",\"they'd\": \"they would\", \"they'd've\": \"they would have\",\n",
    "                           \"they'll\": \"they will\", \"they'll've\": \"they will have\", \"they're\": \"they are\", \"they've\": \"they have\", \"to've\": \"to have\",\n",
    "                           \"wasn't\": \"was not\", \"we'd\": \"we would\", \"we'd've\": \"we would have\", \"we'll\": \"we will\", \"we'll've\": \"we will have\", \"we're\": \"we are\",\n",
    "                           \"we've\": \"we have\", \"weren't\": \"were not\", \"what'll\": \"what will\", \"what'll've\": \"what will have\", \"what're\": \"what are\",\n",
    "                           \"what's\": \"what is\", \"what've\": \"what have\", \"when's\": \"when is\", \"when've\": \"when have\", \"where'd\": \"where did\", \"where's\": \"where is\",\n",
    "                           \"where've\": \"where have\", \"who'll\": \"who will\", \"who'll've\": \"who will have\", \"who's\": \"who is\", \"who've\": \"who have\",\n",
    "                           \"why's\": \"why is\", \"why've\": \"why have\", \"will've\": \"will have\", \"won't\": \"will not\", \"won't've\": \"will not have\",\n",
    "                           \"would've\": \"would have\", \"wouldn't\": \"would not\", \"wouldn't've\": \"would not have\", \"y'all\": \"you all\",\n",
    "                           \"y'all'd\": \"you all would\",\"y'all'd've\": \"you all would have\",\"y'all're\": \"you all are\",\"y'all've\": \"you all have\",\n",
    "                           \"you'd\": \"you would\", \"you'd've\": \"you would have\", \"you'll\": \"you will\", \"you'll've\": \"you will have\",\n",
    "                           \"you're\": \"you are\", \"you've\": \"you have\"}\n",
    "\n",
    "print(\"정규화 사전의 수: \", len(contractions))"
   ]
  },
  {
   "cell_type": "code",
   "execution_count": 11,
   "id": "1fb1a6f2",
   "metadata": {},
   "outputs": [
    {
     "name": "stdout",
     "output_type": "stream",
     "text": [
      "불용어 개수 : 179\n",
      "['i', 'me', 'my', 'myself', 'we', 'our', 'ours', 'ourselves', 'you', \"you're\", \"you've\", \"you'll\", \"you'd\", 'your', 'yours', 'yourself', 'yourselves', 'he', 'him', 'his', 'himself', 'she', \"she's\", 'her', 'hers', 'herself', 'it', \"it's\", 'its', 'itself', 'they', 'them', 'their', 'theirs', 'themselves', 'what', 'which', 'who', 'whom', 'this', 'that', \"that'll\", 'these', 'those', 'am', 'is', 'are', 'was', 'were', 'be', 'been', 'being', 'have', 'has', 'had', 'having', 'do', 'does', 'did', 'doing', 'a', 'an', 'the', 'and', 'but', 'if', 'or', 'because', 'as', 'until', 'while', 'of', 'at', 'by', 'for', 'with', 'about', 'against', 'between', 'into', 'through', 'during', 'before', 'after', 'above', 'below', 'to', 'from', 'up', 'down', 'in', 'out', 'on', 'off', 'over', 'under', 'again', 'further', 'then', 'once', 'here', 'there', 'when', 'where', 'why', 'how', 'all', 'any', 'both', 'each', 'few', 'more', 'most', 'other', 'some', 'such', 'no', 'nor', 'not', 'only', 'own', 'same', 'so', 'than', 'too', 'very', 's', 't', 'can', 'will', 'just', 'don', \"don't\", 'should', \"should've\", 'now', 'd', 'll', 'm', 'o', 're', 've', 'y', 'ain', 'aren', \"aren't\", 'couldn', \"couldn't\", 'didn', \"didn't\", 'doesn', \"doesn't\", 'hadn', \"hadn't\", 'hasn', \"hasn't\", 'haven', \"haven't\", 'isn', \"isn't\", 'ma', 'mightn', \"mightn't\", 'mustn', \"mustn't\", 'needn', \"needn't\", 'shan', \"shan't\", 'shouldn', \"shouldn't\", 'wasn', \"wasn't\", 'weren', \"weren't\", 'won', \"won't\", 'wouldn', \"wouldn't\"]\n"
     ]
    }
   ],
   "source": [
    "print('불용어 개수 :', len(stopwords.words('english') ))\n",
    "print(stopwords.words('english'))"
   ]
  },
  {
   "cell_type": "markdown",
   "id": "06d75a95",
   "metadata": {},
   "source": [
    "데이터 전처리 함수생성: 정규화,불용어,데이터 정제처리등"
   ]
  },
  {
   "cell_type": "code",
   "execution_count": 12,
   "id": "97318603",
   "metadata": {},
   "outputs": [],
   "source": [
    "# 데이터 전처리 함수\n",
    "def preprocess_sentence(sentence, remove_stopwords=True):\n",
    "    sentence = sentence.lower() # 텍스트 소문자화\n",
    "    sentence = BeautifulSoup(sentence, \"lxml\").text # <br />, <a href = ...> 등의 html 태그 제거\n",
    "    sentence = re.sub(r'\\([^)]*\\)', '', sentence) # 괄호로 닫힌 문자열 (...) 제거 Ex) my husband (and myself!) for => my husband for\n",
    "    sentence = re.sub('\"','', sentence) # 쌍따옴표 \" 제거\n",
    "    sentence = ' '.join([contractions[t] if t in contractions else t for t in sentence.split(\" \")]) # 약어 정규화\n",
    "    sentence = re.sub(r\"'s\\b\",\"\", sentence) # 소유격 제거. Ex) roland's -> roland\n",
    "    sentence = re.sub(\"[^a-zA-Z]\", \" \", sentence) # 영어 외 문자(숫자, 특수문자 등) 공백으로 변환\n",
    "    sentence = re.sub('[m]{2,}', 'mm', sentence) # m이 3개 이상이면 2개로 변경. Ex) ummmmmmm yeah -> umm yeah\n",
    "    \n",
    "    # 불용어 제거 (Text)\n",
    "    if remove_stopwords:\n",
    "        tokens = ' '.join(word for word in sentence.split() if not word in stopwords.words('english') if len(word) > 1)\n",
    "    # 불용어 미제거 (Summary)\n",
    "    else:\n",
    "        tokens = ' '.join(word for word in sentence.split() if len(word) > 1)\n",
    "    return tokens"
   ]
  },
  {
   "cell_type": "markdown",
   "id": "a71218c9",
   "metadata": {},
   "source": [
    "전체 text 데이터에 대한 전처리"
   ]
  },
  {
   "cell_type": "code",
   "execution_count": 13,
   "id": "4ceaf6dd",
   "metadata": {},
   "outputs": [
    {
     "name": "stdout",
     "output_type": "stream",
     "text": [
      "Text 전처리 후 결과:  ['saurav kant alumnus upgrad iiit pg program machine learning artificial intelligence sr systems engineer infosys almost years work experience program upgrad degree career support helped transition data scientist tech mahindra salary hike upgrad online power learning powered lakh careers', 'kunal shah credit card bill payment platform cred gave users chance win free food swiggy one year pranav kaushik delhi techie bagged reward spending cred coins users get one cred coin per rupee bill paid used avail rewards brands like ixigo bookmyshow ubereats cult fit', 'new zealand defeated india wickets fourth odi hamilton thursday win first match five match odi series india lost international match rohit sharma captaincy consecutive victories dating back march match witnessed india getting seventh lowest total odi cricket history', 'aegon life iterm insurance plan customers enjoy tax benefits premiums paid save taxes plan provides life cover age years also customers options insure critical illnesses disability accidental death benefit rider life cover age years', 'speaking sexual harassment allegations rajkumar hirani sonam kapoor said known hirani many years true metoo movement get derailed metoo movement always believe woman case need reserve judgment added hirani accused assistant worked sanju']\n"
     ]
    }
   ],
   "source": [
    "clean_text = []\n",
    "for s in data['text']:\n",
    "    clean_text.append(preprocess_sentence(s))\n",
    "\n",
    "print(\"Text 전처리 후 결과: \", clean_text[:5])"
   ]
  },
  {
   "cell_type": "markdown",
   "id": "1ec5a46b",
   "metadata": {},
   "source": [
    "전체 headlines 데이터에 대한 전처리: headlines의 길이가 짧아보이지 않아서, 불용어처리 True"
   ]
  },
  {
   "cell_type": "code",
   "execution_count": 14,
   "id": "168b8656",
   "metadata": {},
   "outputs": [
    {
     "name": "stdout",
     "output_type": "stream",
     "text": [
      "headlines 전처리 후 결과:  ['upgrad learner switches career ml al salary hike', 'delhi techie wins free food swiggy one year cred', 'new zealand end rohit sharma led india match winning streak', 'aegon life iterm insurance plan helps customers save tax', 'known hirani yrs metoo claims true sonam']\n"
     ]
    }
   ],
   "source": [
    "clean_headlines = []\n",
    "for s in data['headlines']:\n",
    "    clean_headlines.append(preprocess_sentence(s, True))\n",
    "\n",
    "print(\"headlines 전처리 후 결과: \", clean_headlines[:5])"
   ]
  },
  {
   "cell_type": "code",
   "execution_count": 15,
   "id": "9dc5fd23",
   "metadata": {},
   "outputs": [],
   "source": [
    "data['text'] = clean_text\n",
    "data['headlines'] = clean_headlines \n",
    "\n",
    "# 빈 값을 Null 값으로 변환\n",
    "data.replace('', np.nan, inplace=True)\n"
   ]
  },
  {
   "cell_type": "code",
   "execution_count": 16,
   "id": "cf744f94",
   "metadata": {},
   "outputs": [
    {
     "data": {
      "text/plain": [
       "headlines    0\n",
       "text         0\n",
       "dtype: int64"
      ]
     },
     "execution_count": 16,
     "metadata": {},
     "output_type": "execute_result"
    }
   ],
   "source": [
    "data.isnull().sum()"
   ]
  },
  {
   "cell_type": "code",
   "execution_count": 17,
   "id": "ee1c8786",
   "metadata": {},
   "outputs": [
    {
     "name": "stdout",
     "output_type": "stream",
     "text": [
      "전체 샘플수 : 98360\n"
     ]
    }
   ],
   "source": [
    "data.dropna(axis=0, inplace=True)\n",
    "print('전체 샘플수 :', (len(data)))"
   ]
  },
  {
   "cell_type": "markdown",
   "id": "6f1c5b25",
   "metadata": {},
   "source": [
    "샘플의 최대 길이 정하기"
   ]
  },
  {
   "cell_type": "code",
   "execution_count": 18,
   "id": "0ea14bc2",
   "metadata": {},
   "outputs": [
    {
     "name": "stdout",
     "output_type": "stream",
     "text": [
      "텍스트의 최소 길이 : 1\n",
      "텍스트의 최대 길이 : 60\n",
      "텍스트의 평균 길이 : 35.09968483123221\n",
      "요약의 최소 길이 : 1\n",
      "요약의 최대 길이 : 13\n",
      "요약의 평균 길이 : 7.136183407889386\n"
     ]
    },
    {
     "data": {
      "image/png": "[encoded data removed]",
      "text/plain": [
       "<Figure size 432x288 with 2 Axes>"
      ]
     },
     "metadata": {
      "needs_background": "light"
     },
     "output_type": "display_data"
    },
    {
     "data": {
      "image/png": "[encoded data removed]",
      "text/plain": [
       "<Figure size 432x288 with 1 Axes>"
      ]
     },
     "metadata": {
      "needs_background": "light"
     },
     "output_type": "display_data"
    },
    {
     "data": {
      "image/png": "[encoded data removed]",
      "text/plain": [
       "<Figure size 432x288 with 1 Axes>"
      ]
     },
     "metadata": {
      "needs_background": "light"
     },
     "output_type": "display_data"
    }
   ],
   "source": [
    "# 길이 분포 출력\n",
    "import matplotlib.pyplot as plt\n",
    "\n",
    "text_len = [len(s.split()) for s in data['text']]\n",
    "headlines_len = [len(s.split()) for s in data['headlines']]\n",
    "\n",
    "print('텍스트의 최소 길이 : {}'.format(np.min(text_len)))\n",
    "print('텍스트의 최대 길이 : {}'.format(np.max(text_len)))\n",
    "print('텍스트의 평균 길이 : {}'.format(np.mean(text_len)))\n",
    "print('요약의 최소 길이 : {}'.format(np.min(headlines_len)))\n",
    "print('요약의 최대 길이 : {}'.format(np.max(headlines_len)))\n",
    "print('요약의 평균 길이 : {}'.format(np.mean(headlines_len)))\n",
    "\n",
    "plt.subplot(1,2,1)\n",
    "plt.boxplot(text_len)\n",
    "plt.title('Text')\n",
    "plt.subplot(1,2,2)\n",
    "plt.boxplot(headlines_len)\n",
    "plt.title('headlines')\n",
    "plt.tight_layout()\n",
    "plt.show()\n",
    "\n",
    "plt.title('text')\n",
    "plt.hist(text_len, bins = 40)\n",
    "plt.xlabel('length of samples')\n",
    "plt.ylabel('number of samples')\n",
    "plt.show()\n",
    "\n",
    "plt.title('headlines')\n",
    "plt.hist(headlines_len, bins = 40)\n",
    "plt.xlabel('length of samples')\n",
    "plt.ylabel('number of samples')\n",
    "plt.show()"
   ]
  },
  {
   "cell_type": "code",
   "execution_count": 19,
   "id": "adb7d70d",
   "metadata": {},
   "outputs": [],
   "source": [
    "text_max_len = 40\n",
    "headlines_max_len = 8\n"
   ]
  },
  {
   "cell_type": "code",
   "execution_count": 20,
   "id": "aff1e8cb",
   "metadata": {},
   "outputs": [],
   "source": [
    "def below_threshold_len(max_len, nested_list):\n",
    "  cnt = 0\n",
    "  for s in nested_list:\n",
    "    if(len(s.split()) <= max_len):\n",
    "        cnt = cnt + 1\n",
    "  print('전체 샘플 중 길이가 %s 이하인 샘플의 비율: %s'%(max_len, (cnt / len(nested_list))))\n"
   ]
  },
  {
   "cell_type": "code",
   "execution_count": 21,
   "id": "cabdbbf8",
   "metadata": {},
   "outputs": [
    {
     "name": "stdout",
     "output_type": "stream",
     "text": [
      "전체 샘플 중 길이가 40 이하인 샘플의 비율: 0.9238714924766165\n",
      "전체 샘플 중 길이가 8 이하인 샘플의 비율: 0.8925782838552258\n"
     ]
    }
   ],
   "source": [
    "below_threshold_len(text_max_len, data['text'])\n",
    "below_threshold_len(headlines_max_len,  data['headlines'])"
   ]
  },
  {
   "cell_type": "code",
   "execution_count": 22,
   "id": "78cff78a",
   "metadata": {},
   "outputs": [
    {
     "name": "stdout",
     "output_type": "stream",
     "text": [
      "전체 샘플수 : 81914\n"
     ]
    }
   ],
   "source": [
    "data = data[data['text'].apply(lambda x: len(x.split()) <= text_max_len)]\n",
    "data = data[data['headlines'].apply(lambda x: len(x.split()) <= headlines_max_len)]\n",
    "print('전체 샘플수 :', (len(data)))"
   ]
  },
  {
   "cell_type": "markdown",
   "id": "c99989e7",
   "metadata": {},
   "source": [
    "시작 토큰과 종료 토큰 추가하기"
   ]
  },
  {
   "cell_type": "code",
   "execution_count": 23,
   "id": "c0ee034a",
   "metadata": {},
   "outputs": [
    {
     "data": {
      "text/html": [
       "<div>\n",
       "<style scoped>\n",
       "    .dataframe tbody tr th:only-of-type {\n",
       "        vertical-align: middle;\n",
       "    }\n",
       "\n",
       "    .dataframe tbody tr th {\n",
       "        vertical-align: top;\n",
       "    }\n",
       "\n",
       "    .dataframe thead th {\n",
       "        text-align: right;\n",
       "    }\n",
       "</style>\n",
       "<table border=\"1\" class=\"dataframe\">\n",
       "  <thead>\n",
       "    <tr style=\"text-align: right;\">\n",
       "      <th></th>\n",
       "      <th>headlines</th>\n",
       "      <th>text</th>\n",
       "      <th>decoder_input</th>\n",
       "      <th>decoder_target</th>\n",
       "    </tr>\n",
       "  </thead>\n",
       "  <tbody>\n",
       "    <tr>\n",
       "      <th>0</th>\n",
       "      <td>upgrad learner switches career ml al salary hike</td>\n",
       "      <td>saurav kant alumnus upgrad iiit pg program mac...</td>\n",
       "      <td>sostoken upgrad learner switches career ml al ...</td>\n",
       "      <td>upgrad learner switches career ml al salary hi...</td>\n",
       "    </tr>\n",
       "    <tr>\n",
       "      <th>4</th>\n",
       "      <td>known hirani yrs metoo claims true sonam</td>\n",
       "      <td>speaking sexual harassment allegations rajkuma...</td>\n",
       "      <td>sostoken known hirani yrs metoo claims true sonam</td>\n",
       "      <td>known hirani yrs metoo claims true sonam eostoken</td>\n",
       "    </tr>\n",
       "    <tr>\n",
       "      <th>6</th>\n",
       "      <td>india get lowest odi total new zealand</td>\n",
       "      <td>india recorded lowest odi total new zealand ge...</td>\n",
       "      <td>sostoken india get lowest odi total new zealand</td>\n",
       "      <td>india get lowest odi total new zealand eostoken</td>\n",
       "    </tr>\n",
       "    <tr>\n",
       "      <th>7</th>\n",
       "      <td>govt directs alok verma join work day retirement</td>\n",
       "      <td>weeks ex cbi director alok verma told departme...</td>\n",
       "      <td>sostoken govt directs alok verma join work day...</td>\n",
       "      <td>govt directs alok verma join work day retireme...</td>\n",
       "    </tr>\n",
       "    <tr>\n",
       "      <th>9</th>\n",
       "      <td>cong wins ramgarh bypoll rajasthan takes total...</td>\n",
       "      <td>congress candidate shafia zubair ramgarh assem...</td>\n",
       "      <td>sostoken cong wins ramgarh bypoll rajasthan ta...</td>\n",
       "      <td>cong wins ramgarh bypoll rajasthan takes total...</td>\n",
       "    </tr>\n",
       "  </tbody>\n",
       "</table>\n",
       "</div>"
      ],
      "text/plain": [
       "                                           headlines  \\\n",
       "0   upgrad learner switches career ml al salary hike   \n",
       "4           known hirani yrs metoo claims true sonam   \n",
       "6             india get lowest odi total new zealand   \n",
       "7   govt directs alok verma join work day retirement   \n",
       "9  cong wins ramgarh bypoll rajasthan takes total...   \n",
       "\n",
       "                                                text  \\\n",
       "0  saurav kant alumnus upgrad iiit pg program mac...   \n",
       "4  speaking sexual harassment allegations rajkuma...   \n",
       "6  india recorded lowest odi total new zealand ge...   \n",
       "7  weeks ex cbi director alok verma told departme...   \n",
       "9  congress candidate shafia zubair ramgarh assem...   \n",
       "\n",
       "                                       decoder_input  \\\n",
       "0  sostoken upgrad learner switches career ml al ...   \n",
       "4  sostoken known hirani yrs metoo claims true sonam   \n",
       "6    sostoken india get lowest odi total new zealand   \n",
       "7  sostoken govt directs alok verma join work day...   \n",
       "9  sostoken cong wins ramgarh bypoll rajasthan ta...   \n",
       "\n",
       "                                      decoder_target  \n",
       "0  upgrad learner switches career ml al salary hi...  \n",
       "4  known hirani yrs metoo claims true sonam eostoken  \n",
       "6    india get lowest odi total new zealand eostoken  \n",
       "7  govt directs alok verma join work day retireme...  \n",
       "9  cong wins ramgarh bypoll rajasthan takes total...  "
      ]
     },
     "execution_count": 23,
     "metadata": {},
     "output_type": "execute_result"
    }
   ],
   "source": [
    "# 요약 데이터에는 시작 토큰과 종료 토큰을 추가한다.\n",
    "data['decoder_input'] = data['headlines'].apply(lambda x : 'sostoken '+ x)\n",
    "data['decoder_target'] = data['headlines'].apply(lambda x : x + ' eostoken')\n",
    "data.head()"
   ]
  },
  {
   "cell_type": "code",
   "execution_count": 24,
   "id": "b64aa451",
   "metadata": {},
   "outputs": [],
   "source": [
    "encoder_input = np.array(data['text']) # 인코더의 입력\n",
    "decoder_input = np.array(data['decoder_input']) # 디코더의 입력\n",
    "decoder_target = np.array(data['decoder_target']) # 디코더의 레이블\n"
   ]
  },
  {
   "cell_type": "markdown",
   "id": "8ea4b9c7",
   "metadata": {},
   "source": [
    "#### 훈련 데이터와 테스트 데이터를 분리 : 8:2의 비율"
   ]
  },
  {
   "cell_type": "code",
   "execution_count": 25,
   "id": "aadc12e7",
   "metadata": {},
   "outputs": [
    {
     "name": "stdout",
     "output_type": "stream",
     "text": [
      "[ 6819 59272 48003 ... 62824 74481  4590]\n"
     ]
    }
   ],
   "source": [
    "indices = np.arange(encoder_input.shape[0])\n",
    "np.random.shuffle(indices)\n",
    "print(indices)"
   ]
  },
  {
   "cell_type": "code",
   "execution_count": 26,
   "id": "85b1d67f",
   "metadata": {},
   "outputs": [],
   "source": [
    "encoder_input = encoder_input[indices]\n",
    "decoder_input = decoder_input[indices]\n",
    "decoder_target = decoder_target[indices]\n"
   ]
  },
  {
   "cell_type": "code",
   "execution_count": 27,
   "id": "87be7be2",
   "metadata": {},
   "outputs": [
    {
     "name": "stdout",
     "output_type": "stream",
     "text": [
      "테스트 데이터의 수 : 16382\n"
     ]
    }
   ],
   "source": [
    "n_of_val = int(len(encoder_input)*0.2)\n",
    "print('테스트 데이터의 수 :', n_of_val)"
   ]
  },
  {
   "cell_type": "code",
   "execution_count": 28,
   "id": "e228c329",
   "metadata": {},
   "outputs": [
    {
     "name": "stdout",
     "output_type": "stream",
     "text": [
      "훈련 데이터의 개수 : 65532\n",
      "훈련 레이블의 개수 : 65532\n",
      "테스트 데이터의 개수 : 16382\n",
      "테스트 레이블의 개수 : 16382\n"
     ]
    }
   ],
   "source": [
    "encoder_input_train = encoder_input[:-n_of_val]\n",
    "decoder_input_train = decoder_input[:-n_of_val]\n",
    "decoder_target_train = decoder_target[:-n_of_val]\n",
    "\n",
    "encoder_input_test = encoder_input[-n_of_val:]\n",
    "decoder_input_test = decoder_input[-n_of_val:]\n",
    "decoder_target_test = decoder_target[-n_of_val:]\n",
    "\n",
    "print('훈련 데이터의 개수 :', len(encoder_input_train))\n",
    "print('훈련 레이블의 개수 :', len(decoder_input_train))\n",
    "print('테스트 데이터의 개수 :', len(encoder_input_test))\n",
    "print('테스트 레이블의 개수 :', len(decoder_input_test))"
   ]
  },
  {
   "cell_type": "markdown",
   "id": "324019e5",
   "metadata": {},
   "source": [
    "#### encoder_input_train  토큰화"
   ]
  },
  {
   "cell_type": "code",
   "execution_count": 29,
   "id": "772a8584",
   "metadata": {},
   "outputs": [],
   "source": [
    "src_tokenizer = Tokenizer() # 토크나이저 \n",
    "src_tokenizer.fit_on_texts(encoder_input_train) # 입력된 데이터로부터 단어 집합 생성\n"
   ]
  },
  {
   "cell_type": "markdown",
   "id": "aeee07a4",
   "metadata": {},
   "source": [
    "토큰화시킨 encoder_input_train data의 단어들의 빈도수 파악"
   ]
  },
  {
   "cell_type": "code",
   "execution_count": 30,
   "id": "7890b5c4",
   "metadata": {},
   "outputs": [
    {
     "name": "stdout",
     "output_type": "stream",
     "text": [
      "단어 집합(vocabulary)의 크기 : 63048\n",
      "등장 빈도가 6번 이하인 희귀 단어의 수: 43008\n",
      "단어 집합에서 희귀 단어를 제외시킬 경우의 단어 집합의 크기 20040\n",
      "단어 집합에서 희귀 단어의 비율: 68.21469356680623\n",
      "전체 등장 빈도에서 희귀 단어 등장 빈도 비율: 3.8826687967338973\n"
     ]
    }
   ],
   "source": [
    "threshold = 7\n",
    "total_cnt = len(src_tokenizer.word_index) # 단어의 수\n",
    "rare_cnt = 0 # 등장 빈도수가 threshold보다 작은 단어의 개수를 카운트\n",
    "total_freq = 0 # 훈련 데이터의 전체 단어 빈도수 총 합\n",
    "rare_freq = 0 # 등장 빈도수가 threshold보다 작은 단어의 등장 빈도수의 총 합\n",
    "\n",
    "# 단어와 빈도수의 쌍(pair)을 key와 value로 받는다.\n",
    "for key, value in src_tokenizer.word_counts.items():\n",
    "    total_freq = total_freq + value\n",
    "\n",
    "    # 단어의 등장 빈도수가 threshold보다 작으면\n",
    "    if(value < threshold):\n",
    "        rare_cnt = rare_cnt + 1\n",
    "        rare_freq = rare_freq + value\n",
    "\n",
    "print('단어 집합(vocabulary)의 크기 :', total_cnt)\n",
    "print('등장 빈도가 %s번 이하인 희귀 단어의 수: %s'%(threshold - 1, rare_cnt))\n",
    "print('단어 집합에서 희귀 단어를 제외시킬 경우의 단어 집합의 크기 %s'%(total_cnt - rare_cnt))\n",
    "print(\"단어 집합에서 희귀 단어의 비율:\", (rare_cnt / total_cnt)*100)\n",
    "print(\"전체 등장 빈도에서 희귀 단어 등장 빈도 비율:\", (rare_freq / total_freq)*100)"
   ]
  },
  {
   "cell_type": "markdown",
   "id": "a1a3b1cf",
   "metadata": {},
   "source": [
    "##### Token화시킨 encoder_input_train data 통계특징\n",
    "\n",
    "등장 빈도가 threshold 값인 7회 미만, 즉 6회 이하인 희귀단어들은 단어 집합에서 무려 68.3% 를 차지, \n",
    "\n",
    "실제로 encoder_input_train data에서 빈도로 차지하는 비중은 상대적으로 적은 수치인 3.89 %임,\n",
    "\n",
    "그래서 등장 빈도가 6회 이하인 단어들은 정수 인코딩 과정에서 빼고, 훈련 데이터에서 제거.\n",
    "\n",
    "이를 제외한 단어 집합의 크기를 19000 여개, 작업효율상 좀 더 적은 값으로 어림잡아 단어 집합의 크기를 10000 으로 제한함\n",
    "\n",
    "src_vocab = 10000"
   ]
  },
  {
   "cell_type": "code",
   "execution_count": 31,
   "id": "43d2c47d",
   "metadata": {},
   "outputs": [],
   "source": [
    "# Tokenizer 활용해서, 단어 집합 15000개로 재생성\n",
    "src_vocab =  10000\n",
    "src_tokenizer = Tokenizer(num_words=src_vocab) \n",
    "src_tokenizer.fit_on_texts(encoder_input_train)\n"
   ]
  },
  {
   "cell_type": "markdown",
   "id": "5298515f",
   "metadata": {},
   "source": [
    "text 시퀀스를 정수 시퀀스로 변환"
   ]
  },
  {
   "cell_type": "code",
   "execution_count": 32,
   "id": "6aed2898",
   "metadata": {},
   "outputs": [
    {
     "name": "stdout",
     "output_type": "stream",
     "text": [
      "[[417, 37, 98, 8550, 59, 1, 575, 57, 50, 14, 3822, 49, 3130, 288, 1, 1049, 772, 747, 1298, 429, 6094, 400, 276, 188, 20, 8550, 1, 37, 473, 249, 208], [271, 1022, 822, 139, 528, 5655, 6018, 3453, 6019, 736, 635, 3229, 2569, 2831, 9996, 133, 65, 2261, 1088, 5332, 53, 451, 1059, 493, 6019, 433, 298, 341, 3453, 3843, 3485, 206, 1617], [344, 2002, 130, 4679, 257, 89, 7, 1028, 334, 1280, 1343, 3275, 175, 9547, 1050, 2379, 3623, 9548, 4379, 1944, 9311, 510, 334, 1337, 2277, 758, 517, 318, 9311, 4680, 510]]\n"
     ]
    }
   ],
   "source": [
    "# text 시퀀스를 정수 시퀀스로 변환\n",
    "encoder_input_train = src_tokenizer.texts_to_sequences(encoder_input_train) \n",
    "encoder_input_test = src_tokenizer.texts_to_sequences(encoder_input_test)\n",
    "\n",
    "print(encoder_input_train[:3])"
   ]
  },
  {
   "cell_type": "markdown",
   "id": "8f3596f1",
   "metadata": {},
   "source": [
    "#### decoder_input_train 토큰화"
   ]
  },
  {
   "cell_type": "code",
   "execution_count": 33,
   "id": "b3124f2c",
   "metadata": {},
   "outputs": [],
   "source": [
    "# headlines 시퀀스를 정수 시퀀스로 변환\n",
    "tar_tokenizer = Tokenizer()\n",
    "tar_tokenizer.fit_on_texts(decoder_input_train)\n"
   ]
  },
  {
   "cell_type": "markdown",
   "id": "a4161a5e",
   "metadata": {},
   "source": [
    "토큰화시킨 decoder_input_train data의 단어들의 빈도수 파악"
   ]
  },
  {
   "cell_type": "code",
   "execution_count": 34,
   "id": "7c1cd4b1",
   "metadata": {},
   "outputs": [
    {
     "name": "stdout",
     "output_type": "stream",
     "text": [
      "단어 집합(vocabulary)의 크기 : 27496\n",
      "등장 빈도가 5번 이하인 희귀 단어의 수: 18186\n",
      "단어 집합에서 희귀 단어를 제외시킬 경우의 단어 집합의 크기 9310\n",
      "단어 집합에서 희귀 단어의 비율: 66.14052953156822\n",
      "전체 등장 빈도에서 희귀 단어 등장 빈도 비율: 6.7733767934576985\n"
     ]
    }
   ],
   "source": [
    "threshold = 6\n",
    "total_cnt = len(tar_tokenizer.word_index) # 단어의 수\n",
    "rare_cnt = 0 # 등장 빈도수가 threshold보다 작은 단어의 개수를 카운트\n",
    "total_freq = 0 # 훈련 데이터의 전체 단어 빈도수 총 합\n",
    "rare_freq = 0 # 등장 빈도수가 threshold보다 작은 단어의 등장 빈도수의 총 합\n",
    "\n",
    "# 단어와 빈도수의 쌍(pair)을 key와 value로 받는다.\n",
    "for key, value in tar_tokenizer.word_counts.items():\n",
    "    total_freq = total_freq + value\n",
    "\n",
    "    # 단어의 등장 빈도수가 threshold보다 작으면\n",
    "    if(value < threshold):\n",
    "        rare_cnt = rare_cnt + 1\n",
    "        rare_freq = rare_freq + value\n",
    "\n",
    "print('단어 집합(vocabulary)의 크기 :', total_cnt)\n",
    "print('등장 빈도가 %s번 이하인 희귀 단어의 수: %s'%(threshold - 1, rare_cnt))\n",
    "print('단어 집합에서 희귀 단어를 제외시킬 경우의 단어 집합의 크기 %s'%(total_cnt - rare_cnt))\n",
    "print(\"단어 집합에서 희귀 단어의 비율:\", (rare_cnt / total_cnt)*100)\n",
    "print(\"전체 등장 빈도에서 희귀 단어 등장 빈도 비율:\", (rare_freq / total_freq)*100)"
   ]
  },
  {
   "cell_type": "markdown",
   "id": "1fc366e0",
   "metadata": {},
   "source": [
    "##### Token화시킨 decoder_input_train data 통계특징\n",
    "\n",
    "등장 빈도가 5회 이하인 희귀단어들은 단어 집합에서 약 66%를 차지,\n",
    "\n",
    "실제로 decoder_input_train data에서 등장 빈도로 차지하는 비중은 상대적으로 매우 적은 6.76%\n",
    "\n",
    "희귀단어 모두 제거시 단어집합수 9000여개인데, 작업효율상 2,500을 단어 집합의 크기로 제한\n",
    "\n",
    "tar_vocab = 2500"
   ]
  },
  {
   "cell_type": "code",
   "execution_count": 35,
   "id": "8536a432",
   "metadata": {},
   "outputs": [
    {
     "name": "stdout",
     "output_type": "stream",
     "text": [
      "input\n",
      "input  [[1, 76, 17], [1, 618, 597, 73, 2114], [1, 194, 1421, 61, 218], [1, 6, 355, 7], [1, 158, 233, 1700, 854, 1171, 1022]]\n",
      "target\n",
      "decoder  [[76, 17, 2], [618, 597, 73, 2114, 2], [194, 1421, 61, 218, 2], [6, 355, 7, 2], [158, 233, 1700, 854, 1171, 1022, 2]]\n"
     ]
    }
   ],
   "source": [
    "tar_vocab = 2500\n",
    "tar_tokenizer = Tokenizer(num_words=tar_vocab) \n",
    "tar_tokenizer.fit_on_texts(decoder_input_train)  # decoder_input_train 토큰화\n",
    "tar_tokenizer.fit_on_texts(decoder_target_train) # decoder_target_train 토큰화\n",
    "\n",
    "# 텍스트 시퀀스를 정수 시퀀스로 변환: \n",
    "decoder_input_train = tar_tokenizer.texts_to_sequences(decoder_input_train) \n",
    "decoder_target_train = tar_tokenizer.texts_to_sequences(decoder_target_train)\n",
    "decoder_input_test = tar_tokenizer.texts_to_sequences(decoder_input_test)\n",
    "decoder_target_test = tar_tokenizer.texts_to_sequences(decoder_target_test)\n",
    "\n",
    "# 확인\n",
    "print('input')\n",
    "print('input ',decoder_input_train[:5])\n",
    "print('target')\n",
    "print('decoder ',decoder_target_train[:5])"
   ]
  },
  {
   "cell_type": "markdown",
   "id": "f5a87797",
   "metadata": {},
   "source": [
    "전체 데이터에서 빈도수가 낮은 단어가 삭제되면서, 발생될수 있는 empty 샘플 제거"
   ]
  },
  {
   "cell_type": "code",
   "execution_count": 36,
   "id": "bf37e061",
   "metadata": {},
   "outputs": [
    {
     "name": "stdout",
     "output_type": "stream",
     "text": [
      "삭제할 훈련 데이터의 개수 : 121\n",
      "삭제할 테스트 데이터의 개수 : 26\n",
      "훈련 데이터의 개수 : 65411\n",
      "훈련 레이블의 개수 : 65411\n",
      "테스트 데이터의 개수 : 16356\n",
      "테스트 레이블의 개수 : 16356\n"
     ]
    }
   ],
   "source": [
    "drop_train = [index for index, sentence in enumerate(decoder_input_train) if len(sentence) == 1]\n",
    "drop_test = [index for index, sentence in enumerate(decoder_input_test) if len(sentence) == 1]\n",
    "\n",
    "print('삭제할 훈련 데이터의 개수 :', len(drop_train))\n",
    "print('삭제할 테스트 데이터의 개수 :', len(drop_test))\n",
    "\n",
    "encoder_input_train = [sentence for index, sentence in enumerate(encoder_input_train) if index not in drop_train]\n",
    "decoder_input_train = [sentence for index, sentence in enumerate(decoder_input_train) if index not in drop_train]\n",
    "decoder_target_train = [sentence for index, sentence in enumerate(decoder_target_train) if index not in drop_train]\n",
    "\n",
    "encoder_input_test = [sentence for index, sentence in enumerate(encoder_input_test) if index not in drop_test]\n",
    "decoder_input_test = [sentence for index, sentence in enumerate(decoder_input_test) if index not in drop_test]\n",
    "decoder_target_test = [sentence for index, sentence in enumerate(decoder_target_test) if index not in drop_test]\n",
    "\n",
    "print('훈련 데이터의 개수 :', len(encoder_input_train))\n",
    "print('훈련 레이블의 개수 :', len(decoder_input_train))\n",
    "print('테스트 데이터의 개수 :', len(encoder_input_test))\n",
    "print('테스트 레이블의 개수 :', len(decoder_input_test))"
   ]
  },
  {
   "cell_type": "markdown",
   "id": "06808968",
   "metadata": {},
   "source": [
    "#### 패딩하기\n",
    "같은 길이로 맞춰주는 패딩 작업"
   ]
  },
  {
   "cell_type": "code",
   "execution_count": 37,
   "id": "af6ea71a",
   "metadata": {},
   "outputs": [],
   "source": [
    "encoder_input_train = pad_sequences(encoder_input_train, maxlen=text_max_len, padding='post')\n",
    "encoder_input_test = pad_sequences(encoder_input_test, maxlen=text_max_len, padding='post')\n",
    "decoder_input_train = pad_sequences(decoder_input_train, maxlen=headlines_max_len, padding='post')\n",
    "decoder_target_train = pad_sequences(decoder_target_train, maxlen=headlines_max_len, padding='post')\n",
    "decoder_input_test = pad_sequences(decoder_input_test, maxlen=headlines_max_len, padding='post')\n",
    "decoder_target_test = pad_sequences(decoder_target_test, maxlen=headlines_max_len, padding='post')\n"
   ]
  },
  {
   "cell_type": "markdown",
   "id": "0ea28270",
   "metadata": {},
   "source": [
    "데이터 전처리 완료"
   ]
  },
  {
   "cell_type": "markdown",
   "id": "e7ace992",
   "metadata": {},
   "source": [
    "### Step 3. 어텐션 메커니즘 사용하기 (추상적 요약)\n",
    "일반적인 seq2seq보다는 어텐션 메커니즘을 사용한 seq2seq를 사용하는 것이 더 나은 성능을 얻을 수 있어요. 실습 내용을 참고하여 어텐션 메커니즘을 사용한 seq2seq를 설계해 보세요."
   ]
  },
  {
   "cell_type": "markdown",
   "id": "d5e565c5",
   "metadata": {},
   "source": [
    "#### 인코더 설계\n",
    "Attention이있는 인코더는 일반 seq2seq와는 다르게, 인코더 LSTM layer의 인자에 return_sequence=True 설정해야함(timestep별 state가 모두 필요하므로) "
   ]
  },
  {
   "cell_type": "code",
   "execution_count": 38,
   "id": "8ebe6265",
   "metadata": {},
   "outputs": [],
   "source": [
    "from tensorflow.keras.layers import Input, LSTM, Embedding, Dense, Concatenate, TimeDistributed, BatchNormalization\n",
    "from tensorflow.keras.models import Model\n",
    "from tensorflow.keras.callbacks import EarlyStopping, ModelCheckpoint\n",
    "\n",
    "\n",
    "# 인코더 설계 시작\n",
    "embedding_dim = 256#128  # 256  #128\n",
    "hidden_size = 256\n",
    "\n",
    "# 인코더\n",
    "encoder_inputs = Input(shape=(text_max_len,))\n",
    "\n",
    "# 인코더의 임베딩 층\n",
    "enc_emb = Embedding(src_vocab, embedding_dim)(encoder_inputs)\n",
    "enc_emb = BatchNormalization()(enc_emb) #my\n",
    "\n",
    "\n",
    "# 인코더의 LSTM 1\n",
    "# encoder_lstm1 = LSTM(hidden_size, return_sequences=True, return_state=True ,dropout = 0.4, recurrent_dropout = 0.4)\n",
    "encoder_lstm1 = LSTM(hidden_size, return_sequences=True, return_state=True ,dropout = 0.4)\n",
    "encoder_output1, state_h1, state_c1 = encoder_lstm1(enc_emb)\n",
    "encoder_output1 = BatchNormalization()(encoder_output1) #my\n",
    "\n",
    "# 인코더의 LSTM 2\n",
    "# encoder_lstm2 = LSTM(hidden_size, return_sequences=True, return_state=True, dropout=0.4, recurrent_dropout=0.4)\n",
    "encoder_lstm2 = LSTM(hidden_size, return_sequences=True, return_state=True, dropout=0.4)\n",
    "encoder_output2, state_h2, state_c2 = encoder_lstm2(encoder_output1)\n",
    "encoder_output2 = BatchNormalization()(encoder_output2) #my\n",
    "\n",
    "# 인코더의 LSTM 3\n",
    "# encoder_lstm3 = LSTM(hidden_size, return_state=True, return_sequences=True, dropout=0.4, recurrent_dropout=0.4)\n",
    "encoder_lstm3 = LSTM(hidden_size, return_state=True, return_sequences=True, dropout=0.4)\n",
    "encoder_outputs, state_h, state_c= encoder_lstm3(encoder_output2)\n",
    "encoder_outputs = BatchNormalization()(encoder_output2) #my"
   ]
  },
  {
   "cell_type": "markdown",
   "id": "4cf28986",
   "metadata": {},
   "source": [
    "#### 디코더 설계\n",
    "디코더는 당연히 일반seq2seq와 동일하게 return_sequences= True 설정(이전 timestep output이 다음 timestep의 input이 되므로)"
   ]
  },
  {
   "cell_type": "code",
   "execution_count": 39,
   "id": "51fa06a8",
   "metadata": {},
   "outputs": [],
   "source": [
    "# 디코더 설계\n",
    "decoder_inputs = Input(shape=(None,))\n",
    "\n",
    "# 디코더의 임베딩 층\n",
    "dec_emb_layer = Embedding(tar_vocab, embedding_dim)\n",
    "dec_emb = dec_emb_layer(decoder_inputs)\n",
    "dec_emb = BatchNormalization()(dec_emb) #my\n",
    "\n",
    "# 디코더의 LSTM\n",
    "# decoder_lstm = LSTM(hidden_size, return_sequences=True, return_state=True, dropout=0.4, recurrent_dropout=0.2)\n",
    "decoder_lstm = LSTM(hidden_size, return_sequences=True, return_state=True, dropout=0.4)\n",
    "decoder_outputs, _, _ = decoder_lstm(dec_emb, initial_state=[state_h, state_c])\n",
    "decoder_outputs = BatchNormalization()(decoder_outputs) #my\n",
    "\n",
    "# 디코더의 출력층\n",
    "decoder_softmax_layer = Dense(tar_vocab, activation='softmax')\n",
    "decoder_softmax_outputs = decoder_softmax_layer(decoder_outputs) "
   ]
  },
  {
   "cell_type": "markdown",
   "id": "09fa580f",
   "metadata": {},
   "source": [
    "#### seq2seq 기초 모델 생성"
   ]
  },
  {
   "cell_type": "code",
   "execution_count": 40,
   "id": "559f5e87",
   "metadata": {},
   "outputs": [],
   "source": [
    "#del model"
   ]
  },
  {
   "cell_type": "code",
   "execution_count": 41,
   "id": "3195ca30",
   "metadata": {},
   "outputs": [
    {
     "name": "stdout",
     "output_type": "stream",
     "text": [
      "Model: \"model\"\n",
      "__________________________________________________________________________________________________\n",
      "Layer (type)                    Output Shape         Param #     Connected to                     \n",
      "==================================================================================================\n",
      "input_1 (InputLayer)            [(None, 40)]         0                                            \n",
      "__________________________________________________________________________________________________\n",
      "embedding (Embedding)           (None, 40, 256)      2560000     input_1[0][0]                    \n",
      "__________________________________________________________________________________________________\n",
      "batch_normalization (BatchNorma (None, 40, 256)      1024        embedding[0][0]                  \n",
      "__________________________________________________________________________________________________\n",
      "lstm (LSTM)                     [(None, 40, 256), (N 525312      batch_normalization[0][0]        \n",
      "__________________________________________________________________________________________________\n",
      "batch_normalization_1 (BatchNor (None, 40, 256)      1024        lstm[0][0]                       \n",
      "__________________________________________________________________________________________________\n",
      "input_2 (InputLayer)            [(None, None)]       0                                            \n",
      "__________________________________________________________________________________________________\n",
      "lstm_1 (LSTM)                   [(None, 40, 256), (N 525312      batch_normalization_1[0][0]      \n",
      "__________________________________________________________________________________________________\n",
      "embedding_1 (Embedding)         (None, None, 256)    640000      input_2[0][0]                    \n",
      "__________________________________________________________________________________________________\n",
      "batch_normalization_2 (BatchNor (None, 40, 256)      1024        lstm_1[0][0]                     \n",
      "__________________________________________________________________________________________________\n",
      "batch_normalization_4 (BatchNor (None, None, 256)    1024        embedding_1[0][0]                \n",
      "__________________________________________________________________________________________________\n",
      "lstm_2 (LSTM)                   [(None, 40, 256), (N 525312      batch_normalization_2[0][0]      \n",
      "__________________________________________________________________________________________________\n",
      "lstm_3 (LSTM)                   [(None, None, 256),  525312      batch_normalization_4[0][0]      \n",
      "                                                                 lstm_2[0][1]                     \n",
      "                                                                 lstm_2[0][2]                     \n",
      "__________________________________________________________________________________________________\n",
      "batch_normalization_5 (BatchNor (None, None, 256)    1024        lstm_3[0][0]                     \n",
      "__________________________________________________________________________________________________\n",
      "dense (Dense)                   (None, None, 2500)   642500      batch_normalization_5[0][0]      \n",
      "==================================================================================================\n",
      "Total params: 5,948,868\n",
      "Trainable params: 5,946,308\n",
      "Non-trainable params: 2,560\n",
      "__________________________________________________________________________________________________\n"
     ]
    }
   ],
   "source": [
    "# 모델 생성\n",
    "model = Model([encoder_inputs, decoder_inputs], decoder_softmax_outputs)\n",
    "model.summary()"
   ]
  },
  {
   "cell_type": "markdown",
   "id": "7f3dea9c",
   "metadata": {},
   "source": [
    "#### 어텐션 메커니즘\n",
    "\n",
    "TensorFlow에 이미 구현된 어텐션 함수를 가져와서 디코더의 출력층에 결합해서 사용.\n",
    "(Bahdanau 스타일)"
   ]
  },
  {
   "cell_type": "code",
   "execution_count": 42,
   "id": "6d9168c9",
   "metadata": {},
   "outputs": [
    {
     "name": "stdout",
     "output_type": "stream",
     "text": [
      "Model: \"model_1\"\n",
      "__________________________________________________________________________________________________\n",
      "Layer (type)                    Output Shape         Param #     Connected to                     \n",
      "==================================================================================================\n",
      "input_1 (InputLayer)            [(None, 40)]         0                                            \n",
      "__________________________________________________________________________________________________\n",
      "embedding (Embedding)           (None, 40, 256)      2560000     input_1[0][0]                    \n",
      "__________________________________________________________________________________________________\n",
      "batch_normalization (BatchNorma (None, 40, 256)      1024        embedding[0][0]                  \n",
      "__________________________________________________________________________________________________\n",
      "lstm (LSTM)                     [(None, 40, 256), (N 525312      batch_normalization[0][0]        \n",
      "__________________________________________________________________________________________________\n",
      "batch_normalization_1 (BatchNor (None, 40, 256)      1024        lstm[0][0]                       \n",
      "__________________________________________________________________________________________________\n",
      "input_2 (InputLayer)            [(None, None)]       0                                            \n",
      "__________________________________________________________________________________________________\n",
      "lstm_1 (LSTM)                   [(None, 40, 256), (N 525312      batch_normalization_1[0][0]      \n",
      "__________________________________________________________________________________________________\n",
      "embedding_1 (Embedding)         (None, None, 256)    640000      input_2[0][0]                    \n",
      "__________________________________________________________________________________________________\n",
      "batch_normalization_2 (BatchNor (None, 40, 256)      1024        lstm_1[0][0]                     \n",
      "__________________________________________________________________________________________________\n",
      "batch_normalization_4 (BatchNor (None, None, 256)    1024        embedding_1[0][0]                \n",
      "__________________________________________________________________________________________________\n",
      "lstm_2 (LSTM)                   [(None, 40, 256), (N 525312      batch_normalization_2[0][0]      \n",
      "__________________________________________________________________________________________________\n",
      "lstm_3 (LSTM)                   [(None, None, 256),  525312      batch_normalization_4[0][0]      \n",
      "                                                                 lstm_2[0][1]                     \n",
      "                                                                 lstm_2[0][2]                     \n",
      "__________________________________________________________________________________________________\n",
      "batch_normalization_5 (BatchNor (None, None, 256)    1024        lstm_3[0][0]                     \n",
      "__________________________________________________________________________________________________\n",
      "batch_normalization_3 (BatchNor (None, 40, 256)      1024        batch_normalization_2[0][0]      \n",
      "__________________________________________________________________________________________________\n",
      "attention_layer (AdditiveAttent (None, None, 256)    256         batch_normalization_5[0][0]      \n",
      "                                                                 batch_normalization_3[0][0]      \n",
      "__________________________________________________________________________________________________\n",
      "concat_layer (Concatenate)      (None, None, 512)    0           batch_normalization_5[0][0]      \n",
      "                                                                 attention_layer[0][0]            \n",
      "__________________________________________________________________________________________________\n",
      "dense_1 (Dense)                 (None, None, 2500)   1282500     concat_layer[0][0]               \n",
      "==================================================================================================\n",
      "Total params: 6,590,148\n",
      "Trainable params: 6,587,076\n",
      "Non-trainable params: 3,072\n",
      "__________________________________________________________________________________________________\n"
     ]
    }
   ],
   "source": [
    "from tensorflow.keras.layers import AdditiveAttention\n",
    "\n",
    "# 어텐션 층(어텐션 함수)\n",
    "attn_layer = AdditiveAttention(name='attention_layer')\n",
    "\n",
    "# 인코더와 디코더의 모든time step의 hidden state를어텐션층에전달하고 결과를리턴\n",
    "attn_out = attn_layer([decoder_outputs, encoder_outputs])\n",
    "\n",
    "# 어텐션의 결과와 디코더의 hidden state들을 연결\n",
    "decoder_concat_input = Concatenate(axis=-1, name='concat_layer')([decoder_outputs, attn_out])\n",
    "\n",
    "# 디코더의 출력층\n",
    "decoder_softmax_layer = Dense(tar_vocab, activation='softmax')\n",
    "decoder_softmax_outputs = decoder_softmax_layer(decoder_concat_input)\n",
    "\n",
    "# 모델 정의\n",
    "model = Model([encoder_inputs, decoder_inputs], decoder_softmax_outputs)\n",
    "model.summary()"
   ]
  },
  {
   "cell_type": "markdown",
   "id": "c426d0a5",
   "metadata": {},
   "source": [
    "#### Attention 모델 학습"
   ]
  },
  {
   "cell_type": "code",
   "execution_count": 43,
   "id": "40d0d233",
   "metadata": {},
   "outputs": [
    {
     "name": "stdout",
     "output_type": "stream",
     "text": [
      "Epoch 1/50\n",
      "256/256 [==============================] - 46s 69ms/step - loss: 3.7439 - val_loss: 6.7702\n",
      "Epoch 2/50\n",
      "256/256 [==============================] - 17s 65ms/step - loss: 2.7687 - val_loss: 3.8662\n",
      "Epoch 3/50\n",
      "256/256 [==============================] - 17s 66ms/step - loss: 2.3704 - val_loss: 2.6531\n",
      "Epoch 4/50\n",
      "256/256 [==============================] - 17s 66ms/step - loss: 2.1174 - val_loss: 2.5939\n",
      "Epoch 5/50\n",
      "256/256 [==============================] - 17s 67ms/step - loss: 1.9265 - val_loss: 2.6107\n",
      "Epoch 6/50\n",
      "256/256 [==============================] - 17s 68ms/step - loss: 1.7809 - val_loss: 2.6463\n",
      "Epoch 00006: early stopping\n"
     ]
    }
   ],
   "source": [
    "model.compile(optimizer='rmsprop', loss='sparse_categorical_crossentropy')\n",
    "es = EarlyStopping(monitor='val_loss', patience=2, verbose=1)\n",
    "history = model.fit(x=[encoder_input_train, decoder_input_train], y=decoder_target_train, \\\n",
    "          validation_data=([encoder_input_test, decoder_input_test], decoder_target_test), \\\n",
    "          batch_size=256, callbacks=[es], epochs=50)"
   ]
  },
  {
   "cell_type": "markdown",
   "id": "e9a8dda2",
   "metadata": {},
   "source": [
    "plotting"
   ]
  },
  {
   "cell_type": "code",
   "execution_count": 44,
   "id": "0857fba0",
   "metadata": {},
   "outputs": [
    {
     "data": {
      "image/png": "[encoded data removed]",
      "text/plain": [
       "<Figure size 432x288 with 1 Axes>"
      ]
     },
     "metadata": {
      "needs_background": "light"
     },
     "output_type": "display_data"
    }
   ],
   "source": [
    "plt.plot(history.history['loss'], label='train')\n",
    "plt.plot(history.history['val_loss'], label='test')\n",
    "plt.legend()\n",
    "plt.show()"
   ]
  },
  {
   "cell_type": "markdown",
   "id": "00341d56",
   "metadata": {},
   "source": [
    "### 인퍼런스 모델:  모델 성능 테스트\n",
    "테스트 단계에서는 정수 인덱스 행렬로 존재하던 텍스트 데이터를 실제 데이터로 복원해야 하므로, 필요한 3개의 사전 미리 준비."
   ]
  },
  {
   "cell_type": "code",
   "execution_count": 45,
   "id": "acf9e8f3",
   "metadata": {},
   "outputs": [],
   "source": [
    "src_index_to_word = src_tokenizer.index_word # 원문 단어 집합에서 정수 -> 단어를 얻음\n",
    "tar_word_to_index = tar_tokenizer.word_index # 요약 단어 집합에서 단어 -> 정수를 얻음\n",
    "tar_index_to_word = tar_tokenizer.index_word # 요약 단어 집합에서 정수 -> 단어를 얻음\n"
   ]
  },
  {
   "cell_type": "markdown",
   "id": "83b60604",
   "metadata": {},
   "source": [
    "테스트용 인코더 설계"
   ]
  },
  {
   "cell_type": "code",
   "execution_count": 46,
   "id": "cbd6e40a",
   "metadata": {},
   "outputs": [],
   "source": [
    "# 인코더 설계\n",
    "encoder_model = Model(inputs=encoder_inputs, outputs=[encoder_outputs, state_h, state_c])\n",
    "\n",
    "# 이전 시점의 상태들을 저장하는 텐서\n",
    "decoder_state_input_h = Input(shape=(hidden_size,))\n",
    "decoder_state_input_c = Input(shape=(hidden_size,))\n",
    "\n",
    "dec_emb2 = dec_emb_layer(decoder_inputs)\n",
    "\n",
    "# 문장의 다음 단어를 예측하기 위해서 초기 상태(initial_state)를 이전 시점의 상태로 사용. 이는 뒤의 함수 decode_sequence()에 구현\n",
    "# 훈련 과정에서와 달리 LSTM의 리턴하는 은닉 상태와 셀 상태인 state_h와 state_c를 버리지 않음.\n",
    "decoder_outputs2, state_h2, state_c2 = decoder_lstm(dec_emb2, initial_state=[decoder_state_input_h, decoder_state_input_c])\n"
   ]
  },
  {
   "cell_type": "markdown",
   "id": "541e23f6",
   "metadata": {},
   "source": [
    "Attention 레이어 생성,테스트용 디코더 설계 및 최종 모델 생성"
   ]
  },
  {
   "cell_type": "code",
   "execution_count": 47,
   "id": "d349756e",
   "metadata": {},
   "outputs": [],
   "source": [
    "# 어텐션 함수\n",
    "decoder_hidden_state_input = Input(shape=(text_max_len, hidden_size))\n",
    "attn_out_inf = attn_layer([decoder_outputs2, decoder_hidden_state_input])\n",
    "decoder_inf_concat = Concatenate(axis=-1, name='concat')([decoder_outputs2, attn_out_inf])\n",
    "\n",
    "# 디코더의 softmax 출력층\n",
    "decoder_outputs2 = decoder_softmax_layer(decoder_inf_concat) \n",
    "\n",
    "# 최종 디코더 모델\n",
    "decoder_model = Model(\n",
    "    [decoder_inputs] + [decoder_hidden_state_input,decoder_state_input_h, decoder_state_input_c],\n",
    "    [decoder_outputs2] + [state_h2, state_c2])\n"
   ]
  },
  {
   "cell_type": "markdown",
   "id": "d9b12d5f",
   "metadata": {},
   "source": [
    "#### 인퍼런스 단계에서 단어 시퀀스를 완성하는 decode_sequence 함수정의"
   ]
  },
  {
   "cell_type": "code",
   "execution_count": 48,
   "id": "3c0f4cba",
   "metadata": {},
   "outputs": [],
   "source": [
    "def decode_sequence(input_seq):\n",
    "    # 입력으로부터 인코더의 상태를 얻음\n",
    "    e_out, e_h, e_c = encoder_model.predict(input_seq)\n",
    "\n",
    "     # <SOS>에 해당하는 토큰 생성\n",
    "    target_seq = np.zeros((1,1))\n",
    "    target_seq[0, 0] = tar_word_to_index['sostoken']\n",
    "\n",
    "    stop_condition = False\n",
    "    decoded_sentence = ''\n",
    "    while not stop_condition: # stop_condition이 True가 될 때까지 루프 반복\n",
    "\n",
    "        output_tokens, h, c = decoder_model.predict([target_seq] + [e_out, e_h, e_c])\n",
    "        sampled_token_index = np.argmax(output_tokens[0, -1, :])\n",
    "        sampled_token = tar_index_to_word[sampled_token_index]\n",
    "\n",
    "        if (sampled_token!='eostoken'):\n",
    "            decoded_sentence += ' '+sampled_token\n",
    "\n",
    "        #  <eos>에 도달하거나 최대 길이를 넘으면 중단.\n",
    "        if (sampled_token == 'eostoken'  or len(decoded_sentence.split()) >= (headlines_max_len-1)):\n",
    "            stop_condition = True\n",
    "\n",
    "        # 길이가 1인 타겟 시퀀스를 업데이트\n",
    "        target_seq = np.zeros((1,1))\n",
    "        target_seq[0, 0] = sampled_token_index\n",
    "\n",
    "        # 상태를 업데이트 합니다.\n",
    "        e_h, e_c = h, c\n",
    "\n",
    "    return decoded_sentence\n"
   ]
  },
  {
   "cell_type": "markdown",
   "id": "558debc1",
   "metadata": {},
   "source": [
    "### Step 4. 실제 결과와 요약문 비교하기 (추상적 요약)\n",
    "원래의 요약문(headlines 열)과 학습을 통해 얻은 추상적 요약의 결과를 비교해 보세요."
   ]
  },
  {
   "cell_type": "code",
   "execution_count": 49,
   "id": "2afa0211",
   "metadata": {},
   "outputs": [],
   "source": [
    "# 원문의 정수 시퀀스를 텍스트 시퀀스로 변환\n",
    "def seq2text(input_seq):\n",
    "    temp=''\n",
    "    for i in input_seq:\n",
    "        if (i!=0):\n",
    "            temp = temp + src_index_to_word[i]+' '\n",
    "    return temp\n",
    "\n",
    "# 요약문의 정수 시퀀스를 텍스트 시퀀스로 변환\n",
    "def seq2headlines(input_seq):\n",
    "    temp=''\n",
    "    for i in input_seq:\n",
    "        if ((i!=0 and i!=tar_word_to_index['sostoken']) and i!=tar_word_to_index['eostoken']):\n",
    "            temp = temp + tar_index_to_word[i] + ' '\n",
    "    return temp\n"
   ]
  },
  {
   "cell_type": "markdown",
   "id": "9ad6281d",
   "metadata": {},
   "source": [
    "#### 추상적 요약의 결과를 비교"
   ]
  },
  {
   "cell_type": "code",
   "execution_count": 50,
   "id": "81dca209",
   "metadata": {},
   "outputs": [
    {
     "name": "stdout",
     "output_type": "stream",
     "text": [
      "원문 : ahead new year celebrations gujarat vadodara police issued advisory stating people advised wear clothes may effect child advisory adds alcohol drugs banned also ban use crackers activity create \n",
      "실제 요약 : wear clothes kids new year police \n",
      "예측 요약 :  police police police police police police police\n",
      "\n",
      "\n",
      "원문 : two people ate prasad temple karnataka died sunday taking death toll condition two patients reported critical earlier authorities said substance may mixed rice prasad dispute two groups \n",
      "실제 요약 : death toll karnataka temple food rises \n",
      "예측 요약 :  temple temple temple temple temple temple temple\n",
      "\n",
      "\n",
      "원문 : eight time grand slam champion australia good luck letter addressed swiss tennis star roger federer australian open federer tournament five times said letters write simple half page good luck hope family well extent said \n",
      "실제 요약 : tennis writes letter federer every aus open \n",
      "예측 요약 :  australian australian australian australian aus aus aus\n",
      "\n",
      "\n",
      "원문 : philippine president rodrigo duterte critics adopted three finger salute hunger games films protest war drugs many young people one duterte critics said referring usage salute notably duterte war drugs killed people received global human rights violations \n",
      "실제 요약 : protesters use games philippine prez \n",
      "예측 요약 :  duterte duterte duterte duterte duterte duterte duterte\n",
      "\n",
      "\n",
      "원문 : sharing news article song obscene court filmmaker subhash tweeted glad film song ke still one loved indian cinema people today song us much protestors wrote adding honesty speaks \n",
      "실제 요약 : still one \n",
      "예측 요약 :  song song song song song song song\n",
      "\n",
      "\n",
      "원문 : indian army soon deploy built robots capable delivering ammunition intended locations fight terrorism jammu kashmir army proposal requirement robots approved centre robots several surveillance cameras transmission systems range metres \n",
      "실제 요약 : army robots fight terror jammu kashmir \n",
      "예측 요약 :  army army army army army army army\n",
      "\n",
      "\n",
      "원문 : talking taking direction upcoming film manikarnika queen jhansi kangana ranaut said felt like part away able express director got directing pressure goals directing first love added \n",
      "실제 요약 : part kangana became director \n",
      "예측 요약 :  kangana kangana kangana kangana kangana kangana kangana\n",
      "\n",
      "\n",
      "원문 : letter union information broadcasting minister smriti irani rajasthan cm vasundhara raje requested release padmavati necessary changes made raje suggested committee formed discuss film plot suggest amendments avoid hurting sentiments added censor board must think consequences padmavati \n",
      "실제 요약 : rajasthan cm irani release padmavati \n",
      "예측 요약 :  smriti smriti smriti smriti smriti smriti smriti\n",
      "\n",
      "\n",
      "원문 : samajwadi party leader shivpal singh yadav friday declared forming political party named samajwadi secular morcha also said party chief would samajwadi party founder mulayam singh yadav give netaji due respect unite declaration new party done soon added \n",
      "실제 요약 : announces new political party chief \n",
      "예측 요약 :  party party party party party party party\n",
      "\n",
      "\n",
      "원문 : russia deployed special forces egypt near border libya boost involvement war torn libya according reports us believes could russian attempt support libyan military commander defence captured two libya largest oil export army control \n",
      "실제 요약 : russia forces near border report \n",
      "예측 요약 :  russia russia russia russia russia russia russia\n",
      "\n",
      "\n",
      "원문 : us president donald trump monday slammed china trade policies calling stupid car sent us china tariff car sent china us tariff tweeted recently trump proposed tariffs chinese imports worth billion \n",
      "실제 요약 : us president trump slams chinese trade \n",
      "예측 요약 :  trump trump trump trump trump trump trump\n",
      "\n",
      "\n",
      "원문 : afghan wicketkeeper batsman mohammad shahzad weighs kg said need follow team india captain virat kohli diet hit longer sixes year old said coach knows keep overs bat overs never seen issue \n",
      "실제 요약 : like kohli hit bigger kg afghan player \n",
      "예측 요약 :  kohli kohli kohli kohli kohli kohli kohli\n",
      "\n",
      "\n",
      "원문 : new york based tiger global reportedly make fresh investments indian startups gap nearly years new billion fund investment firm made billion walmart acquisition flipkart billion flipkart investment reportedly look lead funding rounds starting million india us china \n",
      "실제 요약 : tiger global invest india billion fund report \n",
      "예측 요약 :  billion billion billion billion billion billion billion\n",
      "\n",
      "\n",
      "원문 : ex dd captain gautam gambhir said csk well team allowed well year old explained team owners interfere field matters measure everything return investment case csk heard dhoni one corporate side cricketing calls added \n",
      "실제 요약 : csk well team allowed well gambhir \n",
      "예측 요약 :  well well well well well well well\n",
      "\n",
      "\n",
      "원문 : hyderabad police sunday rescued thai women indian women allegedly forced trade massage hyderabad police probe revealed owners took passports foreign nationals employed forced indulge sexual activities \n",
      "실제 요약 : cops rescue thai indian women hyderabad \n",
      "예측 요약 :  hyderabad hyderabad hyderabad women hyderabad hyderabad hyderabad\n",
      "\n",
      "\n",
      "원문 : english football fan got members england fifa world cup squad manager leg made promise england reached quarter finals tournament get names england face sweden quarter finals saturday \n",
      "실제 요약 : fan gets england wc squad reach last \n",
      "예측 요약 :  english english english english english english england\n",
      "\n",
      "\n",
      "원문 : virgin group founder richard branson frozen business ties saudi arabia alleged murder journalist jamal khashoggi branson said virgin would suspend discussions planned billion saudi investment group space ventures critic saudi regime khashoggi last seen entering saudi consulate istanbul october \n",
      "실제 요약 : business ties saudi bn talks \n",
      "예측 요약 :  saudi saudi saudi saudi saudi saudi saudi\n",
      "\n",
      "\n",
      "원문 : flipkart current valuation billion equal combined market capitalisation top four offline retailers listed india future retail aditya birla fashion retail future consumer combined value nearly billion us retailer walmart wednesday announced acquire stake flipkart billion \n",
      "실제 요약 : flipkart valuable india top four \n",
      "예측 요약 :  billion billion billion billion billion billion billion\n",
      "\n",
      "\n",
      "원문 : oneplus oneplus got android update open beta means users able experience almost final version based android update users able experience new features new android android gesture navigation expanded colour \n",
      "실제 요약 : oneplus start getting android open \n",
      "예측 요약 :  oneplus oneplus oneplus oneplus oneplus oneplus oneplus\n",
      "\n",
      "\n",
      "원문 : kerala high court dismissing petition refused cover malayalam magazine showed woman breastfeeding baby obscene see despite best efforts picture beauty lies eye perhaps observed one man another man court noted nn \n",
      "실제 요약 : eyes kerala hc cover \n",
      "예측 요약 :  woman woman woman woman woman woman woman\n",
      "\n",
      "\n",
      "원문 : many people germany ordered leave homes experts prepared five second world war era bombs dropped allies according reports operation second largest kind carried germany involve around firefighters police officers reports said \n",
      "실제 요약 : bomb germany \n",
      "예측 요약 :  people people people people people people people\n",
      "\n",
      "\n",
      "원문 : half brother mumbai attack mastermind david part pakistan delegation visited india late pm atal bihari vajpayee funeral however pakistani attend funeral meeting union minister sushma swaraj government sources said issued visa checked sources added \n",
      "실제 요약 : mastermind half brother pak team vajpayee funeral \n",
      "예측 요약 :  pak pak pak pak pak pak pak\n",
      "\n",
      "\n",
      "원문 : shimla police wednesday arrested army training command colonel allegedly raping lieutenant colonel daughter rape survivor aspiring model said accused invited residence pretext introducing modelling professionals raped officer also threatened father career reported crime \n",
      "실제 요약 : arrested raping daughter \n",
      "예측 요약 :  arrested arrested arrested arrested arrested arrested rape\n",
      "\n",
      "\n",
      "원문 : newly launched patients group saturday demanded free medicines safe tested blood zero births reservation government jobs people suffering disease group headed seven patients working different fields aims communicate interests patients government \n",
      "실제 요약 : patients demand free job \n",
      "예측 요약 :  launches patients patients patients patients patients patients\n",
      "\n",
      "\n",
      "원문 : actress kareena kapoor khan said wants son taimur ali khan become cricketer however kareena added would want choose profession taimur wants choose wants notably taimur grandfather late ali khan former captain indian cricket team \n",
      "실제 요약 : would want son cricketer kareena \n",
      "예측 요약 :  kareena kareena kareena kareena kareena kareena kareena\n",
      "\n",
      "\n",
      "원문 : asia billionaires world surpassing us first time according report number billionaires asia rose whereas us added billionaires total however us billionaires still control wealth trillion \n",
      "실제 요약 : asia us first time \n",
      "예측 요약 :  asia asia asia asia asia asia asia\n",
      "\n",
      "\n",
      "원문 : merchandise festival sold ebay festival costing merchandise includes festival power bank worn weekend pass guests left stranded without food forced stay disaster relief festival luxury festival \n",
      "실제 요약 : failed festival sold \n",
      "예측 요약 :  festival festival festival festival festival festival festival\n",
      "\n",
      "\n",
      "원문 : delhi high court issued notices commerce giants flipkart amazon violating fdi norms pil ngo telecom watchdog pil alleged companies violated marketplace models selling products much cheaper rates controlled sellers name lenders pushing small sellers court sought response november \n",
      "실제 요약 : delhi hc issues notice flipkart amazon \n",
      "예측 요약 :  flipkart flipkart flipkart flipkart flipkart flipkart flipkart\n",
      "\n",
      "\n",
      "원문 : least cows killed hit express near delhi wednesday incident took place evening cows crossing tracks railway spokesperson said driver applied emergency accident could train full speed \n",
      "실제 요약 : cows killed train runs delhi \n",
      "예측 요약 :  killed killed killed killed killed killed killed\n",
      "\n",
      "\n",
      "원문 : speaking interview actor aamir khan indian cricket team captain virat kohli revealed pakistan mohammad amir one bowlers ever faced kohli earlier praised amir bowling spell asia cup following amir session twitter called kohli best batsman world \n",
      "실제 요약 : one kohli \n",
      "예측 요약 :  kohli kohli kohli kohli kohli kohli kohli\n",
      "\n",
      "\n",
      "원문 : us friday charged russians three russian companies interfering us presidential election support candidate donald trump russians stole identities us citizens used issues immigration religion race manipulate campaign prosecutors said trump dismissed allegations campaign russians \n",
      "실제 요약 : charged us prez election \n",
      "예측 요약 :  us us us us us us us\n",
      "\n",
      "\n",
      "원문 : technologies founder chairman shiv made donation crore lord temple handed demand draft temple official offering prayers requested manages shrine fund hospital trust run differently abled people \n",
      "실제 요약 : shiv donates crore temple \n",
      "예측 요약 :  cr cr cr cr temple temple temple\n",
      "\n",
      "\n",
      "원문 : john abraham production house john abraham entertainment announced contract entertainment film story pokhran delay release actor production house stated delay payments non payments caused delays post production film release postponed multiple times already \n",
      "실제 요약 : john ends contract film delay \n",
      "예측 요약 :  john john john john john john john\n",
      "\n",
      "\n",
      "원문 : artist abraham wednesday sat eggs mother eggs inside glass using body heat estimates process take weeks wrapped eating food aimed increasing body temperature using box beneath relieve \n",
      "실제 요약 : french artist \n",
      "예측 요약 :  woman woman inside inside inside inside inside\n",
      "\n",
      "\n",
      "원문 : bjp thursday distributed reportedly flown temple andhra pradesh delhi leaders party ordered tuesday night temple able deliver report stated bjp president amit shah offered bjp unit chief keshav prasad maurya \n",
      "실제 요약 : bjp got andhra delhi celebrate victory \n",
      "예측 요약 :  andhra andhra andhra andhra andhra andhra andhra\n",
      "\n",
      "\n",
      "원문 : iran tuesday reopened last two border iraq region iran closed border posts september last year response region independence vote deemed illegal iraqi government iraqi voted favour independence iraq referendum \n",
      "실제 요약 : iran last two border iraq \n",
      "예측 요약 :  iran iran iran iran iran iran iran\n",
      "\n",
      "\n",
      "원문 : vijay mallya failed make personal appearance supreme court july despite directed sc earlier held mallya currently uk guilty contempt court failure details indian offshore assets directed mallya appear quantum punishment \n",
      "실제 요약 : mallya fails appear sc court case \n",
      "예측 요약 :  mallya vijay mallya mallya mallya mallya mallya\n",
      "\n",
      "\n",
      "원문 : former australian cricketer shane warne criticised australian team saying australian cricket need complete part warne tweet read coaching levels ridiculous programme academy etc producing quality smart cricketers warne said return steve smith david warner help australia \n",
      "실제 요약 : australian cricket needs warne \n",
      "예측 요약 :  australian australian australian australian australian australian australian\n",
      "\n",
      "\n",
      "원문 : us secretary state rex tillerson said international sanctions starting hurt north korea going take responsibility fact choosing make people suffer added international sanctions imposed north korea response nuclear weapons programme \n",
      "실제 요약 : sanctions hurt north korea us \n",
      "예측 요약 :  us us us us us us us\n",
      "\n",
      "\n",
      "원문 : germany based researchers claimed brain cells light even one sees face fails identify study recorded activity individual participants shown two images quick researchers however observed process weaker delayed image compared identified \n",
      "실제 요약 : brain faces even one fails notice study \n",
      "예측 요약 :  brain brain brain study study study study\n",
      "\n",
      "\n",
      "원문 : pm narendra modi conference police asked officials focus foot patrolling deal crimes effectively win people confidence officer said pm modi asserted foot patrolling brings police closer public pm wanted photographs martyred police personnel displayed schools studied according officials \n",
      "실제 요약 : foot curb crimes pm modi cops \n",
      "예측 요약 :  pm pm pm pm pm pm pm\n",
      "\n",
      "\n",
      "원문 : six members family killed others injured andhra pradesh wednesday truck rammed van travelling family reportedly way mosque ceremony newborn accident occurred injured currently treated government run hospital \n",
      "실제 요약 : six family killed truck vehicle \n",
      "예측 요약 :  family family family family family family family\n",
      "\n",
      "\n",
      "원문 : spain largest bank buy rival popular eu authorities declared lender failing likely fail popular shares dropped last week amid struggles billions bad real estate loans rescue popular first wherein european central bank determined lender failing \n",
      "실제 요약 : spain largest bank buys failing rival \n",
      "예측 요약 :  eu eu eu eu eu eu eu\n",
      "\n",
      "\n",
      "원문 : government planning introduce digital unique identification aadhaar pan passport number air travel union minister jayant sinha said thursday air travellers already required carry copy identity entering airport notably new rules may take effect three four months \n",
      "실제 요약 : govt proposes digital air travel \n",
      "예측 요약 :  govt aadhaar aadhaar aadhaar aadhaar aadhaar aadhaar\n",
      "\n",
      "\n",
      "원문 : speaking year old rajkot test man match prithvi shaw indian captain virat kohli said playing first game seeing guy showed different quality pushed test team exciting see captain perspective kohli added shaw \n",
      "실제 요약 : different quality kohli \n",
      "예측 요약 :  playing playing playing playing playing playing playing\n",
      "\n",
      "\n",
      "원문 : chinese military act cost attempt separate self taiwan mainland chinese defence minister general said taiwan issue related china sovereignty territorial integrity upon china core interests issue extremely dangerous repeatedly challenge china bottom line added \n",
      "실제 요약 : china says army act cost prevent \n",
      "예측 요약 :  china china china china china china china\n",
      "\n",
      "\n",
      "원문 : rani mukerji starrer released today simple meaningful inspiring film wrote bollywood hungama times india said movie still emotional intelligence hindustan times wrote well film rated \n",
      "실제 요약 : rani starrer hits theatres \n",
      "예측 요약 :  hits hits hits hits hits hits hits\n",
      "\n",
      "\n",
      "원문 : pm narendra modi tuesday said india peace process north south korea contribute towards ensuring peace korean peninsula pm modi credited south korean president moon jae peace process india south korea signed agreements aim strengthening bilateral cooperation \n",
      "실제 요약 : india korean peace process pm modi \n",
      "예측 요약 :  peace peace peace peace south south south\n",
      "\n",
      "\n",
      "원문 : madhya pradesh cm shivraj singh chouhan sunday said bjp victory tripura assembly elections extraordinary event political history one would believed said days ago bjp form government tripura added bjp ally seats tripura \n",
      "실제 요약 : bjp victory tripura mp cm \n",
      "예측 요약 :  tripura tripura tripura tripura tripura tripura tripura\n",
      "\n",
      "\n",
      "원문 : delhi metro rail corporation permit passengers exit rajiv chowk metro station pm december however passengers allowed enter station board trains enable authorities maintain law order new year eve celebrations new delhi district area said \n",
      "실제 요약 : exit rajiv metro station pm \n",
      "예측 요약 :  delhi metro metro metro metro delhi delhi\n",
      "\n",
      "\n"
     ]
    }
   ],
   "source": [
    "for i in range(0, 50):\n",
    "    print(\"원문 :\", seq2text(encoder_input_test[i]))\n",
    "    print(\"실제 요약 :\", seq2headlines(decoder_input_test[i]))\n",
    "    print(\"예측 요약 :\", decode_sequence(encoder_input_test[i].reshape(1, text_max_len)))\n",
    "    print(\"\\n\")"
   ]
  },
  {
   "cell_type": "markdown",
   "id": "35752052",
   "metadata": {},
   "source": [
    "#### 추상적 요약에 대한 의견\n",
    "\n",
    "예측요약은 대부분 실제 요약내에 있는 단어에 포함되어있고,포함도지 않은 소수는 원문내에 있어, 핵심 단어수준에서는 양호해 보이나,예측문장은 대부분 동일 단어들이 반복되고 있어서, 하나의 문장을 이루지 못하고 있슴,\n",
    "\n",
    "좀더 모델성능향상을 위한 모델구조개선과 하이퍼파라메터등을 개선 적용해서,EPOCH를 충분히 늘려서, 적용하면 좀 더 나아질것 같음"
   ]
  },
  {
   "cell_type": "markdown",
   "id": "84ea8617",
   "metadata": {},
   "source": [
    "### Step 5. Summa을 이용해서 추출적 요약해보기"
   ]
  },
  {
   "cell_type": "code",
   "execution_count": 51,
   "id": "5f58d9ab",
   "metadata": {},
   "outputs": [],
   "source": [
    "from summa.summarizer import summarize"
   ]
  },
  {
   "cell_type": "code",
   "execution_count": 52,
   "id": "ef7aa789",
   "metadata": {},
   "outputs": [],
   "source": [
    "import pandas as pd\n",
    "data_summa = pd.read_csv('news_summary_more.csv', encoding='iso-8859-1')"
   ]
  },
  {
   "cell_type": "markdown",
   "id": "83edd033",
   "metadata": {},
   "source": [
    "#### 앞의 추상적요약에서 다루었던 news_summary_more.csv 기사 텍스트의 앞쪽 100문장(글자수 36,030자) 대상 추출적 요약실행"
   ]
  },
  {
   "cell_type": "code",
   "execution_count": 58,
   "id": "937faa2f",
   "metadata": {},
   "outputs": [
    {
     "name": "stdout",
     "output_type": "stream",
     "text": [
      "36030 Saurav Kant, an alumnus of upGrad and IIIT-B's PG Program in Machine learning and Artificial Intelligence, was a Sr Systems Engineer at Infosys with almost 5 years of work experience. The program and upGrad's 360-degree career support helped him transition to a Data Scientist at Tech Mahindra with 90% salary hike. upGrad's Online Power Learning has powered 3 lakh+ careers.,Kunal Shah's credit card bill payment platform, CRED, gave users a chance to win free food from Swiggy for one year. Pranav Kaushik, a Delhi techie, bagged this reward after spending 2000 CRED coins. Users get one CRED coin per rupee of bill paid, which can be used to avail rewards from brands like Ixigo, BookMyShow, UberEats, Cult.Fit and more.,New Zealand defeated India by 8 wickets in the fourth ODI at Hamilton on Thursday to win their first match of the five-match ODI series. India lost an international match under Rohit Sharma's captaincy after 12 consecutive victories dating back to March 2018. The match witnessed India getting all out for 92, their seventh lowest total in ODI cricket history.,With Aegon Life iTerm Insurance plan, customers can enjoy tax benefits on your premiums paid and save up to Ã¢ÂÂ¹46,800^ on taxes. The plan provides life cover up to the age of 100 years. Also, customers have options to insure against Critical Illnesses, Disability and Accidental Death Benefit Rider with a life cover up to the age of 80 years.,Speaking about the sexual harassment allegations against Rajkumar Hirani, Sonam Kapoor said, \"I've known Hirani for many years...What if it's not true, the [#MeToo] movement will get derailed.\" \"In the #MeToo movement, I always believe a woman. But in this case, we need to reserve our judgment,\" she added. Hirani has been accused by an assistant who worked in 'Sanju'.,Pakistani singer Rahat Fateh Ali Khan has denied receiving any notice from the Enforcement Directorate over allegedly smuggling foreign currency out of India. \"It would have been better if the authorities would have served the notice first if any and then publicised this,\" reads a press release issued on behalf of Rahat. The statement further called the allegation \"bizarre\".,India recorded their lowest ODI total in New Zealand after getting all out for 92 runs in 30.5 overs in the fourth ODI at Hamilton on Thursday. Seven of India's batsmen were dismissed for single-digit scores, while their number ten batsman Yuzvendra Chahal top-scored with 18*(37). India's previous lowest ODI total in New Zealand was 108.,Weeks after ex-CBI Director Alok Verma told the Department of Personnel and Training to consider him retired, the Home Ministry asked him to join work on the last day of his fixed tenure as Director on Thursday. The ministry directed him to immediately join as DG, Fire Services, the post he was transferred to after his removal as CBI chief.,Andhra Pradesh CM N Chandrababu Naidu has said, \"When I met then US President Bill Clinton, I addressed him as Mr Clinton, not as 'sir'. (PM Narendra) Modi is my junior in politics...I addressed him as sir 10 times.\" \"I did this...to satisfy his ego in the hope that he will do justice to the state,\" he added.,Congress candidate Shafia Zubair won the Ramgarh Assembly seat in Rajasthan, by defeating BJP's Sukhwant Singh with a margin of 12,228 votes in the bypoll. With this victory, Congress has taken its total to 100 seats in the 200-member assembly. The election to the Ramgarh seat was delayed due to the death of sitting MLA and BSP candidate Laxman Singh.,Two minor cousins in Uttar Pradesh's Gorakhpur were allegedly repeatedly burnt with tongs and forced to eat human excreta by their family for being friends with two boys from the same school. The cousins revealed their ordeal to the police and Child Welfare Committee after being brought back to Gorakhpur from Nepal, where they had fled to escape the torture.,Isha Ghosh, an 81-year-old member of Bharat Scouts and Guides (BSG), has been imparting physical and mental training to schoolchildren in Jharkhand for several decades. Chaibasa-based Ghosh reportedly walks seven kilometres daily and spends eight hours conducting physical training, apart from climbing and yoga sessions. She says, \"One should do something for society till one's last breath.\",Urging saints and seers at the Kumbh Mela to quit smoking, Yoga guru Ramdev said, \"We follow Ram and Krishna who never smoked in their life then why should we?\" Making them take a pledge to quit tobacco, he collected chillum (clay pipe) from several sadhus. He said he will deposit the chillums for display at a museum he'll build.,Former stripper and regional sales director of a pharmaceutical company, Sunrise Lee, gave a doctor a lap dance in a nightclub to persuade him to prescribe an addictive fentanyl spray in 2012, the company's sales representative told a US court. She said she saw Lee \"sitting on [doctor's] lap, kind of bouncing around.\" Lee has been accused of bribing doctors.,Reliance Industries' Ch\n"
     ]
    }
   ],
   "source": [
    "text = \",\".join(data_summa['text'].tolist()[:100])\n",
    "print(len(text), text[:5000])"
   ]
  },
  {
   "cell_type": "code",
   "execution_count": 54,
   "id": "8d656b66",
   "metadata": {},
   "outputs": [
    {
     "name": "stdout",
     "output_type": "stream",
     "text": [
      "Summary:\n",
      "He added, \"The time has come for the people of Odisha to put a full stop to their activities...The time has come for us to ask for an explanation from this corrupt government.\",Claiming there is a dearth of ideas among opposition parties, Prime Minister Narendra Modi on Wednesday said, \"The opposition talks only about Modi the whole day, I suspect they even dream about me.\" PM Modi, who was addressing the New India Youth Conclave inÃ¢ÂÂ Surat, added that the opposition parties have only one agenda which is \"Modi\".\n"
     ]
    }
   ],
   "source": [
    "print('Summary:')\n",
    "print(summarize(text, ratio=0.01))"
   ]
  },
  {
   "cell_type": "code",
   "execution_count": 55,
   "id": "f58ff31d",
   "metadata": {},
   "outputs": [
    {
     "name": "stdout",
     "output_type": "stream",
     "text": [
      "Summary:\n",
      "['He added, \"The time has come for the people of Odisha to put a full stop to their activities...The time has come for us to ask for an explanation from this corrupt government.\",Claiming there is a dearth of ideas among opposition parties, Prime Minister Narendra Modi on Wednesday said, \"The opposition talks only about Modi the whole day, I suspect they even dream about me.\" PM Modi, who was addressing the New India Youth Conclave inÃ¢Â\\x80Â\\x8b Surat, added that the opposition parties have only one agenda which is \"Modi\".']\n"
     ]
    }
   ],
   "source": [
    "print('Summary:')\n",
    "print(summarize(text, ratio=0.01, split=True))"
   ]
  },
  {
   "cell_type": "code",
   "execution_count": 56,
   "id": "363917d5",
   "metadata": {},
   "outputs": [
    {
     "name": "stdout",
     "output_type": "stream",
     "text": [
      "Summary:\n",
      "He added, \"The time has come for the people of Odisha to put a full stop to their activities...The time has come for us to ask for an explanation from this corrupt government.\",Claiming there is a dearth of ideas among opposition parties, Prime Minister Narendra Modi on Wednesday said, \"The opposition talks only about Modi the whole day, I suspect they even dream about me.\" PM Modi, who was addressing the New India Youth Conclave inÃ¢ÂÂ Surat, added that the opposition parties have only one agenda which is \"Modi\".\n"
     ]
    }
   ],
   "source": [
    "print('Summary:')\n",
    "print(summarize(text, words=50))"
   ]
  },
  {
   "cell_type": "markdown",
   "id": "0c6bb222",
   "metadata": {},
   "source": [
    "##### 추출적 요약에 관한 의견\n",
    "\n",
    "\n",
    "추출적요약이 요약비율을 너무 압축시키지 않으면,예를 들어, 10% 정도로 하면, 문장별로는 더 나아질 것 같음\n",
    "\n",
    "[추상적요약]이 학습이 충분히 된다면, 더 훌륭할것 같은데, 학습이 잘않되는 경우, [추출적요약]이 좀 더 나은 것 같음"
   ]
  },
  {
   "cell_type": "markdown",
   "id": "8e56602a",
   "metadata": {},
   "source": [
    "## Step 6. 추상적요약 vs. 추출적예약 비교 검토"
   ]
  },
  {
   "cell_type": "markdown",
   "id": "fa12b8c5",
   "metadata": {},
   "source": [
    "#### 1. 문법완성도 측면\n",
    "###### (1) 추상적 요약 : 문법완성도 측면에서 많이 부족함( target data 인 실제요약도 문법적으로 않맞다보니,  predict인 예측요약도 문법은 없고,단어만 나열됨, 이는 원문이  문법이 형성되지 않고 빈도위주의 단어로 구성되어 있는 것도 원인이라고 보임)\n",
    "\n",
    "###### (2) 추출적요약: 문법완성도 측면에서 양호함(원문이 문법적으로 되어있는 텍스트라서, 거기서 추출되는 형식도 문법적요소가 학습된 것으로 보임)\n",
    "\n",
    "\n",
    "#### 2. 핵심단어 포함측면\n",
    "###### (1) 추상적요약 : 실제예측내에 있는 핵심단어는 거의 다 예측요약에 양호하게 포함되어 있슴   \n",
    "###### (2) 추출적요약:  원문에 있는 핵심단어들을  추출요약에 대체로 잘 포함하고 있슴\n",
    "\n",
    "\n",
    "#### 3. 종합: \n",
    "###### [추상적요약]이 모델구조개선이나, pretrained된 큰규모의 word2vector등을 베이스로 학습이 된다면, 아주 훌륭할것 같은데, 그렇지 않은 환경이거나, 학습이 잘않되는 경우, [추출적요약]이 나을 것 같음\n"
   ]
  },
  {
   "cell_type": "code",
   "execution_count": null,
   "id": "aa15b01c",
   "metadata": {},
   "outputs": [],
   "source": []
  },
  {
   "cell_type": "markdown",
   "id": "f6a5625b",
   "metadata": {},
   "source": [
    "## 회고"
   ]
  },
  {
   "cell_type": "markdown",
   "id": "c2893d60",
   "metadata": {},
   "source": [
    "본 프로젝트는 뉴스기사데이터를 대상으로 기사내용을 추상적요약법과 추출적요약법의 두가지 방법으로 요약을 해보고,\n",
    "요약내용의 품질과 요약방법의 성능을 평가해보는 프로젝트입니다.\n",
    "\n",
    "##### Step 1. 데이터 수집\n",
    "먼저, 뉴스기사 text 원문과 headline으로 구성된 98,401개 뉴스기사 문장을 로드했습니다\n",
    "\n",
    "##### Step 2. 데이터 전처리하기 (추상적 요약)\n",
    "먼저, 먼저 개략적으로 데이터를 살펴보며, 전처리를 위한 분석을 하고서, 중복 샘플을 제거하여, 총98,401개에서 총98,360개로 축소하였습니다.\n",
    "결측치는 존재하지 않았습니다.\n",
    "\n",
    "다음은 데이타 정제, 정규화,불용어처리를 위해서, 일괄 처리해줄 함수로 preprocess_sentence(sentence, remove_stopwords=True)를 만들었습니다.\n",
    "함수안에는 기사 내용에 있는 영어를 제외한 숫자및 특수문자제거, 모든 영문자 소문자로 통일, HTML문제 제거 등 데이터 정제및\n",
    "데이터 정규화, 불용어처리를 위한 코드를 넣어서, 데이터 전처리를 일괄로 깔끔하게 처리하였습니다.\n",
    "이때, 문장길이가 상대적으로 짧긴하지만 headlines의 평균문장 길이가 원문 문장길이 평균의 5배차이라 큰 차이가 아니것으로 보고서,\n",
    "함께 불용어처리를 하였습니다. \n",
    "\n",
    "text의 평균길이가 35개, headlines의 평균길이가 7개라서, 단어빈도분포를 따져보고, text_max_len = 40\n",
    "headlines_max_len = 8 로 결정하였습니다.\n",
    "\n",
    "이렇게 했을때, \n",
    "전체 샘플 중 길이가 40 이하인 샘플의 비율 92.38%, \n",
    "전체 샘플 중 길이가 8 이하인 샘플의 비율: 89.25%,    \n",
    "남은 샘플수는 81914개로, 중복치제거후 기존 총98,360개의 83.2%가 실제 사용샘플수로 남았습니다.  \n",
    "    \n",
    "headlies 데이터에는 시작 토큰 'sostoken ' 과 종료 토큰' eostoken'을 추가했습니다.\n",
    "\n",
    "그리고, 훈련 데이터와 테스트 데이터를  8:2의 비율로 분리하였습니다.\n",
    "분리하기전에 데이터를 shuffle하여, target data의 분포도 치우치지 않게 하였습니다.    \n",
    "분리한 결과 훈련 데이터의 개수 65532,훈련 레이블의 개수 65532, 테스트 데이터의 개수 16382, 테스트 레이블의 개수 16382개였습니다.\n",
    "\n",
    "Tokenizing은 분리된 인코더용 훈련 데이터를 Tokenizer()로 토큰화하고서,희귀단어를 제외시킨후 작업효율을 감안하여,단어집합의 크기(src_vocab)는\n",
    "10000개로 설정하고서,Tokenizer()를 재생성하였고, text 시퀀스(인코더용train data, 인코더용 test data)를 정수 시퀀스로 변환하였습니다.\n",
    "\n",
    "마찬가지 요령으로 디코더용(headlines 시퀀스)데이터도 정수 시퀀스로 변환하였습니다. \n",
    "이때 단어집합크기(tar_vocab)는 2500개로 설정하였습니다.\n",
    "    \n",
    "Padding은 max길이로 문장을 통일시키기위해서, pad_sequences()로 'post'방식으로 패딩을 완료하였습니다\n",
    "encoder_input_train = pad_sequences(encoder_input_train, maxlen=text_max_len, padding='post')\n",
    "encoder_input_test = pad_sequences(encoder_input_test, maxlen=text_max_len, padding='post')\n",
    "\n",
    "decoder_input_train = pad_sequences(decoder_input_train, maxlen=headlines_max_len, padding='post')\n",
    "decoder_target_train = pad_sequences(decoder_target_train, maxlen=headlines_max_len, padding='post')\n",
    "decoder_input_test = pad_sequences(decoder_input_test, maxlen=headlines_max_len, padding='post')\n",
    "decoder_target_test = pad_sequences(decoder_target_test, maxlen=headlines_max_len, padding='post')\n",
    "\n",
    "이로써 데이터 전처리가 완료되었습니다.\n",
    "\n",
    "\n",
    "#### Step 3. 어텐션 메커니즘 사용하기 (추상적 요약)\n",
    "인코더 설계단계에서 Attention이있는 인코더는 일반 seq2seq와는 다르게, 인코더 LSTM layer의 인자에 return_sequence=True 설정해야하는데,\n",
    "이는 timestep별 state가 모두 필요하기 때문입니다.\n",
    "embedding_dim 256,hidden_size 256으로 하였고,인코더 인풋층 다음에 임베딩층, 3개층의 LSTM레이어, \n",
    "그리고, 매층뒤에 Bachnormalization층을 설치해서,정규화를 통해 학습이 좀 더 매끄럽게 되도록 했습니다.\n",
    "그리고, 각 LSTM층에는 dropout인자를 사용하여, 오버피팅을 방지했습니다.\n",
    "\n",
    "디코더 설계단계에서는 당연히 일반seq2seq와 동일하게 return_sequences= True 설정하였는데,\n",
    "이는 seq2seq의 특징인 이전 timestep output을  다음 timestep의 input으로 쓰도록 하기위해서입니다.\n",
    "디코더 인풋층, 임베딩층, LSTM층 1개(dropout사용,return_sequences=True, return_state=True), \n",
    "소프트맥스층순으로 하고,매층뒤에 Bachnormalization층을 설치했습니다.\n",
    "\n",
    "이것으로 Attention 모델을 만들기위한 기반 seq2seq 인코더 디코더는 마련하였습니다.\n",
    "\n",
    "다음으로 keras의 AdditiveAttention layer를 가져와서, 위의 모델에 어텐션을 조합하여, 어텐션 모델로 만들었습니다.\n",
    "AdditiveAttention layer는 이미 구현된 레이어로서, attention score를 구하는 방식이 Bahdanau 스타일입니다.\n",
    "Bahdanau 스타일은 스코어를 구할때, trainable 가중치와 하이퍼볼릭탄젠트함수를 사용하여 계산하는 방식입니다.\n",
    "\n",
    "어텐션레이어는 인코더의 모든 타임스텝의 states들과 해당 타임스텝시점의 디코더 아웃풋을 인풋으로 받아서,\n",
    "어텐션 스코어를 산출합니다.\n",
    "\n",
    "어텐션 레이어를 거친후, concat layer를 거쳐서, 소프트맥스가 있는 Dense 층을 통해, 그 타임스텝시점의 prdeict예측치를\n",
    "반환하며, 이 예측치는 다음 타임스텝의 인풋으로 들어갑니다,  이 과정은 디코더의 모든 타임스텝동안 반복됩니다.\n",
    "\n",
    "이러한 과정을 실행하는 어텐션모델이 완성되었습니다.\n",
    "\n",
    "학습을 하기위해서, 데이터는 train data를 학습데이터로, test data를 valid data로 하고,\n",
    "batch size 256개, epoch 50회, earlystop callback을 사용하여, 학습을 진행했는데, Epoch 7회에 early stop 되었습니다.\n",
    "첫번째 Epoch의 val_loss 가 6.97이었는데, 계속 감소하다가, 조기종료된 Epoch 7회 val_loss는 2.6745 였습니다.\n",
    "\n",
    "history.history['val_loss']로 시각화해보니, val_loss가 우하향 잘하며 loss가 감소해 내려가다가, epoch 7 에서부터,\n",
    "과대적합이 시작되면서,조기종료되었습니다.\n",
    "\n",
    "이렇게 학습이 종료되고, 학습된 모델로 어텐션모델 기사요약기로 성능평가를 해봐야하는데,\n",
    "seq2seq 모델및 어텐션모델은 학습과정과 평가 테스트과정에서, 다르게 실행되는부분이 있는데,\n",
    "무엇인가 하면,평가 테스트과정에서는, inference 부분(predict부분)에서, 디코더 LSTM 의 매 time step마다,\n",
    "이전 timestep의 예측치를 받아서, 당 시점 timestep의 인풋으로 넣어주는 반복적인 과정을 별도의 코드로 처리해주어야 하기 때문입니다.\n",
    "이것을 처리하는 함수는 decode_sequence 함수로 정의하여 사용하였습니다.\n",
    "\n",
    "#### Step 4. 실제 결과와 요약문 비교하기 (추상적 요약)\n",
    "\n",
    "별도의 test data가 마련하지 않아서,valid data로 사용하였지만, 약식 성능테스트이기 때문에,\n",
    "encoder_input_test data로 기사요약기 성능을 테스트해보았습니다.\n",
    "\n",
    "첫 기사부터 50개의 기사를 요약시켜보았습니다.\n",
    "\n",
    "예측요약은 대부분 실제 요약내에 있는 단어에 포함되어있고,포함되지 않은 소수의 기사도 단어가 원문내에 있어, \n",
    "핵심 단어수준에서는 잘맞는 것 같으나,예측문장은 대부분 동일 단어들이 반복되고 있어서, 하나의 문장을 이루지 못하고 있어서,\n",
    "문법적으로는 품질이 많이 떨어졌습니다, \n",
    "그런데, 그 원인으로, 원문장 자체가 불용어에 포함되어 삭제된 것이 많아서, 원문도 문법적으로 어색한 상태라서,\n",
    "심층연구가 아닌 경우, 작은 Epoch등으로 인해, 문법을 익힐 기회가 적어서, 문법학습 부진에도 영향을 미치지 않았나\n",
    "생각해 봅니다.\n",
    "\n",
    "좀더 모델성능향상을 위한 모델구조개선과 하이퍼파라메터등을 개선 적용해서,EPOCH를 충분히 늘려서, 적용하면 좀 더 나아질것 같으나, \n",
    "궁극적으로 트랜스포머에대한 기대감이 커지고 있습니다.\n",
    "\n",
    "#### Step 5. Summa을 이용해서 추출적 요약해보기\n",
    "앞의 추상적요약에서 다루었던 news_summary_more.csv 기사 텍스트의 앞쪽 100문장(글자수 36,030자) 대상 추출적 요약실행해 보았습니다.\n",
    "전체 기사를 list화 한후 전체를 str 통문장으로 만든후 summa의 summarize로 요약해보았습니다. \n",
    "\n",
    "추출적요약을 요약비율을 여러가지로 변경해가면 살펴보았는데, 요약비율을 너무 압축시키지 않는다면,\n",
    "예를 들어, 10% 정도 이상으로 하면, 문장별로는 그럴듯한 것이 제법 있었고, 문법적으로도 괜찮은 부분이 더 많은 것 같았습니다.\n",
    "\n",
    "\n",
    "#### Step 6. 추상적요약 vs. 추출적예약 비교 검토\n",
    "1. 문법완성도 측면\n",
    "\n",
    "(1) 추상적 요약 : 문법완성도 측면에서 많이 부족함( target data 인 실제요약도 문법적으로 않맞다보니, predict인 예측요약도 문법은 없고,단어만 나열됨, 이는 원문이 문법이 형성되지 않고 빈도위주의 단어로 구성되어 있는 것도 원인이라고 보임)¶\n",
    "\n",
    "(2) 추출적요약: 문법완성도 측면에서 양호함(원문이 문법적으로 되어있는 텍스트라서, 거기서 추출되는 형식도 문법적요소가 학습된 것으로 보임)\n",
    "\n",
    "2. 핵심단어 포함측면\n",
    "\n",
    "(1) 추상적요약 : 실제예측내에 있는 핵심단어는 거의 다 예측요약에 양호하게 포함되어 있슴\n",
    "\n",
    "(2) 추출적요약: 원문에 있는 핵심단어들을 추출요약에 대체로 잘 포함하고 있슴\n",
    "\n",
    "3. 종합:\n",
    "[추상적요약]이 모델구조개선이나, pretrained된 큰규모의 word2vector등을 베이스로 학습이 된다면, 아주 훌륭할것 같은데, 그렇지 않은 환경이거나, 학습이 잘않되는 경우, [추출적요약]이 나을 것 같음\n",
    "회고\n",
    "\n",
    "#### 결론\n",
    "\n",
    "Decoder의 해당 timestep에서, Encoder의 모든 timestep의 결과를 참조하여, 무엇이 정답을 예측하는데,\n",
    "더 영향을 미치는지 집중(Attention)하게 하는, Attention 아이디어는 seq2seq 모델을 크게 발전시킬수 있는 획기적인 아이디어인 것\n",
    "이 맞는 것 같습니다.\n",
    "\n",
    "그 획기적인 발전과정의 초입부분의 프로젝트를 수행하면서, 좀 더 깊은 어텐션에의 이해및 궁극적으로 트랜스포머모델등\n",
    "앞으로의 발전과정을 좀더 깊이 공부해 볼수 있는 계기와 기대감을 갖게 되었던 것 같습니다.\n",
    "감사합니다.\n",
    "\n"
   ]
  },
  {
   "cell_type": "code",
   "execution_count": null,
   "id": "e036918f",
   "metadata": {},
   "outputs": [],
   "source": []
  }
 ],
 "metadata": {
  "kernelspec": {
   "display_name": "Python 3 (ipykernel)",
   "language": "python",
   "name": "python3"
  },
  "language_info": {
   "codemirror_mode": {
    "name": "ipython",
    "version": 3
   },
   "file_extension": ".py",
   "mimetype": "text/x-python",
   "name": "python",
   "nbconvert_exporter": "python",
   "pygments_lexer": "ipython3",
   "version": "3.9.7"
  }
 },
 "nbformat": 4,
 "nbformat_minor": 5
}
