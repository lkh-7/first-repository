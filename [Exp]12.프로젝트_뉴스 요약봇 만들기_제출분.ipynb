{
 "cells": [
  {
   "cell_type": "markdown",
   "id": "db0c6b1c",
   "metadata": {},
   "source": [
    "## [Exp] 12. 프로젝트: 뉴스기사 요약해보기\n"
   ]
  },
  {
   "cell_type": "code",
   "execution_count": 1,
   "id": "d660be26",
   "metadata": {},
   "outputs": [
    {
     "name": "stderr",
     "output_type": "stream",
     "text": [
      "[nltk_data] Downloading package stopwords to /aiffel/nltk_data...\n",
      "[nltk_data]   Package stopwords is already up-to-date!\n"
     ]
    },
    {
     "name": "stdout",
     "output_type": "stream",
     "text": [
      "=3\n",
      "3.6.5\n",
      "2.6.0\n",
      "1.2.0\n"
     ]
    }
   ],
   "source": [
    "import nltk\n",
    "nltk.download('stopwords')\n",
    "\n",
    "from importlib.metadata import version\n",
    "import tensorflow\n",
    "import summa\n",
    "import pandas as pd\n",
    "import numpy as np\n",
    "import os,sys,copy,time\n",
    "import re\n",
    "import matplotlib.pyplot as plt\n",
    "from nltk.corpus import stopwords\n",
    "from bs4 import BeautifulSoup \n",
    "from tensorflow.keras.preprocessing.text import Tokenizer \n",
    "from tensorflow.keras.preprocessing.sequence import pad_sequences\n",
    "import urllib.request\n",
    "import warnings\n",
    "warnings.filterwarnings(\"ignore\", category=UserWarning, module='bs4')\n",
    "\n",
    "print('=3')\n",
    "print(nltk.__version__)\n",
    "print(tensorflow.__version__)\n",
    "print(version('summa'))"
   ]
  },
  {
   "cell_type": "markdown",
   "id": "c4d2f873",
   "metadata": {},
   "source": [
    "### Step 1. 데이터 수집하기\n",
    "데이터는 아래 링크에 있는 뉴스 기사 데이터(news_summary_more.csv)를 사용하세요.\n",
    "\n",
    "sunnysai12345/News_Summary: https://github.com/sunnysai12345/News_Summary\n",
    "아래의 코드로 데이터를 다운로드할 수 있어요."
   ]
  },
  {
   "cell_type": "code",
   "execution_count": 2,
   "id": "21739d78",
   "metadata": {},
   "outputs": [],
   "source": [
    "urllib.request.urlretrieve(\"https://raw.githubusercontent.com/sunnysai12345/News_Summary/master/news_summary_more.csv\", filename=\"news_summary_more.csv\")\n",
    "data = pd.read_csv('news_summary_more.csv', encoding='iso-8859-1')"
   ]
  },
  {
   "cell_type": "code",
   "execution_count": 3,
   "id": "a2fb0559",
   "metadata": {},
   "outputs": [
    {
     "data": {
      "text/html": [
       "<div>\n",
       "<style scoped>\n",
       "    .dataframe tbody tr th:only-of-type {\n",
       "        vertical-align: middle;\n",
       "    }\n",
       "\n",
       "    .dataframe tbody tr th {\n",
       "        vertical-align: top;\n",
       "    }\n",
       "\n",
       "    .dataframe thead th {\n",
       "        text-align: right;\n",
       "    }\n",
       "</style>\n",
       "<table border=\"1\" class=\"dataframe\">\n",
       "  <thead>\n",
       "    <tr style=\"text-align: right;\">\n",
       "      <th></th>\n",
       "      <th>headlines</th>\n",
       "      <th>text</th>\n",
       "    </tr>\n",
       "  </thead>\n",
       "  <tbody>\n",
       "    <tr>\n",
       "      <th>27012</th>\n",
       "      <td>DonÃ¢ÂÂt end marriages over small issues: Go...</td>\n",
       "      <td>Goa Governor Mridula Sinha on Saturday adminis...</td>\n",
       "    </tr>\n",
       "    <tr>\n",
       "      <th>12774</th>\n",
       "      <td>Not ashamed that I worked as a welder: Pak's M...</td>\n",
       "      <td>Pakistan pacer Mohammad Abbas, who won the Man...</td>\n",
       "    </tr>\n",
       "    <tr>\n",
       "      <th>39608</th>\n",
       "      <td>Antarctica also witnesses earthquakes, confirm...</td>\n",
       "      <td>Long thought to be silent because of ice cover...</td>\n",
       "    </tr>\n",
       "    <tr>\n",
       "      <th>94994</th>\n",
       "      <td>Pepsi faces flak for new ad featuring Kendall ...</td>\n",
       "      <td>Pepsi has been criticised for 'trivialising' p...</td>\n",
       "    </tr>\n",
       "    <tr>\n",
       "      <th>59927</th>\n",
       "      <td>Govt announces reward for photos of illegally ...</td>\n",
       "      <td>Transport Minister Nitin Gadkari has asked cit...</td>\n",
       "    </tr>\n",
       "    <tr>\n",
       "      <th>23516</th>\n",
       "      <td>CBI court sentences 4 Vyapam scam accused to 4...</td>\n",
       "      <td>CBI court on Tuesday sentenced each of the fou...</td>\n",
       "    </tr>\n",
       "    <tr>\n",
       "      <th>28691</th>\n",
       "      <td>Child rape inexcusable, no mercy can be shown ...</td>\n",
       "      <td>While upholding the life sentence awarded to a...</td>\n",
       "    </tr>\n",
       "    <tr>\n",
       "      <th>65060</th>\n",
       "      <td>Jharkhand girl who starved to death had Aadhaa...</td>\n",
       "      <td>The family of the 11-year-old girl in Jharkhan...</td>\n",
       "    </tr>\n",
       "    <tr>\n",
       "      <th>28779</th>\n",
       "      <td>PNB sets up loan recovery cells in all its 6,9...</td>\n",
       "      <td>State-run Punjab National Bank (PNB) has repor...</td>\n",
       "    </tr>\n",
       "    <tr>\n",
       "      <th>25874</th>\n",
       "      <td>Elon Musk's submarine was a PR stunt: Thai cav...</td>\n",
       "      <td>One of the divers who helped rescue 12 kids st...</td>\n",
       "    </tr>\n",
       "  </tbody>\n",
       "</table>\n",
       "</div>"
      ],
      "text/plain": [
       "                                               headlines  \\\n",
       "27012  DonÃ¢ÂÂt end marriages over small issues: Go...   \n",
       "12774  Not ashamed that I worked as a welder: Pak's M...   \n",
       "39608  Antarctica also witnesses earthquakes, confirm...   \n",
       "94994  Pepsi faces flak for new ad featuring Kendall ...   \n",
       "59927  Govt announces reward for photos of illegally ...   \n",
       "23516  CBI court sentences 4 Vyapam scam accused to 4...   \n",
       "28691  Child rape inexcusable, no mercy can be shown ...   \n",
       "65060  Jharkhand girl who starved to death had Aadhaa...   \n",
       "28779  PNB sets up loan recovery cells in all its 6,9...   \n",
       "25874  Elon Musk's submarine was a PR stunt: Thai cav...   \n",
       "\n",
       "                                                    text  \n",
       "27012  Goa Governor Mridula Sinha on Saturday adminis...  \n",
       "12774  Pakistan pacer Mohammad Abbas, who won the Man...  \n",
       "39608  Long thought to be silent because of ice cover...  \n",
       "94994  Pepsi has been criticised for 'trivialising' p...  \n",
       "59927  Transport Minister Nitin Gadkari has asked cit...  \n",
       "23516  CBI court on Tuesday sentenced each of the fou...  \n",
       "28691  While upholding the life sentence awarded to a...  \n",
       "65060  The family of the 11-year-old girl in Jharkhan...  \n",
       "28779  State-run Punjab National Bank (PNB) has repor...  \n",
       "25874  One of the divers who helped rescue 12 kids st...  "
      ]
     },
     "execution_count": 3,
     "metadata": {},
     "output_type": "execute_result"
    }
   ],
   "source": [
    "data.sample(10)"
   ]
  },
  {
   "cell_type": "markdown",
   "id": "0ba77e76",
   "metadata": {},
   "source": [
    "이 데이터는 기사의 본문에 해당되는 text와 headlines 두 가지 열로 구성되어져 있습니다.\n",
    "\n",
    "추상적 요약을 하는 경우에는 text를 본문, headlines를 이미 요약된 데이터로 삼아서 모델을 학습할 수 있어요. 추출적 요약을 하는 경우에는 오직 text열만을 사용하세요."
   ]
  },
  {
   "cell_type": "code",
   "execution_count": 4,
   "id": "22e093af",
   "metadata": {},
   "outputs": [
    {
     "name": "stdout",
     "output_type": "stream",
     "text": [
      "(98401, 2) Index(['headlines', 'text'], dtype='object')\n"
     ]
    },
    {
     "data": {
      "text/html": [
       "<div>\n",
       "<style scoped>\n",
       "    .dataframe tbody tr th:only-of-type {\n",
       "        vertical-align: middle;\n",
       "    }\n",
       "\n",
       "    .dataframe tbody tr th {\n",
       "        vertical-align: top;\n",
       "    }\n",
       "\n",
       "    .dataframe thead th {\n",
       "        text-align: right;\n",
       "    }\n",
       "</style>\n",
       "<table border=\"1\" class=\"dataframe\">\n",
       "  <thead>\n",
       "    <tr style=\"text-align: right;\">\n",
       "      <th></th>\n",
       "      <th>headlines</th>\n",
       "      <th>text</th>\n",
       "    </tr>\n",
       "  </thead>\n",
       "  <tbody>\n",
       "    <tr>\n",
       "      <th>96958</th>\n",
       "      <td>Up to 137% tax for not declaring black money t...</td>\n",
       "      <td>The I-T department on Friday urged black money...</td>\n",
       "    </tr>\n",
       "    <tr>\n",
       "      <th>30002</th>\n",
       "      <td>If talent was appreciated, I'd have been a sta...</td>\n",
       "      <td>Actor Annu Kapoor has said if content and tale...</td>\n",
       "    </tr>\n",
       "    <tr>\n",
       "      <th>96841</th>\n",
       "      <td>F1 driver asked to diet to compensate for over...</td>\n",
       "      <td>Force India's Mexican driver Sergio PÃÂ©rez h...</td>\n",
       "    </tr>\n",
       "    <tr>\n",
       "      <th>34255</th>\n",
       "      <td>BJP MP's son arrested for consuming liquor in ...</td>\n",
       "      <td>The 18-year-old son of a BJP MP has been arres...</td>\n",
       "    </tr>\n",
       "    <tr>\n",
       "      <th>90695</th>\n",
       "      <td>Ambulance service for cows launched in Uttar P...</td>\n",
       "      <td>The Uttar Pradesh government recently launched...</td>\n",
       "    </tr>\n",
       "    <tr>\n",
       "      <th>2318</th>\n",
       "      <td>9 kids in Raj fall sick after being given expi...</td>\n",
       "      <td>As many as nine children fell ill after they w...</td>\n",
       "    </tr>\n",
       "    <tr>\n",
       "      <th>4732</th>\n",
       "      <td>Gold jewellery worth Ã¢ÂÂ¹31L found in Air In...</td>\n",
       "      <td>Gold jewellery worth over Ã¢ÂÂ¹31 lakh was se...</td>\n",
       "    </tr>\n",
       "    <tr>\n",
       "      <th>40598</th>\n",
       "      <td>India ranks 9th globally in cryptojacking acti...</td>\n",
       "      <td>India is the ninth most affected country in th...</td>\n",
       "    </tr>\n",
       "    <tr>\n",
       "      <th>51119</th>\n",
       "      <td>Team of chefs to ensure PM Modi gets Indian fo...</td>\n",
       "      <td>A team of 32 chefs and managers from the Taj G...</td>\n",
       "    </tr>\n",
       "    <tr>\n",
       "      <th>22424</th>\n",
       "      <td>Trump hosts Indra Nooyi, Mastercard's Ajay Ban...</td>\n",
       "      <td>US President Donald Trump on Tuesday hosted co...</td>\n",
       "    </tr>\n",
       "    <tr>\n",
       "      <th>93684</th>\n",
       "      <td>UP govt ends SC, ST, OBC quota in private medi...</td>\n",
       "      <td>The BJP government in Uttar Pradesh on Thursda...</td>\n",
       "    </tr>\n",
       "    <tr>\n",
       "      <th>12218</th>\n",
       "      <td>Ethiopia elects its first female President</td>\n",
       "      <td>The Ethiopian parliament on Thursday elected 6...</td>\n",
       "    </tr>\n",
       "    <tr>\n",
       "      <th>9465</th>\n",
       "      <td>Device that can be kept in eyes to monitor sug...</td>\n",
       "      <td>Dutch startup NovioSense has developed a gluco...</td>\n",
       "    </tr>\n",
       "    <tr>\n",
       "      <th>95279</th>\n",
       "      <td>B'luru police launch selfie contest to promote...</td>\n",
       "      <td>Bengaluru Traffic Police-East on Friday launch...</td>\n",
       "    </tr>\n",
       "    <tr>\n",
       "      <th>5299</th>\n",
       "      <td>I walked away, didn't want to know: Smith on b...</td>\n",
       "      <td>Banned Australian cricketer Steve Smith has re...</td>\n",
       "    </tr>\n",
       "  </tbody>\n",
       "</table>\n",
       "</div>"
      ],
      "text/plain": [
       "                                               headlines  \\\n",
       "96958  Up to 137% tax for not declaring black money t...   \n",
       "30002  If talent was appreciated, I'd have been a sta...   \n",
       "96841  F1 driver asked to diet to compensate for over...   \n",
       "34255  BJP MP's son arrested for consuming liquor in ...   \n",
       "90695  Ambulance service for cows launched in Uttar P...   \n",
       "2318   9 kids in Raj fall sick after being given expi...   \n",
       "4732   Gold jewellery worth Ã¢ÂÂ¹31L found in Air In...   \n",
       "40598  India ranks 9th globally in cryptojacking acti...   \n",
       "51119  Team of chefs to ensure PM Modi gets Indian fo...   \n",
       "22424  Trump hosts Indra Nooyi, Mastercard's Ajay Ban...   \n",
       "93684  UP govt ends SC, ST, OBC quota in private medi...   \n",
       "12218         Ethiopia elects its first female President   \n",
       "9465   Device that can be kept in eyes to monitor sug...   \n",
       "95279  B'luru police launch selfie contest to promote...   \n",
       "5299   I walked away, didn't want to know: Smith on b...   \n",
       "\n",
       "                                                    text  \n",
       "96958  The I-T department on Friday urged black money...  \n",
       "30002  Actor Annu Kapoor has said if content and tale...  \n",
       "96841  Force India's Mexican driver Sergio PÃÂ©rez h...  \n",
       "34255  The 18-year-old son of a BJP MP has been arres...  \n",
       "90695  The Uttar Pradesh government recently launched...  \n",
       "2318   As many as nine children fell ill after they w...  \n",
       "4732   Gold jewellery worth over Ã¢ÂÂ¹31 lakh was se...  \n",
       "40598  India is the ninth most affected country in th...  \n",
       "51119  A team of 32 chefs and managers from the Taj G...  \n",
       "22424  US President Donald Trump on Tuesday hosted co...  \n",
       "93684  The BJP government in Uttar Pradesh on Thursda...  \n",
       "12218  The Ethiopian parliament on Thursday elected 6...  \n",
       "9465   Dutch startup NovioSense has developed a gluco...  \n",
       "95279  Bengaluru Traffic Police-East on Friday launch...  \n",
       "5299   Banned Australian cricketer Steve Smith has re...  "
      ]
     },
     "execution_count": 4,
     "metadata": {},
     "output_type": "execute_result"
    }
   ],
   "source": [
    "print(data.shape,data.columns)\n",
    "\n",
    "#랜덤한 15개 샘플 출력\n",
    "data.sample(15)"
   ]
  },
  {
   "cell_type": "markdown",
   "id": "6615ea5e",
   "metadata": {},
   "source": [
    "### Step 2. 데이터 전처리하기 (추상적 요약)\n",
    "실습에서 사용된 전처리를 참고하여 각자 필요하다고 생각하는 전처리를 추가 사용하여 텍스트를 정규화 또는 정제해 보세요. 만약, 불용어 제거를 선택한다면 상대적으로 길이가 짧은 요약 데이터에 대해서도 불용어를 제거하는 것이 좋을지 고민해 보세요."
   ]
  },
  {
   "cell_type": "markdown",
   "id": "b017b11a",
   "metadata": {},
   "source": [
    "중복 샘플과 NULL 값이 존재하는 샘플 제거\n"
   ]
  },
  {
   "cell_type": "code",
   "execution_count": 5,
   "id": "389f2b87",
   "metadata": {},
   "outputs": [
    {
     "name": "stdout",
     "output_type": "stream",
     "text": [
      "text 열에서 중복을 배제한 유일한 샘플의 수 : 98360\n",
      "headlines 열에서 중복을 배제한 유일한 샘플의 수 : 98280\n"
     ]
    }
   ],
   "source": [
    "print('text 열에서 중복을 배제한 유일한 샘플의 수 :', data['text'].nunique())\n",
    "print('headlines 열에서 중복을 배제한 유일한 샘플의 수 :', data['headlines'].nunique())"
   ]
  },
  {
   "cell_type": "code",
   "execution_count": 6,
   "id": "5fca5161",
   "metadata": {},
   "outputs": [
    {
     "name": "stdout",
     "output_type": "stream",
     "text": [
      "전체 샘플수 : 98360\n"
     ]
    }
   ],
   "source": [
    "# text 중복값제거\n",
    "data.drop_duplicates(subset = ['text'], inplace=True)\n",
    "print('전체 샘플수 :', (len(data)))"
   ]
  },
  {
   "cell_type": "code",
   "execution_count": 7,
   "id": "bf3a1978",
   "metadata": {},
   "outputs": [
    {
     "name": "stdout",
     "output_type": "stream",
     "text": [
      "headlines    0\n",
      "text         0\n",
      "dtype: int64\n"
     ]
    }
   ],
   "source": [
    "print(data.isnull().sum())"
   ]
  },
  {
   "cell_type": "markdown",
   "id": "371aac46",
   "metadata": {},
   "source": [
    "텍스트 정규화와 불용어 제거"
   ]
  },
  {
   "cell_type": "code",
   "execution_count": 8,
   "id": "7d944b61",
   "metadata": {},
   "outputs": [
    {
     "name": "stdout",
     "output_type": "stream",
     "text": [
      "정규화 사전의 수:  120\n"
     ]
    }
   ],
   "source": [
    "contractions = {\"ain't\": \"is not\", \"aren't\": \"are not\",\"can't\": \"cannot\", \"'cause\": \"because\", \"could've\": \"could have\", \"couldn't\": \"could not\",\n",
    "                           \"didn't\": \"did not\",  \"doesn't\": \"does not\", \"don't\": \"do not\", \"hadn't\": \"had not\", \"hasn't\": \"has not\", \"haven't\": \"have not\",\n",
    "                           \"he'd\": \"he would\",\"he'll\": \"he will\", \"he's\": \"he is\", \"how'd\": \"how did\", \"how'd'y\": \"how do you\", \"how'll\": \"how will\", \"how's\": \"how is\",\n",
    "                           \"I'd\": \"I would\", \"I'd've\": \"I would have\", \"I'll\": \"I will\", \"I'll've\": \"I will have\",\"I'm\": \"I am\", \"I've\": \"I have\", \"i'd\": \"i would\",\n",
    "                           \"i'd've\": \"i would have\", \"i'll\": \"i will\",  \"i'll've\": \"i will have\",\"i'm\": \"i am\", \"i've\": \"i have\", \"isn't\": \"is not\", \"it'd\": \"it would\",\n",
    "                           \"it'd've\": \"it would have\", \"it'll\": \"it will\", \"it'll've\": \"it will have\",\"it's\": \"it is\", \"let's\": \"let us\", \"ma'am\": \"madam\",\n",
    "                           \"mayn't\": \"may not\", \"might've\": \"might have\",\"mightn't\": \"might not\",\"mightn't've\": \"might not have\", \"must've\": \"must have\",\n",
    "                           \"mustn't\": \"must not\", \"mustn't've\": \"must not have\", \"needn't\": \"need not\", \"needn't've\": \"need not have\",\"o'clock\": \"of the clock\",\n",
    "                           \"oughtn't\": \"ought not\", \"oughtn't've\": \"ought not have\", \"shan't\": \"shall not\", \"sha'n't\": \"shall not\", \"shan't've\": \"shall not have\",\n",
    "                           \"she'd\": \"she would\", \"she'd've\": \"she would have\", \"she'll\": \"she will\", \"she'll've\": \"she will have\", \"she's\": \"she is\",\n",
    "                           \"should've\": \"should have\", \"shouldn't\": \"should not\", \"shouldn't've\": \"should not have\", \"so've\": \"so have\",\"so's\": \"so as\",\n",
    "                           \"this's\": \"this is\",\"that'd\": \"that would\", \"that'd've\": \"that would have\", \"that's\": \"that is\", \"there'd\": \"there would\",\n",
    "                           \"there'd've\": \"there would have\", \"there's\": \"there is\", \"here's\": \"here is\",\"they'd\": \"they would\", \"they'd've\": \"they would have\",\n",
    "                           \"they'll\": \"they will\", \"they'll've\": \"they will have\", \"they're\": \"they are\", \"they've\": \"they have\", \"to've\": \"to have\",\n",
    "                           \"wasn't\": \"was not\", \"we'd\": \"we would\", \"we'd've\": \"we would have\", \"we'll\": \"we will\", \"we'll've\": \"we will have\", \"we're\": \"we are\",\n",
    "                           \"we've\": \"we have\", \"weren't\": \"were not\", \"what'll\": \"what will\", \"what'll've\": \"what will have\", \"what're\": \"what are\",\n",
    "                           \"what's\": \"what is\", \"what've\": \"what have\", \"when's\": \"when is\", \"when've\": \"when have\", \"where'd\": \"where did\", \"where's\": \"where is\",\n",
    "                           \"where've\": \"where have\", \"who'll\": \"who will\", \"who'll've\": \"who will have\", \"who's\": \"who is\", \"who've\": \"who have\",\n",
    "                           \"why's\": \"why is\", \"why've\": \"why have\", \"will've\": \"will have\", \"won't\": \"will not\", \"won't've\": \"will not have\",\n",
    "                           \"would've\": \"would have\", \"wouldn't\": \"would not\", \"wouldn't've\": \"would not have\", \"y'all\": \"you all\",\n",
    "                           \"y'all'd\": \"you all would\",\"y'all'd've\": \"you all would have\",\"y'all're\": \"you all are\",\"y'all've\": \"you all have\",\n",
    "                           \"you'd\": \"you would\", \"you'd've\": \"you would have\", \"you'll\": \"you will\", \"you'll've\": \"you will have\",\n",
    "                           \"you're\": \"you are\", \"you've\": \"you have\"}\n",
    "\n",
    "print(\"정규화 사전의 수: \", len(contractions))"
   ]
  },
  {
   "cell_type": "code",
   "execution_count": 9,
   "id": "2916cc22",
   "metadata": {},
   "outputs": [
    {
     "name": "stdout",
     "output_type": "stream",
     "text": [
      "불용어 개수 : 179\n",
      "['i', 'me', 'my', 'myself', 'we', 'our', 'ours', 'ourselves', 'you', \"you're\", \"you've\", \"you'll\", \"you'd\", 'your', 'yours', 'yourself', 'yourselves', 'he', 'him', 'his', 'himself', 'she', \"she's\", 'her', 'hers', 'herself', 'it', \"it's\", 'its', 'itself', 'they', 'them', 'their', 'theirs', 'themselves', 'what', 'which', 'who', 'whom', 'this', 'that', \"that'll\", 'these', 'those', 'am', 'is', 'are', 'was', 'were', 'be', 'been', 'being', 'have', 'has', 'had', 'having', 'do', 'does', 'did', 'doing', 'a', 'an', 'the', 'and', 'but', 'if', 'or', 'because', 'as', 'until', 'while', 'of', 'at', 'by', 'for', 'with', 'about', 'against', 'between', 'into', 'through', 'during', 'before', 'after', 'above', 'below', 'to', 'from', 'up', 'down', 'in', 'out', 'on', 'off', 'over', 'under', 'again', 'further', 'then', 'once', 'here', 'there', 'when', 'where', 'why', 'how', 'all', 'any', 'both', 'each', 'few', 'more', 'most', 'other', 'some', 'such', 'no', 'nor', 'not', 'only', 'own', 'same', 'so', 'than', 'too', 'very', 's', 't', 'can', 'will', 'just', 'don', \"don't\", 'should', \"should've\", 'now', 'd', 'll', 'm', 'o', 're', 've', 'y', 'ain', 'aren', \"aren't\", 'couldn', \"couldn't\", 'didn', \"didn't\", 'doesn', \"doesn't\", 'hadn', \"hadn't\", 'hasn', \"hasn't\", 'haven', \"haven't\", 'isn', \"isn't\", 'ma', 'mightn', \"mightn't\", 'mustn', \"mustn't\", 'needn', \"needn't\", 'shan', \"shan't\", 'shouldn', \"shouldn't\", 'wasn', \"wasn't\", 'weren', \"weren't\", 'won', \"won't\", 'wouldn', \"wouldn't\"]\n"
     ]
    }
   ],
   "source": [
    "print('불용어 개수 :', len(stopwords.words('english') ))\n",
    "print(stopwords.words('english'))"
   ]
  },
  {
   "cell_type": "markdown",
   "id": "d5d126b1",
   "metadata": {},
   "source": [
    "데이터 전처리 함수생성: 정규화,불용어,데이터 정제처리등"
   ]
  },
  {
   "cell_type": "code",
   "execution_count": 10,
   "id": "14f18057",
   "metadata": {},
   "outputs": [],
   "source": [
    "# 데이터 전처리 함수\n",
    "def preprocess_sentence(sentence, remove_stopwords=True):\n",
    "    sentence = sentence.lower() # 텍스트 소문자화\n",
    "    sentence = BeautifulSoup(sentence, \"lxml\").text # <br />, <a href = ...> 등의 html 태그 제거\n",
    "    sentence = re.sub(r'\\([^)]*\\)', '', sentence) # 괄호로 닫힌 문자열 (...) 제거 Ex) my husband (and myself!) for => my husband for\n",
    "    sentence = re.sub('\"','', sentence) # 쌍따옴표 \" 제거\n",
    "    sentence = ' '.join([contractions[t] if t in contractions else t for t in sentence.split(\" \")]) # 약어 정규화\n",
    "    sentence = re.sub(r\"'s\\b\",\"\", sentence) # 소유격 제거. Ex) roland's -> roland\n",
    "    sentence = re.sub(\"[^a-zA-Z]\", \" \", sentence) # 영어 외 문자(숫자, 특수문자 등) 공백으로 변환\n",
    "    sentence = re.sub('[m]{2,}', 'mm', sentence) # m이 3개 이상이면 2개로 변경. Ex) ummmmmmm yeah -> umm yeah\n",
    "    \n",
    "    # 불용어 제거 (Text)\n",
    "    if remove_stopwords:\n",
    "        tokens = ' '.join(word for word in sentence.split() if not word in stopwords.words('english') if len(word) > 1)\n",
    "    # 불용어 미제거 (Summary)\n",
    "    else:\n",
    "        tokens = ' '.join(word for word in sentence.split() if len(word) > 1)\n",
    "    return tokens"
   ]
  },
  {
   "cell_type": "markdown",
   "id": "50722cf2",
   "metadata": {},
   "source": [
    "전체 text 데이터에 대한 전처리"
   ]
  },
  {
   "cell_type": "code",
   "execution_count": 11,
   "id": "31d4f7cf",
   "metadata": {},
   "outputs": [
    {
     "name": "stdout",
     "output_type": "stream",
     "text": [
      "Text 전처리 후 결과:  ['saurav kant alumnus upgrad iiit pg program machine learning artificial intelligence sr systems engineer infosys almost years work experience program upgrad degree career support helped transition data scientist tech mahindra salary hike upgrad online power learning powered lakh careers', 'kunal shah credit card bill payment platform cred gave users chance win free food swiggy one year pranav kaushik delhi techie bagged reward spending cred coins users get one cred coin per rupee bill paid used avail rewards brands like ixigo bookmyshow ubereats cult fit', 'new zealand defeated india wickets fourth odi hamilton thursday win first match five match odi series india lost international match rohit sharma captaincy consecutive victories dating back march match witnessed india getting seventh lowest total odi cricket history', 'aegon life iterm insurance plan customers enjoy tax benefits premiums paid save taxes plan provides life cover age years also customers options insure critical illnesses disability accidental death benefit rider life cover age years', 'speaking sexual harassment allegations rajkumar hirani sonam kapoor said known hirani many years true metoo movement get derailed metoo movement always believe woman case need reserve judgment added hirani accused assistant worked sanju']\n"
     ]
    }
   ],
   "source": [
    "clean_text = []\n",
    "for s in data['text']:\n",
    "    clean_text.append(preprocess_sentence(s))\n",
    "\n",
    "print(\"Text 전처리 후 결과: \", clean_text[:5])"
   ]
  },
  {
   "cell_type": "markdown",
   "id": "02ba3c70",
   "metadata": {},
   "source": [
    "전체 headlines 데이터에 대한 전처리: headlines의 길이가 짧아보이지 않아서, 불용어처리 True"
   ]
  },
  {
   "cell_type": "code",
   "execution_count": 12,
   "id": "86431305",
   "metadata": {},
   "outputs": [
    {
     "name": "stdout",
     "output_type": "stream",
     "text": [
      "headlines 전처리 후 결과:  ['upgrad learner switches career ml al salary hike', 'delhi techie wins free food swiggy one year cred', 'new zealand end rohit sharma led india match winning streak', 'aegon life iterm insurance plan helps customers save tax', 'known hirani yrs metoo claims true sonam']\n"
     ]
    }
   ],
   "source": [
    "clean_headlines = []\n",
    "for s in data['headlines']:\n",
    "    clean_headlines.append(preprocess_sentence(s, True))\n",
    "\n",
    "print(\"headlines 전처리 후 결과: \", clean_headlines[:5])"
   ]
  },
  {
   "cell_type": "code",
   "execution_count": 13,
   "id": "6851d6f7",
   "metadata": {},
   "outputs": [],
   "source": [
    "data['text'] = clean_text\n",
    "data['headlines'] = clean_headlines \n",
    "\n",
    "# 빈 값을 Null 값으로 변환\n",
    "data.replace('', np.nan, inplace=True)\n"
   ]
  },
  {
   "cell_type": "code",
   "execution_count": 14,
   "id": "275a5c57",
   "metadata": {},
   "outputs": [
    {
     "data": {
      "text/plain": [
       "headlines    0\n",
       "text         0\n",
       "dtype: int64"
      ]
     },
     "execution_count": 14,
     "metadata": {},
     "output_type": "execute_result"
    }
   ],
   "source": [
    "data.isnull().sum()"
   ]
  },
  {
   "cell_type": "code",
   "execution_count": 15,
   "id": "e3123184",
   "metadata": {},
   "outputs": [
    {
     "name": "stdout",
     "output_type": "stream",
     "text": [
      "전체 샘플수 : 98360\n"
     ]
    }
   ],
   "source": [
    "data.dropna(axis=0, inplace=True)\n",
    "print('전체 샘플수 :', (len(data)))"
   ]
  },
  {
   "cell_type": "markdown",
   "id": "9da7e43b",
   "metadata": {},
   "source": [
    "샘플의 최대 길이 정하기"
   ]
  },
  {
   "cell_type": "code",
   "execution_count": 16,
   "id": "c360225b",
   "metadata": {},
   "outputs": [
    {
     "name": "stdout",
     "output_type": "stream",
     "text": [
      "텍스트의 최소 길이 : 1\n",
      "텍스트의 최대 길이 : 60\n",
      "텍스트의 평균 길이 : 35.09968483123221\n",
      "요약의 최소 길이 : 1\n",
      "요약의 최대 길이 : 13\n",
      "요약의 평균 길이 : 7.136183407889386\n"
     ]
    },
    {
     "data": {
      "image/png": "[encoded data removed]",
      "text/plain": [
       "<Figure size 432x288 with 2 Axes>"
      ]
     },
     "metadata": {
      "needs_background": "light"
     },
     "output_type": "display_data"
    },
    {
     "data": {
      "image/png": "[encoded data removed]",
      "text/plain": [
       "<Figure size 432x288 with 1 Axes>"
      ]
     },
     "metadata": {
      "needs_background": "light"
     },
     "output_type": "display_data"
    },
    {
     "data": {
      "image/png": "[encoded data removed]",
      "text/plain": [
       "<Figure size 432x288 with 1 Axes>"
      ]
     },
     "metadata": {
      "needs_background": "light"
     },
     "output_type": "display_data"
    }
   ],
   "source": [
    "# 길이 분포 출력\n",
    "import matplotlib.pyplot as plt\n",
    "\n",
    "text_len = [len(s.split()) for s in data['text']]\n",
    "headlines_len = [len(s.split()) for s in data['headlines']]\n",
    "\n",
    "print('텍스트의 최소 길이 : {}'.format(np.min(text_len)))\n",
    "print('텍스트의 최대 길이 : {}'.format(np.max(text_len)))\n",
    "print('텍스트의 평균 길이 : {}'.format(np.mean(text_len)))\n",
    "print('요약의 최소 길이 : {}'.format(np.min(headlines_len)))\n",
    "print('요약의 최대 길이 : {}'.format(np.max(headlines_len)))\n",
    "print('요약의 평균 길이 : {}'.format(np.mean(headlines_len)))\n",
    "\n",
    "plt.subplot(1,2,1)\n",
    "plt.boxplot(text_len)\n",
    "plt.title('Text')\n",
    "plt.subplot(1,2,2)\n",
    "plt.boxplot(headlines_len)\n",
    "plt.title('headlines')\n",
    "plt.tight_layout()\n",
    "plt.show()\n",
    "\n",
    "plt.title('text')\n",
    "plt.hist(text_len, bins = 40)\n",
    "plt.xlabel('length of samples')\n",
    "plt.ylabel('number of samples')\n",
    "plt.show()\n",
    "\n",
    "plt.title('headlines')\n",
    "plt.hist(headlines_len, bins = 40)\n",
    "plt.xlabel('length of samples')\n",
    "plt.ylabel('number of samples')\n",
    "plt.show()"
   ]
  },
  {
   "cell_type": "code",
   "execution_count": 17,
   "id": "13b5a157",
   "metadata": {},
   "outputs": [],
   "source": [
    "text_max_len = 40\n",
    "headlines_max_len = 8\n"
   ]
  },
  {
   "cell_type": "code",
   "execution_count": 18,
   "id": "b6b1981e",
   "metadata": {},
   "outputs": [],
   "source": [
    "def below_threshold_len(max_len, nested_list):\n",
    "  cnt = 0\n",
    "  for s in nested_list:\n",
    "    if(len(s.split()) <= max_len):\n",
    "        cnt = cnt + 1\n",
    "  print('전체 샘플 중 길이가 %s 이하인 샘플의 비율: %s'%(max_len, (cnt / len(nested_list))))\n"
   ]
  },
  {
   "cell_type": "code",
   "execution_count": 19,
   "id": "beee244e",
   "metadata": {},
   "outputs": [
    {
     "name": "stdout",
     "output_type": "stream",
     "text": [
      "전체 샘플 중 길이가 40 이하인 샘플의 비율: 0.9238714924766165\n",
      "전체 샘플 중 길이가 8 이하인 샘플의 비율: 0.8925782838552258\n"
     ]
    }
   ],
   "source": [
    "below_threshold_len(text_max_len, data['text'])\n",
    "below_threshold_len(headlines_max_len,  data['headlines'])"
   ]
  },
  {
   "cell_type": "code",
   "execution_count": 20,
   "id": "50d2047e",
   "metadata": {},
   "outputs": [
    {
     "name": "stdout",
     "output_type": "stream",
     "text": [
      "전체 샘플수 : 81914\n"
     ]
    }
   ],
   "source": [
    "data = data[data['text'].apply(lambda x: len(x.split()) <= text_max_len)]\n",
    "data = data[data['headlines'].apply(lambda x: len(x.split()) <= headlines_max_len)]\n",
    "print('전체 샘플수 :', (len(data)))"
   ]
  },
  {
   "cell_type": "markdown",
   "id": "28c3a238",
   "metadata": {},
   "source": [
    "시작 토큰과 종료 토큰 추가하기"
   ]
  },
  {
   "cell_type": "code",
   "execution_count": 21,
   "id": "6c164870",
   "metadata": {},
   "outputs": [
    {
     "data": {
      "text/html": [
       "<div>\n",
       "<style scoped>\n",
       "    .dataframe tbody tr th:only-of-type {\n",
       "        vertical-align: middle;\n",
       "    }\n",
       "\n",
       "    .dataframe tbody tr th {\n",
       "        vertical-align: top;\n",
       "    }\n",
       "\n",
       "    .dataframe thead th {\n",
       "        text-align: right;\n",
       "    }\n",
       "</style>\n",
       "<table border=\"1\" class=\"dataframe\">\n",
       "  <thead>\n",
       "    <tr style=\"text-align: right;\">\n",
       "      <th></th>\n",
       "      <th>headlines</th>\n",
       "      <th>text</th>\n",
       "      <th>decoder_input</th>\n",
       "      <th>decoder_target</th>\n",
       "    </tr>\n",
       "  </thead>\n",
       "  <tbody>\n",
       "    <tr>\n",
       "      <th>0</th>\n",
       "      <td>upgrad learner switches career ml al salary hike</td>\n",
       "      <td>saurav kant alumnus upgrad iiit pg program mac...</td>\n",
       "      <td>sostoken upgrad learner switches career ml al ...</td>\n",
       "      <td>upgrad learner switches career ml al salary hi...</td>\n",
       "    </tr>\n",
       "    <tr>\n",
       "      <th>4</th>\n",
       "      <td>known hirani yrs metoo claims true sonam</td>\n",
       "      <td>speaking sexual harassment allegations rajkuma...</td>\n",
       "      <td>sostoken known hirani yrs metoo claims true sonam</td>\n",
       "      <td>known hirani yrs metoo claims true sonam eostoken</td>\n",
       "    </tr>\n",
       "    <tr>\n",
       "      <th>6</th>\n",
       "      <td>india get lowest odi total new zealand</td>\n",
       "      <td>india recorded lowest odi total new zealand ge...</td>\n",
       "      <td>sostoken india get lowest odi total new zealand</td>\n",
       "      <td>india get lowest odi total new zealand eostoken</td>\n",
       "    </tr>\n",
       "    <tr>\n",
       "      <th>7</th>\n",
       "      <td>govt directs alok verma join work day retirement</td>\n",
       "      <td>weeks ex cbi director alok verma told departme...</td>\n",
       "      <td>sostoken govt directs alok verma join work day...</td>\n",
       "      <td>govt directs alok verma join work day retireme...</td>\n",
       "    </tr>\n",
       "    <tr>\n",
       "      <th>9</th>\n",
       "      <td>cong wins ramgarh bypoll rajasthan takes total...</td>\n",
       "      <td>congress candidate shafia zubair ramgarh assem...</td>\n",
       "      <td>sostoken cong wins ramgarh bypoll rajasthan ta...</td>\n",
       "      <td>cong wins ramgarh bypoll rajasthan takes total...</td>\n",
       "    </tr>\n",
       "  </tbody>\n",
       "</table>\n",
       "</div>"
      ],
      "text/plain": [
       "                                           headlines  \\\n",
       "0   upgrad learner switches career ml al salary hike   \n",
       "4           known hirani yrs metoo claims true sonam   \n",
       "6             india get lowest odi total new zealand   \n",
       "7   govt directs alok verma join work day retirement   \n",
       "9  cong wins ramgarh bypoll rajasthan takes total...   \n",
       "\n",
       "                                                text  \\\n",
       "0  saurav kant alumnus upgrad iiit pg program mac...   \n",
       "4  speaking sexual harassment allegations rajkuma...   \n",
       "6  india recorded lowest odi total new zealand ge...   \n",
       "7  weeks ex cbi director alok verma told departme...   \n",
       "9  congress candidate shafia zubair ramgarh assem...   \n",
       "\n",
       "                                       decoder_input  \\\n",
       "0  sostoken upgrad learner switches career ml al ...   \n",
       "4  sostoken known hirani yrs metoo claims true sonam   \n",
       "6    sostoken india get lowest odi total new zealand   \n",
       "7  sostoken govt directs alok verma join work day...   \n",
       "9  sostoken cong wins ramgarh bypoll rajasthan ta...   \n",
       "\n",
       "                                      decoder_target  \n",
       "0  upgrad learner switches career ml al salary hi...  \n",
       "4  known hirani yrs metoo claims true sonam eostoken  \n",
       "6    india get lowest odi total new zealand eostoken  \n",
       "7  govt directs alok verma join work day retireme...  \n",
       "9  cong wins ramgarh bypoll rajasthan takes total...  "
      ]
     },
     "execution_count": 21,
     "metadata": {},
     "output_type": "execute_result"
    }
   ],
   "source": [
    "# 요약 데이터에는 시작 토큰과 종료 토큰을 추가한다.\n",
    "data['decoder_input'] = data['headlines'].apply(lambda x : 'sostoken '+ x)\n",
    "data['decoder_target'] = data['headlines'].apply(lambda x : x + ' eostoken')\n",
    "data.head()"
   ]
  },
  {
   "cell_type": "code",
   "execution_count": 22,
   "id": "7a0ad077",
   "metadata": {},
   "outputs": [],
   "source": [
    "encoder_input = np.array(data['text']) # 인코더의 입력\n",
    "decoder_input = np.array(data['decoder_input']) # 디코더의 입력\n",
    "decoder_target = np.array(data['decoder_target']) # 디코더의 레이블\n"
   ]
  },
  {
   "cell_type": "markdown",
   "id": "84683812",
   "metadata": {},
   "source": [
    "#### 훈련 데이터와 테스트 데이터를 분리 : 8:2의 비율"
   ]
  },
  {
   "cell_type": "code",
   "execution_count": 23,
   "id": "ddb9bd68",
   "metadata": {},
   "outputs": [
    {
     "name": "stdout",
     "output_type": "stream",
     "text": [
      "[38087 21413 36768 ... 38220 40801 33770]\n"
     ]
    }
   ],
   "source": [
    "indices = np.arange(encoder_input.shape[0])\n",
    "np.random.shuffle(indices)\n",
    "print(indices)"
   ]
  },
  {
   "cell_type": "code",
   "execution_count": 24,
   "id": "1594adee",
   "metadata": {},
   "outputs": [],
   "source": [
    "encoder_input = encoder_input[indices]\n",
    "decoder_input = decoder_input[indices]\n",
    "decoder_target = decoder_target[indices]\n"
   ]
  },
  {
   "cell_type": "code",
   "execution_count": 25,
   "id": "d0446c67",
   "metadata": {},
   "outputs": [
    {
     "name": "stdout",
     "output_type": "stream",
     "text": [
      "테스트 데이터의 수 : 16382\n"
     ]
    }
   ],
   "source": [
    "n_of_val = int(len(encoder_input)*0.2)\n",
    "print('테스트 데이터의 수 :', n_of_val)"
   ]
  },
  {
   "cell_type": "code",
   "execution_count": 26,
   "id": "0e9633ae",
   "metadata": {},
   "outputs": [
    {
     "name": "stdout",
     "output_type": "stream",
     "text": [
      "훈련 데이터의 개수 : 65532\n",
      "훈련 레이블의 개수 : 65532\n",
      "테스트 데이터의 개수 : 16382\n",
      "테스트 레이블의 개수 : 16382\n"
     ]
    }
   ],
   "source": [
    "encoder_input_train = encoder_input[:-n_of_val]\n",
    "decoder_input_train = decoder_input[:-n_of_val]\n",
    "decoder_target_train = decoder_target[:-n_of_val]\n",
    "\n",
    "encoder_input_test = encoder_input[-n_of_val:]\n",
    "decoder_input_test = decoder_input[-n_of_val:]\n",
    "decoder_target_test = decoder_target[-n_of_val:]\n",
    "\n",
    "print('훈련 데이터의 개수 :', len(encoder_input_train))\n",
    "print('훈련 레이블의 개수 :', len(decoder_input_train))\n",
    "print('테스트 데이터의 개수 :', len(encoder_input_test))\n",
    "print('테스트 레이블의 개수 :', len(decoder_input_test))"
   ]
  },
  {
   "cell_type": "markdown",
   "id": "97175a1c",
   "metadata": {},
   "source": [
    "#### encoder_input_train  토큰화"
   ]
  },
  {
   "cell_type": "code",
   "execution_count": 27,
   "id": "9b04795a",
   "metadata": {},
   "outputs": [],
   "source": [
    "src_tokenizer = Tokenizer() # 토크나이저 \n",
    "src_tokenizer.fit_on_texts(encoder_input_train) # 입력된 데이터로부터 단어 집합 생성\n"
   ]
  },
  {
   "cell_type": "markdown",
   "id": "2aaf3202",
   "metadata": {},
   "source": [
    "토큰화시킨 encoder_input_train data의 단어들의 빈도수 파악"
   ]
  },
  {
   "cell_type": "code",
   "execution_count": 28,
   "id": "1bc382d0",
   "metadata": {},
   "outputs": [
    {
     "name": "stdout",
     "output_type": "stream",
     "text": [
      "단어 집합(vocabulary)의 크기 : 63227\n",
      "등장 빈도가 6번 이하인 희귀 단어의 수: 43201\n",
      "단어 집합에서 희귀 단어를 제외시킬 경우의 단어 집합의 크기 20026\n",
      "단어 집합에서 희귀 단어의 비율: 68.32682240182201\n",
      "전체 등장 빈도에서 희귀 단어 등장 빈도 비율: 3.9051952397901983\n"
     ]
    }
   ],
   "source": [
    "threshold = 7\n",
    "total_cnt = len(src_tokenizer.word_index) # 단어의 수\n",
    "rare_cnt = 0 # 등장 빈도수가 threshold보다 작은 단어의 개수를 카운트\n",
    "total_freq = 0 # 훈련 데이터의 전체 단어 빈도수 총 합\n",
    "rare_freq = 0 # 등장 빈도수가 threshold보다 작은 단어의 등장 빈도수의 총 합\n",
    "\n",
    "# 단어와 빈도수의 쌍(pair)을 key와 value로 받는다.\n",
    "for key, value in src_tokenizer.word_counts.items():\n",
    "    total_freq = total_freq + value\n",
    "\n",
    "    # 단어의 등장 빈도수가 threshold보다 작으면\n",
    "    if(value < threshold):\n",
    "        rare_cnt = rare_cnt + 1\n",
    "        rare_freq = rare_freq + value\n",
    "\n",
    "print('단어 집합(vocabulary)의 크기 :', total_cnt)\n",
    "print('등장 빈도가 %s번 이하인 희귀 단어의 수: %s'%(threshold - 1, rare_cnt))\n",
    "print('단어 집합에서 희귀 단어를 제외시킬 경우의 단어 집합의 크기 %s'%(total_cnt - rare_cnt))\n",
    "print(\"단어 집합에서 희귀 단어의 비율:\", (rare_cnt / total_cnt)*100)\n",
    "print(\"전체 등장 빈도에서 희귀 단어 등장 빈도 비율:\", (rare_freq / total_freq)*100)"
   ]
  },
  {
   "cell_type": "markdown",
   "id": "270bfa74",
   "metadata": {},
   "source": [
    "##### Token화시킨 encoder_input_train data 통계특징\n",
    "\n",
    "등장 빈도가 threshold 값인 7회 미만, 즉 6회 이하인 희귀단어들은 단어 집합에서 무려 68.3% 를 차지, \n",
    "\n",
    "실제로 encoder_input_train data에서 빈도로 차지하는 비중은 상대적으로 적은 수치인 3.89 %임,\n",
    "\n",
    "그래서 등장 빈도가 6회 이하인 단어들은 정수 인코딩 과정에서 빼고, 훈련 데이터에서 제거.\n",
    "\n",
    "이를 제외한 단어 집합의 크기를 19000 여개, 작업효율상 좀 더 적은 값으로 어림잡아 단어 집합의 크기를 10000 으로 제한함\n",
    "\n",
    "src_vocab = 10000"
   ]
  },
  {
   "cell_type": "code",
   "execution_count": 29,
   "id": "e82e11c8",
   "metadata": {},
   "outputs": [],
   "source": [
    "# Tokenizer 활용해서, 단어 집합 15000개로 재생성\n",
    "src_vocab =  10000\n",
    "src_tokenizer = Tokenizer(num_words=src_vocab) \n",
    "src_tokenizer.fit_on_texts(encoder_input_train)\n"
   ]
  },
  {
   "cell_type": "markdown",
   "id": "f6123ca3",
   "metadata": {},
   "source": [
    "text 시퀀스를 정수 시퀀스로 변환"
   ]
  },
  {
   "cell_type": "code",
   "execution_count": 30,
   "id": "49a2e7f7",
   "metadata": {},
   "outputs": [
    {
     "name": "stdout",
     "output_type": "stream",
     "text": [
      "[[773, 3201, 1420, 9535, 188, 14, 137, 66, 57, 1927, 520, 8560, 165, 205, 1036, 453, 114, 165, 143, 1218, 2, 65, 155, 276, 5606, 1803, 8561, 1639], [474, 597, 61, 4235, 7635, 76, 171, 472, 3520, 6559, 9309, 342, 6767, 4039, 474, 451, 619, 605, 244, 191, 1548, 417, 4039, 694, 35, 4123, 1, 76, 210, 171, 4123, 474, 171], [599, 2868, 1270, 198, 2625, 1432, 801, 233, 1526, 3521, 1270, 4947, 63, 977, 195, 106, 8, 190, 371, 128, 77, 229, 1270, 1282]]\n"
     ]
    }
   ],
   "source": [
    "# text 시퀀스를 정수 시퀀스로 변환\n",
    "encoder_input_train = src_tokenizer.texts_to_sequences(encoder_input_train) \n",
    "encoder_input_test = src_tokenizer.texts_to_sequences(encoder_input_test)\n",
    "\n",
    "print(encoder_input_train[:3])"
   ]
  },
  {
   "cell_type": "markdown",
   "id": "c652edb5",
   "metadata": {},
   "source": [
    "#### decoder_input_train 토큰화"
   ]
  },
  {
   "cell_type": "code",
   "execution_count": 31,
   "id": "b29d3da5",
   "metadata": {},
   "outputs": [],
   "source": [
    "# headlines 시퀀스를 정수 시퀀스로 변환\n",
    "tar_tokenizer = Tokenizer()\n",
    "tar_tokenizer.fit_on_texts(decoder_input_train)\n"
   ]
  },
  {
   "cell_type": "markdown",
   "id": "96d73c23",
   "metadata": {},
   "source": [
    "토큰화시킨 decoder_input_train data의 단어들의 빈도수 파악"
   ]
  },
  {
   "cell_type": "code",
   "execution_count": 32,
   "id": "5c59a0cb",
   "metadata": {},
   "outputs": [
    {
     "name": "stdout",
     "output_type": "stream",
     "text": [
      "단어 집합(vocabulary)의 크기 : 27521\n",
      "등장 빈도가 5번 이하인 희귀 단어의 수: 18207\n",
      "단어 집합에서 희귀 단어를 제외시킬 경우의 단어 집합의 크기 9314\n",
      "단어 집합에서 희귀 단어의 비율: 66.15675302496275\n",
      "전체 등장 빈도에서 희귀 단어 등장 빈도 비율: 6.758120026229304\n"
     ]
    }
   ],
   "source": [
    "threshold = 6\n",
    "total_cnt = len(tar_tokenizer.word_index) # 단어의 수\n",
    "rare_cnt = 0 # 등장 빈도수가 threshold보다 작은 단어의 개수를 카운트\n",
    "total_freq = 0 # 훈련 데이터의 전체 단어 빈도수 총 합\n",
    "rare_freq = 0 # 등장 빈도수가 threshold보다 작은 단어의 등장 빈도수의 총 합\n",
    "\n",
    "# 단어와 빈도수의 쌍(pair)을 key와 value로 받는다.\n",
    "for key, value in tar_tokenizer.word_counts.items():\n",
    "    total_freq = total_freq + value\n",
    "\n",
    "    # 단어의 등장 빈도수가 threshold보다 작으면\n",
    "    if(value < threshold):\n",
    "        rare_cnt = rare_cnt + 1\n",
    "        rare_freq = rare_freq + value\n",
    "\n",
    "print('단어 집합(vocabulary)의 크기 :', total_cnt)\n",
    "print('등장 빈도가 %s번 이하인 희귀 단어의 수: %s'%(threshold - 1, rare_cnt))\n",
    "print('단어 집합에서 희귀 단어를 제외시킬 경우의 단어 집합의 크기 %s'%(total_cnt - rare_cnt))\n",
    "print(\"단어 집합에서 희귀 단어의 비율:\", (rare_cnt / total_cnt)*100)\n",
    "print(\"전체 등장 빈도에서 희귀 단어 등장 빈도 비율:\", (rare_freq / total_freq)*100)"
   ]
  },
  {
   "cell_type": "markdown",
   "id": "17f4783c",
   "metadata": {},
   "source": [
    "##### Token화시킨 decoder_input_train data 통계특징\n",
    "\n",
    "등장 빈도가 5회 이하인 희귀단어들은 단어 집합에서 약 66%를 차지,\n",
    "\n",
    "실제로 decoder_input_train data에서 등장 빈도로 차지하는 비중은 상대적으로 매우 적은 6.76%\n",
    "\n",
    "희귀단어 모두 제거시 단어집합수 9000여개인데, 작업효율상 2,500을 단어 집합의 크기로 제한\n",
    "\n",
    "tar_vocab = 2500"
   ]
  },
  {
   "cell_type": "code",
   "execution_count": 33,
   "id": "94f747b4",
   "metadata": {},
   "outputs": [
    {
     "name": "stdout",
     "output_type": "stream",
     "text": [
      "input\n",
      "input  [[1, 145, 934, 7, 526], [1, 186, 816, 1341], [1, 355, 2169, 2264, 1035, 356, 1073], [1, 708, 1182, 176, 373, 1912, 57], [1, 27, 158, 1183, 2428]]\n",
      "target\n",
      "decoder  [[145, 934, 7, 526, 2], [186, 816, 1341, 2], [355, 2169, 2264, 1035, 356, 1073, 2], [708, 1182, 176, 373, 1912, 57, 2], [27, 158, 1183, 2428, 2]]\n"
     ]
    }
   ],
   "source": [
    "tar_vocab = 2500\n",
    "tar_tokenizer = Tokenizer(num_words=tar_vocab) \n",
    "tar_tokenizer.fit_on_texts(decoder_input_train)  # decoder_input_train 토큰화\n",
    "tar_tokenizer.fit_on_texts(decoder_target_train) # decoder_target_train 토큰화\n",
    "\n",
    "# 텍스트 시퀀스를 정수 시퀀스로 변환: \n",
    "decoder_input_train = tar_tokenizer.texts_to_sequences(decoder_input_train) \n",
    "decoder_target_train = tar_tokenizer.texts_to_sequences(decoder_target_train)\n",
    "decoder_input_test = tar_tokenizer.texts_to_sequences(decoder_input_test)\n",
    "decoder_target_test = tar_tokenizer.texts_to_sequences(decoder_target_test)\n",
    "\n",
    "# 확인\n",
    "print('input')\n",
    "print('input ',decoder_input_train[:5])\n",
    "print('target')\n",
    "print('decoder ',decoder_target_train[:5])"
   ]
  },
  {
   "cell_type": "markdown",
   "id": "04eb3c4d",
   "metadata": {},
   "source": [
    "전체 데이터에서 빈도수가 낮은 단어가 삭제되면서, 발생될수 있는 empty 샘플 제거"
   ]
  },
  {
   "cell_type": "code",
   "execution_count": 34,
   "id": "58f1a6a6",
   "metadata": {},
   "outputs": [
    {
     "name": "stdout",
     "output_type": "stream",
     "text": [
      "삭제할 훈련 데이터의 개수 : 95\n",
      "삭제할 테스트 데이터의 개수 : 39\n",
      "훈련 데이터의 개수 : 65437\n",
      "훈련 레이블의 개수 : 65437\n",
      "테스트 데이터의 개수 : 16343\n",
      "테스트 레이블의 개수 : 16343\n"
     ]
    }
   ],
   "source": [
    "drop_train = [index for index, sentence in enumerate(decoder_input_train) if len(sentence) == 1]\n",
    "drop_test = [index for index, sentence in enumerate(decoder_input_test) if len(sentence) == 1]\n",
    "\n",
    "print('삭제할 훈련 데이터의 개수 :', len(drop_train))\n",
    "print('삭제할 테스트 데이터의 개수 :', len(drop_test))\n",
    "\n",
    "encoder_input_train = [sentence for index, sentence in enumerate(encoder_input_train) if index not in drop_train]\n",
    "decoder_input_train = [sentence for index, sentence in enumerate(decoder_input_train) if index not in drop_train]\n",
    "decoder_target_train = [sentence for index, sentence in enumerate(decoder_target_train) if index not in drop_train]\n",
    "\n",
    "encoder_input_test = [sentence for index, sentence in enumerate(encoder_input_test) if index not in drop_test]\n",
    "decoder_input_test = [sentence for index, sentence in enumerate(decoder_input_test) if index not in drop_test]\n",
    "decoder_target_test = [sentence for index, sentence in enumerate(decoder_target_test) if index not in drop_test]\n",
    "\n",
    "print('훈련 데이터의 개수 :', len(encoder_input_train))\n",
    "print('훈련 레이블의 개수 :', len(decoder_input_train))\n",
    "print('테스트 데이터의 개수 :', len(encoder_input_test))\n",
    "print('테스트 레이블의 개수 :', len(decoder_input_test))"
   ]
  },
  {
   "cell_type": "markdown",
   "id": "a06386f7",
   "metadata": {},
   "source": [
    "#### 패딩하기\n",
    "같은 길이로 맞춰주는 패딩 작업"
   ]
  },
  {
   "cell_type": "code",
   "execution_count": 35,
   "id": "cf721d7c",
   "metadata": {},
   "outputs": [],
   "source": [
    "encoder_input_train = pad_sequences(encoder_input_train, maxlen=text_max_len, padding='post')\n",
    "encoder_input_test = pad_sequences(encoder_input_test, maxlen=text_max_len, padding='post')\n",
    "decoder_input_train = pad_sequences(decoder_input_train, maxlen=headlines_max_len, padding='post')\n",
    "decoder_target_train = pad_sequences(decoder_target_train, maxlen=headlines_max_len, padding='post')\n",
    "decoder_input_test = pad_sequences(decoder_input_test, maxlen=headlines_max_len, padding='post')\n",
    "decoder_target_test = pad_sequences(decoder_target_test, maxlen=headlines_max_len, padding='post')\n"
   ]
  },
  {
   "cell_type": "markdown",
   "id": "2c3143a1",
   "metadata": {},
   "source": [
    "데이터 전처리 완료"
   ]
  },
  {
   "cell_type": "markdown",
   "id": "f1a8e0b5",
   "metadata": {},
   "source": [
    "### Step 3. 어텐션 메커니즘 사용하기 (추상적 요약)\n",
    "일반적인 seq2seq보다는 어텐션 메커니즘을 사용한 seq2seq를 사용하는 것이 더 나은 성능을 얻을 수 있어요. 실습 내용을 참고하여 어텐션 메커니즘을 사용한 seq2seq를 설계해 보세요."
   ]
  },
  {
   "cell_type": "markdown",
   "id": "d6ce0206",
   "metadata": {},
   "source": [
    "#### 인코더 설계\n",
    "Attention이있는 인코더는 일반 seq2seq와는 다르게, 인코더 LSTM layer의 인자에 return_sequence=True 설정해야함(timestep별 state가 모두 필요하므로) "
   ]
  },
  {
   "cell_type": "code",
   "execution_count": 36,
   "id": "7be82b3f",
   "metadata": {},
   "outputs": [],
   "source": [
    "from tensorflow.keras.layers import Input, LSTM, Embedding, Dense, Concatenate, TimeDistributed, BatchNormalization\n",
    "from tensorflow.keras.models import Model\n",
    "from tensorflow.keras.callbacks import EarlyStopping, ModelCheckpoint\n",
    "\n",
    "\n",
    "# 인코더 설계 시작\n",
    "embedding_dim = 256#128  # 256  #128\n",
    "hidden_size = 256\n",
    "\n",
    "# 인코더\n",
    "encoder_inputs = Input(shape=(text_max_len,))\n",
    "\n",
    "# 인코더의 임베딩 층\n",
    "enc_emb = Embedding(src_vocab, embedding_dim)(encoder_inputs)\n",
    "enc_emb = BatchNormalization()(enc_emb) #my\n",
    "\n",
    "\n",
    "# 인코더의 LSTM 1\n",
    "# encoder_lstm1 = LSTM(hidden_size, return_sequences=True, return_state=True ,dropout = 0.4, recurrent_dropout = 0.4)\n",
    "encoder_lstm1 = LSTM(hidden_size, return_sequences=True, return_state=True ,dropout = 0.4)\n",
    "encoder_output1, state_h1, state_c1 = encoder_lstm1(enc_emb)\n",
    "encoder_output1 = BatchNormalization()(encoder_output1) #my\n",
    "\n",
    "# 인코더의 LSTM 2\n",
    "# encoder_lstm2 = LSTM(hidden_size, return_sequences=True, return_state=True, dropout=0.4, recurrent_dropout=0.4)\n",
    "encoder_lstm2 = LSTM(hidden_size, return_sequences=True, return_state=True, dropout=0.4)\n",
    "encoder_output2, state_h2, state_c2 = encoder_lstm2(encoder_output1)\n",
    "encoder_output2 = BatchNormalization()(encoder_output2) #my\n",
    "\n",
    "# 인코더의 LSTM 3\n",
    "# encoder_lstm3 = LSTM(hidden_size, return_state=True, return_sequences=True, dropout=0.4, recurrent_dropout=0.4)\n",
    "encoder_lstm3 = LSTM(hidden_size, return_state=True, return_sequences=True, dropout=0.4)\n",
    "encoder_outputs, state_h, state_c= encoder_lstm3(encoder_output2)\n",
    "encoder_outputs = BatchNormalization()(encoder_output2) #my"
   ]
  },
  {
   "cell_type": "markdown",
   "id": "ed76cb4c",
   "metadata": {},
   "source": [
    "#### 디코더 설계\n",
    "디코더는 당연히 일반seq2seq와 동일하게 return_sequences= True 설정(이전 timestep output이 다음 timestep의 input이 되므로)"
   ]
  },
  {
   "cell_type": "code",
   "execution_count": 37,
   "id": "fc18a363",
   "metadata": {},
   "outputs": [],
   "source": [
    "# 디코더 설계\n",
    "decoder_inputs = Input(shape=(None,))\n",
    "\n",
    "# 디코더의 임베딩 층\n",
    "dec_emb_layer = Embedding(tar_vocab, embedding_dim)\n",
    "dec_emb = dec_emb_layer(decoder_inputs)\n",
    "dec_emb = BatchNormalization()(dec_emb) #my\n",
    "\n",
    "# 디코더의 LSTM\n",
    "# decoder_lstm = LSTM(hidden_size, return_sequences=True, return_state=True, dropout=0.4, recurrent_dropout=0.2)\n",
    "decoder_lstm = LSTM(hidden_size, return_sequences=True, return_state=True, dropout=0.4)\n",
    "decoder_outputs, _, _ = decoder_lstm(dec_emb, initial_state=[state_h, state_c])\n",
    "decoder_outputs = BatchNormalization()(decoder_outputs) #my\n",
    "\n",
    "# 디코더의 출력층\n",
    "decoder_softmax_layer = Dense(tar_vocab, activation='softmax')\n",
    "decoder_softmax_outputs = decoder_softmax_layer(decoder_outputs) "
   ]
  },
  {
   "cell_type": "markdown",
   "id": "d38d00b1",
   "metadata": {},
   "source": [
    "#### seq2seq 기초 모델 생성"
   ]
  },
  {
   "cell_type": "code",
   "execution_count": 38,
   "id": "9c04b68c",
   "metadata": {},
   "outputs": [
    {
     "ename": "NameError",
     "evalue": "name 'model' is not defined",
     "output_type": "error",
     "traceback": [
      "\u001b[0;31m---------------------------------------------------------------------------\u001b[0m",
      "\u001b[0;31mNameError\u001b[0m                                 Traceback (most recent call last)",
      "\u001b[0;32m/tmp/ipykernel_10075/3682394117.py\u001b[0m in \u001b[0;36m<module>\u001b[0;34m\u001b[0m\n\u001b[0;32m----> 1\u001b[0;31m \u001b[0;32mdel\u001b[0m \u001b[0mmodel\u001b[0m\u001b[0;34m\u001b[0m\u001b[0;34m\u001b[0m\u001b[0m\n\u001b[0m",
      "\u001b[0;31mNameError\u001b[0m: name 'model' is not defined"
     ]
    }
   ],
   "source": [
    "#del model"
   ]
  },
  {
   "cell_type": "code",
   "execution_count": 39,
   "id": "b577be14",
   "metadata": {},
   "outputs": [
    {
     "name": "stdout",
     "output_type": "stream",
     "text": [
      "Model: \"model\"\n",
      "__________________________________________________________________________________________________\n",
      "Layer (type)                    Output Shape         Param #     Connected to                     \n",
      "==================================================================================================\n",
      "input_1 (InputLayer)            [(None, 40)]         0                                            \n",
      "__________________________________________________________________________________________________\n",
      "embedding (Embedding)           (None, 40, 256)      2560000     input_1[0][0]                    \n",
      "__________________________________________________________________________________________________\n",
      "batch_normalization (BatchNorma (None, 40, 256)      1024        embedding[0][0]                  \n",
      "__________________________________________________________________________________________________\n",
      "lstm (LSTM)                     [(None, 40, 256), (N 525312      batch_normalization[0][0]        \n",
      "__________________________________________________________________________________________________\n",
      "batch_normalization_1 (BatchNor (None, 40, 256)      1024        lstm[0][0]                       \n",
      "__________________________________________________________________________________________________\n",
      "input_2 (InputLayer)            [(None, None)]       0                                            \n",
      "__________________________________________________________________________________________________\n",
      "lstm_1 (LSTM)                   [(None, 40, 256), (N 525312      batch_normalization_1[0][0]      \n",
      "__________________________________________________________________________________________________\n",
      "embedding_1 (Embedding)         (None, None, 256)    640000      input_2[0][0]                    \n",
      "__________________________________________________________________________________________________\n",
      "batch_normalization_2 (BatchNor (None, 40, 256)      1024        lstm_1[0][0]                     \n",
      "__________________________________________________________________________________________________\n",
      "batch_normalization_4 (BatchNor (None, None, 256)    1024        embedding_1[0][0]                \n",
      "__________________________________________________________________________________________________\n",
      "lstm_2 (LSTM)                   [(None, 40, 256), (N 525312      batch_normalization_2[0][0]      \n",
      "__________________________________________________________________________________________________\n",
      "lstm_3 (LSTM)                   [(None, None, 256),  525312      batch_normalization_4[0][0]      \n",
      "                                                                 lstm_2[0][1]                     \n",
      "                                                                 lstm_2[0][2]                     \n",
      "__________________________________________________________________________________________________\n",
      "batch_normalization_5 (BatchNor (None, None, 256)    1024        lstm_3[0][0]                     \n",
      "__________________________________________________________________________________________________\n",
      "dense (Dense)                   (None, None, 2500)   642500      batch_normalization_5[0][0]      \n",
      "==================================================================================================\n",
      "Total params: 5,948,868\n",
      "Trainable params: 5,946,308\n",
      "Non-trainable params: 2,560\n",
      "__________________________________________________________________________________________________\n"
     ]
    }
   ],
   "source": [
    "# 모델 생성\n",
    "model = Model([encoder_inputs, decoder_inputs], decoder_softmax_outputs)\n",
    "model.summary()"
   ]
  },
  {
   "cell_type": "markdown",
   "id": "504ef0a8",
   "metadata": {},
   "source": [
    "#### 어텐션 메커니즘\n",
    "\n",
    "TensorFlow에 이미 구현된 어텐션 함수를 가져와서 디코더의 출력층에 결합해서 사용.\n",
    "(Bahdanau 스타일)"
   ]
  },
  {
   "cell_type": "code",
   "execution_count": 40,
   "id": "2a6ff6fc",
   "metadata": {},
   "outputs": [
    {
     "name": "stdout",
     "output_type": "stream",
     "text": [
      "Model: \"model_1\"\n",
      "__________________________________________________________________________________________________\n",
      "Layer (type)                    Output Shape         Param #     Connected to                     \n",
      "==================================================================================================\n",
      "input_1 (InputLayer)            [(None, 40)]         0                                            \n",
      "__________________________________________________________________________________________________\n",
      "embedding (Embedding)           (None, 40, 256)      2560000     input_1[0][0]                    \n",
      "__________________________________________________________________________________________________\n",
      "batch_normalization (BatchNorma (None, 40, 256)      1024        embedding[0][0]                  \n",
      "__________________________________________________________________________________________________\n",
      "lstm (LSTM)                     [(None, 40, 256), (N 525312      batch_normalization[0][0]        \n",
      "__________________________________________________________________________________________________\n",
      "batch_normalization_1 (BatchNor (None, 40, 256)      1024        lstm[0][0]                       \n",
      "__________________________________________________________________________________________________\n",
      "input_2 (InputLayer)            [(None, None)]       0                                            \n",
      "__________________________________________________________________________________________________\n",
      "lstm_1 (LSTM)                   [(None, 40, 256), (N 525312      batch_normalization_1[0][0]      \n",
      "__________________________________________________________________________________________________\n",
      "embedding_1 (Embedding)         (None, None, 256)    640000      input_2[0][0]                    \n",
      "__________________________________________________________________________________________________\n",
      "batch_normalization_2 (BatchNor (None, 40, 256)      1024        lstm_1[0][0]                     \n",
      "__________________________________________________________________________________________________\n",
      "batch_normalization_4 (BatchNor (None, None, 256)    1024        embedding_1[0][0]                \n",
      "__________________________________________________________________________________________________\n",
      "lstm_2 (LSTM)                   [(None, 40, 256), (N 525312      batch_normalization_2[0][0]      \n",
      "__________________________________________________________________________________________________\n",
      "lstm_3 (LSTM)                   [(None, None, 256),  525312      batch_normalization_4[0][0]      \n",
      "                                                                 lstm_2[0][1]                     \n",
      "                                                                 lstm_2[0][2]                     \n",
      "__________________________________________________________________________________________________\n",
      "batch_normalization_5 (BatchNor (None, None, 256)    1024        lstm_3[0][0]                     \n",
      "__________________________________________________________________________________________________\n",
      "batch_normalization_3 (BatchNor (None, 40, 256)      1024        batch_normalization_2[0][0]      \n",
      "__________________________________________________________________________________________________\n",
      "attention_layer (AdditiveAttent (None, None, 256)    256         batch_normalization_5[0][0]      \n",
      "                                                                 batch_normalization_3[0][0]      \n",
      "__________________________________________________________________________________________________\n",
      "concat_layer (Concatenate)      (None, None, 512)    0           batch_normalization_5[0][0]      \n",
      "                                                                 attention_layer[0][0]            \n",
      "__________________________________________________________________________________________________\n",
      "dense_1 (Dense)                 (None, None, 2500)   1282500     concat_layer[0][0]               \n",
      "==================================================================================================\n",
      "Total params: 6,590,148\n",
      "Trainable params: 6,587,076\n",
      "Non-trainable params: 3,072\n",
      "__________________________________________________________________________________________________\n"
     ]
    }
   ],
   "source": [
    "from tensorflow.keras.layers import AdditiveAttention\n",
    "\n",
    "# 어텐션 층(어텐션 함수)\n",
    "attn_layer = AdditiveAttention(name='attention_layer')\n",
    "\n",
    "# 인코더와 디코더의 모든time step의 hidden state를어텐션층에전달하고 결과를리턴\n",
    "attn_out = attn_layer([decoder_outputs, encoder_outputs])\n",
    "\n",
    "# 어텐션의 결과와 디코더의 hidden state들을 연결\n",
    "decoder_concat_input = Concatenate(axis=-1, name='concat_layer')([decoder_outputs, attn_out])\n",
    "\n",
    "# 디코더의 출력층\n",
    "decoder_softmax_layer = Dense(tar_vocab, activation='softmax')\n",
    "decoder_softmax_outputs = decoder_softmax_layer(decoder_concat_input)\n",
    "\n",
    "# 모델 정의\n",
    "model = Model([encoder_inputs, decoder_inputs], decoder_softmax_outputs)\n",
    "model.summary()"
   ]
  },
  {
   "cell_type": "markdown",
   "id": "a584644f",
   "metadata": {},
   "source": [
    "#### Attention 모델 학습"
   ]
  },
  {
   "cell_type": "code",
   "execution_count": 41,
   "id": "f507fd69",
   "metadata": {},
   "outputs": [
    {
     "name": "stdout",
     "output_type": "stream",
     "text": [
      "Epoch 1/50\n",
      "256/256 [==============================] - 28s 76ms/step - loss: 3.7430 - val_loss: 6.9720\n",
      "Epoch 2/50\n",
      "256/256 [==============================] - 18s 71ms/step - loss: 2.7675 - val_loss: 3.0886\n",
      "Epoch 3/50\n",
      "256/256 [==============================] - 18s 70ms/step - loss: 2.3704 - val_loss: 2.6430\n",
      "Epoch 4/50\n",
      "256/256 [==============================] - 18s 70ms/step - loss: 2.1142 - val_loss: 2.5951\n",
      "Epoch 5/50\n",
      "256/256 [==============================] - 18s 70ms/step - loss: 1.9247 - val_loss: 2.5734\n",
      "Epoch 6/50\n",
      "256/256 [==============================] - 18s 70ms/step - loss: 1.7768 - val_loss: 2.6130\n",
      "Epoch 7/50\n",
      "256/256 [==============================] - 18s 70ms/step - loss: 1.6552 - val_loss: 2.6745\n",
      "Epoch 00007: early stopping\n"
     ]
    }
   ],
   "source": [
    "model.compile(optimizer='rmsprop', loss='sparse_categorical_crossentropy')\n",
    "es = EarlyStopping(monitor='val_loss', patience=2, verbose=1)\n",
    "history = model.fit(x=[encoder_input_train, decoder_input_train], y=decoder_target_train, \\\n",
    "          validation_data=([encoder_input_test, decoder_input_test], decoder_target_test), \\\n",
    "          batch_size=256, callbacks=[es], epochs=50)"
   ]
  },
  {
   "cell_type": "markdown",
   "id": "04c2ea65",
   "metadata": {},
   "source": [
    "plotting"
   ]
  },
  {
   "cell_type": "code",
   "execution_count": 42,
   "id": "e4e4df8e",
   "metadata": {},
   "outputs": [
    {
     "data": {
      "image/png": "[encoded data removed]",
      "text/plain": [
       "<Figure size 432x288 with 1 Axes>"
      ]
     },
     "metadata": {
      "needs_background": "light"
     },
     "output_type": "display_data"
    }
   ],
   "source": [
    "plt.plot(history.history['loss'], label='train')\n",
    "plt.plot(history.history['val_loss'], label='test')\n",
    "plt.legend()\n",
    "plt.show()"
   ]
  },
  {
   "cell_type": "markdown",
   "id": "a7cbb84d",
   "metadata": {},
   "source": [
    "### 인퍼런스 모델:  모델 성능 테스트\n",
    "테스트 단계에서는 정수 인덱스 행렬로 존재하던 텍스트 데이터를 실제 데이터로 복원해야 하므로, 필요한 3개의 사전 미리 준비."
   ]
  },
  {
   "cell_type": "code",
   "execution_count": 43,
   "id": "99e176d4",
   "metadata": {},
   "outputs": [],
   "source": [
    "src_index_to_word = src_tokenizer.index_word # 원문 단어 집합에서 정수 -> 단어를 얻음\n",
    "tar_word_to_index = tar_tokenizer.word_index # 요약 단어 집합에서 단어 -> 정수를 얻음\n",
    "tar_index_to_word = tar_tokenizer.index_word # 요약 단어 집합에서 정수 -> 단어를 얻음\n"
   ]
  },
  {
   "cell_type": "markdown",
   "id": "6f2d7884",
   "metadata": {},
   "source": [
    "테스트용 인코더 설계"
   ]
  },
  {
   "cell_type": "code",
   "execution_count": 44,
   "id": "1dbee693",
   "metadata": {},
   "outputs": [],
   "source": [
    "# 인코더 설계\n",
    "encoder_model = Model(inputs=encoder_inputs, outputs=[encoder_outputs, state_h, state_c])\n",
    "\n",
    "# 이전 시점의 상태들을 저장하는 텐서\n",
    "decoder_state_input_h = Input(shape=(hidden_size,))\n",
    "decoder_state_input_c = Input(shape=(hidden_size,))\n",
    "\n",
    "dec_emb2 = dec_emb_layer(decoder_inputs)\n",
    "\n",
    "# 문장의 다음 단어를 예측하기 위해서 초기 상태(initial_state)를 이전 시점의 상태로 사용. 이는 뒤의 함수 decode_sequence()에 구현\n",
    "# 훈련 과정에서와 달리 LSTM의 리턴하는 은닉 상태와 셀 상태인 state_h와 state_c를 버리지 않음.\n",
    "decoder_outputs2, state_h2, state_c2 = decoder_lstm(dec_emb2, initial_state=[decoder_state_input_h, decoder_state_input_c])\n"
   ]
  },
  {
   "cell_type": "markdown",
   "id": "59e2dad0",
   "metadata": {},
   "source": [
    "Attention 레이어 생성,테스트용 디코더 설계 및 최종 모델 생성"
   ]
  },
  {
   "cell_type": "code",
   "execution_count": 45,
   "id": "3263e73b",
   "metadata": {},
   "outputs": [],
   "source": [
    "# 어텐션 함수\n",
    "decoder_hidden_state_input = Input(shape=(text_max_len, hidden_size))\n",
    "attn_out_inf = attn_layer([decoder_outputs2, decoder_hidden_state_input])\n",
    "decoder_inf_concat = Concatenate(axis=-1, name='concat')([decoder_outputs2, attn_out_inf])\n",
    "\n",
    "# 디코더의 softmax 출력층\n",
    "decoder_outputs2 = decoder_softmax_layer(decoder_inf_concat) \n",
    "\n",
    "# 최종 디코더 모델\n",
    "decoder_model = Model(\n",
    "    [decoder_inputs] + [decoder_hidden_state_input,decoder_state_input_h, decoder_state_input_c],\n",
    "    [decoder_outputs2] + [state_h2, state_c2])\n"
   ]
  },
  {
   "cell_type": "markdown",
   "id": "4104d606",
   "metadata": {},
   "source": [
    "#### 인퍼런스 단계에서 단어 시퀀스를 완성하는 decode_sequence 함수정의"
   ]
  },
  {
   "cell_type": "code",
   "execution_count": 46,
   "id": "a8fab225",
   "metadata": {},
   "outputs": [],
   "source": [
    "def decode_sequence(input_seq):\n",
    "    # 입력으로부터 인코더의 상태를 얻음\n",
    "    e_out, e_h, e_c = encoder_model.predict(input_seq)\n",
    "\n",
    "     # <SOS>에 해당하는 토큰 생성\n",
    "    target_seq = np.zeros((1,1))\n",
    "    target_seq[0, 0] = tar_word_to_index['sostoken']\n",
    "\n",
    "    stop_condition = False\n",
    "    decoded_sentence = ''\n",
    "    while not stop_condition: # stop_condition이 True가 될 때까지 루프 반복\n",
    "\n",
    "        output_tokens, h, c = decoder_model.predict([target_seq] + [e_out, e_h, e_c])\n",
    "        sampled_token_index = np.argmax(output_tokens[0, -1, :])\n",
    "        sampled_token = tar_index_to_word[sampled_token_index]\n",
    "\n",
    "        if (sampled_token!='eostoken'):\n",
    "            decoded_sentence += ' '+sampled_token\n",
    "\n",
    "        #  <eos>에 도달하거나 최대 길이를 넘으면 중단.\n",
    "        if (sampled_token == 'eostoken'  or len(decoded_sentence.split()) >= (headlines_max_len-1)):\n",
    "            stop_condition = True\n",
    "\n",
    "        # 길이가 1인 타겟 시퀀스를 업데이트\n",
    "        target_seq = np.zeros((1,1))\n",
    "        target_seq[0, 0] = sampled_token_index\n",
    "\n",
    "        # 상태를 업데이트 합니다.\n",
    "        e_h, e_c = h, c\n",
    "\n",
    "    return decoded_sentence\n"
   ]
  },
  {
   "cell_type": "markdown",
   "id": "1f2cc5fa",
   "metadata": {},
   "source": [
    "### Step 4. 실제 결과와 요약문 비교하기 (추상적 요약)\n",
    "원래의 요약문(headlines 열)과 학습을 통해 얻은 추상적 요약의 결과를 비교해 보세요."
   ]
  },
  {
   "cell_type": "code",
   "execution_count": 47,
   "id": "fa1169e5",
   "metadata": {},
   "outputs": [],
   "source": [
    "# 원문의 정수 시퀀스를 텍스트 시퀀스로 변환\n",
    "def seq2text(input_seq):\n",
    "    temp=''\n",
    "    for i in input_seq:\n",
    "        if (i!=0):\n",
    "            temp = temp + src_index_to_word[i]+' '\n",
    "    return temp\n",
    "\n",
    "# 요약문의 정수 시퀀스를 텍스트 시퀀스로 변환\n",
    "def seq2headlines(input_seq):\n",
    "    temp=''\n",
    "    for i in input_seq:\n",
    "        if ((i!=0 and i!=tar_word_to_index['sostoken']) and i!=tar_word_to_index['eostoken']):\n",
    "            temp = temp + tar_index_to_word[i] + ' '\n",
    "    return temp\n"
   ]
  },
  {
   "cell_type": "markdown",
   "id": "5b860ab1",
   "metadata": {},
   "source": [
    "#### 추상적 요약의 결과를 비교"
   ]
  },
  {
   "cell_type": "code",
   "execution_count": 48,
   "id": "b48326af",
   "metadata": {},
   "outputs": [
    {
     "name": "stdout",
     "output_type": "stream",
     "text": [
      "원문 : indian sprinter chand silver medal asian games running seconds awarded crore odisha government award announced state chief minister naveen patnaik notably became first indian sprinter bag medal event asian games since \n",
      "실제 요약 : silver running get crore \n",
      "예측 요약 :  wins wins wins wins wins wins wins\n",
      "\n",
      "\n",
      "원문 : japanese conglomerate softbank talks invest million us based dog sitting app according reports comes months startup slammed allegedly losing customers pets care founded gives demand access dog hired users dog walking dog sitting \n",
      "실제 요약 : softbank may invest mn dog app \n",
      "예측 요약 :  invest invest dog dog dog dog dog\n",
      "\n",
      "\n",
      "원문 : actor oscar isaac revealed late actress slap times filming scene film star wars last added every time would hit like different spot face died suffering heart attack played princess star wars franchise \n",
      "실제 요약 : times star scene oscar \n",
      "예측 요약 :  actress late times times times times actress\n",
      "\n",
      "\n",
      "원문 : gitanjali gems owner mehul choksi letter employees said done anything wrong face said ultimately truth shall justice deserve far shall take time prove future seems choksi added \n",
      "실제 요약 : face done nothing wrong choksi \n",
      "예측 요약 :  done done choksi choksi done choksi done\n",
      "\n",
      "\n",
      "원문 : apple app store generated nearly revenue google play store third quarter according market analyst sensor tower approximately billion mobile app revenue generated came apple app store meanwhile google play earned billion previous quarter billion \n",
      "실제 요약 : app store made revenue play store report \n",
      "예측 요약 :  apple apple apple apple apple apple apple\n",
      "\n",
      "\n",
      "원문 : union minister ram paswan friday said hotels restaurants decide amount service charge left customer government framed new guidelines service charge make totally voluntary added paswan said guidelines sent states necessary action \n",
      "실제 요약 : service charge must left \n",
      "예측 요약 :  union union union union union union union\n",
      "\n",
      "\n",
      "원문 : virat kohli admitted team management got combination wrong lord test india lost innings runs india playing xi included two spinners failed pick single wicket first time last five tests lose way went things added \n",
      "실제 요약 : got wrong lose kohli lord test \n",
      "예측 요약 :  kohli kohli kohli kohli kohli kohli kohli\n",
      "\n",
      "\n",
      "원문 : delhi cm aap convenor arvind kejriwal said sunday charges levelled kapil mishra baseless unless would jail would centre would ensured jail even truth charges levelled said \n",
      "실제 요약 : kejriwal kapil allegations \n",
      "예측 요약 :  kejriwal kejriwal kejriwal kejriwal kejriwal kejriwal kejriwal\n",
      "\n",
      "\n",
      "원문 : kapoor speaking reports nephew ranbir kapoor marriage said ranbir time success money get married soon added enough time ranbir marry said relationship status anybody concern business \n",
      "실제 요약 : ranbir great marry soon \n",
      "예측 요약 :  ranbir ranbir ranbir ranbir ranbir ranbir ranbir\n",
      "\n",
      "\n",
      "원문 : pacific nation demanded apology china envoy crazy behaviour pacific islands forum row erupted president baron rejected chinese envoy du demand speak event pm earlier refused grant entry chinese delegation diplomatic passports \n",
      "실제 요약 : demands china apology envoy \n",
      "예측 요약 :  envoy envoy envoy envoy envoy envoy envoy\n",
      "\n",
      "\n",
      "원문 : female teacher private school allegedly broke arm upper student andhra pradesh visakhapatnam district according reports teacher fractured girl arm beating girl family staged protests school demanded action teacher \n",
      "실제 요약 : teacher breaks kid arm \n",
      "예측 요약 :  teacher teacher teacher teacher teacher teacher teacher\n",
      "\n",
      "\n",
      "원문 : video elderly woman working hindi front collector office madhya pradesh going viral video woman seen documents people speed video likes micro blogging site twitter \n",
      "실제 요약 : video old woman working mp goes viral \n",
      "예측 요약 :  video video video video video video video\n",
      "\n",
      "\n",
      "원문 : actress rose talking hollywood producer harvey weinstein accused raping said sure would prefer dead added people finds worse lawyers said people around supported attempt abuse women \n",
      "실제 요약 : weinstein would dead \n",
      "예측 요약 :  weinstein weinstein weinstein weinstein weinstein weinstein weinstein\n",
      "\n",
      "\n",
      "원문 : group international volunteers fighting kurdish forces islamic state northern syria formed first lgbt military unit battle terror group formation liberation army announced monday notably members lgbt community suffered hands militant group \n",
      "실제 요약 : first unit created fight isis syria \n",
      "예측 요약 :  syria syria syria syria syria syria syria\n",
      "\n",
      "\n",
      "원문 : pictures actor ranbir kapoor pakistani actress mahira khan smoking together new york usa surfaced online rumoured two dating ever since appeared together event march ranbir earlier said dating katrina kaif mahira single mother \n",
      "실제 요약 : pic rumoured couple ranbir us online \n",
      "예측 요약 :  ranbir ranbir ranbir ranbir ranbir ranbir ranbir\n",
      "\n",
      "\n",
      "원문 : janhvi kapoor ishaan khatter starrer dhadak crore worldwide earning crore india film released july collected crore first week country per bollywood trade analyst adarsh producer karan johar tweeted crore worldwide gross rare feat film \n",
      "실제 요약 : janhvi starrer crore \n",
      "예측 요약 :  cr cr cr cr cr cr cr\n",
      "\n",
      "\n",
      "원문 : actor govinda said films targeted last nine years reached cinema houses people providing place act know mistake made continue working added govinda said please provide platform work \n",
      "실제 요약 : films yrs provide platform work \n",
      "예측 요약 :  films films films films films films films\n",
      "\n",
      "\n",
      "원문 : addition lakh compensation announced cm yogi adityanath railways minister piyush goyal announced lakh ex gratia kin killed several coaches delhi bound new express derailed near goyal also ordered inquiry train derailment left seven people dead injured \n",
      "실제 요약 : lakh ex kin victims train \n",
      "예측 요약 :  lakh lakh lakh lakh lakh lakh lakh\n",
      "\n",
      "\n",
      "원문 : gurugram police saturday midnight rescued twenty people trapped mall lift nearly minutes police said two six women fell unconscious lift due lack oxygen trapped people reportedly contacted control room police called staff could fix technical glitch \n",
      "실제 요약 : stuck gurugram lift mins rescued \n",
      "예측 요약 :  rescued rescued rescued rescued rescued rescued rescued\n",
      "\n",
      "\n",
      "원문 : slamming article published goa church magazine compared goa india nazi germany bjp claimed nazi germany almost catholic church support however germany population catholic hitler took chancellor per germany census \n",
      "실제 요약 : germany almost bjp goa church \n",
      "예측 요약 :  germany germany germany germany germany germany germany\n",
      "\n",
      "\n",
      "원문 : national green tribunal friday asked delhi government clarify two wheelers women drivers exempted odd even scheme stating two wheelers contribute air pollution called scheme ngt said stay imposition plan government scheme reduced pollution \n",
      "실제 요약 : women even ngt asks delhi govt \n",
      "예측 요약 :  ngt ngt ngt ngt ngt ngt ngt\n",
      "\n",
      "\n",
      "원문 : indian batsman rohit sharma wife asked indian spinner yuzvendra chahal keep rohit th october chahal earlier tagged comment read see see everywhere chahal spin partner indian team kuldeep yadav also replied chahal comment \n",
      "실제 요약 : rohit wife asks keep \n",
      "예측 요약 :  rohit rohit rohit rohit rohit rohit rohit\n",
      "\n",
      "\n",
      "원문 : shadow group released number windows earlier year threatened leak hacking tools coming months group leak used global wannacry ransomware attack last week hit countries group claims stolen us spy agency nsa \n",
      "실제 요약 : group threatens \n",
      "예측 요약 :  leak leak leak cyber cyber cyber cyber\n",
      "\n",
      "\n",
      "원문 : actor turned politician pawan kalyan announced party contest seats andhra pradesh assembly polls held added contest assembly elections party founded contesting elections without understanding root level conditions lead good results \n",
      "실제 요약 : led party contest andhra assembly seats \n",
      "예측 요약 :  contest contest contest contest contest contest contest\n",
      "\n",
      "\n",
      "원문 : bollywood brendon de arrested set one kangana ranaut upcoming movies maharashtra district charges raping year old boy year old sexual relations minor met dating app police said boy sexually involved men met via app \n",
      "실제 요약 : arrested kangana film set raping minor boy \n",
      "예측 요약 :  maharashtra maharashtra maharashtra maharashtra maharashtra maharashtra maharashtra\n",
      "\n",
      "\n",
      "원문 : india suffered run defeat england fifth test oval tuesday losing five match series first time since defeat australia india lost four matches five match test series india lost six last eight away test matches \n",
      "실제 요약 : india lose matches test series st time years \n",
      "예측 요약 :  defeat defeat defeat defeat defeat defeat defeat\n",
      "\n",
      "\n",
      "원문 : judges uk longer required give permission end life support patients conscious state uk supreme court ruled easier withdraw food liquid let patients die doctors families agreement \n",
      "실제 요약 : uk patients taken life support without court \n",
      "예측 요약 :  uk uk uk uk uk uk uk\n",
      "\n",
      "\n",
      "원문 : france saturday honoured police officer hostage attack supermarket later succumbed injuries flags flown half police stations across country calling national hero president emmanuel macron said died service nation would already given much \n",
      "실제 요약 : france hero cop \n",
      "예측 요약 :  france france france france france france france\n",
      "\n",
      "\n",
      "원문 : rajasthan government requested airports authority india build separate terminal form jaipur international airport vip movement official said need separate entry exit ensure security currently state aircraft carrying operated state \n",
      "실제 요약 : rajasthan govt wants separate airport \n",
      "예측 요약 :  govt govt govt govt govt govt govt\n",
      "\n",
      "\n",
      "원문 : supreme court wednesday refused bjp plea seeking intervention west bengal panchayat polls bjp claimed ruling tmc pressurised state election commission withdraw order extending deadline filing nominations pointing calcutta high court ordered stay withdrawal order sc directed bjp approach hc \n",
      "실제 요약 : sc refuses bjp plea wb polls \n",
      "예측 요약 :  sc sc sc sc sc sc sc\n",
      "\n",
      "\n",
      "원문 : india rio olympics silver medalist shuttler pv sindhu set indian contingent flag opening ceremony commonwealth games australia reportedly saina nehwal mary kom honour chosen following better olympic result sindhu bronze edition \n",
      "실제 요약 : sindhu india flag games \n",
      "예측 요약 :  sindhu sindhu sindhu sindhu sindhu sindhu sindhu\n",
      "\n",
      "\n",
      "원문 : candidates appearing exam conducted primary school teachers delhi civic schools prohibited wearing jewellery full dresses carrying watches exam delhi services selection board prescribed strict dress code required followed candidates appearing exam \n",
      "실제 요약 : govt school teacher exam candidates told wear \n",
      "예측 요약 :  delhi delhi delhi delhi delhi delhi delhi\n",
      "\n",
      "\n",
      "원문 : company created claimed world first coffee called clear coffee order avoid teeth product made coffee water claims free artificial company founded two brothers adam david \n",
      "실제 요약 : company creates clear \n",
      "예측 요약 :  claims claims claims claims claims claims claims\n",
      "\n",
      "\n",
      "원문 : protest centre alleged inaction following drought tamil nadu farmers state resorted streets delhi stuffed one farmers said crop failed resort eating feed earlier farmers protested wearing \n",
      "실제 요약 : tamil nadu farmers protest delhi \n",
      "예측 요약 :  farmers farmers farmers farmers farmers farmers farmers\n",
      "\n",
      "\n",
      "원문 : supreme court directed unitech pay litigation cost homebuyers delay delivery flats gurugram housing project court directed unitech pay amount within four weeks buyers notably homebuyers already paid principal amount interest unitech sc previous order \n",
      "실제 요약 : sc orders pay \n",
      "예측 요약 :  pay pay pay pay pay pay pay\n",
      "\n",
      "\n",
      "원문 : world health organisation report stated india recorded substantial decline cases compared report attributed reduction largely substantial decline disease highly odisha success factors reduction disease include political commitment report noted \n",
      "실제 요약 : cases india report \n",
      "예측 요약 :  world world world world world world world\n",
      "\n",
      "\n",
      "원문 : sri lanka tuesday imposed day nation wide state emergency due clashes buddhist muslim communities district move aimed preventing spread violence parts country government spokesperson said government warned take action violence social media \n",
      "실제 요약 : sri lanka imposes state emergency violence \n",
      "예측 요약 :  sri sri sri sri sri sri sri\n",
      "\n",
      "\n",
      "원문 : playing role late actress sridevi rama rao upcoming biopic per reports sridevi acted films including justice reports added approached role date clash might problem busy projects \n",
      "실제 요약 : play sridevi biopic reports \n",
      "예측 요약 :  sridevi sridevi sridevi sridevi sridevi sridevi sridevi\n",
      "\n",
      "\n",
      "원문 : mma fighter conor mcgregor smashed ufc rival bus metal voluntarily walking police station two people reportedly injured attack including ufc fighter hit shattered glass mcgregor plane grounded new york charged three counts assault one criminal \n",
      "실제 요약 : mcgregor rival bus turns \n",
      "예측 요약 :  mcgregor mcgregor mcgregor bus bus bus bus\n",
      "\n",
      "\n",
      "원문 : day one second test india england lord abandoned without even ball bowled due rain former indian cricketer sachin tendulkar supposed ring lord bell start play india trailing series suffering run defeat \n",
      "실제 요약 : day one lord test without ball \n",
      "예측 요약 :  india india india india india india india\n",
      "\n",
      "\n",
      "원문 : activist nobel peace laureate malala took social media share picture actress priyanka chopra united nations event cannot believe met priyanka chopra wrote malala responding priyanka tweeted words enough cannot believe met young girl much heart achievements proud \n",
      "실제 요약 : cannot believe met priyanka chopra \n",
      "예측 요약 :  priyanka priyanka priyanka priyanka priyanka priyanka priyanka\n",
      "\n",
      "\n",
      "원문 : actor ranveer singh attended influential young indians award ceremony held new delhi wearing deep blue ensemble included skirt actor rajkummar rao rapper also attended event celebrities feature influential young indians list year \n",
      "실제 요약 : ranveer singh award show wearing \n",
      "예측 요약 :  ranveer ranveer ranveer ranveer ranveer ranveer ranveer\n",
      "\n",
      "\n",
      "원문 : dj khushi performed priyanka chopra nick jonas engagement party said nick jonas indian american added sport letting lady lead way throughout celebrations revealed played songs bollywood songs like \n",
      "실제 요약 : nick indian american engagement party \n",
      "예측 요약 :  nick nick nick nick nick nick nick\n",
      "\n",
      "\n",
      "원문 : fir filed jawans killing two civilians jammu kashmir deputy cm singh said nobody permitted forces army claimed fired civilians injured seven jawans filed counter fir incident locals alleged jawans initiated attack \n",
      "실제 요약 : let forces lose cm fir army \n",
      "예측 요약 :  fir fir fir fir fir fir fir\n",
      "\n",
      "\n",
      "원문 : aiadmk leader suggested late cm jayalalithaa name recommended nobel prize light scheme preventing female tamil nadu jayalalithaa baby scheme even nobel peace prize winner mother added scheme allowed women hand government \n",
      "실제 요약 : jayalalithaa nobel prize aiadmk leader \n",
      "예측 요약 :  jayalalithaa jayalalithaa jayalalithaa jayalalithaa jayalalithaa jayalalithaa jayalalithaa\n",
      "\n",
      "\n",
      "원문 : saudi ministry culture pulled novel award winning author thursday opened investigation matter denounced pornographic fiction novel thursday visitors al young woman journey self discovery thursday get women share \n",
      "실제 요약 : saudi recalls book call \n",
      "예측 요약 :  award award award award award award award\n",
      "\n",
      "\n",
      "원문 : least militants affiliated islamic state taliban militant groups joined peace process afghanistan eastern province militants handed rocket along different types weapons security forces around militants joined peace process till date due efforts intelligence officials said \n",
      "실제 요약 : isis taliban militants join peace process afghanistan \n",
      "예측 요약 :  isis isis militants militants militants isis isis\n",
      "\n",
      "\n",
      "원문 : saudi arabia crown prince mohammed bin salman wants war yemen leaked emails revealed crown prince statement part conversation us officials details revealed emails saudi led coalition involved yemen civil war since backing government houthi rebels \n",
      "실제 요약 : saudi prince wants yemen war reports \n",
      "예측 요약 :  saudi saudi saudi saudi saudi saudi saudi\n",
      "\n",
      "\n",
      "원문 : gupta talking daughter gupta trial separation husband madhu said still taken step trying figure way early talk whatever happen happen time comes discuss added \n",
      "실제 요약 : trying way trial \n",
      "예측 요약 :  still still still still still still still\n",
      "\n",
      "\n",
      "원문 : government asked pnb cbi enforcement directorate share details billion scam institute chartered india high level group constituted accounting body studying issues involved fraud member panel met least three times awaiting information president naveen nd gupta said \n",
      "실제 요약 : govt asks pnb share scam details \n",
      "예측 요약 :  pnb pnb pnb pnb pnb pnb pnb\n",
      "\n",
      "\n"
     ]
    }
   ],
   "source": [
    "for i in range(0, 50):\n",
    "    print(\"원문 :\", seq2text(encoder_input_test[i]))\n",
    "    print(\"실제 요약 :\", seq2headlines(decoder_input_test[i]))\n",
    "    print(\"예측 요약 :\", decode_sequence(encoder_input_test[i].reshape(1, text_max_len)))\n",
    "    print(\"\\n\")"
   ]
  },
  {
   "cell_type": "markdown",
   "id": "5976e017",
   "metadata": {},
   "source": [
    "#### 추상적 요약에 대한 의견\n",
    "\n",
    "예측요약은 대부분 실제 요약내에 있는 단어에 포함되어있고,포함도지 않은 소수는 원문내에 있어, 핵심 단어수준에서는 양호해 보이나,예측문장은 대부분 동일 단어들이 반복되고 있어서, 하나의 문장을 이루지 못하고 있슴,\n",
    "\n",
    "좀더 모델성능향상을 위한 모델구조개선과 하이퍼파라메터등을 개선 적용해서,EPOCH를 충분히 늘려서, 적용하면 좀 더 나아질것 같음"
   ]
  },
  {
   "cell_type": "markdown",
   "id": "679d9c44",
   "metadata": {},
   "source": [
    "### Step 5. Summa을 이용해서 추출적 요약해보기"
   ]
  },
  {
   "cell_type": "code",
   "execution_count": 49,
   "id": "ab9a4b11",
   "metadata": {},
   "outputs": [],
   "source": [
    "from summa.summarizer import summarize"
   ]
  },
  {
   "cell_type": "code",
   "execution_count": 50,
   "id": "c4cefd12",
   "metadata": {},
   "outputs": [],
   "source": [
    "import pandas as pd\n",
    "data_summa = pd.read_csv('news_summary_more.csv', encoding='iso-8859-1')"
   ]
  },
  {
   "cell_type": "markdown",
   "id": "b8583e8b",
   "metadata": {},
   "source": [
    "#### 앞의 추상적요약에서 다루었던 news_summary_more.csv 기사 텍스트의 앞쪽 100문장(글자수 36,030자) 대상 추출적 요약실행"
   ]
  },
  {
   "cell_type": "code",
   "execution_count": 2,
   "id": "0495b710",
   "metadata": {},
   "outputs": [
    {
     "ename": "NameError",
     "evalue": "name 'data_summa' is not defined",
     "output_type": "error",
     "traceback": [
      "\u001b[0;31m---------------------------------------------------------------------------\u001b[0m",
      "\u001b[0;31mNameError\u001b[0m                                 Traceback (most recent call last)",
      "\u001b[0;32m/tmp/ipykernel_32/1562252064.py\u001b[0m in \u001b[0;36m<module>\u001b[0;34m\u001b[0m\n\u001b[0;32m----> 1\u001b[0;31m \u001b[0mtext\u001b[0m \u001b[0;34m=\u001b[0m \u001b[0;34m\",\"\u001b[0m\u001b[0;34m.\u001b[0m\u001b[0mjoin\u001b[0m\u001b[0;34m(\u001b[0m\u001b[0mdata_summa\u001b[0m\u001b[0;34m[\u001b[0m\u001b[0;34m'text'\u001b[0m\u001b[0;34m]\u001b[0m\u001b[0;34m.\u001b[0m\u001b[0mtolist\u001b[0m\u001b[0;34m(\u001b[0m\u001b[0;34m)\u001b[0m\u001b[0;34m[\u001b[0m\u001b[0;34m:\u001b[0m\u001b[0;36m100\u001b[0m\u001b[0;34m]\u001b[0m\u001b[0;34m)\u001b[0m\u001b[0;34m\u001b[0m\u001b[0;34m\u001b[0m\u001b[0m\n\u001b[0m\u001b[1;32m      2\u001b[0m \u001b[0mprint\u001b[0m\u001b[0;34m(\u001b[0m\u001b[0mlen\u001b[0m\u001b[0;34m(\u001b[0m\u001b[0mtext\u001b[0m\u001b[0;34m)\u001b[0m\u001b[0;34m,\u001b[0m \u001b[0mtext\u001b[0m\u001b[0;34m[\u001b[0m\u001b[0;34m:\u001b[0m\u001b[0;36m10\u001b[0m\u001b[0;34m]\u001b[0m\u001b[0;34m)\u001b[0m\u001b[0;34m\u001b[0m\u001b[0;34m\u001b[0m\u001b[0m\n",
      "\u001b[0;31mNameError\u001b[0m: name 'data_summa' is not defined"
     ]
    }
   ],
   "source": [
    "text = \",\".join(data_summa['text'].tolist()[:100])\n",
    "print(len(text), text[:10])"
   ]
  },
  {
   "cell_type": "code",
   "execution_count": 52,
   "id": "f0d1c02c",
   "metadata": {},
   "outputs": [
    {
     "name": "stdout",
     "output_type": "stream",
     "text": [
      "Summary:\n",
      "He added, \"The time has come for the people of Odisha to put a full stop to their activities...The time has come for us to ask for an explanation from this corrupt government.\",Claiming there is a dearth of ideas among opposition parties, Prime Minister Narendra Modi on Wednesday said, \"The opposition talks only about Modi the whole day, I suspect they even dream about me.\" PM Modi, who was addressing the New India Youth Conclave inÃ¢ÂÂ Surat, added that the opposition parties have only one agenda which is \"Modi\".\n"
     ]
    }
   ],
   "source": [
    "print('Summary:')\n",
    "print(summarize(text, ratio=0.01))"
   ]
  },
  {
   "cell_type": "code",
   "execution_count": 53,
   "id": "ea6fbdbd",
   "metadata": {},
   "outputs": [
    {
     "name": "stdout",
     "output_type": "stream",
     "text": [
      "Summary:\n",
      "['He added, \"The time has come for the people of Odisha to put a full stop to their activities...The time has come for us to ask for an explanation from this corrupt government.\",Claiming there is a dearth of ideas among opposition parties, Prime Minister Narendra Modi on Wednesday said, \"The opposition talks only about Modi the whole day, I suspect they even dream about me.\" PM Modi, who was addressing the New India Youth Conclave inÃ¢Â\\x80Â\\x8b Surat, added that the opposition parties have only one agenda which is \"Modi\".']\n"
     ]
    }
   ],
   "source": [
    "print('Summary:')\n",
    "print(summarize(text, ratio=0.01, split=True))"
   ]
  },
  {
   "cell_type": "code",
   "execution_count": 54,
   "id": "dff5b3e2",
   "metadata": {},
   "outputs": [
    {
     "name": "stdout",
     "output_type": "stream",
     "text": [
      "Summary:\n",
      "He added, \"The time has come for the people of Odisha to put a full stop to their activities...The time has come for us to ask for an explanation from this corrupt government.\",Claiming there is a dearth of ideas among opposition parties, Prime Minister Narendra Modi on Wednesday said, \"The opposition talks only about Modi the whole day, I suspect they even dream about me.\" PM Modi, who was addressing the New India Youth Conclave inÃ¢ÂÂ Surat, added that the opposition parties have only one agenda which is \"Modi\".\n"
     ]
    }
   ],
   "source": [
    "print('Summary:')\n",
    "print(summarize(text, words=50))"
   ]
  },
  {
   "cell_type": "markdown",
   "id": "3cd5262b",
   "metadata": {},
   "source": [
    "##### 추출적 요약에 관한 의견\n",
    "\n",
    "\n",
    "추출적요약이 요약비율을 너무 압축시키지 않으면,예를 들어, 10% 정도로 하면, 문장별로는 더 나아질 것 같음\n",
    "\n",
    "[추상적요약]이 학습이 충분히 된다면, 더 훌륭할것 같은데, 학습이 잘않되는 경우, [추출적요약]이 좀 더 나은 것 같음"
   ]
  },
  {
   "cell_type": "markdown",
   "id": "9a3a98ec",
   "metadata": {},
   "source": [
    "## Step 6. 추상적요약 vs. 추출적예약 비교 검토"
   ]
  },
  {
   "cell_type": "markdown",
   "id": "66a762c1",
   "metadata": {},
   "source": [
    "#### 1. 문법완성도 측면\n",
    "###### (1) 추상적 요약 : 문법완성도 측면에서 많이 부족함( target data 인 실제요약도 문법적으로 않맞다보니,  predict인 예측요약도 문법은 없고,단어만 나열됨, 이는 원문이  문법이 형성되지 않고 빈도위주의 단어로 구성되어 있는 것도 원인이라고 보임)\n",
    "\n",
    "###### (2) 추출적요약: 문법완성도 측면에서 양호함(원문이 문법적으로 되어있는 텍스트라서, 거기서 추출되는 형식도 문법적요소가 학습된 것으로 보임)\n",
    "\n",
    "\n",
    "#### 2. 핵심단어 포함측면\n",
    "###### (1) 추상적요약 : 실제예측내에 있는 핵심단어는 거의 다 예측요약에 양호하게 포함되어 있슴   \n",
    "###### (2) 추출적요약:  원문에 있는 핵심단어들을  추출요약에 대체로 잘 포함하고 있슴\n",
    "\n",
    "\n",
    "#### 3. 종합: \n",
    "###### [추상적요약]이 모델구조개선이나, pretrained된 큰규모의 word2vector등을 베이스로 학습이 된다면, 아주 훌륭할것 같은데, 그렇지 않은 환경이거나, 학습이 잘않되는 경우, [추출적요약]이 나을 것 같음\n"
   ]
  },
  {
   "cell_type": "code",
   "execution_count": null,
   "id": "12809c29",
   "metadata": {},
   "outputs": [],
   "source": []
  },
  {
   "cell_type": "markdown",
   "id": "e89e07e8",
   "metadata": {},
   "source": [
    "## 회고"
   ]
  },
  {
   "cell_type": "markdown",
   "id": "3143e257",
   "metadata": {},
   "source": [
    "본 프로젝트는 뉴스기사데이터를 대상으로 기사내용을 추상적요약법과 추출적요약법의 두가지 방법으로 요약을 해보고,\n",
    "요약내용의 품질과 요약방법의 성능을 평가해보는 프로젝트입니다.\n",
    "\n",
    "##### Step 1. 데이터 수집\n",
    "먼저, 뉴스기사 text 원문과 headline으로 구성된 98,401개 뉴스기사 문장을 로드했습니다\n",
    "\n",
    "##### Step 2. 데이터 전처리하기 (추상적 요약)\n",
    "먼저, 먼저 개략적으로 데이터를 살펴보며, 전처리를 위한 분석을 하고서, 중복 샘플을 제거하여, 총98,401개에서 총98,360개로 축소하였습니다.\n",
    "결측치는 존재하지 않았습니다.\n",
    "\n",
    "다음은 데이타 정제, 정규화,불용어처리를 위해서, 일괄 처리해줄 함수로 preprocess_sentence(sentence, remove_stopwords=True)를 만들었습니다.\n",
    "함수안에는 기사 내용에 있는 영어를 제외한 숫자및 특수문자제거, 모든 영문자 소문자로 통일, HTML문제 제거 등 데이터 정제및\n",
    "데이터 정규화, 불용어처리를 위한 코드를 넣어서, 데이터 전처리를 일괄로 깔끔하게 처리하였습니다.\n",
    "이때, 문장길이가 상대적으로 짧긴하지만 headlines의 평균문장 길이가 원문 문장길이 평균의 5배차이라 큰 차이가 아니것으로 보고서,\n",
    "함께 불용어처리를 하였습니다. \n",
    "\n",
    "text의 평균길이가 35개, headlines의 평균길이가 7개라서, 단어빈도분포를 따져보고, text_max_len = 40\n",
    "headlines_max_len = 8 로 결정하였습니다.\n",
    "\n",
    "이렇게 했을때, \n",
    "전체 샘플 중 길이가 40 이하인 샘플의 비율 92.38%, \n",
    "전체 샘플 중 길이가 8 이하인 샘플의 비율: 89.25%,    \n",
    "남은 샘플수는 81914개로, 중복치제거후 기존 총98,360개의 83.2%가 실제 사용샘플수로 남았습니다.  \n",
    "    \n",
    "headlies 데이터에는 시작 토큰 'sostoken ' 과 종료 토큰' eostoken'을 추가했습니다.\n",
    "\n",
    "그리고, 훈련 데이터와 테스트 데이터를  8:2의 비율로 분리하였습니다.\n",
    "분리하기전에 데이터를 shuffle하여, target data의 분포도 치우치지 않게 하였습니다.    \n",
    "분리한 결과 훈련 데이터의 개수 65532,훈련 레이블의 개수 65532, 테스트 데이터의 개수 16382, 테스트 레이블의 개수 16382개였습니다.\n",
    "\n",
    "Tokenizing은 분리된 인코더용 훈련 데이터를 Tokenizer()로 토큰화하고서,희귀단어를 제외시킨후 작업효율을 감안하여,단어집합의 크기(src_vocab)는\n",
    "10000개로 설정하고서,Tokenizer()를 재생성하였고, text 시퀀스(인코더용train data, 인코더용 test data)를 정수 시퀀스로 변환하였습니다.\n",
    "\n",
    "마찬가지 요령으로 디코더용(headlines 시퀀스)데이터도 정수 시퀀스로 변환하였습니다. \n",
    "이때 단어집합크기(tar_vocab)는 2500개로 설정하였습니다.\n",
    "    \n",
    "Padding은 max길이로 문장을 통일시키기위해서, pad_sequences()로 'post'방식으로 패딩을 완료하였습니다\n",
    "encoder_input_train = pad_sequences(encoder_input_train, maxlen=text_max_len, padding='post')\n",
    "encoder_input_test = pad_sequences(encoder_input_test, maxlen=text_max_len, padding='post')\n",
    "\n",
    "decoder_input_train = pad_sequences(decoder_input_train, maxlen=headlines_max_len, padding='post')\n",
    "decoder_target_train = pad_sequences(decoder_target_train, maxlen=headlines_max_len, padding='post')\n",
    "decoder_input_test = pad_sequences(decoder_input_test, maxlen=headlines_max_len, padding='post')\n",
    "decoder_target_test = pad_sequences(decoder_target_test, maxlen=headlines_max_len, padding='post')\n",
    "\n",
    "이로써 데이터 전처리가 완료되었습니다.\n",
    "\n",
    "\n",
    "#### Step 3. 어텐션 메커니즘 사용하기 (추상적 요약)\n",
    "인코더 설계단계에서 Attention이있는 인코더는 일반 seq2seq와는 다르게, 인코더 LSTM layer의 인자에 return_sequence=True 설정해야하는데,\n",
    "이는 timestep별 state가 모두 필요하기 때문입니다.\n",
    "embedding_dim 256,hidden_size 256으로 하였고,인코더 인풋층 다음에 임베딩층, 3개층의 LSTM레이어, \n",
    "그리고, 매층뒤에 Bachnormalization층을 설치해서,정규화를 통해 학습이 좀 더 매끄럽게 되도록 했습니다.\n",
    "그리고, 각 LSTM층에는 dropout인자를 사용하여, 오버피팅을 방지했습니다.\n",
    "\n",
    "디코더 설계단계에서는 당연히 일반seq2seq와 동일하게 return_sequences= True 설정하였는데,\n",
    "이는 seq2seq의 특징인 이전 timestep output을  다음 timestep의 input으로 쓰도록 하기위해서입니다.\n",
    "디코더 인풋층, 임베딩층, LSTM층 1개(dropout사용,return_sequences=True, return_state=True), \n",
    "소프트맥스층순으로 하고,매층뒤에 Bachnormalization층을 설치했습니다.\n",
    "\n",
    "이것으로 Attention 모델을 만들기위한 기반 seq2seq 인코더 디코더는 마련하였습니다.\n",
    "\n",
    "다음으로 keras의 AdditiveAttention layer를 가져와서, 위의 모델에 어텐션을 조합하여, 어텐션 모델로 만들었습니다.\n",
    "AdditiveAttention layer는 이미 구현된 레이어로서, attention score를 구하는 방식이 Bahdanau 스타일입니다.\n",
    "Bahdanau 스타일은 스코어를 구할때, trainable 가중치와 하이퍼볼릭탄젠트함수를 사용하여 계산하는 방식입니다.\n",
    "\n",
    "어텐션레이어는 인코더의 모든 타임스텝의 states들과 해당 타임스텝시점의 디코더 아웃풋을 인풋으로 받아서,\n",
    "어텐션 스코어를 산출합니다.\n",
    "\n",
    "어텐션 레이어를 거친후, concat layer를 거쳐서, 소프트맥스가 있는 Dense 층을 통해, 그 타임스텝시점의 prdeict예측치를\n",
    "반환하며, 이 예측치는 다음 타임스텝의 인풋으로 들어갑니다,  이 과정은 디코더의 모든 타임스텝동안 반복됩니다.\n",
    "\n",
    "이러한 과정을 실행하는 어텐션모델이 완성되었습니다.\n",
    "\n",
    "학습을 하기위해서, 데이터는 train data를 학습데이터로, test data를 valid data로 하고,\n",
    "batch size 256개, epoch 50회, earlystop callback을 사용하여, 학습을 진행했는데, Epoch 7회에 early stop 되었습니다.\n",
    "첫번째 Epoch의 val_loss 가 6.97이었는데, 계속 감소하다가, 조기종료된 Epoch 7회 val_loss는 2.6745 였습니다.\n",
    "\n",
    "history.history['val_loss']로 시각화해보니, val_loss가 우하향 잘하며 loss가 감소해 내려가다가, epoch 7 에서부터,\n",
    "과대적합이 시작되면서,조기종료되었습니다.\n",
    "\n",
    "이렇게 학습이 종료되고, 학습된 모델로 어텐션모델 기사요약기로 성능평가를 해봐야하는데,\n",
    "seq2seq 모델및 어텐션모델은 학습과정과 평가 테스트과정에서, 다르게 실행되는부분이 있는데,\n",
    "무엇인가 하면,평가 테스트과정에서는, inference 부분(predict부분)에서, 디코더 LSTM 의 매 time step마다,\n",
    "이전 timestep의 예측치를 받아서, 당 시점 timestep의 인풋으로 넣어주는 반복적인 과정을 별도의 코드로 처리해주어야 하기 때문입니다.\n",
    "이것을 처리하는 함수는 decode_sequence 함수로 정의하여 사용하였습니다.\n",
    "\n",
    "#### Step 4. 실제 결과와 요약문 비교하기 (추상적 요약)\n",
    "\n",
    "별도의 test data가 마련하지 않아서,valid data로 사용하였지만, 약식 성능테스트이기 때문에,\n",
    "encoder_input_test data로 기사요약기 성능을 테스트해보았습니다.\n",
    "\n",
    "첫 기사부터 50개의 기사를 요약시켜보았습니다.\n",
    "\n",
    "예측요약은 대부분 실제 요약내에 있는 단어에 포함되어있고,포함되지 않은 소수의 기사도 단어가 원문내에 있어, \n",
    "핵심 단어수준에서는 잘맞는 것 같으나,예측문장은 대부분 동일 단어들이 반복되고 있어서, 하나의 문장을 이루지 못하고 있어서,\n",
    "문법적으로는 품질이 많이 떨어졌습니다, \n",
    "그런데, 그 원인으로, 원문장 자체가 불용어에 포함되어 삭제된 것이 많아서, 원문도 문법적으로 어색한 상태라서,\n",
    "심층연구가 아닌 경우, 작은 Epoch등으로 인해, 문법을 익힐 기회가 적어서, 문법학습 부진에도 영향을 미치지 않았나\n",
    "생각해 봅니다.\n",
    "\n",
    "좀더 모델성능향상을 위한 모델구조개선과 하이퍼파라메터등을 개선 적용해서,EPOCH를 충분히 늘려서, 적용하면 좀 더 나아질것 같으나, \n",
    "궁극적으로 트랜스포머에대한 기대감이 커지고 있습니다.\n",
    "\n",
    "#### Step 5. Summa을 이용해서 추출적 요약해보기\n",
    "앞의 추상적요약에서 다루었던 news_summary_more.csv 기사 텍스트의 앞쪽 100문장(글자수 36,030자) 대상 추출적 요약실행해 보았습니다.\n",
    "전체 기사를 list화 한후 전체를 str 통문장으로 만든후 summa의 summarize로 요약해보았습니다. \n",
    "\n",
    "추출적요약을 요약비율을 여러가지로 변경해가면 살펴보았는데, 요약비율을 너무 압축시키지 않는다면,\n",
    "예를 들어, 10% 정도 이상으로 하면, 문장별로는 그럴듯한 것이 제법 있었고, 문법적으로도 괜찮은 부분이 더 많은 것 같았습니다.\n",
    "\n",
    "\n",
    "#### Step 6. 추상적요약 vs. 추출적예약 비교 검토\n",
    "1. 문법완성도 측면\n",
    "\n",
    "(1) 추상적 요약 : 문법완성도 측면에서 많이 부족함( target data 인 실제요약도 문법적으로 않맞다보니, predict인 예측요약도 문법은 없고,단어만 나열됨, 이는 원문이 문법이 형성되지 않고 빈도위주의 단어로 구성되어 있는 것도 원인이라고 보임)¶\n",
    "\n",
    "(2) 추출적요약: 문법완성도 측면에서 양호함(원문이 문법적으로 되어있는 텍스트라서, 거기서 추출되는 형식도 문법적요소가 학습된 것으로 보임)\n",
    "\n",
    "2. 핵심단어 포함측면\n",
    "\n",
    "(1) 추상적요약 : 실제예측내에 있는 핵심단어는 거의 다 예측요약에 양호하게 포함되어 있슴\n",
    "\n",
    "(2) 추출적요약: 원문에 있는 핵심단어들을 추출요약에 대체로 잘 포함하고 있슴\n",
    "\n",
    "3. 종합:\n",
    "[추상적요약]이 모델구조개선이나, pretrained된 큰규모의 word2vector등을 베이스로 학습이 된다면, 아주 훌륭할것 같은데, 그렇지 않은 환경이거나, 학습이 잘않되는 경우, [추출적요약]이 나을 것 같음\n",
    "회고\n",
    "\n",
    "#### 결론\n",
    "\n",
    "Decoder의 해당 timestep에서, Encoder의 모든 timestep의 결과를 참조하여, 무엇이 정답을 예측하는데,\n",
    "더 영향을 미치는지 집중(Attention)하게 하는, Attention 아이디어는 seq2seq 모델을 크게 발전시킬수 있는 획기적인 아이디어인 것\n",
    "이 맞는 것 같습니다.\n",
    "\n",
    "그 획기적인 발전과정의 초입부분의 프로젝트를 수행하면서, 좀 더 깊은 어텐션에의 이해및 궁극적으로 트랜스포머모델등\n",
    "앞으로의 발전과정을 좀더 깊이 공부해 볼수 있는 계기와 기대감을 갖게 되었던 것 같습니다.\n",
    "감사합니다.\n",
    "\n"
   ]
  },
  {
   "cell_type": "code",
   "execution_count": null,
   "id": "b43153ca",
   "metadata": {},
   "outputs": [],
   "source": []
  }
 ],
 "metadata": {
  "kernelspec": {
   "display_name": "Python 3 (ipykernel)",
   "language": "python",
   "name": "python3"
  },
  "language_info": {
   "codemirror_mode": {
    "name": "ipython",
    "version": 3
   },
   "file_extension": ".py",
   "mimetype": "text/x-python",
   "name": "python",
   "nbconvert_exporter": "python",
   "pygments_lexer": "ipython3",
   "version": "3.9.7"
  }
 },
 "nbformat": 4,
 "nbformat_minor": 5
}
