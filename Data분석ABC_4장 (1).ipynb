{
 "cells": [
  {
   "cell_type": "markdown",
   "id": "69be3556",
   "metadata": {},
   "source": [
    "## 4. 파이썬을 더 매력적으로\n",
    "\n",
    "### 4_2. 기초 분석을 위한 라이브러리\n",
    "\n",
    "1. pandas : table형태,   row, column\n",
    "\n",
    "(1)DataFrame 읽어오기  \n",
    "\n",
    "   import pandas as pd  \n",
    "   df = pd.read_csv('/data/customer_lib_1.csv')\n",
    "   \n",
    "(2) DataFrame의 정보확인하기\n",
    "\n",
    "   -columns : df.columns \n",
    "   -dtypes: : df.dtypes\n",
    "   -info : df.info()\n",
    "   -describe: df.describe()\n",
    "\n",
    "(3) DataFrame 다루기\n",
    "\n",
    "   -시리즈선택하기 : 여러 df.columns 중 한컬럼만 선택  df['Name']\n",
    "   -여러컬럼선택: 컬럼명 여러개를 이중 대괄호로 묶음  df[['Name','Email']]\n",
    "   -컬럼기준 필터링: \n",
    "\n",
    "(4) 인덱싱: row(행) 기준     iloc , loc\n",
    "\n",
    "   - df.iloc[:3, [0,2,4]]\n",
    "   - df.loc[15, 'Name']\n",
    "\n",
    "(5) 두개의 dataframe 결합하기:   pd.concat, pd.merge\n",
    "   - pd.concat([df1,df2])  :  default  OUTER,   | axis = 0  row방향(행방향, 인덱스위에서 아래방향) \n",
    "         | axis =1  column방향(열f방향, 컬럼쪽난에서, 우측방향)\n",
    "   -pd.merge( df1,df2) :  default  INNER | 특정열을 기준으로 결합가능)\n",
    "\n",
    "(6)  열삭제; df.drop('Nmae', axis = 1, inplace =True)\n",
    "\n",
    "(7)  정렬: df.sort_values(by='Name',ascending=False)\n",
    "\n",
    "(8) 열기준으로 가장큰 인덱스:  df['Avg'].idxmax(axis=0)\n",
    "\n",
    "2. Numpy:   주로 과학적 계산과 수치해석 기능을 제공하며 다차원배열(ndarray)를 기본 자료구조로 사용.\n",
    "\n",
    "(1) np.corrcoef(x,y) :상관계수 구함\n",
    "\n",
    "(2) df.sample(n=20)  : 샘플링\n",
    "\n",
    "\n",
    "\n"
   ]
  },
  {
   "cell_type": "markdown",
   "id": "225dfe49",
   "metadata": {},
   "source": [
    "### 4-3. 시각화\n",
    "\n",
    "1. Matplotlib : \n",
    "    (1)figure를 기본자료구조로 갖음: figure, subplot,legend, title\n",
    "    \n",
    "    (2)DataFrame 시각화:  plot()을 이용: line, bar, hist,boxplot, scatter, pie\n",
    "            \n",
    "2. Seaborn\n",
    "   \n",
    "    (1) Seaborn은 내부적으로 Matplotlib를 호출해 데이터를 시각화하는 라이브러리\n",
    "       Matplotlib에 비해 다양한 색상 테마와 통계용 차트를 제공\n",
    "    \n",
    "    (2) 제공 plot: Joint Plot, Box Plot, Bar Plot, bar, Regression Line, Histogram, Heatmap\n",
    "    \n",
    "    \n"
   ]
  },
  {
   "cell_type": "code",
   "execution_count": null,
   "id": "8f90884c",
   "metadata": {},
   "outputs": [],
   "source": []
  }
 ],
 "metadata": {
  "kernelspec": {
   "display_name": "Python 3 (ipykernel)",
   "language": "python",
   "name": "python3"
  },
  "language_info": {
   "codemirror_mode": {
    "name": "ipython",
    "version": 3
   },
   "file_extension": ".py",
   "mimetype": "text/x-python",
   "name": "python",
   "nbconvert_exporter": "python",
   "pygments_lexer": "ipython3",
   "version": "3.9.7"
  }
 },
 "nbformat": 4,
 "nbformat_minor": 5
}
