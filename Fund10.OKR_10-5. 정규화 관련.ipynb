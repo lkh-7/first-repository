{
 "cells": [
  {
   "cell_type": "markdown",
   "id": "7f8e7714",
   "metadata": {},
   "source": [
    "## 1. 정규화(Normalization) 과 표준화(Standardization) 차이\n",
    "\n",
    "###  정규화:\n",
    "\n",
    "학습데이터의 속성들(columns)별로 scale(크기듀모)의 차이로 인해, scale이 큰 column 들이 적은 column보다, ㅗㅍ은 가중치가 형성되어서, 출력값에 영향력이 커지는 현상을 방지하기위해, 동일한 scale을 사용하여, 같은 잣대에서, 모든 데이터를 고르는 작업을 말하는 것\n",
    "\n",
    "### 표준화:\n",
    "표준화는 정규화의 한 방법으로서, z score를 사용해서 정규화하는 것을 말함  \n"
   ]
  },
  {
   "cell_type": "markdown",
   "id": "8787ebad",
   "metadata": {},
   "source": [
    "## 2. MinMax Scaling를 train data에만 하고, test에는 않할 경우 문제점:\n",
    "\n",
    "train data 와 test data 간에 scale규모가 달라져서, 학습자체가 잘않됨, 즉 train data는 0~1 사이인데, test data는 정규화이전의 규모 큰 상태로 머물러있어서, 학습을 해도, 경사하강이 잘않될 듯 \n"
   ]
  },
  {
   "cell_type": "code",
   "execution_count": null,
   "id": "58ad1f9b",
   "metadata": {},
   "outputs": [],
   "source": []
  }
 ],
 "metadata": {
  "kernelspec": {
   "display_name": "Python 3 (ipykernel)",
   "language": "python",
   "name": "python3"
  },
  "language_info": {
   "codemirror_mode": {
    "name": "ipython",
    "version": 3
   },
   "file_extension": ".py",
   "mimetype": "text/x-python",
   "name": "python",
   "nbconvert_exporter": "python",
   "pygments_lexer": "ipython3",
   "version": "3.9.7"
  }
 },
 "nbformat": 4,
 "nbformat_minor": 5
}
