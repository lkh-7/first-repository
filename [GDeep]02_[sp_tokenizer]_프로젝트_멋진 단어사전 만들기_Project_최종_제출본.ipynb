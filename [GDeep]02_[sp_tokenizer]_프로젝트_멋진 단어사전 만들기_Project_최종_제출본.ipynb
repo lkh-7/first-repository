{
 "cells": [
  {
   "cell_type": "markdown",
   "id": "6f1850bc",
   "metadata": {},
   "source": [
    "# 2-5. 프로젝트: SentencePiece 사용하기\n"
   ]
  },
  {
   "cell_type": "markdown",
   "id": "480d55c2",
   "metadata": {},
   "source": [
    "# 1. 네이버 영화리뷰 데이터 수집 (공통) "
   ]
  },
  {
   "cell_type": "code",
   "execution_count": 1,
   "id": "82af98df",
   "metadata": {},
   "outputs": [],
   "source": [
    "#!cp -r ~/aiffel/sentiment_classification/data ~/aiffel/sp_tokenizer/data"
   ]
  },
  {
   "cell_type": "code",
   "execution_count": 1,
   "id": "716195a5",
   "metadata": {},
   "outputs": [
    {
     "name": "stdout",
     "output_type": "stream",
     "text": [
      "2.6.0\n",
      "1.21.4\n",
      "0.5.2\n",
      "1.3.3\n",
      "4.1.2\n"
     ]
    }
   ],
   "source": [
    "import tensorflow as tf\n",
    "import numpy as np\n",
    "import pandas as pd\n",
    "import matplotlib.pyplot as plt\n",
    "import konlpy\n",
    "from konlpy.tag import Mecab, Kkma, Okt, Komoran, Hannanum \n",
    "import gensim\n",
    "from collections import Counter\n",
    "import os,sys,copy,time\n",
    "import seaborn as sns\n",
    "import tqdm\n",
    "import re\n",
    "import urllib\n",
    "\n",
    "print(tf.__version__)\n",
    "print(np.__version__)\n",
    "print(konlpy.__version__)\n",
    "print(pd.__version__)\n",
    "print(gensim.__version__)"
   ]
  },
  {
   "cell_type": "code",
   "execution_count": 2,
   "id": "b6698551",
   "metadata": {},
   "outputs": [
    {
     "data": {
      "text/plain": [
       "('ratings_test.txt', <http.client.HTTPMessage at 0x7f81284ea3a0>)"
      ]
     },
     "execution_count": 2,
     "metadata": {},
     "output_type": "execute_result"
    }
   ],
   "source": [
    "url_train = \"https://raw.githubusercontent.com/e9t/nsmc/master/ratings_train.txt\"\n",
    "url_test = \"https://raw.githubusercontent.com/e9t/nsmc/master/ratings_test.txt\"\n",
    "\n",
    "urllib.request.urlretrieve(url_train, filename=\"ratings_train.txt\")\n",
    "urllib.request.urlretrieve(url_test, filename=\"ratings_test.txt\")"
   ]
  },
  {
   "cell_type": "code",
   "execution_count": 3,
   "id": "acbbfc3a",
   "metadata": {},
   "outputs": [
    {
     "name": "stdout",
     "output_type": "stream",
     "text": [
      "train_data          id                                           document  label\n",
      "0   9976970                                아 더빙.. 진짜 짜증나네요 목소리      0\n",
      "1   3819312                  흠...포스터보고 초딩영화줄....오버연기조차 가볍지 않구나      1\n",
      "2  10265843                                  너무재밓었다그래서보는것을추천한다      0\n",
      "3   9045019                      교도소 이야기구먼 ..솔직히 재미는 없다..평점 조정      0\n",
      "4   6483659  사이몬페그의 익살스런 연기가 돋보였던 영화!스파이더맨에서 늙어보이기만 했던 커스틴 ...      1 (150000, 3)\n",
      "------------------------------------------------------------\n",
      "test_data         id                                           document  label\n",
      "0  6270596                                                굳 ㅋ      1\n",
      "1  9274899                               GDNTOPCLASSINTHECLUB      0\n",
      "2  8544678             뭐야 이 평점들은.... 나쁘진 않지만 10점 짜리는 더더욱 아니잖아      0\n",
      "3  6825595                   지루하지는 않은데 완전 막장임... 돈주고 보기에는....      0\n",
      "4  6723715  3D만 아니었어도 별 다섯 개 줬을텐데.. 왜 3D로 나와서 제 심기를 불편하게 하죠??      0 (50000, 3)\n"
     ]
    }
   ],
   "source": [
    "# 데이터를 읽어봅시다. \n",
    "train_data = pd.read_table(r'~/aiffel/sp_tokenizer/ratings_train.txt')\n",
    "test_data = pd.read_table('~/aiffel/sp_tokenizer/ratings_test.txt')\n",
    "\n",
    "print(\"train_data\",train_data.head(),train_data.shape)\n",
    "print('-'*60)\n",
    "print(\"test_data\",test_data.head(),test_data.shape)"
   ]
  },
  {
   "cell_type": "markdown",
   "id": "70323199",
   "metadata": {},
   "source": [
    "# 2. SentencePiece 토크나이저 사용의 경우"
   ]
  },
  {
   "cell_type": "markdown",
   "id": "6537a4ac",
   "metadata": {},
   "source": [
    "* **(1) 데이터 기본적 전처리**"
   ]
  },
  {
   "cell_type": "code",
   "execution_count": 4,
   "id": "4fc8b1f7",
   "metadata": {},
   "outputs": [
    {
     "name": "stdout",
     "output_type": "stream",
     "text": [
      "train_data['document'].nunique() 146182\n",
      "train_data['label'].nunique() 2\n",
      "중복제거후 len(train_data) 146183\n",
      "test_data['document'].nunique() 49157\n",
      "test_data['label'].nunique() 2\n",
      "중복제거후 len(test_data) 49158\n",
      "결측치 개수 id          0\n",
      "document    1\n",
      "label       0\n",
      "dtype: int64\n",
      "결측치제거후 결측치 여부 False\n",
      "결측치 개수 id          0\n",
      "document    1\n",
      "label       0\n",
      "dtype: int64\n",
      "결측치제거후 결측치 여부 False\n"
     ]
    },
    {
     "name": "stderr",
     "output_type": "stream",
     "text": [
      "/tmp/ipykernel_3107/3168550979.py:36: FutureWarning: The default value of regex will change from True to False in a future version.\n",
      "  train_data['document'] = train_data['document'].str.replace(\"[' ']+\",\" \")\n",
      "/tmp/ipykernel_3107/3168550979.py:37: FutureWarning: The default value of regex will change from True to False in a future version.\n",
      "  train_data['document'] = train_data['document'].str.replace(\"\\.{2,30}\",\" \")\n",
      "/tmp/ipykernel_3107/3168550979.py:38: FutureWarning: The default value of regex will change from True to False in a future version.\n",
      "  train_data['document'] = train_data['document'].str.replace(\"[^ㄱ-힣0-9!?,.\\^+ ^\\s]\",\"\")  #한글전용형태소기인 경우 영어제외\n"
     ]
    },
    {
     "name": "stdout",
     "output_type": "stream",
     "text": [
      "한글과 공백,기타일부 등제외후 모두제거상태_train_data.head()          id                                           document  label\n",
      "0   9976970                                 아 더빙  진짜 짜증나네요 목소리      0\n",
      "1   3819312                       흠 포스터보고 초딩영화줄 오버연기조차 가볍지 않구나      1\n",
      "2  10265843                                  너무재밓었다그래서보는것을추천한다      0\n",
      "3   9045019                        교도소 이야기구먼  솔직히 재미는 없다 평점 조정      0\n",
      "4   6483659  사이몬페그의 익살스런 연기가 돋보였던 영화!스파이더맨에서 늙어보이기만 했던 커스틴 ...      1\n"
     ]
    },
    {
     "name": "stderr",
     "output_type": "stream",
     "text": [
      "/tmp/ipykernel_3107/3168550979.py:42: FutureWarning: The default value of regex will change from True to False in a future version.\n",
      "  test_data['document' ]= test_data['document'].str.replace(\"[' ']+\",\" \")\n",
      "/tmp/ipykernel_3107/3168550979.py:43: FutureWarning: The default value of regex will change from True to False in a future version.\n",
      "  test_data['document'] = test_data['document'].str.replace(\"\\.{2,30}\",\" \")\n",
      "/tmp/ipykernel_3107/3168550979.py:44: FutureWarning: The default value of regex will change from True to False in a future version.\n",
      "  test_data['document'] = test_data['document'].str.replace(\"[^ㄱ-힣0-9!?,.\\^+ ^\\s]\",\"\")  #한글전용형태소기인 경우 영어제외\n"
     ]
    },
    {
     "name": "stdout",
     "output_type": "stream",
     "text": [
      "한글과 공백,기타일부 등제외후 모두제거상태_test_data.head()         id                                        document  label\n",
      "0  6270596                                             굳 ㅋ      1\n",
      "1  9274899                                                      0\n",
      "2  8544678             뭐야 이 평점들은  나쁘진 않지만 10점 짜리는 더더욱 아니잖아      0\n",
      "3  6825595                     지루하지는 않은데 완전 막장임  돈주고 보기에는       0\n",
      "4  6723715  3만 아니었어도 별 다섯 개 줬을텐데  왜 3로 나와서 제 심기를 불편하게 하죠??      0\n",
      "Nan 존재유뮤 True\n",
      "Nan 존재유뮤 True\n",
      "X_train[:5] 0                                   아 더빙  진짜 짜증나네요 목소리\n",
      "1                         흠 포스터보고 초딩영화줄 오버연기조차 가볍지 않구나\n",
      "2                                    너무재밓었다그래서보는것을추천한다\n",
      "3                          교도소 이야기구먼  솔직히 재미는 없다 평점 조정\n",
      "4    사이몬페그의 익살스런 연기가 돋보였던 영화!스파이더맨에서 늙어보이기만 했던 커스틴 ...\n",
      "Name: document, dtype: object y_train[:5] [0 1 0 0 1] X_test[:5] 0                                               굳 ㅋ\n",
      "2               뭐야 이 평점들은  나쁘진 않지만 10점 짜리는 더더욱 아니잖아\n",
      "3                       지루하지는 않은데 완전 막장임  돈주고 보기에는 \n",
      "4    3만 아니었어도 별 다섯 개 줬을텐데  왜 3로 나와서 제 심기를 불편하게 하죠??\n",
      "5                                음악이 주가 된, 최고의 음악영화\n",
      "Name: document, dtype: object y_test[:5] [1 0 0 0 1]\n"
     ]
    }
   ],
   "source": [
    "## 데이터로더\n",
    "stopwords = ['의','가','이','은','들','는','좀','잘','걍','과','도','를','으로','자','에','와','한','하다']\n",
    "voca_size =10000\n",
    "\n",
    "def load_and_preprocess_data(train_data, test_data, voca_size = voca_size):\n",
    "    ## 중복값 제거:  'document'컬럼의 중복값 제거,'label'컬럼은 0,1의 두개면 맞음\n",
    "    #1. train_data\n",
    "    print(\"train_data['document'].nunique()\",train_data['document'].nunique())\n",
    "    if train_data['document'].nunique() < len(train_data):\n",
    "        train_data.drop_duplicates(subset=['document'], inplace=True) \n",
    "        print(\"train_data['label'].nunique()\",train_data['label'].nunique())    \n",
    "        print(\"중복제거후 len(train_data)\",len(train_data))    \n",
    "    #2. test_data    \n",
    "    print(\"test_data['document'].nunique()\",test_data['document'].nunique())\n",
    "    if test_data['document'].nunique() < len(test_data):\n",
    "        test_data.drop_duplicates(subset=['document'], inplace=True)\n",
    "        print(\"test_data['label'].nunique()\",test_data['label'].nunique())    \n",
    "        print(\"중복제거후 len(test_data)\",len(test_data))\n",
    "    \n",
    "    ## 결측치제거 : 1개라도 있으면, 해당행 전체 제거\n",
    "    #1. train_data\n",
    "    print(\"결측치 개수\",train_data.isnull().sum())\n",
    "    if train_data.isnull().any().any():\n",
    "        train_data.dropna(how='any',inplace=True)\n",
    "        print(\"결측치제거후 결측치 여부\",train_data.isnull().any().any())    \n",
    "    #2. test_data\n",
    "    print(\"결측치 개수\",test_data.isnull().sum())\n",
    "    if test_data.isnull().any().any():\n",
    "        test_data.dropna(how='any',inplace=True)\n",
    "        print(\"결측치제거후 결측치 여부\",test_data.isnull().any().any())\n",
    "    \n",
    "    ## 데이터 정제 \n",
    "    # 한글과 숫자,공백(한개이상 공백은 한개로 축소),특수문자일부 !?,.^을 제외하고 제거:[^ㄱ-힣a-zA-Z0-9!?,.^\\s]\n",
    "    # --> 한글형태소기를 tokenizer로 쓸 경우에는 영어및 일부선택된 특수문자외에는 모두제거(..., - - 등도 제거)\n",
    "    #1. train_data\n",
    "    train_data['document'] = train_data['document'].str.replace(\"[' ']+\",\" \")\n",
    "    train_data['document'] = train_data['document'].str.replace(\"\\.{2,30}\",\" \") \n",
    "    train_data['document'] = train_data['document'].str.replace(\"[^ㄱ-힣0-9!?,.\\^+ ^\\s]\",\"\")  #한글전용형태소기인 경우 영어제외\n",
    "    #train_data['document'] = train_data['document'].str.replace(\"[^ㄱ-힣a-zA-Z0-9!?,.^\\s]\",\"\")  #한글영어병행형태소기인경우 영어포함                                                         \n",
    "    print(\"한글과 공백,기타일부 등제외후 모두제거상태_train_data.head()\",train_data.head())\n",
    "    #2. test_data\n",
    "    test_data['document' ]= test_data['document'].str.replace(\"[' ']+\",\" \")\n",
    "    test_data['document'] = test_data['document'].str.replace(\"\\.{2,30}\",\" \") \n",
    "    test_data['document'] = test_data['document'].str.replace(\"[^ㄱ-힣0-9!?,.\\^+ ^\\s]\",\"\")  #한글전용형태소기인 경우 영어제외\n",
    "    #test_data['document'] = test_data['document'].str.replace(\"[^ㄱ-힣a-zA-Z0-9!?,.^\\s]\",\"\")  #한글영어병행형태소기인경우 영어포함                                                            \n",
    "    print(\"한글과 공백,기타일부 등제외후 모두제거상태_test_data.head()\",test_data.head())\n",
    "    # 데이터 정제후 빈 공백만 있는 문장의 경우 제거:  Nan 입력후 행제거\n",
    "    #1. train_data\n",
    "    train_data['document'].replace('', np.nan, inplace=True)\n",
    "    print(\"Nan 존재유뮤\",train_data.isnull().any().any() )\n",
    "    if train_data.isnull().any().any():\n",
    "        train_data.dropna(how='any',inplace=True)\n",
    "    #2. test_data   \n",
    "    test_data['document'].replace('', np.nan, inplace=True)\n",
    "    print(\"Nan 존재유뮤\",test_data.isnull().any().any() )\n",
    "    if test_data.isnull().any().any():\n",
    "        test_data.dropna(how='any',inplace=True)\n",
    "    \n",
    "    # X_train , y_train, X_test, y_test    \n",
    "    X_train = train_data['document']\n",
    "    y_train = np.array(train_data['label'].tolist())\n",
    "    X_test = test_data['document']\n",
    "    y_test = np.array(test_data['label'].tolist())\n",
    "    \n",
    "    return X_train, y_train, X_test, y_test\n",
    "    \n",
    "        \n",
    "X_train, y_train, X_test, y_test = load_and_preprocess_data(train_data, test_data)\n",
    "\n",
    "# 전처리된 데이터 확인(불용어처리는 않되었슴, 형태소분석후 해야하는데, sentencepiece는 학습중에\n",
    "# --> 처리될수도 있으나, 확실치 않으니, 결과를 반드시 확인해야함, 형태소분석을 해야하는 한국어인데,\n",
    "# sentencepiece에서는 않해도 되는지 확인필요)\n",
    "print(\"X_train[:5]\",X_train[:5],\"y_train[:5]\",y_train[:5],\"X_test[:5]\",X_test[:5],\"y_test[:5]\",y_test[:5])\n",
    "\n"
   ]
  },
  {
   "cell_type": "code",
   "execution_count": 5,
   "id": "37f29dc0",
   "metadata": {},
   "outputs": [
    {
     "name": "stdout",
     "output_type": "stream",
     "text": [
      "X_train.shape (146026,) y_train.shape (146026,) X_test.shape (49084,) y_test.shape (49084,)\n"
     ]
    }
   ],
   "source": [
    "print(\"X_train.shape\",X_train.shape,\"y_train.shape\",y_train.shape,\"X_test.shape\",X_test.shape,\"y_test.shape\",y_test.shape)"
   ]
  },
  {
   "cell_type": "markdown",
   "id": "8be65497",
   "metadata": {},
   "source": [
    "**[체크필요]: 위에서 불용어처리는 않되었슴**\n",
    "형태소분석후 해야하는데, Sentencepiece는 학습중에 처리될수도 있으나, 확실치 않으니, 결과를 반드시 확인해야함, 형태소분석을 해야하는 한국어인데,\n",
    "Sentencepiece에서는 않해도 되는지 확인필요"
   ]
  },
  {
   "cell_type": "markdown",
   "id": "7329be85",
   "metadata": {},
   "source": [
    "#### (2) Sentencepiece 로 1차 Tokenizing\n",
    "* **maxlen 지정전 train data 로 1차 Tokenizing 학습**"
   ]
  },
  {
   "cell_type": "code",
   "execution_count": 9,
   "id": "eef68793",
   "metadata": {},
   "outputs": [
    {
     "name": "stdout",
     "output_type": "stream",
     "text": [
      "/aiffel/aiffel/sp_tokenizer/data/NaverMovie_trainCorpus_temp_unigram.txt\n"
     ]
    },
    {
     "name": "stderr",
     "output_type": "stream",
     "text": [
      "sentencepiece_trainer.cc(177) LOG(INFO) Running command: --input=/aiffel/aiffel/sp_tokenizer/data/NaverMovie_trainCorpus_temp_unigram.txt --model_prefix=korean_spm_unigram --vocab_size=10000 --model_type=unigram\n",
      "sentencepiece_trainer.cc(77) LOG(INFO) Starts training with : \n",
      "trainer_spec {\n",
      "  input: /aiffel/aiffel/sp_tokenizer/data/NaverMovie_trainCorpus_temp_unigram.txt\n",
      "  input_format: \n",
      "  model_prefix: korean_spm_unigram\n",
      "  model_type: UNIGRAM\n",
      "  vocab_size: 10000\n",
      "  self_test_sample_size: 0\n",
      "  character_coverage: 0.9995\n",
      "  input_sentence_size: 0\n",
      "  shuffle_input_sentence: 1\n",
      "  seed_sentencepiece_size: 1000000\n",
      "  shrinking_factor: 0.75\n",
      "  max_sentence_length: 4192\n",
      "  num_threads: 16\n",
      "  num_sub_iterations: 2\n",
      "  max_sentencepiece_length: 16\n",
      "  split_by_unicode_script: 1\n",
      "  split_by_number: 1\n",
      "  split_by_whitespace: 1\n",
      "  split_digits: 0\n",
      "  treat_whitespace_as_suffix: 0\n",
      "  allow_whitespace_only_pieces: 0\n",
      "  required_chars: \n",
      "  byte_fallback: 0\n",
      "  vocabulary_output_piece_score: 1\n",
      "  train_extremely_large_corpus: 0\n",
      "  hard_vocab_limit: 1\n",
      "  use_all_vocab: 0\n",
      "  unk_id: 0\n",
      "  bos_id: 1\n",
      "  eos_id: 2\n",
      "  pad_id: -1\n",
      "  unk_piece: <unk>\n",
      "  bos_piece: <s>\n",
      "  eos_piece: </s>\n",
      "  pad_piece: <pad>\n",
      "  unk_surface:  ⁇ \n",
      "}\n",
      "normalizer_spec {\n",
      "  name: nmt_nfkc\n",
      "  add_dummy_prefix: 1\n",
      "  remove_extra_whitespaces: 1\n",
      "  escape_whitespaces: 1\n",
      "  normalization_rule_tsv: \n",
      "}\n",
      "denormalizer_spec {}\n",
      "trainer_interface.cc(329) LOG(INFO) SentenceIterator is not specified. Using MultiFileSentenceIterator.\n",
      "trainer_interface.cc(178) LOG(INFO) Loading corpus: /aiffel/aiffel/sp_tokenizer/data/NaverMovie_trainCorpus_temp_unigram.txt\n",
      "trainer_interface.cc(385) LOG(INFO) Loaded all 146026 sentences\n",
      "trainer_interface.cc(400) LOG(INFO) Adding meta_piece: <unk>\n",
      "trainer_interface.cc(400) LOG(INFO) Adding meta_piece: <s>\n",
      "trainer_interface.cc(400) LOG(INFO) Adding meta_piece: </s>\n",
      "trainer_interface.cc(405) LOG(INFO) Normalizing sentences...\n",
      "trainer_interface.cc(466) LOG(INFO) all chars count=5166028\n",
      "trainer_interface.cc(477) LOG(INFO) Done: 99.95% characters are covered.\n",
      "trainer_interface.cc(487) LOG(INFO) Alphabet size=1594\n",
      "trainer_interface.cc(488) LOG(INFO) Final character coverage=0.9995\n",
      "trainer_interface.cc(520) LOG(INFO) Done! preprocessed 145796 sentences.\n",
      "unigram_model_trainer.cc(139) LOG(INFO) Making suffix array...\n",
      "unigram_model_trainer.cc(143) LOG(INFO) Extracting frequent sub strings...\n",
      "unigram_model_trainer.cc(194) LOG(INFO) Initialized 302406 seed sentencepieces\n",
      "trainer_interface.cc(526) LOG(INFO) Tokenizing input sentences with whitespace: 145796\n",
      "trainer_interface.cc(537) LOG(INFO) Done! 322084\n",
      "unigram_model_trainer.cc(489) LOG(INFO) Using 322084 sentences for EM training\n",
      "unigram_model_trainer.cc(505) LOG(INFO) EM sub_iter=0 size=150911 obj=14.612 num_tokens=708856 num_tokens/piece=4.69718\n",
      "unigram_model_trainer.cc(505) LOG(INFO) EM sub_iter=1 size=139117 obj=13.5324 num_tokens=712704 num_tokens/piece=5.12305\n",
      "unigram_model_trainer.cc(505) LOG(INFO) EM sub_iter=0 size=104284 obj=13.6202 num_tokens=744606 num_tokens/piece=7.14017\n",
      "unigram_model_trainer.cc(505) LOG(INFO) EM sub_iter=1 size=104088 obj=13.5677 num_tokens=745016 num_tokens/piece=7.15756\n",
      "unigram_model_trainer.cc(505) LOG(INFO) EM sub_iter=0 size=78064 obj=13.7881 num_tokens=785648 num_tokens/piece=10.0642\n",
      "unigram_model_trainer.cc(505) LOG(INFO) EM sub_iter=1 size=78056 obj=13.7301 num_tokens=785734 num_tokens/piece=10.0663\n",
      "unigram_model_trainer.cc(505) LOG(INFO) EM sub_iter=0 size=58542 obj=13.9717 num_tokens=824060 num_tokens/piece=14.0764\n",
      "unigram_model_trainer.cc(505) LOG(INFO) EM sub_iter=1 size=58540 obj=13.9161 num_tokens=824143 num_tokens/piece=14.0783\n",
      "unigram_model_trainer.cc(505) LOG(INFO) EM sub_iter=0 size=43905 obj=14.1877 num_tokens=865222 num_tokens/piece=19.7067\n",
      "unigram_model_trainer.cc(505) LOG(INFO) EM sub_iter=1 size=43905 obj=14.1268 num_tokens=865267 num_tokens/piece=19.7077\n",
      "unigram_model_trainer.cc(505) LOG(INFO) EM sub_iter=0 size=32928 obj=14.4281 num_tokens=906667 num_tokens/piece=27.5348\n",
      "unigram_model_trainer.cc(505) LOG(INFO) EM sub_iter=1 size=32928 obj=14.3654 num_tokens=906718 num_tokens/piece=27.5364\n",
      "unigram_model_trainer.cc(505) LOG(INFO) EM sub_iter=0 size=24696 obj=14.7011 num_tokens=949995 num_tokens/piece=38.4676\n",
      "unigram_model_trainer.cc(505) LOG(INFO) EM sub_iter=1 size=24696 obj=14.6321 num_tokens=950018 num_tokens/piece=38.4685\n",
      "unigram_model_trainer.cc(505) LOG(INFO) EM sub_iter=0 size=18522 obj=14.9987 num_tokens=995140 num_tokens/piece=53.7275\n",
      "unigram_model_trainer.cc(505) LOG(INFO) EM sub_iter=1 size=18522 obj=14.9219 num_tokens=995221 num_tokens/piece=53.7318\n",
      "unigram_model_trainer.cc(505) LOG(INFO) EM sub_iter=0 size=13891 obj=15.3212 num_tokens=1042501 num_tokens/piece=75.0487\n",
      "unigram_model_trainer.cc(505) LOG(INFO) EM sub_iter=1 size=13891 obj=15.2335 num_tokens=1042606 num_tokens/piece=75.0562\n",
      "unigram_model_trainer.cc(505) LOG(INFO) EM sub_iter=0 size=11000 obj=15.5872 num_tokens=1083537 num_tokens/piece=98.5034\n",
      "unigram_model_trainer.cc(505) LOG(INFO) EM sub_iter=1 size=11000 obj=15.5019 num_tokens=1083546 num_tokens/piece=98.5042\n",
      "trainer_interface.cc(615) LOG(INFO) Saving model: korean_spm_unigram.model\n",
      "trainer_interface.cc(626) LOG(INFO) Saving vocabs: korean_spm_unigram.vocab\n"
     ]
    },
    {
     "name": "stdout",
     "output_type": "stream",
     "text": [
      "-rw-r--r-- 1 root root 416992 Feb 18 00:55 korean_spm_bpe.model\r\n",
      "-rw-r--r-- 1 root root 409870 Feb 18 00:38 korean_spm_bpe_new.model\r\n",
      "-rw-r--r-- 1 root root 151059 Feb 18 00:38 korean_spm_bpe_new.vocab\r\n",
      "-rw-r--r-- 1 root root 188138 Feb 18 00:55 korean_spm_bpe.vocab\r\n",
      "-rw-r--r-- 1 root root 416996 Feb 18 00:58 korean_spm_unigram.model\r\n",
      "-rw-r--r-- 1 root root 188138 Feb 18 00:58 korean_spm_unigram.vocab\r\n"
     ]
    }
   ],
   "source": [
    "import sentencepiece as spm\n",
    "import os\n",
    "\n",
    "temp_file = os.getenv('HOME')+'/aiffel/sp_tokenizer/data/NaverMovie_trainCorpus_temp_unigram.txt'\n",
    "print(temp_file)\n",
    "\n",
    "vocab_size = 10000\n",
    "\n",
    "with open(temp_file, 'w') as f:\n",
    "    for row in X_train: \n",
    "        f.write(str(row) + '\\n')\n",
    "\n",
    "## SentencePieceTrainer 실행: 1차 실행 (maxlen인자 없이)\n",
    "spm.SentencePieceTrainer.Train(\n",
    "    '--input={} --model_prefix=korean_spm_unigram --vocab_size={} --model_type=unigram'.format(temp_file, vocab_size)   \n",
    ")\n",
    "#위 Train에서  --model_type = unigram이 디폴트 적용되어 있습니다. --model_type = bpe로 옵션을 주어 변경할 수 있습니다.\n",
    "\n",
    "!ls -l korean_spm*"
   ]
  },
  {
   "cell_type": "code",
   "execution_count": 10,
   "id": "075649ea",
   "metadata": {},
   "outputs": [
    {
     "data": {
      "text/plain": [
       "'\\ninput : 학습시킬 파일\\nmodel_prefix : 만들어질 모델 이름\\nvocab_size : 단어 집합의 크기\\nmodel_type : 사용할 모델 (unigram(default), bpe, char, word)\\nmax_sentence_length: 문장의 최대 길이\\npad_id, pad_piece: pad token id, 값\\nunk_id, unk_piece: unknown token id, 값\\nbos_id, bos_piece: begin of sentence token id, 값\\neos_id, eos_piece: end of sequence token id, 값\\nuser_defined_symbols: 사용자 정의 토큰\\n'"
      ]
     },
     "execution_count": 10,
     "metadata": {},
     "output_type": "execute_result"
    }
   ],
   "source": [
    "\"\"\"\n",
    "input : 학습시킬 파일\n",
    "model_prefix : 만들어질 모델 이름\n",
    "vocab_size : 단어 집합의 크기\n",
    "model_type : 사용할 모델 (unigram(default), bpe, char, word)\n",
    "max_sentence_length: 문장의 최대 길이\n",
    "pad_id, pad_piece: pad token id, 값\n",
    "unk_id, unk_piece: unknown token id, 값\n",
    "bos_id, bos_piece: begin of sentence token id, 값\n",
    "eos_id, eos_piece: end of sequence token id, 값\n",
    "user_defined_symbols: 사용자 정의 토큰\n",
    "\"\"\""
   ]
  },
  {
   "cell_type": "code",
   "execution_count": 11,
   "id": "b924b43b",
   "metadata": {},
   "outputs": [
    {
     "name": "stdout",
     "output_type": "stream",
     "text": [
      "[1184, 9, 486, 13, 1277, 9, 150, 16, 4]\n",
      "['▁아버지', '가', '방', '에', '들어', '가', '신', '다', '.']\n",
      "아버지가방에들어가신다.\n"
     ]
    }
   ],
   "source": [
    "s = spm.SentencePieceProcessor()\n",
    "s.Load('korean_spm_unigram.model')\n",
    "\n",
    "# SentencePiece를 활용한 sentence -> encoding\n",
    "tokensIDs = s.EncodeAsIds('아버지가방에들어가신다.')\n",
    "print(tokensIDs)\n",
    "\n",
    "# SentencePiece를 활용한 sentence -> encoded pieces\n",
    "print(s.SampleEncodeAsPieces('아버지가방에들어가신다.',1, 0.0))\n",
    "\n",
    "# SentencePiece를 활용한 encoding -> sentence 복원\n",
    "print(s.DecodeIds(tokensIDs))"
   ]
  },
  {
   "cell_type": "markdown",
   "id": "2ed6efa6",
   "metadata": {},
   "source": [
    "* **sp_tokenize_noPadding 함수 생성**"
   ]
  },
  {
   "cell_type": "code",
   "execution_count": 12,
   "id": "3ac9a7ef",
   "metadata": {},
   "outputs": [],
   "source": [
    "def sp_tokenize_noPadding(s, corpus):\n",
    "\n",
    "    tensor = []\n",
    "\n",
    "    for sen in corpus:\n",
    "        tensor.append(s.EncodeAsIds(sen))\n",
    "\n",
    "    with open(\"./korean_spm_unigram.vocab\", 'r') as f:\n",
    "        vocab = f.readlines()\n",
    "\n",
    "    word_index = {}\n",
    "    index_word = {}\n",
    "\n",
    "    for idx, line in enumerate(vocab):\n",
    "        word = line.split(\"\\t\")[0]\n",
    "\n",
    "        word_index.update({word:idx})\n",
    "        index_word.update({idx:word})\n",
    "\n",
    "    return tensor, word_index, index_word"
   ]
  },
  {
   "cell_type": "code",
   "execution_count": 13,
   "id": "561a4118",
   "metadata": {},
   "outputs": [
    {
     "name": "stdout",
     "output_type": "stream",
     "text": [
      "[[488, 3072, 12, 1028, 2471, 4], [1199, 2168, 184, 601, 9, 3, 14, 9937, 1070, 4, 4, 4]]\n"
     ]
    }
   ],
   "source": [
    "#sp_tokenize(s, corpus) 사용예제\n",
    "\n",
    "my_corpus = ['나는 밥을 먹었습니다.', '그러나 여전히 ㅠㅠ 배가 고픕니다...']\n",
    "tensor, word_index, index_word = sp_tokenize_noPadding(s, my_corpus)\n",
    "print(tensor)"
   ]
  },
  {
   "cell_type": "markdown",
   "id": "16d7ce14",
   "metadata": {},
   "source": [
    "* **1차 학습된 spm으로 sp_tokenize함수를 통해 X_train,  X_test 각각 토크나이징**"
   ]
  },
  {
   "cell_type": "code",
   "execution_count": 14,
   "id": "f40421d2",
   "metadata": {},
   "outputs": [
    {
     "name": "stdout",
     "output_type": "stream",
     "text": [
      "X_train_tensor[:10] [[54, 915, 27, 1869, 62, 1593], [1444, 951, 153, 1370, 31, 322, 2549, 419, 1172, 7391, 725, 421], [19, 396, 9797, 403, 6390, 135, 6284, 1789, 306], [2100, 8, 233, 217, 7073, 288, 1084, 106, 71, 7901], [2036, 5779, 2161, 198, 7, 3, 1519, 328, 2117, 433, 3712, 1788, 6, 22, 73, 442, 5, 254, 1010, 53, 6356, 2047, 1119, 2358, 2746, 6460, 3, 144, 770, 9, 1939, 3, 3736, 135, 652], [642, 540, 81, 169, 3, 0, 126, 174, 281, 5449, 47, 4016, 384, 38, 476, 328, 215, 31, 4, 279, 6245, 8, 1392, 4], [3511, 6528, 473, 3385, 226, 18, 527, 195, 4], [221, 3635, 218, 7208, 24, 2403, 391, 976, 215, 132, 72, 4092, 5, 4790, 170, 305, 23, 3067, 684, 2731, 853, 2488, 4064, 7939, 4, 282, 758, 25, 491, 1257, 491, 1257, 4868, 10, 927, 8, 520, 72, 4784, 716, 25, 304, 3061, 43], [1960, 3344, 8, 185, 108, 9392, 6], [3189, 152, 1526, 1238, 17, 903, 8101, 2625, 289, 8841, 5570, 19, 976, 57, 127, 603, 2675, 17]]\n",
      "X_test_tensor[:10] [[2465, 219], [1124, 24, 71, 417, 8261, 3077, 66, 36, 6811, 10, 7707, 6436], [1833, 10, 5821, 99, 501, 114, 1466, 4466], [126, 25, 230, 3521, 8, 221, 4905, 121, 4004, 1943, 44, 126, 26, 1133, 312, 651, 1011, 2578, 86, 3, 7669, 192], [2279, 213, 9, 654, 11, 102, 509, 31], [1024, 90], [1852, 629, 2019, 53, 8531, 2209, 1061, 1683, 7, 690, 267, 3111, 331, 63, 38, 5747, 11, 14, 172, 20, 7174, 29, 306], [875, 3266, 487, 9, 10, 7250, 1791, 292, 1188, 6852, 857, 16, 7551, 3634, 7267, 13, 1468, 245, 232, 54, 4436, 658, 87, 40, 1865, 225, 96, 93, 126, 352, 56, 352, 311, 88], [6189, 7, 2745, 6807, 994, 2011, 1222, 7335, 7, 228, 9986, 3, 11, 402, 679, 3812, 10, 725, 43], [6804, 173, 2090, 25, 595, 6342, 5779, 2382, 896, 9570, 242]]\n"
     ]
    }
   ],
   "source": [
    "# X_train, y_train, X_test, y_test\n",
    "\n",
    "# Tokenizing: X_train \n",
    "X_train_tensor, X_train_word_index, X_train_index_word = sp_tokenize_noPadding(s, X_train)\n",
    "print(\"X_train_tensor[:10]\",X_train_tensor[:10])\n",
    "\n",
    "# Tokenizing: X_test \n",
    "X_test_tensor, X_test_word_index, X_test_index_word = sp_tokenize_noPadding(s, X_test)\n",
    "print(\"X_test_tensor[:10]\",X_test_tensor[:10])"
   ]
  },
  {
   "cell_type": "markdown",
   "id": "4fe1f555",
   "metadata": {},
   "source": [
    "#### (3) 적절한 최대 문장 길이 지정: (평균 + 표준편차*2)이내: maxlen 42 개**"
   ]
  },
  {
   "cell_type": "code",
   "execution_count": 15,
   "id": "9076fff6",
   "metadata": {},
   "outputs": [
    {
     "name": "stdout",
     "output_type": "stream",
     "text": [
      "문장길이평균: 15.63\n",
      "문장길이표준편차: 13.67\n",
      "문장길이Max: 115\n",
      "문장길이Min: 0\n",
      "문장길이 0개수: 308\n",
      "['sans-serif']\n"
     ]
    },
    {
     "data": {
      "image/png": "[encoded data removed]",
      "text/plain": [
       "<Figure size 432x288 with 1 Axes>"
      ]
     },
     "metadata": {
      "needs_background": "light"
     },
     "output_type": "display_data"
    },
    {
     "data": {
      "image/png": "[encoded data removed]",
      "text/plain": [
       "<Figure size 432x288 with 1 Axes>"
      ]
     },
     "metadata": {
      "needs_background": "light"
     },
     "output_type": "display_data"
    },
    {
     "name": "stdout",
     "output_type": "stream",
     "text": [
      "maxlen 42\n"
     ]
    }
   ],
   "source": [
    "## 데이터셋 내 문장 길이 분포\n",
    "total_data_text = list(X_train_tensor) + list(X_test_tensor)\n",
    "total_data_text_dist = [len(x) for x in total_data_text]\n",
    "#print(total_data_text_dist)\n",
    "\n",
    "mean = round(np.mean(total_data_text_dist),2)\n",
    "std = round(np.std(total_data_text_dist),2)\n",
    "max = np.max(total_data_text_dist)\n",
    "min = np.min(total_data_text_dist)\n",
    "min_count = len([x for x in total_data_text_dist if x == 0])\n",
    "print(\"문장길이평균:\",mean)\n",
    "print(\"문장길이표준편차:\",std)\n",
    "print(\"문장길이Max:\",max)\n",
    "print(\"문장길이Min:\",min)\n",
    "print(\"문장길이 0개수:\", min_count)\n",
    "\n",
    "# 히스토그램 시각화: total_data\n",
    "print(plt.rcParams['font.family'])\n",
    "plt.rc('font',family='NanumGothic')\n",
    "plt.hist(total_data_text_dist, bins = 20)\n",
    "plt.xlabel('한문장당 길이')\n",
    "plt.ylabel('데이터 개수')\n",
    "plt.show()\n",
    "\n",
    "# 박스플롯: total_data\n",
    "plt.boxplot(total_data_text_dist)\n",
    "plt.show()\n",
    "\n",
    "## 적절한 최대 문장 길이 지정: (평균 + 표준편차*2)\n",
    "maxlen = int(mean + 2*std)\n",
    "print(\"maxlen\", maxlen)"
   ]
  },
  {
   "cell_type": "markdown",
   "id": "ad16d6aa",
   "metadata": {},
   "source": [
    "#### (4) Sentencepiece 로  최종 Tokenizing\n",
    "* **maxlen 지정후 train data 로 최종 Tokenizing 학습** "
   ]
  },
  {
   "cell_type": "code",
   "execution_count": 16,
   "id": "086a124e",
   "metadata": {},
   "outputs": [
    {
     "name": "stdout",
     "output_type": "stream",
     "text": [
      "/aiffel/aiffel/sp_tokenizer/data/NaverMovie_trainCorpus_temp_unigram_new.txt\n"
     ]
    },
    {
     "name": "stderr",
     "output_type": "stream",
     "text": [
      "sentencepiece_trainer.cc(177) LOG(INFO) Running command: --input=/aiffel/aiffel/sp_tokenizer/data/NaverMovie_trainCorpus_temp_unigram_new.txt --model_prefix=korean_spm_unigram_new --vocab_size=10000 --max_sentence_length=42 --model_type=unigram\n",
      "sentencepiece_trainer.cc(77) LOG(INFO) Starts training with : \n",
      "trainer_spec {\n",
      "  input: /aiffel/aiffel/sp_tokenizer/data/NaverMovie_trainCorpus_temp_unigram_new.txt\n",
      "  input_format: \n",
      "  model_prefix: korean_spm_unigram_new\n",
      "  model_type: UNIGRAM\n",
      "  vocab_size: 10000\n",
      "  self_test_sample_size: 0\n",
      "  character_coverage: 0.9995\n",
      "  input_sentence_size: 0\n",
      "  shuffle_input_sentence: 1\n",
      "  seed_sentencepiece_size: 1000000\n",
      "  shrinking_factor: 0.75\n",
      "  max_sentence_length: 42\n",
      "  num_threads: 16\n",
      "  num_sub_iterations: 2\n",
      "  max_sentencepiece_length: 16\n",
      "  split_by_unicode_script: 1\n",
      "  split_by_number: 1\n",
      "  split_by_whitespace: 1\n",
      "  split_digits: 0\n",
      "  treat_whitespace_as_suffix: 0\n",
      "  allow_whitespace_only_pieces: 0\n",
      "  required_chars: \n",
      "  byte_fallback: 0\n",
      "  vocabulary_output_piece_score: 1\n",
      "  train_extremely_large_corpus: 0\n",
      "  hard_vocab_limit: 1\n",
      "  use_all_vocab: 0\n",
      "  unk_id: 0\n",
      "  bos_id: 1\n",
      "  eos_id: 2\n",
      "  pad_id: -1\n",
      "  unk_piece: <unk>\n",
      "  bos_piece: <s>\n",
      "  eos_piece: </s>\n",
      "  pad_piece: <pad>\n",
      "  unk_surface:  ⁇ \n",
      "}\n",
      "normalizer_spec {\n",
      "  name: nmt_nfkc\n",
      "  add_dummy_prefix: 1\n",
      "  remove_extra_whitespaces: 1\n",
      "  escape_whitespaces: 1\n",
      "  normalization_rule_tsv: \n",
      "}\n",
      "denormalizer_spec {}\n",
      "trainer_interface.cc(329) LOG(INFO) SentenceIterator is not specified. Using MultiFileSentenceIterator.\n",
      "trainer_interface.cc(178) LOG(INFO) Loading corpus: /aiffel/aiffel/sp_tokenizer/data/NaverMovie_trainCorpus_temp_unigram_new.txt\n",
      "trainer_interface.cc(356) LOG(WARNING) Found too long line (44 > 42).\n",
      "trainer_interface.cc(358) LOG(WARNING) Too long lines are skipped in the training.\n",
      "trainer_interface.cc(359) LOG(WARNING) The maximum length can be changed with --max_sentence_length=<size> flag.\n",
      "trainer_interface.cc(385) LOG(INFO) Loaded all 41199 sentences\n",
      "trainer_interface.cc(391) LOG(INFO) Skipped 104827 too long sentences.\n",
      "trainer_interface.cc(400) LOG(INFO) Adding meta_piece: <unk>\n",
      "trainer_interface.cc(400) LOG(INFO) Adding meta_piece: <s>\n",
      "trainer_interface.cc(400) LOG(INFO) Adding meta_piece: </s>\n",
      "trainer_interface.cc(405) LOG(INFO) Normalizing sentences...\n",
      "trainer_interface.cc(466) LOG(INFO) all chars count=492239\n",
      "trainer_interface.cc(477) LOG(INFO) Done: 99.95% characters are covered.\n",
      "trainer_interface.cc(487) LOG(INFO) Alphabet size=1687\n",
      "trainer_interface.cc(488) LOG(INFO) Final character coverage=0.9995\n",
      "trainer_interface.cc(520) LOG(INFO) Done! preprocessed 40969 sentences.\n",
      "unigram_model_trainer.cc(139) LOG(INFO) Making suffix array...\n",
      "unigram_model_trainer.cc(143) LOG(INFO) Extracting frequent sub strings...\n",
      "unigram_model_trainer.cc(194) LOG(INFO) Initialized 43731 seed sentencepieces\n",
      "trainer_interface.cc(526) LOG(INFO) Tokenizing input sentences with whitespace: 40969\n",
      "trainer_interface.cc(537) LOG(INFO) Done! 45504\n",
      "unigram_model_trainer.cc(489) LOG(INFO) Using 45504 sentences for EM training\n",
      "unigram_model_trainer.cc(505) LOG(INFO) EM sub_iter=0 size=24575 obj=14.136 num_tokens=100162 num_tokens/piece=4.07577\n",
      "unigram_model_trainer.cc(505) LOG(INFO) EM sub_iter=1 size=23113 obj=13.2108 num_tokens=100525 num_tokens/piece=4.34928\n",
      "unigram_model_trainer.cc(505) LOG(INFO) EM sub_iter=0 size=17332 obj=13.4908 num_tokens=106552 num_tokens/piece=6.1477\n",
      "unigram_model_trainer.cc(505) LOG(INFO) EM sub_iter=1 size=17316 obj=13.4071 num_tokens=106606 num_tokens/piece=6.1565\n",
      "unigram_model_trainer.cc(505) LOG(INFO) EM sub_iter=0 size=12986 obj=13.8368 num_tokens=114569 num_tokens/piece=8.8225\n",
      "unigram_model_trainer.cc(505) LOG(INFO) EM sub_iter=1 size=12986 obj=13.7197 num_tokens=114609 num_tokens/piece=8.82558\n",
      "unigram_model_trainer.cc(505) LOG(INFO) EM sub_iter=0 size=11000 obj=13.9628 num_tokens=118891 num_tokens/piece=10.8083\n",
      "unigram_model_trainer.cc(505) LOG(INFO) EM sub_iter=1 size=11000 obj=13.9052 num_tokens=118907 num_tokens/piece=10.8097\n",
      "trainer_interface.cc(615) LOG(INFO) Saving model: korean_spm_unigram_new.model\n",
      "trainer_interface.cc(626) LOG(INFO) Saving vocabs: korean_spm_unigram_new.vocab\n"
     ]
    },
    {
     "name": "stdout",
     "output_type": "stream",
     "text": [
      "-rw-r--r-- 1 root root 416992 Feb 18 00:55 korean_spm_bpe.model\r\n",
      "-rw-r--r-- 1 root root 409870 Feb 18 00:38 korean_spm_bpe_new.model\r\n",
      "-rw-r--r-- 1 root root 151059 Feb 18 00:38 korean_spm_bpe_new.vocab\r\n",
      "-rw-r--r-- 1 root root 188138 Feb 18 00:55 korean_spm_bpe.vocab\r\n",
      "-rw-r--r-- 1 root root 416996 Feb 18 00:58 korean_spm_unigram.model\r\n",
      "-rw-r--r-- 1 root root 420291 Feb 18 01:00 korean_spm_unigram_new.model\r\n",
      "-rw-r--r-- 1 root root 191454 Feb 18 01:00 korean_spm_unigram_new.vocab\r\n",
      "-rw-r--r-- 1 root root 188138 Feb 18 00:58 korean_spm_unigram.vocab\r\n"
     ]
    }
   ],
   "source": [
    "import sentencepiece as spm\n",
    "\n",
    "temp_file = os.getenv('HOME')+'/aiffel/sp_tokenizer/data/NaverMovie_trainCorpus_temp_unigram_new.txt'\n",
    "print(temp_file)\n",
    "\n",
    "vocab_size = 10000\n",
    "\n",
    "with open(temp_file, 'w') as f:\n",
    "    for row in X_train: \n",
    "        f.write(str(row) + '\\n')\n",
    "\n",
    "## SentencePieceTrainer 실행: 1차 실행 (maxlen인자 없이)\n",
    "spm.SentencePieceTrainer.Train(\n",
    "    '--input={} --model_prefix=korean_spm_unigram_new --vocab_size={} --max_sentence_length={} --model_type=unigram'.format(\n",
    "        temp_file, vocab_size, maxlen)   \n",
    ")\n",
    "#위 Train에서  --model_type = unigram이 디폴트 적용되어 있습니다. --model_type = bpe로 옵션을 주어 변경할 수 있습니다.\n",
    "\n",
    "!ls -l korean_spm*"
   ]
  },
  {
   "cell_type": "markdown",
   "id": "cb35be82",
   "metadata": {},
   "source": [
    "* **sp_tokenize_withPadding 함수 생성**"
   ]
  },
  {
   "cell_type": "code",
   "execution_count": 17,
   "id": "a177aeba",
   "metadata": {},
   "outputs": [],
   "source": [
    "def sp_tokenize_withPadding(s, corpus, maxlen):\n",
    "\n",
    "    tensor = []\n",
    "\n",
    "    for sen in corpus:\n",
    "        tensor.append(s.EncodeAsIds(sen))\n",
    "\n",
    "    with open(\"./korean_spm_unigram_new.vocab\", 'r') as f:\n",
    "        vocab = f.readlines()\n",
    "\n",
    "    word_index = {}\n",
    "    index_word = {}\n",
    "\n",
    "    for idx, line in enumerate(vocab):\n",
    "        word = line.split(\"\\t\")[0]\n",
    "\n",
    "        word_index.update({word:idx})\n",
    "        index_word.update({idx:word})\n",
    "\n",
    "    tensor = tf.keras.preprocessing.sequence.pad_sequences(tensor,maxlen= maxlen, padding='post')\n",
    "\n",
    "    return tensor, word_index, index_word"
   ]
  },
  {
   "cell_type": "code",
   "execution_count": 18,
   "id": "e53fc3d1",
   "metadata": {},
   "outputs": [
    {
     "data": {
      "text/plain": [
       "True"
      ]
     },
     "execution_count": 18,
     "metadata": {},
     "output_type": "execute_result"
    }
   ],
   "source": [
    "## 새롭게 학습한 모델로 s객체 변경:및 new 모델로드  SentencePieceProcessor()\n",
    "s = spm.SentencePieceProcessor()\n",
    "s.Load('korean_spm_unigram_new.model')"
   ]
  },
  {
   "cell_type": "markdown",
   "id": "98a8f14e",
   "metadata": {},
   "source": [
    "* **최종 학습된 spm으로 sp_tokenize함수를 통해 X_train,  X_test 각각 토크나이징**"
   ]
  },
  {
   "cell_type": "code",
   "execution_count": 19,
   "id": "64e45972",
   "metadata": {},
   "outputs": [
    {
     "name": "stdout",
     "output_type": "stream",
     "text": [
      "X_train_tensor[:10] [[  26  869   15 1294   96 2046    0    0    0    0    0    0    0    0\n",
      "     0    0    0    0    0    0    0    0    0    0    0    0    0    0\n",
      "     0    0    0    0    0    0    0    0    0    0    0    0    0    0]\n",
      " [ 379  623  307  998   27  484 3198  579 1595  188 9971   22  941  311\n",
      "     0    0    0    0    0    0    0    0    0    0    0    0    0    0\n",
      "     0    0    0    0    0    0    0    0    0    0    0    0    0    0]\n",
      " [  12  756 9544  424 2359   64 1221  438   18 1376  313    0    0    0\n",
      "     0    0    0    0    0    0    0    0    0    0    0    0    0    0\n",
      "     0    0    0    0    0    0    0    0    0    0    0    0    0    0]\n",
      " [5420   16  297  206 2275  205  570   62   48 2902    0    0    0    0\n",
      "     0    0    0    0    0    0    0    0    0    0    0    0    0    0\n",
      "     0    0    0    0    0    0    0    0    0    0    0    0    0    0]\n",
      " [3218 5576 3026  371    8    3 1886  811  106  782  486 6606 4101    5\n",
      "     6  106  602    7  292 1514  128    3 9958   55  212    7  986 4551\n",
      "  1985 4003    3  279  807   11 1619 2204  212  783    0    0    0    0]\n",
      " [1055 1004   65  190    3    0  110  237  452  728  675 5582   28 1489\n",
      "   315  712   81  485  811  150   27    4  117 5174  509    4    0    0\n",
      "     0    0    0    0    0    0    0    0    0    0    0    0    0    0]\n",
      " [ 392    8  642   18  878 1039  368  335   22 4864    4    0    0    0\n",
      "     0    0    0    0    0    0    0    0    0    0    0    0    0    0\n",
      "     0    0    0    0    0    0    0    0    0    0    0    0    0    0]\n",
      " [  32 2180  695 1321  150  170  107 6090    7 4825  315  674   14 2284\n",
      "  1653 1882  957 2210 2927    3 6670  175    4  303  849   30  775 2339\n",
      "   775 2339 5452   13  966   16  498  107  826  191 5681  478 1975   41]\n",
      " [1385    3 4584   16   66  322  810 2420   13    5    0    0    0    0\n",
      "     0    0    0    0    0    0    0    0    0    0    0    0    0    0\n",
      "     0    0    0    0    0    0    0    0    0    0    0    0    0    0]\n",
      " [2150  105 2338 2157    9  416 2674 4350  369 8151   20   30   12 1321\n",
      "   100   92  519 3276    9    0    0    0    0    0    0    0    0    0\n",
      "     0    0    0    0    0    0    0    0    0    0    0    0    0    0]]\n",
      "X_test_tensor[:10] [[ 549   79    0    0    0    0    0    0    0    0    0    0    0    0\n",
      "     0    0    0    0    0    0    0    0    0    0    0    0    0    0\n",
      "     0    0    0    0    0    0    0    0    0    0    0    0    0    0]\n",
      " [ 274   32   48 1110 6675  941  136   31   19 4772   13   90 8929 1800\n",
      "     0    0    0    0    0    0    0    0    0    0    0    0    0    0\n",
      "     0    0    0    0    0    0    0    0    0    0    0    0    0    0]\n",
      " [3102   13    3 4750   46  601   98 1397 4525    0    0    0    0    0\n",
      "     0    0    0    0    0    0    0    0    0    0    0    0    0    0\n",
      "     0    0    0    0    0    0    0    0    0    0    0    0    0    0]\n",
      " [ 110   30  398 1469   16  133 4942   95    3 1428   18 3150   34  110\n",
      "    44 1420  461  967 1836 1426  217  122  231  101    0    0    0    0\n",
      "     0    0    0    0    0    0    0    0    0    0    0    0    0    0]\n",
      " [2065  381   11  888   25   39  481   27    0    0    0    0    0    0\n",
      "     0    0    0    0    0    0    0    0    0    0    0    0    0    0\n",
      "     0    0    0    0    0    0    0    0    0    0    0    0    0    0]\n",
      " [1065   50    0    0    0    0    0    0    0    0    0    0    0    0\n",
      "     0    0    0    0    0    0    0    0    0    0    0    0    0    0\n",
      "     0    0    0    0    0    0    0    0    0    0    0    0    0    0]\n",
      " [   3 6412  906 1629  128 6143   55 4867  173   23    3 1427    8 1149\n",
      "   418 4389  235   45   81  452   11   25   24  183   42    3 4303   36\n",
      "   313    0    0    0    0    0    0    0    0    0    0    0    0    0]\n",
      " [1072 3567  475 1834 4655 1448  291  940    3 9904 5467  500  477 3931\n",
      "   284 1483 1225  477  417   26 2037 1406  157   64 2998  245  167   52\n",
      "   110  302   51  302  447   80    0    0    0    0    0    0    0    0]\n",
      " [  32 2979    8 3490 3349   20 1636  152   13 1433 1061  468    8  258\n",
      "  9537  238  931 2700 6454   13 5451    0    0    0    0    0    0    0\n",
      "     0    0    0    0    0    0    0    0    0    0    0    0    0    0]\n",
      " [1532 2440 1079 9489 5576 3188  234 9999  286    0    0    0    0    0\n",
      "     0    0    0    0    0    0    0    0    0    0    0    0    0    0\n",
      "     0    0    0    0    0    0    0    0    0    0    0    0    0    0]]\n"
     ]
    }
   ],
   "source": [
    "# X_train, y_train, X_test, y_test\n",
    "\n",
    "# Tokenizing: X_train \n",
    "X_train_tensor, X_train_word_index, X_train_index_word = sp_tokenize_withPadding(s, X_train, maxlen)\n",
    "print(\"X_train_tensor[:10]\",X_train_tensor[:10])\n",
    "\n",
    "# Tokenizing: X_test \n",
    "X_test_tensor, X_test_word_index, X_test_index_word = sp_tokenize_withPadding(s, X_test, maxlen)\n",
    "print(\"X_test_tensor[:10]\",X_test_tensor[:10])"
   ]
  },
  {
   "cell_type": "markdown",
   "id": "a33b5010",
   "metadata": {},
   "source": [
    "* **토크나이징 최종완료후 데이터 shape 확인**"
   ]
  },
  {
   "cell_type": "code",
   "execution_count": 20,
   "id": "c64b61cf",
   "metadata": {},
   "outputs": [
    {
     "name": "stdout",
     "output_type": "stream",
     "text": [
      "X_train_tensor.shape (146026, 42) y_train.shape (146026,) X_test_tensor.shape (49084, 42) y_test.shape (49084,)\n"
     ]
    }
   ],
   "source": [
    "print(\"X_train_tensor.shape\",X_train_tensor.shape,\"y_train.shape\",y_train.shape,\"X_test_tensor.shape\",X_test_tensor.shape,\"y_test.shape\",y_test.shape)\n"
   ]
  },
  {
   "cell_type": "markdown",
   "id": "7b455f0c",
   "metadata": {},
   "source": [
    "#### (5) 모델 구성 및 validation set 구성¶"
   ]
  },
  {
   "cell_type": "code",
   "execution_count": 21,
   "id": "a5e2d9f9",
   "metadata": {},
   "outputs": [],
   "source": [
    "## Hyper param 설정\n",
    "vocab_size = len(X_train_word_index)   # 어휘 사전의 크기(8000 )#10,000개의 단어)\n",
    "\n",
    "word_vector_dim = 16  # 워드 벡터의 차원 수\n",
    "hidden_unit = 16\n",
    "drop_rate = 0.2\n",
    "epochs= 20 \n",
    "\n",
    "#cnn_dense_hidden_unit = 8\n",
    "#cnn_filter = 7\n",
    "#cnn_maxpool = 4\n",
    "epochs= 20 \n"
   ]
  },
  {
   "cell_type": "markdown",
   "id": "5528d2d4",
   "metadata": {},
   "source": [
    "* **LSTM 모델**"
   ]
  },
  {
   "cell_type": "code",
   "execution_count": 22,
   "id": "eef3353d",
   "metadata": {},
   "outputs": [
    {
     "name": "stdout",
     "output_type": "stream",
     "text": [
      "Model: \"sequential\"\n",
      "_________________________________________________________________\n",
      "Layer (type)                 Output Shape              Param #   \n",
      "=================================================================\n",
      "embedding (Embedding)        (None, None, 16)          160000    \n",
      "_________________________________________________________________\n",
      "dropout (Dropout)            (None, None, 16)          0         \n",
      "_________________________________________________________________\n",
      "lstm (LSTM)                  (None, 16)                2112      \n",
      "_________________________________________________________________\n",
      "dropout_1 (Dropout)          (None, 16)                0         \n",
      "_________________________________________________________________\n",
      "dense (Dense)                (None, 16)                272       \n",
      "_________________________________________________________________\n",
      "dense_1 (Dense)              (None, 1)                 17        \n",
      "=================================================================\n",
      "Total params: 162,401\n",
      "Trainable params: 162,401\n",
      "Non-trainable params: 0\n",
      "_________________________________________________________________\n"
     ]
    }
   ],
   "source": [
    "## LSTM 모델\n",
    "\n",
    "model_lstm = tf.keras.Sequential()\n",
    "model_lstm.add(tf.keras.layers.Embedding(vocab_size, word_vector_dim, input_shape=(None,)))\n",
    "model_lstm.add(tf.keras.layers.Dropout(drop_rate))\n",
    "model_lstm.add(tf.keras.layers.LSTM(hidden_unit)) \n",
    "model_lstm.add(tf.keras.layers.Dropout(drop_rate))\n",
    "model_lstm.add(tf.keras.layers.Dense(hidden_unit, activation='relu'))\n",
    "model_lstm.add(tf.keras.layers.Dense(1, activation='sigmoid'))  # 최종 출력은 긍정/부정을 나타내는 1dim 입니다.\n",
    "\n",
    "model_lstm.summary()"
   ]
  },
  {
   "cell_type": "markdown",
   "id": "a38934d1",
   "metadata": {},
   "source": [
    "* **valid data 분리**"
   ]
  },
  {
   "cell_type": "code",
   "execution_count": 23,
   "id": "c2b39eeb",
   "metadata": {},
   "outputs": [
    {
     "name": "stdout",
     "output_type": "stream",
     "text": [
      "X_train_tensor 총개수: 146026 80%분리:  116820 20%분리: 29206\n",
      "partial_X_train 116820 partial_y_train 116820\n",
      "X_val_tensor 29206 y_val 29206\n"
     ]
    }
   ],
   "source": [
    "## 총 train data : 80:20 \n",
    "print(\"X_train_tensor 총개수:\", len(X_train_tensor), \"80%분리: \",int(len(X_train_tensor)*0.8), \"20%분리:\",len(X_train_tensor)-int(len(X_train_tensor)*0.8))\n",
    "train_len = int(len(X_train_tensor)*0.8)\n",
    "valid_len = len(X_train_tensor)-int(len(X_train_tensor)*0.8)\n",
    "\n",
    "# validation set 20% 분리: \n",
    "X_val_tensor = X_train_tensor[:valid_len]   \n",
    "y_val = y_train[:valid_len]\n",
    "\n",
    "# validation set을 제외한 나머지 15000건\n",
    "partial_X_train = X_train_tensor[valid_len:]  \n",
    "partial_y_train = y_train[valid_len:]\n",
    "\n",
    "print(\"partial_X_train\",len(partial_X_train),\"partial_y_train\",len(partial_y_train))\n",
    "print(\"X_val_tensor\",len(X_val_tensor), \"y_val\",len(y_val))"
   ]
  },
  {
   "cell_type": "markdown",
   "id": "77ecc52a",
   "metadata": {},
   "source": [
    "#### (6) LSTM모델 학습"
   ]
  },
  {
   "cell_type": "code",
   "execution_count": 24,
   "id": "dbb1277c",
   "metadata": {},
   "outputs": [
    {
     "name": "stdout",
     "output_type": "stream",
     "text": [
      "Epoch 1/20\n",
      "229/229 [==============================] - 5s 8ms/step - loss: 0.6091 - accuracy: 0.6209 - val_loss: 0.3943 - val_accuracy: 0.8252\n",
      "Epoch 2/20\n",
      "229/229 [==============================] - 1s 6ms/step - loss: 0.3673 - accuracy: 0.8420 - val_loss: 0.3494 - val_accuracy: 0.8465\n",
      "Epoch 3/20\n",
      "229/229 [==============================] - 1s 6ms/step - loss: 0.3290 - accuracy: 0.8602 - val_loss: 0.3387 - val_accuracy: 0.8506\n",
      "Epoch 4/20\n",
      "229/229 [==============================] - 1s 6ms/step - loss: 0.3133 - accuracy: 0.8666 - val_loss: 0.3383 - val_accuracy: 0.8511\n",
      "Epoch 5/20\n",
      "229/229 [==============================] - 1s 6ms/step - loss: 0.3033 - accuracy: 0.8700 - val_loss: 0.3503 - val_accuracy: 0.8434\n",
      "Epoch 6/20\n",
      "229/229 [==============================] - 1s 6ms/step - loss: 0.2933 - accuracy: 0.8743 - val_loss: 0.3511 - val_accuracy: 0.8494\n",
      "Epoch 7/20\n",
      "229/229 [==============================] - 1s 6ms/step - loss: 0.2850 - accuracy: 0.8768 - val_loss: 0.3467 - val_accuracy: 0.8516\n",
      "Epoch 8/20\n",
      "229/229 [==============================] - 1s 6ms/step - loss: 0.2777 - accuracy: 0.8794 - val_loss: 0.3481 - val_accuracy: 0.8500\n",
      "Epoch 9/20\n",
      "229/229 [==============================] - 1s 6ms/step - loss: 0.2726 - accuracy: 0.8804 - val_loss: 0.3604 - val_accuracy: 0.8490\n",
      "Epoch 10/20\n",
      "229/229 [==============================] - 1s 6ms/step - loss: 0.2657 - accuracy: 0.8826 - val_loss: 0.3569 - val_accuracy: 0.8471\n",
      "Epoch 11/20\n",
      "229/229 [==============================] - 1s 6ms/step - loss: 0.2629 - accuracy: 0.8823 - val_loss: 0.3733 - val_accuracy: 0.8485\n",
      "Epoch 12/20\n",
      "229/229 [==============================] - 1s 6ms/step - loss: 0.2579 - accuracy: 0.8851 - val_loss: 0.3724 - val_accuracy: 0.8489\n",
      "Epoch 13/20\n",
      "229/229 [==============================] - 1s 6ms/step - loss: 0.2545 - accuracy: 0.8865 - val_loss: 0.3832 - val_accuracy: 0.8480\n",
      "Epoch 14/20\n",
      "229/229 [==============================] - 1s 6ms/step - loss: 0.2493 - accuracy: 0.8875 - val_loss: 0.3775 - val_accuracy: 0.8480\n",
      "Epoch 15/20\n",
      "229/229 [==============================] - 1s 6ms/step - loss: 0.2455 - accuracy: 0.8901 - val_loss: 0.3931 - val_accuracy: 0.8491\n",
      "Epoch 16/20\n",
      "229/229 [==============================] - 1s 6ms/step - loss: 0.2406 - accuracy: 0.8922 - val_loss: 0.3868 - val_accuracy: 0.8474\n",
      "Epoch 17/20\n",
      "229/229 [==============================] - 1s 6ms/step - loss: 0.2349 - accuracy: 0.8947 - val_loss: 0.3839 - val_accuracy: 0.8476\n",
      "Epoch 18/20\n",
      "229/229 [==============================] - 1s 6ms/step - loss: 0.2307 - accuracy: 0.8975 - val_loss: 0.3874 - val_accuracy: 0.8416\n",
      "Epoch 19/20\n",
      "229/229 [==============================] - 1s 6ms/step - loss: 0.2240 - accuracy: 0.9005 - val_loss: 0.3875 - val_accuracy: 0.8452\n",
      "Epoch 20/20\n",
      "229/229 [==============================] - 1s 6ms/step - loss: 0.2194 - accuracy: 0.9032 - val_loss: 0.4111 - val_accuracy: 0.8476\n"
     ]
    }
   ],
   "source": [
    "model_lstm.compile(optimizer='adam', loss='binary_crossentropy', metrics=['accuracy'])              \n",
    "  \n",
    "history_lstm = model_lstm.fit(partial_X_train, partial_y_train, epochs=epochs, batch_size=512, validation_data=(X_val_tensor, y_val), verbose=1)"
   ]
  },
  {
   "cell_type": "markdown",
   "id": "e965571d",
   "metadata": {},
   "source": [
    "* **SentencePiece의 경우 LSTM Loss, Accuracy 시각화**"
   ]
  },
  {
   "cell_type": "code",
   "execution_count": 25,
   "id": "8f3c604b",
   "metadata": {},
   "outputs": [
    {
     "name": "stdout",
     "output_type": "stream",
     "text": [
      "dict_keys(['loss', 'accuracy', 'val_loss', 'val_accuracy'])\n"
     ]
    },
    {
     "data": {
      "image/png": "[encoded data removed]",
      "text/plain": [
       "<Figure size 432x288 with 2 Axes>"
      ]
     },
     "metadata": {
      "needs_background": "light"
     },
     "output_type": "display_data"
    }
   ],
   "source": [
    "history_lstm = history_lstm.history\n",
    "print(history_lstm.keys()) \n",
    "\n",
    "acc = history_lstm['accuracy']\n",
    "val_acc = history_lstm['val_accuracy']\n",
    "loss = history_lstm['loss']\n",
    "val_loss = history_lstm['val_loss']\n",
    "\n",
    "epochs = range(1, len(acc) + 1)\n",
    "\n",
    "# LOSS\n",
    "plt.subplot(1,2,1)\n",
    "plt.plot(epochs, loss, 'bo', label='Training loss')\n",
    "plt.plot(epochs, val_loss, 'b', label='Validation loss')\n",
    "plt.title('LSTM Training and validation loss')\n",
    "plt.xlabel('Epochs')\n",
    "plt.ylabel('Loss')\n",
    "plt.legend()\n",
    "\n",
    "# ACCURACY\n",
    "#plt.clf()   # 그림을 초기화합니다\n",
    "plt.subplot(1,2,2)\n",
    "plt.plot(epochs, acc, 'bo', label='Training acc')\n",
    "plt.plot(epochs, val_acc, 'b', label='Validation acc')\n",
    "plt.title('LSTM Training and validation accuracy')\n",
    "plt.xlabel('Epochs')\n",
    "plt.ylabel('Accuracy')\n",
    "plt.legend()\n",
    "plt.tight_layout()\n",
    "plt.show()"
   ]
  },
  {
   "cell_type": "markdown",
   "id": "93920dc2",
   "metadata": {},
   "source": [
    "#### (7) test data 로 모델 성능평가"
   ]
  },
  {
   "cell_type": "code",
   "execution_count": 26,
   "id": "8b2714f2",
   "metadata": {},
   "outputs": [
    {
     "name": "stdout",
     "output_type": "stream",
     "text": [
      "1534/1534 - 3s - loss: 0.4204 - accuracy: 0.8433\n",
      "results_lstm [0.42039772868156433, 0.8432890772819519]\n"
     ]
    }
   ],
   "source": [
    "## LSTM 모델 성능평가\n",
    "results_lstm = model_lstm.evaluate(X_test_tensor,  y_test, verbose=2)\n",
    "\n",
    "print(\"results_lstm\", results_lstm)"
   ]
  },
  {
   "cell_type": "markdown",
   "id": "8d215759",
   "metadata": {},
   "source": [
    "#### [Unigram SentencePiece 평가] Unigram SentencePiece의 경우 LSTM test accuracy 84.32% 였슴"
   ]
  },
  {
   "cell_type": "markdown",
   "id": "2dca4da3",
   "metadata": {},
   "source": [
    "###  (8)  Bpe  (Byte Pair Encoding)  Model Type로 했을 경우 :\n",
    "상세 작업과정은 아래 깃허브파일을 참조\n",
    "\n",
    "*  **bpe GitHub 링크** : https://github.com/lkh-7/first-repository/blob/master/%5BGDeep%5D02_%5Bsp_tokenizer%5D_%ED%94%84%EB%A1%9C%EC%A0%9D%ED%8A%B8_%EB%A9%8B%EC%A7%84%20%EB%8B%A8%EC%96%B4%EC%82%AC%EC%A0%84%20%EB%A7%8C%EB%93%A4%EA%B8%B0_Project_%EC%A0%9C%EC%B6%9C%EC%A4%80%EB%B9%84%EC%9A%A9_SPM_Bpe_ONLY.ipynb\n",
    "\n",
    "#### [평가] bpe SentencePiece의 경우 LSTM test accuracy 83.64 % 였슴\n",
    "\n"
   ]
  },
  {
   "cell_type": "markdown",
   "id": "89439a38",
   "metadata": {},
   "source": [
    "### (9) [ Unigram  vs. bpe SentencePiece 성능 비교평가]\n",
    "**Unigram** 이 **test accuracy 84.32%** 로서, bpe 83.64% 보다   LSTM Model test accuracy 에서  성능이 큰차이는 아니지만 **더 우수했슴**"
   ]
  },
  {
   "cell_type": "markdown",
   "id": "5eaf642b",
   "metadata": {},
   "source": [
    "# 3. Konlpy 토크나이저 사용의 경우"
   ]
  },
  {
   "cell_type": "markdown",
   "id": "a12bd3fe",
   "metadata": {},
   "source": [
    "* **Mecab, Kkma, Okt 와 비교**"
   ]
  },
  {
   "cell_type": "markdown",
   "id": "da2a4e89",
   "metadata": {},
   "source": [
    "####  (1) 데이터 로드"
   ]
  },
  {
   "cell_type": "code",
   "execution_count": 27,
   "id": "bee952ea",
   "metadata": {},
   "outputs": [
    {
     "name": "stdout",
     "output_type": "stream",
     "text": [
      "train_data          id                                           document  label\n",
      "0   9976970                                아 더빙.. 진짜 짜증나네요 목소리      0\n",
      "1   3819312                  흠...포스터보고 초딩영화줄....오버연기조차 가볍지 않구나      1\n",
      "2  10265843                                  너무재밓었다그래서보는것을추천한다      0\n",
      "3   9045019                      교도소 이야기구먼 ..솔직히 재미는 없다..평점 조정      0\n",
      "4   6483659  사이몬페그의 익살스런 연기가 돋보였던 영화!스파이더맨에서 늙어보이기만 했던 커스틴 ...      1 (150000, 3)\n",
      "------------------------------------------------------------\n",
      "test_data         id                                           document  label\n",
      "0  6270596                                                굳 ㅋ      1\n",
      "1  9274899                               GDNTOPCLASSINTHECLUB      0\n",
      "2  8544678             뭐야 이 평점들은.... 나쁘진 않지만 10점 짜리는 더더욱 아니잖아      0\n",
      "3  6825595                   지루하지는 않은데 완전 막장임... 돈주고 보기에는....      0\n",
      "4  6723715  3D만 아니었어도 별 다섯 개 줬을텐데.. 왜 3D로 나와서 제 심기를 불편하게 하죠??      0 (50000, 3)\n"
     ]
    }
   ],
   "source": [
    "# 데이터를 읽어봅시다. \n",
    "train_data = pd.read_table(r'~/aiffel/sp_tokenizer/ratings_train.txt')\n",
    "test_data = pd.read_table('~/aiffel/sp_tokenizer/ratings_test.txt')\n",
    "\n",
    "print(\"train_data\",train_data.head(),train_data.shape)\n",
    "print('-'*60)\n",
    "print(\"test_data\",test_data.head(),test_data.shape)"
   ]
  },
  {
   "cell_type": "markdown",
   "id": "fd3c0b61",
   "metadata": {},
   "source": [
    "####  (2) Mecab"
   ]
  },
  {
   "cell_type": "markdown",
   "id": "28abd757",
   "metadata": {},
   "source": [
    "* **데이터 전처리,형태소분석,Tokenizer 함수생성 및 word_to_index, index_to_word 관련 함수생성**\n"
   ]
  },
  {
   "cell_type": "code",
   "execution_count": 28,
   "id": "0a7664e0",
   "metadata": {},
   "outputs": [
    {
     "name": "stdout",
     "output_type": "stream",
     "text": [
      "train_data['document'].nunique() 146182\n",
      "train_data['label'].nunique() 2\n",
      "중복제거후 len(train_data) 146183\n",
      "test_data['document'].nunique() 49157\n",
      "test_data['label'].nunique() 2\n",
      "중복제거후 len(test_data) 49158\n",
      "결측치 개수 id          0\n",
      "document    1\n",
      "label       0\n",
      "dtype: int64\n",
      "결측치제거후 결측치 여부 False\n",
      "결측치 개수 id          0\n",
      "document    1\n",
      "label       0\n",
      "dtype: int64\n",
      "결측치제거후 결측치 여부 False\n"
     ]
    },
    {
     "name": "stderr",
     "output_type": "stream",
     "text": [
      "/tmp/ipykernel_3107/1893021137.py:37: FutureWarning: The default value of regex will change from True to False in a future version.\n",
      "  train_data['document'] = train_data['document'].str.replace(\"[' ']+\",\" \")\n",
      "/tmp/ipykernel_3107/1893021137.py:38: FutureWarning: The default value of regex will change from True to False in a future version.\n",
      "  train_data['document'] = train_data['document'].str.replace(\"\\.{2,30}\",\" \")\n",
      "/tmp/ipykernel_3107/1893021137.py:39: FutureWarning: The default value of regex will change from True to False in a future version.\n",
      "  train_data['document'] = train_data['document'].str.replace(\"[^ㄱ-힣0-9!?,.\\^+ ^\\s]\",\"\")  #한글전용형태소기인 경우 영어제외\n"
     ]
    },
    {
     "name": "stdout",
     "output_type": "stream",
     "text": [
      "한글과 공백,기타일부 등제외후 모두제거상태_train_data.head()          id                                           document  label\n",
      "0   9976970                                 아 더빙  진짜 짜증나네요 목소리      0\n",
      "1   3819312                       흠 포스터보고 초딩영화줄 오버연기조차 가볍지 않구나      1\n",
      "2  10265843                                  너무재밓었다그래서보는것을추천한다      0\n",
      "3   9045019                        교도소 이야기구먼  솔직히 재미는 없다 평점 조정      0\n",
      "4   6483659  사이몬페그의 익살스런 연기가 돋보였던 영화!스파이더맨에서 늙어보이기만 했던 커스틴 ...      1\n"
     ]
    },
    {
     "name": "stderr",
     "output_type": "stream",
     "text": [
      "/tmp/ipykernel_3107/1893021137.py:43: FutureWarning: The default value of regex will change from True to False in a future version.\n",
      "  test_data['document' ]= test_data['document'].str.replace(\"[' ']+\",\" \")\n",
      "/tmp/ipykernel_3107/1893021137.py:44: FutureWarning: The default value of regex will change from True to False in a future version.\n",
      "  test_data['document'] = test_data['document'].str.replace(\"\\.{2,30}\",\" \")\n",
      "/tmp/ipykernel_3107/1893021137.py:45: FutureWarning: The default value of regex will change from True to False in a future version.\n",
      "  test_data['document'] = test_data['document'].str.replace(\"[^ㄱ-힣0-9!?,.\\^+ ^\\s]\",\"\")  #한글전용형태소기인 경우 영어제외\n"
     ]
    },
    {
     "name": "stdout",
     "output_type": "stream",
     "text": [
      "한글과 공백,기타일부 등제외후 모두제거상태_test_data.head()         id                                        document  label\n",
      "0  6270596                                             굳 ㅋ      1\n",
      "1  9274899                                                      0\n",
      "2  8544678             뭐야 이 평점들은  나쁘진 않지만 10점 짜리는 더더욱 아니잖아      0\n",
      "3  6825595                     지루하지는 않은데 완전 막장임  돈주고 보기에는       0\n",
      "4  6723715  3만 아니었어도 별 다섯 개 줬을텐데  왜 3로 나와서 제 심기를 불편하게 하죠??      0\n",
      "Nan 존재유뮤 True\n",
      "Nan 존재유뮤 True\n"
     ]
    },
    {
     "name": "stderr",
     "output_type": "stream",
     "text": [
      "100%|██████████| 146026/146026 [00:15<00:00, 9654.47it/s] \n"
     ]
    },
    {
     "name": "stdout",
     "output_type": "stream",
     "text": [
      "X_train [['아', '더', '빙', '진짜', '짜증', '나', '네요', '목소리'], ['흠', '포스터', '보고', '초딩', '영화', '줄', '오버', '연기', '조차', '가볍', '지', '않', '구나'], ['너무', '재', '밓었다그래서보는것을추천한다'], ['교도소', '이야기', '구먼', '솔직히', '재미', '없', '다', '평점', '조정'], ['사이몬페그', '익살', '스런', '연기', '돋보였', '던', '영화', '!', '스파이더맨', '에서', '늙', '어', '보이', '기', '만', '했', '던', '커스틴', '던스트', '너무나', '이뻐', '보였', '다']] 146026\n"
     ]
    },
    {
     "name": "stderr",
     "output_type": "stream",
     "text": [
      "100%|██████████| 49084/49084 [00:04<00:00, 11512.45it/s]\n"
     ]
    },
    {
     "name": "stdout",
     "output_type": "stream",
     "text": [
      "X_test [['굳', 'ㅋ'], ['뭐', '야', '평점', '나쁘', '진', '않', '지만', '10', '점', '짜리', '더더욱', '아니', '잖아'], ['지루', '하', '지', '않', '은데', '완전', '막장', '임', '돈', '주', '고', '보', '기'], ['3', '만', '아니', '었', '어도', '별', '다섯', '개', '줬', '을', '텐데', '왜', '3', '로', '나와서', '제', '심기', '불편', '하', '게', '하', '죠', '?', '?'], ['음악', '주', '된', ',', '최고', '음악', '영화']] 49084\n",
      "X_train[:5] [[31, 70, 869, 38, 223, 19, 32, 723], [994, 503, 535, 662, 5, 117, 1591, 52, 894, 975, 14, 43, 376], [23, 201, 3], [8141, 154, 4048, 289, 91, 17, 6, 56, 3375], [3, 8618, 1079, 52, 2750, 58, 5, 13, 2718, 40, 1149, 34, 337, 41, 21, 39, 58, 3, 3, 410, 2968, 1719, 6]] y_train[:5] [0 1 0 0 1] X_test[:5] [[809, 129], [82, 113, 56, 920, 326, 43, 37, 98, 36, 617, 3449, 71, 885], [94, 8, 14, 43, 227, 135, 343, 127, 150, 53, 7, 10, 41], [137, 21, 71, 20, 450, 229, 2047, 120, 541, 9, 570, 61, 137, 28, 613, 333, 3, 817, 8, 12, 8, 287, 16, 16], [233, 53, 157, 11, 54, 233, 5]] y_test[:5] [1 0 0 0 1]\n",
      "len( word_to_index) 9997\n"
     ]
    }
   ],
   "source": [
    "## 데이터로더\n",
    "tokenizer = Mecab()\n",
    "stopwords = ['의','가','이','은','들','는','좀','잘','걍','과','도','를','으로','자','에','와','한','하다']\n",
    "num_words=10000\n",
    "\n",
    "def load_data(train_data, test_data, num_words=num_words):\n",
    "    ## 중복값 제거:  'document'컬럼의 중복값 제거,'label'컬럼은 0,1의 두개면 맞음\n",
    "    #1. train_data\n",
    "    print(\"train_data['document'].nunique()\",train_data['document'].nunique())\n",
    "    if train_data['document'].nunique() < len(train_data):\n",
    "        train_data.drop_duplicates(subset=['document'], inplace=True) \n",
    "        print(\"train_data['label'].nunique()\",train_data['label'].nunique())    \n",
    "        print(\"중복제거후 len(train_data)\",len(train_data))    \n",
    "    #2. test_data    \n",
    "    print(\"test_data['document'].nunique()\",test_data['document'].nunique())\n",
    "    if test_data['document'].nunique() < len(test_data):\n",
    "        test_data.drop_duplicates(subset=['document'], inplace=True)\n",
    "        print(\"test_data['label'].nunique()\",test_data['label'].nunique())    \n",
    "        print(\"중복제거후 len(test_data)\",len(test_data))\n",
    "    \n",
    "    ## 결측치제거 : 1개라도 있으면, 해당행 전체 제거\n",
    "    #1. train_data\n",
    "    print(\"결측치 개수\",train_data.isnull().sum())\n",
    "    if train_data.isnull().any().any():\n",
    "        train_data.dropna(how='any',inplace=True)\n",
    "        print(\"결측치제거후 결측치 여부\",train_data.isnull().any().any())    \n",
    "    #2. test_data\n",
    "    print(\"결측치 개수\",test_data.isnull().sum())\n",
    "    if test_data.isnull().any().any():\n",
    "        test_data.dropna(how='any',inplace=True)\n",
    "        print(\"결측치제거후 결측치 여부\",test_data.isnull().any().any())\n",
    "    \n",
    "    ## 데이터 정제 \n",
    "    # 한글과 숫자,공백(한개이상 공백은 한개로 축소),특수문자일부 !?,.^을 제외하고 제거:[^ㄱ-힣a-zA-Z0-9!?,.^\\s]\n",
    "    # --> 한글형태소기를 tokenizer로 쓸 경우에는 영어및 일부선택된 특수문자외에는 모두제거(..., - - 등도 제거)\n",
    "    #1. train_data\n",
    "    train_data['document'] = train_data['document'].str.replace(\"[' ']+\",\" \")\n",
    "    train_data['document'] = train_data['document'].str.replace(\"\\.{2,30}\",\" \") \n",
    "    train_data['document'] = train_data['document'].str.replace(\"[^ㄱ-힣0-9!?,.\\^+ ^\\s]\",\"\")  #한글전용형태소기인 경우 영어제외\n",
    "    #train_data['document'] = train_data['document'].str.replace(\"[^ㄱ-힣a-zA-Z0-9!?,.^\\s]\",\"\")  #한글영어병행형태소기인경우 영어포함                                                         \n",
    "    print(\"한글과 공백,기타일부 등제외후 모두제거상태_train_data.head()\",train_data.head())\n",
    "    #2. test_data\n",
    "    test_data['document' ]= test_data['document'].str.replace(\"[' ']+\",\" \")\n",
    "    test_data['document'] = test_data['document'].str.replace(\"\\.{2,30}\",\" \") \n",
    "    test_data['document'] = test_data['document'].str.replace(\"[^ㄱ-힣0-9!?,.\\^+ ^\\s]\",\"\")  #한글전용형태소기인 경우 영어제외\n",
    "    #test_data['document'] = test_data['document'].str.replace(\"[^ㄱ-힣a-zA-Z0-9!?,.^\\s]\",\"\")  #한글영어병행형태소기인경우 영어포함                                                            \n",
    "    print(\"한글과 공백,기타일부 등제외후 모두제거상태_test_data.head()\",test_data.head())\n",
    "    # 데이터 정제후 빈 공백만 있는 문장의 경우 제거:  Nan 입력후 행제거\n",
    "    #1. train_data\n",
    "    train_data['document'].replace('', np.nan, inplace=True)\n",
    "    print(\"Nan 존재유뮤\",train_data.isnull().any().any() )\n",
    "    if train_data.isnull().any().any():\n",
    "        train_data.dropna(how='any',inplace=True)\n",
    "    #2. test_data   \n",
    "    test_data['document'].replace('', np.nan, inplace=True)\n",
    "    print(\"Nan 존재유뮤\",test_data.isnull().any().any() )\n",
    "    if test_data.isnull().any().any():\n",
    "        test_data.dropna(how='any',inplace=True)\n",
    "    \n",
    "    ## 한국어 토크나이저로 토큰화    \n",
    "    # 1. train_data\n",
    "    X_train = []\n",
    "    for sentence in tqdm.tqdm(train_data['document']):\n",
    "        tokenized = tokenizer.morphs(sentence) # morphs 형태소추출\n",
    "        #print(\"tokenized\", tokenized)\n",
    "        tokenized_without_stopwords = [word for word in tokenized if not word in stopwords] # 불용어 제거\n",
    "        X_train.append(tokenized_without_stopwords)\n",
    "    print(\"X_train\",X_train[:5],len(X_train))\n",
    "    \n",
    "    # 2. test_data\n",
    "    X_test = []\n",
    "    for sentence in tqdm.tqdm(test_data['document']):\n",
    "        tokenized = tokenizer.morphs(sentence) # morphs 형태소추출\n",
    "        #print(\"tokenized\", tokenized)\n",
    "        tokenized_without_stopwords = [word for word in tokenized if not word in stopwords] # 불용어 제거\n",
    "        X_test.append(tokenized_without_stopwords)\n",
    "    print(\"X_test\",X_test[:5],len(X_test))\n",
    "    \n",
    "    ## word_to_index 구성: train only ???  train + test ??? 로 word vs index 매칭 ??? !!!!!!!!!!!!\n",
    "    words = np.concatenate(X_train).tolist()  \n",
    "    #words = np.concatenate(X_train).tolist() + np.concatenate(X_test).tolist()\n",
    "    counter = Counter(words)\n",
    "    counter = counter.most_common(num_words-4)   #10000-4)\n",
    "    vocab = ['', '', '', ''] + [key for key, _ in counter]\n",
    "    word_to_index = {word:index for index, word in enumerate(vocab)}\n",
    "    \n",
    "    ## X_Train, X_test 를 word_to_index의 index로 mapping\n",
    "    def wordlist_to_indexlist(wordlist):\n",
    "        return [word_to_index[word] if word in word_to_index else word_to_index[''] for word in wordlist]\n",
    "        \n",
    "    X_train = list(map(wordlist_to_indexlist, X_train))\n",
    "    X_test = list(map(wordlist_to_indexlist, X_test))\n",
    "    \n",
    "    return X_train, np.array(list(train_data['label'])), X_test, np.array(list(test_data['label'])), word_to_index\n",
    "    \n",
    "X_train, y_train, X_test, y_test, word_to_index = load_data(train_data, test_data)\n",
    "\n",
    "# 인덱스로 매칭된 데이터 확인\n",
    "print(\"X_train[:5]\",X_train[:5],\"y_train[:5]\",y_train[:5],\"X_test[:5]\",X_test[:5],\"y_test[:5]\",y_test[:5])\n",
    "print('len( word_to_index)', len(word_to_index))\n",
    "\n",
    "## 인덱스를 key로 word 반환 Dict 만들기\n",
    "index_to_word = {index:word for word, index in word_to_index.items()}\n",
    "# 문장 1개를 활용할 딕셔너리와 함께 주면, 단어 인덱스 리스트 벡터로 변환해 주는 함수입니다. \n",
    "# 단, 모든 문장은 <BOS>로 시작하는 것으로 합니다. \n",
    "\n",
    "def get_encoded_sentence(sentence, word_to_index):\n",
    "    return [word_to_index['<BOS>']]+[word_to_index[word] if word in word_to_index else word_to_index['<UNK>'] for word in sentence.split()]\n",
    "\n",
    "# 여러 개의 문장 리스트를 한꺼번에 단어 인덱스 리스트 벡터로 encode해 주는 함수입니다. \n",
    "def get_encoded_sentences(sentences, word_to_index):\n",
    "    return [get_encoded_sentence(sentence, word_to_index) for sentence in sentences]\n",
    "\n",
    "# 숫자 벡터로 encode된 문장을 원래대로 decode하는 함수입니다. \n",
    "def get_decoded_sentence(encoded_sentence, index_to_word):\n",
    "    return ' '.join(index_to_word[index] if index in index_to_word else '<UNK>' for index in encoded_sentence[1:])  #[1:]를 통해 <BOS>를 제외\n",
    "\n",
    "# 여러 개의 숫자 벡터로 encode된 문장을 한꺼번에 원래대로 decode하는 함수입니다. \n",
    "def get_decoded_sentences(encoded_sentences, index_to_word):\n",
    "    return [get_decoded_sentence(encoded_sentence, index_to_word) for encoded_sentence in encoded_sentences]\n"
   ]
  },
  {
   "cell_type": "markdown",
   "id": "6ff3e248",
   "metadata": {},
   "source": [
    "* **데이터내 문장 Max_length설정, 보정, Padding 및 train data, valid data 분리**"
   ]
  },
  {
   "cell_type": "code",
   "execution_count": 29,
   "id": "f7b13a0c",
   "metadata": {},
   "outputs": [
    {
     "name": "stdout",
     "output_type": "stream",
     "text": [
      "문장길이평균: 14.9\n",
      "문장길이표준편차: 12.27\n",
      "문장길이Max: 85\n",
      "문장길이Min: 0\n",
      "문장길이 0개수: 320\n",
      "['NanumGothic']\n"
     ]
    },
    {
     "data": {
      "image/png": "[encoded data removed]",
      "text/plain": [
       "<Figure size 432x288 with 1 Axes>"
      ]
     },
     "metadata": {
      "needs_background": "light"
     },
     "output_type": "display_data"
    },
    {
     "data": {
      "image/png": "[encoded data removed]",
      "text/plain": [
       "<Figure size 432x288 with 1 Axes>"
      ]
     },
     "metadata": {
      "needs_background": "light"
     },
     "output_type": "display_data"
    },
    {
     "name": "stdout",
     "output_type": "stream",
     "text": [
      "표준편차 +- 2범위내 데이터수: 182439 원래전체데이터대비비중: 93.51 %\n"
     ]
    },
    {
     "data": {
      "image/png": "[encoded data removed]",
      "text/plain": [
       "<Figure size 432x288 with 1 Axes>"
      ]
     },
     "metadata": {
      "needs_background": "light"
     },
     "output_type": "display_data"
    },
    {
     "name": "stdout",
     "output_type": "stream",
     "text": [
      "적절한 최대 문장 길이 >> pad_sequences maxlen:  39\n",
      "word_to_index_앞쪽 10개 확인: [['', 3], ['.', 4], ['영화', 5], ['다', 6], ['고', 7], ['하', 8], ['을', 9], ['보', 10], [',', 11], ['게', 12]]\n",
      "len(word_to_index) 9997\n",
      "word_to_index_추가된 항목 재확인: [['금기', 9998], ['부셔', 9999], ['<BOS>', 0], ['<PAD>', 1], ['<UNK>', 2]]\n",
      "<BOS>\n",
      "3\n",
      ".\n",
      "더 빙 진짜 짜증 나 네요 목소리\n",
      "라벨:  0\n",
      "8\n",
      "<BOS>\n",
      "보정완료 OK\n",
      "len(word_to_index): 10000\n",
      "X_train [[31, 70, 869, 38, 223, 19, 32, 723], [994, 503, 535, 662, 5, 117, 1591, 52, 894, 975, 14, 43, 376], [23, 201, 3]] 146026 <class 'int'>\n",
      "X_train 내의 인덱스 type확인: float 0 int 2176140 str 0 etc 0 총개수 2176140\n",
      "X_train: (146026, 39)\n",
      "X_test: (49084, 39)\n",
      "X_train 총개수: 146026 80%분리:  116820 20%분리: 29206\n",
      "partial_X_train 116820 partial_y_train 116820\n",
      "X_val 29206 y_val 29206\n"
     ]
    }
   ],
   "source": [
    "#3. 모델 구성을 위한 데이터 분석 및 가공\n",
    "#(1) 데이터셋 내 문장 길이 분포\n",
    "\n",
    "## 데이터셋 내 문장 길이 분포\n",
    "total_data_text = list(X_train) + list(X_test)\n",
    "total_data_text_dist = [len(x) for x in total_data_text]\n",
    "#print(total_data_text_dist)\n",
    "\n",
    "mean = round(np.mean(total_data_text_dist),2)\n",
    "std = round(np.std(total_data_text_dist),2)\n",
    "max = np.max(total_data_text_dist)\n",
    "min = np.min(total_data_text_dist)\n",
    "min_count = len([x for x in total_data_text_dist if x == 0])\n",
    "print(\"문장길이평균:\",mean)\n",
    "print(\"문장길이표준편차:\",std)\n",
    "print(\"문장길이Max:\",max)\n",
    "print(\"문장길이Min:\",min)\n",
    "print(\"문장길이 0개수:\", min_count)\n",
    "\n",
    "# 히스토그램 시각화: total_data\n",
    "print(plt.rcParams['font.family'])\n",
    "plt.rc('font',family='NanumGothic')\n",
    "plt.hist(total_data_text_dist, bins = 20)\n",
    "plt.xlabel('한문장당 길이')\n",
    "plt.ylabel('데이터 개수')\n",
    "plt.show()\n",
    "\n",
    "# 박스플롯: total_data\n",
    "plt.boxplot(total_data_text_dist)\n",
    "plt.show()\n",
    "\n",
    "#(2) 적절한 최대 문장 길이 지정: 39\n",
    "\n",
    "## 적절한 최대 문장 길이 지정: (평균 + 표준편차*2)이내\n",
    "total_data_text_dist_array = np.array(total_data_text_dist)\n",
    "total_data_text_within_2std = total_data_text_dist_array[(total_data_text_dist_array <= mean + std*2) & (total_data_text_dist_array >= mean - std*2)]\n",
    "print(\"표준편차 +- 2범위내 데이터수:\", len(total_data_text_within_2std),\n",
    "      \"원래전체데이터대비비중:\",round(len(total_data_text_within_2std)*100/len(total_data_text),2),\"%\")\n",
    "\n",
    "# 히스토그램 시각화: total_data_text_within_2std\n",
    "plt.hist(total_data_text_within_2std, bins = 20)\n",
    "plt.xlabel('한문장당 길이')\n",
    "plt.ylabel('데이터 개수')\n",
    "plt.show()\n",
    "\n",
    "max_length = int(mean + std*2)\n",
    "print(\"적절한 최대 문장 길이 >> pad_sequences maxlen: \",int(max_length))\n",
    "\n",
    "    \n",
    "## 보정 및 최대길이에 맞추어 Padding\n",
    "\n",
    "#(3) word_to_index 및 index_to_word 보정: 앞쪽 위치 0,1,2번에 3개 항목 입력\n",
    "\n",
    "# word_to_index의 첫 인덱스위치에 '<BOS>' 있는지 확인\n",
    "print(\"word_to_index_앞쪽 10개 확인:\",[[key,value] for key,value in word_to_index.items()][:10] )\n",
    "print(\"len(word_to_index)\",len(word_to_index))   # 3개가 비어있슴\n",
    "\n",
    "# <BOS>, <PAD>,  <UNK> 3항목에 인덱스 0,1,2  보정값 입력\n",
    "word_to_index[\"<BOS>\"] = int(0)\n",
    "word_to_index[\"<PAD>\"] = int(1)\n",
    "word_to_index[\"<UNK>\"] = int(2)  # unknown\n",
    "print(\"word_to_index_추가된 항목 재확인:\",[[key,value] for key,value in word_to_index.items()][-5:] )\n",
    "\n",
    "# index_to_word 도 보정\n",
    "index_to_word = {index:word for word, index in word_to_index.items()}\n",
    "\n",
    "print(index_to_word[0])     # '<BOS>' 가 출력\n",
    "print(word_to_index[''])  # 3 이 출력\n",
    "print(index_to_word[4])     # '.' 가 출력\n",
    "\n",
    "# 보정 후 x_train[0] 데이터 확인: \n",
    "print(get_decoded_sentence(X_train[0], index_to_word))\n",
    "print('라벨: ', y_train[0])  # 1번째 리뷰데이터의 라벨\n",
    "print(len(X_train[0]))\n",
    "print(index_to_word[y_train[0]])\n",
    "print(\"보정완료 OK\")\n",
    "\n",
    "#(4) keras.preprocessing.sequence.pad_sequences 을 활용한 패딩 추가\n",
    "\n",
    "### keras.preprocessing.sequence.pad_sequences 을 활용한 패딩 추가 및 max_length로 일정길이 맞춤\n",
    "print(\"len(word_to_index):\",len(word_to_index))\n",
    "print(\"X_train\", X_train[:3], len(X_train), type(X_train[0][0]))\n",
    "\n",
    "# type 확인: train 내의 word index의 type check: 모두 int 임, 총개수 2,176,140개\n",
    "floatlist = [];intlist = [];strlist = [];etclist = []\n",
    "for X in X_train:\n",
    "    for idx in X:\n",
    "        if type(idx) == float:\n",
    "            floatlist.append(idx)            \n",
    "        elif type(idx) == int:\n",
    "            intlist.append(idx)  \n",
    "        elif type(idx) == str:\n",
    "            strlist.append(idx)   \n",
    "        else:\n",
    "            etclist.append(idx)\n",
    "print(\"X_train 내의 인덱스 type확인:\",\"float\",len(floatlist),\"int\",len(intlist),\"str\",len(strlist),\n",
    "       \"etc\",len(etclist),\"총개수\", len(floatlist)+ len(intlist)+ len(strlist)+len(etclist)) # int만 총개수 2,176,140\n",
    "\n",
    "# 숫자로 변환된 텍스트 데이터를 numpy array로 변경. \n",
    "X_train = np.array(X_train, dtype='object')\n",
    "X_test = np.array(X_test, dtype='object')\n",
    "\n",
    "## padding된 데이터: padding된 곳은 1 이 입력됨\n",
    "X_train = tf.keras.preprocessing.sequence.pad_sequences(X_train,\n",
    "                                                       value=word_to_index['<PAD>'], # <PAD> index 값 : 1\n",
    "                                                       padding='pre',           # 성능향상위해 'pre'적용\n",
    "                                                       maxlen=max_length)       # maxlen = 39\n",
    "X_test = tf.keras.preprocessing.sequence.pad_sequences(X_test,\n",
    "                                                       value=word_to_index['<PAD>'], # <PAD> index 값 : 1\n",
    "                                                       padding='pre',           # 성능향상위해 'pre'적용\n",
    "                                                       maxlen=max_length)       # maxlen = 39\n",
    "print(\"X_train:\", X_train.shape)\n",
    "print(\"X_test:\", X_test.shape)\n",
    "\n",
    "\n",
    "## train data, vaoli data 분리 : 80:20\n",
    "print(\"X_train 총개수:\", len(X_train), \"80%분리: \",int(len(X_train)*0.8), \"20%분리:\",len(X_train)-int(len(X_train)*0.8))\n",
    "train_len = int(len(X_train)*0.8)\n",
    "valid_len = len(X_train)-int(len(X_train)*0.8)\n",
    "\n",
    "# validation set 20% 분리: \n",
    "X_val = X_train[:valid_len]   \n",
    "y_val = y_train[:valid_len]\n",
    "\n",
    "# validation set을 제외한 나머지 15000건\n",
    "partial_X_train = X_train[valid_len:]  \n",
    "partial_y_train = y_train[valid_len:]\n",
    "\n",
    "print(\"partial_X_train\",len(partial_X_train),\"partial_y_train\",len(partial_y_train))\n",
    "print(\"X_val\",len(X_val), \"y_val\",len(y_val))\n"
   ]
  },
  {
   "cell_type": "markdown",
   "id": "a82fce4c",
   "metadata": {},
   "source": [
    "* **LSTM모델구성 및  학습, 테스트**"
   ]
  },
  {
   "cell_type": "code",
   "execution_count": 32,
   "id": "010e5eb8",
   "metadata": {},
   "outputs": [
    {
     "name": "stdout",
     "output_type": "stream",
     "text": [
      "Model: \"sequential_3\"\n",
      "_________________________________________________________________\n",
      "Layer (type)                 Output Shape              Param #   \n",
      "=================================================================\n",
      "embedding_3 (Embedding)      (None, None, 16)          160000    \n",
      "_________________________________________________________________\n",
      "dropout_6 (Dropout)          (None, None, 16)          0         \n",
      "_________________________________________________________________\n",
      "lstm_3 (LSTM)                (None, 16)                2112      \n",
      "_________________________________________________________________\n",
      "dropout_7 (Dropout)          (None, 16)                0         \n",
      "_________________________________________________________________\n",
      "dense_6 (Dense)              (None, 16)                272       \n",
      "_________________________________________________________________\n",
      "dense_7 (Dense)              (None, 1)                 17        \n",
      "=================================================================\n",
      "Total params: 162,401\n",
      "Trainable params: 162,401\n",
      "Non-trainable params: 0\n",
      "_________________________________________________________________\n",
      "Epoch 1/20\n",
      "229/229 [==============================] - 3s 8ms/step - loss: 0.4879 - accuracy: 0.7704 - val_loss: 0.3583 - val_accuracy: 0.8452\n",
      "Epoch 2/20\n",
      "229/229 [==============================] - 1s 6ms/step - loss: 0.3524 - accuracy: 0.8497 - val_loss: 0.3447 - val_accuracy: 0.8493\n",
      "Epoch 3/20\n",
      "229/229 [==============================] - 1s 6ms/step - loss: 0.3299 - accuracy: 0.8611 - val_loss: 0.3462 - val_accuracy: 0.8496\n",
      "Epoch 4/20\n",
      "229/229 [==============================] - 1s 6ms/step - loss: 0.3166 - accuracy: 0.8670 - val_loss: 0.3441 - val_accuracy: 0.8493\n",
      "Epoch 5/20\n",
      "229/229 [==============================] - 1s 6ms/step - loss: 0.3049 - accuracy: 0.8724 - val_loss: 0.3509 - val_accuracy: 0.8468\n",
      "Epoch 6/20\n",
      "229/229 [==============================] - 1s 6ms/step - loss: 0.2945 - accuracy: 0.8757 - val_loss: 0.3501 - val_accuracy: 0.8507\n",
      "Epoch 7/20\n",
      "229/229 [==============================] - 1s 6ms/step - loss: 0.2846 - accuracy: 0.8799 - val_loss: 0.3504 - val_accuracy: 0.8511\n",
      "Epoch 8/20\n",
      "229/229 [==============================] - 1s 6ms/step - loss: 0.2759 - accuracy: 0.8829 - val_loss: 0.3596 - val_accuracy: 0.8502\n",
      "Epoch 9/20\n",
      "229/229 [==============================] - 1s 6ms/step - loss: 0.2675 - accuracy: 0.8863 - val_loss: 0.3671 - val_accuracy: 0.8499\n",
      "Epoch 10/20\n",
      "229/229 [==============================] - 1s 6ms/step - loss: 0.2585 - accuracy: 0.8895 - val_loss: 0.3805 - val_accuracy: 0.8496\n",
      "Epoch 11/20\n",
      "229/229 [==============================] - 1s 6ms/step - loss: 0.2516 - accuracy: 0.8936 - val_loss: 0.3848 - val_accuracy: 0.8501\n",
      "Epoch 12/20\n",
      "229/229 [==============================] - 1s 6ms/step - loss: 0.2453 - accuracy: 0.8951 - val_loss: 0.3874 - val_accuracy: 0.8505\n",
      "Epoch 13/20\n",
      "229/229 [==============================] - 1s 6ms/step - loss: 0.2376 - accuracy: 0.8987 - val_loss: 0.4050 - val_accuracy: 0.8484\n",
      "Epoch 14/20\n",
      "229/229 [==============================] - 1s 6ms/step - loss: 0.2321 - accuracy: 0.9011 - val_loss: 0.4057 - val_accuracy: 0.8483\n",
      "Epoch 15/20\n",
      "229/229 [==============================] - 1s 6ms/step - loss: 0.2278 - accuracy: 0.9038 - val_loss: 0.4269 - val_accuracy: 0.8492\n",
      "Epoch 16/20\n",
      "229/229 [==============================] - 1s 6ms/step - loss: 0.2231 - accuracy: 0.9049 - val_loss: 0.4262 - val_accuracy: 0.8501\n",
      "Epoch 17/20\n",
      "229/229 [==============================] - 1s 6ms/step - loss: 0.2166 - accuracy: 0.9081 - val_loss: 0.4349 - val_accuracy: 0.8498\n",
      "Epoch 18/20\n",
      "229/229 [==============================] - 1s 6ms/step - loss: 0.2128 - accuracy: 0.9104 - val_loss: 0.4456 - val_accuracy: 0.8492\n",
      "Epoch 19/20\n",
      "229/229 [==============================] - 1s 6ms/step - loss: 0.2091 - accuracy: 0.9122 - val_loss: 0.4441 - val_accuracy: 0.8483\n",
      "Epoch 20/20\n",
      "229/229 [==============================] - 1s 6ms/step - loss: 0.2049 - accuracy: 0.9141 - val_loss: 0.4651 - val_accuracy: 0.8485\n",
      "  \n",
      "test data 로 LSTM 모델 성능평가 ------------------------------------------------------------------------------------------\n",
      "1534/1534 - 3s - loss: 0.4622 - accuracy: 0.8455\n",
      "results_lstm [0.46219396591186523, 0.845530092716217]\n"
     ]
    }
   ],
   "source": [
    "#4. 모델 구성 및 validation set 구성\n",
    "\n",
    "## Hyper param 설정\n",
    "vocab_size = len(word_to_index)   # 어휘 사전의 크기(10,000개의 단어)\n",
    "\n",
    "word_vector_dim = 16  # 워드 벡터의 차원 수\n",
    "hidden_unit = 16\n",
    "drop_rate = 0.2\n",
    "epochs= 20 \n",
    "\n",
    "## Hyper param 설정\n",
    "vocab_size = len(word_to_index)   # 어휘 사전의 크기(10,000개의 단어)\n",
    "\n",
    "word_vector_dim = 16  # 워드 벡터의 차원 수\n",
    "hidden_unit = 16\n",
    "drop_rate = 0.2\n",
    "cnn_dense_hidden_unit = 8\n",
    "cnn_filter = 7\n",
    "cnn_maxpool = 4\n",
    "epochs= 20 \n",
    "\n",
    "#(1) LSTM 모델\n",
    "## LSTM 모델\n",
    "\n",
    "model_lstm = tf.keras.Sequential()\n",
    "model_lstm.add(tf.keras.layers.Embedding(vocab_size, word_vector_dim, input_shape=(None,)))\n",
    "model_lstm.add(tf.keras.layers.Dropout(drop_rate))\n",
    "model_lstm.add(tf.keras.layers.LSTM(hidden_unit)) \n",
    "model_lstm.add(tf.keras.layers.Dropout(drop_rate))\n",
    "model_lstm.add(tf.keras.layers.Dense(hidden_unit, activation='relu'))\n",
    "model_lstm.add(tf.keras.layers.Dense(1, activation='sigmoid'))  # 최종 출력은 긍정/부정을 나타내는 1dim 입니다.\n",
    "\n",
    "model_lstm.summary()\n",
    "\n",
    "## LSTM모델구성 및  학습\n",
    "model_lstm.compile(optimizer='adam', loss='binary_crossentropy', metrics=['accuracy']) \n",
    "history_lstm = model_lstm.fit(partial_X_train, partial_y_train, epochs=epochs, batch_size=512, validation_data=(X_val, y_val), verbose=1)\n",
    "\n",
    "## test data 로 LSTM 모델 성능평가\n",
    "## LSTM 모델 성능평가\n",
    "\n",
    "print(\"  \")\n",
    "print(\"test data 로 LSTM 모델 성능평가\", \"---\"*30)\n",
    "results_lstm = model_lstm.evaluate(X_test,  y_test, verbose=2)\n",
    "print(\"results_lstm\", results_lstm)"
   ]
  },
  {
   "cell_type": "markdown",
   "id": "a50d9cce",
   "metadata": {},
   "source": [
    "#### [평가] Mecab의 경우 LSTM test accuracy 84.55% 였슴(SentencePiece 84.32% 보다 큰차이는 아니나 더 우수함) "
   ]
  },
  {
   "cell_type": "code",
   "execution_count": null,
   "id": "4ae81cf6",
   "metadata": {},
   "outputs": [],
   "source": []
  },
  {
   "cell_type": "markdown",
   "id": "44c040cd",
   "metadata": {},
   "source": [
    "####  (3) Okt"
   ]
  },
  {
   "cell_type": "markdown",
   "id": "c4ab226f",
   "metadata": {},
   "source": [
    "* **데이터 전처리,형태소분석,Tokenizer 함수생성 및 word_to_index, index_to_word 관련 함수생성**"
   ]
  },
  {
   "cell_type": "code",
   "execution_count": 33,
   "id": "e52d6f34",
   "metadata": {},
   "outputs": [
    {
     "name": "stdout",
     "output_type": "stream",
     "text": [
      "train_data          id                                           document  label\n",
      "0   9976970                                아 더빙.. 진짜 짜증나네요 목소리      0\n",
      "1   3819312                  흠...포스터보고 초딩영화줄....오버연기조차 가볍지 않구나      1\n",
      "2  10265843                                  너무재밓었다그래서보는것을추천한다      0\n",
      "3   9045019                      교도소 이야기구먼 ..솔직히 재미는 없다..평점 조정      0\n",
      "4   6483659  사이몬페그의 익살스런 연기가 돋보였던 영화!스파이더맨에서 늙어보이기만 했던 커스틴 ...      1 (150000, 3)\n",
      "------------------------------------------------------------\n",
      "test_data         id                                           document  label\n",
      "0  6270596                                                굳 ㅋ      1\n",
      "1  9274899                               GDNTOPCLASSINTHECLUB      0\n",
      "2  8544678             뭐야 이 평점들은.... 나쁘진 않지만 10점 짜리는 더더욱 아니잖아      0\n",
      "3  6825595                   지루하지는 않은데 완전 막장임... 돈주고 보기에는....      0\n",
      "4  6723715  3D만 아니었어도 별 다섯 개 줬을텐데.. 왜 3D로 나와서 제 심기를 불편하게 하죠??      0 (50000, 3)\n"
     ]
    }
   ],
   "source": [
    "# 데이터를 읽어봅시다. \n",
    "train_data = pd.read_table(r'~/aiffel/sp_tokenizer/ratings_train.txt')\n",
    "test_data = pd.read_table('~/aiffel/sp_tokenizer/ratings_test.txt')\n",
    "\n",
    "print(\"train_data\",train_data.head(),train_data.shape)\n",
    "print('-'*60)\n",
    "print(\"test_data\",test_data.head(),test_data.shape)"
   ]
  },
  {
   "cell_type": "code",
   "execution_count": 34,
   "id": "9100ec6b",
   "metadata": {},
   "outputs": [
    {
     "name": "stdout",
     "output_type": "stream",
     "text": [
      "train_data['document'].nunique() 146182\n",
      "train_data['label'].nunique() 2\n",
      "중복제거후 len(train_data) 146183\n",
      "test_data['document'].nunique() 49157\n",
      "test_data['label'].nunique() 2\n",
      "중복제거후 len(test_data) 49158\n",
      "결측치 개수 id          0\n",
      "document    1\n",
      "label       0\n",
      "dtype: int64\n",
      "결측치제거후 결측치 여부 False\n",
      "결측치 개수 id          0\n",
      "document    1\n",
      "label       0\n",
      "dtype: int64\n"
     ]
    },
    {
     "name": "stderr",
     "output_type": "stream",
     "text": [
      "/tmp/ipykernel_3107/2495083662.py:37: FutureWarning: The default value of regex will change from True to False in a future version.\n",
      "  train_data['document'] = train_data['document'].str.replace(\"[' ']+\",\" \")\n",
      "/tmp/ipykernel_3107/2495083662.py:38: FutureWarning: The default value of regex will change from True to False in a future version.\n",
      "  train_data['document'] = train_data['document'].str.replace(\"\\.{2,30}\",\" \")\n",
      "/tmp/ipykernel_3107/2495083662.py:39: FutureWarning: The default value of regex will change from True to False in a future version.\n",
      "  train_data['document'] = train_data['document'].str.replace(\"[^ㄱ-힣0-9!?,.\\^+ ^\\s]\",\"\")  #한글전용형태소기인 경우 영어제외\n"
     ]
    },
    {
     "name": "stdout",
     "output_type": "stream",
     "text": [
      "결측치제거후 결측치 여부 False\n",
      "한글과 공백,기타일부 등제외후 모두제거상태_train_data.head()          id                                           document  label\n",
      "0   9976970                                 아 더빙  진짜 짜증나네요 목소리      0\n",
      "1   3819312                       흠 포스터보고 초딩영화줄 오버연기조차 가볍지 않구나      1\n",
      "2  10265843                                  너무재밓었다그래서보는것을추천한다      0\n",
      "3   9045019                        교도소 이야기구먼  솔직히 재미는 없다 평점 조정      0\n",
      "4   6483659  사이몬페그의 익살스런 연기가 돋보였던 영화!스파이더맨에서 늙어보이기만 했던 커스틴 ...      1\n"
     ]
    },
    {
     "name": "stderr",
     "output_type": "stream",
     "text": [
      "/tmp/ipykernel_3107/2495083662.py:43: FutureWarning: The default value of regex will change from True to False in a future version.\n",
      "  test_data['document' ]= test_data['document'].str.replace(\"[' ']+\",\" \")\n",
      "/tmp/ipykernel_3107/2495083662.py:44: FutureWarning: The default value of regex will change from True to False in a future version.\n",
      "  test_data['document'] = test_data['document'].str.replace(\"\\.{2,30}\",\" \")\n",
      "/tmp/ipykernel_3107/2495083662.py:45: FutureWarning: The default value of regex will change from True to False in a future version.\n",
      "  test_data['document'] = test_data['document'].str.replace(\"[^ㄱ-힣0-9!?,.\\^+ ^\\s]\",\"\")  #한글전용형태소기인 경우 영어제외\n"
     ]
    },
    {
     "name": "stdout",
     "output_type": "stream",
     "text": [
      "한글과 공백,기타일부 등제외후 모두제거상태_test_data.head()         id                                        document  label\n",
      "0  6270596                                             굳 ㅋ      1\n",
      "1  9274899                                                      0\n",
      "2  8544678             뭐야 이 평점들은  나쁘진 않지만 10점 짜리는 더더욱 아니잖아      0\n",
      "3  6825595                     지루하지는 않은데 완전 막장임  돈주고 보기에는       0\n",
      "4  6723715  3만 아니었어도 별 다섯 개 줬을텐데  왜 3로 나와서 제 심기를 불편하게 하죠??      0\n",
      "Nan 존재유뮤 True\n",
      "Nan 존재유뮤 True\n"
     ]
    },
    {
     "name": "stderr",
     "output_type": "stream",
     "text": [
      "100%|██████████| 146026/146026 [04:37<00:00, 526.98it/s]\n"
     ]
    },
    {
     "name": "stdout",
     "output_type": "stream",
     "text": [
      "X_train [['아', '더빙', '진짜', '짜증나네요', '목소리'], ['흠', '포스터', '보고', '초딩', '영화', '줄', '오버', '연기', '조차', '가볍지', '않구나'], ['너', '무재', '밓었', '다그', '래서', '보는것을', '추천', '다'], ['교도소', '이야기', '구먼', '솔직히', '재미', '없다', '평점', '조정'], ['사이', '몬페', '그', '익살스런', '연기', '돋보였던', '영화', '!', '스파이더맨', '에서', '늙어', '보이기만', '했던', '커스틴', '던스트', '너무나도', '이뻐', '보였다']] 146026\n"
     ]
    },
    {
     "name": "stderr",
     "output_type": "stream",
     "text": [
      "100%|██████████| 49084/49084 [01:29<00:00, 548.99it/s]\n"
     ]
    },
    {
     "name": "stdout",
     "output_type": "stream",
     "text": [
      "X_test [['굳', 'ㅋ'], ['뭐', '야', '평점', '나쁘진', '않지만', '10', '점', '짜', '리', '더', '더욱', '아니잖아'], ['지루하지는', '않은데', '완전', '막장', '임', '돈', '주고', '보기', '에는'], ['3만', '아니었어도', '별', '다섯', '개', '줬을텐데', '왜', '3', '로', '나와서', '제', '심기', '불편하게', '하죠', '??'], ['음악', '주가', '된', ',', '최고', '음악', '영화']] 49084\n",
      "X_train[:5] [[46, 435, 15, 6959, 649], [908, 436, 40, 597, 5, 197, 1558, 19, 965, 6130, 3], [376, 2870, 3, 6515, 8077, 3, 201, 10], [8742, 103, 3, 218, 56, 72, 21, 4411], [1055, 3, 24, 3, 19, 6516, 5, 12, 3065, 18, 5380, 3, 461, 3, 3, 1107, 3810, 4512]] y_train[:5] [0 1 0 0 1] X_test[:5] [[792, 80], [58, 154, 21, 4739, 1443, 69, 16, 1064, 880, 44, 778, 3696], [3, 2484, 85, 325, 107, 101, 378, 143, 252], [3, 3, 118, 2587, 98, 9936, 32, 99, 17, 605, 179, 3, 3, 6083, 165], [191, 3490, 140, 7, 23, 191, 5]] y_test[:5] [1 0 0 0 1]\n",
      "len( word_to_index) 9997\n"
     ]
    }
   ],
   "source": [
    "## 데이터로더\n",
    "tokenizer = Okt()\n",
    "stopwords = ['의','가','이','은','들','는','좀','잘','걍','과','도','를','으로','자','에','와','한','하다']\n",
    "num_words=10000\n",
    "\n",
    "def load_data(train_data, test_data, num_words=num_words):\n",
    "    ## 중복값 제거:  'document'컬럼의 중복값 제거,'label'컬럼은 0,1의 두개면 맞음\n",
    "    #1. train_data\n",
    "    print(\"train_data['document'].nunique()\",train_data['document'].nunique())\n",
    "    if train_data['document'].nunique() < len(train_data):\n",
    "        train_data.drop_duplicates(subset=['document'], inplace=True) \n",
    "        print(\"train_data['label'].nunique()\",train_data['label'].nunique())    \n",
    "        print(\"중복제거후 len(train_data)\",len(train_data))    \n",
    "    #2. test_data    \n",
    "    print(\"test_data['document'].nunique()\",test_data['document'].nunique())\n",
    "    if test_data['document'].nunique() < len(test_data):\n",
    "        test_data.drop_duplicates(subset=['document'], inplace=True)\n",
    "        print(\"test_data['label'].nunique()\",test_data['label'].nunique())    \n",
    "        print(\"중복제거후 len(test_data)\",len(test_data))\n",
    "    \n",
    "    ## 결측치제거 : 1개라도 있으면, 해당행 전체 제거\n",
    "    #1. train_data\n",
    "    print(\"결측치 개수\",train_data.isnull().sum())\n",
    "    if train_data.isnull().any().any():\n",
    "        train_data.dropna(how='any',inplace=True)\n",
    "        print(\"결측치제거후 결측치 여부\",train_data.isnull().any().any())    \n",
    "    #2. test_data\n",
    "    print(\"결측치 개수\",test_data.isnull().sum())\n",
    "    if test_data.isnull().any().any():\n",
    "        test_data.dropna(how='any',inplace=True)\n",
    "        print(\"결측치제거후 결측치 여부\",test_data.isnull().any().any())\n",
    "    \n",
    "    ## 데이터 정제 \n",
    "    # 한글과 숫자,공백(한개이상 공백은 한개로 축소),특수문자일부 !?,.^을 제외하고 제거:[^ㄱ-힣a-zA-Z0-9!?,.^\\s]\n",
    "    # --> 한글형태소기를 tokenizer로 쓸 경우에는 영어및 일부선택된 특수문자외에는 모두제거(..., - - 등도 제거)\n",
    "    #1. train_data\n",
    "    train_data['document'] = train_data['document'].str.replace(\"[' ']+\",\" \")\n",
    "    train_data['document'] = train_data['document'].str.replace(\"\\.{2,30}\",\" \") \n",
    "    train_data['document'] = train_data['document'].str.replace(\"[^ㄱ-힣0-9!?,.\\^+ ^\\s]\",\"\")  #한글전용형태소기인 경우 영어제외\n",
    "    #train_data['document'] = train_data['document'].str.replace(\"[^ㄱ-힣a-zA-Z0-9!?,.^\\s]\",\"\")  #한글영어병행형태소기인경우 영어포함                                                         \n",
    "    print(\"한글과 공백,기타일부 등제외후 모두제거상태_train_data.head()\",train_data.head())\n",
    "    #2. test_data\n",
    "    test_data['document' ]= test_data['document'].str.replace(\"[' ']+\",\" \")\n",
    "    test_data['document'] = test_data['document'].str.replace(\"\\.{2,30}\",\" \") \n",
    "    test_data['document'] = test_data['document'].str.replace(\"[^ㄱ-힣0-9!?,.\\^+ ^\\s]\",\"\")  #한글전용형태소기인 경우 영어제외\n",
    "    #test_data['document'] = test_data['document'].str.replace(\"[^ㄱ-힣a-zA-Z0-9!?,.^\\s]\",\"\")  #한글영어병행형태소기인경우 영어포함                                                            \n",
    "    print(\"한글과 공백,기타일부 등제외후 모두제거상태_test_data.head()\",test_data.head())\n",
    "    # 데이터 정제후 빈 공백만 있는 문장의 경우 제거:  Nan 입력후 행제거\n",
    "    #1. train_data\n",
    "    train_data['document'].replace('', np.nan, inplace=True)\n",
    "    print(\"Nan 존재유뮤\",train_data.isnull().any().any() )\n",
    "    if train_data.isnull().any().any():\n",
    "        train_data.dropna(how='any',inplace=True)\n",
    "    #2. test_data   \n",
    "    test_data['document'].replace('', np.nan, inplace=True)\n",
    "    print(\"Nan 존재유뮤\",test_data.isnull().any().any() )\n",
    "    if test_data.isnull().any().any():\n",
    "        test_data.dropna(how='any',inplace=True)\n",
    "    \n",
    "    ## 한국어 토크나이저로 토큰화    \n",
    "    # 1. train_data\n",
    "    X_train = []\n",
    "    for sentence in tqdm.tqdm(train_data['document']):\n",
    "        tokenized = tokenizer.morphs(sentence) # morphs 형태소추출\n",
    "        #print(\"tokenized\", tokenized)\n",
    "        tokenized_without_stopwords = [word for word in tokenized if not word in stopwords] # 불용어 제거\n",
    "        X_train.append(tokenized_without_stopwords)\n",
    "    print(\"X_train\",X_train[:5],len(X_train))\n",
    "    \n",
    "    # 2. test_data\n",
    "    X_test = []\n",
    "    for sentence in tqdm.tqdm(test_data['document']):\n",
    "        tokenized = tokenizer.morphs(sentence) # morphs 형태소추출\n",
    "        #print(\"tokenized\", tokenized)\n",
    "        tokenized_without_stopwords = [word for word in tokenized if not word in stopwords] # 불용어 제거\n",
    "        X_test.append(tokenized_without_stopwords)\n",
    "    print(\"X_test\",X_test[:5],len(X_test))\n",
    "    \n",
    "    ## word_to_index 구성: train only ???  train + test ??? 로 word vs index 매칭 ??? !!!!!!!!!!!!\n",
    "    words = np.concatenate(X_train).tolist()  \n",
    "    #words = np.concatenate(X_train).tolist() + np.concatenate(X_test).tolist()\n",
    "    counter = Counter(words)\n",
    "    counter = counter.most_common(num_words-4)   #10000-4)\n",
    "    vocab = ['', '', '', ''] + [key for key, _ in counter]\n",
    "    word_to_index = {word:index for index, word in enumerate(vocab)}\n",
    "    \n",
    "    ## X_Train, X_test 를 word_to_index의 index로 mapping\n",
    "    def wordlist_to_indexlist(wordlist):\n",
    "        return [word_to_index[word] if word in word_to_index else word_to_index[''] for word in wordlist]\n",
    "        \n",
    "    X_train = list(map(wordlist_to_indexlist, X_train))\n",
    "    X_test = list(map(wordlist_to_indexlist, X_test))\n",
    "    \n",
    "    return X_train, np.array(list(train_data['label'])), X_test, np.array(list(test_data['label'])), word_to_index\n",
    "    \n",
    "X_train, y_train, X_test, y_test, word_to_index = load_data(train_data, test_data)\n",
    "\n",
    "# 인덱스로 매칭된 데이터 확인\n",
    "print(\"X_train[:5]\",X_train[:5],\"y_train[:5]\",y_train[:5],\"X_test[:5]\",X_test[:5],\"y_test[:5]\",y_test[:5])\n",
    "print('len( word_to_index)', len(word_to_index))\n",
    "\n",
    "## 인덱스를 key로 word 반환 Dict 만들기\n",
    "index_to_word = {index:word for word, index in word_to_index.items()}\n",
    "# 문장 1개를 활용할 딕셔너리와 함께 주면, 단어 인덱스 리스트 벡터로 변환해 주는 함수입니다. \n",
    "# 단, 모든 문장은 <BOS>로 시작하는 것으로 합니다. \n",
    "\n",
    "def get_encoded_sentence(sentence, word_to_index):\n",
    "    return [word_to_index['<BOS>']]+[word_to_index[word] if word in word_to_index else word_to_index['<UNK>'] for word in sentence.split()]\n",
    "\n",
    "# 여러 개의 문장 리스트를 한꺼번에 단어 인덱스 리스트 벡터로 encode해 주는 함수입니다. \n",
    "def get_encoded_sentences(sentences, word_to_index):\n",
    "    return [get_encoded_sentence(sentence, word_to_index) for sentence in sentences]\n",
    "\n",
    "# 숫자 벡터로 encode된 문장을 원래대로 decode하는 함수입니다. \n",
    "def get_decoded_sentence(encoded_sentence, index_to_word):\n",
    "    return ' '.join(index_to_word[index] if index in index_to_word else '<UNK>' for index in encoded_sentence[1:])  #[1:]를 통해 <BOS>를 제외\n",
    "\n",
    "# 여러 개의 숫자 벡터로 encode된 문장을 한꺼번에 원래대로 decode하는 함수입니다. \n",
    "def get_decoded_sentences(encoded_sentences, index_to_word):\n",
    "    return [get_decoded_sentence(encoded_sentence, index_to_word) for encoded_sentence in encoded_sentences]\n"
   ]
  },
  {
   "cell_type": "markdown",
   "id": "30ab0d56",
   "metadata": {},
   "source": [
    "* **데이터내 문장 Max_length설정, 보정, Padding 및 train data, valid data 분리**"
   ]
  },
  {
   "cell_type": "code",
   "execution_count": 35,
   "id": "c7eaa7a5",
   "metadata": {},
   "outputs": [
    {
     "name": "stdout",
     "output_type": "stream",
     "text": [
      "문장길이평균: 12.16\n",
      "문장길이표준편차: 10.08\n",
      "문장길이Max: 79\n",
      "문장길이Min: 0\n",
      "문장길이 0개수: 318\n",
      "['NanumGothic']\n"
     ]
    },
    {
     "data": {
      "image/png": "[encoded data removed]",
      "text/plain": [
       "<Figure size 432x288 with 1 Axes>"
      ]
     },
     "metadata": {
      "needs_background": "light"
     },
     "output_type": "display_data"
    },
    {
     "data": {
      "image/png": "[encoded data removed]",
      "text/plain": [
       "<Figure size 432x288 with 1 Axes>"
      ]
     },
     "metadata": {
      "needs_background": "light"
     },
     "output_type": "display_data"
    },
    {
     "name": "stdout",
     "output_type": "stream",
     "text": [
      "표준편차 +- 2범위내 데이터수: 182661 원래전체데이터대비비중: 93.62 %\n"
     ]
    },
    {
     "data": {
      "image/png": "[encoded data removed]",
      "text/plain": [
       "<Figure size 432x288 with 1 Axes>"
      ]
     },
     "metadata": {
      "needs_background": "light"
     },
     "output_type": "display_data"
    },
    {
     "name": "stdout",
     "output_type": "stream",
     "text": [
      "적절한 최대 문장 길이 >> pad_sequences maxlen:  32\n",
      "word_to_index_앞쪽 10개 확인: [['', 3], ['.', 4], ['영화', 5], ['을', 6], [',', 7], ['?', 8], ['너무', 9], ['다', 10], ['정말', 11], ['!', 12]]\n",
      "len(word_to_index) 9997\n",
      "word_to_index_추가된 항목 재확인: [['예뻤다', 9998], ['배달', 9999], ['<BOS>', 0], ['<PAD>', 1], ['<UNK>', 2]]\n",
      "<BOS>\n",
      "3\n",
      ".\n",
      "더빙 진짜 짜증나네요 목소리\n",
      "라벨:  0\n",
      "5\n",
      "<BOS>\n",
      "보정완료 OK\n",
      "len(word_to_index): 10000\n",
      "X_train [[46, 435, 15, 6959, 649], [908, 436, 40, 597, 5, 197, 1558, 19, 965, 6130, 3], [376, 2870, 3, 6515, 8077, 3, 201, 10]] 146026 <class 'int'>\n",
      "X_train 내의 인덱스 type확인: float 0 int 1777541 str 0 etc 0 총개수 1777541\n",
      "X_train: (146026, 32)\n",
      "X_test: (49084, 32)\n",
      "X_train 총개수: 146026 80%분리:  116820 20%분리: 29206\n",
      "partial_X_train 116820 partial_y_train 116820\n",
      "X_val 29206 y_val 29206\n"
     ]
    }
   ],
   "source": [
    "#3. 모델 구성을 위한 데이터 분석 및 가공\n",
    "#(1) 데이터셋 내 문장 길이 분포\n",
    "\n",
    "## 데이터셋 내 문장 길이 분포\n",
    "total_data_text = list(X_train) + list(X_test)\n",
    "total_data_text_dist = [len(x) for x in total_data_text]\n",
    "#print(total_data_text_dist)\n",
    "\n",
    "mean = round(np.mean(total_data_text_dist),2)\n",
    "std = round(np.std(total_data_text_dist),2)\n",
    "max = np.max(total_data_text_dist)\n",
    "min = np.min(total_data_text_dist)\n",
    "min_count = len([x for x in total_data_text_dist if x == 0])\n",
    "print(\"문장길이평균:\",mean)\n",
    "print(\"문장길이표준편차:\",std)\n",
    "print(\"문장길이Max:\",max)\n",
    "print(\"문장길이Min:\",min)\n",
    "print(\"문장길이 0개수:\", min_count)\n",
    "\n",
    "# 히스토그램 시각화: total_data\n",
    "print(plt.rcParams['font.family'])\n",
    "plt.rc('font',family='NanumGothic')\n",
    "plt.hist(total_data_text_dist, bins = 20)\n",
    "plt.xlabel('한문장당 길이')\n",
    "plt.ylabel('데이터 개수')\n",
    "plt.show()\n",
    "\n",
    "# 박스플롯: total_data\n",
    "plt.boxplot(total_data_text_dist)\n",
    "plt.show()\n",
    "\n",
    "#(2) 적절한 최대 문장 길이 지정: 39\n",
    "\n",
    "## 적절한 최대 문장 길이 지정: (평균 + 표준편차*2)이내\n",
    "total_data_text_dist_array = np.array(total_data_text_dist)\n",
    "total_data_text_within_2std = total_data_text_dist_array[(total_data_text_dist_array <= mean + std*2) & (total_data_text_dist_array >= mean - std*2)]\n",
    "print(\"표준편차 +- 2범위내 데이터수:\", len(total_data_text_within_2std),\n",
    "      \"원래전체데이터대비비중:\",round(len(total_data_text_within_2std)*100/len(total_data_text),2),\"%\")\n",
    "\n",
    "# 히스토그램 시각화: total_data_text_within_2std\n",
    "plt.hist(total_data_text_within_2std, bins = 20)\n",
    "plt.xlabel('한문장당 길이')\n",
    "plt.ylabel('데이터 개수')\n",
    "plt.show()\n",
    "\n",
    "max_length = int(mean + std*2)\n",
    "print(\"적절한 최대 문장 길이 >> pad_sequences maxlen: \",int(max_length))\n",
    "\n",
    "    \n",
    "## 보정 및 최대길이에 맞추어 Padding\n",
    "\n",
    "#(3) word_to_index 및 index_to_word 보정: 앞쪽 위치 0,1,2번에 3개 항목 입력\n",
    "\n",
    "# word_to_index의 첫 인덱스위치에 '<BOS>' 있는지 확인\n",
    "print(\"word_to_index_앞쪽 10개 확인:\",[[key,value] for key,value in word_to_index.items()][:10] )\n",
    "print(\"len(word_to_index)\",len(word_to_index))   # 3개가 비어있슴\n",
    "\n",
    "# <BOS>, <PAD>,  <UNK> 3항목에 인덱스 0,1,2  보정값 입력\n",
    "word_to_index[\"<BOS>\"] = int(0)\n",
    "word_to_index[\"<PAD>\"] = int(1)\n",
    "word_to_index[\"<UNK>\"] = int(2)  # unknown\n",
    "print(\"word_to_index_추가된 항목 재확인:\",[[key,value] for key,value in word_to_index.items()][-5:] )\n",
    "\n",
    "# index_to_word 도 보정\n",
    "index_to_word = {index:word for word, index in word_to_index.items()}\n",
    "\n",
    "print(index_to_word[0])     # '<BOS>' 가 출력\n",
    "print(word_to_index[''])  # 3 이 출력\n",
    "print(index_to_word[4])     # '.' 가 출력\n",
    "\n",
    "# 보정 후 x_train[0] 데이터 확인: \n",
    "print(get_decoded_sentence(X_train[0], index_to_word))\n",
    "print('라벨: ', y_train[0])  # 1번째 리뷰데이터의 라벨\n",
    "print(len(X_train[0]))\n",
    "print(index_to_word[y_train[0]])\n",
    "print(\"보정완료 OK\")\n",
    "\n",
    "#(4) keras.preprocessing.sequence.pad_sequences 을 활용한 패딩 추가\n",
    "\n",
    "### keras.preprocessing.sequence.pad_sequences 을 활용한 패딩 추가 및 max_length로 일정길이 맞춤\n",
    "print(\"len(word_to_index):\",len(word_to_index))\n",
    "print(\"X_train\", X_train[:3], len(X_train), type(X_train[0][0]))\n",
    "\n",
    "# type 확인: train 내의 word index의 type check: 모두 int 임, 총개수 2,176,140개\n",
    "floatlist = [];intlist = [];strlist = [];etclist = []\n",
    "for X in X_train:\n",
    "    for idx in X:\n",
    "        if type(idx) == float:\n",
    "            floatlist.append(idx)            \n",
    "        elif type(idx) == int:\n",
    "            intlist.append(idx)  \n",
    "        elif type(idx) == str:\n",
    "            strlist.append(idx)   \n",
    "        else:\n",
    "            etclist.append(idx)\n",
    "print(\"X_train 내의 인덱스 type확인:\",\"float\",len(floatlist),\"int\",len(intlist),\"str\",len(strlist),\n",
    "       \"etc\",len(etclist),\"총개수\", len(floatlist)+ len(intlist)+ len(strlist)+len(etclist)) # int만 총개수 2,176,140\n",
    "\n",
    "# 숫자로 변환된 텍스트 데이터를 numpy array로 변경. \n",
    "X_train = np.array(X_train, dtype='object')\n",
    "X_test = np.array(X_test, dtype='object')\n",
    "\n",
    "## padding된 데이터: padding된 곳은 1 이 입력됨\n",
    "X_train = tf.keras.preprocessing.sequence.pad_sequences(X_train,\n",
    "                                                       value=word_to_index['<PAD>'], # <PAD> index 값 : 1\n",
    "                                                       padding='pre',           # 성능향상위해 'pre'적용\n",
    "                                                       maxlen=max_length)       # maxlen = 39\n",
    "X_test = tf.keras.preprocessing.sequence.pad_sequences(X_test,\n",
    "                                                       value=word_to_index['<PAD>'], # <PAD> index 값 : 1\n",
    "                                                       padding='pre',           # 성능향상위해 'pre'적용\n",
    "                                                       maxlen=max_length)       # maxlen = 39\n",
    "print(\"X_train:\", X_train.shape)\n",
    "print(\"X_test:\", X_test.shape)\n",
    "\n",
    "\n",
    "## train data, vaoli data 분리 : 80:20\n",
    "print(\"X_train 총개수:\", len(X_train), \"80%분리: \",int(len(X_train)*0.8), \"20%분리:\",len(X_train)-int(len(X_train)*0.8))\n",
    "train_len = int(len(X_train)*0.8)\n",
    "valid_len = len(X_train)-int(len(X_train)*0.8)\n",
    "\n",
    "# validation set 20% 분리: \n",
    "X_val = X_train[:valid_len]   \n",
    "y_val = y_train[:valid_len]\n",
    "\n",
    "# validation set을 제외한 나머지 15000건\n",
    "partial_X_train = X_train[valid_len:]  \n",
    "partial_y_train = y_train[valid_len:]\n",
    "\n",
    "print(\"partial_X_train\",len(partial_X_train),\"partial_y_train\",len(partial_y_train))\n",
    "print(\"X_val\",len(X_val), \"y_val\",len(y_val))"
   ]
  },
  {
   "cell_type": "markdown",
   "id": "156f0dce",
   "metadata": {},
   "source": [
    "#### LSTM모델구성 및 학습, 테스트"
   ]
  },
  {
   "cell_type": "code",
   "execution_count": 36,
   "id": "a551cd96",
   "metadata": {},
   "outputs": [
    {
     "name": "stdout",
     "output_type": "stream",
     "text": [
      "Model: \"sequential_4\"\n",
      "_________________________________________________________________\n",
      "Layer (type)                 Output Shape              Param #   \n",
      "=================================================================\n",
      "embedding_4 (Embedding)      (None, None, 16)          160000    \n",
      "_________________________________________________________________\n",
      "dropout_8 (Dropout)          (None, None, 16)          0         \n",
      "_________________________________________________________________\n",
      "lstm_4 (LSTM)                (None, 16)                2112      \n",
      "_________________________________________________________________\n",
      "dropout_9 (Dropout)          (None, 16)                0         \n",
      "_________________________________________________________________\n",
      "dense_8 (Dense)              (None, 16)                272       \n",
      "_________________________________________________________________\n",
      "dense_9 (Dense)              (None, 1)                 17        \n",
      "=================================================================\n",
      "Total params: 162,401\n",
      "Trainable params: 162,401\n",
      "Non-trainable params: 0\n",
      "_________________________________________________________________\n",
      "Epoch 1/20\n",
      "229/229 [==============================] - 3s 7ms/step - loss: 0.5132 - accuracy: 0.7435 - val_loss: 0.3623 - val_accuracy: 0.8406\n",
      "Epoch 2/20\n",
      "229/229 [==============================] - 1s 5ms/step - loss: 0.3472 - accuracy: 0.8507 - val_loss: 0.3434 - val_accuracy: 0.8478\n",
      "Epoch 3/20\n",
      "229/229 [==============================] - 1s 6ms/step - loss: 0.3247 - accuracy: 0.8624 - val_loss: 0.3420 - val_accuracy: 0.8480\n",
      "Epoch 4/20\n",
      "229/229 [==============================] - 1s 5ms/step - loss: 0.3132 - accuracy: 0.8686 - val_loss: 0.3425 - val_accuracy: 0.8469\n",
      "Epoch 5/20\n",
      "229/229 [==============================] - 1s 6ms/step - loss: 0.3058 - accuracy: 0.8713 - val_loss: 0.3445 - val_accuracy: 0.8472\n",
      "Epoch 6/20\n",
      "229/229 [==============================] - 1s 6ms/step - loss: 0.2973 - accuracy: 0.8757 - val_loss: 0.3448 - val_accuracy: 0.8465\n",
      "Epoch 7/20\n",
      "229/229 [==============================] - 1s 5ms/step - loss: 0.2889 - accuracy: 0.8797 - val_loss: 0.3468 - val_accuracy: 0.8468\n",
      "Epoch 8/20\n",
      "229/229 [==============================] - 1s 6ms/step - loss: 0.2790 - accuracy: 0.8834 - val_loss: 0.3480 - val_accuracy: 0.8473\n",
      "Epoch 9/20\n",
      "229/229 [==============================] - 1s 6ms/step - loss: 0.2706 - accuracy: 0.8867 - val_loss: 0.3502 - val_accuracy: 0.8486\n",
      "Epoch 10/20\n",
      "229/229 [==============================] - 1s 6ms/step - loss: 0.2632 - accuracy: 0.8893 - val_loss: 0.3640 - val_accuracy: 0.8488\n",
      "Epoch 11/20\n",
      "229/229 [==============================] - 1s 6ms/step - loss: 0.2541 - accuracy: 0.8937 - val_loss: 0.3685 - val_accuracy: 0.8461\n",
      "Epoch 12/20\n",
      "229/229 [==============================] - 1s 5ms/step - loss: 0.2469 - accuracy: 0.8967 - val_loss: 0.3741 - val_accuracy: 0.8455\n",
      "Epoch 13/20\n",
      "229/229 [==============================] - 1s 5ms/step - loss: 0.2401 - accuracy: 0.8990 - val_loss: 0.3817 - val_accuracy: 0.8436\n",
      "Epoch 14/20\n",
      "229/229 [==============================] - 1s 6ms/step - loss: 0.2341 - accuracy: 0.9013 - val_loss: 0.3873 - val_accuracy: 0.8427\n",
      "Epoch 15/20\n",
      "229/229 [==============================] - 1s 5ms/step - loss: 0.2285 - accuracy: 0.9042 - val_loss: 0.4103 - val_accuracy: 0.8429\n",
      "Epoch 16/20\n",
      "229/229 [==============================] - 1s 5ms/step - loss: 0.2248 - accuracy: 0.9054 - val_loss: 0.4129 - val_accuracy: 0.8425\n",
      "Epoch 17/20\n",
      "229/229 [==============================] - 1s 5ms/step - loss: 0.2200 - accuracy: 0.9073 - val_loss: 0.4234 - val_accuracy: 0.8414\n",
      "Epoch 18/20\n",
      "229/229 [==============================] - 1s 5ms/step - loss: 0.2146 - accuracy: 0.9098 - val_loss: 0.4433 - val_accuracy: 0.8407\n",
      "Epoch 19/20\n",
      "229/229 [==============================] - 1s 5ms/step - loss: 0.2127 - accuracy: 0.9101 - val_loss: 0.4342 - val_accuracy: 0.8397\n",
      "Epoch 20/20\n",
      "229/229 [==============================] - 1s 6ms/step - loss: 0.2077 - accuracy: 0.9122 - val_loss: 0.4488 - val_accuracy: 0.8384\n",
      "  \n",
      "test data 로 LSTM 모델 성능평가 ------------------------------------------------------------------------------------------\n",
      "1534/1534 - 3s - loss: 0.4611 - accuracy: 0.8327\n",
      "results_lstm [0.46106794476509094, 0.8327357172966003]\n"
     ]
    }
   ],
   "source": [
    "#4. 모델 구성 및 validation set 구성\n",
    "\n",
    "## Hyper param 설정\n",
    "vocab_size = len(word_to_index)   # 어휘 사전의 크기(10,000개의 단어)\n",
    "\n",
    "word_vector_dim = 16  # 워드 벡터의 차원 수\n",
    "hidden_unit = 16\n",
    "drop_rate = 0.2\n",
    "cnn_dense_hidden_unit = 8\n",
    "cnn_filter = 7\n",
    "cnn_maxpool = 4\n",
    "epochs= 20 \n",
    "\n",
    "## Hyper param 설정\n",
    "vocab_size = len(word_to_index)   # 어휘 사전의 크기(10,000개의 단어)\n",
    "\n",
    "word_vector_dim = 16  # 워드 벡터의 차원 수\n",
    "hidden_unit = 16\n",
    "drop_rate = 0.2\n",
    "cnn_dense_hidden_unit = 8\n",
    "cnn_filter = 7\n",
    "cnn_maxpool = 4\n",
    "epochs= 20 \n",
    "\n",
    "#(1) LSTM 모델\n",
    "## LSTM 모델\n",
    "\n",
    "model_lstm = tf.keras.Sequential()\n",
    "model_lstm.add(tf.keras.layers.Embedding(vocab_size, word_vector_dim, input_shape=(None,)))\n",
    "model_lstm.add(tf.keras.layers.Dropout(drop_rate))\n",
    "model_lstm.add(tf.keras.layers.LSTM(hidden_unit)) \n",
    "model_lstm.add(tf.keras.layers.Dropout(drop_rate))\n",
    "model_lstm.add(tf.keras.layers.Dense(hidden_unit, activation='relu'))\n",
    "model_lstm.add(tf.keras.layers.Dense(1, activation='sigmoid'))  # 최종 출력은 긍정/부정을 나타내는 1dim 입니다.\n",
    "\n",
    "model_lstm.summary()\n",
    "\n",
    "## LSTM모델구성 및  학습\n",
    "model_lstm.compile(optimizer='adam', loss='binary_crossentropy', metrics=['accuracy']) \n",
    "history_lstm = model_lstm.fit(partial_X_train, partial_y_train, epochs=epochs, batch_size=512, validation_data=(X_val, y_val), verbose=1)\n",
    "\n",
    "## test data 로 LSTM 모델 성능평가\n",
    "## LSTM 모델 성능평가\n",
    "\n",
    "print(\"  \")\n",
    "print(\"test data 로 LSTM 모델 성능평가\", \"---\"*30)\n",
    "results_lstm = model_lstm.evaluate(X_test,  y_test, verbose=2)\n",
    "print(\"results_lstm\", results_lstm)\n"
   ]
  },
  {
   "cell_type": "markdown",
   "id": "7fbae07f",
   "metadata": {},
   "source": [
    "* **[평가] Okt 의 경우 LSTM test accuracy 83.27% 였슴(Mecab 84.55% 및 Unigram SentencePiece 84.32% 보다 낮음)**"
   ]
  },
  {
   "cell_type": "code",
   "execution_count": null,
   "id": "d95f1ca0",
   "metadata": {},
   "outputs": [],
   "source": []
  },
  {
   "cell_type": "markdown",
   "id": "8dac0018",
   "metadata": {},
   "source": [
    "## 4. 종합비교\n",
    "\n",
    "* 데이터 전처리 관련 공통사항: \n",
    "SentencePiece 는 전처리가 필요없다고 dkffuwu dlTsmsep, 중복문장제거가 필요하였고, 결측치 처리가 않될 경우 오유가 발생하는등 기본적인 전처리가 필요하du,, Konlpy의 Mecab, Okt에서 하는 전처리에서처럼, 중복문장제거, 결측치처리, 구두점및특수문자등 3가지 전처리는 공통적으로 하였슴 \n",
    "\n",
    "* 성능평가모델은 공통적으로 LSTM으로 썼으며, 모델 아키텍쳐와 손실함수, 옵티마이저, 하이퍼파람등 모두 동일하게 설정해서, 동일 기준으로 비교하였슴\n",
    "\n",
    "Okt 의 경우 LSTM test accuracy 83.27% 였슴(Mecab 84.55% 및 Unigram SentencePiece 84.32% 보다 낮음)\n",
    " \n",
    "#### (1) SetencePiece 평가\n",
    "* Unigram 모델 성능:  test accuracy 84.32%   \n",
    "* Bpe 모델 성능:  test accuracy 83.64%  (별도 깃허브 링크:  https://github.com/lkh-7/first-repository/blob/master/%5BGDeep%5D02_%5Bsp_tokenizer%5D_%ED%94%84%EB%A1%9C%EC%A0%9D%ED%8A%B8_%EB%A9%8B%EC%A7%84%20%EB%8B%A8%EC%96%B4%EC%82%AC%EC%A0%84%20%EB%A7%8C%EB%93%A4%EA%B8%B0_Project_%EC%A0%9C%EC%B6%9C%EC%A4%80%EB%B9%84%EC%9A%A9_SPM_Bpe_ONLY.ipynb) \n",
    "\n",
    "* (특이점) SetencePiece 모델은 한국어에 적용할 경우 불용어처리기능이 없었는데, 성능이 좋은 편이었으며, 데이터 전처리가 필요없다고,알려진 바와 다르게, 중복문장처리, 결측치제거, 특수문자처리등 기본적인 전처리가 필요했슴\n",
    "\n",
    "* Unigram 모델이 더 우수 \n",
    "\n",
    "\n",
    "#### (2) KoNLPY 평가\n",
    "* Mecab 모델 성능:  test accuracy 84.55%   \n",
    "* Okt 모델 성능:  test accuracy 83.27%  \n",
    "\n",
    "* Mecab 모델이 더 우수\n",
    "\n",
    "#### (3) 종합평가\n",
    "* **전체중에서, Mecab 가 제일 우수**했슴, 2위는 **Unigram방식의  SetencePiece**\n"
   ]
  },
  {
   "cell_type": "code",
   "execution_count": null,
   "id": "6aa7810b",
   "metadata": {},
   "outputs": [],
   "source": []
  },
  {
   "cell_type": "markdown",
   "id": "efaae2fe",
   "metadata": {},
   "source": [
    "## 회고"
   ]
  },
  {
   "cell_type": "markdown",
   "id": "caeed37f",
   "metadata": {},
   "source": [
    "본 프로젝트는 LMS교재 Explore 8번에서 네이버영화리뷰 감성분석을 할때, 텍스트를 벡터화하는 단계에서, 사용해보았던 KoNLPy의 Mecab외에, 이번에 새롭게 배운 SentencePiece를 적용해보고, 각가의 특징과 사용법을 배우면서,, 각각의 성능을 비교해 보기 위한 프로젝트입니다.\n",
    "\n",
    "먼저, 단어사전을 만드는 대상 Corpus를 결정해야하는데, 여러기준으로 비교해 보다가, 교재에서 사용했던 Korea-english 병행 Corpus를 사용하려다가\n",
    "Korea-english 병행 Corpus의 전처리된 문장개수가 77,000여개로,\n",
    "네이버영화리뷰의 train data 전처리후 Corpus 문장개수 146,000개의 절반수준밖에 않되는 수준이라서,\n",
    "네이버의 Train data Corpus를 대상으로 단어사전을 만들기로 하였습니다.\n",
    "\n",
    "**(1) Unigram**    \n",
    "\n",
    "그리고는 먼저 SentencePiece의 Unigram과 bpe를 성능비교하기로 하고서, 먼저 Unigram을 시작하였습니다.\n",
    "데이터 전처리가 필요없다던 SentencePiece에서 중복치제거, 결측치제거, 특수기호나 구두점등의 처리를 해야 오류가 않나고, 학습이 잘었습니다. 전처리가 필없다는 이야기는 영어의 경우에 해당되는가 봅니다.\n",
    "그리고, SentencePiece에는 불용어를 처리하는 기능을 찾아보아도 없었습니다.\n",
    "그럼에도 불구하고 SentencePiece를 많이 쓴다는 이야기는 성능이 좋다는 이야기일텐데, 비교해볼 충분한 이유가 됩니다.\n",
    "\n",
    "vocab_size는 10000개로 해서, 1차 SentencePiec Train을 통해서, 생성된 토큰으로, 적절한 크기의 maxlen 42개를 구한후, maxlen 을 산입하여, 2차로 sp_tokenize_withPadding(s, corpus, maxlen)함수를 통해서, SentencePiec Train을 다시 해서, 정식으로 vocab_size 10000개의 단어장과 Word_index, Index_Word를  만들었습니다.\n",
    "학습된 Unigram 모델의 spm.SentencePieceProcessor()로 Train data를 벡터화완료하고, 마찬가지로 Test data의 벡터화도 완료하였습니다. \n",
    "그리고, Train data를 8;2의 비율로 Valid data를 분리하였습니다.\n",
    "\n",
    "모델은 LSTM모델을 사용하였고, word_vector_dim = 16, hidden_unit = 16, drop_rate = 0.2, epochs= 20 로 고정시켰고, 옵티마이저는 adam, 손실함수 'binary_crossentropy 를 사용하였고, 비교를 위해 다른 모델에서도 동일한 구조를 사용할 예정입니다.\n",
    "  \n",
    "학습후에 Test data로 성능테스트를 했는데, 84.32% 였습니다.\n",
    "\n",
    "**(2) Bpe**   \n",
    "\n",
    "model Type을 'bpe'로 바꾸어서, 상기의 작업과정과 동일한 과정을 통해서, 성능테스트를 했는데, 83.64%였습니다.   \n",
    "이는 Unigram보다 성능이 낮았습니다.   \n",
    "\n",
    "Bpe 작업파일 링크: https://github.com/lkh-7/first-repository/blob/master/%5BGDeep%5D02_%5Bsp_tokenizer%5D_%ED%94%84%EB%A1%9C%EC%A0%9D%ED%8A%B8_%EB%A9%8B%EC%A7%84%20%EB%8B%A8%EC%96%B4%EC%82%AC%EC%A0%84%20%EB%A7%8C%EB%93%A4%EA%B8%B0_Project_%EC%A0%9C%EC%B6%9C%EC%A4%80%EB%B9%84%EC%9A%A9_SPM_Bpe_ONLY.ipynb\n",
    "\n",
    "**(3) KoNLPy 의 Mecab**   \n",
    "\n",
    "[Explore 8] 네이버영화리뷰 분류에서 했던 과정과 같은 과정을 거치되, 위의 LSTM모델과 동일 구조와 하이퍼파람으로 성능테스트해 본 결과 Test Accuracy는 84.55% 였습니다.\n",
    "\n",
    "**(4) KoNLPy 의 Okt**   \n",
    "\n",
    "상기 (3)과 동일 과정을 거쳐서, 성능테스트해 본 결과 Test Accuracy는 83.27% 였습니다.\n",
    "\n",
    "**(5) 종합평가**  \n",
    "\n",
    "전체중에서, Mecab 가 우수했고, 2위는 Unigram방식의 SetencePiece, 3위는 bpe방식의 SetencePiece,\n",
    "4위가 Okt 였습니다.\n",
    "\n",
    "**결론적**으로, 한국어는 한국어형태소분석기가 더 잘맞고, 그중 Mecab이 가장 우수하며, Unigram 방식의 SencePiece\n",
    "도 우수한 편이었어서, **한국어만으로된 문서들을 처리할때는 한국어형태소분석기 Mecab**을 쓰고,\n",
    "**한국어와 영어를 비슷한 비중으로 병행 사용**하는 문서들을 처리할때는 **Unigram 방식의 SencePiece**를 사용하는 것이 좋겠다는 생각입니다.(문서집합에따라 적용상황이 다소 다를수도 물론 있지만) \n",
    "\n",
    "\n",
    "\n",
    "\n",
    "\n",
    "\n",
    "\n"
   ]
  },
  {
   "cell_type": "code",
   "execution_count": null,
   "id": "e1821fe5",
   "metadata": {},
   "outputs": [],
   "source": []
  },
  {
   "cell_type": "code",
   "execution_count": null,
   "id": "a9bf0c4a",
   "metadata": {},
   "outputs": [],
   "source": []
  },
  {
   "cell_type": "markdown",
   "id": "095023a1",
   "metadata": {},
   "source": [
    "#### 루브릭\n",
    "\n",
    "아래의 기준을 바탕으로 프로젝트를 평가합니다.\n",
    "\n",
    "평가문항\t상세기준\n",
    "1. SentencePiece를 이용하여 모델을 만들기까지의 과정이 정상적으로 진행되었는가?\n",
    "\n",
    "코퍼스 분석, 전처리, SentencePiece 적용, 토크나이저 구현 및 동작이 빠짐없이 진행되었는가?\n",
    "\n",
    "2. SentencePiece를 통해 만든 Tokenizer가 자연어처리 모델과 결합하여 동작하는가?\n",
    "\n",
    "SentencePiece 토크나이저가 적용된 Text Classifier 모델이 정상적으로 수렴하여 80% 이상의 test accuracy가 확인되었다.\n",
    "\n",
    "3. SentencePiece의 성능을 다각도로 비교분석하였는가?\n",
    "\n",
    "SentencePiece 토크나이저를 활용했을 때의 성능을 다른 토크나이저 혹은 SentencePiece의 다른 옵션의 경우와 비교하여 분석을 체계적으로 진행하였다.\n",
    "프로젝트 업로드 (URL)\n",
    "\n"
   ]
  },
  {
   "cell_type": "code",
   "execution_count": null,
   "id": "2613f969",
   "metadata": {},
   "outputs": [],
   "source": []
  }
 ],
 "metadata": {
  "kernelspec": {
   "display_name": "Python 3 (ipykernel)",
   "language": "python",
   "name": "python3"
  },
  "language_info": {
   "codemirror_mode": {
    "name": "ipython",
    "version": 3
   },
   "file_extension": ".py",
   "mimetype": "text/x-python",
   "name": "python",
   "nbconvert_exporter": "python",
   "pygments_lexer": "ipython3",
   "version": "3.9.7"
  }
 },
 "nbformat": 4,
 "nbformat_minor": 5
}
