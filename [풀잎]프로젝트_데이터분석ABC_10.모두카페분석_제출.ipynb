{
 "cells": [
  {
   "cell_type": "markdown",
   "id": "554a4f64",
   "metadata": {},
   "source": [
    "### 3-1 데이터 불러오기"
   ]
  },
  {
   "cell_type": "code",
   "execution_count": 1,
   "id": "d4244136",
   "metadata": {},
   "outputs": [],
   "source": [
    "# 필요 라이브러리 호출하기\n",
    "# Pandas, Numpy, Matplotlib, Seaborn을 호출해봅니다.\n",
    "import pandas as pd\n",
    "import numpy as np\n",
    "import matplotlib.pyplot as plt\n",
    "import seaborn as sns\n",
    "import warnings\n",
    "warnings.filterwarnings(action='ignore')"
   ]
  },
  {
   "cell_type": "code",
   "execution_count": 2,
   "id": "6d2e2c44",
   "metadata": {},
   "outputs": [],
   "source": [
    "# 데이터 호출하기\n",
    "# entry_data.csv, sales_data.csv, item_data.csv, item_entry_data.csv의\n",
    "# 총 네 가지 파일을 각각 호출합니다.\n",
    "# 파일들은 본 클라우드에 저장되어있어 다음을 참고하여 호출해주세요.\n",
    "\n",
    "entry_data = pd.read_csv('~/aiffel/data_analysis_basic/data/entry_data.csv')\n",
    "sales_data = pd.read_csv('~/aiffel/data_analysis_basic/data/sales_data.csv')\n",
    "item_data = pd.read_csv('~/aiffel/data_analysis_basic/data/item_data.csv')\n",
    "item_entry_data = pd.read_csv('~/aiffel/data_analysis_basic/data/item_entry_data.csv')\n"
   ]
  },
  {
   "cell_type": "code",
   "execution_count": 3,
   "id": "f956f3b1",
   "metadata": {},
   "outputs": [
    {
     "name": "stdout",
     "output_type": "stream",
     "text": [
      "<bound method NDFrame.head of                요금제명                입실                퇴실           이용    위치  \\\n",
      "0        시간요금제(1시간)  2022-04-01 23:39   2022-04-02 0:39   오전 1:00:00  선불기2   \n",
      "1        시간요금제(1시간)  2022-04-01 23:39   2022-04-02 0:39   오전 1:00:00  선불기2   \n",
      "2           무제한 입장권  2022-04-01 20:55  2022-04-01 21:41  오전 12:46:00  선불기2   \n",
      "3           무제한 입장권  2022-04-01 20:55  2022-04-01 21:41  오전 12:46:00  선불기2   \n",
      "4      한국대생 무제한 입장권  2022-04-01 19:54  2022-04-01 22:28   오전 2:33:00  선불기2   \n",
      "...             ...               ...               ...          ...   ...   \n",
      "22550         종일요금제  2021-02-17 13:09  2021-02-17 14:19   오전 1:10:00  선불기1   \n",
      "22551         종일요금제  2021-02-17 13:09  2021-02-17 14:19   오전 1:10:00  선불기1   \n",
      "22552         종일요금제  2021-02-17 13:06  2021-02-17 14:19   오전 1:13:00  선불기1   \n",
      "22553         종일요금제  2021-02-17 13:06  2021-02-17 14:19   오전 1:13:00  선불기1   \n",
      "22554         종일요금제  2021-02-17 12:58  2021-02-17 14:19   오전 1:21:00  선불기1   \n",
      "\n",
      "         금액  구분              고객  \n",
      "0      3000  퇴실  customer263717  \n",
      "1      3000  퇴실  customer263717  \n",
      "2      7400  퇴실  customer247263  \n",
      "3      7400  퇴실  customer247263  \n",
      "4      7400  퇴실  customer388928  \n",
      "...     ...  ..             ...  \n",
      "22550  6500  퇴실  customer774105  \n",
      "22551  6500  퇴실  customer774105  \n",
      "22552  7000  퇴실  customer774105  \n",
      "22553  7000  퇴실  customer774105  \n",
      "22554  7000  퇴실  customer774105  \n",
      "\n",
      "[22555 rows x 8 columns]> (22555, 8)\n",
      "<class 'pandas.core.frame.DataFrame'>\n",
      "RangeIndex: 22555 entries, 0 to 22554\n",
      "Data columns (total 8 columns):\n",
      " #   Column  Non-Null Count  Dtype \n",
      "---  ------  --------------  ----- \n",
      " 0   요금제명    22292 non-null  object\n",
      " 1   입실      22555 non-null  object\n",
      " 2   퇴실      22555 non-null  object\n",
      " 3   이용      22533 non-null  object\n",
      " 4   위치      22555 non-null  object\n",
      " 5   금액      22555 non-null  int64 \n",
      " 6   구분      22555 non-null  object\n",
      " 7   고객      22555 non-null  object\n",
      "dtypes: int64(1), object(7)\n",
      "memory usage: 1.4+ MB\n"
     ]
    }
   ],
   "source": [
    "# entry_data 데이터 정보 확인하기\n",
    "\n",
    "print(entry_data.head, entry_data.shape)\n",
    "entry_data.info()"
   ]
  },
  {
   "cell_type": "code",
   "execution_count": 4,
   "id": "6227dfe7",
   "metadata": {},
   "outputs": [
    {
     "name": "stdout",
     "output_type": "stream",
     "text": [
      "<bound method NDFrame.head of                   결제일시  판매위치          상품명  결제방식    비고  판매수량    결제금액  \\\n",
      "0     2022-04-01 19:41  선불기1   치킨카라아케 6pc  신용카드  결제완료     1   4,500   \n",
      "1     2022-04-01 19:41  선불기1   짜장라면(계란추가)  신용카드  결제완료     1   5,500   \n",
      "2     2022-04-01 19:41  선불기1           라면  신용카드  결제완료     1   4,000   \n",
      "3     2022-04-01 19:41  선불기1   비엔나소세지(토핑)  신용카드  결제완료     1   1,000   \n",
      "4     2022-04-01 19:41  선불기1  라면(계란/치즈추가)  신용카드  결제완료     1   5,000   \n",
      "...                ...   ...          ...   ...   ...   ...     ...   \n",
      "7100  2021-02-17 14:21   카운터   아메리카노(HOT)    현금  결제취소    -1  -3,500   \n",
      "7101  2021-02-17 13:51  선불기2    카페모카(HOT)  신용카드  결제완료     1   4,500   \n",
      "7102  2021-02-17 13:51  선불기2    카페모카(HOT)  신용카드  판매취소    -1  -4,500   \n",
      "7103  2021-02-17 13:26   카운터    카페라떼(HOT)  신용카드  결제완료     1   4,000   \n",
      "7104  2021-02-17 13:27   카운터    카페라떼(HOT)  신용카드  판매취소    -1  -4,000   \n",
      "\n",
      "                  고객  \n",
      "0     customer275507  \n",
      "1     customer275507  \n",
      "2     customer275507  \n",
      "3     customer275507  \n",
      "4     customer275507  \n",
      "...              ...  \n",
      "7100             NaN  \n",
      "7101             NaN  \n",
      "7102             NaN  \n",
      "7103             NaN  \n",
      "7104             NaN  \n",
      "\n",
      "[7105 rows x 8 columns]> (7105, 8)\n",
      "<class 'pandas.core.frame.DataFrame'>\n",
      "RangeIndex: 7105 entries, 0 to 7104\n",
      "Data columns (total 8 columns):\n",
      " #   Column  Non-Null Count  Dtype \n",
      "---  ------  --------------  ----- \n",
      " 0   결제일시    7105 non-null   object\n",
      " 1   판매위치    7105 non-null   object\n",
      " 2   상품명     7105 non-null   object\n",
      " 3   결제방식    7105 non-null   object\n",
      " 4   비고      7105 non-null   object\n",
      " 5   판매수량    7105 non-null   int64 \n",
      " 6   결제금액    7105 non-null   object\n",
      " 7   고객      6300 non-null   object\n",
      "dtypes: int64(1), object(7)\n",
      "memory usage: 444.2+ KB\n"
     ]
    }
   ],
   "source": [
    "# sales_data 데이터 정보 확인하기\n",
    "\n",
    "print(sales_data.head, sales_data.shape)\n",
    "sales_data.info()\n"
   ]
  },
  {
   "cell_type": "code",
   "execution_count": 5,
   "id": "c21fea55",
   "metadata": {},
   "outputs": [
    {
     "name": "stdout",
     "output_type": "stream",
     "text": [
      "<bound method NDFrame.head of       구분     분류           상품명    판매금액\n",
      "0      1  게임&TV      이어폰(커널형)  3,000원\n",
      "1      2    디저트          초코머핀  3,500원\n",
      "2      3    디저트       쿠키(초코칩)  1,500원\n",
      "3      4    디저트     쿠키(마카다미아)  1,500원\n",
      "4      5    디저트     미니마카롱(3개)  2,000원\n",
      "..   ...    ...           ...     ...\n",
      "169  170     커피     카페모카(ICE)  2,500원\n",
      "170  171     커피   헤이즐넛라떼(ICE)  2,500원\n",
      "171  172     포장  오늘은 순살닭다리 덮밥  9,000원\n",
      "172  173     포장   오늘은 한돈간장불고기  8,000원\n",
      "173  174     포장  오늘은 한돈고추장불고기  8,000원\n",
      "\n",
      "[174 rows x 4 columns]> (174, 4)\n",
      "<class 'pandas.core.frame.DataFrame'>\n",
      "RangeIndex: 174 entries, 0 to 173\n",
      "Data columns (total 4 columns):\n",
      " #   Column  Non-Null Count  Dtype \n",
      "---  ------  --------------  ----- \n",
      " 0   구분      174 non-null    int64 \n",
      " 1   분류      174 non-null    object\n",
      " 2   상품명     174 non-null    object\n",
      " 3   판매금액    174 non-null    object\n",
      "dtypes: int64(1), object(3)\n",
      "memory usage: 5.6+ KB\n"
     ]
    }
   ],
   "source": [
    "# item_data 데이터 정보 확인하기\n",
    "\n",
    "print(item_data.head, item_data.shape)\n",
    "item_data.info()"
   ]
  },
  {
   "cell_type": "code",
   "execution_count": 6,
   "id": "963029c4",
   "metadata": {},
   "outputs": [
    {
     "name": "stdout",
     "output_type": "stream",
     "text": [
      "<bound method NDFrame.head of     순위     분류        상품명    판매금액\n",
      "0    1   한국대생   한국대생 요금제  2,000원\n",
      "1    2  심야-조조  심야-조조 요금제  5,000원\n",
      "2    3    일반인      일반요금제  2,500원\n",
      "3    4   한국대생   한국대생 요금제  2,500원\n",
      "4    5    일반인      일반요금제  2,000원\n",
      "5    6   한국대생   한국대생 요금제  1,500원\n",
      "6    7  18시이후    거리두기4단계  1,000원\n",
      "7    8  심야-조조  심야-조조 요금제  2,500원\n",
      "8    9    일반인      일반요금제  3,000원\n",
      "9   10    일반인      일반요금제  7,000원\n",
      "10  11  심야-조조  심야-조조 요금제  4,000원\n",
      "11  12  심야-조조  심야-조조 요금제  6,000원\n",
      "12  13  심야-조조  심야-조조 요금제  7,000원\n",
      "13  14   한국대생   한국대생 요금제  7,000원\n",
      "14  15   한국대생   한국대생 요금제  3,000원\n",
      "15  16  18시이후    거리두기4단계  2,500원\n",
      "16  17  심야-조조  심야-조조 요금제  3,000원\n",
      "17  18  18시이후       마감요금  2,500원\n",
      "18  19     기본      기본요금제  2,500원\n",
      "19  20    일반인      일반요금제  8,000원\n",
      "20  21  심야-조조  심야-조조 요금제  8,000원\n",
      "21  22  심야-조조   추석당일 요금제  5,000원\n",
      "22  23  심야-조조   추석당일 요금제  7,000원\n",
      "23  24     기본      기본요금제  2,000원\n",
      "24  25   한국대생   한국대생 요금제  8,000원\n",
      "25  26  18시이후    거리두기4단계  7,000원\n",
      "26  27     기본      기본요금제  2,400원\n",
      "27  28   기본그룹      기본요금제  2,500원\n",
      "28  29    일반인      일반요금제  6,000원\n",
      "29  30  심야-조조   추석당일 요금제  2,500원\n",
      "30  31   기본그룹      기본요금제  2,000원\n",
      "31  32    일반인      일반요금제  3,500원\n",
      "32  33    일반인      일반요금제  6,500원\n",
      "33  34   한국대생   한국대생 요금제  4,900원> (34, 4)\n",
      "<class 'pandas.core.frame.DataFrame'>\n",
      "RangeIndex: 34 entries, 0 to 33\n",
      "Data columns (total 4 columns):\n",
      " #   Column  Non-Null Count  Dtype \n",
      "---  ------  --------------  ----- \n",
      " 0   순위      34 non-null     int64 \n",
      " 1   분류      34 non-null     object\n",
      " 2   상품명     34 non-null     object\n",
      " 3   판매금액    34 non-null     object\n",
      "dtypes: int64(1), object(3)\n",
      "memory usage: 1.2+ KB\n"
     ]
    }
   ],
   "source": [
    "# item_entry_data 데이터 정보 확인하기\n",
    "\n",
    "print(item_entry_data.head, item_entry_data.shape)\n",
    "item_entry_data.info()"
   ]
  },
  {
   "cell_type": "markdown",
   "id": "f3d5e95b",
   "metadata": {},
   "source": [
    "### 3-2 데이터 분석하기\n",
    "필수 문제1 : 월별 매출액 추세(sales_data를 이용합니다.)\n",
    "월별 매출액 추세를 집계하고 그 결과를 시각화해봅니다.\n",
    "힌트: groupby() 함수를 사용하세요."
   ]
  },
  {
   "cell_type": "code",
   "execution_count": 7,
   "id": "17665f78",
   "metadata": {},
   "outputs": [
    {
     "name": "stdout",
     "output_type": "stream",
     "text": [
      "Index(['결제일시', '판매위치', '상품명', '결제방식', '비고', '판매수량', '결제금액', '고객'], dtype='object')\n"
     ]
    },
    {
     "data": {
      "text/html": [
       "<div>\n",
       "<style scoped>\n",
       "    .dataframe tbody tr th:only-of-type {\n",
       "        vertical-align: middle;\n",
       "    }\n",
       "\n",
       "    .dataframe tbody tr th {\n",
       "        vertical-align: top;\n",
       "    }\n",
       "\n",
       "    .dataframe thead th {\n",
       "        text-align: right;\n",
       "    }\n",
       "</style>\n",
       "<table border=\"1\" class=\"dataframe\">\n",
       "  <thead>\n",
       "    <tr style=\"text-align: right;\">\n",
       "      <th></th>\n",
       "      <th>결제일시</th>\n",
       "      <th>판매위치</th>\n",
       "      <th>상품명</th>\n",
       "      <th>결제방식</th>\n",
       "      <th>비고</th>\n",
       "      <th>판매수량</th>\n",
       "      <th>결제금액</th>\n",
       "      <th>고객</th>\n",
       "    </tr>\n",
       "  </thead>\n",
       "  <tbody>\n",
       "    <tr>\n",
       "      <th>0</th>\n",
       "      <td>2022-04-01 19:41</td>\n",
       "      <td>선불기1</td>\n",
       "      <td>치킨카라아케 6pc</td>\n",
       "      <td>신용카드</td>\n",
       "      <td>결제완료</td>\n",
       "      <td>1</td>\n",
       "      <td>4,500</td>\n",
       "      <td>customer275507</td>\n",
       "    </tr>\n",
       "    <tr>\n",
       "      <th>1</th>\n",
       "      <td>2022-04-01 19:41</td>\n",
       "      <td>선불기1</td>\n",
       "      <td>짜장라면(계란추가)</td>\n",
       "      <td>신용카드</td>\n",
       "      <td>결제완료</td>\n",
       "      <td>1</td>\n",
       "      <td>5,500</td>\n",
       "      <td>customer275507</td>\n",
       "    </tr>\n",
       "    <tr>\n",
       "      <th>2</th>\n",
       "      <td>2022-04-01 19:41</td>\n",
       "      <td>선불기1</td>\n",
       "      <td>라면</td>\n",
       "      <td>신용카드</td>\n",
       "      <td>결제완료</td>\n",
       "      <td>1</td>\n",
       "      <td>4,000</td>\n",
       "      <td>customer275507</td>\n",
       "    </tr>\n",
       "    <tr>\n",
       "      <th>3</th>\n",
       "      <td>2022-04-01 19:41</td>\n",
       "      <td>선불기1</td>\n",
       "      <td>비엔나소세지(토핑)</td>\n",
       "      <td>신용카드</td>\n",
       "      <td>결제완료</td>\n",
       "      <td>1</td>\n",
       "      <td>1,000</td>\n",
       "      <td>customer275507</td>\n",
       "    </tr>\n",
       "    <tr>\n",
       "      <th>4</th>\n",
       "      <td>2022-04-01 19:41</td>\n",
       "      <td>선불기1</td>\n",
       "      <td>라면(계란/치즈추가)</td>\n",
       "      <td>신용카드</td>\n",
       "      <td>결제완료</td>\n",
       "      <td>1</td>\n",
       "      <td>5,000</td>\n",
       "      <td>customer275507</td>\n",
       "    </tr>\n",
       "  </tbody>\n",
       "</table>\n",
       "</div>"
      ],
      "text/plain": [
       "               결제일시  판매위치          상품명  결제방식    비고  판매수량   결제금액  \\\n",
       "0  2022-04-01 19:41  선불기1   치킨카라아케 6pc  신용카드  결제완료     1  4,500   \n",
       "1  2022-04-01 19:41  선불기1   짜장라면(계란추가)  신용카드  결제완료     1  5,500   \n",
       "2  2022-04-01 19:41  선불기1           라면  신용카드  결제완료     1  4,000   \n",
       "3  2022-04-01 19:41  선불기1   비엔나소세지(토핑)  신용카드  결제완료     1  1,000   \n",
       "4  2022-04-01 19:41  선불기1  라면(계란/치즈추가)  신용카드  결제완료     1  5,000   \n",
       "\n",
       "               고객  \n",
       "0  customer275507  \n",
       "1  customer275507  \n",
       "2  customer275507  \n",
       "3  customer275507  \n",
       "4  customer275507  "
      ]
     },
     "execution_count": 7,
     "metadata": {},
     "output_type": "execute_result"
    }
   ],
   "source": [
    "# 활용할 데이터(sales_data)를 temp_var로 정의하기\n",
    "# [[YOUR CODE]]\n",
    "print(sales_data.columns)\n",
    "temp_var = sales_data.copy()\n",
    "temp_var.head()"
   ]
  },
  {
   "cell_type": "code",
   "execution_count": 8,
   "id": "5a05de3f",
   "metadata": {},
   "outputs": [],
   "source": [
    "# temp_var의 date열을 만들고, sales_date의 결제일시 중 앞에서 7번째 값까지 할당\n",
    "# [[YOUR CODE]]\n",
    "temp_var['date'] = sales_data['결제일시'].str[:7]"
   ]
  },
  {
   "cell_type": "markdown",
   "id": "20a8318d",
   "metadata": {},
   "source": [
    "salse_data의 결제금액에는 쉼표(,)가 들어있어서 현재 문자열로 인식되고 있어요. 따라서 쉼표를 지우고, 문자열을 숫자료 바꿔줘야합니다."
   ]
  },
  {
   "cell_type": "code",
   "execution_count": 9,
   "id": "7d8c8ae1",
   "metadata": {},
   "outputs": [
    {
     "name": "stdout",
     "output_type": "stream",
     "text": [
      "0    4500\n",
      "1    5500\n",
      "2    4000\n",
      "Name: 결제금액, dtype: object\n"
     ]
    }
   ],
   "source": [
    "# salse_data의 결제금액에 포함된 쉼표(,) 지우기\n",
    "# [[YOUR CODE]]\n",
    "temp_var['결제금액'] = sales_data['결제금액'].str.replace(',','')\n",
    "print(temp_var['결제금액'].head(3))"
   ]
  },
  {
   "cell_type": "code",
   "execution_count": 10,
   "id": "1ef40143",
   "metadata": {},
   "outputs": [],
   "source": [
    "# salse_data의 결제금액을 숫자형태로 바꾸기\n",
    "# [[YOUR CODE]]\n",
    "temp_var['결제금액'] = pd.to_numeric(temp_var['결제금액'])"
   ]
  },
  {
   "cell_type": "code",
   "execution_count": 11,
   "id": "4e851bd0",
   "metadata": {},
   "outputs": [
    {
     "name": "stdout",
     "output_type": "stream",
     "text": [
      "Index(['결제일시', '판매위치', '상품명', '결제방식', '비고', '판매수량', '결제금액', '고객', 'date'], dtype='object')\n"
     ]
    },
    {
     "data": {
      "text/plain": [
       "date\n",
       "2021-02       7000\n",
       "2021-03    2104500\n",
       "2021-04    3116600\n",
       "2021-05    2537000\n",
       "2021-06    3621500\n",
       "2021-07    1215000\n",
       "2021-08    1229000\n",
       "2021-09    1197500\n",
       "2021-10    2138500\n",
       "2021-11    2748500\n",
       "2021-12    3290000\n",
       "2022-01    1430500\n",
       "2022-02    1181500\n",
       "2022-03    1870900\n",
       "2022-04      49900\n",
       "Name: 결제금액, dtype: int64"
      ]
     },
     "execution_count": 11,
     "metadata": {},
     "output_type": "execute_result"
    }
   ],
   "source": [
    "# temp_var의 payment열을 date 기준으로 집계하기\n",
    "# [[YOUR CODE]]\n",
    "print(temp_var.columns)\n",
    "grouped = temp_var['결제금액'].groupby(temp_var['date']).sum()\n",
    "grouped"
   ]
  },
  {
   "cell_type": "code",
   "execution_count": 12,
   "id": "4448182b",
   "metadata": {},
   "outputs": [
    {
     "data": {
      "image/png": "[encoded data removed]",
      "text/plain": [
       "<Figure size 1080x432 with 1 Axes>"
      ]
     },
     "metadata": {
      "needs_background": "light"
     },
     "output_type": "display_data"
    }
   ],
   "source": [
    "# 집계 결과를 시각화하기\n",
    "# [[YOUR CODE]]\n",
    "plt.figure(figsize=(15,6))\n",
    "ax = plt.bar(grouped.index, grouped)\n",
    "plt.bar_label(ax, labels=[f'{x:,.0f}' for x in ax.datavalues], label_type='center')\n",
    "plt.title('Payments by Month')\n",
    "plt.show()\n"
   ]
  },
  {
   "cell_type": "markdown",
   "id": "8dec0fc5",
   "metadata": {},
   "source": [
    "필수 문제2: 가장 인기 있는 음식/음료(salses_data를 이용합니다.)\n",
    "여러 메뉴들(음식,음료)을 판매 개수 순으로 정렬하고 상위 10개를 뽑아 결과를 시각화해봅니다.\n",
    "힌트: value_counts() 함수를 사용하세요."
   ]
  },
  {
   "cell_type": "code",
   "execution_count": 13,
   "id": "db148268",
   "metadata": {},
   "outputs": [
    {
     "name": "stdout",
     "output_type": "stream",
     "text": [
      "0\n",
      "김치볶음밥           1211\n",
      "라면               756\n",
      "짜장라면             457\n",
      "치즈불고기볶음밥         423\n",
      "계란추가             315\n",
      "                ... \n",
      "녹차(HOT)            1\n",
      "짜장라면(계란추가)         1\n",
      "이어폰(커널형)           1\n",
      "오늘은 한돈고추장불고기       1\n",
      "오늘은 한돈간장불고기        1\n",
      "Name: 상품명, Length: 100, dtype: int64\n",
      "상품명\n",
      "(면)계란추가-국물라면         10\n",
      "(면)계란후라이 추가-불닭/짜장    20\n",
      "(면)치즈추가              21\n",
      "(밥)계란후라이 추가           3\n",
      "(밥)슈레드치즈추가            3\n",
      "                     ..\n",
      "한돈간장불고기덮밥            15\n",
      "한돈고추장불고기덮밥           17\n",
      "허니밀크쉐이크              21\n",
      "헤이즐넛라떼(HOT)           2\n",
      "헤이즐넛라떼(ICE)          15\n",
      "Name: 판매수량, Length: 100, dtype: int64\n"
     ]
    }
   ],
   "source": [
    "# temp_var의 상품명을 value_counts를 이용해 집계하기\n",
    "# 주의! value_counts로 바로 집계하면 판매취소와 결제취소가 함께 집계됩니다.\n",
    "# 따라서 '판매수량' 칼럼 값이 '-1'인 데이터를 제외하고 집계해야 합니다.\n",
    "# 힌트 코드 : temp_var[temp_var['판매수량']==-1]\n",
    "# [[YOUR CODE]]\n",
    "temp_var['판매수량'] = temp_var['판매수량'].apply(lambda x: x if x!=-1 else 0)\n",
    "print(len(temp_var[temp_var['판매수량']==-1]))\n",
    "print(temp_var['상품명'].value_counts())\n",
    "\n",
    "temp_salebymenu = temp_var['판매수량'].groupby(temp_var['상품명']).sum()\n",
    "print(temp_salebymenu)"
   ]
  },
  {
   "cell_type": "code",
   "execution_count": 14,
   "id": "164227b9",
   "metadata": {},
   "outputs": [
    {
     "name": "stdout",
     "output_type": "stream",
     "text": [
      "temp_salebymenudf                   상품명  판매수량\n",
      "0        (면)계란추가-국물라면    10\n",
      "1   (면)계란후라이 추가-불닭/짜장    20\n",
      "2             (면)치즈추가    21\n",
      "3         (밥)계란후라이 추가     3\n",
      "4          (밥)슈레드치즈추가     3\n",
      "..                ...   ...\n",
      "95          한돈간장불고기덮밥    15\n",
      "96         한돈고추장불고기덮밥    17\n",
      "97            허니밀크쉐이크    21\n",
      "98        헤이즐넛라떼(HOT)     2\n",
      "99        헤이즐넛라떼(ICE)    15\n",
      "\n",
      "[100 rows x 2 columns] <class 'pandas.core.frame.DataFrame'> (100, 2)\n",
      "temp_salebymenudf10           상품명  판매수량\n",
      "0       김치볶음밥  1204\n",
      "1          라면   749\n",
      "2        짜장라면   455\n",
      "3    치즈불고기볶음밥   420\n",
      "4        계란추가   314\n",
      "5       낙지볶음밥   312\n",
      "6       새우볶음밥   309\n",
      "7  아메리카노(ICE)   284\n",
      "8      치즈감자튀김   246\n",
      "9        감자튀김   242\n"
     ]
    }
   ],
   "source": [
    "# 집계 결과를 데이터프레임으로 변환하고, 상위 10개 선정하기\n",
    "# [[YOUR CODE]]\n",
    "\n",
    "temp_salebymenudf = pd.DataFrame({f\"{temp_salebymenu.index.name}\": temp_salebymenu.index,f\"판매수량\":temp_salebymenu.values})\n",
    "print(\"temp_salebymenudf\",temp_salebymenudf, type(temp_salebymenudf),temp_salebymenudf.shape)\n",
    "temp_salebymenudf10 = temp_salebymenudf.sort_values(by='판매수량',ascending=False)[:10]\n",
    "temp_salebymenudf10.reset_index(drop=True,inplace=True)\n",
    "print(\"temp_salebymenudf10\",temp_salebymenudf10)\n"
   ]
  },
  {
   "cell_type": "code",
   "execution_count": 15,
   "id": "40283477",
   "metadata": {},
   "outputs": [
    {
     "name": "stdout",
     "output_type": "stream",
     "text": [
      "['NanumGothic']\n"
     ]
    }
   ],
   "source": [
    "# 한글이 포함된 시각화를 위해 Matplotlib 설정\n",
    "# [[YOUR CODE]]\n",
    "plt.rc('font',family='NanumGothic')\n",
    "print(plt.rcParams['font.family'])"
   ]
  },
  {
   "cell_type": "code",
   "execution_count": 16,
   "id": "00bba669",
   "metadata": {},
   "outputs": [
    {
     "data": {
      "image/png": "[encoded data removed]",
      "text/plain": [
       "<Figure size 1080x432 with 1 Axes>"
      ]
     },
     "metadata": {
      "needs_background": "light"
     },
     "output_type": "display_data"
    }
   ],
   "source": [
    "# 집계 결과를 시각화하기\n",
    "# [[YOUR CODE]]\n",
    "plt.figure(figsize=(15,6))\n",
    "ax = plt.bar(temp_salebymenudf10['상품명'], temp_salebymenudf10['판매수량'])\n",
    "plt.bar_label(ax, labels=[f'{x:,.0f}' for x in ax.datavalues], label_type='center')\n",
    "plt.title('Sales Number by Best10_Menu')\n",
    "plt.show()"
   ]
  },
  {
   "cell_type": "markdown",
   "id": "9a7e7a69",
   "metadata": {},
   "source": [
    "여러 메뉴들(음식,음료)을 판매 매출(판매 개수 x 결제 금액) 순으로 정렬하고 상위 10개를 뽑아 결과를 시각화해봅니다.\n",
    "힌트: value_counts() 함수를 사용하세요."
   ]
  },
  {
   "cell_type": "code",
   "execution_count": 17,
   "id": "9d83fe8f",
   "metadata": {},
   "outputs": [
    {
     "name": "stdout",
     "output_type": "stream",
     "text": [
      "상품명\n",
      "(면)계란추가-국물라면           5000\n",
      "(면)계란후라이 추가-불닭/짜장     20000\n",
      "(면)치즈추가               10500\n",
      "(밥)계란후라이 추가            3000\n",
      "(밥)슈레드치즈추가             4500\n",
      "                      ...  \n",
      "한돈간장불고기덮밥            112500\n",
      "한돈고추장불고기덮밥           127500\n",
      "허니밀크쉐이크              108500\n",
      "헤이즐넛라떼(HOT)            9000\n",
      "헤이즐넛라떼(ICE)           62500\n",
      "Name: 결제금액, Length: 100, dtype: int64\n"
     ]
    }
   ],
   "source": [
    "# temp_var의 payment열을 상품명을 기준으로 집계하기\n",
    "#Index(['결제일시', '판매위치', '상품명', '결제방식', '비고', '판매수량',\n",
    "#       '결제금액', '고객', 'date'], dtype='object')\n",
    "#print(temp_var['결제금액'].head(3))\n",
    "#temp_var['판매매출'] = temp_var['판매수량'] * temp_var['결제금액']\n",
    "\n",
    "temp_paymentbymenu = temp_var['결제금액'].groupby(temp_var['상품명']).sum()\n",
    "print(temp_paymentbymenu)\n"
   ]
  },
  {
   "cell_type": "code",
   "execution_count": 18,
   "id": "33b1c946",
   "metadata": {},
   "outputs": [
    {
     "name": "stdout",
     "output_type": "stream",
     "text": [
      "item_payment 상위10개 상품명\n",
      "김치볶음밥         5971900\n",
      "라면            2916000\n",
      "치즈불고기볶음밥      2276100\n",
      "짜장라면          2032500\n",
      "낙지볶음밥         1699700\n",
      "새우볶음밥         1529800\n",
      "치즈감자튀김        1348700\n",
      "감자튀김          1083800\n",
      "아메리카노(ICE)     936100\n",
      "불닭볶음면          688500\n",
      "Name: 결제금액, dtype: int64\n"
     ]
    }
   ],
   "source": [
    "# item_payment의 값을 내림차순으로 정렬하고 상위 10개 도출하기\n",
    "# [[YOUR CODE]]\n",
    "temp_paymentbymenu_SORT = temp_paymentbymenu.sort_values(ascending=False)\n",
    "print(\"item_payment 상위10개\",temp_paymentbymenu_SORT[:10])\n"
   ]
  },
  {
   "cell_type": "code",
   "execution_count": 19,
   "id": "8d285707",
   "metadata": {},
   "outputs": [
    {
     "data": {
      "image/png": "[encoded data removed]",
      "text/plain": [
       "<Figure size 1080x432 with 1 Axes>"
      ]
     },
     "metadata": {
      "needs_background": "light"
     },
     "output_type": "display_data"
    }
   ],
   "source": [
    "# 집계 결과 시각화하기\n",
    "# [[YOUR CODE]]\n",
    "plt.figure(figsize=(15,6))\n",
    "ax = plt.bar(temp_paymentbymenu_SORT[:10].index, temp_paymentbymenu_SORT[:10])\n",
    "plt.bar_label(ax, labels=[f'{x:,.0f}' for x in ax.datavalues], label_type='center')\n",
    "plt.title('item_payment by Best10_Menu')\n",
    "plt.show()"
   ]
  },
  {
   "cell_type": "markdown",
   "id": "e221436d",
   "metadata": {},
   "source": [
    "필수 문제3: 가장 많이 팔린 입장권 종류(entry_data를 이용합니다.)\n",
    "여러 입장권 종류를 판매 매출(판매 개수 x 금액) 순으로 정렬하고 상위 10개를 뽑아 결과를 시각화해봅니다.\n",
    "힌트: value_counts() 함수를 사용하세요."
   ]
  },
  {
   "cell_type": "code",
   "execution_count": 20,
   "id": "7b6de813",
   "metadata": {},
   "outputs": [],
   "source": [
    "# 활용할 데이터(entry_data)를 temp_var로 정의하기\n",
    "# [[YOUR CODE]]\n",
    "temp_var = entry_data.copy()"
   ]
  },
  {
   "cell_type": "code",
   "execution_count": 21,
   "id": "cd9f9c8f",
   "metadata": {},
   "outputs": [
    {
     "name": "stdout",
     "output_type": "stream",
     "text": [
      "<class 'numpy.int64'>\n"
     ]
    }
   ],
   "source": [
    "# temp_var의 금액을 숫자형태로 변환하기\n",
    "# [[YOUR CODE]]\n",
    "temp_var['금액'] = pd.to_numeric(temp_var['금액'])\n",
    "print(type(temp_var['금액'][0]))"
   ]
  },
  {
   "cell_type": "code",
   "execution_count": 22,
   "id": "74421453",
   "metadata": {},
   "outputs": [
    {
     "name": "stdout",
     "output_type": "stream",
     "text": [
      "요금제명\n",
      "18시이후 무제한           1330500\n",
      "1시간                   90000\n",
      "1시간 요금제               14000\n",
      "3시간                   21000\n",
      "기간권                       0\n",
      "무제한 입장권             1568600\n",
      "무제한(일반요금)              6000\n",
      "무제한(한국대생)             14000\n",
      "시간 요금제(1시간당)          25000\n",
      "시간권                       0\n",
      "시간요금제                 12300\n",
      "시간요금제(1시간)          2665500\n",
      "시간요금제(1시간당)           22500\n",
      "시간요금제(3시간)          2042000\n",
      "심야-조조무제한            6221000\n",
      "심야-조조무제한(06시까지)    11600000\n",
      "이용권                       0\n",
      "입장권(종일권)           23570500\n",
      "조조무제한                693000\n",
      "종일요금제                233000\n",
      "한국대생 무제한 입장권        5207500\n",
      "한국대생 입장권(종일권)      70037000\n",
      "Name: 금액, dtype: int64\n"
     ]
    }
   ],
   "source": [
    "# temp_var의 금액을 요금제명을 기준으로 집계하기\n",
    "# [[YOUR CODE]]\n",
    "temp_salebyitem = temp_var['금액'].groupby(temp_var['요금제명']).sum()\n",
    "print(temp_salebyitem)"
   ]
  },
  {
   "cell_type": "code",
   "execution_count": 23,
   "id": "ba0e7d9f",
   "metadata": {},
   "outputs": [
    {
     "name": "stdout",
     "output_type": "stream",
     "text": [
      "item_sale 상위10개 요금제명\n",
      "한국대생 입장권(종일권)      70037000\n",
      "입장권(종일권)           23570500\n",
      "심야-조조무제한(06시까지)    11600000\n",
      "심야-조조무제한            6221000\n",
      "한국대생 무제한 입장권        5207500\n",
      "시간요금제(1시간)          2665500\n",
      "시간요금제(3시간)          2042000\n",
      "무제한 입장권             1568600\n",
      "18시이후 무제한           1330500\n",
      "조조무제한                693000\n",
      "Name: 금액, dtype: int64\n"
     ]
    }
   ],
   "source": [
    "# tickets의 값을 내림차순으로 정렬하고 상위 10개 도출하기\n",
    "# [[YOUR CODE]]\n",
    "temp_salebyitem_SORT = temp_salebyitem.sort_values(ascending=False)\n",
    "print(\"item_sale 상위10개\",temp_salebyitem_SORT[:10])\n"
   ]
  },
  {
   "cell_type": "code",
   "execution_count": 24,
   "id": "c35b6f12",
   "metadata": {},
   "outputs": [
    {
     "data": {
      "image/png": "[encoded data removed]",
      "text/plain": [
       "<Figure size 1080x432 with 1 Axes>"
      ]
     },
     "metadata": {
      "needs_background": "light"
     },
     "output_type": "display_data"
    }
   ],
   "source": [
    "# 집계 결과 시각화하기\n",
    "# [[YOUR CODE]]\n",
    "plt.figure(figsize=(15,6))\n",
    "ax = plt.bar(temp_salebyitem_SORT[:10].index,temp_salebyitem_SORT[:10][:10])\n",
    "plt.bar_label(ax, labels=[f'{x:,.0f}' for x in ax.datavalues], label_type='center')\n",
    "plt.title('item_sale by Best10_thicket')\n",
    "plt.show()"
   ]
  },
  {
   "cell_type": "markdown",
   "id": "140ca682",
   "metadata": {},
   "source": [
    "## 내가 정의한 문제 해결하기\n",
    "\n",
    "- (1).경영환경및 현황분석\n",
    "- (2).수익모델관련 제반 현황 및 문제점,강점분석\n",
    "- (3).성장을위한 경영(운영)전략\n",
    "\n",
    "-핵심 문제: 모두카페의 상태는 어떤가?: 월별 매출액 추세/ 가장 인기있는 음식,음료/가장 많이 팔린 입장권 종류\n"
   ]
  },
  {
   "cell_type": "markdown",
   "id": "31970656",
   "metadata": {},
   "source": [
    "월별 매출액 추세"
   ]
  },
  {
   "cell_type": "code",
   "execution_count": 25,
   "id": "5c47dafa",
   "metadata": {},
   "outputs": [
    {
     "data": {
      "image/png": "[encoded data removed]",
      "text/plain": [
       "<Figure size 1080x432 with 1 Axes>"
      ]
     },
     "metadata": {
      "needs_background": "light"
     },
     "output_type": "display_data"
    }
   ],
   "source": [
    "plt.figure(figsize=(15,6))\n",
    "ax = plt.bar(grouped.index, grouped)\n",
    "plt.bar_label(ax, labels=[f'{x:,.0f}' for x in ax.datavalues], label_type='center')\n",
    "plt.title('Payments by Month')\n",
    "plt.show()\n"
   ]
  },
  {
   "cell_type": "markdown",
   "id": "858afbc3",
   "metadata": {},
   "source": [
    "가장 인기있는 음식/음료"
   ]
  },
  {
   "cell_type": "code",
   "execution_count": 26,
   "id": "d470f4ff",
   "metadata": {},
   "outputs": [
    {
     "data": {
      "image/png": "[encoded data removed]",
      "text/plain": [
       "<Figure size 1080x432 with 1 Axes>"
      ]
     },
     "metadata": {
      "needs_background": "light"
     },
     "output_type": "display_data"
    }
   ],
   "source": [
    "plt.figure(figsize=(15,6))\n",
    "ax = plt.bar(temp_paymentbymenu_SORT[:10].index, temp_paymentbymenu_SORT[:10])\n",
    "plt.bar_label(ax, labels=[f'{x:,.0f}' for x in ax.datavalues], label_type='center')\n",
    "plt.title('item_payment by Best10_Menu')\n",
    "plt.show()"
   ]
  },
  {
   "cell_type": "markdown",
   "id": "6f7b7da2",
   "metadata": {},
   "source": [
    "가장 많이 팔린 입장권 종류"
   ]
  },
  {
   "cell_type": "code",
   "execution_count": 27,
   "id": "a681230a",
   "metadata": {},
   "outputs": [
    {
     "data": {
      "image/png": "[encoded data removed]",
      "text/plain": [
       "<Figure size 1080x432 with 1 Axes>"
      ]
     },
     "metadata": {
      "needs_background": "light"
     },
     "output_type": "display_data"
    }
   ],
   "source": [
    "plt.figure(figsize=(15,6))\n",
    "ax = plt.bar(temp_salebyitem_SORT[:10].index,temp_salebyitem_SORT[:10][:10])\n",
    "plt.bar_label(ax, labels=[f'{x:,.0f}' for x in ax.datavalues], label_type='center')\n",
    "plt.title('item_sale by Best10_thicket')\n",
    "plt.show()"
   ]
  },
  {
   "cell_type": "markdown",
   "id": "48c578d1",
   "metadata": {},
   "source": [
    "### (1). 경영환경및 현황분석\n",
    "\n",
    "1. 상권분석: 한국대학이 부근에 있어, 한국대생이 주고객을 이루고, 일반 학생들도 고객층으로 작은 비중이나마 연결되어 있는 대학가 주변의\n",
    "          환경으로 보임,  데이터상에 주변 경쟁 스터디카페의 개수가 없어, 경쟁환경은 분석이 어려움\n",
    "2. 내부 경영현황분석: 직원수가 데이터에 없어, 카페관리및 운영에 어느 정도의 인건비가 드는지 파악곤란하나, 적은 인원으로 자동판매기와, 자동입실,퇴실 체크하는 시스템으로 인건비를 절감하고 있는 것으로 보임,그리고, 전체 영업비용은 기록 유지 관리되지 않는 것으로 보임\n",
    "\n",
    "3. 매출 모니터링: 매출기록이 음식료에의한 것뿐으로, 티켓 판매금액과 합산하여, 월별매출추이를 볼필요있슴\n",
    " "
   ]
  },
  {
   "cell_type": "markdown",
   "id": "27b23431",
   "metadata": {},
   "source": [
    "티켓월별매출보기 및 음식료매출과 합산보기"
   ]
  },
  {
   "cell_type": "code",
   "execution_count": 28,
   "id": "3f5bce77",
   "metadata": {},
   "outputs": [
    {
     "name": "stdout",
     "output_type": "stream",
     "text": [
      "0        2022-04\n",
      "1        2022-04\n",
      "2        2022-04\n",
      "3        2022-04\n",
      "4        2022-04\n",
      "          ...   \n",
      "22550    2021-02\n",
      "22551    2021-02\n",
      "22552    2021-02\n",
      "22553    2021-02\n",
      "22554    2021-02\n",
      "Name: date, Length: 22555, dtype: object\n",
      "date\n",
      "2021-02      292800\n",
      "2021-03     9831500\n",
      "2021-04    16440000\n",
      "2021-05    15073500\n",
      "2021-06    15856500\n",
      "2021-07     4783000\n",
      "2021-08     3837000\n",
      "2021-09     3815000\n",
      "2021-10     9202500\n",
      "2021-11    15157000\n",
      "2021-12    13093000\n",
      "2022-01     4815500\n",
      "2022-02     4024500\n",
      "2022-03     8821000\n",
      "2022-04      330600\n",
      "Name: 금액, dtype: int64\n",
      "count    1.500000e+01\n",
      "mean     8.358227e+06\n",
      "std      5.688733e+06\n",
      "min      2.928000e+05\n",
      "25%      3.930750e+06\n",
      "50%      8.821000e+06\n",
      "75%      1.408325e+07\n",
      "max      1.644000e+07\n",
      "Name: 금액, dtype: float64\n"
     ]
    },
    {
     "data": {
      "image/png": "[encoded data removed]",
      "text/plain": [
       "<Figure size 1080x432 with 1 Axes>"
      ]
     },
     "metadata": {
      "needs_background": "light"
     },
     "output_type": "display_data"
    }
   ],
   "source": [
    "# entry data 저장변수인 temp_var의 금액을 월별을 기준으로 집계하기\n",
    "temp_var['date'] = temp_var['입실'].str[:7]\n",
    "print(temp_var['date'])\n",
    "\n",
    "# 월별 티케매출금\n",
    "temp_thicketsalebymonth = temp_var['금액'].groupby(temp_var['date']).sum()\n",
    "print(temp_thicketsalebymonth)\n",
    "\n",
    "# 월 평균 매출금\n",
    "month_num = len(temp_var['date'])\n",
    "print(temp_thicketsalebymonth.describe())\n",
    "\n",
    "#plot\n",
    "plt.figure(figsize=(15,6))\n",
    "ax = plt.bar(temp_thicketsalebymonth.index, temp_thicketsalebymonth)\n",
    "plt.bar_label(ax, labels=[f'{x:,.0f}' for x in ax.datavalues], label_type='center')\n",
    "plt.title('thicketsale by Month')\n",
    "plt.show()"
   ]
  },
  {
   "cell_type": "code",
   "execution_count": 29,
   "id": "c2873608",
   "metadata": {},
   "outputs": [
    {
     "name": "stdout",
     "output_type": "stream",
     "text": [
      "월별총매출 date\n",
      "2021-02      299800\n",
      "2021-03    11936000\n",
      "2021-04    19556600\n",
      "2021-05    17610500\n",
      "2021-06    19478000\n",
      "2021-07     5998000\n",
      "2021-08     5066000\n",
      "2021-09     5012500\n",
      "2021-10    11341000\n",
      "2021-11    17905500\n",
      "2021-12    16383000\n",
      "2022-01     6246000\n",
      "2022-02     5206000\n",
      "2022-03    10691900\n",
      "2022-04      380500\n",
      "dtype: int64\n"
     ]
    },
    {
     "data": {
      "image/png": "[encoded data removed]",
      "text/plain": [
       "<Figure size 1080x432 with 1 Axes>"
      ]
     },
     "metadata": {
      "needs_background": "light"
     },
     "output_type": "display_data"
    }
   ],
   "source": [
    "# 티켓매출과 음식료매출 합산보기\n",
    "total_sales_money_by_month = temp_thicketsalebymonth + grouped\n",
    "print(\"월별총매출\",total_sales_money_by_month)\n",
    "\n",
    "# plot\n",
    "plt.figure(figsize=(15,6))\n",
    "ax = plt.bar(total_sales_money_by_month.index, total_sales_money_by_month)\n",
    "plt.bar_label(ax, labels=[f'{x:,.0f}' for x in ax.datavalues], label_type='center')\n",
    "plt.title('Total_Sales_money_by_Month')\n",
    "plt.show()"
   ]
  },
  {
   "cell_type": "markdown",
   "id": "47ae72a0",
   "metadata": {},
   "source": [
    "##### 총합산 매출 추이 분석\n",
    "\n",
    "mean     8.358227e+06\n",
    "std      5.688733e+06\n",
    "min      2.928000e+05\n",
    "25%      3.930750e+06\n",
    "50%      8.821000e+06\n",
    "75%      1.408325e+07\n",
    "max      1.644000e+07\n",
    "\n",
    "상기의 describe 정보를 보면, 월평균 8,358,227원의 매출을 올렸고, 최대 16,440,000 원, 최소 2,928,000원이며, 표준편차가 3분위75%를\n",
    "초과하는 것으로보아, 월별 변동성이 심한 것을 알수 있슴\n",
    "즉, 학기중 중간고사,기말고사때는 매출급증, 방학때는 매출급감하는 시즌형수익모델을 갖고 있슴"
   ]
  },
  {
   "cell_type": "markdown",
   "id": "98e68908",
   "metadata": {},
   "source": [
    "### (2).수익모델관련 제반 현황 및 문제점,강점분석\n",
    "\n",
    "모두카페의 수익모델은 시즌형 수익구조를 갖고 있어, 비용절감및 매출증대 잠재력등 다양한 개선가능\n",
    "\n",
    "(1) 강점\n",
    "\n",
    "   1. 넉넉한 공간: 최대매출을 올리는 학기중인 4~6월을 보면, 카페에 수용인원이 넉넉한 공간을 구비한 것으로 보임\n",
    "   \n",
    "   2. 100여가지에 이르는 다양한 음식료메뉴 및 자판기 보유\n",
    "   \n",
    "(2) 약점   \n",
    "   \n",
    "   1. 회계시스템 미비로 버는 돈이 얼마나 새는지, 실제로 순이익이 얼마인지 파악이 않됨  \n",
    "   \n",
    "   2. 넉넉한 공간이 방학때는 그 공간이 많이 남아돌아, 임대료 효율  및 자판기효율, 직원인건비등이 부담될것으로 보임\n"
   ]
  },
  {
   "cell_type": "markdown",
   "id": "349db682",
   "metadata": {},
   "source": [
    "# 4. 전략 수립 및 실행\n",
    "아래 질문에 답을 하며 분석을 평가하고, 앞으로의 전략을 수립해봅시다.\n",
    "\n",
    "여러분, 처음 목표했던 분석은 달성되었나요? '모두카페'에게 어떤 전략을 제안할 수 있나요?\n",
    "\n",
    "전략제시해주세요"
   ]
  },
  {
   "cell_type": "markdown",
   "id": "5205e2d6",
   "metadata": {},
   "source": [
    "### [제시 전략]\n",
    " \n",
    " 1. 시즌형 수익모델의 단점인 비수기 매출증대방안\n",
    "    \n",
    "    ##### 방학특별할인으로 티켓을 보다 더 저렴하게 판매 및 홍보로, 방학매출증대와 함께,입실한 학생들이 자판기를 통한 음식료매출증대유발  (평소할인폭보다 더 크게하되, 음식료부문 매출증대와의 tradeoff 계산필요)\n",
    "    \n",
    "    \n",
    " 2. 자영업이지만 기본 경영관리시스템 도입\n",
    "    \n",
    "    ##### -수익뿐 아니라, 비용등 기록하며, 월단위 매출및 비용현황을 파악할수 있는 소프트웨어 설치및 담당 직원 업무분장 지정 \n",
    "    \n",
    "    ##### -월단위 영업 및 관리회의개최로 사장이  항상 영업현황파악가능토고하고, 관련 대책수립: 직원이  1~3명으로 적더라도 개최\n",
    "    \n",
    "    \n",
    " 3. 기타\n",
    " \n",
    "    ##### - 한국대힉외 주변 중고생 및 직장인들에 홍보방안 강구"
   ]
  },
  {
   "cell_type": "code",
   "execution_count": null,
   "id": "9269f62a",
   "metadata": {},
   "outputs": [],
   "source": []
  },
  {
   "cell_type": "code",
   "execution_count": null,
   "id": "c6cee42e",
   "metadata": {},
   "outputs": [],
   "source": []
  }
 ],
 "metadata": {
  "kernelspec": {
   "display_name": "Python 3 (ipykernel)",
   "language": "python",
   "name": "python3"
  },
  "language_info": {
   "codemirror_mode": {
    "name": "ipython",
    "version": 3
   },
   "file_extension": ".py",
   "mimetype": "text/x-python",
   "name": "python",
   "nbconvert_exporter": "python",
   "pygments_lexer": "ipython3",
   "version": "3.9.7"
  }
 },
 "nbformat": 4,
 "nbformat_minor": 5
}
